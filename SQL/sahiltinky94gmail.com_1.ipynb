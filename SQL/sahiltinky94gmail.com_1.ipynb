{
 "cells": [
  {
   "cell_type": "markdown",
   "metadata": {
    "colab_type": "text",
    "id": "IUAM3R6TkBxH"
   },
   "source": [
    "# SQL Assignment"
   ]
  },
  {
   "cell_type": "code",
   "execution_count": 2,
   "metadata": {
    "colab": {},
    "colab_type": "code",
    "id": "c3p_l5f8kBxJ"
   },
   "outputs": [],
   "source": [
    "import pandas as pd\n",
    "import sqlite3"
   ]
  },
  {
   "cell_type": "code",
   "execution_count": 3,
   "metadata": {
    "colab": {},
    "colab_type": "code",
    "id": "QStUqaSZkBxM"
   },
   "outputs": [],
   "source": [
    "conn = sqlite3.connect(\"Db-IMDB-Assignment.db\")"
   ]
  },
  {
   "cell_type": "code",
   "execution_count": 15,
   "metadata": {},
   "outputs": [
    {
     "data": {
      "text/plain": [
       "<sqlite3.Cursor at 0x1d0b21d8960>"
      ]
     },
     "execution_count": 15,
     "metadata": {},
     "output_type": "execute_result"
    }
   ],
   "source": [
    "# http://www.appliedaicourse.com/lecture/11/applied-machine-learning-online-course/4142/assignment-22-sql-assignment-on-imdb-data/1/module-1-fundamentals-of-programming#comment91709\n",
    "# Preprocessed the DB\n",
    "\n",
    "cursor = conn.cursor()\n",
    "# Movie table\n",
    "cursor.execute('UPDATE Movie SET year = REPLACE(year, \"I\", \"\");')\n",
    "cursor.execute('UPDATE Movie SET year = REPLACE(year, \"V\", \"\");')\n",
    "cursor.execute('UPDATE Movie SET year = REPLACE(year, \"X \", \"\");')\n",
    "cursor.execute('UPDATE Movie SET title = TRIM(title);')\n",
    "cursor.execute('UPDATE Movie SET year = TRIM(year);')\n",
    "cursor.execute('UPDATE Movie SET rating = TRIM(rating);')\n",
    "cursor.execute('UPDATE Movie SET num_votes = TRIM(num_votes);')\n",
    "\n",
    "# M_Producer\n",
    "cursor.execute('UPDATE M_Producer SET PID = TRIM(PID);')\n",
    "cursor.execute('UPDATE M_Producer SET MID = TRIM(MID);')\n",
    "\n",
    "# M_Director\n",
    "cursor.execute('UPDATE M_Director SET PID = TRIM(PID);')\n",
    "cursor.execute('UPDATE M_Director SET MID = TRIM(MID);')\n",
    "\n",
    "# M_Cast\n",
    "cursor.execute('UPDATE M_Cast SET PID = TRIM(PID);')\n",
    "cursor.execute('UPDATE M_Cast SET MID = TRIM(MID);')\n",
    "\n",
    "# M_Genre\n",
    "cursor.execute('UPDATE M_Genre SET GID = TRIM(GID);')\n",
    "cursor.execute('UPDATE M_Genre SET MID = TRIM(MID);')\n",
    "\n",
    "# Genre\n",
    "cursor.execute('UPDATE Genre SET GID = TRIM(GID);')\n",
    "cursor.execute('UPDATE Genre SET Name = TRIM(Name);')\n",
    "\n",
    "# Person\n",
    "cursor.execute('UPDATE Person SET Name = TRIM(Name);')\n",
    "cursor.execute('UPDATE Person SET PID = TRIM(PID);')\n",
    "cursor.execute('UPDATE Person SET Gender = TRIM(Gender);')\n",
    "\n",
    "#conn.commit() temporary ( un-comment it to make permanent)"
   ]
  },
  {
   "cell_type": "markdown",
   "metadata": {
    "colab_type": "text",
    "id": "_3UFrEtmkBxP"
   },
   "source": [
    "## Sample Code"
   ]
  },
  {
   "cell_type": "code",
   "execution_count": 105,
   "metadata": {
    "colab": {
     "base_uri": "https://localhost:8080/",
     "height": 168
    },
    "colab_type": "code",
    "executionInfo": {
     "elapsed": 1235,
     "status": "ok",
     "timestamp": 1582974760460,
     "user": {
      "displayName": "Sahil -",
      "photoUrl": "",
      "userId": "14051148522636395588"
     },
     "user_tz": -330
    },
    "id": "Y1duFx8bkBxQ",
    "outputId": "874a6de8-c3a4-4f22-9197-1235c8b88d73"
   },
   "outputs": [
    {
     "name": "stdout",
     "output_type": "stream",
     "text": [
      "(1, 1)\n",
      "Wall time: 1.99 ms\n"
     ]
    },
    {
     "data": {
      "text/html": [
       "<div>\n",
       "<style scoped>\n",
       "    .dataframe tbody tr th:only-of-type {\n",
       "        vertical-align: middle;\n",
       "    }\n",
       "\n",
       "    .dataframe tbody tr th {\n",
       "        vertical-align: top;\n",
       "    }\n",
       "\n",
       "    .dataframe thead th {\n",
       "        text-align: right;\n",
       "    }\n",
       "</style>\n",
       "<table border=\"1\" class=\"dataframe\">\n",
       "  <thead>\n",
       "    <tr style=\"text-align: right;\">\n",
       "      <th></th>\n",
       "      <th>count(*)</th>\n",
       "    </tr>\n",
       "  </thead>\n",
       "  <tbody>\n",
       "    <tr>\n",
       "      <th>0</th>\n",
       "      <td>3475</td>\n",
       "    </tr>\n",
       "  </tbody>\n",
       "</table>\n",
       "</div>"
      ],
      "text/plain": [
       "   count(*)\n",
       "0      3475"
      ]
     },
     "execution_count": 105,
     "metadata": {},
     "output_type": "execute_result"
    }
   ],
   "source": [
    "%%time\n",
    "# Write your sql query below\n",
    "\n",
    "query = \"\"\"\n",
    "        SELECT count(*)\n",
    "        FROM Movie\n",
    "        \n",
    "        \"\"\"\n",
    "\n",
    "q = pd.read_sql_query(query, conn)    \n",
    "print(q.shape)\n",
    "q.head()"
   ]
  },
  {
   "cell_type": "markdown",
   "metadata": {
    "colab_type": "text",
    "id": "Kh_4rydhkBxT"
   },
   "source": [
    "## Q1 --- List all the directors who directed a 'Comedy' movie in a leap year. (You need to check that the genre is 'Comedy’ and year is a leap year) Your query should return director name, the movie name, and the year."
   ]
  },
  {
   "cell_type": "code",
   "execution_count": 39,
   "metadata": {},
   "outputs": [
    {
     "name": "stdout",
     "output_type": "stream",
     "text": [
      "(232, 3)\n",
      "Wall time: 49.5 ms\n"
     ]
    },
    {
     "data": {
      "text/html": [
       "<div>\n",
       "<style scoped>\n",
       "    .dataframe tbody tr th:only-of-type {\n",
       "        vertical-align: middle;\n",
       "    }\n",
       "\n",
       "    .dataframe tbody tr th {\n",
       "        vertical-align: top;\n",
       "    }\n",
       "\n",
       "    .dataframe thead th {\n",
       "        text-align: right;\n",
       "    }\n",
       "</style>\n",
       "<table border=\"1\" class=\"dataframe\">\n",
       "  <thead>\n",
       "    <tr style=\"text-align: right;\">\n",
       "      <th></th>\n",
       "      <th>Name</th>\n",
       "      <th>title</th>\n",
       "      <th>year</th>\n",
       "    </tr>\n",
       "  </thead>\n",
       "  <tbody>\n",
       "    <tr>\n",
       "      <th>0</th>\n",
       "      <td>Amit Mitra</td>\n",
       "      <td>Jagte Raho</td>\n",
       "      <td>1956</td>\n",
       "    </tr>\n",
       "    <tr>\n",
       "      <th>1</th>\n",
       "      <td>Chetan Anand</td>\n",
       "      <td>Funtoosh</td>\n",
       "      <td>1956</td>\n",
       "    </tr>\n",
       "    <tr>\n",
       "      <th>2</th>\n",
       "      <td>Satyen Bose</td>\n",
       "      <td>Jagriti</td>\n",
       "      <td>1956</td>\n",
       "    </tr>\n",
       "    <tr>\n",
       "      <th>3</th>\n",
       "      <td>Mohan Segal</td>\n",
       "      <td>New Delhi</td>\n",
       "      <td>1956</td>\n",
       "    </tr>\n",
       "    <tr>\n",
       "      <th>4</th>\n",
       "      <td>S.U. Sunny</td>\n",
       "      <td>Kohinoor</td>\n",
       "      <td>1960</td>\n",
       "    </tr>\n",
       "  </tbody>\n",
       "</table>\n",
       "</div>"
      ],
      "text/plain": [
       "           Name       title  year\n",
       "0    Amit Mitra  Jagte Raho  1956\n",
       "1  Chetan Anand    Funtoosh  1956\n",
       "2   Satyen Bose     Jagriti  1956\n",
       "3   Mohan Segal   New Delhi  1956\n",
       "4    S.U. Sunny    Kohinoor  1960"
      ]
     },
     "execution_count": 39,
     "metadata": {},
     "output_type": "execute_result"
    }
   ],
   "source": [
    "%%time\n",
    "# Write your sql query below\n",
    "\n",
    "query = \"\"\"\n",
    "        SELECT p.Name,m.title,m.year as year\n",
    "        FROM Movie AS m, Person AS p, Genre AS g, M_Director AS md, M_Genre AS mg\n",
    "        WHERE mg.GID = g.GID and mg.MID = md.MID and md.PID = p.PID and md.MID = m.MID\n",
    "        AND g.GID IN (SELECT distinct GID\n",
    "        FROM Genre\n",
    "        where Name like '%Comedy%')\n",
    "        AND (((m.year % 4 == 0) AND (m.year % 100 != 0)) OR (m.year % 400 == 0))\n",
    "        ORDER BY m.year ASC\n",
    "      \n",
    "        \"\"\"\n",
    "\n",
    "q1 = pd.read_sql_query(query, conn)    \n",
    "print(q1.shape)\n",
    "q1.head()"
   ]
  },
  {
   "cell_type": "markdown",
   "metadata": {
    "colab_type": "text",
    "id": "K1Vs63uakBxW"
   },
   "source": [
    "## Q2 --- List the names of all the actors who played in the movie 'Anand' (1971)"
   ]
  },
  {
   "cell_type": "code",
   "execution_count": 7,
   "metadata": {
    "colab": {
     "base_uri": "https://localhost:8080/",
     "height": 170
    },
    "colab_type": "code",
    "executionInfo": {
     "elapsed": 1044,
     "status": "ok",
     "timestamp": 1582903656561,
     "user": {
      "displayName": "Sahil -",
      "photoUrl": "",
      "userId": "14051148522636395588"
     },
     "user_tz": -330
    },
    "id": "dwgHWturkBxX",
    "outputId": "9df2f64d-c034-434f-adb3-68d8f6c2975a"
   },
   "outputs": [
    {
     "name": "stdout",
     "output_type": "stream",
     "text": [
      "(17, 1)\n",
      "Wall time: 119 ms\n"
     ]
    },
    {
     "data": {
      "text/html": [
       "<div>\n",
       "<style scoped>\n",
       "    .dataframe tbody tr th:only-of-type {\n",
       "        vertical-align: middle;\n",
       "    }\n",
       "\n",
       "    .dataframe tbody tr th {\n",
       "        vertical-align: top;\n",
       "    }\n",
       "\n",
       "    .dataframe thead th {\n",
       "        text-align: right;\n",
       "    }\n",
       "</style>\n",
       "<table border=\"1\" class=\"dataframe\">\n",
       "  <thead>\n",
       "    <tr style=\"text-align: right;\">\n",
       "      <th></th>\n",
       "      <th>Name</th>\n",
       "    </tr>\n",
       "  </thead>\n",
       "  <tbody>\n",
       "    <tr>\n",
       "      <th>0</th>\n",
       "      <td>Amitabh Bachchan</td>\n",
       "    </tr>\n",
       "    <tr>\n",
       "      <th>1</th>\n",
       "      <td>Rajesh Khanna</td>\n",
       "    </tr>\n",
       "    <tr>\n",
       "      <th>2</th>\n",
       "      <td>Brahm Bhardwaj</td>\n",
       "    </tr>\n",
       "    <tr>\n",
       "      <th>3</th>\n",
       "      <td>Ramesh Deo</td>\n",
       "    </tr>\n",
       "    <tr>\n",
       "      <th>4</th>\n",
       "      <td>Seema Deo</td>\n",
       "    </tr>\n",
       "  </tbody>\n",
       "</table>\n",
       "</div>"
      ],
      "text/plain": [
       "               Name\n",
       "0  Amitabh Bachchan\n",
       "1     Rajesh Khanna\n",
       "2    Brahm Bhardwaj\n",
       "3        Ramesh Deo\n",
       "4         Seema Deo"
      ]
     },
     "execution_count": 7,
     "metadata": {},
     "output_type": "execute_result"
    }
   ],
   "source": [
    "%%time\n",
    "# Write your sql query below\n",
    "\n",
    "query = \"\"\"\n",
    "        SELECT distinct(p.Name) \n",
    "        FROM Person AS p, M_Cast AS mc, Movie AS m \n",
    "        WHERE mc.PID = p.PID AND mc.MID = m.MID AND m.year = 1971 AND m.title='Anand'\n",
    "        \n",
    "        \"\"\"\n",
    "\n",
    "q2 = pd.read_sql_query(query, conn)    \n",
    "print(q2.shape)\n",
    "q2.head()"
   ]
  },
  {
   "cell_type": "markdown",
   "metadata": {
    "colab_type": "text",
    "id": "Dj0JTaDIkBxa"
   },
   "source": [
    "## Q3 --- List all the actors who acted in a film before 1970 and in a film after 1990. (That is: < 1970 and > 1990.)"
   ]
  },
  {
   "cell_type": "code",
   "execution_count": 41,
   "metadata": {
    "colab": {
     "base_uri": "https://localhost:8080/",
     "height": 170
    },
    "colab_type": "code",
    "executionInfo": {
     "elapsed": 1255,
     "status": "ok",
     "timestamp": 1582903659368,
     "user": {
      "displayName": "Sahil -",
      "photoUrl": "",
      "userId": "14051148522636395588"
     },
     "user_tz": -330
    },
    "id": "AJZpVsa1kBxa",
    "outputId": "b2aaa9a7-4811-4f35-fcd5-5e07e4ce753f"
   },
   "outputs": [
    {
     "name": "stdout",
     "output_type": "stream",
     "text": [
      "(424, 1)\n",
      "Wall time: 399 ms\n"
     ]
    },
    {
     "data": {
      "text/html": [
       "<div>\n",
       "<style scoped>\n",
       "    .dataframe tbody tr th:only-of-type {\n",
       "        vertical-align: middle;\n",
       "    }\n",
       "\n",
       "    .dataframe tbody tr th {\n",
       "        vertical-align: top;\n",
       "    }\n",
       "\n",
       "    .dataframe thead th {\n",
       "        text-align: right;\n",
       "    }\n",
       "</style>\n",
       "<table border=\"1\" class=\"dataframe\">\n",
       "  <thead>\n",
       "    <tr style=\"text-align: right;\">\n",
       "      <th></th>\n",
       "      <th>Name</th>\n",
       "    </tr>\n",
       "  </thead>\n",
       "  <tbody>\n",
       "    <tr>\n",
       "      <th>0</th>\n",
       "      <td>A.K. Hangal</td>\n",
       "    </tr>\n",
       "    <tr>\n",
       "      <th>1</th>\n",
       "      <td>Aachi Manorama</td>\n",
       "    </tr>\n",
       "    <tr>\n",
       "      <th>2</th>\n",
       "      <td>Abbas</td>\n",
       "    </tr>\n",
       "    <tr>\n",
       "      <th>3</th>\n",
       "      <td>Abdul</td>\n",
       "    </tr>\n",
       "    <tr>\n",
       "      <th>4</th>\n",
       "      <td>Abhi Bhattacharya</td>\n",
       "    </tr>\n",
       "  </tbody>\n",
       "</table>\n",
       "</div>"
      ],
      "text/plain": [
       "                Name\n",
       "0        A.K. Hangal\n",
       "1     Aachi Manorama\n",
       "2              Abbas\n",
       "3              Abdul\n",
       "4  Abhi Bhattacharya"
      ]
     },
     "execution_count": 41,
     "metadata": {},
     "output_type": "execute_result"
    }
   ],
   "source": [
    "%%time\n",
    "# Write your sql query below\n",
    "\n",
    "query = \"\"\"\n",
    "        SELECT distinct(p.Name) \n",
    "        FROM Movie AS m, Person AS p, M_Cast AS mc\n",
    "        WHERE mc.MID = m.MID AND mc.PID = p.PID AND m.year > 1990\n",
    "        INTERSECT\n",
    "        SELECT distinct(p.Name) \n",
    "        FROM Movie AS m, Person AS p, M_Cast AS mc \n",
    "        WHERE mc.MID = m.MID AND mc.PID = p.PID AND m.year < 1970\n",
    "        \n",
    "        \"\"\"\n",
    "\n",
    "q3 = pd.read_sql_query(query, conn)    \n",
    "print(q3.shape)\n",
    "q3.head()"
   ]
  },
  {
   "cell_type": "markdown",
   "metadata": {
    "colab_type": "text",
    "id": "ggD314M-kBxc"
   },
   "source": [
    "## Q4 --- List all directors who directed 10 movies or more, in descending order of the number of movies they directed. Return the directors' names and the number of movies each of them directed."
   ]
  },
  {
   "cell_type": "code",
   "execution_count": 20,
   "metadata": {
    "colab": {
     "base_uri": "https://localhost:8080/",
     "height": 119
    },
    "colab_type": "code",
    "executionInfo": {
     "elapsed": 1067,
     "status": "ok",
     "timestamp": 1582905374629,
     "user": {
      "displayName": "Sahil -",
      "photoUrl": "",
      "userId": "14051148522636395588"
     },
     "user_tz": -330
    },
    "id": "z_6XhM-dkBxd",
    "outputId": "08561f73-4b52-4c81-92c0-b6564848138e"
   },
   "outputs": [
    {
     "name": "stdout",
     "output_type": "stream",
     "text": [
      "(58, 2)\n",
      "Wall time: 54.9 ms\n"
     ]
    }
   ],
   "source": [
    "%%time\n",
    "# Write your sql query below\n",
    "\n",
    "query = \"\"\"\n",
    "        SELECT distinct(p.Name), count(m.MID) as Number_of_Movies\n",
    "        FROM M_Director AS md, Person AS p, Movie AS m\n",
    "        WHERE md.PID = p.PID AND md.MID = m.MID\n",
    "        GROUP BY md.PID\n",
    "        HAVING count(m.MID) >= 10\n",
    "        ORDER BY count(m.MID) DESC\n",
    "        \n",
    "        \"\"\"\n",
    "\n",
    "q4 = pd.read_sql_query(query, conn)    \n",
    "print(q4.shape)"
   ]
  },
  {
   "cell_type": "code",
   "execution_count": 21,
   "metadata": {},
   "outputs": [
    {
     "data": {
      "text/html": [
       "<div>\n",
       "<style scoped>\n",
       "    .dataframe tbody tr th:only-of-type {\n",
       "        vertical-align: middle;\n",
       "    }\n",
       "\n",
       "    .dataframe tbody tr th {\n",
       "        vertical-align: top;\n",
       "    }\n",
       "\n",
       "    .dataframe thead th {\n",
       "        text-align: right;\n",
       "    }\n",
       "</style>\n",
       "<table border=\"1\" class=\"dataframe\">\n",
       "  <thead>\n",
       "    <tr style=\"text-align: right;\">\n",
       "      <th></th>\n",
       "      <th>Name</th>\n",
       "      <th>Number_of_Movies</th>\n",
       "    </tr>\n",
       "  </thead>\n",
       "  <tbody>\n",
       "    <tr>\n",
       "      <th>0</th>\n",
       "      <td>David Dhawan</td>\n",
       "      <td>39</td>\n",
       "    </tr>\n",
       "    <tr>\n",
       "      <th>1</th>\n",
       "      <td>Mahesh Bhatt</td>\n",
       "      <td>35</td>\n",
       "    </tr>\n",
       "    <tr>\n",
       "      <th>2</th>\n",
       "      <td>Priyadarshan</td>\n",
       "      <td>30</td>\n",
       "    </tr>\n",
       "    <tr>\n",
       "      <th>3</th>\n",
       "      <td>Ram Gopal Varma</td>\n",
       "      <td>30</td>\n",
       "    </tr>\n",
       "    <tr>\n",
       "      <th>4</th>\n",
       "      <td>Vikram Bhatt</td>\n",
       "      <td>29</td>\n",
       "    </tr>\n",
       "  </tbody>\n",
       "</table>\n",
       "</div>"
      ],
      "text/plain": [
       "              Name  Number_of_Movies\n",
       "0     David Dhawan                39\n",
       "1     Mahesh Bhatt                35\n",
       "2     Priyadarshan                30\n",
       "3  Ram Gopal Varma                30\n",
       "4     Vikram Bhatt                29"
      ]
     },
     "execution_count": 21,
     "metadata": {},
     "output_type": "execute_result"
    }
   ],
   "source": [
    "q4.head()"
   ]
  },
  {
   "cell_type": "markdown",
   "metadata": {
    "colab_type": "text",
    "id": "bYso5vO2kBxg"
   },
   "source": [
    "## Q5.a --- For each year, count the number of movies in that year that had only female actors."
   ]
  },
  {
   "cell_type": "code",
   "execution_count": 6,
   "metadata": {},
   "outputs": [
    {
     "name": "stdout",
     "output_type": "stream",
     "text": [
      "(4, 2)\n",
      "Wall time: 73 ms\n"
     ]
    },
    {
     "data": {
      "text/html": [
       "<div>\n",
       "<style scoped>\n",
       "    .dataframe tbody tr th:only-of-type {\n",
       "        vertical-align: middle;\n",
       "    }\n",
       "\n",
       "    .dataframe tbody tr th {\n",
       "        vertical-align: top;\n",
       "    }\n",
       "\n",
       "    .dataframe thead th {\n",
       "        text-align: right;\n",
       "    }\n",
       "</style>\n",
       "<table border=\"1\" class=\"dataframe\">\n",
       "  <thead>\n",
       "    <tr style=\"text-align: right;\">\n",
       "      <th></th>\n",
       "      <th>year</th>\n",
       "      <th>count(m.MID)</th>\n",
       "    </tr>\n",
       "  </thead>\n",
       "  <tbody>\n",
       "    <tr>\n",
       "      <th>0</th>\n",
       "      <td>1939</td>\n",
       "      <td>1</td>\n",
       "    </tr>\n",
       "    <tr>\n",
       "      <th>1</th>\n",
       "      <td>1999</td>\n",
       "      <td>1</td>\n",
       "    </tr>\n",
       "    <tr>\n",
       "      <th>2</th>\n",
       "      <td>2000</td>\n",
       "      <td>1</td>\n",
       "    </tr>\n",
       "    <tr>\n",
       "      <th>3</th>\n",
       "      <td>2018</td>\n",
       "      <td>1</td>\n",
       "    </tr>\n",
       "  </tbody>\n",
       "</table>\n",
       "</div>"
      ],
      "text/plain": [
       "   year  count(m.MID)\n",
       "0  1939             1\n",
       "1  1999             1\n",
       "2  2000             1\n",
       "3  2018             1"
      ]
     },
     "execution_count": 6,
     "metadata": {},
     "output_type": "execute_result"
    }
   ],
   "source": [
    "%%time\n",
    "# Write your sql query below\n",
    "\n",
    "query = \"\"\"\n",
    "        select CAST(SUBSTR(TRIM(m.year),-4) AS INTEGER) AS year, count(m.MID) from Movie as m where m.MID not in (\n",
    "        SELECT distinct mc.MID from M_Cast as mc where\n",
    "        (trim(mc.PID) IN ( select trim(p.PID) from Person p where ((p.Gender='Male') or (p.Gender is NULL)))) or trim(mc.PID) \n",
    "        is NULL) group by year\n",
    "        \"\"\"\n",
    "\n",
    "q5a = pd.read_sql_query(query, conn)    \n",
    "print(q5a.shape)\n",
    "q5a"
   ]
  },
  {
   "cell_type": "markdown",
   "metadata": {
    "colab_type": "text",
    "id": "QoMAzP_nkBxj"
   },
   "source": [
    "## Q5.b --- Now include a small change: report for each year the percentage of movies in that year with only female actors, and the total number of movies made that year. For example, one answer will be: 1990 31.81 13522 meaning that in 1990 there were 13,522 movies, and 31.81% had only female actors. You do not need to round your answer."
   ]
  },
  {
   "cell_type": "markdown",
   "metadata": {},
   "source": [
    "From my assumption, I calculated as\n",
    "\n",
    "> Calculate female percentage: number of female for that year [answer generated- see prev question q5a]/ total number of movies in that year (incl Male, None, Female)<br>"
   ]
  },
  {
   "cell_type": "code",
   "execution_count": 17,
   "metadata": {},
   "outputs": [
    {
     "name": "stdout",
     "output_type": "stream",
     "text": [
      "(78, 3)\n",
      "Wall time: 258 ms\n"
     ]
    },
    {
     "data": {
      "text/html": [
       "<div>\n",
       "<style scoped>\n",
       "    .dataframe tbody tr th:only-of-type {\n",
       "        vertical-align: middle;\n",
       "    }\n",
       "\n",
       "    .dataframe tbody tr th {\n",
       "        vertical-align: top;\n",
       "    }\n",
       "\n",
       "    .dataframe thead th {\n",
       "        text-align: right;\n",
       "    }\n",
       "</style>\n",
       "<table border=\"1\" class=\"dataframe\">\n",
       "  <thead>\n",
       "    <tr style=\"text-align: right;\">\n",
       "      <th></th>\n",
       "      <th>year</th>\n",
       "      <th>FemalePercentage</th>\n",
       "      <th>TotalMovie</th>\n",
       "    </tr>\n",
       "  </thead>\n",
       "  <tbody>\n",
       "    <tr>\n",
       "      <th>0</th>\n",
       "      <td>1931</td>\n",
       "      <td>0.000000</td>\n",
       "      <td>9</td>\n",
       "    </tr>\n",
       "    <tr>\n",
       "      <th>1</th>\n",
       "      <td>1936</td>\n",
       "      <td>0.000000</td>\n",
       "      <td>47</td>\n",
       "    </tr>\n",
       "    <tr>\n",
       "      <th>2</th>\n",
       "      <td>1939</td>\n",
       "      <td>2.222222</td>\n",
       "      <td>45</td>\n",
       "    </tr>\n",
       "    <tr>\n",
       "      <th>3</th>\n",
       "      <td>1941</td>\n",
       "      <td>0.000000</td>\n",
       "      <td>54</td>\n",
       "    </tr>\n",
       "    <tr>\n",
       "      <th>4</th>\n",
       "      <td>1943</td>\n",
       "      <td>0.000000</td>\n",
       "      <td>14</td>\n",
       "    </tr>\n",
       "    <tr>\n",
       "      <th>...</th>\n",
       "      <td>...</td>\n",
       "      <td>...</td>\n",
       "      <td>...</td>\n",
       "    </tr>\n",
       "    <tr>\n",
       "      <th>73</th>\n",
       "      <td>2014</td>\n",
       "      <td>0.000000</td>\n",
       "      <td>2780</td>\n",
       "    </tr>\n",
       "    <tr>\n",
       "      <th>74</th>\n",
       "      <td>2015</td>\n",
       "      <td>0.000000</td>\n",
       "      <td>2956</td>\n",
       "    </tr>\n",
       "    <tr>\n",
       "      <th>75</th>\n",
       "      <td>2016</td>\n",
       "      <td>0.000000</td>\n",
       "      <td>3315</td>\n",
       "    </tr>\n",
       "    <tr>\n",
       "      <th>76</th>\n",
       "      <td>2017</td>\n",
       "      <td>0.000000</td>\n",
       "      <td>3592</td>\n",
       "    </tr>\n",
       "    <tr>\n",
       "      <th>77</th>\n",
       "      <td>2018</td>\n",
       "      <td>0.033990</td>\n",
       "      <td>2942</td>\n",
       "    </tr>\n",
       "  </tbody>\n",
       "</table>\n",
       "<p>78 rows × 3 columns</p>\n",
       "</div>"
      ],
      "text/plain": [
       "    year  FemalePercentage  TotalMovie\n",
       "0   1931          0.000000           9\n",
       "1   1936          0.000000          47\n",
       "2   1939          2.222222          45\n",
       "3   1941          0.000000          54\n",
       "4   1943          0.000000          14\n",
       "..   ...               ...         ...\n",
       "73  2014          0.000000        2780\n",
       "74  2015          0.000000        2956\n",
       "75  2016          0.000000        3315\n",
       "76  2017          0.000000        3592\n",
       "77  2018          0.033990        2942\n",
       "\n",
       "[78 rows x 3 columns]"
      ]
     },
     "execution_count": 17,
     "metadata": {},
     "output_type": "execute_result"
    }
   ],
   "source": [
    "%%time\n",
    "# Write your sql query below\n",
    "\n",
    "query = \"\"\"\n",
    "        SELECT Y.year, (IFNULL(X.Mov,0)*1.0/Y.Mov)*100 AS FemalePercentage, Y.Mov AS TotalMovie FROM\n",
    "        (select m.year as year, count(m.MID) as Mov from Movie as m, M_Cast as mc, Person as p where\n",
    "        mc.PID = p.PID and mc.MID = m.MID\n",
    "        group by m.year\n",
    "        ORDER BY m.year ASC) AS Y\n",
    "        Left join\n",
    "        (select CAST(SUBSTR(TRIM(m.year),-4) AS INTEGER) AS year, count(m.MID) as Mov from Movie as m where m.MID not in (\n",
    "        SELECT distinct mc.MID from M_Cast as mc where\n",
    "        (trim(mc.PID) IN ( select trim(p.PID) from Person p where ((p.Gender='Male') or (p.Gender is NULL)))) or trim(mc.PID) \n",
    "        is NULL)\n",
    "        group by m.year\n",
    "        ORDER BY m.year ASC) AS X        \n",
    "        on Y.year = X.year\n",
    "        \"\"\"\n",
    "\n",
    "q5b = pd.read_sql_query(query, conn)    \n",
    "print(q5b.shape)\n",
    "q5b"
   ]
  },
  {
   "cell_type": "markdown",
   "metadata": {
    "colab_type": "text",
    "id": "0lnfomNgkBxl"
   },
   "source": [
    "## Q6 --- Find the film(s) with the largest cast. Return the movie title and the size of the cast. By \"cast size\" we mean the number of distinct actors that played in that movie: if an actor played multiple roles, or if it simply occurs multiple times in casts, we still count her/him only once."
   ]
  },
  {
   "cell_type": "code",
   "execution_count": 160,
   "metadata": {
    "colab": {},
    "colab_type": "code",
    "id": "J5GLaqVlkBxm"
   },
   "outputs": [
    {
     "name": "stdout",
     "output_type": "stream",
     "text": [
      "(1, 2)\n",
      "Wall time: 174 ms\n"
     ]
    }
   ],
   "source": [
    "%%time\n",
    "# Write your sql query below\n",
    "\n",
    "query = \"\"\"\n",
    "        SELECT X.* FROM\n",
    "        (Select m.title AS Movie_Name, count(*) AS count_distinct_actor \n",
    "        FROM Movie AS m, Person AS p, M_Cast AS mc\n",
    "        WHERE m.MID = TRIM(mc.MID) AND TRIM(mc.PID) = p.PID\n",
    "        GROUP BY m.title) AS X\n",
    "        ORDER BY X.count_distinct_actor DESC\n",
    "        LIMIT 1\n",
    "        \"\"\"\n",
    "\n",
    "q6 = pd.read_sql_query(query, conn)    \n",
    "print(q6.shape)"
   ]
  },
  {
   "cell_type": "code",
   "execution_count": 32,
   "metadata": {},
   "outputs": [
    {
     "data": {
      "text/html": [
       "<div>\n",
       "<style scoped>\n",
       "    .dataframe tbody tr th:only-of-type {\n",
       "        vertical-align: middle;\n",
       "    }\n",
       "\n",
       "    .dataframe tbody tr th {\n",
       "        vertical-align: top;\n",
       "    }\n",
       "\n",
       "    .dataframe thead th {\n",
       "        text-align: right;\n",
       "    }\n",
       "</style>\n",
       "<table border=\"1\" class=\"dataframe\">\n",
       "  <thead>\n",
       "    <tr style=\"text-align: right;\">\n",
       "      <th></th>\n",
       "      <th>Movie_Name</th>\n",
       "      <th>count_distinct_actor</th>\n",
       "    </tr>\n",
       "  </thead>\n",
       "  <tbody>\n",
       "    <tr>\n",
       "      <th>0</th>\n",
       "      <td>Ocean's Eight</td>\n",
       "      <td>238</td>\n",
       "    </tr>\n",
       "  </tbody>\n",
       "</table>\n",
       "</div>"
      ],
      "text/plain": [
       "      Movie_Name  count_distinct_actor\n",
       "0  Ocean's Eight                   238"
      ]
     },
     "execution_count": 32,
     "metadata": {},
     "output_type": "execute_result"
    }
   ],
   "source": [
    "q6.head()"
   ]
  },
  {
   "cell_type": "markdown",
   "metadata": {
    "colab_type": "text",
    "id": "70d0si99kBxo"
   },
   "source": [
    "## Q7 --- A decade is a sequence of 10 consecutive years. For example, say in your database you have movie information starting from 1965. Then the first decade is 1965, 1966, ..., 1974; the second one is 1967, 1968, ..., 1976 and so on. Find the decade D with the largest number of films and the total number of films in D."
   ]
  },
  {
   "cell_type": "code",
   "execution_count": 85,
   "metadata": {},
   "outputs": [
    {
     "name": "stdout",
     "output_type": "stream",
     "text": [
      "(1, 3)\n",
      "Wall time: 165 ms\n"
     ]
    },
    {
     "data": {
      "text/html": [
       "<div>\n",
       "<style scoped>\n",
       "    .dataframe tbody tr th:only-of-type {\n",
       "        vertical-align: middle;\n",
       "    }\n",
       "\n",
       "    .dataframe tbody tr th {\n",
       "        vertical-align: top;\n",
       "    }\n",
       "\n",
       "    .dataframe thead th {\n",
       "        text-align: right;\n",
       "    }\n",
       "</style>\n",
       "<table border=\"1\" class=\"dataframe\">\n",
       "  <thead>\n",
       "    <tr style=\"text-align: right;\">\n",
       "      <th></th>\n",
       "      <th>styr</th>\n",
       "      <th>endyr</th>\n",
       "      <th>num_mov</th>\n",
       "    </tr>\n",
       "  </thead>\n",
       "  <tbody>\n",
       "    <tr>\n",
       "      <th>0</th>\n",
       "      <td>2008</td>\n",
       "      <td>2017</td>\n",
       "      <td>1205</td>\n",
       "    </tr>\n",
       "  </tbody>\n",
       "</table>\n",
       "</div>"
      ],
      "text/plain": [
       "   styr  endyr  num_mov\n",
       "0  2008   2017     1205"
      ]
     },
     "execution_count": 85,
     "metadata": {},
     "output_type": "execute_result"
    }
   ],
   "source": [
    "%%time\n",
    "# Write your sql query below\n",
    "\n",
    "query = \"\"\"\n",
    "        with initial_year(year) as\n",
    "        (\n",
    "            select distinct year from Movie\n",
    "        )\n",
    "        , dest_year(year) as\n",
    "        (\n",
    "            select year+9 from initial_year\n",
    "        )\n",
    "        , decade_ten(startyear, endyear) as\n",
    "        (\n",
    "            select initial_year.year,dest_year.year from initial_year,dest_year where initial_year.year = dest_year.year - 9\n",
    "        )\n",
    "        , num_mov_yr(styr, endyr, num_mov) as\n",
    "        (\n",
    "            select decade_ten.startyear,decade_ten.endyear, count(*) from Movie as m, decade_ten \n",
    "            where m.year >= decade_ten.startyear and m.year <= decade_ten.endyear \n",
    "            group by decade_ten.startyear\n",
    "        )\n",
    "        select num_mov_yr.styr, num_mov_yr.endyr, num_mov_yr.num_mov from num_mov_yr where \n",
    "        num_mov_yr.num_mov in (select max(num_mov_yr.num_mov) from num_mov_yr)\n",
    "        \"\"\"\n",
    "\n",
    "q = pd.read_sql_query(query, conn)    \n",
    "print(q.shape)\n",
    "q"
   ]
  },
  {
   "cell_type": "markdown",
   "metadata": {
    "colab_type": "text",
    "id": "cF9bLSYCkBxr"
   },
   "source": [
    "## Q8 --- Find all the actors that made more movies with Yash Chopra than any other director."
   ]
  },
  {
   "cell_type": "code",
   "execution_count": 16,
   "metadata": {},
   "outputs": [
    {
     "name": "stdout",
     "output_type": "stream",
     "text": [
      "(133, 1)\n",
      "Wall time: 288 ms\n"
     ]
    },
    {
     "data": {
      "text/html": [
       "<div>\n",
       "<style scoped>\n",
       "    .dataframe tbody tr th:only-of-type {\n",
       "        vertical-align: middle;\n",
       "    }\n",
       "\n",
       "    .dataframe tbody tr th {\n",
       "        vertical-align: top;\n",
       "    }\n",
       "\n",
       "    .dataframe thead th {\n",
       "        text-align: right;\n",
       "    }\n",
       "</style>\n",
       "<table border=\"1\" class=\"dataframe\">\n",
       "  <thead>\n",
       "    <tr style=\"text-align: right;\">\n",
       "      <th></th>\n",
       "      <th>Name</th>\n",
       "    </tr>\n",
       "  </thead>\n",
       "  <tbody>\n",
       "    <tr>\n",
       "      <th>0</th>\n",
       "      <td>Yash Chopra</td>\n",
       "    </tr>\n",
       "    <tr>\n",
       "      <th>1</th>\n",
       "      <td>Akhtar-Ul-Iman</td>\n",
       "    </tr>\n",
       "    <tr>\n",
       "      <th>2</th>\n",
       "      <td>Andrew Bicknell</td>\n",
       "    </tr>\n",
       "    <tr>\n",
       "      <th>3</th>\n",
       "      <td>Steve Box</td>\n",
       "    </tr>\n",
       "    <tr>\n",
       "      <th>4</th>\n",
       "      <td>Pamela Chopra</td>\n",
       "    </tr>\n",
       "    <tr>\n",
       "      <th>...</th>\n",
       "      <td>...</td>\n",
       "    </tr>\n",
       "    <tr>\n",
       "      <th>128</th>\n",
       "      <td>Martin Crossingham</td>\n",
       "    </tr>\n",
       "    <tr>\n",
       "      <th>129</th>\n",
       "      <td>Katy Kartwheel</td>\n",
       "    </tr>\n",
       "    <tr>\n",
       "      <th>130</th>\n",
       "      <td>Abbie Murphy</td>\n",
       "    </tr>\n",
       "    <tr>\n",
       "      <th>131</th>\n",
       "      <td>Richard Broom</td>\n",
       "    </tr>\n",
       "    <tr>\n",
       "      <th>132</th>\n",
       "      <td>Sean Moon</td>\n",
       "    </tr>\n",
       "  </tbody>\n",
       "</table>\n",
       "<p>133 rows × 1 columns</p>\n",
       "</div>"
      ],
      "text/plain": [
       "                   Name\n",
       "0           Yash Chopra\n",
       "1        Akhtar-Ul-Iman\n",
       "2       Andrew Bicknell\n",
       "3             Steve Box\n",
       "4         Pamela Chopra\n",
       "..                  ...\n",
       "128  Martin Crossingham\n",
       "129      Katy Kartwheel\n",
       "130        Abbie Murphy\n",
       "131       Richard Broom\n",
       "132           Sean Moon\n",
       "\n",
       "[133 rows x 1 columns]"
      ]
     },
     "execution_count": 16,
     "metadata": {},
     "output_type": "execute_result"
    }
   ],
   "source": [
    "%%time\n",
    "# Write your sql query below\n",
    "\n",
    "query = \"\"\"\n",
    "         with yc(ycID) as\n",
    "         (\n",
    "             select distinct PID from Person as p\n",
    "             where p.Name = 'Yash Chopra'\n",
    "         )\n",
    "         , num_mov_actor_director(acID, dirID, numMov) as\n",
    "         (\n",
    "             select mc.PID, md.PID, count(md.MID) from M_Cast as mc, M_director as md\n",
    "             where mc.MID = md.MID\n",
    "             group by mc.PID, md.PID\n",
    "         )\n",
    "         , num_mov_yc(acID, ycID, numMov) as\n",
    "         (\n",
    "             select mc.PID, md.PID, count(md.MID) from M_Cast as mc, M_director as md, yc\n",
    "             where mc.MID = md.MID and md.PID = yc.ycID\n",
    "             group by mc.PID\n",
    "         )\n",
    "         , num_mov_noyc(acID, noycID, numMov) as\n",
    "         (\n",
    "             select mc.PID, md.PID, count(md.MID) from M_Cast as mc, M_director as md, yc\n",
    "             where mc.MID = md.MID and md.PID <> yc.ycID\n",
    "             group by mc.PID\n",
    "         )\n",
    "         , actor_mov_comp(acID, comval) as\n",
    "         (\n",
    "             select num_mov_yc.acID,\n",
    "             case when num_mov_yc.numMov >= IFNULL(num_mov_noyc.numMov,0) then 'true' else 'false' end more_mov_yc\n",
    "             from\n",
    "             num_mov_yc LEFT OUTER JOIN num_mov_noyc on num_mov_yc.acID = num_mov_noyc.acID\n",
    "         )\n",
    "         select distinct p.Name from Person as p, actor_mov_comp where p.PID = actor_mov_comp.acID and\n",
    "         actor_mov_comp.comval = 'true'\n",
    "        \"\"\"\n",
    "\n",
    "q8 = pd.read_sql_query(query, conn)    \n",
    "print(q8.shape)\n",
    "q8"
   ]
  },
  {
   "cell_type": "markdown",
   "metadata": {
    "colab_type": "text",
    "id": "MbiYbTFUkBxv"
   },
   "source": [
    "## Q9 --- The Shahrukh number of an actor is the length of the shortest path between the actor and Shahrukh Khan in the \"co-acting\" graph. That is, Shahrukh Khan has Shahrukh number 0; all actors who acted in the same film as Shahrukh have Shahrukh number 1; all actors who acted in the same film as some actor with Shahrukh number 1 have Shahrukh number 2, etc. Return all actors whose Shahrukh number is 2."
   ]
  },
  {
   "cell_type": "code",
   "execution_count": 50,
   "metadata": {
    "colab": {},
    "colab_type": "code",
    "id": "djkpWW0-kBxv"
   },
   "outputs": [
    {
     "name": "stdout",
     "output_type": "stream",
     "text": [
      "(25698, 1)\n",
      "Wall time: 1min 8s\n"
     ]
    },
    {
     "data": {
      "text/html": [
       "<div>\n",
       "<style scoped>\n",
       "    .dataframe tbody tr th:only-of-type {\n",
       "        vertical-align: middle;\n",
       "    }\n",
       "\n",
       "    .dataframe tbody tr th {\n",
       "        vertical-align: top;\n",
       "    }\n",
       "\n",
       "    .dataframe thead th {\n",
       "        text-align: right;\n",
       "    }\n",
       "</style>\n",
       "<table border=\"1\" class=\"dataframe\">\n",
       "  <thead>\n",
       "    <tr style=\"text-align: right;\">\n",
       "      <th></th>\n",
       "      <th>Name</th>\n",
       "    </tr>\n",
       "  </thead>\n",
       "  <tbody>\n",
       "    <tr>\n",
       "      <th>0</th>\n",
       "      <td>Freida Pinto</td>\n",
       "    </tr>\n",
       "    <tr>\n",
       "      <th>1</th>\n",
       "      <td>Rohan Chand</td>\n",
       "    </tr>\n",
       "    <tr>\n",
       "      <th>2</th>\n",
       "      <td>Damian Young</td>\n",
       "    </tr>\n",
       "    <tr>\n",
       "      <th>3</th>\n",
       "      <td>Waris Ahluwalia</td>\n",
       "    </tr>\n",
       "    <tr>\n",
       "      <th>4</th>\n",
       "      <td>Caroline Christl Long</td>\n",
       "    </tr>\n",
       "  </tbody>\n",
       "</table>\n",
       "</div>"
      ],
      "text/plain": [
       "                    Name\n",
       "0           Freida Pinto\n",
       "1            Rohan Chand\n",
       "2           Damian Young\n",
       "3        Waris Ahluwalia\n",
       "4  Caroline Christl Long"
      ]
     },
     "execution_count": 50,
     "metadata": {},
     "output_type": "execute_result"
    }
   ],
   "source": [
    "%%time\n",
    "# Write your sql query below\n",
    "\n",
    "query = \"\"\"\n",
    "        \n",
    "        WITH srk(srkPID) as\n",
    "        (\n",
    "            select PID from Person as p where\n",
    "            p.Name = 'Shah Rukh Khan'\n",
    "        )\n",
    "        , moviewithsrk(srkmovMID) as\n",
    "        (\n",
    "            select distinct mc.MID from M_Cast as mc, srk where \n",
    "            mc.PID = srk.srkPID\n",
    "            \n",
    "        )\n",
    "        , actorplayinsrk(actorID) as\n",
    "        (\n",
    "            select distinct mc.PID from M_Cast as mc, moviewithsrk where\n",
    "            mc.MID = moviewithsrk.srkmovMID\n",
    "        )\n",
    "        , movienotsrk(srknotMID) as\n",
    "        (\n",
    "            select distinct mc.MID from M_Cast as mc, actorplayinsrk, moviewithsrk where\n",
    "            mc.PID = actorplayinsrk.actorID and mc.MID NOT IN (\n",
    "                select distinct mc.MID from M_Cast as mc, srk where \n",
    "                mc.PID = srk.srkPID\n",
    "            )\n",
    "        )\n",
    "        , actornotplaysrk(acID) as\n",
    "        (\n",
    "            select distinct PID from M_Cast as mc, movienotsrk, actorplayinsrk where\n",
    "            mc.MID = movienotsrk.srknotMID  and mc.PID not in (\n",
    "                select distinct mc.PID from M_Cast as mc, moviewithsrk where\n",
    "                mc.MID = moviewithsrk.srkmovMID\n",
    "            )\n",
    "        )\n",
    "        select Name from Person as p, actornotplaysrk where p.PID = actornotplaysrk.acID\n",
    "        \"\"\"\n",
    "\n",
    "q9 = pd.read_sql_query(query, conn)    \n",
    "print(q9.shape)\n",
    "q9.head()"
   ]
  },
  {
   "cell_type": "code",
   "execution_count": 0,
   "metadata": {
    "colab": {},
    "colab_type": "code",
    "id": "-t46FC6zkBxx"
   },
   "outputs": [],
   "source": []
  }
 ],
 "metadata": {
  "colab": {
   "collapsed_sections": [],
   "name": "SQL_Assignment_Reference.ipynb",
   "provenance": []
  },
  "kernelspec": {
   "display_name": "Python 3",
   "language": "python",
   "name": "python3"
  },
  "language_info": {
   "codemirror_mode": {
    "name": "ipython",
    "version": 3
   },
   "file_extension": ".py",
   "mimetype": "text/x-python",
   "name": "python",
   "nbconvert_exporter": "python",
   "pygments_lexer": "ipython3",
   "version": "3.7.0"
  }
 },
 "nbformat": 4,
 "nbformat_minor": 1
}
