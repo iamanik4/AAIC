{
 "cells": [
  {
   "cell_type": "markdown",
   "metadata": {},
   "source": [
    "## Assignment : 14"
   ]
  },
  {
   "cell_type": "markdown",
   "metadata": {},
   "source": [
    "<pre>\n",
    "1. Preprocess all the Data we have in DonorsChoose <a href='https://drive.google.com/drive/folders/1MIwK7BQMev8f5CbDDVNLPaFGB32pFN60'>Dataset</a> use train.csv\n",
    "2. Combine 4 essay's into one column named - 'preprocessed_essays'. \n",
    "3. After step 2 you have to train 3 types of models as discussed below. \n",
    "4. For all the model use <a href='https://scikit-learn.org/stable/modules/model_evaluation.html#roc-metrics'>'auc'</a> as a metric. check <a href='https://datascience.stackexchange.com/a/20192'>this</a> for using auc as a metric \n",
    "5. You are free to choose any number of layers/hiddden units but you have to use same type of architectures shown below. \n",
    "6. You can use any one of the optimizers and choice of Learning rate and momentum, resources: <a href='http://cs231n.github.io/neural-networks-3/'>cs231n class notes</a>, <a href='https://www.youtube.com/watch?v=hd_KFJ5ktUc'>cs231n class video</a>. \n",
    "7. For all the model's use <a href='https://www.youtube.com/watch?v=2U6Jl7oqRkM'>TensorBoard</a> and plot the Metric value and Loss with epoch. While submitting, take a screenshot of plots and include those images in .ipynb notebook and PDF. \n",
    "8. Use Categorical Cross Entropy as Loss to minimize.\n",
    "</pre>"
   ]
  },
  {
   "cell_type": "markdown",
   "metadata": {},
   "source": [
    "# Preprocess all the data"
   ]
  },
  {
   "cell_type": "code",
   "execution_count": 1,
   "metadata": {},
   "outputs": [],
   "source": [
    "%matplotlib inline\n",
    "import warnings\n",
    "warnings.filterwarnings(\"ignore\")\n",
    "\n",
    "import pandas as pd\n",
    "import numpy as np\n",
    "\n",
    "\n",
    "import re\n",
    "# Tutorial about Python regular expressions: https://pymotw.com/2/re/\n",
    "\n",
    "from nltk.corpus import stopwords\n",
    "import pickle\n",
    "\n",
    "from tqdm import tqdm\n",
    "import os"
   ]
  },
  {
   "cell_type": "markdown",
   "metadata": {},
   "source": [
    "## 1. Reading Data"
   ]
  },
  {
   "cell_type": "code",
   "execution_count": 2,
   "metadata": {},
   "outputs": [],
   "source": [
    "project_data = pd.read_csv('train_data.csv')\n",
    "resource_data = pd.read_csv('resources.csv')"
   ]
  },
  {
   "cell_type": "code",
   "execution_count": 3,
   "metadata": {},
   "outputs": [
    {
     "name": "stdout",
     "output_type": "stream",
     "text": [
      "Number of data points in train data (109248, 17)\n",
      "--------------------------------------------------\n",
      "The attributes of data : ['Unnamed: 0' 'id' 'teacher_id' 'teacher_prefix' 'school_state'\n",
      " 'project_submitted_datetime' 'project_grade_category'\n",
      " 'project_subject_categories' 'project_subject_subcategories'\n",
      " 'project_title' 'project_essay_1' 'project_essay_2' 'project_essay_3'\n",
      " 'project_essay_4' 'project_resource_summary'\n",
      " 'teacher_number_of_previously_posted_projects' 'project_is_approved']\n"
     ]
    }
   ],
   "source": [
    "print(\"Number of data points in train data\", project_data.shape)\n",
    "print('-'*50)\n",
    "print(\"The attributes of data :\", project_data.columns.values)"
   ]
  },
  {
   "cell_type": "code",
   "execution_count": 4,
   "metadata": {},
   "outputs": [
    {
     "name": "stdout",
     "output_type": "stream",
     "text": [
      "Number of data points in train data (1541272, 4)\n",
      "['id' 'description' 'quantity' 'price']\n"
     ]
    },
    {
     "data": {
      "text/html": [
       "<div>\n",
       "<style scoped>\n",
       "    .dataframe tbody tr th:only-of-type {\n",
       "        vertical-align: middle;\n",
       "    }\n",
       "\n",
       "    .dataframe tbody tr th {\n",
       "        vertical-align: top;\n",
       "    }\n",
       "\n",
       "    .dataframe thead th {\n",
       "        text-align: right;\n",
       "    }\n",
       "</style>\n",
       "<table border=\"1\" class=\"dataframe\">\n",
       "  <thead>\n",
       "    <tr style=\"text-align: right;\">\n",
       "      <th></th>\n",
       "      <th>id</th>\n",
       "      <th>description</th>\n",
       "      <th>quantity</th>\n",
       "      <th>price</th>\n",
       "    </tr>\n",
       "  </thead>\n",
       "  <tbody>\n",
       "    <tr>\n",
       "      <th>0</th>\n",
       "      <td>p233245</td>\n",
       "      <td>LC652 - Lakeshore Double-Space Mobile Drying Rack</td>\n",
       "      <td>1</td>\n",
       "      <td>149.00</td>\n",
       "    </tr>\n",
       "    <tr>\n",
       "      <th>1</th>\n",
       "      <td>p069063</td>\n",
       "      <td>Bouncy Bands for Desks (Blue support pipes)</td>\n",
       "      <td>3</td>\n",
       "      <td>14.95</td>\n",
       "    </tr>\n",
       "  </tbody>\n",
       "</table>\n",
       "</div>"
      ],
      "text/plain": [
       "        id                                        description  quantity  \\\n",
       "0  p233245  LC652 - Lakeshore Double-Space Mobile Drying Rack         1   \n",
       "1  p069063        Bouncy Bands for Desks (Blue support pipes)         3   \n",
       "\n",
       "    price  \n",
       "0  149.00  \n",
       "1   14.95  "
      ]
     },
     "execution_count": 4,
     "metadata": {},
     "output_type": "execute_result"
    }
   ],
   "source": [
    "print(\"Number of data points in train data\", resource_data.shape)\n",
    "print(resource_data.columns.values)\n",
    "resource_data.head(2)"
   ]
  },
  {
   "cell_type": "markdown",
   "metadata": {},
   "source": [
    "# 2. Preprocessing Categorical Features: project_grade_category"
   ]
  },
  {
   "cell_type": "code",
   "execution_count": 5,
   "metadata": {},
   "outputs": [
    {
     "data": {
      "text/plain": [
       "Grades PreK-2    44225\n",
       "Grades 3-5       37137\n",
       "Grades 6-8       16923\n",
       "Grades 9-12      10963\n",
       "Name: project_grade_category, dtype: int64"
      ]
     },
     "execution_count": 5,
     "metadata": {},
     "output_type": "execute_result"
    }
   ],
   "source": [
    "project_data['project_grade_category'].value_counts()"
   ]
  },
  {
   "cell_type": "code",
   "execution_count": 6,
   "metadata": {},
   "outputs": [
    {
     "data": {
      "text/plain": [
       "grades_prek_2    44225\n",
       "grades_3_5       37137\n",
       "grades_6_8       16923\n",
       "grades_9_12      10963\n",
       "Name: project_grade_category, dtype: int64"
      ]
     },
     "execution_count": 6,
     "metadata": {},
     "output_type": "execute_result"
    }
   ],
   "source": [
    "# https://stackoverflow.com/questions/36383821/pandas-dataframe-apply-function-to-column-strings-based-on-other-column-value\n",
    "project_data['project_grade_category'] = project_data['project_grade_category'].str.replace(' ','_')\n",
    "project_data['project_grade_category'] = project_data['project_grade_category'].str.replace('-','_')\n",
    "project_data['project_grade_category'] = project_data['project_grade_category'].str.lower()\n",
    "project_data['project_grade_category'].value_counts()"
   ]
  },
  {
   "cell_type": "markdown",
   "metadata": {},
   "source": [
    "# 3. Preprocessing Categorical Features: project_subject_categories"
   ]
  },
  {
   "cell_type": "code",
   "execution_count": 7,
   "metadata": {
    "scrolled": true
   },
   "outputs": [
    {
     "data": {
      "text/plain": [
       "Literacy & Language                           23655\n",
       "Math & Science                                17072\n",
       "Literacy & Language, Math & Science           14636\n",
       "Health & Sports                               10177\n",
       "Music & The Arts                               5180\n",
       "Special Needs                                  4226\n",
       "Literacy & Language, Special Needs             3961\n",
       "Applied Learning                               3771\n",
       "Math & Science, Literacy & Language            2289\n",
       "Applied Learning, Literacy & Language          2191\n",
       "History & Civics                               1851\n",
       "Math & Science, Special Needs                  1840\n",
       "Literacy & Language, Music & The Arts          1757\n",
       "Math & Science, Music & The Arts               1642\n",
       "Applied Learning, Special Needs                1467\n",
       "History & Civics, Literacy & Language          1421\n",
       "Health & Sports, Special Needs                 1391\n",
       "Warmth, Care & Hunger                          1309\n",
       "Math & Science, Applied Learning               1220\n",
       "Applied Learning, Math & Science               1052\n",
       "Literacy & Language, History & Civics           809\n",
       "Health & Sports, Literacy & Language            803\n",
       "Applied Learning, Music & The Arts              758\n",
       "Math & Science, History & Civics                652\n",
       "Literacy & Language, Applied Learning           636\n",
       "Applied Learning, Health & Sports               608\n",
       "Math & Science, Health & Sports                 414\n",
       "History & Civics, Math & Science                322\n",
       "History & Civics, Music & The Arts              312\n",
       "Special Needs, Music & The Arts                 302\n",
       "Health & Sports, Math & Science                 271\n",
       "History & Civics, Special Needs                 252\n",
       "Health & Sports, Applied Learning               192\n",
       "Applied Learning, History & Civics              178\n",
       "Health & Sports, Music & The Arts               155\n",
       "Music & The Arts, Special Needs                 138\n",
       "Literacy & Language, Health & Sports             72\n",
       "Health & Sports, History & Civics                43\n",
       "Special Needs, Health & Sports                   42\n",
       "History & Civics, Applied Learning               42\n",
       "Health & Sports, Warmth, Care & Hunger           23\n",
       "Special Needs, Warmth, Care & Hunger             23\n",
       "Music & The Arts, Health & Sports                19\n",
       "Music & The Arts, History & Civics               18\n",
       "History & Civics, Health & Sports                13\n",
       "Math & Science, Warmth, Care & Hunger            11\n",
       "Music & The Arts, Applied Learning               10\n",
       "Applied Learning, Warmth, Care & Hunger          10\n",
       "Literacy & Language, Warmth, Care & Hunger        9\n",
       "Music & The Arts, Warmth, Care & Hunger           2\n",
       "History & Civics, Warmth, Care & Hunger           1\n",
       "Name: project_subject_categories, dtype: int64"
      ]
     },
     "execution_count": 7,
     "metadata": {},
     "output_type": "execute_result"
    }
   ],
   "source": [
    "project_data['project_subject_categories'].value_counts()"
   ]
  },
  {
   "cell_type": "markdown",
   "metadata": {},
   "source": [
    ">remove spaces, 'the' <br>\n",
    "replace '&' with '\\_', and ',' with '_'"
   ]
  },
  {
   "cell_type": "code",
   "execution_count": 8,
   "metadata": {},
   "outputs": [
    {
     "data": {
      "text/plain": [
       "literacy_language                       23655\n",
       "math_science                            17072\n",
       "literacy_language_math_science          14636\n",
       "health_sports                           10177\n",
       "music_arts                               5180\n",
       "specialneeds                             4226\n",
       "literacy_language_specialneeds           3961\n",
       "appliedlearning                          3771\n",
       "math_science_literacy_language           2289\n",
       "appliedlearning_literacy_language        2191\n",
       "history_civics                           1851\n",
       "math_science_specialneeds                1840\n",
       "literacy_language_music_arts             1757\n",
       "math_science_music_arts                  1642\n",
       "appliedlearning_specialneeds             1467\n",
       "history_civics_literacy_language         1421\n",
       "health_sports_specialneeds               1391\n",
       "warmth_care_hunger                       1309\n",
       "math_science_appliedlearning             1220\n",
       "appliedlearning_math_science             1052\n",
       "literacy_language_history_civics          809\n",
       "health_sports_literacy_language           803\n",
       "appliedlearning_music_arts                758\n",
       "math_science_history_civics               652\n",
       "literacy_language_appliedlearning         636\n",
       "appliedlearning_health_sports             608\n",
       "math_science_health_sports                414\n",
       "history_civics_math_science               322\n",
       "history_civics_music_arts                 312\n",
       "specialneeds_music_arts                   302\n",
       "health_sports_math_science                271\n",
       "history_civics_specialneeds               252\n",
       "health_sports_appliedlearning             192\n",
       "appliedlearning_history_civics            178\n",
       "health_sports_music_arts                  155\n",
       "music_arts_specialneeds                   138\n",
       "literacy_language_health_sports            72\n",
       "health_sports_history_civics               43\n",
       "specialneeds_health_sports                 42\n",
       "history_civics_appliedlearning             42\n",
       "health_sports_warmth_care_hunger           23\n",
       "specialneeds_warmth_care_hunger            23\n",
       "music_arts_health_sports                   19\n",
       "music_arts_history_civics                  18\n",
       "history_civics_health_sports               13\n",
       "math_science_warmth_care_hunger            11\n",
       "appliedlearning_warmth_care_hunger         10\n",
       "music_arts_appliedlearning                 10\n",
       "literacy_language_warmth_care_hunger        9\n",
       "music_arts_warmth_care_hunger               2\n",
       "history_civics_warmth_care_hunger           1\n",
       "Name: project_subject_categories, dtype: int64"
      ]
     },
     "execution_count": 8,
     "metadata": {},
     "output_type": "execute_result"
    }
   ],
   "source": [
    "project_data['project_subject_categories'] = project_data['project_subject_categories'].str.replace(' The ','')\n",
    "project_data['project_subject_categories'] = project_data['project_subject_categories'].str.replace(' ','')\n",
    "project_data['project_subject_categories'] = project_data['project_subject_categories'].str.replace('&','_')\n",
    "project_data['project_subject_categories'] = project_data['project_subject_categories'].str.replace(',','_')\n",
    "project_data['project_subject_categories'] = project_data['project_subject_categories'].str.lower()\n",
    "project_data['project_subject_categories'].value_counts()"
   ]
  },
  {
   "cell_type": "markdown",
   "metadata": {},
   "source": [
    "# 4. Preprocessing Categorical Features: teacher_prefix"
   ]
  },
  {
   "cell_type": "code",
   "execution_count": 9,
   "metadata": {},
   "outputs": [
    {
     "data": {
      "text/plain": [
       "Mrs.       57269\n",
       "Ms.        38955\n",
       "Mr.        10648\n",
       "Teacher     2360\n",
       "Dr.           13\n",
       "Name: teacher_prefix, dtype: int64"
      ]
     },
     "execution_count": 9,
     "metadata": {},
     "output_type": "execute_result"
    }
   ],
   "source": [
    "project_data['teacher_prefix'].value_counts()"
   ]
  },
  {
   "cell_type": "code",
   "execution_count": 10,
   "metadata": {},
   "outputs": [
    {
     "name": "stdout",
     "output_type": "stream",
     "text": [
      "True\n",
      "number of nan values 3\n"
     ]
    }
   ],
   "source": [
    "# check if we have any nan values are there\n",
    "print(project_data['teacher_prefix'].isnull().values.any())\n",
    "print(\"number of nan values\",project_data['teacher_prefix'].isnull().values.sum())"
   ]
  },
  {
   "cell_type": "markdown",
   "metadata": {},
   "source": [
    ">numebr of missing values are very less in number, we can replace it with Mrs. as most of the projects are submitted by Mrs."
   ]
  },
  {
   "cell_type": "code",
   "execution_count": 11,
   "metadata": {},
   "outputs": [],
   "source": [
    "project_data['teacher_prefix']=project_data['teacher_prefix'].fillna('Mrs.')"
   ]
  },
  {
   "cell_type": "code",
   "execution_count": 12,
   "metadata": {},
   "outputs": [
    {
     "data": {
      "text/plain": [
       "Mrs.       57272\n",
       "Ms.        38955\n",
       "Mr.        10648\n",
       "Teacher     2360\n",
       "Dr.           13\n",
       "Name: teacher_prefix, dtype: int64"
      ]
     },
     "execution_count": 12,
     "metadata": {},
     "output_type": "execute_result"
    }
   ],
   "source": [
    "project_data['teacher_prefix'].value_counts()"
   ]
  },
  {
   "cell_type": "markdown",
   "metadata": {},
   "source": [
    ">Remove '.' <br>\n",
    ">convert all the chars to small"
   ]
  },
  {
   "cell_type": "code",
   "execution_count": 13,
   "metadata": {},
   "outputs": [
    {
     "data": {
      "text/plain": [
       "mrs        57272\n",
       "ms         38955\n",
       "mr         10648\n",
       "teacher     2360\n",
       "dr            13\n",
       "Name: teacher_prefix, dtype: int64"
      ]
     },
     "execution_count": 13,
     "metadata": {},
     "output_type": "execute_result"
    }
   ],
   "source": [
    "project_data['teacher_prefix'] = project_data['teacher_prefix'].str.replace('.','')\n",
    "project_data['teacher_prefix'] = project_data['teacher_prefix'].str.lower()\n",
    "project_data['teacher_prefix'].value_counts()"
   ]
  },
  {
   "cell_type": "markdown",
   "metadata": {},
   "source": [
    "# 5. Preprocessing Categorical Features: project_subject_subcategories"
   ]
  },
  {
   "cell_type": "code",
   "execution_count": 14,
   "metadata": {
    "scrolled": true
   },
   "outputs": [
    {
     "data": {
      "text/plain": [
       "Literacy                                        9486\n",
       "Literacy, Mathematics                           8325\n",
       "Literature & Writing, Mathematics               5923\n",
       "Literacy, Literature & Writing                  5571\n",
       "Mathematics                                     5379\n",
       "Literature & Writing                            4501\n",
       "Special Needs                                   4226\n",
       "Health & Wellness                               3583\n",
       "Applied Sciences, Mathematics                   3399\n",
       "Applied Sciences                                2492\n",
       "Literacy, Special Needs                         2440\n",
       "Gym & Fitness, Health & Wellness                2264\n",
       "ESL, Literacy                                   2234\n",
       "Visual Arts                                     2217\n",
       "Music                                           1472\n",
       "Warmth, Care & Hunger                           1309\n",
       "Literature & Writing, Special Needs             1306\n",
       "Gym & Fitness                                   1195\n",
       "Health & Wellness, Special Needs                1189\n",
       "Mathematics, Special Needs                      1187\n",
       "Environmental Science                           1079\n",
       "Team Sports                                     1061\n",
       "Applied Sciences, Environmental Science          984\n",
       "Environmental Science, Health & Life Science     964\n",
       "Music, Performing Arts                           948\n",
       "Early Development                                905\n",
       "Environmental Science, Mathematics               838\n",
       "Other                                            831\n",
       "Health & Life Science                            827\n",
       "Health & Wellness, Nutrition Education           797\n",
       "                                                ... \n",
       "Economics, Health & Life Science                   2\n",
       "Social Sciences, Team Sports                       2\n",
       "Civics & Government, Health & Wellness             2\n",
       "Economics, Literature & Writing                    2\n",
       "Civics & Government, Team Sports                   2\n",
       "Financial Literacy, Health & Wellness              2\n",
       "ESL, Team Sports                                   1\n",
       "College & Career Prep, Warmth, Care & Hunger       1\n",
       "History & Geography, Warmth, Care & Hunger         1\n",
       "Financial Literacy, Performing Arts                1\n",
       "Other, Warmth, Care & Hunger                       1\n",
       "Community Service, Music                           1\n",
       "Economics, Music                                   1\n",
       "Community Service, Gym & Fitness                   1\n",
       "Extracurricular, Financial Literacy                1\n",
       "Gym & Fitness, Warmth, Care & Hunger               1\n",
       "Civics & Government, Foreign Languages             1\n",
       "Gym & Fitness, Parent Involvement                  1\n",
       "Parent Involvement, Warmth, Care & Hunger          1\n",
       "Literature & Writing, Nutrition Education          1\n",
       "Economics, Nutrition Education                     1\n",
       "ESL, Economics                                     1\n",
       "Economics, Foreign Languages                       1\n",
       "Civics & Government, Parent Involvement            1\n",
       "Gym & Fitness, Social Sciences                     1\n",
       "Community Service, Financial Literacy              1\n",
       "Financial Literacy, Foreign Languages              1\n",
       "Civics & Government, Nutrition Education           1\n",
       "Parent Involvement, Team Sports                    1\n",
       "Economics, Other                                   1\n",
       "Name: project_subject_subcategories, Length: 401, dtype: int64"
      ]
     },
     "execution_count": 14,
     "metadata": {},
     "output_type": "execute_result"
    }
   ],
   "source": [
    "project_data['project_subject_subcategories'].value_counts()"
   ]
  },
  {
   "cell_type": "markdown",
   "metadata": {},
   "source": [
    "> same process we did in project_subject_categories"
   ]
  },
  {
   "cell_type": "code",
   "execution_count": 15,
   "metadata": {
    "scrolled": true
   },
   "outputs": [
    {
     "data": {
      "text/plain": [
       "literacy                                   9486\n",
       "literacy_mathematics                       8325\n",
       "literature_writing_mathematics             5923\n",
       "literacy_literature_writing                5571\n",
       "mathematics                                5379\n",
       "literature_writing                         4501\n",
       "specialneeds                               4226\n",
       "health_wellness                            3583\n",
       "appliedsciences_mathematics                3399\n",
       "appliedsciences                            2492\n",
       "literacy_specialneeds                      2440\n",
       "gym_fitness_health_wellness                2264\n",
       "esl_literacy                               2234\n",
       "visualarts                                 2217\n",
       "music                                      1472\n",
       "warmth_care_hunger                         1309\n",
       "literature_writing_specialneeds            1306\n",
       "gym_fitness                                1195\n",
       "health_wellness_specialneeds               1189\n",
       "mathematics_specialneeds                   1187\n",
       "environmentalscience                       1079\n",
       "teamsports                                 1061\n",
       "appliedsciences_environmentalscience        984\n",
       "environmentalscience_health_lifescience     964\n",
       "music_performingarts                        948\n",
       "earlydevelopment                            905\n",
       "environmentalscience_mathematics            838\n",
       "other                                       831\n",
       "health_lifescience                          827\n",
       "health_wellness_nutritioneducation          797\n",
       "                                           ... \n",
       "charactereducation_nutritioneducation         2\n",
       "foreignlanguages_gym_fitness                  2\n",
       "visualarts_warmth_care_hunger                 2\n",
       "economics_literature_writing                  2\n",
       "appliedsciences_warmth_care_hunger            2\n",
       "socialsciences_teamsports                     2\n",
       "communityservice_music                        1\n",
       "history_geography_warmth_care_hunger          1\n",
       "parentinvolvement_teamsports                  1\n",
       "financialliteracy_foreignlanguages            1\n",
       "gym_fitness_socialsciences                    1\n",
       "economics_nutritioneducation                  1\n",
       "economics_music                               1\n",
       "civics_government_foreignlanguages            1\n",
       "gym_fitness_parentinvolvement                 1\n",
       "economics_other                               1\n",
       "civics_government_nutritioneducation          1\n",
       "economics_foreignlanguages                    1\n",
       "extracurricular_financialliteracy             1\n",
       "esl_teamsports                                1\n",
       "financialliteracy_performingarts              1\n",
       "communityservice_gym_fitness                  1\n",
       "literature_writing_nutritioneducation         1\n",
       "college_careerprep_warmth_care_hunger         1\n",
       "communityservice_financialliteracy            1\n",
       "civics_government_parentinvolvement           1\n",
       "parentinvolvement_warmth_care_hunger          1\n",
       "gym_fitness_warmth_care_hunger                1\n",
       "esl_economics                                 1\n",
       "other_warmth_care_hunger                      1\n",
       "Name: project_subject_subcategories, Length: 401, dtype: int64"
      ]
     },
     "execution_count": 15,
     "metadata": {},
     "output_type": "execute_result"
    }
   ],
   "source": [
    "project_data['project_subject_subcategories'] = project_data['project_subject_subcategories'].str.replace(' The ','')\n",
    "project_data['project_subject_subcategories'] = project_data['project_subject_subcategories'].str.replace(' ','')\n",
    "project_data['project_subject_subcategories'] = project_data['project_subject_subcategories'].str.replace('&','_')\n",
    "project_data['project_subject_subcategories'] = project_data['project_subject_subcategories'].str.replace(',','_')\n",
    "project_data['project_subject_subcategories'] = project_data['project_subject_subcategories'].str.lower()\n",
    "project_data['project_subject_subcategories'].value_counts()"
   ]
  },
  {
   "cell_type": "markdown",
   "metadata": {},
   "source": [
    "# 6. Preprocessing Categorical Features: school_state"
   ]
  },
  {
   "cell_type": "code",
   "execution_count": 16,
   "metadata": {
    "scrolled": true
   },
   "outputs": [
    {
     "data": {
      "text/plain": [
       "CA    15388\n",
       "TX     7396\n",
       "NY     7318\n",
       "FL     6185\n",
       "NC     5091\n",
       "IL     4350\n",
       "GA     3963\n",
       "SC     3936\n",
       "MI     3161\n",
       "PA     3109\n",
       "IN     2620\n",
       "MO     2576\n",
       "OH     2467\n",
       "LA     2394\n",
       "MA     2389\n",
       "WA     2334\n",
       "OK     2276\n",
       "NJ     2237\n",
       "AZ     2147\n",
       "VA     2045\n",
       "WI     1827\n",
       "AL     1762\n",
       "UT     1731\n",
       "TN     1688\n",
       "CT     1663\n",
       "MD     1514\n",
       "NV     1367\n",
       "MS     1323\n",
       "KY     1304\n",
       "OR     1242\n",
       "MN     1208\n",
       "CO     1111\n",
       "AR     1049\n",
       "ID      693\n",
       "IA      666\n",
       "KS      634\n",
       "NM      557\n",
       "DC      516\n",
       "HI      507\n",
       "ME      505\n",
       "WV      503\n",
       "NH      348\n",
       "AK      345\n",
       "DE      343\n",
       "NE      309\n",
       "SD      300\n",
       "RI      285\n",
       "MT      245\n",
       "ND      143\n",
       "WY       98\n",
       "VT       80\n",
       "Name: school_state, dtype: int64"
      ]
     },
     "execution_count": 16,
     "metadata": {},
     "output_type": "execute_result"
    }
   ],
   "source": [
    "project_data['school_state'].value_counts()"
   ]
  },
  {
   "cell_type": "markdown",
   "metadata": {},
   "source": [
    ">convert all of them into small letters"
   ]
  },
  {
   "cell_type": "code",
   "execution_count": 17,
   "metadata": {
    "scrolled": true
   },
   "outputs": [
    {
     "data": {
      "text/plain": [
       "ca    15388\n",
       "tx     7396\n",
       "ny     7318\n",
       "fl     6185\n",
       "nc     5091\n",
       "il     4350\n",
       "ga     3963\n",
       "sc     3936\n",
       "mi     3161\n",
       "pa     3109\n",
       "in     2620\n",
       "mo     2576\n",
       "oh     2467\n",
       "la     2394\n",
       "ma     2389\n",
       "wa     2334\n",
       "ok     2276\n",
       "nj     2237\n",
       "az     2147\n",
       "va     2045\n",
       "wi     1827\n",
       "al     1762\n",
       "ut     1731\n",
       "tn     1688\n",
       "ct     1663\n",
       "md     1514\n",
       "nv     1367\n",
       "ms     1323\n",
       "ky     1304\n",
       "or     1242\n",
       "mn     1208\n",
       "co     1111\n",
       "ar     1049\n",
       "id      693\n",
       "ia      666\n",
       "ks      634\n",
       "nm      557\n",
       "dc      516\n",
       "hi      507\n",
       "me      505\n",
       "wv      503\n",
       "nh      348\n",
       "ak      345\n",
       "de      343\n",
       "ne      309\n",
       "sd      300\n",
       "ri      285\n",
       "mt      245\n",
       "nd      143\n",
       "wy       98\n",
       "vt       80\n",
       "Name: school_state, dtype: int64"
      ]
     },
     "execution_count": 17,
     "metadata": {},
     "output_type": "execute_result"
    }
   ],
   "source": [
    "project_data['school_state'] = project_data['school_state'].str.lower()\n",
    "project_data['school_state'].value_counts()"
   ]
  },
  {
   "cell_type": "markdown",
   "metadata": {},
   "source": [
    "# 7. Preprocessing Categorical Features: project_title"
   ]
  },
  {
   "cell_type": "code",
   "execution_count": 18,
   "metadata": {},
   "outputs": [],
   "source": [
    "# https://stackoverflow.com/a/47091490/4084039\n",
    "import re\n",
    "\n",
    "def decontracted(phrase):\n",
    "    # specific\n",
    "    phrase = re.sub(r\"won't\", \"will not\", phrase)\n",
    "    phrase = re.sub(r\"can\\'t\", \"can not\", phrase)\n",
    "\n",
    "    # general\n",
    "    phrase = re.sub(r\"n\\'t\", \" not\", phrase)\n",
    "    phrase = re.sub(r\"\\'re\", \" are\", phrase)\n",
    "    phrase = re.sub(r\"\\'s\", \" is\", phrase)\n",
    "    phrase = re.sub(r\"\\'d\", \" would\", phrase)\n",
    "    phrase = re.sub(r\"\\'ll\", \" will\", phrase)\n",
    "    phrase = re.sub(r\"\\'t\", \" not\", phrase)\n",
    "    phrase = re.sub(r\"\\'ve\", \" have\", phrase)\n",
    "    phrase = re.sub(r\"\\'m\", \" am\", phrase)\n",
    "    return phrase"
   ]
  },
  {
   "cell_type": "code",
   "execution_count": 19,
   "metadata": {},
   "outputs": [],
   "source": [
    "# https://gist.github.com/sebleier/554280\n",
    "# we are removing the words from the stop words list: 'no', 'nor', 'not'\n",
    "stopwords= ['i', 'me', 'my', 'myself', 'we', 'our', 'ours', 'ourselves', 'you', \"you're\", \"you've\",\\\n",
    "            \"you'll\", \"you'd\", 'your', 'yours', 'yourself', 'yourselves', 'he', 'him', 'his', 'himself', \\\n",
    "            'she', \"she's\", 'her', 'hers', 'herself', 'it', \"it's\", 'its', 'itself', 'they', 'them', 'their',\\\n",
    "            'theirs', 'themselves', 'what', 'which', 'who', 'whom', 'this', 'that', \"that'll\", 'these', 'those', \\\n",
    "            'am', 'is', 'are', 'was', 'were', 'be', 'been', 'being', 'have', 'has', 'had', 'having', 'do', 'does', \\\n",
    "            'did', 'doing', 'a', 'an', 'the', 'and', 'but', 'if', 'or', 'because', 'as', 'until', 'while', 'of', \\\n",
    "            'at', 'by', 'for', 'with', 'about', 'against', 'between', 'into', 'through', 'during', 'before', 'after',\\\n",
    "            'above', 'below', 'to', 'from', 'up', 'down', 'in', 'out', 'on', 'off', 'over', 'under', 'again', 'further',\\\n",
    "            'then', 'once', 'here', 'there', 'when', 'where', 'why', 'how', 'all', 'any', 'both', 'each', 'few', 'more',\\\n",
    "            'most', 'other', 'some', 'such', 'only', 'own', 'same', 'so', 'than', 'too', 'very', \\\n",
    "            's', 't', 'can', 'will', 'just', 'don', \"don't\", 'should', \"should've\", 'now', 'd', 'll', 'm', 'o', 're', \\\n",
    "            've', 'y', 'ain', 'aren', \"aren't\", 'couldn', \"couldn't\", 'didn', \"didn't\", 'doesn', \"doesn't\", 'hadn',\\\n",
    "            \"hadn't\", 'hasn', \"hasn't\", 'haven', \"haven't\", 'isn', \"isn't\", 'ma', 'mightn', \"mightn't\", 'mustn',\\\n",
    "            \"mustn't\", 'needn', \"needn't\", 'shan', \"shan't\", 'shouldn', \"shouldn't\", 'wasn', \"wasn't\", 'weren', \"weren't\", \\\n",
    "            'won', \"won't\", 'wouldn', \"wouldn't\"]"
   ]
  },
  {
   "cell_type": "code",
   "execution_count": 20,
   "metadata": {},
   "outputs": [
    {
     "data": {
      "text/plain": [
       "0     Educational Support for English Learners at Home\n",
       "1                Wanted: Projector for Hungry Learners\n",
       "2    Soccer Equipment for AWESOME Middle School Stu...\n",
       "3                               Techie Kindergarteners\n",
       "4                               Interactive Math Tools\n",
       "Name: project_title, dtype: object"
      ]
     },
     "execution_count": 20,
     "metadata": {},
     "output_type": "execute_result"
    }
   ],
   "source": [
    "project_data['project_title'].head(5)"
   ]
  },
  {
   "cell_type": "code",
   "execution_count": 21,
   "metadata": {},
   "outputs": [
    {
     "name": "stdout",
     "output_type": "stream",
     "text": [
      "printing some random reviews\n",
      "9 Just For the Love of Reading--\\r\\nPure Pleasure\n",
      "34 \\\"Have A Ball!!!\\\"\n",
      "147 Who needs a Chromebook?\\r\\nWE DO!!\n"
     ]
    }
   ],
   "source": [
    "print(\"printing some random reviews\")\n",
    "print(9, project_data['project_title'].values[9])\n",
    "print(34, project_data['project_title'].values[34])\n",
    "print(147, project_data['project_title'].values[147])"
   ]
  },
  {
   "cell_type": "code",
   "execution_count": 22,
   "metadata": {},
   "outputs": [],
   "source": [
    "# Combining all the above stundents \n",
    "from tqdm import tqdm\n",
    "def preprocess_text(text_data):\n",
    "    preprocessed_text = []\n",
    "    # tqdm is for printing the status bar\n",
    "    for sentance in tqdm(text_data):\n",
    "        sent = sentance.lower()\n",
    "        sent = decontracted(sentance)\n",
    "        sent = sent.replace('\\\\r', ' ')\n",
    "        sent = sent.replace('\\\\n', ' ')\n",
    "        sent = sent.replace('\\\\\"', ' ')\n",
    "        sent = re.sub('[^A-Za-z0-9]+', ' ', sent)\n",
    "        # https://gist.github.com/sebleier/554280\n",
    "        sent = ' '.join(e for e in sent.split() if e.lower() not in stopwords)\n",
    "        preprocessed_text.append(sent.strip())\n",
    "    return preprocessed_text"
   ]
  },
  {
   "cell_type": "code",
   "execution_count": 23,
   "metadata": {},
   "outputs": [
    {
     "name": "stderr",
     "output_type": "stream",
     "text": [
      "100%|████████████████████████████████████████████████████████████████████| 109248/109248 [00:02<00:00, 51572.27it/s]\n"
     ]
    }
   ],
   "source": [
    "preprocessed_titles = preprocess_text(project_data['project_title'].values)"
   ]
  },
  {
   "cell_type": "code",
   "execution_count": 24,
   "metadata": {},
   "outputs": [],
   "source": [
    "project_data['clean_title'] = preprocessed_titles"
   ]
  },
  {
   "cell_type": "code",
   "execution_count": 25,
   "metadata": {},
   "outputs": [
    {
     "name": "stdout",
     "output_type": "stream",
     "text": [
      "printing some random reviews\n",
      "9 Love Reading Pure Pleasure\n",
      "34 Ball\n",
      "147 needs Chromebook\n"
     ]
    }
   ],
   "source": [
    "print(\"printing some random reviews\")\n",
    "print(9, preprocessed_titles[9])\n",
    "print(34, preprocessed_titles[34])\n",
    "print(147, preprocessed_titles[147])"
   ]
  },
  {
   "cell_type": "markdown",
   "metadata": {},
   "source": [
    "# 8. Preprocessing Categorical Features: essay"
   ]
  },
  {
   "cell_type": "code",
   "execution_count": 26,
   "metadata": {},
   "outputs": [],
   "source": [
    "# merge two column text dataframe: \n",
    "project_data[\"essay\"] = project_data[\"project_essay_1\"].map(str) +\\\n",
    "                        project_data[\"project_essay_2\"].map(str) + \\\n",
    "                        project_data[\"project_essay_3\"].map(str) + \\\n",
    "                        project_data[\"project_essay_4\"].map(str)"
   ]
  },
  {
   "cell_type": "code",
   "execution_count": 27,
   "metadata": {},
   "outputs": [
    {
     "name": "stdout",
     "output_type": "stream",
     "text": [
      "printing some random essay\n",
      "9 Over 95% of my students are on free or reduced lunch.  I have a few who are homeless, but despite that, they come to school with an eagerness to learn.  My students are inquisitive eager learners who  embrace the challenge of not having great books and other resources  every day.  Many of them are not afforded the opportunity to engage with these big colorful pages of a book on a regular basis at home and they don't travel to the public library.  \\r\\nIt is my duty as a teacher to do all I can to provide each student an opportunity to succeed in every aspect of life. \\r\\nReading is Fundamental! My students will read these books over and over again while boosting their comprehension skills. These books will be used for read alouds, partner reading and for Independent reading. \\r\\nThey will engage in reading to build their \\\"Love for Reading\\\" by reading for pure enjoyment. They will be introduced to some new authors as well as some old favorites. I want my students to be ready for the 21st Century and know the pleasure of holding a good hard back book in hand. There's nothing like a good book to read!  \\r\\nMy students will soar in Reading, and more because of your consideration and generous funding contribution. This will help build stamina and prepare for 3rd grade. Thank you so much for reading our proposal!nannan\n",
      "--------------------------------------------------\n",
      "34 My students mainly come from extremely low-income families, and the majority of them come from homes where both parents work full time. Most of my students are at school from 7:30 am to 6:00 pm (2:30 to 6:00 pm in the after-school program), and they all receive free and reduced meals for breakfast and lunch. \\r\\n\\r\\n\\r\\nI want my students to feel  as comfortable in my classroom as they do at home. Many of my students take on multiple roles both at home as well as in school. They are sometimes the caretakers of younger siblings, cooks, babysitters, academics, friends, and most of all, they are developing who they are going to become as adults.  I consider it an essential part of my job to model helping others gain knowledge in a positive manner. As a result, I have a community of students who love helping each other in and outside of the classroom. They consistently look for opportunities to support each other's learning in a kind and helpful way.I am excited to be experimenting with alternative seating in my classroom this school year. Studies have shown that giving students the option of where they sit in a classroom increases focus as well as motivation.  \\r\\n\\r\\nBy allowing students choice in the classroom, they are able to explore and create in a welcoming environment. Alternative classroom seating has been experimented with more frequently in recent years. I believe (along with many others), that every child learns differently. This does not only apply to how multiplication is memorized, or a paper is written, but applies to the space in which they are asked to work. I have had students in the past ask \\\"Can I work in the library? Can I work on the carpet?\\\" My answer was always, \\\"As long as you're learning, you can work wherever you want!\\\" \\r\\n\\r\\nWith the yoga balls and the lap-desks, I will be able to increase the options for seating in my classroom and expand its imaginable space.nannan\n",
      "--------------------------------------------------\n",
      "147 My students are eager to learn and make their mark on the world.\\r\\n\\r\\nThey come from a Title 1 school and need extra love.\\r\\n\\r\\nMy fourth grade students are in a high poverty area and still come to school every day to get their education. I am trying to make it fun and educational for them so they can get the most out of their schooling. I created a caring environment for the students to bloom! They deserve the best.\\r\\nThank you!\\r\\nI am requesting 1 Chromebook to access online interventions, differentiate instruction, and get extra practice. The Chromebook will be used to supplement ELA and math instruction. Students will play ELA and math games that are engaging and fun, as well as participate in assignments online. This in turn will help my students improve their skills. Having a Chromebook in the classroom would not only allow students to use the programs at their own pace, but would ensure more students are getting adequate time to use the programs. The online programs have been especially beneficial to my students with special needs. They are able to work at their level as well as be challenged with some different materials. This is making these students more confident in their abilities.\\r\\n\\r\\nThe Chromebook would allow my students to have daily access to computers and increase their computing skills.\\r\\nThis will change their lives for the better as they become more successful in school. Having access to technology in the classroom would help bridge the achievement gap.nannan\n"
     ]
    }
   ],
   "source": [
    "print(\"printing some random essay\")\n",
    "print(9, project_data['essay'].values[9])\n",
    "print('-'*50)\n",
    "print(34, project_data['essay'].values[34])\n",
    "print('-'*50)\n",
    "print(147, project_data['essay'].values[147])"
   ]
  },
  {
   "cell_type": "code",
   "execution_count": 28,
   "metadata": {},
   "outputs": [
    {
     "name": "stderr",
     "output_type": "stream",
     "text": [
      "100%|█████████████████████████████████████████████████████████████████████| 109248/109248 [00:49<00:00, 2197.25it/s]\n"
     ]
    }
   ],
   "source": [
    "preprocessed_essays = preprocess_text(project_data['essay'].values)"
   ]
  },
  {
   "cell_type": "code",
   "execution_count": 29,
   "metadata": {},
   "outputs": [],
   "source": [
    "project_data['clean_essay'] = preprocessed_essays"
   ]
  },
  {
   "cell_type": "code",
   "execution_count": 30,
   "metadata": {},
   "outputs": [
    {
     "name": "stdout",
     "output_type": "stream",
     "text": [
      "printing some random essay\n",
      "9 95 students free reduced lunch homeless despite come school eagerness learn students inquisitive eager learners embrace challenge not great books resources every day Many not afforded opportunity engage big colorful pages book regular basis home not travel public library duty teacher provide student opportunity succeed every aspect life Reading Fundamental students read books boosting comprehension skills books used read alouds partner reading Independent reading engage reading build Love Reading reading pure enjoyment introduced new authors well old favorites want students ready 21st Century know pleasure holding good hard back book hand nothing like good book read students soar Reading consideration generous funding contribution help build stamina prepare 3rd grade Thank much reading proposal nannan\n",
      "--------------------------------------------------\n",
      "34 students mainly come extremely low income families majority come homes parents work full time students school 7 30 6 00 pm 2 30 6 00 pm school program receive free reduced meals breakfast lunch want students feel comfortable classroom home Many students take multiple roles home well school sometimes caretakers younger siblings cooks babysitters academics friends developing going become adults consider essential part job model helping others gain knowledge positive manner result community students love helping outside classroom consistently look opportunities support learning kind helpful way excited experimenting alternative seating classroom school year Studies shown giving students option sit classroom increases focus well motivation allowing students choice classroom able explore create welcoming environment Alternative classroom seating experimented frequently recent years believe along many others every child learns differently not apply multiplication memorized paper written applies space asked work students past ask work library work carpet answer always long learning work wherever want yoga balls lap desks able increase options seating classroom expand imaginable space nannan\n",
      "--------------------------------------------------\n",
      "147 students eager learn make mark world come Title 1 school need extra love fourth grade students high poverty area still come school every day get education trying make fun educational get schooling created caring environment students bloom deserve best Thank requesting 1 Chromebook access online interventions differentiate instruction get extra practice Chromebook used supplement ELA math instruction Students play ELA math games engaging fun well participate assignments online turn help students improve skills Chromebook classroom would not allow students use programs pace would ensure students getting adequate time use programs online programs especially beneficial students special needs able work level well challenged different materials making students confident abilities Chromebook would allow students daily access computers increase computing skills change lives better become successful school access technology classroom would help bridge achievement gap nannan\n"
     ]
    }
   ],
   "source": [
    "print(\"printing some random essay\")\n",
    "print(9, preprocessed_essays[9])\n",
    "print('-'*50)\n",
    "print(34, preprocessed_essays[34])\n",
    "print('-'*50)\n",
    "print(147, preprocessed_essays[147])"
   ]
  },
  {
   "cell_type": "markdown",
   "metadata": {},
   "source": [
    "# 9. Preprocessing Numerical Values: price"
   ]
  },
  {
   "cell_type": "code",
   "execution_count": 31,
   "metadata": {},
   "outputs": [
    {
     "data": {
      "text/html": [
       "<div>\n",
       "<style scoped>\n",
       "    .dataframe tbody tr th:only-of-type {\n",
       "        vertical-align: middle;\n",
       "    }\n",
       "\n",
       "    .dataframe tbody tr th {\n",
       "        vertical-align: top;\n",
       "    }\n",
       "\n",
       "    .dataframe thead th {\n",
       "        text-align: right;\n",
       "    }\n",
       "</style>\n",
       "<table border=\"1\" class=\"dataframe\">\n",
       "  <thead>\n",
       "    <tr style=\"text-align: right;\">\n",
       "      <th></th>\n",
       "      <th>id</th>\n",
       "      <th>price</th>\n",
       "      <th>quantity</th>\n",
       "    </tr>\n",
       "  </thead>\n",
       "  <tbody>\n",
       "    <tr>\n",
       "      <th>0</th>\n",
       "      <td>p000001</td>\n",
       "      <td>459.56</td>\n",
       "      <td>7</td>\n",
       "    </tr>\n",
       "    <tr>\n",
       "      <th>1</th>\n",
       "      <td>p000002</td>\n",
       "      <td>515.89</td>\n",
       "      <td>21</td>\n",
       "    </tr>\n",
       "  </tbody>\n",
       "</table>\n",
       "</div>"
      ],
      "text/plain": [
       "        id   price  quantity\n",
       "0  p000001  459.56         7\n",
       "1  p000002  515.89        21"
      ]
     },
     "execution_count": 31,
     "metadata": {},
     "output_type": "execute_result"
    }
   ],
   "source": [
    "# https://stackoverflow.com/questions/22407798/how-to-reset-a-dataframes-indexes-for-all-groups-in-one-step\n",
    "price_data = resource_data.groupby('id').agg({'price':'sum', 'quantity':'sum'}).reset_index()\n",
    "price_data.head(2)"
   ]
  },
  {
   "cell_type": "code",
   "execution_count": 32,
   "metadata": {},
   "outputs": [],
   "source": [
    "# join two dataframes in python: \n",
    "project_data = pd.merge(project_data, price_data, on='id', how='left')"
   ]
  },
  {
   "cell_type": "code",
   "execution_count": 33,
   "metadata": {},
   "outputs": [
    {
     "data": {
      "text/plain": [
       "0    154.60\n",
       "1    299.00\n",
       "2    516.85\n",
       "3    232.90\n",
       "4     67.98\n",
       "Name: price, dtype: float64"
      ]
     },
     "execution_count": 33,
     "metadata": {},
     "output_type": "execute_result"
    }
   ],
   "source": [
    "project_data['price'].head()"
   ]
  },
  {
   "cell_type": "markdown",
   "metadata": {},
   "source": [
    "# Overview dataset after preprocessing done"
   ]
  },
  {
   "cell_type": "code",
   "execution_count": 34,
   "metadata": {
    "scrolled": true
   },
   "outputs": [
    {
     "data": {
      "text/html": [
       "<div>\n",
       "<style scoped>\n",
       "    .dataframe tbody tr th:only-of-type {\n",
       "        vertical-align: middle;\n",
       "    }\n",
       "\n",
       "    .dataframe tbody tr th {\n",
       "        vertical-align: top;\n",
       "    }\n",
       "\n",
       "    .dataframe thead th {\n",
       "        text-align: right;\n",
       "    }\n",
       "</style>\n",
       "<table border=\"1\" class=\"dataframe\">\n",
       "  <thead>\n",
       "    <tr style=\"text-align: right;\">\n",
       "      <th></th>\n",
       "      <th>Unnamed: 0</th>\n",
       "      <th>id</th>\n",
       "      <th>teacher_id</th>\n",
       "      <th>teacher_prefix</th>\n",
       "      <th>school_state</th>\n",
       "      <th>project_submitted_datetime</th>\n",
       "      <th>project_grade_category</th>\n",
       "      <th>project_subject_categories</th>\n",
       "      <th>project_subject_subcategories</th>\n",
       "      <th>project_title</th>\n",
       "      <th>...</th>\n",
       "      <th>project_essay_3</th>\n",
       "      <th>project_essay_4</th>\n",
       "      <th>project_resource_summary</th>\n",
       "      <th>teacher_number_of_previously_posted_projects</th>\n",
       "      <th>project_is_approved</th>\n",
       "      <th>clean_title</th>\n",
       "      <th>essay</th>\n",
       "      <th>clean_essay</th>\n",
       "      <th>price</th>\n",
       "      <th>quantity</th>\n",
       "    </tr>\n",
       "  </thead>\n",
       "  <tbody>\n",
       "    <tr>\n",
       "      <th>0</th>\n",
       "      <td>160221</td>\n",
       "      <td>p253737</td>\n",
       "      <td>c90749f5d961ff158d4b4d1e7dc665fc</td>\n",
       "      <td>mrs</td>\n",
       "      <td>in</td>\n",
       "      <td>2016-12-05 13:43:57</td>\n",
       "      <td>grades_prek_2</td>\n",
       "      <td>literacy_language</td>\n",
       "      <td>esl_literacy</td>\n",
       "      <td>Educational Support for English Learners at Home</td>\n",
       "      <td>...</td>\n",
       "      <td>NaN</td>\n",
       "      <td>NaN</td>\n",
       "      <td>My students need opportunities to practice beg...</td>\n",
       "      <td>0</td>\n",
       "      <td>0</td>\n",
       "      <td>Educational Support English Learners Home</td>\n",
       "      <td>My students are English learners that are work...</td>\n",
       "      <td>students English learners working English seco...</td>\n",
       "      <td>154.60</td>\n",
       "      <td>23</td>\n",
       "    </tr>\n",
       "    <tr>\n",
       "      <th>1</th>\n",
       "      <td>140945</td>\n",
       "      <td>p258326</td>\n",
       "      <td>897464ce9ddc600bced1151f324dd63a</td>\n",
       "      <td>mr</td>\n",
       "      <td>fl</td>\n",
       "      <td>2016-10-25 09:22:10</td>\n",
       "      <td>grades_6_8</td>\n",
       "      <td>history_civics_health_sports</td>\n",
       "      <td>civics_government_teamsports</td>\n",
       "      <td>Wanted: Projector for Hungry Learners</td>\n",
       "      <td>...</td>\n",
       "      <td>NaN</td>\n",
       "      <td>NaN</td>\n",
       "      <td>My students need a projector to help with view...</td>\n",
       "      <td>7</td>\n",
       "      <td>1</td>\n",
       "      <td>Wanted Projector Hungry Learners</td>\n",
       "      <td>Our students arrive to our school eager to lea...</td>\n",
       "      <td>students arrive school eager learn polite gene...</td>\n",
       "      <td>299.00</td>\n",
       "      <td>1</td>\n",
       "    </tr>\n",
       "    <tr>\n",
       "      <th>2</th>\n",
       "      <td>21895</td>\n",
       "      <td>p182444</td>\n",
       "      <td>3465aaf82da834c0582ebd0ef8040ca0</td>\n",
       "      <td>ms</td>\n",
       "      <td>az</td>\n",
       "      <td>2016-08-31 12:03:56</td>\n",
       "      <td>grades_6_8</td>\n",
       "      <td>health_sports</td>\n",
       "      <td>health_wellness_teamsports</td>\n",
       "      <td>Soccer Equipment for AWESOME Middle School Stu...</td>\n",
       "      <td>...</td>\n",
       "      <td>NaN</td>\n",
       "      <td>NaN</td>\n",
       "      <td>My students need shine guards, athletic socks,...</td>\n",
       "      <td>1</td>\n",
       "      <td>0</td>\n",
       "      <td>Soccer Equipment AWESOME Middle School Students</td>\n",
       "      <td>\\r\\n\\\"True champions aren't always the ones th...</td>\n",
       "      <td>True champions not always ones win guts Mia Ha...</td>\n",
       "      <td>516.85</td>\n",
       "      <td>22</td>\n",
       "    </tr>\n",
       "  </tbody>\n",
       "</table>\n",
       "<p>3 rows × 22 columns</p>\n",
       "</div>"
      ],
      "text/plain": [
       "   Unnamed: 0       id                        teacher_id teacher_prefix  \\\n",
       "0      160221  p253737  c90749f5d961ff158d4b4d1e7dc665fc            mrs   \n",
       "1      140945  p258326  897464ce9ddc600bced1151f324dd63a             mr   \n",
       "2       21895  p182444  3465aaf82da834c0582ebd0ef8040ca0             ms   \n",
       "\n",
       "  school_state project_submitted_datetime project_grade_category  \\\n",
       "0           in        2016-12-05 13:43:57          grades_prek_2   \n",
       "1           fl        2016-10-25 09:22:10             grades_6_8   \n",
       "2           az        2016-08-31 12:03:56             grades_6_8   \n",
       "\n",
       "     project_subject_categories project_subject_subcategories  \\\n",
       "0             literacy_language                  esl_literacy   \n",
       "1  history_civics_health_sports  civics_government_teamsports   \n",
       "2                 health_sports    health_wellness_teamsports   \n",
       "\n",
       "                                       project_title  ... project_essay_3  \\\n",
       "0   Educational Support for English Learners at Home  ...             NaN   \n",
       "1              Wanted: Projector for Hungry Learners  ...             NaN   \n",
       "2  Soccer Equipment for AWESOME Middle School Stu...  ...             NaN   \n",
       "\n",
       "  project_essay_4                           project_resource_summary  \\\n",
       "0             NaN  My students need opportunities to practice beg...   \n",
       "1             NaN  My students need a projector to help with view...   \n",
       "2             NaN  My students need shine guards, athletic socks,...   \n",
       "\n",
       "  teacher_number_of_previously_posted_projects project_is_approved  \\\n",
       "0                                            0                   0   \n",
       "1                                            7                   1   \n",
       "2                                            1                   0   \n",
       "\n",
       "                                       clean_title  \\\n",
       "0        Educational Support English Learners Home   \n",
       "1                 Wanted Projector Hungry Learners   \n",
       "2  Soccer Equipment AWESOME Middle School Students   \n",
       "\n",
       "                                               essay  \\\n",
       "0  My students are English learners that are work...   \n",
       "1  Our students arrive to our school eager to lea...   \n",
       "2  \\r\\n\\\"True champions aren't always the ones th...   \n",
       "\n",
       "                                         clean_essay   price quantity  \n",
       "0  students English learners working English seco...  154.60       23  \n",
       "1  students arrive school eager learn polite gene...  299.00        1  \n",
       "2  True champions not always ones win guts Mia Ha...  516.85       22  \n",
       "\n",
       "[3 rows x 22 columns]"
      ]
     },
     "execution_count": 34,
     "metadata": {},
     "output_type": "execute_result"
    }
   ],
   "source": [
    "project_data.head(3)"
   ]
  },
  {
   "cell_type": "code",
   "execution_count": 35,
   "metadata": {},
   "outputs": [],
   "source": [
    "project_data.drop(['Unnamed: 0','id','teacher_id','project_submitted_datetime','project_title',\\\n",
    "                  'project_essay_1','project_essay_2','project_essay_3','project_essay_4'], axis=1, inplace=True)"
   ]
  },
  {
   "cell_type": "code",
   "execution_count": 36,
   "metadata": {},
   "outputs": [],
   "source": [
    "project_data.to_csv('preprocessed_train.csv', index_label=False)"
   ]
  },
  {
   "cell_type": "markdown",
   "metadata": {},
   "source": [
    "# Load preprocessed data"
   ]
  },
  {
   "cell_type": "code",
   "execution_count": 1,
   "metadata": {},
   "outputs": [],
   "source": [
    "import pandas as pd\n",
    "\n",
    "# Combine the train.csv and resource.csv\n",
    "# https://stackoverflow.com/questions/22407798/how-to-reset-a-dataframes-indexes-for-all-groups-in-one-step\n",
    "project_data = pd.read_csv('preprocessed_train.csv')"
   ]
  },
  {
   "cell_type": "code",
   "execution_count": 2,
   "metadata": {},
   "outputs": [
    {
     "data": {
      "text/plain": [
       "(109248, 13)"
      ]
     },
     "execution_count": 2,
     "metadata": {},
     "output_type": "execute_result"
    }
   ],
   "source": [
    "project_data.shape"
   ]
  },
  {
   "cell_type": "code",
   "execution_count": 3,
   "metadata": {},
   "outputs": [],
   "source": [
    "count_1, count_0 = project_data['project_is_approved'].value_counts()"
   ]
  },
  {
   "cell_type": "code",
   "execution_count": 4,
   "metadata": {},
   "outputs": [
    {
     "name": "stdout",
     "output_type": "stream",
     "text": [
      "Number of label 1 contain 84.85830404217927 %\n",
      "Number of label 0 contain 15.141695957820739 %\n"
     ]
    }
   ],
   "source": [
    "print('Number of label 1 contain',(count_1/(count_1+count_0))*100,'%')\n",
    "print('Number of label 0 contain',(count_0/(count_1+count_0))*100,'%')"
   ]
  },
  {
   "cell_type": "markdown",
   "metadata": {},
   "source": [
    "# Split train and test data"
   ]
  },
  {
   "cell_type": "code",
   "execution_count": 5,
   "metadata": {},
   "outputs": [
    {
     "name": "stdout",
     "output_type": "stream",
     "text": [
      "Shape of train data: (69918, 12)\n",
      "Shape of test data: (21850, 12)\n",
      "Shape of cv data: (17480, 12)\n",
      "Shape of train label: (69918,)\n",
      "Shape of test label: (21850,)\n",
      "Shape of cv label: (17480,)\n"
     ]
    }
   ],
   "source": [
    "from sklearn.model_selection import train_test_split\n",
    "\n",
    "# Split train and test\n",
    "tr_X, ts_X, tr_y, ts_y, = train_test_split(project_data, project_data['project_is_approved'].values, test_size=0.2, random_state=1, stratify=project_data['project_is_approved'].values)\n",
    "tr_X, cv_X, tr_y, cv_y, = train_test_split(tr_X, tr_y, test_size=0.2, random_state=1, stratify=tr_y)\n",
    "tr_X = tr_X.reset_index(drop=True)\n",
    "ts_X = ts_X.reset_index(drop=True)\n",
    "cv_X = cv_X.reset_index(drop=True)\n",
    "\n",
    "# After train data, We are going to perform KFold Cross validation at the time of training model\n",
    "\n",
    "# Reset index of df\n",
    "tr_X = tr_X.reset_index(drop=True)\n",
    "ts_X = ts_X.reset_index(drop=True)\n",
    "cv_X = cv_X.reset_index(drop=True)\n",
    "tr_X.drop(['project_is_approved'], axis=1, inplace=True)\n",
    "ts_X.drop(['project_is_approved'], axis=1, inplace=True)\n",
    "cv_X.drop(['project_is_approved'], axis=1, inplace=True)\n",
    "\n",
    "print('Shape of train data:', tr_X.shape)\n",
    "print('Shape of test data:', ts_X.shape)\n",
    "print('Shape of cv data:', cv_X.shape)\n",
    "print('Shape of train label:', tr_y.shape)\n",
    "print('Shape of test label:', ts_y.shape)\n",
    "print('Shape of cv label:', cv_y.shape)"
   ]
  },
  {
   "cell_type": "markdown",
   "metadata": {},
   "source": [
    "### Model-1\n",
    "\n",
    "Build and Train deep neural network as shown below"
   ]
  },
  {
   "cell_type": "markdown",
   "metadata": {},
   "source": [
    "<img src='https://i.imgur.com/w395Yk9.png'>\n",
    "ref: https://i.imgur.com/w395Yk9.png"
   ]
  },
  {
   "cell_type": "markdown",
   "metadata": {},
   "source": [
    "- __Input_seq_total_text_data__ --- You have to give Total text data columns. After this use the Embedding layer to get word vectors. Use given predefined glove word vectors, don't train any word vectors. After this use LSTM and get the LSTM output and Flatten that output. \n",
    "- __Input_school_state__ --- Give 'school_state' column as input to embedding layer and Train the Keras Embedding layer. \n",
    "- __Project_grade_category__  --- Give 'project_grade_category' column as input to embedding layer and Train the Keras Embedding layer.\n",
    "- __Input_clean_categories__ --- Give 'input_clean_categories' column as input to embedding layer and Train the Keras Embedding layer.\n",
    "- __Input_clean_subcategories__ --- Give 'input_clean_subcategories' column as input to embedding layer and Train the Keras Embedding layer.\n",
    "- __Input_clean_subcategories__ --- Give 'input_teacher_prefix' column as input to embedding layer and Train the Keras Embedding layer.\n",
    "- __Input_remaining_teacher_number_of_previously_posted_projects._resource_summary_contains_numerical_digits._price._quantity__ ---concatenate remaining columns and add a Dense layer after that. \n",
    "\n"
   ]
  },
  {
   "cell_type": "markdown",
   "metadata": {},
   "source": [
    "- For LSTM, you can choose your sequence padding methods on your own or you can train your LSTM without padding, there is no restriction on that."
   ]
  },
  {
   "cell_type": "markdown",
   "metadata": {},
   "source": [
    "Below is an example of embedding layer for a categorical columns. In below code all are dummy values, we gave only for referance. "
   ]
  },
  {
   "cell_type": "code",
   "execution_count": 6,
   "metadata": {},
   "outputs": [
    {
     "name": "stderr",
     "output_type": "stream",
     "text": [
      "C:\\Users\\sahil\\anaconda3\\lib\\site-packages\\tensorflow\\python\\framework\\dtypes.py:516: FutureWarning: Passing (type, 1) or '1type' as a synonym of type is deprecated; in a future version of numpy, it will be understood as (type, (1,)) / '(1,)type'.\n",
      "  _np_qint8 = np.dtype([(\"qint8\", np.int8, 1)])\n",
      "C:\\Users\\sahil\\anaconda3\\lib\\site-packages\\tensorflow\\python\\framework\\dtypes.py:517: FutureWarning: Passing (type, 1) or '1type' as a synonym of type is deprecated; in a future version of numpy, it will be understood as (type, (1,)) / '(1,)type'.\n",
      "  _np_quint8 = np.dtype([(\"quint8\", np.uint8, 1)])\n",
      "C:\\Users\\sahil\\anaconda3\\lib\\site-packages\\tensorflow\\python\\framework\\dtypes.py:518: FutureWarning: Passing (type, 1) or '1type' as a synonym of type is deprecated; in a future version of numpy, it will be understood as (type, (1,)) / '(1,)type'.\n",
      "  _np_qint16 = np.dtype([(\"qint16\", np.int16, 1)])\n",
      "C:\\Users\\sahil\\anaconda3\\lib\\site-packages\\tensorflow\\python\\framework\\dtypes.py:519: FutureWarning: Passing (type, 1) or '1type' as a synonym of type is deprecated; in a future version of numpy, it will be understood as (type, (1,)) / '(1,)type'.\n",
      "  _np_quint16 = np.dtype([(\"quint16\", np.uint16, 1)])\n",
      "C:\\Users\\sahil\\anaconda3\\lib\\site-packages\\tensorflow\\python\\framework\\dtypes.py:520: FutureWarning: Passing (type, 1) or '1type' as a synonym of type is deprecated; in a future version of numpy, it will be understood as (type, (1,)) / '(1,)type'.\n",
      "  _np_qint32 = np.dtype([(\"qint32\", np.int32, 1)])\n",
      "C:\\Users\\sahil\\anaconda3\\lib\\site-packages\\tensorflow\\python\\framework\\dtypes.py:525: FutureWarning: Passing (type, 1) or '1type' as a synonym of type is deprecated; in a future version of numpy, it will be understood as (type, (1,)) / '(1,)type'.\n",
      "  np_resource = np.dtype([(\"resource\", np.ubyte, 1)])\n",
      "C:\\Users\\sahil\\anaconda3\\lib\\site-packages\\tensorboard\\compat\\tensorflow_stub\\dtypes.py:541: FutureWarning: Passing (type, 1) or '1type' as a synonym of type is deprecated; in a future version of numpy, it will be understood as (type, (1,)) / '(1,)type'.\n",
      "  _np_qint8 = np.dtype([(\"qint8\", np.int8, 1)])\n",
      "C:\\Users\\sahil\\anaconda3\\lib\\site-packages\\tensorboard\\compat\\tensorflow_stub\\dtypes.py:542: FutureWarning: Passing (type, 1) or '1type' as a synonym of type is deprecated; in a future version of numpy, it will be understood as (type, (1,)) / '(1,)type'.\n",
      "  _np_quint8 = np.dtype([(\"quint8\", np.uint8, 1)])\n",
      "C:\\Users\\sahil\\anaconda3\\lib\\site-packages\\tensorboard\\compat\\tensorflow_stub\\dtypes.py:543: FutureWarning: Passing (type, 1) or '1type' as a synonym of type is deprecated; in a future version of numpy, it will be understood as (type, (1,)) / '(1,)type'.\n",
      "  _np_qint16 = np.dtype([(\"qint16\", np.int16, 1)])\n",
      "C:\\Users\\sahil\\anaconda3\\lib\\site-packages\\tensorboard\\compat\\tensorflow_stub\\dtypes.py:544: FutureWarning: Passing (type, 1) or '1type' as a synonym of type is deprecated; in a future version of numpy, it will be understood as (type, (1,)) / '(1,)type'.\n",
      "  _np_quint16 = np.dtype([(\"quint16\", np.uint16, 1)])\n",
      "C:\\Users\\sahil\\anaconda3\\lib\\site-packages\\tensorboard\\compat\\tensorflow_stub\\dtypes.py:545: FutureWarning: Passing (type, 1) or '1type' as a synonym of type is deprecated; in a future version of numpy, it will be understood as (type, (1,)) / '(1,)type'.\n",
      "  _np_qint32 = np.dtype([(\"qint32\", np.int32, 1)])\n",
      "C:\\Users\\sahil\\anaconda3\\lib\\site-packages\\tensorboard\\compat\\tensorflow_stub\\dtypes.py:550: FutureWarning: Passing (type, 1) or '1type' as a synonym of type is deprecated; in a future version of numpy, it will be understood as (type, (1,)) / '(1,)type'.\n",
      "  np_resource = np.dtype([(\"resource\", np.ubyte, 1)])\n"
     ]
    }
   ],
   "source": [
    "from tensorflow import keras\n",
    "from tensorflow.keras.layers import Input, Embedding, LSTM, Flatten, concatenate, Dense, Dropout, Conv1D, Reshape, MaxPool1D\n",
    "from tensorflow.keras import Model\n",
    "from tensorflow.keras import layers\n",
    "from tensorflow.keras.regularizers import l2\n",
    "import tensorflow as tf\n",
    "from tensorflow.keras.preprocessing.text import Tokenizer\n",
    "from tensorflow.keras.preprocessing.sequence import pad_sequences"
   ]
  },
  {
   "cell_type": "code",
   "execution_count": 7,
   "metadata": {},
   "outputs": [],
   "source": [
    "from sklearn.preprocessing import StandardScaler\n",
    "import numpy as np\n",
    "from sklearn.feature_extraction.text import TfidfVectorizer\n",
    "from sklearn.feature_extraction.text import CountVectorizer\n",
    "from sklearn.preprocessing import OneHotEncoder\n",
    "import matplotlib.pyplot as plt\n",
    "from sklearn.metrics import roc_auc_score\n",
    "from datetime import datetime\n",
    "import itertools\n",
    "import tempfile\n",
    "from sklearn.metrics import confusion_matrix\n",
    "import os\n",
    "import pickle\n",
    "import seaborn as sns"
   ]
  },
  {
   "cell_type": "code",
   "execution_count": 8,
   "metadata": {},
   "outputs": [],
   "source": [
    "def auroc(y_true, y_pred):\n",
    "    return tf.py_function(lambda y_true, y_pred : roc_auc_score( y_true, y_pred, average='micro', sample_weight=None).astype('float32')\\\n",
    "                          , (y_true, y_pred), tf.double)"
   ]
  },
  {
   "cell_type": "code",
   "execution_count": 9,
   "metadata": {},
   "outputs": [],
   "source": [
    "def sent_to_idx(X, feat, char_to_idx):\n",
    "    X_ = []\n",
    "    for i in range(X[feat].shape[0]):\n",
    "        index = 0\n",
    "        X_.append([])\n",
    "        for j in X[feat][i].split():\n",
    "            if j in char_to_idx:\n",
    "                X_[i].insert(index, char_to_idx.get(j))\n",
    "            else:\n",
    "                X_[i].insert(index,0)\n",
    "            index += 1\n",
    "    return np.array(X_)"
   ]
  },
  {
   "cell_type": "code",
   "execution_count": 10,
   "metadata": {},
   "outputs": [],
   "source": [
    "# embop(tr_X, 'clean_essay')\n",
    "def embop(X_tr,X_ts,X_cv, feat):\n",
    "    # Maximum length of each essay in overall train data\n",
    "    X = X_tr[feat].values\n",
    "    max_ = 0\n",
    "    for i in range(X.shape[0]):\n",
    "        if max_ < len(X[i].split()):\n",
    "            max_ = len(X[i].split())\n",
    "    \n",
    "    vec = Tokenizer()\n",
    "    vec.fit_on_texts(X_tr[feat].values)\n",
    "    \n",
    "    # length of vocabuary size\n",
    "    vocab_size = len(vec.word_index)+1\n",
    "    \n",
    "    # Store word to idx value\n",
    "    char_to_idx = vec.word_index\n",
    "    \n",
    "    # Convert each sentence of train too idx value\n",
    "    trX = sent_to_idx(X_tr,feat,char_to_idx)\n",
    "    # Convert each sentence of test too idx value\n",
    "    tsX = sent_to_idx(X_ts,feat,char_to_idx)\n",
    "    # Convert each sentence of cv too idx value\n",
    "    cvX = sent_to_idx(X_cv,feat,char_to_idx)\n",
    "    \n",
    "    trX = pad_sequences(trX, maxlen=max_)\n",
    "    tsX = pad_sequences(tsX, maxlen=max_)\n",
    "    cvX = pad_sequences(cvX, maxlen=max_)\n",
    "            \n",
    "    return trX, tsX, cvX, vocab_size"
   ]
  },
  {
   "cell_type": "markdown",
   "metadata": {},
   "source": [
    "# Essay"
   ]
  },
  {
   "cell_type": "code",
   "execution_count": 11,
   "metadata": {},
   "outputs": [
    {
     "data": {
      "text/plain": [
       "((69918, 312), (21850, 312), (17480, 312), 47281)"
      ]
     },
     "execution_count": 11,
     "metadata": {},
     "output_type": "execute_result"
    }
   ],
   "source": [
    "tr_essay, ts_essay, cv_essay, essay_size = embop(tr_X, ts_X, cv_X, 'clean_essay')\n",
    "tr_essay.shape, ts_essay.shape, cv_essay.shape, essay_size"
   ]
  },
  {
   "cell_type": "code",
   "execution_count": 12,
   "metadata": {},
   "outputs": [],
   "source": [
    "# stronging variables into pickle files python: http://www.jessicayung.com/how-to-use-pickle-to-save-and-load-variables-in-python/\n",
    "# make sure you have the glove_vectors file\n",
    "with open('glove_vectors', 'rb') as f:\n",
    "    model1 = pickle.load(f)\n",
    "    glove_words =  set(model1.keys())"
   ]
  },
  {
   "cell_type": "code",
   "execution_count": 13,
   "metadata": {},
   "outputs": [],
   "source": [
    "#Creating a matrix with rows as words and columns with 50 dim vectors for each word\n",
    "def weight_essay_mat(word_index, embedding_dim = 300):\n",
    "    weight_matrix = np.zeros((len(word_index) + 1, embedding_dim))\n",
    "    for word, i in word_index.items():\n",
    "        if word in glove_words:\n",
    "            weight_matrix[i] = model1[word]\n",
    "    return weight_matrix"
   ]
  },
  {
   "cell_type": "code",
   "execution_count": 14,
   "metadata": {},
   "outputs": [],
   "source": [
    "vec = Tokenizer()\n",
    "vec.fit_on_texts(tr_X['clean_essay'].values)\n",
    "\n",
    "# Store word to idx value\n",
    "char_to_idx = vec.word_index"
   ]
  },
  {
   "cell_type": "code",
   "execution_count": 15,
   "metadata": {},
   "outputs": [
    {
     "data": {
      "text/plain": [
       "(47281, 300)"
      ]
     },
     "execution_count": 15,
     "metadata": {},
     "output_type": "execute_result"
    }
   ],
   "source": [
    "weight_essay_mat(char_to_idx).shape"
   ]
  },
  {
   "cell_type": "markdown",
   "metadata": {},
   "source": [
    "# School state"
   ]
  },
  {
   "cell_type": "code",
   "execution_count": 37,
   "metadata": {},
   "outputs": [
    {
     "data": {
      "text/plain": [
       "((69918, 1), (21850, 1), (17480, 1), 52)"
      ]
     },
     "execution_count": 37,
     "metadata": {},
     "output_type": "execute_result"
    }
   ],
   "source": [
    "tr_sch_st, ts_sch_st, cv_sch_st, school_size = embop(tr_X, ts_X, cv_X, 'school_state')\n",
    "tr_sch_st.shape, ts_sch_st.shape, cv_sch_st.shape, school_size"
   ]
  },
  {
   "cell_type": "markdown",
   "metadata": {},
   "source": [
    "# Project Grade Category"
   ]
  },
  {
   "cell_type": "code",
   "execution_count": 38,
   "metadata": {},
   "outputs": [
    {
     "data": {
      "text/plain": [
       "((69918, 1), (21850, 1), (17480, 1), 10)"
      ]
     },
     "execution_count": 38,
     "metadata": {},
     "output_type": "execute_result"
    }
   ],
   "source": [
    "tr_proj_gr, ts_proj_gr, cv_proj_gr, grade_size = embop(tr_X, ts_X, cv_X,'project_grade_category')\n",
    "tr_proj_gr.shape, ts_proj_gr.shape, cv_proj_gr.shape, grade_size"
   ]
  },
  {
   "cell_type": "markdown",
   "metadata": {},
   "source": [
    "# Project Subject Category"
   ]
  },
  {
   "cell_type": "code",
   "execution_count": 39,
   "metadata": {},
   "outputs": [
    {
     "data": {
      "text/plain": [
       "((69918, 1), (21850, 1), (17480, 1), 16)"
      ]
     },
     "execution_count": 39,
     "metadata": {},
     "output_type": "execute_result"
    }
   ],
   "source": [
    "tr_proj_cat, ts_proj_cat, cv_proj_cat, cat_size = embop(tr_X, ts_X, cv_X, 'project_subject_categories')\n",
    "tr_proj_cat.shape, ts_proj_cat.shape, cv_proj_cat.shape, cat_size"
   ]
  },
  {
   "cell_type": "markdown",
   "metadata": {},
   "source": [
    "# Project Subject Subcategory"
   ]
  },
  {
   "cell_type": "code",
   "execution_count": 40,
   "metadata": {},
   "outputs": [
    {
     "data": {
      "text/plain": [
       "((69918, 1), (21850, 1), (17480, 1), 38)"
      ]
     },
     "execution_count": 40,
     "metadata": {},
     "output_type": "execute_result"
    }
   ],
   "source": [
    "tr_proj_subcat, ts_proj_subcat, cv_proj_subcat, subcat_size = embop(tr_X, ts_X, cv_X, 'project_subject_subcategories')\n",
    "tr_proj_subcat.shape, ts_proj_subcat.shape, cv_proj_subcat.shape, subcat_size"
   ]
  },
  {
   "cell_type": "markdown",
   "metadata": {},
   "source": [
    "# Teacher prefix"
   ]
  },
  {
   "cell_type": "code",
   "execution_count": 41,
   "metadata": {},
   "outputs": [
    {
     "data": {
      "text/plain": [
       "((69918, 1), (21850, 1), (17480, 1), 6)"
      ]
     },
     "execution_count": 41,
     "metadata": {},
     "output_type": "execute_result"
    }
   ],
   "source": [
    "tr_teacher_prf, ts_teacher_prf, cv_teacher_prf, teacher_prf_size = embop(tr_X, ts_X, cv_X, 'teacher_prefix')\n",
    "tr_teacher_prf.shape, ts_teacher_prf.shape, cv_teacher_prf.shape, teacher_prf_size"
   ]
  },
  {
   "cell_type": "markdown",
   "metadata": {},
   "source": [
    "# Teacher Number Of Previously Posted Projects"
   ]
  },
  {
   "cell_type": "code",
   "execution_count": 21,
   "metadata": {},
   "outputs": [
    {
     "data": {
      "text/plain": [
       "((69918, 1), (21850, 1), (17480, 1))"
      ]
     },
     "execution_count": 21,
     "metadata": {},
     "output_type": "execute_result"
    }
   ],
   "source": [
    "norm = StandardScaler()\n",
    "tr_teacherprev_norm = norm.fit_transform(tr_X['teacher_number_of_previously_posted_projects'].values.reshape(-1,1))\n",
    "ts_teacherprev_norm = norm.transform(ts_X['teacher_number_of_previously_posted_projects'].values.reshape(-1,1))\n",
    "cv_teacherprev_norm = norm.transform(cv_X['teacher_number_of_previously_posted_projects'].values.reshape(-1,1))\n",
    "tr_teacherprev_norm.shape, ts_teacherprev_norm.shape, cv_teacherprev_norm.shape"
   ]
  },
  {
   "cell_type": "markdown",
   "metadata": {},
   "source": [
    "# Price"
   ]
  },
  {
   "cell_type": "code",
   "execution_count": 22,
   "metadata": {},
   "outputs": [
    {
     "data": {
      "text/plain": [
       "((69918, 1), (21850, 1), (17480, 1))"
      ]
     },
     "execution_count": 22,
     "metadata": {},
     "output_type": "execute_result"
    }
   ],
   "source": [
    "norm = StandardScaler()\n",
    "tr_price = norm.fit_transform(tr_X['price'].values.reshape(-1,1))\n",
    "ts_price = norm.transform(ts_X['price'].values.reshape(-1,1))\n",
    "cv_price = norm.transform(cv_X['price'].values.reshape(-1,1))\n",
    "tr_price.shape, ts_price.shape, cv_price.shape"
   ]
  },
  {
   "cell_type": "markdown",
   "metadata": {},
   "source": [
    "# Quantity"
   ]
  },
  {
   "cell_type": "code",
   "execution_count": 23,
   "metadata": {},
   "outputs": [
    {
     "data": {
      "text/plain": [
       "((69918, 1), (21850, 1), (17480, 1))"
      ]
     },
     "execution_count": 23,
     "metadata": {},
     "output_type": "execute_result"
    }
   ],
   "source": [
    "norm = StandardScaler()\n",
    "tr_quant = norm.fit_transform(tr_X['quantity'].values.reshape(-1,1))\n",
    "ts_quant = norm.transform(ts_X['quantity'].values.reshape(-1,1))\n",
    "cv_quant = norm.transform(cv_X['quantity'].values.reshape(-1,1))\n",
    "tr_quant.shape, ts_quant.shape, cv_quant.shape"
   ]
  },
  {
   "cell_type": "code",
   "execution_count": 45,
   "metadata": {},
   "outputs": [
    {
     "data": {
      "text/plain": [
       "(69918, 3)"
      ]
     },
     "execution_count": 45,
     "metadata": {},
     "output_type": "execute_result"
    }
   ],
   "source": [
    "# Merge 3 numerical features\n",
    "import numpy as np\n",
    "\n",
    "tr_3num = np.hstack((tr_teacherprev_norm, tr_price, tr_quant))\n",
    "tr_3num.shape"
   ]
  },
  {
   "cell_type": "code",
   "execution_count": 46,
   "metadata": {},
   "outputs": [
    {
     "data": {
      "text/plain": [
       "(17480, 3)"
      ]
     },
     "execution_count": 46,
     "metadata": {},
     "output_type": "execute_result"
    }
   ],
   "source": [
    "cv_3num = np.hstack((cv_teacherprev_norm, cv_price, cv_quant))\n",
    "cv_3num.shape"
   ]
  },
  {
   "cell_type": "code",
   "execution_count": 47,
   "metadata": {},
   "outputs": [
    {
     "data": {
      "text/plain": [
       "(21850, 3)"
      ]
     },
     "execution_count": 47,
     "metadata": {},
     "output_type": "execute_result"
    }
   ],
   "source": [
    "ts_3num = np.hstack((ts_teacherprev_norm, ts_price, ts_quant))\n",
    "ts_3num.shape"
   ]
  },
  {
   "cell_type": "markdown",
   "metadata": {},
   "source": [
    "# class label to onehotencoding"
   ]
  },
  {
   "cell_type": "code",
   "execution_count": 24,
   "metadata": {},
   "outputs": [
    {
     "data": {
      "text/plain": [
       "((69918,), (21850,), (17480,))"
      ]
     },
     "execution_count": 24,
     "metadata": {},
     "output_type": "execute_result"
    }
   ],
   "source": [
    "tr_y.shape, ts_y.shape, cv_y.shape"
   ]
  },
  {
   "cell_type": "markdown",
   "metadata": {},
   "source": [
    "# Model Architecture"
   ]
  },
  {
   "cell_type": "code",
   "execution_count": 25,
   "metadata": {},
   "outputs": [],
   "source": [
    "%load_ext tensorboard"
   ]
  },
  {
   "cell_type": "code",
   "execution_count": 26,
   "metadata": {},
   "outputs": [],
   "source": [
    "logdir = os.path.join('logs_1\\model_1')\n",
    "tensorboard_callback = tf.keras.callbacks.TensorBoard(log_dir=logdir,profile_batch = 100000000)"
   ]
  },
  {
   "cell_type": "code",
   "execution_count": 27,
   "metadata": {},
   "outputs": [],
   "source": [
    "early_stopping = tf.keras.callbacks.EarlyStopping(\n",
    "    monitor='val_auroc', \n",
    "    verbose=1,\n",
    "    patience=10,\n",
    "    mode='max',\n",
    "    restore_best_weights=True)"
   ]
  },
  {
   "cell_type": "code",
   "execution_count": 51,
   "metadata": {},
   "outputs": [],
   "source": [
    "# https://stats.stackexchange.com/questions/270546/how-does-keras-embedding-layer-work\n",
    "tf.keras.backend.clear_session()\n",
    "\n",
    "def model_1():\n",
    "        \n",
    "    # Text layer (69918, 312)\n",
    "    input_layer_1 = Input(shape=(312,), name='input_seq_total_text_data')\n",
    "    embedding_1 = Embedding(essay_size, 300, input_length= 312, weights=[weight_essay_mat(char_to_idx)],name='Emb_Text_Data',\\\n",
    "                           trainable=False)(input_layer_1)\n",
    "    lstm_1 = LSTM(100, return_sequences=True, name='lstm_1')(embedding_1)\n",
    "    drp_1 = Dropout(0.5)(lstm_1)\n",
    "    flatten_1 = Flatten()(drp_1)\n",
    "\n",
    "    # School state layer (69918, )\n",
    "    input_layer_2 = Input(shape=(1,), name='input_school_state')\n",
    "    embedding_2 = Embedding(input_dim=school_size, output_dim=int(np.ceil(school_size/2)), name='Emb_State_Data')(input_layer_2)\n",
    "    flatten_2 = Flatten()(embedding_2)\n",
    "\n",
    "    # Project Grade Category layer (69918, 1)\n",
    "    input_layer_3 = Input(shape=(1,), name='project_grade_category')\n",
    "    embedding_3 = Embedding(input_dim=grade_size, output_dim=int(np.ceil(grade_size/2)), name='Emb_PGC_Data')(input_layer_3)\n",
    "    flatten_3 = Flatten()(embedding_3)\n",
    "\n",
    "    # Project Subject category (69918, 1)\n",
    "    input_layer_4 = Input(shape=(1,), name='input_clean_categories')\n",
    "    embedding_4 = Embedding(input_dim=cat_size, output_dim=int(np.ceil(cat_size/2)), name='Emb_clean_categories_Data')(input_layer_4)\n",
    "    flatten_4 = Flatten()(embedding_4)\n",
    "\n",
    "    # Project subject subcategory (69918, 31)\n",
    "    input_layer_5 = Input(shape=(1,), name='input_clean_subcategories')\n",
    "    embedding_5 = Embedding(input_dim=subcat_size, output_dim=int(np.ceil(subcat_size/2)), name='Emb_clean_subcategories_Data')(input_layer_5)\n",
    "    flatten_5 = Flatten()(embedding_5)\n",
    "\n",
    "    # teacher prefix (69918, 1)\n",
    "    input_layer_6 = Input(shape=(1,), name='input_teacher_prefix')\n",
    "    embedding_6 = Embedding(input_dim=teacher_prf_size, output_dim=int(np.ceil(teacher_prf_size/2)), name='Emb_teacher_prefix_Data')(input_layer_6)\n",
    "    flatten_6 = Flatten()(embedding_6)\n",
    "\n",
    "    # 3 num feat (69918, 3)\n",
    "    input_layer_7 = Input(shape=(3,), name='input_3num_feat')\n",
    "    dense_7 = Dense(8, activation='relu', name='Dense_3numfeat_Data', kernel_initializer='glorot_normal')(input_layer_7)\n",
    "    flatten_7 = Flatten()(dense_7) \n",
    "\n",
    "    # Concat layer\n",
    "    concat_layer = concatenate(inputs=[flatten_1, flatten_2, flatten_3, flatten_4, flatten_5, flatten_6, flatten_7], \\\n",
    "                               name='concatenate')\n",
    "\n",
    "    # Dense Layer and Dropout\n",
    "    dense_8 = Dense(64, activation='relu', name='Dense_layer1_after_concat', \\\n",
    "                    kernel_initializer='glorot_normal')(concat_layer)\n",
    "    drp_8 = Dropout(0.5)(dense_8)\n",
    "\n",
    "    dense_9 = Dense(32, activation='relu', name='Dense_layer2_after_concat', \\\n",
    "                            kernel_initializer='glorot_normal')(drp_8)\n",
    "    drp_9 = Dropout(0.5)(dense_9)\n",
    "\n",
    "    dense_10 = Dense(16, activation='relu', name='Dense_layer3_after_concat', \\\n",
    "                     kernel_initializer='glorot_normal')(drp_9)\n",
    "\n",
    "    output_layer = Dense(1, activation='sigmoid')(dense_10)\n",
    "\n",
    "    # model = Model(inputs=input_layer_1, outputs=output_layer)\n",
    "    model = Model(inputs=[input_layer_1, input_layer_2, input_layer_3, input_layer_4, \\\n",
    "                          input_layer_5, input_layer_6, input_layer_7], outputs=output_layer)\n",
    "    \n",
    "    model.compile(optimizer='adam', loss='binary_crossentropy', metrics=['accuracy', auroc])\n",
    "    \n",
    "    return model"
   ]
  },
  {
   "cell_type": "code",
   "execution_count": 52,
   "metadata": {
    "scrolled": false
   },
   "outputs": [
    {
     "name": "stdout",
     "output_type": "stream",
     "text": [
      "Model: \"model\"\n",
      "__________________________________________________________________________________________________\n",
      "Layer (type)                    Output Shape         Param #     Connected to                     \n",
      "==================================================================================================\n",
      "input_seq_total_text_data (Inpu [(None, 312)]        0                                            \n",
      "__________________________________________________________________________________________________\n",
      "Emb_Text_Data (Embedding)       (None, 312, 300)     14184300    input_seq_total_text_data[0][0]  \n",
      "__________________________________________________________________________________________________\n",
      "lstm_1 (LSTM)                   (None, 312, 100)     160400      Emb_Text_Data[0][0]              \n",
      "__________________________________________________________________________________________________\n",
      "input_school_state (InputLayer) [(None, 1)]          0                                            \n",
      "__________________________________________________________________________________________________\n",
      "project_grade_category (InputLa [(None, 1)]          0                                            \n",
      "__________________________________________________________________________________________________\n",
      "input_clean_categories (InputLa [(None, 1)]          0                                            \n",
      "__________________________________________________________________________________________________\n",
      "input_clean_subcategories (Inpu [(None, 1)]          0                                            \n",
      "__________________________________________________________________________________________________\n",
      "input_teacher_prefix (InputLaye [(None, 1)]          0                                            \n",
      "__________________________________________________________________________________________________\n",
      "input_3num_feat (InputLayer)    [(None, 3)]          0                                            \n",
      "__________________________________________________________________________________________________\n",
      "dropout (Dropout)               (None, 312, 100)     0           lstm_1[0][0]                     \n",
      "__________________________________________________________________________________________________\n",
      "Emb_State_Data (Embedding)      (None, 1, 26)        1352        input_school_state[0][0]         \n",
      "__________________________________________________________________________________________________\n",
      "Emb_PGC_Data (Embedding)        (None, 1, 5)         50          project_grade_category[0][0]     \n",
      "__________________________________________________________________________________________________\n",
      "Emb_clean_categories_Data (Embe (None, 1, 8)         128         input_clean_categories[0][0]     \n",
      "__________________________________________________________________________________________________\n",
      "Emb_clean_subcategories_Data (E (None, 1, 19)        722         input_clean_subcategories[0][0]  \n",
      "__________________________________________________________________________________________________\n",
      "Emb_teacher_prefix_Data (Embedd (None, 1, 3)         18          input_teacher_prefix[0][0]       \n",
      "__________________________________________________________________________________________________\n",
      "Dense_3numfeat_Data (Dense)     (None, 8)            32          input_3num_feat[0][0]            \n",
      "__________________________________________________________________________________________________\n",
      "flatten (Flatten)               (None, 31200)        0           dropout[0][0]                    \n",
      "__________________________________________________________________________________________________\n",
      "flatten_1 (Flatten)             (None, 26)           0           Emb_State_Data[0][0]             \n",
      "__________________________________________________________________________________________________\n",
      "flatten_2 (Flatten)             (None, 5)            0           Emb_PGC_Data[0][0]               \n",
      "__________________________________________________________________________________________________\n",
      "flatten_3 (Flatten)             (None, 8)            0           Emb_clean_categories_Data[0][0]  \n",
      "__________________________________________________________________________________________________\n",
      "flatten_4 (Flatten)             (None, 19)           0           Emb_clean_subcategories_Data[0][0\n",
      "__________________________________________________________________________________________________\n",
      "flatten_5 (Flatten)             (None, 3)            0           Emb_teacher_prefix_Data[0][0]    \n",
      "__________________________________________________________________________________________________\n",
      "flatten_6 (Flatten)             (None, 8)            0           Dense_3numfeat_Data[0][0]        \n",
      "__________________________________________________________________________________________________\n",
      "concatenate (Concatenate)       (None, 31269)        0           flatten[0][0]                    \n",
      "                                                                 flatten_1[0][0]                  \n",
      "                                                                 flatten_2[0][0]                  \n",
      "                                                                 flatten_3[0][0]                  \n",
      "                                                                 flatten_4[0][0]                  \n",
      "                                                                 flatten_5[0][0]                  \n",
      "                                                                 flatten_6[0][0]                  \n",
      "__________________________________________________________________________________________________\n",
      "Dense_layer1_after_concat (Dens (None, 64)           2001280     concatenate[0][0]                \n",
      "__________________________________________________________________________________________________\n",
      "dropout_1 (Dropout)             (None, 64)           0           Dense_layer1_after_concat[0][0]  \n",
      "__________________________________________________________________________________________________\n",
      "Dense_layer2_after_concat (Dens (None, 32)           2080        dropout_1[0][0]                  \n",
      "__________________________________________________________________________________________________\n",
      "dropout_2 (Dropout)             (None, 32)           0           Dense_layer2_after_concat[0][0]  \n",
      "__________________________________________________________________________________________________\n",
      "Dense_layer3_after_concat (Dens (None, 16)           528         dropout_2[0][0]                  \n",
      "__________________________________________________________________________________________________\n",
      "dense (Dense)                   (None, 1)            17          Dense_layer3_after_concat[0][0]  \n",
      "==================================================================================================\n",
      "Total params: 16,350,907\n",
      "Trainable params: 2,166,607\n",
      "Non-trainable params: 14,184,300\n",
      "__________________________________________________________________________________________________\n"
     ]
    }
   ],
   "source": [
    "model = model_1()\n",
    "model.summary()"
   ]
  },
  {
   "cell_type": "code",
   "execution_count": 53,
   "metadata": {},
   "outputs": [
    {
     "name": "stdout",
     "output_type": "stream",
     "text": [
      "Train on 69918 samples, validate on 17480 samples\n",
      "Epoch 1/100\n",
      "69918/69918 [==============================] - 136s 2ms/sample - loss: 0.4294 - acc: 0.8459 - auroc: 0.6321 - val_loss: 0.3986 - val_acc: 0.8486 - val_auroc: 0.7265\n",
      "Epoch 2/100\n",
      "69918/69918 [==============================] - 127s 2ms/sample - loss: 0.3886 - acc: 0.8487 - auroc: 0.7221 - val_loss: 0.3894 - val_acc: 0.8487 - val_auroc: 0.7426\n",
      "Epoch 3/100\n",
      "69918/69918 [==============================] - 130s 2ms/sample - loss: 0.3725 - acc: 0.8517 - auroc: 0.7536 - val_loss: 0.3835 - val_acc: 0.8551 - val_auroc: 0.7530\n",
      "Epoch 4/100\n",
      "69918/69918 [==============================] - 133s 2ms/sample - loss: 0.3571 - acc: 0.8554 - auroc: 0.7814 - val_loss: 0.3734 - val_acc: 0.8547 - val_auroc: 0.7465\n",
      "Epoch 5/100\n",
      "69918/69918 [==============================] - 127s 2ms/sample - loss: 0.3403 - acc: 0.8618 - auroc: 0.8070 - val_loss: 0.3803 - val_acc: 0.8546 - val_auroc: 0.7415\n",
      "Epoch 6/100\n",
      "69918/69918 [==============================] - 129s 2ms/sample - loss: 0.3225 - acc: 0.8684 - auroc: 0.8321 - val_loss: 0.3811 - val_acc: 0.8523 - val_auroc: 0.7382\n",
      "Epoch 7/100\n",
      "69918/69918 [==============================] - 137s 2ms/sample - loss: 0.3043 - acc: 0.8750 - auroc: 0.8554 - val_loss: 0.3806 - val_acc: 0.8548 - val_auroc: 0.7308\n",
      "Epoch 8/100\n",
      "69918/69918 [==============================] - 133s 2ms/sample - loss: 0.2813 - acc: 0.8825 - auroc: 0.8819 - val_loss: 0.3906 - val_acc: 0.8523 - val_auroc: 0.7313\n",
      "Epoch 9/100\n",
      "69918/69918 [==============================] - 130s 2ms/sample - loss: 0.2680 - acc: 0.8876 - auroc: 0.8953 - val_loss: 0.4031 - val_acc: 0.8444 - val_auroc: 0.7306\n",
      "Epoch 10/100\n",
      "69918/69918 [==============================] - 135s 2ms/sample - loss: 0.2499 - acc: 0.8952 - auroc: 0.9113 - val_loss: 0.4130 - val_acc: 0.8380 - val_auroc: 0.7218\n",
      "Epoch 11/100\n",
      "69918/69918 [==============================] - 127s 2ms/sample - loss: 0.2357 - acc: 0.8999 - auroc: 0.9217 - val_loss: 0.4271 - val_acc: 0.8363 - val_auroc: 0.7245\n",
      "Epoch 12/100\n",
      "69918/69918 [==============================] - 136s 2ms/sample - loss: 0.2215 - acc: 0.9058 - auroc: 0.9327 - val_loss: 0.4394 - val_acc: 0.8384 - val_auroc: 0.7204\n",
      "Epoch 13/100\n",
      "69888/69918 [============================>.] - ETA: 0s - loss: 0.2105 - acc: 0.9138 - auroc: 0.9389Restoring model weights from the end of the best epoch.\n",
      "69918/69918 [==============================] - 131s 2ms/sample - loss: 0.2105 - acc: 0.9139 - auroc: 0.9390 - val_loss: 0.4478 - val_acc: 0.8478 - val_auroc: 0.7200\n",
      "Epoch 00013: early stopping\n"
     ]
    },
    {
     "data": {
      "text/plain": [
       "<tensorflow.python.keras.callbacks.History at 0x2073036f808>"
      ]
     },
     "execution_count": 53,
     "metadata": {},
     "output_type": "execute_result"
    }
   ],
   "source": [
    "model.fit(\n",
    "[tr_essay, tr_sch_st, tr_proj_gr, tr_proj_cat, tr_proj_subcat, tr_teacher_prf, tr_3num], tr_y, batch_size=256, epochs=100, \\\n",
    "    validation_data=([cv_essay, cv_sch_st, cv_proj_gr, cv_proj_cat, cv_proj_subcat, cv_teacher_prf, cv_3num], cv_y), \\\n",
    "    callbacks=[early_stopping, tensorboard_callback], verbose=1)"
   ]
  },
  {
   "cell_type": "code",
   "execution_count": 55,
   "metadata": {},
   "outputs": [
    {
     "name": "stdout",
     "output_type": "stream",
     "text": [
      "69918/69918 [==============================] - 52s 743us/sample - loss: 0.3623 - acc: 0.8620 - auroc: 0.8119s - loss - ETA: 33 - - ETA: 19s  - ETA: 9s - loss: 0.3614 - acc: - ETA: 5s - loss: 0.3614 - acc: 0.8626 - ETA: 2s - loss: 0.3622 - acc: 0.8620 - a\n",
      "Train Loss: 0.36230514043238626, Train Acc.: 0.8620097637176514, Train AUROC: 0.8119340538978577\n"
     ]
    }
   ],
   "source": [
    "# Eval score on train\n",
    "l,a,au = model.evaluate([tr_essay, tr_sch_st, tr_proj_gr, tr_proj_cat, tr_proj_subcat, tr_teacher_prf, tr_3num], \\\n",
    "                        tr_y, batch_size=256)\n",
    "print('Train Loss: {}, Train Acc.: {}, Train AUROC: {}'.format(l,a,au))"
   ]
  },
  {
   "cell_type": "code",
   "execution_count": 56,
   "metadata": {},
   "outputs": [
    {
     "name": "stdout",
     "output_type": "stream",
     "text": [
      "17480/17480 [==============================] - 13s 756us/sample - loss: 0.3835 - acc: 0.8551 - auroc: 0.7508\n",
      "CV Loss: 0.3835326408494255, CV Acc.: 0.8551487326622009, CV AUROC: 0.7508285045623779\n"
     ]
    }
   ],
   "source": [
    "# Eval score on cv\n",
    "l,a,au = model.evaluate([cv_essay, cv_sch_st, cv_proj_gr, cv_proj_cat, cv_proj_subcat, cv_teacher_prf, cv_3num], cv_y, \\\n",
    "                        batch_size=256)\n",
    "print('CV Loss: {}, CV Acc.: {}, CV AUROC: {}'.format(l,a,au))"
   ]
  },
  {
   "cell_type": "code",
   "execution_count": 57,
   "metadata": {},
   "outputs": [
    {
     "name": "stdout",
     "output_type": "stream",
     "text": [
      "21850/21850 [==============================] - 17s 757us/sample - loss: 0.3836 - acc: 0.8540 - auroc: 0.7544 - loss: 0.3844  - ETA: 1s - loss: 0.3847 - acc: 0.8534 - auroc: 0 - ETA: 0s - loss: 0.3840 - acc: 0.8537 - auroc: 0.752\n",
      "Test Loss: 0.38355304450410455, Test Acc.: 0.8540045619010925, Test AUROC: 0.7544023394584656\n"
     ]
    }
   ],
   "source": [
    "# Eval score on test\n",
    "l,a,au = model.evaluate([ts_essay, ts_sch_st, ts_proj_gr, ts_proj_cat, ts_proj_subcat, ts_teacher_prf, ts_3num], ts_y, \\\n",
    "                        batch_size=256)\n",
    "print('Test Loss: {}, Test Acc.: {}, Test AUROC: {}'.format(l,a,au))"
   ]
  },
  {
   "cell_type": "code",
   "execution_count": 57,
   "metadata": {},
   "outputs": [],
   "source": [
    "def plot_cm(labels, predictions, p=0.5):\n",
    "    cm = confusion_matrix(labels, predictions > p)\n",
    "    plt.figure(figsize=(5,5))\n",
    "    sns.heatmap(cm, annot=True, fmt=\"d\")\n",
    "    plt.title('Confusion matrix @{:.2f}'.format(p))\n",
    "    plt.ylabel('Actual label')\n",
    "    plt.xlabel('Predicted label')\n",
    "\n",
    "    print('(True Negatives): ', cm[0][0])\n",
    "    print('(False Positives): ', cm[0][1])\n",
    "    print('(False Negatives): ', cm[1][0])\n",
    "    print('(True Positives): ', cm[1][1])\n",
    "    print('Total: ', np.sum(cm[1]))"
   ]
  },
  {
   "cell_type": "code",
   "execution_count": 59,
   "metadata": {},
   "outputs": [
    {
     "name": "stdout",
     "output_type": "stream",
     "text": [
      "(True Negatives):  365\n",
      "(False Positives):  2282\n",
      "(False Negatives):  250\n",
      "(True Positives):  14583\n",
      "Total:  14833\n"
     ]
    },
    {
     "data": {
      "image/png": "[encoded data removed]",
      "text/plain": [
       "<Figure size 360x360 with 2 Axes>"
      ]
     },
     "metadata": {
      "needs_background": "light"
     },
     "output_type": "display_data"
    }
   ],
   "source": [
    "# CM for cv\n",
    "y_pred = model.predict([cv_essay, cv_sch_st, cv_proj_gr, cv_proj_cat, cv_proj_subcat, cv_teacher_prf, cv_3num])\n",
    "plot_cm(cv_y, y_pred)"
   ]
  },
  {
   "cell_type": "code",
   "execution_count": 60,
   "metadata": {},
   "outputs": [
    {
     "name": "stdout",
     "output_type": "stream",
     "text": [
      "(True Negatives):  446\n",
      "(False Positives):  2862\n",
      "(False Negatives):  328\n",
      "(True Positives):  18214\n",
      "Total:  18542\n"
     ]
    },
    {
     "data": {
      "image/png": "[encoded data removed]",
      "text/plain": [
       "<Figure size 360x360 with 2 Axes>"
      ]
     },
     "metadata": {
      "needs_background": "light"
     },
     "output_type": "display_data"
    }
   ],
   "source": [
    "# CM for test\n",
    "y_pred = model.predict([ts_essay, ts_sch_st, ts_proj_gr, ts_proj_cat, ts_proj_subcat, ts_teacher_prf, ts_3num])\n",
    "plot_cm(ts_y, y_pred)"
   ]
  },
  {
   "cell_type": "markdown",
   "metadata": {},
   "source": [
    "<table>\n",
    "    <tr>\n",
    "        <td colspan=3 style=\"text-align: center\"><strong>Model Training Overview Architecture</strong><td>\n",
    "    </tr>\n",
    "    <tr>\n",
    "        <td colspan=3><img src='model_1_arc.PNG' width=900px/>\n",
    "    </tr>\n",
    "    <tr>\n",
    "       <td style=\"text-align: center\"><strong>Training accuracy</strong></td>\\\n",
    "       <td style=\"text-align: center\"><strong>Training loss</strong></td>\n",
    "       <td style=\"text-align: center\"><strong>Training auroc</strong></td>\n",
    "    </tr>\n",
    "    <tr>\n",
    "        <td><img src='train_acc_1.PNG' width=300px /></td>\n",
    "        <td><img src='train_loss_1.PNG' width=300px /></td>\n",
    "        <td><img src='train_roc_1.PNG' width=300px /></td>\n",
    "    </tr>\n",
    "    <tr>\n",
    "       <td style=\"text-align: center\"><strong>CV accuracy</strong></td>\\\n",
    "       <td style=\"text-align: center\"><strong>CV loss</strong></td>\n",
    "       <td style=\"text-align: center\"><strong>CV auroc</strong></td>\n",
    "    </tr>\n",
    "    <tr>\n",
    "        <td><img src='val_acc_1.PNG' width=300px /></td>\n",
    "        <td><img src='val_loss_1.PNG' width=300px /></td>\n",
    "        <td><img src='val_roc_1.PNG' width=300px /></td>\n",
    "     </tr>\n",
    "</table>"
   ]
  },
  {
   "cell_type": "markdown",
   "metadata": {},
   "source": [
    ">Note: Dont worry about overfitting in this graph, we put the earlycallback parameter with patience=10 and restore_best_weights=True. So its will store the weights of best one only. best one means with highest val_auroc score"
   ]
  },
  {
   "cell_type": "markdown",
   "metadata": {},
   "source": [
    "### 1. Go through this blog, if you have any doubt on using predefined Embedding values in Embedding layer - https://machinelearningmastery.com/use-word-embedding-layers-deep-learning-keras/\n",
    "### 2. Please go through this link https://keras.io/getting-started/functional-api-guide/ and check the 'Multi-input and multi-output models' then you will get to know how to give multiple inputs. "
   ]
  },
  {
   "cell_type": "markdown",
   "metadata": {},
   "source": [
    "### Model-2"
   ]
  },
  {
   "cell_type": "markdown",
   "metadata": {},
   "source": [
    "Use the same model as above but for 'input_seq_total_text_data' give only some words in the sentance not all the words. Filter the words as below. "
   ]
  },
  {
   "cell_type": "markdown",
   "metadata": {},
   "source": [
    "<pre>\n",
    "1. Train the TF-IDF on the Train data <br>\n",
    "2. Get the idf value for each word we have in the train data. <br>\n",
    "3. Remove the low idf value and high idf value words from our data. Do some analysis on the Idf values and based on those values choose the low and high threshold value. Because very frequent words and very very rare words don't give much information. (you can plot a box plots and take only the idf scores within IQR range and corresponding words)<br>\n",
    "4. Train the LSTM after removing the Low and High idf value words. (In model-1 Train on total data but in Model-2 train on data after removing some words based on IDF values)\n",
    "</pre>"
   ]
  },
  {
   "cell_type": "code",
   "execution_count": 9,
   "metadata": {},
   "outputs": [],
   "source": [
    "from sklearn.feature_extraction.text import TfidfVectorizer\n",
    "import matplotlib.pyplot as plt\n",
    "import seaborn as sns\n",
    "import numpy as np"
   ]
  },
  {
   "cell_type": "code",
   "execution_count": 10,
   "metadata": {},
   "outputs": [
    {
     "data": {
      "text/plain": [
       "TfidfVectorizer(analyzer='word', binary=False, decode_error='strict',\n",
       "                dtype=<class 'numpy.float64'>, encoding='utf-8',\n",
       "                input='content', lowercase=True, max_df=1.0, max_features=None,\n",
       "                min_df=1, ngram_range=(1, 1), norm='l2', preprocessor=None,\n",
       "                smooth_idf=True, stop_words=None, strip_accents=None,\n",
       "                sublinear_tf=False, token_pattern='(?u)\\\\b\\\\w\\\\w+\\\\b',\n",
       "                tokenizer=None, use_idf=True, vocabulary=None)"
      ]
     },
     "execution_count": 10,
     "metadata": {},
     "output_type": "execute_result"
    }
   ],
   "source": [
    "vec = TfidfVectorizer()\n",
    "vec.fit(tr_X['clean_essay'].values)"
   ]
  },
  {
   "cell_type": "code",
   "execution_count": 11,
   "metadata": {},
   "outputs": [
    {
     "name": "stdout",
     "output_type": "stream",
     "text": [
      "Shape of idf value (47252,)\n",
      "Max idf value: 11.4619455276077 , Min idf value: 1.0076667233625343\n"
     ]
    }
   ],
   "source": [
    "# Number of words = number of idf value generated corresponding word\n",
    "idf_value = vec.idf_\n",
    "max_idf_value = max(vec.idf_)\n",
    "min_idf_value = min(vec.idf_)\n",
    "print('Shape of idf value', vec.idf_.shape)\n",
    "print('Max idf value:',max_idf_value,', Min idf value:',min_idf_value)"
   ]
  },
  {
   "cell_type": "code",
   "execution_count": 12,
   "metadata": {},
   "outputs": [
    {
     "name": "stdout",
     "output_type": "stream",
     "text": [
      "Number of words present: 47252\n"
     ]
    }
   ],
   "source": [
    "vocab = vec.vocabulary_\n",
    "print('Number of words present:',len(vocab))"
   ]
  },
  {
   "cell_type": "markdown",
   "metadata": {},
   "source": [
    "__(Just to make use idf_ and vocabulary contain same number of words)__"
   ]
  },
  {
   "cell_type": "markdown",
   "metadata": {},
   "source": [
    "Analysis of IDF value in Essay"
   ]
  },
  {
   "cell_type": "code",
   "execution_count": 13,
   "metadata": {},
   "outputs": [],
   "source": [
    "word_idf = {}\n",
    "for word in vocab.keys():\n",
    "    word_idf[word] = idf_value[vocab.get(word)] "
   ]
  },
  {
   "cell_type": "code",
   "execution_count": 14,
   "metadata": {},
   "outputs": [
    {
     "data": {
      "text/plain": [
       "47252"
      ]
     },
     "execution_count": 14,
     "metadata": {},
     "output_type": "execute_result"
    }
   ],
   "source": [
    "len(word_idf)"
   ]
  },
  {
   "cell_type": "code",
   "execution_count": 15,
   "metadata": {},
   "outputs": [
    {
     "data": {
      "image/png": "[encoded data removed]",
      "text/plain": [
       "<Figure size 432x288 with 1 Axes>"
      ]
     },
     "metadata": {
      "needs_background": "light"
     },
     "output_type": "display_data"
    }
   ],
   "source": [
    "sns.boxplot(vec.idf_)\n",
    "plt.show()"
   ]
  },
  {
   "cell_type": "markdown",
   "metadata": {},
   "source": [
    "> lower idf = 6 and upper idf value = 11"
   ]
  },
  {
   "cell_type": "code",
   "execution_count": 16,
   "metadata": {},
   "outputs": [],
   "source": [
    "lower_idf = 6\n",
    "upper_idf = 11\n",
    "\n",
    "for word in vocab.keys():\n",
    "    if word_idf[word] > lower_idf and word_idf[word] < upper_idf:\n",
    "        word_idf.pop(word)"
   ]
  },
  {
   "cell_type": "code",
   "execution_count": 17,
   "metadata": {},
   "outputs": [
    {
     "data": {
      "text/plain": [
       "25884"
      ]
     },
     "execution_count": 17,
     "metadata": {},
     "output_type": "execute_result"
    }
   ],
   "source": [
    "len(word_idf)"
   ]
  },
  {
   "cell_type": "code",
   "execution_count": 18,
   "metadata": {},
   "outputs": [
    {
     "data": {
      "text/plain": [
       "312"
      ]
     },
     "execution_count": 18,
     "metadata": {},
     "output_type": "execute_result"
    }
   ],
   "source": [
    "# Maximum length of each essay in overall train data\n",
    "X = tr_X['clean_essay'].values\n",
    "max_ = 0\n",
    "for i in range(X.shape[0]):\n",
    "    if max_ < len(X[i].split()):\n",
    "        max_ = len(X[i].split())\n",
    "max_"
   ]
  },
  {
   "cell_type": "code",
   "execution_count": 19,
   "metadata": {},
   "outputs": [],
   "source": [
    "vec = Tokenizer()\n",
    "vec.fit_on_texts(tr_X['clean_essay'].values)"
   ]
  },
  {
   "cell_type": "code",
   "execution_count": 20,
   "metadata": {},
   "outputs": [
    {
     "data": {
      "text/plain": [
       "47281"
      ]
     },
     "execution_count": 20,
     "metadata": {},
     "output_type": "execute_result"
    }
   ],
   "source": [
    "# length of vocabuary size\n",
    "vocab_size = len(vec.word_index)+1\n",
    "vocab_size"
   ]
  },
  {
   "cell_type": "code",
   "execution_count": 21,
   "metadata": {},
   "outputs": [],
   "source": [
    "# Store word to idx value\n",
    "char_to_idx = vec.word_index"
   ]
  },
  {
   "cell_type": "code",
   "execution_count": 22,
   "metadata": {},
   "outputs": [
    {
     "data": {
      "text/plain": [
       "25884"
      ]
     },
     "execution_count": 22,
     "metadata": {},
     "output_type": "execute_result"
    }
   ],
   "source": [
    "temp = list(char_to_idx.keys())\n",
    "for i in temp:\n",
    "    if i not in word_idf:\n",
    "        char_to_idx.pop(i)\n",
    "        \n",
    "len(char_to_idx)"
   ]
  },
  {
   "cell_type": "code",
   "execution_count": 23,
   "metadata": {},
   "outputs": [],
   "source": [
    "# Now since some words are remove, so their corresponding index also removed\n",
    "# SO let assign their index value sequentially\n",
    "\n",
    "index = 0\n",
    "for i in char_to_idx.keys():\n",
    "    char_to_idx[i] = index\n",
    "    index += 1"
   ]
  },
  {
   "cell_type": "code",
   "execution_count": 24,
   "metadata": {},
   "outputs": [
    {
     "data": {
      "text/plain": [
       "25884"
      ]
     },
     "execution_count": 24,
     "metadata": {},
     "output_type": "execute_result"
    }
   ],
   "source": [
    "vocab_size = len(char_to_idx)\n",
    "vocab_size"
   ]
  },
  {
   "cell_type": "code",
   "execution_count": 27,
   "metadata": {},
   "outputs": [
    {
     "data": {
      "text/plain": [
       "((69918, 312), (21850, 312), (17480, 312), 25884)"
      ]
     },
     "execution_count": 27,
     "metadata": {},
     "output_type": "execute_result"
    }
   ],
   "source": [
    "# Convert each sentence of train too idx value\n",
    "tr_essay = sent_to_idx(tr_X,'clean_essay',char_to_idx)\n",
    "# Convert each sentence of test too idx value\n",
    "ts_essay = sent_to_idx(ts_X,'clean_essay',char_to_idx)\n",
    "# Convert each sentence of cv too idx value\n",
    "cv_essay = sent_to_idx(cv_X,'clean_essay',char_to_idx)\n",
    "\n",
    "tr_essay = pad_sequences(tr_essay, maxlen=max_)\n",
    "ts_essay = pad_sequences(ts_essay, maxlen=max_)\n",
    "cv_essay = pad_sequences(cv_essay, maxlen=max_)\n",
    "tr_essay.shape, ts_essay.shape, cv_essay.shape, vocab_size"
   ]
  },
  {
   "cell_type": "code",
   "execution_count": 28,
   "metadata": {},
   "outputs": [],
   "source": [
    "# stronging variables into pickle files python: http://www.jessicayung.com/how-to-use-pickle-to-save-and-load-variables-in-python/\n",
    "# make sure you have the glove_vectors file\n",
    "with open('glove_vectors', 'rb') as f:\n",
    "    model1 = pickle.load(f)\n",
    "    glove_words =  set(model1.keys())"
   ]
  },
  {
   "cell_type": "code",
   "execution_count": 29,
   "metadata": {},
   "outputs": [],
   "source": [
    "#Creating a matrix with rows as words and columns with 50 dim vectors for each word\n",
    "def weight_essay_mat(word_index, embedding_dim = 300):\n",
    "    weight_matrix = np.zeros((len(word_index), embedding_dim))\n",
    "    for word, i in word_index.items():\n",
    "        if word in glove_words:\n",
    "            weight_matrix[i] = model1[word]\n",
    "    return weight_matrix"
   ]
  },
  {
   "cell_type": "code",
   "execution_count": 30,
   "metadata": {},
   "outputs": [
    {
     "data": {
      "text/plain": [
       "(25884, 300)"
      ]
     },
     "execution_count": 30,
     "metadata": {},
     "output_type": "execute_result"
    }
   ],
   "source": [
    "weight_essay_mat(char_to_idx).shape"
   ]
  },
  {
   "cell_type": "markdown",
   "metadata": {},
   "source": [
    "**Run all the cell except essay subcell part**"
   ]
  },
  {
   "cell_type": "markdown",
   "metadata": {},
   "source": [
    "# Model Architecture\n",
    "same as Model 1"
   ]
  },
  {
   "cell_type": "code",
   "execution_count": 31,
   "metadata": {},
   "outputs": [],
   "source": [
    "%load_ext tensorboard"
   ]
  },
  {
   "cell_type": "code",
   "execution_count": 32,
   "metadata": {},
   "outputs": [],
   "source": [
    "logdir = os.path.join('logs_1\\model_2')\n",
    "tensorboard_callback = tf.keras.callbacks.TensorBoard(log_dir=logdir,profile_batch = 100000000)"
   ]
  },
  {
   "cell_type": "code",
   "execution_count": 33,
   "metadata": {},
   "outputs": [],
   "source": [
    "early_stopping = tf.keras.callbacks.EarlyStopping(\n",
    "    monitor='val_auroc', \n",
    "    verbose=1,\n",
    "    patience=10,\n",
    "    mode='max',\n",
    "    restore_best_weights=True)"
   ]
  },
  {
   "cell_type": "code",
   "execution_count": 50,
   "metadata": {},
   "outputs": [],
   "source": [
    "# https://stats.stackexchange.com/questions/270546/how-does-keras-embedding-layer-work\n",
    "tf.keras.backend.clear_session()\n",
    "\n",
    "def model_2():\n",
    "        \n",
    "    # Text layer (69918, 312)\n",
    "    input_layer_1 = Input(shape=(312,), name='input_seq_total_text_data')\n",
    "    embedding_1 = Embedding(vocab_size, 300, input_length= 312, weights=[weight_essay_mat(char_to_idx)],name='Emb_Text_Data',\\\n",
    "                           trainable=False)(input_layer_1)\n",
    "    lstm_1 = LSTM(100, return_sequences=True, name='lstm_1')(embedding_1)\n",
    "    drp_1 = Dropout(0.5)(lstm_1)\n",
    "    flatten_1 = Flatten()(drp_1)\n",
    "\n",
    "    # School state layer (69918, )\n",
    "    input_layer_2 = Input(shape=(1,), name='input_school_state')\n",
    "    embedding_2 = Embedding(input_dim=school_size, output_dim=int(np.ceil(school_size/2)), name='Emb_State_Data')(input_layer_2)\n",
    "    flatten_2 = Flatten()(embedding_2)\n",
    "\n",
    "    # Project Grade Category layer (69918, 1)\n",
    "    input_layer_3 = Input(shape=(1,), name='project_grade_category')\n",
    "    embedding_3 = Embedding(input_dim=grade_size, output_dim=int(np.ceil(grade_size/2)), name='Emb_PGC_Data')(input_layer_3)\n",
    "    flatten_3 = Flatten()(embedding_3)\n",
    "\n",
    "    # Project Subject category (69918, 1)\n",
    "    input_layer_4 = Input(shape=(1,), name='input_clean_categories')\n",
    "    embedding_4 = Embedding(input_dim=cat_size, output_dim=int(np.ceil(cat_size/2)), name='Emb_clean_categories_Data')(input_layer_4)\n",
    "    flatten_4 = Flatten()(embedding_4)\n",
    "\n",
    "    # Project subject subcategory (69918, 31)\n",
    "    input_layer_5 = Input(shape=(1,), name='input_clean_subcategories')\n",
    "    embedding_5 = Embedding(input_dim=subcat_size, output_dim=int(np.ceil(subcat_size/2)), name='Emb_clean_subcategories_Data')(input_layer_5)\n",
    "    flatten_5 = Flatten()(embedding_5)\n",
    "\n",
    "    # teacher prefix (69918, 1)\n",
    "    input_layer_6 = Input(shape=(1,), name='input_teacher_prefix')\n",
    "    embedding_6 = Embedding(input_dim=teacher_prf_size, output_dim=int(np.ceil(teacher_prf_size/2)), name='Emb_teacher_prefix_Data')(input_layer_6)\n",
    "    flatten_6 = Flatten()(embedding_6)\n",
    "\n",
    "    # 3 num feat (69918, 3)\n",
    "    input_layer_7 = Input(shape=(3,), name='input_3num_feat')\n",
    "    dense_7 = Dense(8, activation='relu', name='Dense_3numfeat_Data', kernel_initializer='glorot_normal')(input_layer_7)\n",
    "    flatten_7 = Flatten()(dense_7) \n",
    "\n",
    "    # Concat layer\n",
    "    concat_layer = concatenate(inputs=[flatten_1, flatten_2, flatten_3, flatten_4, flatten_5, flatten_6, flatten_7], \\\n",
    "                               name='concatenate')\n",
    "\n",
    "    # Dense Layer and Dropout\n",
    "    dense_8 = Dense(64, activation='relu', name='Dense_layer1_after_concat', \\\n",
    "                    kernel_initializer='glorot_normal')(concat_layer)\n",
    "    drp_8 = Dropout(0.5)(dense_8)\n",
    "\n",
    "    dense_9 = Dense(32, activation='relu', name='Dense_layer2_after_concat', \\\n",
    "                            kernel_initializer='glorot_normal')(drp_8)\n",
    "    drp_9 = Dropout(0.5)(dense_9)\n",
    "\n",
    "    dense_10 = Dense(16, activation='relu', name='Dense_layer3_after_concat', \\\n",
    "                     kernel_initializer='glorot_normal')(drp_9)\n",
    "\n",
    "    output_layer = Dense(1, activation='sigmoid')(dense_10)\n",
    "\n",
    "    # model = Model(inputs=input_layer_1, outputs=output_layer)\n",
    "    model = Model(inputs=[input_layer_1, input_layer_2, input_layer_3, input_layer_4, \\\n",
    "                          input_layer_5, input_layer_6, input_layer_7], outputs=output_layer)\n",
    "    \n",
    "    model.compile(optimizer='adam', loss='binary_crossentropy', metrics=['accuracy', auroc])\n",
    "    \n",
    "    return model"
   ]
  },
  {
   "cell_type": "code",
   "execution_count": 51,
   "metadata": {},
   "outputs": [
    {
     "name": "stdout",
     "output_type": "stream",
     "text": [
      "WARNING:tensorflow:From C:\\Users\\sahil\\anaconda3\\lib\\site-packages\\tensorflow\\python\\keras\\initializers.py:119: calling RandomUniform.__init__ (from tensorflow.python.ops.init_ops) with dtype is deprecated and will be removed in a future version.\n",
      "Instructions for updating:\n",
      "Call initializer instance with the dtype argument instead of passing it to the constructor\n",
      "WARNING:tensorflow:From C:\\Users\\sahil\\anaconda3\\lib\\site-packages\\tensorflow\\python\\ops\\init_ops.py:1251: calling VarianceScaling.__init__ (from tensorflow.python.ops.init_ops) with dtype is deprecated and will be removed in a future version.\n",
      "Instructions for updating:\n",
      "Call initializer instance with the dtype argument instead of passing it to the constructor\n",
      "WARNING:tensorflow:From C:\\Users\\sahil\\anaconda3\\lib\\site-packages\\tensorflow\\python\\ops\\nn_impl.py:180: add_dispatch_support.<locals>.wrapper (from tensorflow.python.ops.array_ops) is deprecated and will be removed in a future version.\n",
      "Instructions for updating:\n",
      "Use tf.where in 2.0, which has the same broadcast rule as np.where\n",
      "Model: \"model\"\n",
      "__________________________________________________________________________________________________\n",
      "Layer (type)                    Output Shape         Param #     Connected to                     \n",
      "==================================================================================================\n",
      "input_seq_total_text_data (Inpu [(None, 312)]        0                                            \n",
      "__________________________________________________________________________________________________\n",
      "Emb_Text_Data (Embedding)       (None, 312, 300)     7765200     input_seq_total_text_data[0][0]  \n",
      "__________________________________________________________________________________________________\n",
      "lstm_1 (LSTM)                   (None, 312, 100)     160400      Emb_Text_Data[0][0]              \n",
      "__________________________________________________________________________________________________\n",
      "input_school_state (InputLayer) [(None, 1)]          0                                            \n",
      "__________________________________________________________________________________________________\n",
      "project_grade_category (InputLa [(None, 1)]          0                                            \n",
      "__________________________________________________________________________________________________\n",
      "input_clean_categories (InputLa [(None, 1)]          0                                            \n",
      "__________________________________________________________________________________________________\n",
      "input_clean_subcategories (Inpu [(None, 1)]          0                                            \n",
      "__________________________________________________________________________________________________\n",
      "input_teacher_prefix (InputLaye [(None, 1)]          0                                            \n",
      "__________________________________________________________________________________________________\n",
      "input_3num_feat (InputLayer)    [(None, 3)]          0                                            \n",
      "__________________________________________________________________________________________________\n",
      "dropout (Dropout)               (None, 312, 100)     0           lstm_1[0][0]                     \n",
      "__________________________________________________________________________________________________\n",
      "Emb_State_Data (Embedding)      (None, 1, 26)        1352        input_school_state[0][0]         \n",
      "__________________________________________________________________________________________________\n",
      "Emb_PGC_Data (Embedding)        (None, 1, 5)         50          project_grade_category[0][0]     \n",
      "__________________________________________________________________________________________________\n",
      "Emb_clean_categories_Data (Embe (None, 1, 8)         128         input_clean_categories[0][0]     \n",
      "__________________________________________________________________________________________________\n",
      "Emb_clean_subcategories_Data (E (None, 1, 19)        722         input_clean_subcategories[0][0]  \n",
      "__________________________________________________________________________________________________\n",
      "Emb_teacher_prefix_Data (Embedd (None, 1, 3)         18          input_teacher_prefix[0][0]       \n",
      "__________________________________________________________________________________________________\n",
      "Dense_3numfeat_Data (Dense)     (None, 8)            32          input_3num_feat[0][0]            \n",
      "__________________________________________________________________________________________________\n",
      "flatten (Flatten)               (None, 31200)        0           dropout[0][0]                    \n",
      "__________________________________________________________________________________________________\n",
      "flatten_1 (Flatten)             (None, 26)           0           Emb_State_Data[0][0]             \n",
      "__________________________________________________________________________________________________\n",
      "flatten_2 (Flatten)             (None, 5)            0           Emb_PGC_Data[0][0]               \n",
      "__________________________________________________________________________________________________\n",
      "flatten_3 (Flatten)             (None, 8)            0           Emb_clean_categories_Data[0][0]  \n",
      "__________________________________________________________________________________________________\n",
      "flatten_4 (Flatten)             (None, 19)           0           Emb_clean_subcategories_Data[0][0\n",
      "__________________________________________________________________________________________________\n",
      "flatten_5 (Flatten)             (None, 3)            0           Emb_teacher_prefix_Data[0][0]    \n",
      "__________________________________________________________________________________________________\n",
      "flatten_6 (Flatten)             (None, 8)            0           Dense_3numfeat_Data[0][0]        \n",
      "__________________________________________________________________________________________________\n",
      "concatenate (Concatenate)       (None, 31269)        0           flatten[0][0]                    \n",
      "                                                                 flatten_1[0][0]                  \n",
      "                                                                 flatten_2[0][0]                  \n",
      "                                                                 flatten_3[0][0]                  \n",
      "                                                                 flatten_4[0][0]                  \n",
      "                                                                 flatten_5[0][0]                  \n",
      "                                                                 flatten_6[0][0]                  \n",
      "__________________________________________________________________________________________________\n",
      "Dense_layer1_after_concat (Dens (None, 64)           2001280     concatenate[0][0]                \n",
      "__________________________________________________________________________________________________\n",
      "dropout_1 (Dropout)             (None, 64)           0           Dense_layer1_after_concat[0][0]  \n",
      "__________________________________________________________________________________________________\n",
      "Dense_layer2_after_concat (Dens (None, 32)           2080        dropout_1[0][0]                  \n",
      "__________________________________________________________________________________________________\n",
      "dropout_2 (Dropout)             (None, 32)           0           Dense_layer2_after_concat[0][0]  \n",
      "__________________________________________________________________________________________________\n",
      "Dense_layer3_after_concat (Dens (None, 16)           528         dropout_2[0][0]                  \n",
      "__________________________________________________________________________________________________\n",
      "dense (Dense)                   (None, 1)            17          Dense_layer3_after_concat[0][0]  \n",
      "==================================================================================================\n",
      "Total params: 9,931,807\n",
      "Trainable params: 2,166,607\n",
      "Non-trainable params: 7,765,200\n",
      "__________________________________________________________________________________________________\n"
     ]
    }
   ],
   "source": [
    "model = model_2()\n",
    "model.summary()"
   ]
  },
  {
   "cell_type": "code",
   "execution_count": 52,
   "metadata": {},
   "outputs": [
    {
     "name": "stdout",
     "output_type": "stream",
     "text": [
      "Train on 69918 samples, validate on 17480 samples\n",
      "Epoch 1/100\n",
      "69918/69918 [==============================] - 136s 2ms/sample - loss: 0.4471 - acc: 0.8394 - auroc: 0.5956 - val_loss: 0.4135 - val_acc: 0.8486 - val_auroc: 0.7109\n",
      "Epoch 2/100\n",
      "69918/69918 [==============================] - 133s 2ms/sample - loss: 0.3958 - acc: 0.8489 - auroc: 0.7015 - val_loss: 0.4001 - val_acc: 0.8496 - val_auroc: 0.7282\n",
      "Epoch 3/100\n",
      "69918/69918 [==============================] - 133s 2ms/sample - loss: 0.3827 - acc: 0.8500 - auroc: 0.7300 - val_loss: 0.3851 - val_acc: 0.8509 - val_auroc: 0.7352\n",
      "Epoch 4/100\n",
      "69918/69918 [==============================] - 132s 2ms/sample - loss: 0.3716 - acc: 0.8533 - auroc: 0.7497 - val_loss: 0.3840 - val_acc: 0.8521 - val_auroc: 0.7364\n",
      "Epoch 5/100\n",
      "69918/69918 [==============================] - 132s 2ms/sample - loss: 0.3596 - acc: 0.8564 - auroc: 0.7742 - val_loss: 0.3787 - val_acc: 0.8526 - val_auroc: 0.7301\n",
      "Epoch 6/100\n",
      "69918/69918 [==============================] - 130s 2ms/sample - loss: 0.3476 - acc: 0.8616 - auroc: 0.7943 - val_loss: 0.3797 - val_acc: 0.8509 - val_auroc: 0.7287\n",
      "Epoch 7/100\n",
      "69918/69918 [==============================] - 130s 2ms/sample - loss: 0.3330 - acc: 0.8675 - auroc: 0.8161 - val_loss: 0.3844 - val_acc: 0.8507 - val_auroc: 0.7276\n",
      "Epoch 8/100\n",
      "69918/69918 [==============================] - 131s 2ms/sample - loss: 0.3173 - acc: 0.8729 - auroc: 0.8371 - val_loss: 0.3850 - val_acc: 0.8518 - val_auroc: 0.7200\n",
      "Epoch 9/100\n",
      "69918/69918 [==============================] - 136s 2ms/sample - loss: 0.2980 - acc: 0.8820 - auroc: 0.8582 - val_loss: 0.3949 - val_acc: 0.8504 - val_auroc: 0.7153\n",
      "Epoch 10/100\n",
      "69918/69918 [==============================] - 134s 2ms/sample - loss: 0.2858 - acc: 0.8861 - auroc: 0.8719 - val_loss: 0.3977 - val_acc: 0.8515 - val_auroc: 0.7002\n",
      "Epoch 11/100\n",
      "69918/69918 [==============================] - 136s 2ms/sample - loss: 0.2677 - acc: 0.8925 - auroc: 0.8897 - val_loss: 0.4033 - val_acc: 0.8518 - val_auroc: 0.7040\n",
      "Epoch 12/100\n",
      "69918/69918 [==============================] - 136s 2ms/sample - loss: 0.2558 - acc: 0.8986 - auroc: 0.9003 - val_loss: 0.4207 - val_acc: 0.8514 - val_auroc: 0.7082\n",
      "Epoch 13/100\n",
      "69918/69918 [==============================] - 132s 2ms/sample - loss: 0.2426 - acc: 0.9029 - auroc: 0.9118 - val_loss: 0.4090 - val_acc: 0.8499 - val_auroc: 0.6994\n",
      "Epoch 14/100\n",
      "69888/69918 [============================>.] - ETA: 0s - loss: 0.2307 - acc: 0.9074 - auroc: 0.9211Restoring model weights from the end of the best epoch.\n",
      "69918/69918 [==============================] - 132s 2ms/sample - loss: 0.2307 - acc: 0.9074 - auroc: 0.9212 - val_loss: 0.4473 - val_acc: 0.8522 - val_auroc: 0.7008\n",
      "Epoch 00014: early stopping\n"
     ]
    },
    {
     "data": {
      "text/plain": [
       "<tensorflow.python.keras.callbacks.History at 0x23e47ebf148>"
      ]
     },
     "execution_count": 52,
     "metadata": {},
     "output_type": "execute_result"
    }
   ],
   "source": [
    "model.fit(\n",
    "[tr_essay, tr_sch_st, tr_proj_gr, tr_proj_cat, tr_proj_subcat, tr_teacher_prf, tr_3num], tr_y, batch_size=256, epochs=100, \\\n",
    "    validation_data=([cv_essay, cv_sch_st, cv_proj_gr, cv_proj_cat, cv_proj_subcat, cv_teacher_prf, cv_3num], cv_y), \\\n",
    "    callbacks=[early_stopping, tensorboard_callback], verbose=1)"
   ]
  },
  {
   "cell_type": "code",
   "execution_count": 53,
   "metadata": {},
   "outputs": [
    {
     "name": "stdout",
     "output_type": "stream",
     "text": [
      "69918/69918 [==============================] - 53s 759us/sample - loss: 0.3611 - acc: 0.8599 - auroc: 0.8030 - loss: 0.3601 - acc\n",
      "Train Loss: 0.3611426201957959, Train Acc.: 0.8598787188529968, Train AUROC: 0.8029965758323669\n"
     ]
    }
   ],
   "source": [
    "# Eval score on train\n",
    "l,a,au = model.evaluate([tr_essay, tr_sch_st, tr_proj_gr, tr_proj_cat, tr_proj_subcat, tr_teacher_prf, tr_3num], \\\n",
    "                        tr_y, batch_size=256)\n",
    "print('Train Loss: {}, Train Acc.: {}, Train AUROC: {}'.format(l,a,au))"
   ]
  },
  {
   "cell_type": "code",
   "execution_count": 54,
   "metadata": {},
   "outputs": [
    {
     "name": "stdout",
     "output_type": "stream",
     "text": [
      "17480/17480 [==============================] - 13s 769us/sample - loss: 0.3840 - acc: 0.8521 - auroc: 0.7351\n",
      "CV Loss: 0.3840115178913492, CV Acc.: 0.8521167039871216, CV AUROC: 0.7350538372993469\n"
     ]
    }
   ],
   "source": [
    "# Eval score on cv\n",
    "l,a,au = model.evaluate([cv_essay, cv_sch_st, cv_proj_gr, cv_proj_cat, cv_proj_subcat, cv_teacher_prf, cv_3num], cv_y, \\\n",
    "                        batch_size=256)\n",
    "print('CV Loss: {}, CV Acc.: {}, CV AUROC: {}'.format(l,a,au))"
   ]
  },
  {
   "cell_type": "code",
   "execution_count": 55,
   "metadata": {},
   "outputs": [
    {
     "name": "stdout",
     "output_type": "stream",
     "text": [
      "21850/21850 [==============================] - 17s 763us/sample - loss: 0.3830 - acc: 0.8519 - auroc: 0.7401\n",
      "Test Loss: 0.3829996793493799, Test Acc.: 0.8519451022148132, Test AUROC: 0.7401143908500671\n"
     ]
    }
   ],
   "source": [
    "# Eval score on test\n",
    "l,a,au = model.evaluate([ts_essay, ts_sch_st, ts_proj_gr, ts_proj_cat, ts_proj_subcat, ts_teacher_prf, ts_3num], ts_y, \\\n",
    "                        batch_size=256)\n",
    "print('Test Loss: {}, Test Acc.: {}, Test AUROC: {}'.format(l,a,au))"
   ]
  },
  {
   "cell_type": "code",
   "execution_count": 57,
   "metadata": {},
   "outputs": [
    {
     "name": "stdout",
     "output_type": "stream",
     "text": [
      "(True Negatives):  177\n",
      "(False Positives):  2470\n",
      "(False Negatives):  115\n",
      "(True Positives):  14718\n",
      "Total:  14833\n"
     ]
    },
    {
     "data": {
      "image/png": "[encoded data removed]",
      "text/plain": [
       "<Figure size 360x360 with 2 Axes>"
      ]
     },
     "metadata": {
      "needs_background": "light"
     },
     "output_type": "display_data"
    }
   ],
   "source": [
    "# CM for cv\n",
    "y_pred = model.predict([cv_essay, cv_sch_st, cv_proj_gr, cv_proj_cat, cv_proj_subcat, cv_teacher_prf, cv_3num])\n",
    "plot_cm(cv_y, y_pred)"
   ]
  },
  {
   "cell_type": "code",
   "execution_count": 58,
   "metadata": {},
   "outputs": [
    {
     "name": "stdout",
     "output_type": "stream",
     "text": [
      "(True Negatives):  235\n",
      "(False Positives):  3073\n",
      "(False Negatives):  162\n",
      "(True Positives):  18380\n",
      "Total:  18542\n"
     ]
    },
    {
     "data": {
      "image/png": "[encoded data removed]",
      "text/plain": [
       "<Figure size 360x360 with 2 Axes>"
      ]
     },
     "metadata": {
      "needs_background": "light"
     },
     "output_type": "display_data"
    }
   ],
   "source": [
    "# CM for test\n",
    "y_pred = model.predict([ts_essay, ts_sch_st, ts_proj_gr, ts_proj_cat, ts_proj_subcat, ts_teacher_prf, ts_3num])\n",
    "plot_cm(ts_y, y_pred)"
   ]
  },
  {
   "cell_type": "markdown",
   "metadata": {},
   "source": [
    "<table>\n",
    "    <tr>\n",
    "        <td colspan=3 style=\"text-align: center\"><strong>Model Training Overview Architecture</strong><td>\n",
    "    </tr>\n",
    "    <tr>\n",
    "        <td colspan=3><img src='model_2_arc.PNG' width=900px/>\n",
    "    </tr>\n",
    "    <tr>\n",
    "       <td style=\"text-align: center\"><strong>Training accuracy</strong></td>\\\n",
    "       <td style=\"text-align: center\"><strong>Training loss</strong></td>\n",
    "       <td style=\"text-align: center\"><strong>Training auroc</strong></td>\n",
    "    </tr>\n",
    "    <tr>\n",
    "        <td><img src='train_acc_2.PNG' width=300px /></td>\n",
    "        <td><img src='train_loss_2.PNG' width=300px /></td>\n",
    "        <td><img src='train_roc_2.PNG' width=300px /></td>\n",
    "    </tr>\n",
    "    <tr>\n",
    "       <td style=\"text-align: center\"><strong>CV accuracy</strong></td>\\\n",
    "       <td style=\"text-align: center\"><strong>CV loss</strong></td>\n",
    "       <td style=\"text-align: center\"><strong>CV auroc</strong></td>\n",
    "    </tr>\n",
    "    <tr>\n",
    "        <td><img src='val_acc_2.PNG' width=300px /></td>\n",
    "        <td><img src='val_loss_2.PNG' width=300px /></td>\n",
    "        <td><img src='val_roc_2.PNG' width=300px /></td>\n",
    "     </tr>\n",
    "</table>"
   ]
  },
  {
   "cell_type": "markdown",
   "metadata": {},
   "source": [
    ">Note: Dont worry about overfitting in this graph, we put the earlycallback parameter with patience=10 and restore_best_weights=True. So its will store the weights of best one only. best one means with highest val_auroc score"
   ]
  },
  {
   "cell_type": "markdown",
   "metadata": {},
   "source": [
    "### Model-3"
   ]
  },
  {
   "cell_type": "markdown",
   "metadata": {},
   "source": [
    "<img src='https://i.imgur.com/fkQ8nGo.png'>\n",
    "ref: https://i.imgur.com/fkQ8nGo.png"
   ]
  },
  {
   "cell_type": "markdown",
   "metadata": {},
   "source": [
    "\n",
    "- __input_seq_total_text_data__: <br>\n",
    "<pre>\n",
    "    . Use text column('essay'), and use the Embedding layer to get word vectors. <br>\n",
    "    . Use given predefined glove word vectors, don't train any word vectors. <br>\n",
    "    . Use LSTM that is given above, get the LSTM output and Flatten that output. <br>\n",
    "    . You are free to preprocess the input text as you needed. <br>\n",
    "</pre>\n",
    "- __Other_than_text_data__:<br>\n",
    "<pre>\n",
    "    . Convert all your Categorical values to onehot coded and then concatenate all these onehot vectors <br>\n",
    "    . Neumerical values and use <a href='https://keras.io/getting-started/sequential-model-guide/#sequence-classification-with-1d-convolutions'>CNN1D</a> as shown in above figure. <br>\n",
    "    . You are free to choose all CNN parameters like kernel sizes, stride.<br>\n",
    "    \n",
    "</pre>"
   ]
  },
  {
   "cell_type": "code",
   "execution_count": 25,
   "metadata": {},
   "outputs": [],
   "source": [
    "from scipy.sparse import hstack\n",
    "import matplotlib.pyplot as plt"
   ]
  },
  {
   "cell_type": "code",
   "execution_count": 16,
   "metadata": {},
   "outputs": [
    {
     "data": {
      "text/plain": [
       "((69918, 51), (21850, 51), (17480, 51), 51)"
      ]
     },
     "execution_count": 16,
     "metadata": {},
     "output_type": "execute_result"
    }
   ],
   "source": [
    "# School State\n",
    "vec = OneHotEncoder(handle_unknown='ignore')\n",
    "tr_sch_st = vec.fit_transform(tr_X['school_state'].values.reshape(-1,1))\n",
    "ts_sch_st = vec.transform(ts_X['school_state'].values.reshape(-1,1))\n",
    "cv_sch_st = vec.transform(cv_X['school_state'].values.reshape(-1,1))\n",
    "school_size = len(vec.categories_[0])\n",
    "tr_sch_st.shape, ts_sch_st.shape, cv_sch_st.shape, school_size"
   ]
  },
  {
   "cell_type": "code",
   "execution_count": 17,
   "metadata": {},
   "outputs": [
    {
     "data": {
      "text/plain": [
       "((69918, 4), (21850, 4), (17480, 4), 4)"
      ]
     },
     "execution_count": 17,
     "metadata": {},
     "output_type": "execute_result"
    }
   ],
   "source": [
    "# Project State\n",
    "vec = OneHotEncoder(handle_unknown='ignore')\n",
    "tr_proj_gr = vec.fit_transform(tr_X['project_grade_category'].values.reshape(-1,1))\n",
    "ts_proj_gr = vec.transform(ts_X['project_grade_category'].values.reshape(-1,1))\n",
    "cv_proj_gr = vec.transform(cv_X['project_grade_category'].values.reshape(-1,1))\n",
    "grade_size = len(vec.categories_[0])\n",
    "tr_proj_gr.shape, ts_proj_gr.shape, cv_proj_gr.shape, grade_size"
   ]
  },
  {
   "cell_type": "code",
   "execution_count": 18,
   "metadata": {},
   "outputs": [
    {
     "data": {
      "text/plain": [
       "((69918, 51), (21850, 51), (17480, 51), 51)"
      ]
     },
     "execution_count": 18,
     "metadata": {},
     "output_type": "execute_result"
    }
   ],
   "source": [
    "# Project Subject Categories\n",
    "vec = OneHotEncoder(handle_unknown='ignore')\n",
    "tr_proj_cat = vec.fit_transform(tr_X['project_subject_categories'].values.reshape(-1,1))\n",
    "ts_proj_cat = vec.transform(ts_X['project_subject_categories'].values.reshape(-1,1))\n",
    "cv_proj_cat = vec.transform(cv_X['project_subject_categories'].values.reshape(-1,1))\n",
    "cat_size = len(vec.categories_[0])\n",
    "tr_proj_cat.shape, ts_proj_cat.shape, cv_proj_cat.shape, cat_size"
   ]
  },
  {
   "cell_type": "code",
   "execution_count": 19,
   "metadata": {},
   "outputs": [
    {
     "data": {
      "text/plain": [
       "((69918, 393), (21850, 393), (17480, 393), 393)"
      ]
     },
     "execution_count": 19,
     "metadata": {},
     "output_type": "execute_result"
    }
   ],
   "source": [
    "# Project Subject SubCategories\n",
    "vec = OneHotEncoder(handle_unknown='ignore')\n",
    "tr_proj_subcat = vec.fit_transform(tr_X['project_subject_subcategories'].values.reshape(-1,1))\n",
    "ts_proj_subcat = vec.transform(ts_X['project_subject_subcategories'].values.reshape(-1,1))\n",
    "cv_proj_subcat = vec.transform(cv_X['project_subject_subcategories'].values.reshape(-1,1))\n",
    "subcat_size = len(vec.categories_[0])\n",
    "tr_proj_subcat.shape, ts_proj_subcat.shape, cv_proj_subcat.shape, subcat_size"
   ]
  },
  {
   "cell_type": "code",
   "execution_count": 20,
   "metadata": {},
   "outputs": [
    {
     "data": {
      "text/plain": [
       "((69918, 5), (21850, 5), (17480, 5), 5)"
      ]
     },
     "execution_count": 20,
     "metadata": {},
     "output_type": "execute_result"
    }
   ],
   "source": [
    "# Teacher Prefix\n",
    "vec = OneHotEncoder(handle_unknown='ignore')\n",
    "tr_teacher_prf = vec.fit_transform(tr_X['teacher_prefix'].values.reshape(-1,1))\n",
    "ts_teacher_prf = vec.transform(ts_X['teacher_prefix'].values.reshape(-1,1))\n",
    "cv_teacher_prf = vec.transform(cv_X['teacher_prefix'].values.reshape(-1,1))\n",
    "teacher_prf_size = len(vec.categories_[0])\n",
    "tr_teacher_prf.shape, ts_teacher_prf.shape, cv_teacher_prf.shape, teacher_prf_size"
   ]
  },
  {
   "cell_type": "markdown",
   "metadata": {},
   "source": [
    "For numerical feature , already defined in before model_1. Go and compile 3 numerical only"
   ]
  },
  {
   "cell_type": "markdown",
   "metadata": {},
   "source": [
    "# Merge above features"
   ]
  },
  {
   "cell_type": "code",
   "execution_count": 25,
   "metadata": {},
   "outputs": [
    {
     "data": {
      "text/plain": [
       "((69918, 312),\n",
       " (69918, 51),\n",
       " (69918, 4),\n",
       " (69918, 51),\n",
       " (69918, 393),\n",
       " (69918, 5),\n",
       " (69918, 1),\n",
       " (69918, 1),\n",
       " (69918, 1))"
      ]
     },
     "execution_count": 25,
     "metadata": {},
     "output_type": "execute_result"
    }
   ],
   "source": [
    "tr_essay.shape, tr_sch_st.shape, tr_proj_gr.shape, tr_proj_cat.shape, tr_proj_subcat.shape, tr_teacher_prf.shape, tr_teacherprev_norm.shape, \\\n",
    "                    tr_price.shape, tr_quant.shape"
   ]
  },
  {
   "cell_type": "code",
   "execution_count": 46,
   "metadata": {},
   "outputs": [],
   "source": [
    "# Everything beforehand was some text, so we converted into numerical feature\n",
    "tr_other = hstack((tr_sch_st, tr_proj_gr, tr_proj_cat, tr_proj_subcat, tr_teacher_prf, tr_teacherprev_norm, \\\n",
    "                    tr_price, tr_quant))"
   ]
  },
  {
   "cell_type": "code",
   "execution_count": 47,
   "metadata": {},
   "outputs": [
    {
     "data": {
      "text/plain": [
       "(69918, 507)"
      ]
     },
     "execution_count": 47,
     "metadata": {},
     "output_type": "execute_result"
    }
   ],
   "source": [
    "tr_other = tr_other.toarray()\n",
    "tr_other.shape"
   ]
  },
  {
   "cell_type": "code",
   "execution_count": 48,
   "metadata": {},
   "outputs": [
    {
     "data": {
      "text/plain": [
       "(21850, 507)"
      ]
     },
     "execution_count": 48,
     "metadata": {},
     "output_type": "execute_result"
    }
   ],
   "source": [
    "# Everything beforehand was some text, so we converted into numerical feature\n",
    "ts_other = hstack((ts_sch_st, ts_proj_gr, ts_proj_cat, ts_proj_subcat, ts_teacher_prf, ts_teacherprev_norm, \\\n",
    "                    ts_price, ts_quant))\n",
    "\n",
    "ts_other = ts_other.toarray()\n",
    "ts_other.shape"
   ]
  },
  {
   "cell_type": "code",
   "execution_count": 49,
   "metadata": {},
   "outputs": [
    {
     "data": {
      "text/plain": [
       "(17480, 507)"
      ]
     },
     "execution_count": 49,
     "metadata": {},
     "output_type": "execute_result"
    }
   ],
   "source": [
    "# Everything beforehand was some text, so we converted into numerical feature\n",
    "cv_other = hstack((cv_sch_st, cv_proj_gr, cv_proj_cat, cv_proj_subcat, cv_teacher_prf, cv_teacherprev_norm, \\\n",
    "                    cv_price, cv_quant))\n",
    "\n",
    "cv_other = cv_other.toarray()\n",
    "cv_other.shape"
   ]
  },
  {
   "cell_type": "code",
   "execution_count": 31,
   "metadata": {},
   "outputs": [
    {
     "data": {
      "text/plain": [
       "((47281, 300), 47281)"
      ]
     },
     "execution_count": 31,
     "metadata": {},
     "output_type": "execute_result"
    }
   ],
   "source": [
    "weight_essay_mat(char_to_idx).shape, essay_size"
   ]
  },
  {
   "cell_type": "markdown",
   "metadata": {},
   "source": [
    "# Model Architecture"
   ]
  },
  {
   "cell_type": "code",
   "execution_count": 32,
   "metadata": {},
   "outputs": [],
   "source": [
    "%load_ext tensorboard"
   ]
  },
  {
   "cell_type": "code",
   "execution_count": 33,
   "metadata": {},
   "outputs": [],
   "source": [
    "logdir = os.path.join('logs_1\\model_3')\n",
    "tensorboard_callback = tf.keras.callbacks.TensorBoard(log_dir=logdir,profile_batch = 100000000)"
   ]
  },
  {
   "cell_type": "code",
   "execution_count": 34,
   "metadata": {},
   "outputs": [],
   "source": [
    "early_stopping = tf.keras.callbacks.EarlyStopping(\n",
    "    monitor='val_auroc', \n",
    "    verbose=1,\n",
    "    patience=10,\n",
    "    mode='max',\n",
    "    restore_best_weights=True)"
   ]
  },
  {
   "cell_type": "code",
   "execution_count": 42,
   "metadata": {},
   "outputs": [],
   "source": [
    "# https://stats.stackexchange.com/questions/270546/how-does-keras-embedding-layer-work\n",
    "tf.keras.backend.clear_session()\n",
    "\n",
    "def model_3():\n",
    "        \n",
    "    # Text layer ((118662, 312)\n",
    "    input_layer_1 = Input(shape=(312,), name='input_seq_total_text_data')\n",
    "    embedding_1 = Embedding(essay_size, 300, input_length= 312, weights=[weight_essay_mat(char_to_idx)],name='Emb_Text_Data',\\\n",
    "                           trainable=False)(input_layer_1)\n",
    "    lstm_1 = LSTM(256, name='lstm_1', return_sequences=True)(embedding_1)\n",
    "    drp_1 = Dropout(0.5)(lstm_1)\n",
    "    flatten_1 = Flatten()(drp_1)\n",
    "\n",
    "    # Other text feat (118662, 507)\n",
    "    input_layer_2 = Input(shape=(507,1), name='input_3num_feat')\n",
    "    res = Reshape((507,1))(input_layer_2)\n",
    "    conv1_2 = Conv1D(16, 3, kernel_initializer='glorot_normal', activation='relu', input_shape=(507,1))(input_layer_2)\n",
    "    max1_2 = MaxPool1D(2)(conv1_2)\n",
    "    drp1 = Dropout(0.5)(max1_2)\n",
    "    conv2_2 = Conv1D(8, 3, kernel_initializer='glorot_normal', activation='relu')(drp1)\n",
    "    max2_2 = MaxPool1D(2)(conv2_2)\n",
    "    drp2 = Dropout(0.5)(max2_2)\n",
    "    conv3_2 = Conv1D(4, 1, kernel_initializer='glorot_normal', activation='relu')(drp1)\n",
    "    max3_2 = MaxPool1D(2)(conv3_2)\n",
    "    drp3 = Dropout(0.5)(max3_2)\n",
    "    flatten_2 = Flatten()(drp3) \n",
    "\n",
    "    # Concat layer\n",
    "    concat_layer = concatenate(inputs=[flatten_1, flatten_2], name='concatenate')\n",
    "\n",
    "    # Dense Layer and Dropout\n",
    "    dense_8 = Dense(64, activation='relu', name='Dense_layer1_after_concat', \\\n",
    "                    kernel_initializer='glorot_normal')(concat_layer)\n",
    "    drp_8 = Dropout(0.5)(dense_8)\n",
    "\n",
    "    dense_9 = Dense(32, activation='relu', name='Dense_layer2_after_concat', \\\n",
    "                            kernel_initializer='glorot_normal')(drp_8)\n",
    "    drp_9 = Dropout(0.5)(dense_9)\n",
    "\n",
    "    dense_10 = Dense(16, activation='relu', name='Dense_layer3_after_concat', \\\n",
    "                     kernel_initializer='glorot_normal')(drp_9)\n",
    "\n",
    "    output_layer = Dense(1, activation='sigmoid')(dense_10)\n",
    "\n",
    "    # model = Model(inputs=input_layer_1, outputs=output_layer)\n",
    "    model = Model(inputs=[input_layer_1, input_layer_2], outputs=output_layer)\n",
    "    \n",
    "    model.compile(optimizer='adam', loss='binary_crossentropy', metrics=['accuracy', auroc])\n",
    "    \n",
    "    return model"
   ]
  },
  {
   "cell_type": "code",
   "execution_count": 51,
   "metadata": {},
   "outputs": [
    {
     "name": "stdout",
     "output_type": "stream",
     "text": [
      "Model: \"model_1\"\n",
      "__________________________________________________________________________________________________\n",
      "Layer (type)                    Output Shape         Param #     Connected to                     \n",
      "==================================================================================================\n",
      "input_3num_feat (InputLayer)    [(None, 507, 1)]     0                                            \n",
      "__________________________________________________________________________________________________\n",
      "conv1d_3 (Conv1D)               (None, 505, 16)      64          input_3num_feat[0][0]            \n",
      "__________________________________________________________________________________________________\n",
      "max_pooling1d_3 (MaxPooling1D)  (None, 252, 16)      0           conv1d_3[0][0]                   \n",
      "__________________________________________________________________________________________________\n",
      "input_seq_total_text_data (Inpu [(None, 312)]        0                                            \n",
      "__________________________________________________________________________________________________\n",
      "dropout_7 (Dropout)             (None, 252, 16)      0           max_pooling1d_3[0][0]            \n",
      "__________________________________________________________________________________________________\n",
      "Emb_Text_Data (Embedding)       (None, 312, 300)     14184300    input_seq_total_text_data[0][0]  \n",
      "__________________________________________________________________________________________________\n",
      "conv1d_5 (Conv1D)               (None, 252, 4)       68          dropout_7[0][0]                  \n",
      "__________________________________________________________________________________________________\n",
      "lstm_1 (LSTM)                   (None, 312, 256)     570368      Emb_Text_Data[0][0]              \n",
      "__________________________________________________________________________________________________\n",
      "max_pooling1d_5 (MaxPooling1D)  (None, 126, 4)       0           conv1d_5[0][0]                   \n",
      "__________________________________________________________________________________________________\n",
      "dropout_6 (Dropout)             (None, 312, 256)     0           lstm_1[0][0]                     \n",
      "__________________________________________________________________________________________________\n",
      "dropout_9 (Dropout)             (None, 126, 4)       0           max_pooling1d_5[0][0]            \n",
      "__________________________________________________________________________________________________\n",
      "flatten_2 (Flatten)             (None, 79872)        0           dropout_6[0][0]                  \n",
      "__________________________________________________________________________________________________\n",
      "flatten_3 (Flatten)             (None, 504)          0           dropout_9[0][0]                  \n",
      "__________________________________________________________________________________________________\n",
      "concatenate (Concatenate)       (None, 80376)        0           flatten_2[0][0]                  \n",
      "                                                                 flatten_3[0][0]                  \n",
      "__________________________________________________________________________________________________\n",
      "Dense_layer1_after_concat (Dens (None, 64)           5144128     concatenate[0][0]                \n",
      "__________________________________________________________________________________________________\n",
      "dropout_10 (Dropout)            (None, 64)           0           Dense_layer1_after_concat[0][0]  \n",
      "__________________________________________________________________________________________________\n",
      "Dense_layer2_after_concat (Dens (None, 32)           2080        dropout_10[0][0]                 \n",
      "__________________________________________________________________________________________________\n",
      "dropout_11 (Dropout)            (None, 32)           0           Dense_layer2_after_concat[0][0]  \n",
      "__________________________________________________________________________________________________\n",
      "Dense_layer3_after_concat (Dens (None, 16)           528         dropout_11[0][0]                 \n",
      "__________________________________________________________________________________________________\n",
      "dense_1 (Dense)                 (None, 1)            17          Dense_layer3_after_concat[0][0]  \n",
      "==================================================================================================\n",
      "Total params: 19,901,553\n",
      "Trainable params: 5,717,253\n",
      "Non-trainable params: 14,184,300\n",
      "__________________________________________________________________________________________________\n"
     ]
    }
   ],
   "source": [
    "model = model_3()\n",
    "model.summary()"
   ]
  },
  {
   "cell_type": "code",
   "execution_count": 52,
   "metadata": {
    "scrolled": false
   },
   "outputs": [
    {
     "name": "stdout",
     "output_type": "stream",
     "text": [
      "Train on 69918 samples, validate on 17480 samples\n",
      "Epoch 1/100\n",
      "69918/69918 [==============================] - 227s 3ms/sample - loss: 0.4343 - acc: 0.8451 - auroc: 0.6310 - val_loss: 0.4464 - val_acc: 0.8486 - val_auroc: 0.7065\n",
      "Epoch 2/100\n",
      "69918/69918 [==============================] - 227s 3ms/sample - loss: 0.3952 - acc: 0.8490 - auroc: 0.7055 - val_loss: 0.4385 - val_acc: 0.8486 - val_auroc: 0.7282\n",
      "Epoch 3/100\n",
      "69918/69918 [==============================] - 228s 3ms/sample - loss: 0.3811 - acc: 0.8497 - auroc: 0.7364 - val_loss: 0.4221 - val_acc: 0.8484 - val_auroc: 0.7269\n",
      "Epoch 4/100\n",
      "69918/69918 [==============================] - 227s 3ms/sample - loss: 0.3681 - acc: 0.8505 - auroc: 0.7654 - val_loss: 0.4179 - val_acc: 0.8508 - val_auroc: 0.7222\n",
      "Epoch 5/100\n",
      "69918/69918 [==============================] - 224s 3ms/sample - loss: 0.3520 - acc: 0.8548 - auroc: 0.7944 - val_loss: 0.4092 - val_acc: 0.8525 - val_auroc: 0.7208\n",
      "Epoch 6/100\n",
      "69918/69918 [==============================] - 225s 3ms/sample - loss: 0.3279 - acc: 0.8589 - auroc: 0.8295 - val_loss: 0.3964 - val_acc: 0.8525 - val_auroc: 0.7105\n",
      "Epoch 7/100\n",
      "69918/69918 [==============================] - 226s 3ms/sample - loss: 0.3036 - acc: 0.8675 - auroc: 0.8628 - val_loss: 0.4065 - val_acc: 0.8422 - val_auroc: 0.7107\n",
      "Epoch 8/100\n",
      "69918/69918 [==============================] - 226s 3ms/sample - loss: 0.2756 - acc: 0.8794 - auroc: 0.8913 - val_loss: 0.4158 - val_acc: 0.8324 - val_auroc: 0.7077\n",
      "Epoch 9/100\n",
      "69918/69918 [==============================] - 226s 3ms/sample - loss: 0.2493 - acc: 0.8911 - auroc: 0.9149 - val_loss: 0.4203 - val_acc: 0.8324 - val_auroc: 0.6960\n",
      "Epoch 10/100\n",
      "69918/69918 [==============================] - 227s 3ms/sample - loss: 0.2222 - acc: 0.9049 - auroc: 0.9341 - val_loss: 0.4311 - val_acc: 0.8308 - val_auroc: 0.6992\n",
      "Epoch 11/100\n",
      "69918/69918 [==============================] - 225s 3ms/sample - loss: 0.2024 - acc: 0.9136 - auroc: 0.9474 - val_loss: 0.4423 - val_acc: 0.8327 - val_auroc: 0.6910\n",
      "Epoch 12/100\n",
      "69900/69918 [============================>.] - ETA: 0s - loss: 0.5493 - acc: 0.8123 - auroc: 0.7114Restoring model weights from the end of the best epoch.\n",
      "69918/69918 [==============================] - 225s 3ms/sample - loss: 0.5492 - acc: 0.8123 - auroc: 0.7102 - val_loss: 0.4858 - val_acc: 0.8486 - val_auroc: 0.5953\n",
      "Epoch 00012: early stopping\n"
     ]
    },
    {
     "data": {
      "text/plain": [
       "<tensorflow.python.keras.callbacks.History at 0x20856070d08>"
      ]
     },
     "execution_count": 52,
     "metadata": {},
     "output_type": "execute_result"
    }
   ],
   "source": [
    "# tr_other = tr_other[:, :, np.newaxis]\n",
    "# cv_other = cv_other[:, :, np.newaxis]\n",
    "model.fit([tr_essay, tr_other], tr_y, batch_size=300, epochs=100, validation_data=([cv_essay, cv_other], cv_y), \\\n",
    "          callbacks=[early_stopping, tensorboard_callback], verbose=1)"
   ]
  },
  {
   "cell_type": "code",
   "execution_count": 54,
   "metadata": {},
   "outputs": [
    {
     "name": "stdout",
     "output_type": "stream",
     "text": [
      "69918/69918 [==============================] - 74s 1ms/sample - loss: 0.4324 - acc: 0.8486 - auroc: 0.7623\n",
      "Train Loss: 0.43238280363566967, Train Acc.: 0.8486369848251343, Train AUROC: 0.7623317837715149\n"
     ]
    }
   ],
   "source": [
    "# Eval score on train\n",
    "l,a,au = model.evaluate([tr_essay, tr_other], tr_y, batch_size=300)\n",
    "print('Train Loss: {}, Train Acc.: {}, Train AUROC: {}'.format(l,a,au))"
   ]
  },
  {
   "cell_type": "code",
   "execution_count": 55,
   "metadata": {},
   "outputs": [
    {
     "name": "stdout",
     "output_type": "stream",
     "text": [
      "17480/17480 [==============================] - 19s 1ms/sample - loss: 0.4385 - acc: 0.8486 - auroc: 0.7300\n",
      "CV Loss: 0.43853438940555606, CV Acc.: 0.8485698103904724, CV AUROC: 0.7300376296043396\n"
     ]
    }
   ],
   "source": [
    "# Eval score on cv\n",
    "l,a,au = model.evaluate([cv_essay, cv_other], cv_y, batch_size=300)\n",
    "print('CV Loss: {}, CV Acc.: {}, CV AUROC: {}'.format(l,a,au))"
   ]
  },
  {
   "cell_type": "code",
   "execution_count": 56,
   "metadata": {},
   "outputs": [
    {
     "name": "stdout",
     "output_type": "stream",
     "text": [
      "21850/21850 [==============================] - 23s 1ms/sample - loss: 0.4390 - acc: 0.8486 - auroc: 0.7273\n",
      "Test Loss: 0.4389937845329398, Test Acc.: 0.8486498594284058, Test AUROC: 0.7273017168045044\n"
     ]
    }
   ],
   "source": [
    "# Eval score on test\n",
    "ts_other = ts_other[:, :, np.newaxis]\n",
    "l,a,au = model.evaluate([ts_essay, ts_other], ts_y, batch_size=300)\n",
    "print('Test Loss: {}, Test Acc.: {}, Test AUROC: {}'.format(l,a,au))"
   ]
  },
  {
   "cell_type": "code",
   "execution_count": 58,
   "metadata": {},
   "outputs": [
    {
     "name": "stdout",
     "output_type": "stream",
     "text": [
      "(True Negatives):  1\n",
      "(False Positives):  2646\n",
      "(False Negatives):  1\n",
      "(True Positives):  14832\n",
      "Total:  14833\n"
     ]
    },
    {
     "data": {
      "image/png": "[encoded data removed]",
      "text/plain": [
       "<Figure size 360x360 with 2 Axes>"
      ]
     },
     "metadata": {
      "needs_background": "light"
     },
     "output_type": "display_data"
    }
   ],
   "source": [
    "# CM for cv\n",
    "y_pred = model.predict([cv_essay, cv_other])\n",
    "\n",
    "plot_cm(cv_y, y_pred)"
   ]
  },
  {
   "cell_type": "code",
   "execution_count": 59,
   "metadata": {},
   "outputs": [
    {
     "name": "stdout",
     "output_type": "stream",
     "text": [
      "(True Negatives):  1\n",
      "(False Positives):  3307\n",
      "(False Negatives):  0\n",
      "(True Positives):  18542\n",
      "Total:  18542\n"
     ]
    },
    {
     "data": {
      "image/png": "[encoded data removed]",
      "text/plain": [
       "<Figure size 360x360 with 2 Axes>"
      ]
     },
     "metadata": {
      "needs_background": "light"
     },
     "output_type": "display_data"
    }
   ],
   "source": [
    "# CM for test\n",
    "y_pred = model.predict([ts_essay, ts_other])\n",
    "\n",
    "plot_cm(ts_y, y_pred)"
   ]
  },
  {
   "cell_type": "markdown",
   "metadata": {},
   "source": [
    "<table>\n",
    "    <tr>\n",
    "        <td colspan=3 style=\"text-align: center\"><strong>Model Training Overview Architecture</strong><td>\n",
    "    </tr>\n",
    "    <tr>\n",
    "        <td colspan=3><img src='model_3_arc.PNG' width=900px/>\n",
    "    </tr>\n",
    "    <tr>\n",
    "       <td style=\"text-align: center\"><strong>Training accuracy</strong></td>\\\n",
    "       <td style=\"text-align: center\"><strong>Training loss</strong></td>\n",
    "       <td style=\"text-align: center\"><strong>Training auroc</strong></td>\n",
    "    </tr>\n",
    "    <tr>\n",
    "        <td><img src='train_acc_3.PNG' width=300px /></td>\n",
    "        <td><img src='train_loss_3.PNG' width=300px /></td>\n",
    "        <td><img src='train_roc_3.PNG' width=300px /></td>\n",
    "    </tr>\n",
    "    <tr>\n",
    "       <td style=\"text-align: center\"><strong>CV accuracy</strong></td>\\\n",
    "       <td style=\"text-align: center\"><strong>CV loss</strong></td>\n",
    "       <td style=\"text-align: center\"><strong>CV auroc</strong></td>\n",
    "    </tr>\n",
    "    <tr>\n",
    "        <td><img src='val_acc_3.PNG' width=300px /></td>\n",
    "        <td><img src='val_loss_3.PNG' width=300px /></td>\n",
    "        <td><img src='val_roc_3.PNG' width=300px /></td>\n",
    "     </tr>\n",
    "</table>"
   ]
  },
  {
   "cell_type": "markdown",
   "metadata": {},
   "source": [
    ">Note: Dont worry about overfitting in this graph, we put the earlycallback parameter with patience=10 and restore_best_weights=True. So its will store the weights of best one only. best one means with highest val_auroc score"
   ]
  },
  {
   "cell_type": "markdown",
   "metadata": {},
   "source": [
    "# Conclusion"
   ]
  },
  {
   "cell_type": "code",
   "execution_count": 60,
   "metadata": {},
   "outputs": [
    {
     "name": "stdout",
     "output_type": "stream",
     "text": [
      "+---------+--------------------+--------------------+--------------------+\n",
      "|  Model  |    Train AUROC     |      CV AUROC      |     Test AUROC     |\n",
      "+---------+--------------------+--------------------+--------------------+\n",
      "| Model 1 | 0.8119340538978577 | 0.7508285045623779 | 0.7544023394584656 |\n",
      "| Model 2 | 0.8029965758323669 | 0.7350538372993469 | 0.7401143908500671 |\n",
      "| Model 3 | 0.7623317837715149 | 0.7300376296043396 | 0.7273017168045044 |\n",
      "+---------+--------------------+--------------------+--------------------+\n"
     ]
    }
   ],
   "source": [
    "from prettytable import PrettyTable\n",
    "x = PrettyTable()\n",
    "x.field_names = ['Model','Train AUROC','CV AUROC','Test AUROC']\n",
    "x.add_row(['Model 1',0.8119340538978577,0.7508285045623779,0.7544023394584656])\n",
    "x.add_row(['Model 2',0.8029965758323669,0.7350538372993469,0.7401143908500671])\n",
    "x.add_row(['Model 3',0.7623317837715149,0.7300376296043396,0.7273017168045044])\n",
    "\n",
    "print(x)"
   ]
  },
  {
   "cell_type": "code",
   "execution_count": null,
   "metadata": {},
   "outputs": [],
   "source": []
  }
 ],
 "metadata": {
  "kernelspec": {
   "display_name": "Python 3",
   "language": "python",
   "name": "python3"
  },
  "language_info": {
   "codemirror_mode": {
    "name": "ipython",
    "version": 3
   },
   "file_extension": ".py",
   "mimetype": "text/x-python",
   "name": "python",
   "nbconvert_exporter": "python",
   "pygments_lexer": "ipython3",
   "version": "3.7.6"
  }
 },
 "nbformat": 4,
 "nbformat_minor": 2
}
