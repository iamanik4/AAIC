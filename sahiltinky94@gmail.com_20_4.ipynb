{
 "cells": [
  {
   "cell_type": "code",
   "execution_count": 2,
   "metadata": {
    "colab": {},
    "colab_type": "code",
    "id": "6VXPfRp-tARR",
    "outputId": "6c27acaf-2c6a-467f-fd7a-68efce98e30b"
   },
   "outputs": [],
   "source": [
    "import pandas as pd\n",
    "import matplotlib.pyplot as plt\n",
    "import re\n",
    "import time\n",
    "import warnings\n",
    "import sqlite3\n",
    "from sqlalchemy import create_engine # database connection\n",
    "import csv\n",
    "import os\n",
    "warnings.filterwarnings(\"ignore\")\n",
    "import datetime as dt\n",
    "import numpy as np\n",
    "from nltk.corpus import stopwords\n",
    "from sklearn.decomposition import TruncatedSVD\n",
    "from sklearn.preprocessing import normalize\n",
    "from sklearn.feature_extraction.text import CountVectorizer\n",
    "from sklearn.manifold import TSNE\n",
    "import seaborn as sns\n",
    "from sklearn.neighbors import KNeighborsClassifier\n",
    "from sklearn.metrics import confusion_matrix\n",
    "from sklearn.metrics.classification import accuracy_score, log_loss\n",
    "from sklearn.feature_extraction.text import TfidfVectorizer\n",
    "from collections import Counter\n",
    "from scipy.sparse import hstack\n",
    "from sklearn.multiclass import OneVsRestClassifier\n",
    "from sklearn.svm import SVC\n",
    "from sklearn.model_selection import StratifiedKFold \n",
    "from collections import Counter, defaultdict\n",
    "from sklearn.calibration import CalibratedClassifierCV\n",
    "from sklearn.naive_bayes import MultinomialNB\n",
    "from sklearn.naive_bayes import GaussianNB\n",
    "from sklearn.model_selection import train_test_split\n",
    "from sklearn.model_selection import GridSearchCV\n",
    "import math\n",
    "from sklearn.metrics import normalized_mutual_info_score\n",
    "from sklearn.ensemble import RandomForestClassifier\n",
    "import tqdm\n",
    "\n",
    "\n",
    "from sklearn.model_selection import cross_val_score\n",
    "from sklearn.linear_model import SGDClassifier\n",
    "from mlxtend.classifier import StackingClassifier\n",
    "\n",
    "from sklearn import model_selection\n",
    "from sklearn.linear_model import LogisticRegression\n",
    "from sklearn.metrics import precision_recall_curve, auc, roc_curve"
   ]
  },
  {
   "cell_type": "markdown",
   "metadata": {
    "colab_type": "text",
    "id": "ZihvUPvHtARd"
   },
   "source": [
    "<h1>4. Machine Learning Models </h1>"
   ]
  },
  {
   "cell_type": "markdown",
   "metadata": {
    "colab_type": "text",
    "id": "CtN9VBPutARf"
   },
   "source": [
    "<h2> 4.1 Reading data from file and storing into sql table </h2>"
   ]
  },
  {
   "cell_type": "code",
   "execution_count": 2,
   "metadata": {
    "colab": {},
    "colab_type": "code",
    "id": "owBQdjY1tARh"
   },
   "outputs": [],
   "source": [
    "#Creating db file from csv\n",
    "if not os.path.isfile('quora.db'):\n",
    "    # U dont need to connect DB, you just create .db instance\n",
    "    disk_engine = create_engine('sqlite:///quora.db')\n",
    "    \n",
    "    # Start time\n",
    "    start = dt.datetime.now()\n",
    "    \n",
    "    # Declaring chunk size\n",
    "    chunksize = 50000\n",
    "    \n",
    "    # Declare some variable for further operation\n",
    "    j = 0\n",
    "    index_start = 1\n",
    "    \n",
    "    print('For Training Data')\n",
    "    # Select each rows from the final feature train data file and append on the train.db\n",
    "    for df in pd.read_csv('tr_finalfeatures_tfidf_w2v.csv', names=['Unnamed: 0','id','is_duplicate','cwc_min','cwc_max','csc_min','csc_max','ctc_min','ctc_max','last_word_eq','first_word_eq','abs_len_diff','mean_len','token_set_ratio','token_sort_ratio','fuzz_ratio','fuzz_partial_ratio','longest_substr_ratio','freq_qid1','freq_qid2','q1len','q2len','q1_n_words','q2_n_words','word_Common','word_Total','word_share','freq_q1+q2','freq_q1-q2','0_x','1_x','2_x','3_x','4_x','5_x','6_x','7_x','8_x','9_x','10_x','11_x','12_x','13_x','14_x','15_x','16_x','17_x','18_x','19_x','20_x','21_x','22_x','23_x','24_x','25_x','26_x','27_x','28_x','29_x','30_x','31_x','32_x','33_x','34_x','35_x','36_x','37_x','38_x','39_x','40_x','41_x','42_x','43_x','44_x','45_x','46_x','47_x','48_x','49_x','50_x','51_x','52_x','53_x','54_x','55_x','56_x','57_x','58_x','59_x','60_x','61_x','62_x','63_x','64_x','65_x','66_x','67_x','68_x','69_x','70_x','71_x','72_x','73_x','74_x','75_x','76_x','77_x','78_x','79_x','80_x','81_x','82_x','83_x','84_x','85_x','86_x','87_x','88_x','89_x','90_x','91_x','92_x','93_x','94_x','95_x','0_y','1_y','2_y','3_y','4_y','5_y','6_y','7_y','8_y','9_y','10_y','11_y','12_y','13_y','14_y','15_y','16_y','17_y','18_y','19_y','20_y','21_y','22_y','23_y','24_y','25_y','26_y','27_y','28_y','29_y','30_y','31_y','32_y','33_y','34_y','35_y','36_y','37_y','38_y','39_y','40_y','41_y','42_y','43_y','44_y','45_y','46_y','47_y','48_y','49_y','50_y','51_y','52_y','53_y','54_y','55_y','56_y','57_y','58_y','59_y','60_y','61_y','62_y','63_y','64_y','65_y','66_y','67_y','68_y','69_y','70_y','71_y','72_y','73_y','74_y','75_y','76_y','77_y','78_y','79_y','80_y','81_y','82_y','83_y','84_y','85_y','86_y','87_y','88_y','89_y','90_y','91_y','92_y','93_y','94_y','95_y'], chunksize=chunksize, iterator=True, encoding='utf-8'):\n",
    "        df.index += index_start\n",
    "        j+=1\n",
    "        print('{} rows'.format(j*chunksize))\n",
    "        df.to_sql('traindata', disk_engine, if_exists='append')\n",
    "        index_start = df.index[-1] + 1\n",
    "    \n",
    "    j = 0\n",
    "    index_start = 1\n",
    "    print('For Testing Data')    \n",
    "    for df in pd.read_csv('ts_finalfeatures_tfidf_w2v.csv', names=['Unnamed: 0','id','is_duplicate','cwc_min','cwc_max','csc_min','csc_max','ctc_min','ctc_max','last_word_eq','first_word_eq','abs_len_diff','mean_len','token_set_ratio','token_sort_ratio','fuzz_ratio','fuzz_partial_ratio','longest_substr_ratio','freq_qid1','freq_qid2','q1len','q2len','q1_n_words','q2_n_words','word_Common','word_Total','word_share','freq_q1+q2','freq_q1-q2','0_x','1_x','2_x','3_x','4_x','5_x','6_x','7_x','8_x','9_x','10_x','11_x','12_x','13_x','14_x','15_x','16_x','17_x','18_x','19_x','20_x','21_x','22_x','23_x','24_x','25_x','26_x','27_x','28_x','29_x','30_x','31_x','32_x','33_x','34_x','35_x','36_x','37_x','38_x','39_x','40_x','41_x','42_x','43_x','44_x','45_x','46_x','47_x','48_x','49_x','50_x','51_x','52_x','53_x','54_x','55_x','56_x','57_x','58_x','59_x','60_x','61_x','62_x','63_x','64_x','65_x','66_x','67_x','68_x','69_x','70_x','71_x','72_x','73_x','74_x','75_x','76_x','77_x','78_x','79_x','80_x','81_x','82_x','83_x','84_x','85_x','86_x','87_x','88_x','89_x','90_x','91_x','92_x','93_x','94_x','95_x','0_y','1_y','2_y','3_y','4_y','5_y','6_y','7_y','8_y','9_y','10_y','11_y','12_y','13_y','14_y','15_y','16_y','17_y','18_y','19_y','20_y','21_y','22_y','23_y','24_y','25_y','26_y','27_y','28_y','29_y','30_y','31_y','32_y','33_y','34_y','35_y','36_y','37_y','38_y','39_y','40_y','41_y','42_y','43_y','44_y','45_y','46_y','47_y','48_y','49_y','50_y','51_y','52_y','53_y','54_y','55_y','56_y','57_y','58_y','59_y','60_y','61_y','62_y','63_y','64_y','65_y','66_y','67_y','68_y','69_y','70_y','71_y','72_y','73_y','74_y','75_y','76_y','77_y','78_y','79_y','80_y','81_y','82_y','83_y','84_y','85_y','86_y','87_y','88_y','89_y','90_y','91_y','92_y','93_y','94_y','95_y'], chunksize=chunksize, iterator=True, encoding='utf-8'):\n",
    "        df.index += index_start\n",
    "        j+=1\n",
    "        print('{} rows'.format(j*chunksize))\n",
    "        df.to_sql('testdata', disk_engine, if_exists='append')\n",
    "        index_start = df.index[-1] + 1    "
   ]
  },
  {
   "cell_type": "code",
   "execution_count": 3,
   "metadata": {
    "colab": {},
    "colab_type": "code",
    "id": "4hpD3aBktARn"
   },
   "outputs": [],
   "source": [
    "#http://www.sqlitetutorial.net/sqlite-python/create-tables/\n",
    "def create_connection(db_file):\n",
    "    \"\"\" create a database connection to the SQLite database\n",
    "        specified by db_file\n",
    "    :param db_file: database file\n",
    "    :return: Connection object or None\n",
    "    \"\"\"\n",
    "    try:\n",
    "        conn = sqlite3.connect(db_file)\n",
    "        return conn\n",
    "    except Error as e:\n",
    "        print(e)\n",
    " \n",
    "    return None\n",
    "\n",
    "# Check to see what are the list of table present\n",
    "def checkTableExists(dbcon):\n",
    "    cursr = dbcon.cursor()\n",
    "    str = \"select name from sqlite_master where type='table'\"\n",
    "    table_names = cursr.execute(str)\n",
    "    print(\"Tables in the databse:\")\n",
    "    tables = table_names.fetchall()\n",
    "    print(tables)\n",
    "    return (len(tables))"
   ]
  },
  {
   "cell_type": "code",
   "execution_count": 4,
   "metadata": {
    "colab": {},
    "colab_type": "code",
    "id": "nR8ZIUnttARs",
    "outputId": "810fb3fb-7da2-4b78-9e29-9edabbf68cf6"
   },
   "outputs": [
    {
     "name": "stdout",
     "output_type": "stream",
     "text": [
      "Tables in the databse:\n",
      "[('traindata',), ('testdata',)]\n"
     ]
    }
   ],
   "source": [
    "read_db = 'quora.db'\n",
    "conn_r = create_connection(read_db)\n",
    "checkTableExists(conn_r)\n",
    "conn_r.close()"
   ]
  },
  {
   "cell_type": "code",
   "execution_count": 5,
   "metadata": {
    "colab": {},
    "colab_type": "code",
    "id": "SZq5gaaztARy"
   },
   "outputs": [],
   "source": [
    "# try to sample data according to the computing power you have\n",
    "if os.path.isfile(read_db):\n",
    "    conn_r = create_connection(read_db)\n",
    "    if conn_r is not None:\n",
    "        # for selecting first 1M rows\n",
    "        # data = pd.read_sql_query(\"\"\"SELECT * FROM data LIMIT 100001;\"\"\", conn_r)\n",
    "        \n",
    "        # Select all row from train data\n",
    "        tr_data = pd.read_sql_query(\"SELECT * From traindata;\", conn_r)\n",
    "        ts_data = pd.read_sql_query(\"SELECT * From testdata;\", conn_r)\n",
    "        conn_r.commit()\n",
    "        conn_r.close()"
   ]
  },
  {
   "cell_type": "code",
   "execution_count": 6,
   "metadata": {},
   "outputs": [
    {
     "data": {
      "text/html": [
       "<div>\n",
       "<style scoped>\n",
       "    .dataframe tbody tr th:only-of-type {\n",
       "        vertical-align: middle;\n",
       "    }\n",
       "\n",
       "    .dataframe tbody tr th {\n",
       "        vertical-align: top;\n",
       "    }\n",
       "\n",
       "    .dataframe thead th {\n",
       "        text-align: right;\n",
       "    }\n",
       "</style>\n",
       "<table border=\"1\" class=\"dataframe\">\n",
       "  <thead>\n",
       "    <tr style=\"text-align: right;\">\n",
       "      <th></th>\n",
       "      <th>index</th>\n",
       "      <th>Unnamed: 0</th>\n",
       "      <th>id</th>\n",
       "      <th>is_duplicate</th>\n",
       "      <th>cwc_min</th>\n",
       "      <th>cwc_max</th>\n",
       "      <th>csc_min</th>\n",
       "      <th>csc_max</th>\n",
       "      <th>ctc_min</th>\n",
       "      <th>ctc_max</th>\n",
       "      <th>...</th>\n",
       "      <th>86_y</th>\n",
       "      <th>87_y</th>\n",
       "      <th>88_y</th>\n",
       "      <th>89_y</th>\n",
       "      <th>90_y</th>\n",
       "      <th>91_y</th>\n",
       "      <th>92_y</th>\n",
       "      <th>93_y</th>\n",
       "      <th>94_y</th>\n",
       "      <th>95_y</th>\n",
       "    </tr>\n",
       "  </thead>\n",
       "  <tbody>\n",
       "    <tr>\n",
       "      <th>0</th>\n",
       "      <td>1</td>\n",
       "      <td>NaN</td>\n",
       "      <td>id</td>\n",
       "      <td>is_duplicate</td>\n",
       "      <td>cwc_min</td>\n",
       "      <td>cwc_max</td>\n",
       "      <td>csc_min</td>\n",
       "      <td>csc_max</td>\n",
       "      <td>ctc_min</td>\n",
       "      <td>ctc_max</td>\n",
       "      <td>...</td>\n",
       "      <td>86_y</td>\n",
       "      <td>87_y</td>\n",
       "      <td>88_y</td>\n",
       "      <td>89_y</td>\n",
       "      <td>90_y</td>\n",
       "      <td>91_y</td>\n",
       "      <td>92_y</td>\n",
       "      <td>93_y</td>\n",
       "      <td>94_y</td>\n",
       "      <td>95_y</td>\n",
       "    </tr>\n",
       "    <tr>\n",
       "      <th>1</th>\n",
       "      <td>2</td>\n",
       "      <td>0.0</td>\n",
       "      <td>149483</td>\n",
       "      <td>0</td>\n",
       "      <td>0.4999750012499374</td>\n",
       "      <td>0.2499937501562461</td>\n",
       "      <td>0.4999750012499374</td>\n",
       "      <td>0.2499937501562461</td>\n",
       "      <td>0.3333277778703688</td>\n",
       "      <td>0.3333277778703688</td>\n",
       "      <td>...</td>\n",
       "      <td>-24.634324312210083</td>\n",
       "      <td>107.10560417175293</td>\n",
       "      <td>-13.405043482780457</td>\n",
       "      <td>89.33840942382812</td>\n",
       "      <td>-76.58213457465172</td>\n",
       "      <td>81.45504522323608</td>\n",
       "      <td>-19.589370012283325</td>\n",
       "      <td>-53.108553379774094</td>\n",
       "      <td>-42.87179920077324</td>\n",
       "      <td>50.53386044502258</td>\n",
       "    </tr>\n",
       "    <tr>\n",
       "      <th>2</th>\n",
       "      <td>3</td>\n",
       "      <td>1.0</td>\n",
       "      <td>146085</td>\n",
       "      <td>0</td>\n",
       "      <td>0.2499937501562461</td>\n",
       "      <td>0.12499843751953099</td>\n",
       "      <td>0.0</td>\n",
       "      <td>0.0</td>\n",
       "      <td>0.1666638889351844</td>\n",
       "      <td>0.06666622222518517</td>\n",
       "      <td>...</td>\n",
       "      <td>79.36115139722824</td>\n",
       "      <td>47.82126176357269</td>\n",
       "      <td>-7.425673961639404</td>\n",
       "      <td>66.80275255814195</td>\n",
       "      <td>-13.870270013809204</td>\n",
       "      <td>-94.35943973064423</td>\n",
       "      <td>46.116241190582514</td>\n",
       "      <td>-67.96082103252411</td>\n",
       "      <td>-47.14468511193991</td>\n",
       "      <td>-56.180332005023956</td>\n",
       "    </tr>\n",
       "    <tr>\n",
       "      <th>3</th>\n",
       "      <td>4</td>\n",
       "      <td>2.0</td>\n",
       "      <td>337094</td>\n",
       "      <td>1</td>\n",
       "      <td>0.6666444451851604</td>\n",
       "      <td>0.3999920001599968</td>\n",
       "      <td>0.3999920001599968</td>\n",
       "      <td>0.3333277778703688</td>\n",
       "      <td>0.49999375007812397</td>\n",
       "      <td>0.3333305555787035</td>\n",
       "      <td>...</td>\n",
       "      <td>1.1344990730285645</td>\n",
       "      <td>58.792492628097534</td>\n",
       "      <td>-44.008875012397766</td>\n",
       "      <td>28.522468209266663</td>\n",
       "      <td>21.318031311035156</td>\n",
       "      <td>-37.84933829307556</td>\n",
       "      <td>17.109098065644503</td>\n",
       "      <td>-174.242893576622</td>\n",
       "      <td>5.341458082199097</td>\n",
       "      <td>-8.428312599658966</td>\n",
       "    </tr>\n",
       "    <tr>\n",
       "      <th>4</th>\n",
       "      <td>5</td>\n",
       "      <td>3.0</td>\n",
       "      <td>115033</td>\n",
       "      <td>0</td>\n",
       "      <td>0.5999880002399952</td>\n",
       "      <td>0.374995312558593</td>\n",
       "      <td>0.2857102041399409</td>\n",
       "      <td>0.2222197531138543</td>\n",
       "      <td>0.4166631944733794</td>\n",
       "      <td>0.23809410431378897</td>\n",
       "      <td>...</td>\n",
       "      <td>-196.61994433403015</td>\n",
       "      <td>156.97862857580185</td>\n",
       "      <td>163.93259173631668</td>\n",
       "      <td>189.8625944852829</td>\n",
       "      <td>-93.91803228855133</td>\n",
       "      <td>-37.407774209976196</td>\n",
       "      <td>54.468217849731445</td>\n",
       "      <td>-167.02624118328094</td>\n",
       "      <td>-149.00925222039223</td>\n",
       "      <td>16.012905083596706</td>\n",
       "    </tr>\n",
       "  </tbody>\n",
       "</table>\n",
       "<p>5 rows × 222 columns</p>\n",
       "</div>"
      ],
      "text/plain": [
       "   index  Unnamed: 0      id  is_duplicate             cwc_min  \\\n",
       "0      1         NaN      id  is_duplicate             cwc_min   \n",
       "1      2         0.0  149483             0  0.4999750012499374   \n",
       "2      3         1.0  146085             0  0.2499937501562461   \n",
       "3      4         2.0  337094             1  0.6666444451851604   \n",
       "4      5         3.0  115033             0  0.5999880002399952   \n",
       "\n",
       "               cwc_max             csc_min             csc_max  \\\n",
       "0              cwc_max             csc_min             csc_max   \n",
       "1   0.2499937501562461  0.4999750012499374  0.2499937501562461   \n",
       "2  0.12499843751953099                 0.0                 0.0   \n",
       "3   0.3999920001599968  0.3999920001599968  0.3333277778703688   \n",
       "4    0.374995312558593  0.2857102041399409  0.2222197531138543   \n",
       "\n",
       "               ctc_min              ctc_max  ...                 86_y  \\\n",
       "0              ctc_min              ctc_max  ...                 86_y   \n",
       "1   0.3333277778703688   0.3333277778703688  ...  -24.634324312210083   \n",
       "2   0.1666638889351844  0.06666622222518517  ...    79.36115139722824   \n",
       "3  0.49999375007812397   0.3333305555787035  ...   1.1344990730285645   \n",
       "4   0.4166631944733794  0.23809410431378897  ...  -196.61994433403015   \n",
       "\n",
       "                 87_y                 88_y                89_y  \\\n",
       "0                87_y                 88_y                89_y   \n",
       "1  107.10560417175293  -13.405043482780457   89.33840942382812   \n",
       "2   47.82126176357269   -7.425673961639404   66.80275255814195   \n",
       "3  58.792492628097534  -44.008875012397766  28.522468209266663   \n",
       "4  156.97862857580185   163.93259173631668   189.8625944852829   \n",
       "\n",
       "                  90_y                 91_y                 92_y  \\\n",
       "0                 90_y                 91_y                 92_y   \n",
       "1   -76.58213457465172    81.45504522323608  -19.589370012283325   \n",
       "2  -13.870270013809204   -94.35943973064423   46.116241190582514   \n",
       "3   21.318031311035156   -37.84933829307556   17.109098065644503   \n",
       "4   -93.91803228855133  -37.407774209976196   54.468217849731445   \n",
       "\n",
       "                  93_y                 94_y                 95_y  \n",
       "0                 93_y                 94_y                 95_y  \n",
       "1  -53.108553379774094   -42.87179920077324    50.53386044502258  \n",
       "2   -67.96082103252411   -47.14468511193991  -56.180332005023956  \n",
       "3    -174.242893576622    5.341458082199097   -8.428312599658966  \n",
       "4  -167.02624118328094  -149.00925222039223   16.012905083596706  \n",
       "\n",
       "[5 rows x 222 columns]"
      ]
     },
     "execution_count": 6,
     "metadata": {},
     "output_type": "execute_result"
    }
   ],
   "source": [
    "tr_data.head()"
   ]
  },
  {
   "cell_type": "code",
   "execution_count": 7,
   "metadata": {
    "colab": {},
    "colab_type": "code",
    "id": "ZkeBKktKtAR3"
   },
   "outputs": [],
   "source": [
    "# remove the first row \n",
    "tr_data.drop(tr_data.index[0], inplace=True)\n",
    "ts_data.drop(ts_data.index[0], inplace=True)\n",
    "tr_y = tr_data['is_duplicate']\n",
    "ts_y = ts_data['is_duplicate']\n",
    "tr_data.drop(['Unnamed: 0', 'id','index','is_duplicate'], axis=1, inplace=True)\n",
    "ts_data.drop(['Unnamed: 0', 'id','index','is_duplicate'], axis=1, inplace=True)"
   ]
  },
  {
   "cell_type": "code",
   "execution_count": 8,
   "metadata": {
    "colab": {},
    "colab_type": "code",
    "id": "QKSenpsmtAR9",
    "outputId": "81d890ce-df79-4402-9324-84817dbd5a7d"
   },
   "outputs": [
    {
     "data": {
      "text/html": [
       "<div>\n",
       "<style scoped>\n",
       "    .dataframe tbody tr th:only-of-type {\n",
       "        vertical-align: middle;\n",
       "    }\n",
       "\n",
       "    .dataframe tbody tr th {\n",
       "        vertical-align: top;\n",
       "    }\n",
       "\n",
       "    .dataframe thead th {\n",
       "        text-align: right;\n",
       "    }\n",
       "</style>\n",
       "<table border=\"1\" class=\"dataframe\">\n",
       "  <thead>\n",
       "    <tr style=\"text-align: right;\">\n",
       "      <th></th>\n",
       "      <th>cwc_min</th>\n",
       "      <th>cwc_max</th>\n",
       "      <th>csc_min</th>\n",
       "      <th>csc_max</th>\n",
       "      <th>ctc_min</th>\n",
       "      <th>ctc_max</th>\n",
       "      <th>last_word_eq</th>\n",
       "      <th>first_word_eq</th>\n",
       "      <th>abs_len_diff</th>\n",
       "      <th>mean_len</th>\n",
       "      <th>...</th>\n",
       "      <th>86_y</th>\n",
       "      <th>87_y</th>\n",
       "      <th>88_y</th>\n",
       "      <th>89_y</th>\n",
       "      <th>90_y</th>\n",
       "      <th>91_y</th>\n",
       "      <th>92_y</th>\n",
       "      <th>93_y</th>\n",
       "      <th>94_y</th>\n",
       "      <th>95_y</th>\n",
       "    </tr>\n",
       "  </thead>\n",
       "  <tbody>\n",
       "    <tr>\n",
       "      <th>1</th>\n",
       "      <td>0.4999750012499374</td>\n",
       "      <td>0.2499937501562461</td>\n",
       "      <td>0.4999750012499374</td>\n",
       "      <td>0.2499937501562461</td>\n",
       "      <td>0.3333277778703688</td>\n",
       "      <td>0.3333277778703688</td>\n",
       "      <td>0.0</td>\n",
       "      <td>1.0</td>\n",
       "      <td>0.0</td>\n",
       "      <td>6.0</td>\n",
       "      <td>...</td>\n",
       "      <td>-24.634324312210083</td>\n",
       "      <td>107.10560417175293</td>\n",
       "      <td>-13.405043482780457</td>\n",
       "      <td>89.33840942382812</td>\n",
       "      <td>-76.58213457465172</td>\n",
       "      <td>81.45504522323608</td>\n",
       "      <td>-19.589370012283325</td>\n",
       "      <td>-53.108553379774094</td>\n",
       "      <td>-42.87179920077324</td>\n",
       "      <td>50.53386044502258</td>\n",
       "    </tr>\n",
       "    <tr>\n",
       "      <th>2</th>\n",
       "      <td>0.2499937501562461</td>\n",
       "      <td>0.12499843751953099</td>\n",
       "      <td>0.0</td>\n",
       "      <td>0.0</td>\n",
       "      <td>0.1666638889351844</td>\n",
       "      <td>0.06666622222518517</td>\n",
       "      <td>1.0</td>\n",
       "      <td>0.0</td>\n",
       "      <td>9.0</td>\n",
       "      <td>10.5</td>\n",
       "      <td>...</td>\n",
       "      <td>79.36115139722824</td>\n",
       "      <td>47.82126176357269</td>\n",
       "      <td>-7.425673961639404</td>\n",
       "      <td>66.80275255814195</td>\n",
       "      <td>-13.870270013809204</td>\n",
       "      <td>-94.35943973064423</td>\n",
       "      <td>46.116241190582514</td>\n",
       "      <td>-67.96082103252411</td>\n",
       "      <td>-47.14468511193991</td>\n",
       "      <td>-56.180332005023956</td>\n",
       "    </tr>\n",
       "    <tr>\n",
       "      <th>3</th>\n",
       "      <td>0.6666444451851604</td>\n",
       "      <td>0.3999920001599968</td>\n",
       "      <td>0.3999920001599968</td>\n",
       "      <td>0.3333277778703688</td>\n",
       "      <td>0.49999375007812397</td>\n",
       "      <td>0.3333305555787035</td>\n",
       "      <td>1.0</td>\n",
       "      <td>0.0</td>\n",
       "      <td>4.0</td>\n",
       "      <td>10.0</td>\n",
       "      <td>...</td>\n",
       "      <td>1.1344990730285645</td>\n",
       "      <td>58.792492628097534</td>\n",
       "      <td>-44.008875012397766</td>\n",
       "      <td>28.522468209266663</td>\n",
       "      <td>21.318031311035156</td>\n",
       "      <td>-37.84933829307556</td>\n",
       "      <td>17.109098065644503</td>\n",
       "      <td>-174.242893576622</td>\n",
       "      <td>5.341458082199097</td>\n",
       "      <td>-8.428312599658966</td>\n",
       "    </tr>\n",
       "    <tr>\n",
       "      <th>4</th>\n",
       "      <td>0.5999880002399952</td>\n",
       "      <td>0.374995312558593</td>\n",
       "      <td>0.2857102041399409</td>\n",
       "      <td>0.2222197531138543</td>\n",
       "      <td>0.4166631944733794</td>\n",
       "      <td>0.23809410431378897</td>\n",
       "      <td>0.0</td>\n",
       "      <td>0.0</td>\n",
       "      <td>9.0</td>\n",
       "      <td>16.5</td>\n",
       "      <td>...</td>\n",
       "      <td>-196.61994433403015</td>\n",
       "      <td>156.97862857580185</td>\n",
       "      <td>163.93259173631668</td>\n",
       "      <td>189.8625944852829</td>\n",
       "      <td>-93.91803228855133</td>\n",
       "      <td>-37.407774209976196</td>\n",
       "      <td>54.468217849731445</td>\n",
       "      <td>-167.02624118328094</td>\n",
       "      <td>-149.00925222039223</td>\n",
       "      <td>16.012905083596706</td>\n",
       "    </tr>\n",
       "    <tr>\n",
       "      <th>5</th>\n",
       "      <td>0.6666444451851604</td>\n",
       "      <td>0.6666444451851604</td>\n",
       "      <td>0.6666444451851604</td>\n",
       "      <td>0.4999875003124922</td>\n",
       "      <td>0.6666555557407376</td>\n",
       "      <td>0.5714204082798817</td>\n",
       "      <td>0.0</td>\n",
       "      <td>1.0</td>\n",
       "      <td>1.0</td>\n",
       "      <td>6.5</td>\n",
       "      <td>...</td>\n",
       "      <td>4.403875708580017</td>\n",
       "      <td>102.64046776294708</td>\n",
       "      <td>23.684350728988647</td>\n",
       "      <td>62.863966047763824</td>\n",
       "      <td>-1.8335199356079102</td>\n",
       "      <td>3.9231253638863564</td>\n",
       "      <td>69.74132347106934</td>\n",
       "      <td>-117.70312696695328</td>\n",
       "      <td>-18.81660568714142</td>\n",
       "      <td>6.477832317352295</td>\n",
       "    </tr>\n",
       "  </tbody>\n",
       "</table>\n",
       "<p>5 rows × 218 columns</p>\n",
       "</div>"
      ],
      "text/plain": [
       "              cwc_min              cwc_max             csc_min  \\\n",
       "1  0.4999750012499374   0.2499937501562461  0.4999750012499374   \n",
       "2  0.2499937501562461  0.12499843751953099                 0.0   \n",
       "3  0.6666444451851604   0.3999920001599968  0.3999920001599968   \n",
       "4  0.5999880002399952    0.374995312558593  0.2857102041399409   \n",
       "5  0.6666444451851604   0.6666444451851604  0.6666444451851604   \n",
       "\n",
       "              csc_max              ctc_min              ctc_max last_word_eq  \\\n",
       "1  0.2499937501562461   0.3333277778703688   0.3333277778703688          0.0   \n",
       "2                 0.0   0.1666638889351844  0.06666622222518517          1.0   \n",
       "3  0.3333277778703688  0.49999375007812397   0.3333305555787035          1.0   \n",
       "4  0.2222197531138543   0.4166631944733794  0.23809410431378897          0.0   \n",
       "5  0.4999875003124922   0.6666555557407376   0.5714204082798817          0.0   \n",
       "\n",
       "  first_word_eq abs_len_diff mean_len  ...                 86_y  \\\n",
       "1           1.0          0.0      6.0  ...  -24.634324312210083   \n",
       "2           0.0          9.0     10.5  ...    79.36115139722824   \n",
       "3           0.0          4.0     10.0  ...   1.1344990730285645   \n",
       "4           0.0          9.0     16.5  ...  -196.61994433403015   \n",
       "5           1.0          1.0      6.5  ...    4.403875708580017   \n",
       "\n",
       "                 87_y                 88_y                89_y  \\\n",
       "1  107.10560417175293  -13.405043482780457   89.33840942382812   \n",
       "2   47.82126176357269   -7.425673961639404   66.80275255814195   \n",
       "3  58.792492628097534  -44.008875012397766  28.522468209266663   \n",
       "4  156.97862857580185   163.93259173631668   189.8625944852829   \n",
       "5  102.64046776294708   23.684350728988647  62.863966047763824   \n",
       "\n",
       "                  90_y                 91_y                 92_y  \\\n",
       "1   -76.58213457465172    81.45504522323608  -19.589370012283325   \n",
       "2  -13.870270013809204   -94.35943973064423   46.116241190582514   \n",
       "3   21.318031311035156   -37.84933829307556   17.109098065644503   \n",
       "4   -93.91803228855133  -37.407774209976196   54.468217849731445   \n",
       "5  -1.8335199356079102   3.9231253638863564    69.74132347106934   \n",
       "\n",
       "                  93_y                 94_y                 95_y  \n",
       "1  -53.108553379774094   -42.87179920077324    50.53386044502258  \n",
       "2   -67.96082103252411   -47.14468511193991  -56.180332005023956  \n",
       "3    -174.242893576622    5.341458082199097   -8.428312599658966  \n",
       "4  -167.02624118328094  -149.00925222039223   16.012905083596706  \n",
       "5  -117.70312696695328   -18.81660568714142    6.477832317352295  \n",
       "\n",
       "[5 rows x 218 columns]"
      ]
     },
     "execution_count": 8,
     "metadata": {},
     "output_type": "execute_result"
    }
   ],
   "source": [
    "tr_data.head()"
   ]
  },
  {
   "cell_type": "code",
   "execution_count": 9,
   "metadata": {},
   "outputs": [
    {
     "data": {
      "text/plain": [
       "((70000, 218), (30000, 218))"
      ]
     },
     "execution_count": 9,
     "metadata": {},
     "output_type": "execute_result"
    }
   ],
   "source": [
    "tr_data.shape, ts_data.shape"
   ]
  },
  {
   "cell_type": "markdown",
   "metadata": {
    "colab_type": "text",
    "id": "KaWHDzqUtASD"
   },
   "source": [
    "<h2> 4.2 Converting strings to numerics </h2>"
   ]
  },
  {
   "cell_type": "code",
   "execution_count": 10,
   "metadata": {
    "colab": {},
    "colab_type": "code",
    "id": "iLV60gkptASD",
    "outputId": "f297e0f4-52d5-4ab4-8a43-f0ff82f63698"
   },
   "outputs": [
    {
     "data": {
      "application/vnd.jupyter.widget-view+json": {
       "model_id": "880833fa581945a98356a2af966ccc7b",
       "version_major": 2,
       "version_minor": 0
      },
      "text/plain": [
       "HBox(children=(IntProgress(value=0, max=218), HTML(value='')))"
      ]
     },
     "metadata": {},
     "output_type": "display_data"
    },
    {
     "name": "stdout",
     "output_type": "stream",
     "text": [
      "\n"
     ]
    }
   ],
   "source": [
    "# after we read from sql table each entry was read it as a string\n",
    "# we convert all the features into numaric before we apply any model\n",
    "cols = list(tr_data.columns)\n",
    "for i in tqdm.tqdm_notebook(cols):\n",
    "    tr_data[i] = tr_data[i].apply(pd.to_numeric)\n",
    "    ts_data[i] = ts_data[i].apply(pd.to_numeric)"
   ]
  },
  {
   "cell_type": "code",
   "execution_count": 16,
   "metadata": {},
   "outputs": [],
   "source": [
    "tr_y = list(map(int, tr_y.values))"
   ]
  },
  {
   "cell_type": "code",
   "execution_count": 17,
   "metadata": {},
   "outputs": [],
   "source": [
    "ts_y = list(map(int, ts_y.values))"
   ]
  },
  {
   "cell_type": "markdown",
   "metadata": {
    "colab_type": "text",
    "id": "CuMTqWGutASO"
   },
   "source": [
    "<h2> 4.3 Random train test split( 70:30) </h2>"
   ]
  },
  {
   "cell_type": "code",
   "execution_count": 18,
   "metadata": {},
   "outputs": [],
   "source": [
    "# Already done before featurization"
   ]
  },
  {
   "cell_type": "code",
   "execution_count": 19,
   "metadata": {
    "colab": {},
    "colab_type": "code",
    "id": "0oDV15LJtASY",
    "outputId": "70a1e4eb-3f31-4f1e-a53b-ad972978505d"
   },
   "outputs": [
    {
     "name": "stdout",
     "output_type": "stream",
     "text": [
      "---------- Distribution of output variable in train data ----------\n",
      "Class 0:  0.6306142857142857 Class 1:  0.36938571428571426\n",
      "---------- Distribution of output variable in train data ----------\n",
      "Class 0:  0.3693666666666667 Class 1:  0.3693666666666667\n"
     ]
    }
   ],
   "source": [
    "print(\"-\"*10, \"Distribution of output variable in train data\", \"-\"*10)\n",
    "train_distr = Counter(tr_y)\n",
    "train_len = len(tr_y)\n",
    "print(\"Class 0: \",int(train_distr[0])/train_len,\"Class 1: \", int(train_distr[1])/train_len)\n",
    "print(\"-\"*10, \"Distribution of output variable in train data\", \"-\"*10)\n",
    "test_distr = Counter(ts_y)\n",
    "test_len = len(ts_y)\n",
    "print(\"Class 0: \",int(test_distr[1])/test_len, \"Class 1: \",int(test_distr[1])/test_len)"
   ]
  },
  {
   "cell_type": "code",
   "execution_count": 7,
   "metadata": {
    "colab": {},
    "colab_type": "code",
    "id": "XfxcPT6jtASg"
   },
   "outputs": [],
   "source": [
    "# This function plots the confusion matrices given y_i, y_i_hat.\n",
    "def plot_confusion_matrix(test_y, predict_y):\n",
    "    C = confusion_matrix(test_y, predict_y)\n",
    "    # C = 9,9 matrix, each cell (i,j) represents number of points of class i are predicted class j\n",
    "    \n",
    "    A =(((C.T)/(C.sum(axis=1))).T)\n",
    "    #divid each element of the confusion matrix with the sum of elements in that column\n",
    "    \n",
    "    # C = [[1, 2],\n",
    "    #     [3, 4]]\n",
    "    # C.T = [[1, 3],\n",
    "    #        [2, 4]]\n",
    "    # C.sum(axis = 1)  axis=0 corresonds to columns and axis=1 corresponds to rows in two diamensional array\n",
    "    # C.sum(axix =1) = [[3, 7]]\n",
    "    # ((C.T)/(C.sum(axis=1))) = [[1/3, 3/7]\n",
    "    #                           [2/3, 4/7]]\n",
    "\n",
    "    # ((C.T)/(C.sum(axis=1))).T = [[1/3, 2/3]\n",
    "    #                           [3/7, 4/7]]\n",
    "    # sum of row elements = 1\n",
    "    \n",
    "    B =(C/C.sum(axis=0))\n",
    "    #divid each element of the confusion matrix with the sum of elements in that row\n",
    "    # C = [[1, 2],\n",
    "    #     [3, 4]]\n",
    "    # C.sum(axis = 0)  axis=0 corresonds to columns and axis=1 corresponds to rows in two diamensional array\n",
    "    # C.sum(axix =0) = [[4, 6]]\n",
    "    # (C/C.sum(axis=0)) = [[1/4, 2/6],\n",
    "    #                      [3/4, 4/6]] \n",
    "    plt.figure(figsize=(20,4))\n",
    "    \n",
    "    labels = [1,2]\n",
    "    # representing A in heatmap format\n",
    "    cmap=sns.light_palette(\"blue\")\n",
    "    plt.subplot(1, 3, 1)\n",
    "    sns.heatmap(C, annot=True, cmap=cmap, fmt=\".3f\", xticklabels=labels, yticklabels=labels)\n",
    "    plt.xlabel('Predicted Class')\n",
    "    plt.ylabel('Original Class')\n",
    "    plt.title(\"Confusion matrix\")\n",
    "    \n",
    "    plt.subplot(1, 3, 2)\n",
    "    sns.heatmap(B, annot=True, cmap=cmap, fmt=\".3f\", xticklabels=labels, yticklabels=labels)\n",
    "    plt.xlabel('Predicted Class')\n",
    "    plt.ylabel('Original Class')\n",
    "    plt.title(\"Precision matrix\")\n",
    "    \n",
    "    plt.subplot(1, 3, 3)\n",
    "    # representing B in heatmap format\n",
    "    sns.heatmap(A, annot=True, cmap=cmap, fmt=\".3f\", xticklabels=labels, yticklabels=labels)\n",
    "    plt.xlabel('Predicted Class')\n",
    "    plt.ylabel('Original Class')\n",
    "    plt.title(\"Recall matrix\")\n",
    "    \n",
    "    plt.show()"
   ]
  },
  {
   "cell_type": "markdown",
   "metadata": {
    "colab_type": "text",
    "id": "UStQJ5F_tASk"
   },
   "source": [
    "<h2> 4.4 Building a random model (Finding worst-case log-loss) </h2>"
   ]
  },
  {
   "cell_type": "code",
   "execution_count": 37,
   "metadata": {
    "colab": {},
    "colab_type": "code",
    "id": "qwMDqcU7tASl",
    "outputId": "c1e90d53-25ec-445b-e33a-299538520e32"
   },
   "outputs": [
    {
     "name": "stdout",
     "output_type": "stream",
     "text": [
      "Log loss on Test Data using Random Model 0.8908179779765671\n"
     ]
    },
    {
     "data": {
      "image/png": "[encoded data removed]",
      "text/plain": [
       "<Figure size 1440x288 with 6 Axes>"
      ]
     },
     "metadata": {
      "needs_background": "light"
     },
     "output_type": "display_data"
    }
   ],
   "source": [
    "# we need to generate 9 numbers and the sum of numbers should be 1\n",
    "# one solution is to genarate 9 numbers and divide each of the numbers by their sum\n",
    "# ref: https://stackoverflow.com/a/18662466/4084039\n",
    "# we create a output array that has exactly same size as the CV data\n",
    "predicted_y = np.zeros((test_len,2))\n",
    "for i in range(test_len):\n",
    "    rand_probs = np.random.rand(1,2)\n",
    "    predicted_y[i] = ((rand_probs/sum(sum(rand_probs)))[0])\n",
    "print(\"Log loss on Test Data using Random Model\",log_loss(ts_y, predicted_y, eps=1e-15))\n",
    "\n",
    "predicted_y =np.argmax(predicted_y, axis=1)\n",
    "plot_confusion_matrix(ts_y, predicted_y)"
   ]
  },
  {
   "cell_type": "markdown",
   "metadata": {
    "colab_type": "text",
    "id": "YgY29g_qtASq"
   },
   "source": [
    "<h2> 4.4 Logistic Regression with hyperparameter tuning </h2>"
   ]
  },
  {
   "cell_type": "code",
   "execution_count": 43,
   "metadata": {
    "colab": {},
    "colab_type": "code",
    "id": "Wb2tOE3GtASr",
    "outputId": "d7e4fc88-7d4e-4313-cda7-462a2409292e"
   },
   "outputs": [
    {
     "name": "stdout",
     "output_type": "stream",
     "text": [
      "For values of alpha =  1e-05 The log loss is: 0.534316617702764\n",
      "For values of alpha =  0.0001 The log loss is: 0.5357155624774219\n",
      "For values of alpha =  0.001 The log loss is: 0.5283412033231333\n",
      "For values of alpha =  0.01 The log loss is: 0.5362704213867577\n",
      "For values of alpha =  0.1 The log loss is: 0.5327414541805763\n",
      "For values of alpha =  1 The log loss is: 0.5251549345647659\n",
      "For values of alpha =  10 The log loss is: 0.5437675168904588\n"
     ]
    },
    {
     "data": {
      "image/png": "[encoded data removed]",
      "text/plain": [
       "<Figure size 432x288 with 1 Axes>"
      ]
     },
     "metadata": {
      "needs_background": "light"
     },
     "output_type": "display_data"
    },
    {
     "name": "stdout",
     "output_type": "stream",
     "text": [
      "For values of best alpha =  1 The train log loss is: 0.5171011476391936\n",
      "For values of best alpha =  1 The test log loss is: 0.5251549345647659\n",
      "Total number of data points : 30000\n"
     ]
    },
    {
     "data": {
      "image/png": "[encoded data removed]",
      "text/plain": [
       "<Figure size 1440x288 with 6 Axes>"
      ]
     },
     "metadata": {
      "needs_background": "light"
     },
     "output_type": "display_data"
    }
   ],
   "source": [
    "alpha = [10 ** x for x in range(-5, 2)] # hyperparam for SGD classifier.\n",
    "\n",
    "# read more about SGDClassifier() at http://scikit-learn.org/stable/modules/generated/sklearn.linear_model.SGDClassifier.html\n",
    "# ------------------------------\n",
    "# default parameters\n",
    "# SGDClassifier(loss=’hinge’, penalty=’l2’, alpha=0.0001, l1_ratio=0.15, fit_intercept=True, max_iter=None, tol=None, \n",
    "# shuffle=True, verbose=0, epsilon=0.1, n_jobs=1, random_state=None, learning_rate=’optimal’, eta0=0.0, power_t=0.5, \n",
    "# class_weight=None, warm_start=False, average=False, n_iter=None)\n",
    "\n",
    "# some of methods\n",
    "# fit(X, y[, coef_init, intercept_init, …])\tFit linear model with Stochastic Gradient Descent.\n",
    "# predict(X)\tPredict class labels for samples in X.\n",
    "\n",
    "#-------------------------------\n",
    "# video link: \n",
    "#------------------------------\n",
    "\n",
    "\n",
    "log_error_array=[]\n",
    "for i in alpha:\n",
    "    clf = SGDClassifier(alpha=i, penalty='l2', loss='log', random_state=42)\n",
    "    clf.fit(tr_data, tr_y)\n",
    "    sig_clf = CalibratedClassifierCV(clf, method=\"sigmoid\")\n",
    "    sig_clf.fit(tr_data, tr_y)\n",
    "    predict_y = sig_clf.predict_proba(ts_data)\n",
    "    log_error_array.append(log_loss(ts_y, predict_y, labels=clf.classes_, eps=1e-15))\n",
    "    print('For values of alpha = ', i, \"The log loss is:\",log_loss(ts_y, predict_y, labels=clf.classes_, eps=1e-15))\n",
    "    \n",
    "fig, ax = plt.subplots()\n",
    "ax.plot(alpha, log_error_array,c='g')\n",
    "for i, txt in enumerate(np.round(log_error_array,3)):\n",
    "    ax.annotate((alpha[i],np.round(txt,3)), (alpha[i],log_error_array[i]))\n",
    "plt.grid()\n",
    "plt.title(\"Cross Validation Error for each alpha\")\n",
    "plt.xlabel(\"Alpha i's\")\n",
    "plt.ylabel(\"Error measure\")\n",
    "plt.show()\n",
    "\n",
    "\n",
    "best_alpha = np.argmin(log_error_array)\n",
    "clf = SGDClassifier(alpha=alpha[best_alpha], penalty='l2', loss='log', random_state=42)\n",
    "clf.fit(tr_data, tr_y)\n",
    "sig_clf = CalibratedClassifierCV(clf, method=\"sigmoid\")\n",
    "sig_clf.fit(tr_data, tr_y)\n",
    "\n",
    "predict_y = sig_clf.predict_proba(tr_data)\n",
    "print('For values of best alpha = ', alpha[best_alpha], \"The train log loss is:\",log_loss(tr_y, predict_y, labels=clf.classes_, eps=1e-15))\n",
    "predict_y = sig_clf.predict_proba(ts_data)\n",
    "print('For values of best alpha = ', alpha[best_alpha], \"The test log loss is:\",log_loss(ts_y, predict_y, labels=clf.classes_, eps=1e-15))\n",
    "predicted_y =np.argmax(predict_y,axis=1)\n",
    "print(\"Total number of data points :\", len(predicted_y))\n",
    "plot_confusion_matrix(ts_y, predicted_y)    "
   ]
  },
  {
   "cell_type": "markdown",
   "metadata": {
    "colab_type": "text",
    "id": "ouQSEnr3tASy"
   },
   "source": [
    "<h2> 4.5 Linear SVM with hyperparameter tuning </h2>"
   ]
  },
  {
   "cell_type": "code",
   "execution_count": 46,
   "metadata": {
    "colab": {},
    "colab_type": "code",
    "id": "AOFfZ5PLtAS0",
    "outputId": "d31eb598-e275-48cb-c49b-98e9eb76d8ba"
   },
   "outputs": [
    {
     "name": "stdout",
     "output_type": "stream",
     "text": [
      "For values of alpha =  1e-05 The log loss is: 0.5801205922309941\n",
      "For values of alpha =  0.0001 The log loss is: 0.4815117859683366\n",
      "For values of alpha =  0.001 The log loss is: 0.49041655326422473\n",
      "For values of alpha =  0.01 The log loss is: 0.5439436127290727\n",
      "For values of alpha =  0.1 The log loss is: 0.6099396342363029\n",
      "For values of alpha =  1 The log loss is: 0.6304902333258827\n",
      "For values of alpha =  10 The log loss is: 0.6552730433573533\n"
     ]
    },
    {
     "data": {
      "image/png": "[encoded data removed]",
      "text/plain": [
       "<Figure size 432x288 with 1 Axes>"
      ]
     },
     "metadata": {
      "needs_background": "light"
     },
     "output_type": "display_data"
    },
    {
     "name": "stdout",
     "output_type": "stream",
     "text": [
      "For values of best alpha =  0.0001 The train log loss is: 0.47485314502754306\n",
      "For values of best alpha =  0.0001 The test log loss is: 0.4815117859683366\n",
      "Total number of data points : 30000\n"
     ]
    },
    {
     "data": {
      "image/png": "[encoded data removed]",
      "text/plain": [
       "<Figure size 1440x288 with 6 Axes>"
      ]
     },
     "metadata": {
      "needs_background": "light"
     },
     "output_type": "display_data"
    }
   ],
   "source": [
    "alpha = [10 ** x for x in range(-5, 2)] # hyperparam for SGD classifier.\n",
    "\n",
    "# read more about SGDClassifier() at http://scikit-learn.org/stable/modules/generated/sklearn.linear_model.SGDClassifier.html\n",
    "# ------------------------------\n",
    "# default parameters\n",
    "# SGDClassifier(loss=’hinge’, penalty=’l2’, alpha=0.0001, l1_ratio=0.15, fit_intercept=True, max_iter=None, tol=None, \n",
    "# shuffle=True, verbose=0, epsilon=0.1, n_jobs=1, random_state=None, learning_rate=’optimal’, eta0=0.0, power_t=0.5, \n",
    "# class_weight=None, warm_start=False, average=False, n_iter=None)\n",
    "\n",
    "# some of methods\n",
    "# fit(X, y[, coef_init, intercept_init, …])\tFit linear model with Stochastic Gradient Descent.\n",
    "# predict(X)\tPredict class labels for samples in X.\n",
    "\n",
    "#-------------------------------\n",
    "# video link: \n",
    "#------------------------------\n",
    "\n",
    "\n",
    "log_error_array=[]\n",
    "for i in alpha:\n",
    "    clf = SGDClassifier(alpha=i, penalty='l1', loss='hinge', random_state=42)\n",
    "    clf.fit(tr_data, tr_y)\n",
    "    sig_clf = CalibratedClassifierCV(clf, method=\"sigmoid\")\n",
    "    sig_clf.fit(tr_data, tr_y)\n",
    "    predict_y = sig_clf.predict_proba(ts_data)\n",
    "    log_error_array.append(log_loss(ts_y, predict_y, labels=clf.classes_, eps=1e-15))\n",
    "    print('For values of alpha = ', i, \"The log loss is:\",log_loss(ts_y, predict_y, labels=clf.classes_, eps=1e-15))\n",
    "\n",
    "fig, ax = plt.subplots()\n",
    "ax.plot(alpha, log_error_array,c='g')\n",
    "for i, txt in enumerate(np.round(log_error_array,3)):\n",
    "    ax.annotate((alpha[i],np.round(txt,3)), (alpha[i],log_error_array[i]))\n",
    "plt.grid()\n",
    "plt.title(\"Cross Validation Error for each alpha\")\n",
    "plt.xlabel(\"Alpha i's\")\n",
    "plt.ylabel(\"Error measure\")\n",
    "plt.show()\n",
    "\n",
    "\n",
    "best_alpha = np.argmin(log_error_array)\n",
    "clf = SGDClassifier(alpha=alpha[best_alpha], penalty='l1', loss='hinge', random_state=42)\n",
    "clf.fit(tr_data, tr_y)\n",
    "sig_clf = CalibratedClassifierCV(clf, method=\"sigmoid\")\n",
    "sig_clf.fit(tr_data, tr_y)\n",
    "\n",
    "predict_y = sig_clf.predict_proba(tr_data)\n",
    "print('For values of best alpha = ', alpha[best_alpha], \"The train log loss is:\",log_loss(tr_y, predict_y, labels=clf.classes_, eps=1e-15))\n",
    "predict_y = sig_clf.predict_proba(ts_data)\n",
    "print('For values of best alpha = ', alpha[best_alpha], \"The test log loss is:\",log_loss(ts_y, predict_y, labels=clf.classes_, eps=1e-15))\n",
    "predicted_y =np.argmax(predict_y,axis=1)\n",
    "print(\"Total number of data points :\", len(predicted_y))\n",
    "plot_confusion_matrix(ts_y, predicted_y)"
   ]
  },
  {
   "cell_type": "markdown",
   "metadata": {
    "colab_type": "text",
    "id": "ZhTJgclztAS6"
   },
   "source": [
    "<h2> 4.6 XGBoost </h2>"
   ]
  },
  {
   "cell_type": "code",
   "execution_count": 57,
   "metadata": {
    "colab": {},
    "colab_type": "code",
    "id": "9U367-xetAS7",
    "outputId": "167e8588-2ac4-4c6d-ac22-f56a2fce5657",
    "scrolled": false
   },
   "outputs": [
    {
     "name": "stdout",
     "output_type": "stream",
     "text": [
      "[0]\ttrain-logloss:0.686707\tvalid-logloss:0.686733\n",
      "Multiple eval metrics have been passed: 'valid-logloss' will be used for early stopping.\n",
      "\n",
      "Will train until valid-logloss hasn't improved in 20 rounds.\n",
      "[200]\ttrain-logloss:0.421767\tvalid-logloss:0.424831\n",
      "[399]\ttrain-logloss:0.389089\tvalid-logloss:0.393764\n",
      "----------------------------------------------------------------------------------------------------\n",
      "['n_estimator: 2', 'max_depth: 2', 0.393763779057477]\n",
      "----------------------------------------------------------------------------------------------------\n",
      "[0]\ttrain-logloss:0.685641\tvalid-logloss:0.685659\n",
      "Multiple eval metrics have been passed: 'valid-logloss' will be used for early stopping.\n",
      "\n",
      "Will train until valid-logloss hasn't improved in 20 rounds.\n",
      "[200]\ttrain-logloss:0.385887\tvalid-logloss:0.390017\n",
      "[399]\ttrain-logloss:0.361437\tvalid-logloss:0.369368\n",
      "----------------------------------------------------------------------------------------------------\n",
      "['n_estimator: 2', 'max_depth: 3', 0.36936768494954253]\n",
      "----------------------------------------------------------------------------------------------------\n",
      "[0]\ttrain-logloss:0.684257\tvalid-logloss:0.684324\n",
      "Multiple eval metrics have been passed: 'valid-logloss' will be used for early stopping.\n",
      "\n",
      "Will train until valid-logloss hasn't improved in 20 rounds.\n",
      "[200]\ttrain-logloss:0.355366\tvalid-logloss:0.366742\n",
      "[399]\ttrain-logloss:0.32623\tvalid-logloss:0.349403\n",
      "----------------------------------------------------------------------------------------------------\n",
      "['n_estimator: 2', 'max_depth: 5', 0.34940285892299144]\n",
      "----------------------------------------------------------------------------------------------------\n",
      "[0]\ttrain-logloss:0.683254\tvalid-logloss:0.683491\n",
      "Multiple eval metrics have been passed: 'valid-logloss' will be used for early stopping.\n",
      "\n",
      "Will train until valid-logloss hasn't improved in 20 rounds.\n",
      "[200]\ttrain-logloss:0.322922\tvalid-logloss:0.354072\n",
      "[399]\ttrain-logloss:0.280218\tvalid-logloss:0.339644\n",
      "----------------------------------------------------------------------------------------------------\n",
      "['n_estimator: 2', 'max_depth: 7', 0.33964437882122683]\n",
      "----------------------------------------------------------------------------------------------------\n",
      "[0]\ttrain-logloss:0.686707\tvalid-logloss:0.686733\n",
      "Multiple eval metrics have been passed: 'valid-logloss' will be used for early stopping.\n",
      "\n",
      "Will train until valid-logloss hasn't improved in 20 rounds.\n",
      "[200]\ttrain-logloss:0.421767\tvalid-logloss:0.424831\n",
      "[399]\ttrain-logloss:0.389089\tvalid-logloss:0.393764\n",
      "----------------------------------------------------------------------------------------------------\n",
      "['n_estimator: 3', 'max_depth: 2', 0.393763779057477]\n",
      "----------------------------------------------------------------------------------------------------\n",
      "[0]\ttrain-logloss:0.685641\tvalid-logloss:0.685659\n",
      "Multiple eval metrics have been passed: 'valid-logloss' will be used for early stopping.\n",
      "\n",
      "Will train until valid-logloss hasn't improved in 20 rounds.\n",
      "[200]\ttrain-logloss:0.385887\tvalid-logloss:0.390017\n",
      "[399]\ttrain-logloss:0.361437\tvalid-logloss:0.369368\n",
      "----------------------------------------------------------------------------------------------------\n",
      "['n_estimator: 3', 'max_depth: 3', 0.36936768494954253]\n",
      "----------------------------------------------------------------------------------------------------\n",
      "[0]\ttrain-logloss:0.684257\tvalid-logloss:0.684324\n",
      "Multiple eval metrics have been passed: 'valid-logloss' will be used for early stopping.\n",
      "\n",
      "Will train until valid-logloss hasn't improved in 20 rounds.\n",
      "[200]\ttrain-logloss:0.355366\tvalid-logloss:0.366742\n",
      "[399]\ttrain-logloss:0.32623\tvalid-logloss:0.349403\n",
      "----------------------------------------------------------------------------------------------------\n",
      "['n_estimator: 3', 'max_depth: 5', 0.34940285892299144]\n",
      "----------------------------------------------------------------------------------------------------\n",
      "[0]\ttrain-logloss:0.683254\tvalid-logloss:0.683491\n",
      "Multiple eval metrics have been passed: 'valid-logloss' will be used for early stopping.\n",
      "\n",
      "Will train until valid-logloss hasn't improved in 20 rounds.\n",
      "[200]\ttrain-logloss:0.322922\tvalid-logloss:0.354072\n",
      "[399]\ttrain-logloss:0.280218\tvalid-logloss:0.339644\n",
      "----------------------------------------------------------------------------------------------------\n",
      "['n_estimator: 3', 'max_depth: 7', 0.33964437882122683]\n",
      "----------------------------------------------------------------------------------------------------\n",
      "[0]\ttrain-logloss:0.686707\tvalid-logloss:0.686733\n",
      "Multiple eval metrics have been passed: 'valid-logloss' will be used for early stopping.\n",
      "\n",
      "Will train until valid-logloss hasn't improved in 20 rounds.\n",
      "[200]\ttrain-logloss:0.421767\tvalid-logloss:0.424831\n",
      "[399]\ttrain-logloss:0.389089\tvalid-logloss:0.393764\n",
      "----------------------------------------------------------------------------------------------------\n",
      "['n_estimator: 4', 'max_depth: 2', 0.393763779057477]\n",
      "----------------------------------------------------------------------------------------------------\n",
      "[0]\ttrain-logloss:0.685641\tvalid-logloss:0.685659\n",
      "Multiple eval metrics have been passed: 'valid-logloss' will be used for early stopping.\n",
      "\n",
      "Will train until valid-logloss hasn't improved in 20 rounds.\n",
      "[200]\ttrain-logloss:0.385887\tvalid-logloss:0.390017\n",
      "[399]\ttrain-logloss:0.361437\tvalid-logloss:0.369368\n",
      "----------------------------------------------------------------------------------------------------\n",
      "['n_estimator: 4', 'max_depth: 3', 0.36936768494954253]\n",
      "----------------------------------------------------------------------------------------------------\n",
      "[0]\ttrain-logloss:0.684257\tvalid-logloss:0.684324\n",
      "Multiple eval metrics have been passed: 'valid-logloss' will be used for early stopping.\n",
      "\n",
      "Will train until valid-logloss hasn't improved in 20 rounds.\n",
      "[200]\ttrain-logloss:0.355366\tvalid-logloss:0.366742\n",
      "[399]\ttrain-logloss:0.32623\tvalid-logloss:0.349403\n",
      "----------------------------------------------------------------------------------------------------\n",
      "['n_estimator: 4', 'max_depth: 5', 0.34940285892299144]\n",
      "----------------------------------------------------------------------------------------------------\n",
      "[0]\ttrain-logloss:0.683254\tvalid-logloss:0.683491\n",
      "Multiple eval metrics have been passed: 'valid-logloss' will be used for early stopping.\n",
      "\n",
      "Will train until valid-logloss hasn't improved in 20 rounds.\n",
      "[200]\ttrain-logloss:0.322922\tvalid-logloss:0.354072\n",
      "[399]\ttrain-logloss:0.280218\tvalid-logloss:0.339644\n",
      "----------------------------------------------------------------------------------------------------\n",
      "['n_estimator: 4', 'max_depth: 7', 0.33964437882122683]\n",
      "----------------------------------------------------------------------------------------------------\n",
      "[0]\ttrain-logloss:0.686707\tvalid-logloss:0.686733\n",
      "Multiple eval metrics have been passed: 'valid-logloss' will be used for early stopping.\n",
      "\n",
      "Will train until valid-logloss hasn't improved in 20 rounds.\n",
      "[200]\ttrain-logloss:0.421767\tvalid-logloss:0.424831\n",
      "[399]\ttrain-logloss:0.389089\tvalid-logloss:0.393764\n",
      "----------------------------------------------------------------------------------------------------\n",
      "['n_estimator: 5', 'max_depth: 2', 0.393763779057477]\n",
      "----------------------------------------------------------------------------------------------------\n",
      "[0]\ttrain-logloss:0.685641\tvalid-logloss:0.685659\n",
      "Multiple eval metrics have been passed: 'valid-logloss' will be used for early stopping.\n",
      "\n",
      "Will train until valid-logloss hasn't improved in 20 rounds.\n",
      "[200]\ttrain-logloss:0.385887\tvalid-logloss:0.390017\n",
      "[399]\ttrain-logloss:0.361437\tvalid-logloss:0.369368\n",
      "----------------------------------------------------------------------------------------------------\n",
      "['n_estimator: 5', 'max_depth: 3', 0.36936768494954253]\n",
      "----------------------------------------------------------------------------------------------------\n",
      "[0]\ttrain-logloss:0.684257\tvalid-logloss:0.684324\n",
      "Multiple eval metrics have been passed: 'valid-logloss' will be used for early stopping.\n",
      "\n",
      "Will train until valid-logloss hasn't improved in 20 rounds.\n",
      "[200]\ttrain-logloss:0.355366\tvalid-logloss:0.366742\n",
      "[399]\ttrain-logloss:0.32623\tvalid-logloss:0.349403\n",
      "----------------------------------------------------------------------------------------------------\n",
      "['n_estimator: 5', 'max_depth: 5', 0.34940285892299144]\n",
      "----------------------------------------------------------------------------------------------------\n",
      "[0]\ttrain-logloss:0.683254\tvalid-logloss:0.683491\n",
      "Multiple eval metrics have been passed: 'valid-logloss' will be used for early stopping.\n",
      "\n",
      "Will train until valid-logloss hasn't improved in 20 rounds.\n",
      "[200]\ttrain-logloss:0.322922\tvalid-logloss:0.354072\n",
      "[399]\ttrain-logloss:0.280218\tvalid-logloss:0.339644\n",
      "----------------------------------------------------------------------------------------------------\n",
      "['n_estimator: 5', 'max_depth: 7', 0.33964437882122683]\n",
      "----------------------------------------------------------------------------------------------------\n"
     ]
    }
   ],
   "source": [
    "import xgboost as xgb\n",
    "params = {}\n",
    "params['objective'] = 'binary:logistic'\n",
    "params['eval_metric'] = 'logloss'\n",
    "params['eta'] = 0.02\n",
    "\n",
    "d_train = xgb.DMatrix(tr_data, label=tr_y)\n",
    "d_test = xgb.DMatrix(ts_data, label=ts_y)\n",
    "\n",
    "watchlist = [(d_train, 'train'), (d_test, 'valid')]\n",
    "bst_rcd = []\n",
    "\n",
    "for i in [2,3,4,5]:\n",
    "    for j in [2,3,5,7]:\n",
    "        params['n_estimators'] = i\n",
    "        params['max_depth'] = j\n",
    "        bst = xgb.train(params, d_train, 400, watchlist, early_stopping_rounds=20, verbose_eval=200)\n",
    "        predict_y = bst.predict(d_test)\n",
    "        print('-'*100)\n",
    "        print(['n_estimator: '+str(i),'max_depth: '+str(j),log_loss(ts_y, predict_y, labels=clf.classes_, eps=1e-15)])\n",
    "        print('-'*100)\n",
    "        bst_rcd.append(['n_estimator: '+str(i),'max_depth: '+str(j),log_loss(ts_y, predict_y, labels=clf.classes_, eps=1e-15)])"
   ]
  },
  {
   "cell_type": "code",
   "execution_count": 59,
   "metadata": {},
   "outputs": [
    {
     "name": "stdout",
     "output_type": "stream",
     "text": [
      "[0]\ttrain-logloss:0.683254\tvalid-logloss:0.683491\n",
      "Multiple eval metrics have been passed: 'valid-logloss' will be used for early stopping.\n",
      "\n",
      "Will train until valid-logloss hasn't improved in 20 rounds.\n",
      "[200]\ttrain-logloss:0.322922\tvalid-logloss:0.354072\n",
      "[399]\ttrain-logloss:0.280218\tvalid-logloss:0.339644\n",
      "The test log loss is: 0.33964437882122683\n"
     ]
    }
   ],
   "source": [
    "# From the above observation, we got the best params as\n",
    "params['max_depth'] = 7\n",
    "params['n_estimators'] = 3\n",
    "bst = xgb.train(params, d_train, 400, watchlist, early_stopping_rounds=20, verbose_eval=200)\n",
    "predict_y = bst.predict(d_test)\n",
    "print(\"The test log loss is:\",log_loss(ts_y, predict_y, labels=clf.classes_, eps=1e-15))"
   ]
  },
  {
   "cell_type": "code",
   "execution_count": 61,
   "metadata": {
    "colab": {},
    "colab_type": "code",
    "id": "6U5b17AatAS_",
    "outputId": "ca83b680-023b-4bc5-f499-8d8d85c2ff5e"
   },
   "outputs": [
    {
     "name": "stdout",
     "output_type": "stream",
     "text": [
      "Total number of data points : 30000\n"
     ]
    },
    {
     "data": {
      "image/png": "[encoded data removed]",
      "text/plain": [
       "<Figure size 1440x288 with 6 Axes>"
      ]
     },
     "metadata": {
      "needs_background": "light"
     },
     "output_type": "display_data"
    }
   ],
   "source": [
    "predicted_y =np.array(predict_y>0.5,dtype=int)\n",
    "print(\"Total number of data points :\", len(predicted_y))\n",
    "plot_confusion_matrix(ts_y, predicted_y)"
   ]
  },
  {
   "cell_type": "markdown",
   "metadata": {
    "colab_type": "text",
    "id": "WmiIgHOJtATF"
   },
   "source": [
    "<h1> 5. Assignments </h1>"
   ]
  },
  {
   "cell_type": "markdown",
   "metadata": {
    "colab_type": "text",
    "id": "CWS6JoB0tATF"
   },
   "source": [
    "1. Try out models (Logistic regression, Linear-SVM) with simple TF-IDF vectors instead of TD_IDF weighted word2Vec.\n",
    "2. Hyperparameter tune XgBoost using RandomSearch to reduce the log-loss.\n"
   ]
  },
  {
   "cell_type": "code",
   "execution_count": null,
   "metadata": {},
   "outputs": [],
   "source": [
    "# For point 2. Xgboost hyperparameter tune done.(See above 4.6)"
   ]
  },
  {
   "cell_type": "code",
   "execution_count": null,
   "metadata": {},
   "outputs": [],
   "source": [
    "# For point 1"
   ]
  },
  {
   "cell_type": "code",
   "execution_count": 3,
   "metadata": {},
   "outputs": [
    {
     "data": {
      "text/plain": [
       "((70000, 8029), (30000, 8029))"
      ]
     },
     "execution_count": 3,
     "metadata": {},
     "output_type": "execute_result"
    }
   ],
   "source": [
    "# Read csv file\n",
    "tr_data = pd.read_csv('tr_finalfeatures_tfidf.csv')\n",
    "ts_data = pd.read_csv('ts_finalfeatures_tfidf.csv')\n",
    "tr_data.shape, ts_data.shape"
   ]
  },
  {
   "cell_type": "code",
   "execution_count": 4,
   "metadata": {},
   "outputs": [
    {
     "data": {
      "text/html": [
       "<div>\n",
       "<style scoped>\n",
       "    .dataframe tbody tr th:only-of-type {\n",
       "        vertical-align: middle;\n",
       "    }\n",
       "\n",
       "    .dataframe tbody tr th {\n",
       "        vertical-align: top;\n",
       "    }\n",
       "\n",
       "    .dataframe thead th {\n",
       "        text-align: right;\n",
       "    }\n",
       "</style>\n",
       "<table border=\"1\" class=\"dataframe\">\n",
       "  <thead>\n",
       "    <tr style=\"text-align: right;\">\n",
       "      <th></th>\n",
       "      <th>Unnamed: 0</th>\n",
       "      <th>id</th>\n",
       "      <th>is_duplicate</th>\n",
       "      <th>cwc_min</th>\n",
       "      <th>cwc_max</th>\n",
       "      <th>csc_min</th>\n",
       "      <th>csc_max</th>\n",
       "      <th>ctc_min</th>\n",
       "      <th>ctc_max</th>\n",
       "      <th>last_word_eq</th>\n",
       "      <th>...</th>\n",
       "      <th>3990_y</th>\n",
       "      <th>3991_y</th>\n",
       "      <th>3992_y</th>\n",
       "      <th>3993_y</th>\n",
       "      <th>3994_y</th>\n",
       "      <th>3995_y</th>\n",
       "      <th>3996_y</th>\n",
       "      <th>3997_y</th>\n",
       "      <th>3998_y</th>\n",
       "      <th>3999_y</th>\n",
       "    </tr>\n",
       "  </thead>\n",
       "  <tbody>\n",
       "    <tr>\n",
       "      <th>0</th>\n",
       "      <td>0</td>\n",
       "      <td>149483</td>\n",
       "      <td>0</td>\n",
       "      <td>0.499975</td>\n",
       "      <td>0.249994</td>\n",
       "      <td>0.499975</td>\n",
       "      <td>0.249994</td>\n",
       "      <td>0.333328</td>\n",
       "      <td>0.333328</td>\n",
       "      <td>0.0</td>\n",
       "      <td>...</td>\n",
       "      <td>0.0</td>\n",
       "      <td>0.0</td>\n",
       "      <td>0.0</td>\n",
       "      <td>0.0</td>\n",
       "      <td>0.0</td>\n",
       "      <td>0.0</td>\n",
       "      <td>0.0</td>\n",
       "      <td>0.0</td>\n",
       "      <td>0.0</td>\n",
       "      <td>0.0</td>\n",
       "    </tr>\n",
       "    <tr>\n",
       "      <th>1</th>\n",
       "      <td>1</td>\n",
       "      <td>146085</td>\n",
       "      <td>0</td>\n",
       "      <td>0.249994</td>\n",
       "      <td>0.124998</td>\n",
       "      <td>0.000000</td>\n",
       "      <td>0.000000</td>\n",
       "      <td>0.166664</td>\n",
       "      <td>0.066666</td>\n",
       "      <td>1.0</td>\n",
       "      <td>...</td>\n",
       "      <td>0.0</td>\n",
       "      <td>0.0</td>\n",
       "      <td>0.0</td>\n",
       "      <td>0.0</td>\n",
       "      <td>0.0</td>\n",
       "      <td>0.0</td>\n",
       "      <td>0.0</td>\n",
       "      <td>0.0</td>\n",
       "      <td>0.0</td>\n",
       "      <td>0.0</td>\n",
       "    </tr>\n",
       "    <tr>\n",
       "      <th>2</th>\n",
       "      <td>2</td>\n",
       "      <td>337094</td>\n",
       "      <td>1</td>\n",
       "      <td>0.666644</td>\n",
       "      <td>0.399992</td>\n",
       "      <td>0.399992</td>\n",
       "      <td>0.333328</td>\n",
       "      <td>0.499994</td>\n",
       "      <td>0.333331</td>\n",
       "      <td>1.0</td>\n",
       "      <td>...</td>\n",
       "      <td>0.0</td>\n",
       "      <td>0.0</td>\n",
       "      <td>0.0</td>\n",
       "      <td>0.0</td>\n",
       "      <td>0.0</td>\n",
       "      <td>0.0</td>\n",
       "      <td>0.0</td>\n",
       "      <td>0.0</td>\n",
       "      <td>0.0</td>\n",
       "      <td>0.0</td>\n",
       "    </tr>\n",
       "    <tr>\n",
       "      <th>3</th>\n",
       "      <td>3</td>\n",
       "      <td>115033</td>\n",
       "      <td>0</td>\n",
       "      <td>0.599988</td>\n",
       "      <td>0.374995</td>\n",
       "      <td>0.285710</td>\n",
       "      <td>0.222220</td>\n",
       "      <td>0.416663</td>\n",
       "      <td>0.238094</td>\n",
       "      <td>0.0</td>\n",
       "      <td>...</td>\n",
       "      <td>0.0</td>\n",
       "      <td>0.0</td>\n",
       "      <td>0.0</td>\n",
       "      <td>0.0</td>\n",
       "      <td>0.0</td>\n",
       "      <td>0.0</td>\n",
       "      <td>0.0</td>\n",
       "      <td>0.0</td>\n",
       "      <td>0.0</td>\n",
       "      <td>0.0</td>\n",
       "    </tr>\n",
       "    <tr>\n",
       "      <th>4</th>\n",
       "      <td>4</td>\n",
       "      <td>190104</td>\n",
       "      <td>1</td>\n",
       "      <td>0.666644</td>\n",
       "      <td>0.666644</td>\n",
       "      <td>0.666644</td>\n",
       "      <td>0.499988</td>\n",
       "      <td>0.666656</td>\n",
       "      <td>0.571420</td>\n",
       "      <td>0.0</td>\n",
       "      <td>...</td>\n",
       "      <td>0.0</td>\n",
       "      <td>0.0</td>\n",
       "      <td>0.0</td>\n",
       "      <td>0.0</td>\n",
       "      <td>0.0</td>\n",
       "      <td>0.0</td>\n",
       "      <td>0.0</td>\n",
       "      <td>0.0</td>\n",
       "      <td>0.0</td>\n",
       "      <td>0.0</td>\n",
       "    </tr>\n",
       "  </tbody>\n",
       "</table>\n",
       "<p>5 rows × 8029 columns</p>\n",
       "</div>"
      ],
      "text/plain": [
       "   Unnamed: 0      id  is_duplicate   cwc_min   cwc_max   csc_min   csc_max  \\\n",
       "0           0  149483             0  0.499975  0.249994  0.499975  0.249994   \n",
       "1           1  146085             0  0.249994  0.124998  0.000000  0.000000   \n",
       "2           2  337094             1  0.666644  0.399992  0.399992  0.333328   \n",
       "3           3  115033             0  0.599988  0.374995  0.285710  0.222220   \n",
       "4           4  190104             1  0.666644  0.666644  0.666644  0.499988   \n",
       "\n",
       "    ctc_min   ctc_max  last_word_eq  ...  3990_y  3991_y  3992_y  3993_y  \\\n",
       "0  0.333328  0.333328           0.0  ...     0.0     0.0     0.0     0.0   \n",
       "1  0.166664  0.066666           1.0  ...     0.0     0.0     0.0     0.0   \n",
       "2  0.499994  0.333331           1.0  ...     0.0     0.0     0.0     0.0   \n",
       "3  0.416663  0.238094           0.0  ...     0.0     0.0     0.0     0.0   \n",
       "4  0.666656  0.571420           0.0  ...     0.0     0.0     0.0     0.0   \n",
       "\n",
       "   3994_y  3995_y  3996_y  3997_y  3998_y  3999_y  \n",
       "0     0.0     0.0     0.0     0.0     0.0     0.0  \n",
       "1     0.0     0.0     0.0     0.0     0.0     0.0  \n",
       "2     0.0     0.0     0.0     0.0     0.0     0.0  \n",
       "3     0.0     0.0     0.0     0.0     0.0     0.0  \n",
       "4     0.0     0.0     0.0     0.0     0.0     0.0  \n",
       "\n",
       "[5 rows x 8029 columns]"
      ]
     },
     "execution_count": 4,
     "metadata": {},
     "output_type": "execute_result"
    }
   ],
   "source": [
    "tr_data.head()"
   ]
  },
  {
   "cell_type": "code",
   "execution_count": 6,
   "metadata": {},
   "outputs": [],
   "source": [
    "# remove the first row \n",
    "tr_y = tr_data['is_duplicate']\n",
    "ts_y = ts_data['is_duplicate']\n",
    "tr_data.drop(['Unnamed: 0', 'id','is_duplicate'], axis=1, inplace=True)\n",
    "ts_data.drop(['Unnamed: 0', 'id','is_duplicate'], axis=1, inplace=True)"
   ]
  },
  {
   "cell_type": "code",
   "execution_count": 8,
   "metadata": {},
   "outputs": [
    {
     "name": "stdout",
     "output_type": "stream",
     "text": [
      "---------- Distribution of output variable in train data ----------\n",
      "Class 0:  0.6306142857142857 Class 1:  0.36938571428571426\n",
      "---------- Distribution of output variable in train data ----------\n",
      "Class 0:  0.3693666666666667 Class 1:  0.3693666666666667\n"
     ]
    }
   ],
   "source": [
    "print(\"-\"*10, \"Distribution of output variable in train data\", \"-\"*10)\n",
    "train_distr = Counter(tr_y)\n",
    "train_len = len(tr_y)\n",
    "print(\"Class 0: \",int(train_distr[0])/train_len,\"Class 1: \", int(train_distr[1])/train_len)\n",
    "print(\"-\"*10, \"Distribution of output variable in train data\", \"-\"*10)\n",
    "test_distr = Counter(ts_y)\n",
    "test_len = len(ts_y)\n",
    "print(\"Class 0: \",int(test_distr[1])/test_len, \"Class 1: \",int(test_distr[1])/test_len)"
   ]
  },
  {
   "cell_type": "markdown",
   "metadata": {},
   "source": [
    "# Find the worst case log loss model"
   ]
  },
  {
   "cell_type": "code",
   "execution_count": 9,
   "metadata": {},
   "outputs": [
    {
     "name": "stdout",
     "output_type": "stream",
     "text": [
      "Log loss on Test Data using Random Model 0.8790757612041729\n"
     ]
    },
    {
     "data": {
      "image/png": "[encoded data removed]",
      "text/plain": [
       "<Figure size 1440x288 with 6 Axes>"
      ]
     },
     "metadata": {
      "needs_background": "light"
     },
     "output_type": "display_data"
    }
   ],
   "source": [
    "# we need to generate 9 numbers and the sum of numbers should be 1\n",
    "# one solution is to genarate 9 numbers and divide each of the numbers by their sum\n",
    "# ref: https://stackoverflow.com/a/18662466/4084039\n",
    "# we create a output array that has exactly same size as the CV data\n",
    "predicted_y = np.zeros((test_len,2))\n",
    "for i in range(test_len):\n",
    "    rand_probs = np.random.rand(1,2)\n",
    "    predicted_y[i] = ((rand_probs/sum(sum(rand_probs)))[0])\n",
    "print(\"Log loss on Test Data using Random Model\",log_loss(ts_y, predicted_y, eps=1e-15))\n",
    "\n",
    "predicted_y =np.argmax(predicted_y, axis=1)\n",
    "plot_confusion_matrix(ts_y, predicted_y)"
   ]
  },
  {
   "cell_type": "markdown",
   "metadata": {},
   "source": [
    "# Logistic Regression with hyperparameter"
   ]
  },
  {
   "cell_type": "code",
   "execution_count": 10,
   "metadata": {},
   "outputs": [
    {
     "name": "stdout",
     "output_type": "stream",
     "text": [
      "For values of alpha =  1e-05 The log loss is: 0.46038179642619204\n",
      "For values of alpha =  0.0001 The log loss is: 0.46968614036968437\n",
      "For values of alpha =  0.001 The log loss is: 0.4621995568518574\n",
      "For values of alpha =  0.01 The log loss is: 0.45104418169015187\n",
      "For values of alpha =  0.1 The log loss is: 0.45797276242549634\n",
      "For values of alpha =  1 The log loss is: 0.4905401779174919\n",
      "For values of alpha =  10 The log loss is: 0.543673708352749\n"
     ]
    },
    {
     "data": {
      "image/png": "[encoded data removed]",
      "text/plain": [
       "<Figure size 432x288 with 1 Axes>"
      ]
     },
     "metadata": {
      "needs_background": "light"
     },
     "output_type": "display_data"
    },
    {
     "name": "stdout",
     "output_type": "stream",
     "text": [
      "For values of best alpha =  0.01 The train log loss is: 0.44738739938564115\n",
      "For values of best alpha =  0.01 The test log loss is: 0.45104418169015187\n",
      "Total number of data points : 30000\n"
     ]
    },
    {
     "data": {
      "image/png": "[encoded data removed]",
      "text/plain": [
       "<Figure size 1440x288 with 6 Axes>"
      ]
     },
     "metadata": {
      "needs_background": "light"
     },
     "output_type": "display_data"
    }
   ],
   "source": [
    "alpha = [10 ** x for x in range(-5, 2)] # hyperparam for SGD classifier.\n",
    "\n",
    "# read more about SGDClassifier() at http://scikit-learn.org/stable/modules/generated/sklearn.linear_model.SGDClassifier.html\n",
    "# ------------------------------\n",
    "# default parameters\n",
    "# SGDClassifier(loss=’hinge’, penalty=’l2’, alpha=0.0001, l1_ratio=0.15, fit_intercept=True, max_iter=None, tol=None, \n",
    "# shuffle=True, verbose=0, epsilon=0.1, n_jobs=1, random_state=None, learning_rate=’optimal’, eta0=0.0, power_t=0.5, \n",
    "# class_weight=None, warm_start=False, average=False, n_iter=None)\n",
    "\n",
    "# some of methods\n",
    "# fit(X, y[, coef_init, intercept_init, …])\tFit linear model with Stochastic Gradient Descent.\n",
    "# predict(X)\tPredict class labels for samples in X.\n",
    "\n",
    "#-------------------------------\n",
    "# video link: \n",
    "#------------------------------\n",
    "\n",
    "\n",
    "log_error_array=[]\n",
    "for i in alpha:\n",
    "    clf = SGDClassifier(alpha=i, penalty='l2', loss='log', random_state=42)\n",
    "    clf.fit(tr_data, tr_y)\n",
    "    sig_clf = CalibratedClassifierCV(clf, method=\"sigmoid\")\n",
    "    sig_clf.fit(tr_data, tr_y)\n",
    "    predict_y = sig_clf.predict_proba(ts_data)\n",
    "    log_error_array.append(log_loss(ts_y, predict_y, labels=clf.classes_, eps=1e-15))\n",
    "    print('For values of alpha = ', i, \"The log loss is:\",log_loss(ts_y, predict_y, labels=clf.classes_, eps=1e-15))\n",
    "    \n",
    "fig, ax = plt.subplots()\n",
    "ax.plot(alpha, log_error_array,c='g')\n",
    "for i, txt in enumerate(np.round(log_error_array,3)):\n",
    "    ax.annotate((alpha[i],np.round(txt,3)), (alpha[i],log_error_array[i]))\n",
    "plt.grid()\n",
    "plt.title(\"Cross Validation Error for each alpha\")\n",
    "plt.xlabel(\"Alpha i's\")\n",
    "plt.ylabel(\"Error measure\")\n",
    "plt.show()\n",
    "\n",
    "\n",
    "best_alpha = np.argmin(log_error_array)\n",
    "clf = SGDClassifier(alpha=alpha[best_alpha], penalty='l2', loss='log', random_state=42)\n",
    "clf.fit(tr_data, tr_y)\n",
    "sig_clf = CalibratedClassifierCV(clf, method=\"sigmoid\")\n",
    "sig_clf.fit(tr_data, tr_y)\n",
    "\n",
    "predict_y = sig_clf.predict_proba(tr_data)\n",
    "print('For values of best alpha = ', alpha[best_alpha], \"The train log loss is:\",log_loss(tr_y, predict_y, labels=clf.classes_, eps=1e-15))\n",
    "predict_y = sig_clf.predict_proba(ts_data)\n",
    "print('For values of best alpha = ', alpha[best_alpha], \"The test log loss is:\",log_loss(ts_y, predict_y, labels=clf.classes_, eps=1e-15))\n",
    "predicted_y =np.argmax(predict_y,axis=1)\n",
    "print(\"Total number of data points :\", len(predicted_y))\n",
    "plot_confusion_matrix(ts_y, predicted_y)    "
   ]
  },
  {
   "cell_type": "markdown",
   "metadata": {},
   "source": [
    "# Linear SVM with hyperparameter tuning"
   ]
  },
  {
   "cell_type": "code",
   "execution_count": 11,
   "metadata": {},
   "outputs": [
    {
     "name": "stdout",
     "output_type": "stream",
     "text": [
      "For values of alpha =  1e-05 The log loss is: 0.47402695719142957\n",
      "For values of alpha =  0.0001 The log loss is: 0.49325105404588\n",
      "For values of alpha =  0.001 The log loss is: 0.5016960533641299\n",
      "For values of alpha =  0.01 The log loss is: 0.5113825679627629\n",
      "For values of alpha =  0.1 The log loss is: 0.5234776884314097\n",
      "For values of alpha =  1 The log loss is: 0.5689306988245295\n",
      "For values of alpha =  10 The log loss is: 0.6403667508855194\n"
     ]
    },
    {
     "data": {
      "image/png": "[encoded data removed]",
      "text/plain": [
       "<Figure size 432x288 with 1 Axes>"
      ]
     },
     "metadata": {
      "needs_background": "light"
     },
     "output_type": "display_data"
    },
    {
     "name": "stdout",
     "output_type": "stream",
     "text": [
      "For values of best alpha =  1e-05 The train log loss is: 0.46607692386937344\n",
      "For values of best alpha =  1e-05 The test log loss is: 0.47402695719142957\n",
      "Total number of data points : 30000\n"
     ]
    },
    {
     "data": {
      "image/png": "[encoded data removed]",
      "text/plain": [
       "<Figure size 1440x288 with 6 Axes>"
      ]
     },
     "metadata": {
      "needs_background": "light"
     },
     "output_type": "display_data"
    }
   ],
   "source": [
    "alpha = [10 ** x for x in range(-5, 2)] # hyperparam for SGD classifier.\n",
    "\n",
    "# read more about SGDClassifier() at http://scikit-learn.org/stable/modules/generated/sklearn.linear_model.SGDClassifier.html\n",
    "# ------------------------------\n",
    "# default parameters\n",
    "# SGDClassifier(loss=’hinge’, penalty=’l2’, alpha=0.0001, l1_ratio=0.15, fit_intercept=True, max_iter=None, tol=None, \n",
    "# shuffle=True, verbose=0, epsilon=0.1, n_jobs=1, random_state=None, learning_rate=’optimal’, eta0=0.0, power_t=0.5, \n",
    "# class_weight=None, warm_start=False, average=False, n_iter=None)\n",
    "\n",
    "# some of methods\n",
    "# fit(X, y[, coef_init, intercept_init, …])\tFit linear model with Stochastic Gradient Descent.\n",
    "# predict(X)\tPredict class labels for samples in X.\n",
    "\n",
    "#-------------------------------\n",
    "# video link: \n",
    "#------------------------------\n",
    "\n",
    "\n",
    "log_error_array=[]\n",
    "for i in alpha:\n",
    "    clf = SGDClassifier(alpha=i, penalty='l1', loss='hinge', random_state=42)\n",
    "    clf.fit(tr_data, tr_y)\n",
    "    sig_clf = CalibratedClassifierCV(clf, method=\"sigmoid\")\n",
    "    sig_clf.fit(tr_data, tr_y)\n",
    "    predict_y = sig_clf.predict_proba(ts_data)\n",
    "    log_error_array.append(log_loss(ts_y, predict_y, labels=clf.classes_, eps=1e-15))\n",
    "    print('For values of alpha = ', i, \"The log loss is:\",log_loss(ts_y, predict_y, labels=clf.classes_, eps=1e-15))\n",
    "\n",
    "fig, ax = plt.subplots()\n",
    "ax.plot(alpha, log_error_array,c='g')\n",
    "for i, txt in enumerate(np.round(log_error_array,3)):\n",
    "    ax.annotate((alpha[i],np.round(txt,3)), (alpha[i],log_error_array[i]))\n",
    "plt.grid()\n",
    "plt.title(\"Cross Validation Error for each alpha\")\n",
    "plt.xlabel(\"Alpha i's\")\n",
    "plt.ylabel(\"Error measure\")\n",
    "plt.show()\n",
    "\n",
    "\n",
    "best_alpha = np.argmin(log_error_array)\n",
    "clf = SGDClassifier(alpha=alpha[best_alpha], penalty='l1', loss='hinge', random_state=42)\n",
    "clf.fit(tr_data, tr_y)\n",
    "sig_clf = CalibratedClassifierCV(clf, method=\"sigmoid\")\n",
    "sig_clf.fit(tr_data, tr_y)\n",
    "\n",
    "predict_y = sig_clf.predict_proba(tr_data)\n",
    "print('For values of best alpha = ', alpha[best_alpha], \"The train log loss is:\",log_loss(tr_y, predict_y, labels=clf.classes_, eps=1e-15))\n",
    "predict_y = sig_clf.predict_proba(ts_data)\n",
    "print('For values of best alpha = ', alpha[best_alpha], \"The test log loss is:\",log_loss(ts_y, predict_y, labels=clf.classes_, eps=1e-15))\n",
    "predicted_y =np.argmax(predict_y,axis=1)\n",
    "print(\"Total number of data points :\", len(predicted_y))\n",
    "plot_confusion_matrix(ts_y, predicted_y)"
   ]
  },
  {
   "cell_type": "markdown",
   "metadata": {},
   "source": [
    "# Experiment 1 (Basic+Advance+TFIDFW2V) Feature:\n",
    "# Conclusion"
   ]
  },
  {
   "cell_type": "markdown",
   "metadata": {},
   "source": [
    "1. We perform EDA:\n",
    "> - Information about data\n",
    "  - Find number of missing values\n",
    "  - Plot distribution of data points among output classes\n",
    "  - Find the number of uniqueness questions\n",
    "  - plot the graph of each question with number of occurrence of that question\n",
    "  - Checking duplicated question pair\n",
    "\n",
    "2. Next, we perform basic features extraction before preprocessing:\n",
    "> - ____freq_qid1____ = Frequency of qid1's\n",
    " - ____freq_qid2____ = Frequency of qid2's \n",
    " - ____q1len____ = Length of q1\n",
    " - ____q2len____ = Length of q2\n",
    " - ____q1_n_words____ = Number of words in Question 1\n",
    " - ____q2_n_words____ = Number of words in Question 2\n",
    " - ____word_Common____ = (Number of common unique words in Question 1 and Question 2)\n",
    " - ____word_Total____ =(Total num of words in Question 1 + Total num of words in Question 2)\n",
    " - ____word_share____ = (word_common)/(word_Total)\n",
    " - ____freq_q1+freq_q2____ = sum total of frequency of qid1 and qid2 \n",
    " - ____freq_q1-freq_q2____ = absolute difference of frequency of qid1 and qid2<br>\n",
    " **<u>Total basic feature = 11</u>**\n",
    " \n",
    "3. Next, we perform EDA on basic features extraction:\n",
    "> - ViolinPlot and PDF of **word_share** feature\n",
    "  - ViolinPlot and PDF of **word_common** feature\n",
    " \n",
    "4. Next, we perform preprocessing step:\n",
    "> - Removing html tags \n",
    "   - Removing Punctuations\n",
    "   - Performing stemming\n",
    "   - Removing Stopwords\n",
    "   - Expanding contractions etc.\n",
    "\n",
    "5. Next, we perform advance NLP features extraction:\n",
    "> Definition:\n",
    "    - __Token__: You get a token by splitting sentence a space\n",
    "    - __Stop_Word__ : stop words as per NLTK.\n",
    "    - __Word__ : A token that is not a stop_word\n",
    "    \n",
    "    > Features:\n",
    "    - __cwc_min__ :  Ratio of common_word_count to min lenghth of word count of Q1 and Q2 <br>cwc_min = common_word_count / (min(len(q1_words), len(q2_words))\n",
    "    - __cwc_max__ :  Ratio of common_word_count to max lenghth of word count of Q1 and Q2 <br>cwc_max = common_word_count / (max(len(q1_words), len(q2_words))\n",
    "    - __csc_min__ :  Ratio of common_stop_count to min lenghth of stop count of Q1 and Q2 <br> csc_min = common_stop_count / (min(len(q1_stops), len(q2_stops))\n",
    "    - __csc_max__ :  Ratio of common_stop_count to max lenghth of stop count of Q1 and Q2<br>csc_max = common_stop_count / (max(len(q1_stops), len(q2_stops))\n",
    "    - __ctc_min__ :  Ratio of common_token_count to min lenghth of token count of Q1 and Q2<br>ctc_min = common_token_count / (min(len(q1_tokens), len(q2_tokens))\n",
    "    - __ctc_max__ :  Ratio of common_token_count to max lenghth of token count of Q1 and Q2<br>ctc_max = common_token_count / (max(len(q1_tokens), len(q2_tokens))    \n",
    "    - __last_word_eq__ :  Check if Last word of both questions is equal or not<br>last_word_eq = int(q1_tokens[-1] == q2_tokens[-1])\n",
    "    - __first_word_eq__ :  Check if First word of both questions is equal or not<br>first_word_eq = int(q1_tokens[0] == q2_tokens[0])\n",
    "    - __abs_len_diff__ :  Abs. length difference<br>abs_len_diff = abs(len(q1_tokens) - len(q2_tokens))\n",
    "    - __mean_len__ :  Average Token Length of both Questions<br>mean_len = (len(q1_tokens) + len(q2_tokens))/2\n",
    "    - __fuzz_ratio__ :  https://github.com/seatgeek/fuzzywuzzy#usage\n",
    "    http://chairnerd.seatgeek.com/fuzzywuzzy-fuzzy-string-matching-in-python/\n",
    "    - __fuzz_partial_ratio__ :  https://github.com/seatgeek/fuzzywuzzy#usage\n",
    "    http://chairnerd.seatgeek.com/fuzzywuzzy-fuzzy-string-matching-in-python/\n",
    "    - __token_sort_ratio__ : https://github.com/seatgeek/fuzzywuzzy#usage\n",
    "    http://chairnerd.seatgeek.com/fuzzywuzzy-fuzzy-string-matching-in-python/\n",
    "    - __token_set_ratio__ : https://github.com/seatgeek/fuzzywuzzy#usage\n",
    "    http://chairnerd.seatgeek.com/fuzzywuzzy-fuzzy-string-matching-in-python/\n",
    "    - __longest_substr_ratio__ :  Ratio of length longest common substring to min lenghth of token count of Q1 and Q2<br>longest_substr_ratio = len(longest common substring) / (min(len(q1_tokens), len(q2_tokens)) <br>\n",
    "    **<u>Total advance feature = 15</u>**\n",
    "\n",
    "\n",
    "6. Next, we perform EDA on advance NLP features extraction:\n",
    "> - WordCloud generate from duplication and non-duplicate quora question pair.\n",
    " - Pair plot graph of features: ['ctc_min', 'cwc_min', 'csc_min', 'token_sort_ratio']\n",
    " - Violin plot and PDF of token_sort_ratio\n",
    " - Violin plot and PDF of fuzz_ratio\n",
    " - Visualization graph using t-SNE with both n_component=2 and n_component=3\n",
    " \n",
    "7. Next, Text featurization using TFIDF-W2V:\n",
    "> - Before featurization, we split the data into 70% portion of train data and 30% of test data\n",
    " - Perform TFIDF features fit and transform on train data and store all feature words with corresponding idf score into dictionary variable (dict()) which is fast indexing like a hasttable. Only Transform on test data.\n",
    " - We used GLOVE which comes from Spacy and taken all context as Wikipedia\n",
    " - Iterate each question1 ( Similarly for question2) from train data and check if its word contain in GLOVE then it will get the word vector otherwise ignore and then each word vector multiplied with tfidf score which was calculated before. then divided by summation of all tfidf score. Similarly also perform on test data also.<br>\n",
    " **<u>Total number of feature words (column)= 96 x 2(question1 and question2)</u>**\n",
    " \n",
    "8. We merge all the features on train data and test data and store in two (for train and test) csv files\n",
    "9. Next, we perform 3 different models with the logloss metrics: Logistic Regr, LinearSVM and XGBoost\n",
    "\n",
    "__(Note: For EDA, we have also written with observation also)__"
   ]
  },
  {
   "cell_type": "code",
   "execution_count": 12,
   "metadata": {},
   "outputs": [
    {
     "name": "stdout",
     "output_type": "stream",
     "text": [
      "+------------------------+---------------------+---------------------------------+---------------------+\n",
      "|        Feature         |        Model        |          Hyperparameter         |       logloss       |\n",
      "+------------------------+---------------------+---------------------------------+---------------------+\n",
      "| Basic+Advance+TFIDFW2V | Logistic Regression |            alpha =  1           |  0.5251549345647659 |\n",
      "| Basic+Advance+TFIDFW2V |      LinearSVM      |         alpha =  0.0001         |  0.4815117859683366 |\n",
      "| Basic+Advance+TFIDFW2V |       XGBoost       | max_depth = 7, n_estimators = 3 | 0.33964437882122683 |\n",
      "+------------------------+---------------------+---------------------------------+---------------------+\n"
     ]
    }
   ],
   "source": [
    "from prettytable import PrettyTable\n",
    "x = PrettyTable()\n",
    "x.field_names = [\"Feature\", \"Model\", \"Hyperparameter\", \"logloss\"]\n",
    "x.add_row([\"Basic+Advance+TFIDFW2V\",'Logistic Regression','alpha =  1', 0.5251549345647659])\n",
    "x.add_row([\"Basic+Advance+TFIDFW2V\",'LinearSVM','alpha =  0.0001', 0.4815117859683366])\n",
    "x.add_row([\"Basic+Advance+TFIDFW2V\",'XGBoost','max_depth = 7, n_estimators = 3', 0.33964437882122683])\n",
    "print(x)"
   ]
  },
  {
   "cell_type": "markdown",
   "metadata": {},
   "source": [
    "# Experiment 2 (Basic+Advance+TFIDF) Feature:\n",
    "# Conclusion"
   ]
  },
  {
   "cell_type": "markdown",
   "metadata": {},
   "source": [
    "Just the same as experiment conclusion but the only difference is: <br>\n",
    "> In step 7, we only need to do TFIDF features only. We perform min_df and max_feature parameter combination as best as possible. I got getting error. So, i got with the parameter min_df=10 and max_feature=4000\n",
    "**<u>Total number of feature word (column) = 4000 x 2(question1 and question2)</u>**"
   ]
  },
  {
   "cell_type": "code",
   "execution_count": 13,
   "metadata": {},
   "outputs": [
    {
     "name": "stdout",
     "output_type": "stream",
     "text": [
      "+---------------------+---------------------+----------------+---------------------+\n",
      "|       Feature       |        Model        | Hyperparameter |       logloss       |\n",
      "+---------------------+---------------------+----------------+---------------------+\n",
      "| Basic+Advance+TFIDF | Logistic Regression | alpha =  0.01  | 0.45104418169015187 |\n",
      "| Basic+Advance+TFIDF |      LinearSVM      | alpha =  1e-05 | 0.47402695719142957 |\n",
      "+---------------------+---------------------+----------------+---------------------+\n"
     ]
    }
   ],
   "source": [
    "from prettytable import PrettyTable\n",
    "x = PrettyTable()\n",
    "x.field_names = [\"Feature\", \"Model\", \"Hyperparameter\", \"logloss\"]\n",
    "x.add_row([\"Basic+Advance+TFIDF\",'Logistic Regression','alpha =  0.01', 0.45104418169015187])\n",
    "x.add_row([\"Basic+Advance+TFIDF\",'LinearSVM','alpha =  1e-05', 0.47402695719142957])\n",
    "# x.add_row([\"Basic+Advance+TFIDFW2V\",'XGBoost','max_depth = 7, n_estimators = 3', 0.33964437882122683])\n",
    "print(x)"
   ]
  },
  {
   "cell_type": "code",
   "execution_count": null,
   "metadata": {},
   "outputs": [],
   "source": []
  }
 ],
 "metadata": {
  "colab": {
   "name": "4.ML_models.ipynb",
   "provenance": [],
   "version": "0.3.2"
  },
  "kernelspec": {
   "display_name": "Python 3",
   "language": "python",
   "name": "python3"
  },
  "language_info": {
   "codemirror_mode": {
    "name": "ipython",
    "version": 3
   },
   "file_extension": ".py",
   "mimetype": "text/x-python",
   "name": "python",
   "nbconvert_exporter": "python",
   "pygments_lexer": "ipython3",
   "version": "3.6.8"
  }
 },
 "nbformat": 4,
 "nbformat_minor": 1
}
