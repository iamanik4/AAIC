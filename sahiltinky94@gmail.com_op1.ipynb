{
 "cells": [
  {
   "cell_type": "code",
   "execution_count": 1,
   "metadata": {},
   "outputs": [
    {
     "name": "stdout",
     "output_type": "stream",
     "text": [
      "Enter the number: 3\n",
      "3 x 1 = 3\n",
      "3 x 2 = 6\n",
      "3 x 3 = 9\n",
      "3 x 4 = 12\n",
      "3 x 5 = 15\n",
      "3 x 6 = 18\n",
      "3 x 7 = 21\n",
      "3 x 8 = 24\n",
      "3 x 9 = 27\n",
      "3 x 10 = 30\n"
     ]
    }
   ],
   "source": [
    "# Q1\n",
    "\n",
    "def multiplication(k):\n",
    "    '''\n",
    "    This function compute the table of 'k'\n",
    "    '''\n",
    "    for i in range(1,11):\n",
    "        print('{} x {} = {}'.format(k, i, k*i))\n",
    "        \n",
    "num = int(input('Enter the number: '))\n",
    "multiplication(num)"
   ]
  },
  {
   "cell_type": "code",
   "execution_count": 2,
   "metadata": {},
   "outputs": [
    {
     "name": "stdout",
     "output_type": "stream",
     "text": [
      "[3, 5]\n",
      "[5, 7]\n",
      "[7, 11]\n",
      "[11, 13]\n",
      "[13, 17]\n",
      "[17, 19]\n",
      "[19, 23]\n",
      "[23, 29]\n",
      "[29, 31]\n",
      "[31, 37]\n",
      "[37, 41]\n",
      "[41, 43]\n",
      "[43, 47]\n",
      "[47, 53]\n",
      "[53, 59]\n",
      "[59, 61]\n",
      "[61, 67]\n",
      "[67, 71]\n",
      "[71, 73]\n",
      "[73, 79]\n",
      "[79, 83]\n",
      "[83, 89]\n",
      "[89, 97]\n",
      "[97, 101]\n",
      "[101, 103]\n",
      "[103, 107]\n",
      "[107, 109]\n",
      "[109, 113]\n",
      "[113, 127]\n",
      "[127, 131]\n",
      "[131, 137]\n",
      "[137, 139]\n",
      "[139, 149]\n",
      "[149, 151]\n",
      "[151, 157]\n",
      "[157, 163]\n",
      "[163, 167]\n",
      "[167, 173]\n",
      "[173, 179]\n",
      "[179, 181]\n",
      "[181, 191]\n",
      "[191, 193]\n",
      "[193, 197]\n",
      "[197, 199]\n",
      "[199, 211]\n",
      "[211, 223]\n",
      "[223, 227]\n",
      "[227, 229]\n",
      "[229, 233]\n",
      "[233, 239]\n",
      "[239, 241]\n",
      "[241, 251]\n",
      "[251, 257]\n",
      "[257, 263]\n",
      "[263, 269]\n",
      "[269, 271]\n",
      "[271, 277]\n",
      "[277, 281]\n",
      "[281, 283]\n",
      "[283, 293]\n",
      "[293, 307]\n",
      "[307, 311]\n",
      "[311, 313]\n",
      "[313, 317]\n",
      "[317, 331]\n",
      "[331, 337]\n",
      "[337, 347]\n",
      "[347, 349]\n",
      "[349, 353]\n",
      "[353, 359]\n",
      "[359, 367]\n",
      "[367, 373]\n",
      "[373, 379]\n",
      "[379, 383]\n",
      "[383, 389]\n",
      "[389, 397]\n",
      "[397, 401]\n",
      "[401, 409]\n",
      "[409, 419]\n",
      "[419, 421]\n",
      "[421, 431]\n",
      "[431, 433]\n",
      "[433, 439]\n",
      "[439, 443]\n",
      "[443, 449]\n",
      "[449, 457]\n",
      "[457, 461]\n",
      "[461, 463]\n",
      "[463, 467]\n",
      "[467, 479]\n",
      "[479, 487]\n",
      "[487, 491]\n",
      "[491, 499]\n",
      "[499, 503]\n",
      "[503, 509]\n",
      "[509, 521]\n",
      "[521, 523]\n",
      "[523, 541]\n",
      "[541, 547]\n",
      "[547, 557]\n",
      "[557, 563]\n",
      "[563, 569]\n",
      "[569, 571]\n",
      "[571, 577]\n",
      "[577, 587]\n",
      "[587, 593]\n",
      "[593, 599]\n",
      "[599, 601]\n",
      "[601, 607]\n",
      "[607, 613]\n",
      "[613, 617]\n",
      "[617, 619]\n",
      "[619, 631]\n",
      "[631, 641]\n",
      "[641, 643]\n",
      "[643, 647]\n",
      "[647, 653]\n",
      "[653, 659]\n",
      "[659, 661]\n",
      "[661, 673]\n",
      "[673, 677]\n",
      "[677, 683]\n",
      "[683, 691]\n",
      "[691, 701]\n",
      "[701, 709]\n",
      "[709, 719]\n",
      "[719, 727]\n",
      "[727, 733]\n",
      "[733, 739]\n",
      "[739, 743]\n",
      "[743, 751]\n",
      "[751, 757]\n",
      "[757, 761]\n",
      "[761, 769]\n",
      "[769, 773]\n",
      "[773, 787]\n",
      "[787, 797]\n",
      "[797, 809]\n",
      "[809, 811]\n",
      "[811, 821]\n",
      "[821, 823]\n",
      "[823, 827]\n",
      "[827, 829]\n",
      "[829, 839]\n",
      "[839, 853]\n",
      "[853, 857]\n",
      "[857, 859]\n",
      "[859, 863]\n",
      "[863, 877]\n",
      "[877, 881]\n",
      "[881, 883]\n",
      "[883, 887]\n",
      "[887, 907]\n",
      "[907, 911]\n",
      "[911, 919]\n",
      "[919, 929]\n",
      "[929, 937]\n",
      "[937, 941]\n",
      "[941, 947]\n",
      "[947, 953]\n",
      "[953, 967]\n",
      "[967, 971]\n",
      "[971, 977]\n",
      "[977, 983]\n",
      "[983, 991]\n",
      "[991, 997]\n"
     ]
    }
   ],
   "source": [
    "# Q2 \n",
    "\n",
    "def twin_prime(k):\n",
    "    '''\n",
    "    This function find the twin prime.\n",
    "    If two consecutive odd numbers are prime then they are known as twin primes\n",
    "    '''\n",
    "    listprime = [2] # Create the list of prime numbers\n",
    "    \n",
    "    # Find the list of prime numbers less than 'k'\n",
    "    for j in range(3, k):\n",
    "        isDivisible = False\n",
    "        for i in range(2, j):\n",
    "            if (j%i == 0):\n",
    "                isDivisible = True\n",
    "                break\n",
    "        \n",
    "        if isDivisible == False:\n",
    "            listprime.append(j)\n",
    "    \n",
    "    # Print the desire output        \n",
    "    for i in range(len(listprime)-1):\n",
    "        if (listprime[i]%2 != 0) & (listprime[i+1]%2 != 0): # To check both are odd otherwise continue\n",
    "            print([listprime[i], listprime[i+1]])\n",
    "\n",
    "twin_prime(1000)"
   ]
  },
  {
   "cell_type": "code",
   "execution_count": 3,
   "metadata": {},
   "outputs": [
    {
     "name": "stdout",
     "output_type": "stream",
     "text": [
      "Enter the number: 56\n",
      "Prime factor of this 56 are [2, 2, 2, 7]\n"
     ]
    }
   ],
   "source": [
    "# Q3\n",
    "\n",
    "def prime_factor(k):\n",
    "    '''\n",
    "    To find the prime factor of 'k'\n",
    "    '''\n",
    "    listfactor = []\n",
    "    listprime = [2]\n",
    "    \n",
    "    # find the list of the prime numbers upto 'k'\n",
    "    for j in range(3, k+1):\n",
    "        isDivisible = False\n",
    "        for i in range(2, j):\n",
    "            if (j%i == 0):\n",
    "                isDivisible = True\n",
    "                break\n",
    "        \n",
    "        if isDivisible == False:\n",
    "            listprime.append(j)\n",
    "    \n",
    "    l = 0\n",
    "    # check every list of prime number is divisible by 'k'\n",
    "    while (k >= 0) & (l < len(listprime)):\n",
    "        if (k%listprime[l] == 0):\n",
    "            listfactor.append(listprime[l])\n",
    "            k = k / listprime[l]\n",
    "        else:\n",
    "            l += 1\n",
    "            \n",
    "    return listfactor\n",
    "\n",
    "num = int(input('Enter the number: '))\n",
    "print('Prime factor of this {} are {}'.format(num, prime_factor(num)))"
   ]
  },
  {
   "cell_type": "code",
   "execution_count": 4,
   "metadata": {},
   "outputs": [
    {
     "name": "stdout",
     "output_type": "stream",
     "text": [
      "Enter number n: 5\n",
      "Enter number r: 2\n",
      "Permutation of 5 and 2 is 20.0\n",
      "Combination of 5 and 2 is 10.0\n"
     ]
    }
   ],
   "source": [
    "# Q4\n",
    "\n",
    "def factorial(k):\n",
    "    '''\n",
    "    To find the factorial of 'k'\n",
    "    '''\n",
    "    f = 1\n",
    "    if f < 0:\n",
    "        f = 1\n",
    "    else:\n",
    "        for i in range(2,k+1):\n",
    "            f = f*i\n",
    "        \n",
    "    return f\n",
    "\n",
    "def permutation_(n, r):\n",
    "    '''\n",
    "    to find permunation with given (n,r)\n",
    "    '''\n",
    "    return factorial(n)/factorial(n-r)\n",
    "\n",
    "def combination_(n,r):\n",
    "    '''\n",
    "    to find combination with given (n,r)\n",
    "    '''\n",
    "    return permutation_(n,r)/factorial(r)\n",
    "\n",
    "num = int(input('Enter number n: '))\n",
    "r = int(input('Enter number r: '))\n",
    "print('Permutation of {} and {} is {}'.format(num,r,permutation_(num, r)))\n",
    "print('Combination of {} and {} is {}'.format(num,r,combination_(num, r)))"
   ]
  },
  {
   "cell_type": "code",
   "execution_count": 5,
   "metadata": {},
   "outputs": [
    {
     "name": "stdout",
     "output_type": "stream",
     "text": [
      "Enter the number: 121\n",
      "Binary representation of decimal value 121 is [1, 1, 1, 1, 0, 0, 1]\n"
     ]
    }
   ],
   "source": [
    "# Q5\n",
    "\n",
    "def decimal_to_binary(k):\n",
    "    '''\n",
    "    To convert decimal values to binary\n",
    "    '''\n",
    "    list_ = []\n",
    "    \n",
    "    # store the remainder value by dividing by 2\n",
    "    while(k >= 1):\n",
    "        list_.append(k%2)\n",
    "        k = int(k / 2)\n",
    "        \n",
    "    # print reverse of the list we have got    \n",
    "    return reversed(list_)\n",
    "\n",
    "num = int(input('Enter the number: '))\n",
    "print('Binary representation of decimal value {} is {}'.format(num,list(decimal_to_binary(num))))"
   ]
  },
  {
   "cell_type": "code",
   "execution_count": 6,
   "metadata": {},
   "outputs": [
    {
     "name": "stdout",
     "output_type": "stream",
     "text": [
      "Enter the number: 371\n",
      "Cube Sum of 371 is 371\n",
      "Print Armstrong Number less than 371 is [0, 1, 153, 370]\n",
      "371 is armstrong number\n"
     ]
    }
   ],
   "source": [
    "# Q6\n",
    "\n",
    "def cubesum(k):\n",
    "    '''\n",
    "    To find the sum of cube of individual of that number\n",
    "    '''\n",
    "    _sum = 0\n",
    "    while k > 0:\n",
    "        # taking last unit digit\n",
    "        r = k%10\n",
    "        _sum += r**3\n",
    "        # taking number except last digit\n",
    "        k = int(k/10)\n",
    "        \n",
    "    return _sum\n",
    "\n",
    "def PrintArmstrong(k):\n",
    "    '''\n",
    "    To print armstrong number\n",
    "    '''\n",
    "    _listarm = []\n",
    "    \n",
    "    # Finding the value that are armstrong number\n",
    "    for i in range(k):\n",
    "        _sum = cubesum(i)\n",
    "        if _sum == i:\n",
    "            _listarm.append(i)\n",
    "            \n",
    "    return _listarm\n",
    "\n",
    "def isArmstrong(k):\n",
    "    '''\n",
    "    To check whether it is armstrong number or not\n",
    "    '''\n",
    "    # finding the sum of 'k'\n",
    "    _sum = cubesum(k)\n",
    "    \n",
    "    # sum of cube of individual is equal to 'k' number, then it is armstrong number\n",
    "    if _sum == k:\n",
    "        print('{} is armstrong number'.format(k))\n",
    "    else:\n",
    "        # Otherwise not\n",
    "        print('{} is not armstrong number'.format(k))\n",
    "        \n",
    "num = int(input('Enter the number: '))\n",
    "print('Cube Sum of {} is {}'. format(num,cubesum(num)))\n",
    "print('Print Armstrong Number less than {} is {}'.format(num,PrintArmstrong(num)))\n",
    "isArmstrong(num)"
   ]
  },
  {
   "cell_type": "code",
   "execution_count": 7,
   "metadata": {},
   "outputs": [
    {
     "name": "stdout",
     "output_type": "stream",
     "text": [
      "Enter the number: 25164\n",
      "Product of each digit in 25164 is 240\n"
     ]
    }
   ],
   "source": [
    "# Q7\n",
    "\n",
    "def prodDigits(k):\n",
    "    '''\n",
    "    To calculate product of each digits\n",
    "    '''\n",
    "    _product = 1\n",
    "    while k >= 1:\n",
    "        # taking last unit digit\n",
    "        r = k%10\n",
    "        _product *= r\n",
    "        # Taking number except last digit\n",
    "        k = int(k/10)\n",
    "        \n",
    "    return _product\n",
    "\n",
    "num = int(input('Enter the number: '))\n",
    "print('Product of each digit in {} is {}'.format(num, prodDigits(num)))"
   ]
  },
  {
   "cell_type": "code",
   "execution_count": 8,
   "metadata": {},
   "outputs": [
    {
     "name": "stdout",
     "output_type": "stream",
     "text": [
      "Enter the number: 246\n",
      "MDR 6 and MPersistence 3\n"
     ]
    }
   ],
   "source": [
    "# Q8\n",
    "\n",
    "def MDR(k):\n",
    "    '''\n",
    "    To find the multiplicative digital root of 'k'\n",
    "    '''\n",
    "    while(k > 10):\n",
    "        k = prodDigits(k)\n",
    "        \n",
    "    return k\n",
    "\n",
    "def MPersistence(k):\n",
    "    '''\n",
    "    To find the multiplicative persistence of 'k'\n",
    "    '''\n",
    "    count = 0\n",
    "    while(k > 10):\n",
    "        k = prodDigits(k)\n",
    "        count += 1\n",
    "        \n",
    "    return count\n",
    "\n",
    "num = int(input('Enter the number: '))\n",
    "print('MDR {} and MPersistence {}'.format(MDR(num), MPersistence(num)))"
   ]
  },
  {
   "cell_type": "code",
   "execution_count": 9,
   "metadata": {},
   "outputs": [
    {
     "name": "stdout",
     "output_type": "stream",
     "text": [
      "Enter the number: 56\n",
      "Proper divisor of 56 are [1, 2, 4, 7, 8, 14, 28] and their sum of proper divisor is 64\n"
     ]
    }
   ],
   "source": [
    "# Q9\n",
    "\n",
    "def sumPdivisors(k):\n",
    "    '''\n",
    "    To finds the sum of proper divisors of a number 'k'\n",
    "    '''\n",
    "    listdivisible = []\n",
    "    _sum = 0\n",
    "    for i in range(1,k):\n",
    "        if k%i == 0:\n",
    "            listdivisible.append(i)\n",
    "            _sum += i\n",
    "            \n",
    "    return listdivisible, _sum\n",
    "\n",
    "num = int(input('Enter the number: '))\n",
    "x,y = sumPdivisors(num)\n",
    "print('Proper divisor of {} are {} and their sum of proper divisor is {}'.format(num,x,y))"
   ]
  },
  {
   "cell_type": "code",
   "execution_count": 10,
   "metadata": {},
   "outputs": [
    {
     "name": "stdout",
     "output_type": "stream",
     "text": [
      "Enter number to find perfect number from: 1\n",
      "Enter number to find perfect number to: 2000\n",
      "[6, 28, 496]\n"
     ]
    }
   ],
   "source": [
    "# Q10\n",
    "\n",
    "def find_perfectnum_range(x1,x2):\n",
    "    '''\n",
    "    To find the perfect number between x1 and x2\n",
    "    '''\n",
    "    list_perfect_num = [] # create empty list to store list of perfect number\n",
    "    \n",
    "    for i in range(x1,x2):\n",
    "        # find the divisor of the 'i' number\n",
    "        sumfactor, _sum = sumPdivisors(i)\n",
    "        if _sum == i:\n",
    "            list_perfect_num.append(i)\n",
    "            \n",
    "    return list_perfect_num\n",
    "\n",
    "num1 = int(input('Enter number to find perfect number from: '))\n",
    "num2 = int(input('Enter number to find perfect number to: '))\n",
    "print(find_perfectnum_range(num1, num2))"
   ]
  },
  {
   "cell_type": "code",
   "execution_count": 11,
   "metadata": {},
   "outputs": [
    {
     "name": "stdout",
     "output_type": "stream",
     "text": [
      "Enter number to find amicable number from: 1\n",
      "Enter number to find amicable number to: 2000\n",
      "[[6, 6], [28, 28], [220, 284], [496, 496], [1184, 1210]]\n"
     ]
    }
   ],
   "source": [
    "# Q11\n",
    "\n",
    "def amicable_number_range(x1, x2):\n",
    "    '''\n",
    "    To find the pair of amicable number\n",
    "    '''\n",
    "    list_amicable_pair = []\n",
    "    \n",
    "    for i in range(x1, x2):\n",
    "        # find the sum of proper divisor for 'i'\n",
    "        _, _sum = sumPdivisors(i)\n",
    "        # for the _sum above, again calculated to find the sum of proper divisor of _sum\n",
    "        _, _sum1 = sumPdivisors(_sum)\n",
    "        # If 'i' and '_sum1' same and if these pair not in the list rhen add in the list otherwise continue\n",
    "        if (i == _sum1) and ([i, _sum] not in list_amicable_pair) and ([_sum, i] not in list_amicable_pair):\n",
    "            list_amicable_pair.append([i, _sum])\n",
    "            \n",
    "    return list_amicable_pair\n",
    "\n",
    "num1 = int(input('Enter number to find amicable number from: '))\n",
    "num2 = int(input('Enter number to find amicable number to: '))\n",
    "print(amicable_number_range(num1, num2))"
   ]
  },
  {
   "cell_type": "code",
   "execution_count": 12,
   "metadata": {},
   "outputs": [
    {
     "data": {
      "text/plain": [
       "[1, 3, 5, 7, 9, 11, 13, 15, 17, 19]"
      ]
     },
     "execution_count": 12,
     "metadata": {},
     "output_type": "execute_result"
    }
   ],
   "source": [
    "# Q12\n",
    "\n",
    "num = range(1,20)\n",
    "list(filter(lambda x: x%2 != 0, num))"
   ]
  },
  {
   "cell_type": "code",
   "execution_count": 13,
   "metadata": {},
   "outputs": [
    {
     "data": {
      "text/plain": [
       "[1,\n",
       " 8,\n",
       " 27,\n",
       " 64,\n",
       " 125,\n",
       " 216,\n",
       " 343,\n",
       " 512,\n",
       " 729,\n",
       " 1000,\n",
       " 1331,\n",
       " 1728,\n",
       " 2197,\n",
       " 2744,\n",
       " 3375,\n",
       " 4096,\n",
       " 4913,\n",
       " 5832,\n",
       " 6859]"
      ]
     },
     "execution_count": 13,
     "metadata": {},
     "output_type": "execute_result"
    }
   ],
   "source": [
    "# Q13\n",
    "\n",
    "num = range(1,20)\n",
    "\n",
    "list(map(lambda x: x**3, num))"
   ]
  },
  {
   "cell_type": "code",
   "execution_count": 14,
   "metadata": {},
   "outputs": [
    {
     "data": {
      "text/plain": [
       "[8, 64, 216, 512, 1000, 1728, 2744, 4096, 5832]"
      ]
     },
     "execution_count": 14,
     "metadata": {},
     "output_type": "execute_result"
    }
   ],
   "source": [
    "# Q14\n",
    "\n",
    "num = range(1,20)\n",
    "list(map(lambda y: y**3 ,list(filter(lambda x: x%2 == 0, num))))"
   ]
  },
  {
   "cell_type": "code",
   "execution_count": null,
   "metadata": {},
   "outputs": [],
   "source": []
  }
 ],
 "metadata": {
  "kernelspec": {
   "display_name": "Python 3",
   "language": "python",
   "name": "python3"
  },
  "language_info": {
   "codemirror_mode": {
    "name": "ipython",
    "version": 3
   },
   "file_extension": ".py",
   "mimetype": "text/x-python",
   "name": "python",
   "nbconvert_exporter": "python",
   "pygments_lexer": "ipython3",
   "version": "3.6.8"
  }
 },
 "nbformat": 4,
 "nbformat_minor": 2
}
