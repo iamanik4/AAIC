{
 "cells": [
  {
   "cell_type": "code",
   "execution_count": 1,
   "metadata": {
    "colab": {},
    "colab_type": "code",
    "id": "vdomvdJKbLGr"
   },
   "outputs": [],
   "source": [
    "# Importing Libraries"
   ]
  },
  {
   "cell_type": "code",
   "execution_count": 5,
   "metadata": {
    "colab": {
     "base_uri": "https://localhost:8080/",
     "height": 122
    },
    "colab_type": "code",
    "executionInfo": {
     "elapsed": 21842,
     "status": "ok",
     "timestamp": 1584860601184,
     "user": {
      "displayName": "Sahil -",
      "photoUrl": "",
      "userId": "14051148522636395588"
     },
     "user_tz": -330
    },
    "id": "tLJy2oleDUB2",
    "outputId": "03818e2e-40d5-4f73-9869-37807ba50162"
   },
   "outputs": [
    {
     "name": "stdout",
     "output_type": "stream",
     "text": [
      "Go to this URL in a browser: https://accounts.google.com/o/oauth2/auth?client_id=947318989803-6bn6qk8qdgf4n4g3pfee6491hc0brc4i.apps.googleusercontent.com&redirect_uri=urn%3aietf%3awg%3aoauth%3a2.0%3aoob&response_type=code&scope=email%20https%3a%2f%2fwww.googleapis.com%2fauth%2fdocs.test%20https%3a%2f%2fwww.googleapis.com%2fauth%2fdrive%20https%3a%2f%2fwww.googleapis.com%2fauth%2fdrive.photos.readonly%20https%3a%2f%2fwww.googleapis.com%2fauth%2fpeopleapi.readonly\n",
      "\n",
      "Enter your authorization code:\n",
      "··········\n",
      "Mounted at /content/drive\n"
     ]
    }
   ],
   "source": [
    "from google.colab import drive\n",
    "drive.mount('/content/drive')"
   ]
  },
  {
   "cell_type": "code",
   "execution_count": 1,
   "metadata": {
    "colab": {},
    "colab_type": "code",
    "id": "wllJ1CN0bLGz"
   },
   "outputs": [],
   "source": [
    "import pandas as pd\n",
    "import numpy as np\n",
    "from datetime import datetime\n",
    "import time\n",
    "np.random.seed(42)"
   ]
  },
  {
   "cell_type": "code",
   "execution_count": 2,
   "metadata": {
    "colab": {},
    "colab_type": "code",
    "id": "jfbNTVAxbLG3"
   },
   "outputs": [],
   "source": [
    "# Activities are the class labels\n",
    "# It is a 6 class classification\n",
    "ACTIVITIES = {\n",
    "    0: 'WALKING',\n",
    "    1: 'WALKING_UPSTAIRS',\n",
    "    2: 'WALKING_DOWNSTAIRS',\n",
    "    3: 'SITTING',\n",
    "    4: 'STANDING',\n",
    "    5: 'LAYING',\n",
    "}\n",
    "\n",
    "# Utility function to print the confusion matrix\n",
    "def confusion_matrix(Y_true, Y_pred):\n",
    "    Y_true = pd.Series([ACTIVITIES[y] for y in np.argmax(Y_true, axis=1)])\n",
    "    Y_pred = pd.Series([ACTIVITIES[y] for y in np.argmax(Y_pred, axis=1)])\n",
    "\n",
    "    return pd.crosstab(Y_true, Y_pred, rownames=['True'], colnames=['Pred'])"
   ]
  },
  {
   "cell_type": "markdown",
   "metadata": {
    "colab_type": "text",
    "id": "2zhTWzBlbLG7"
   },
   "source": [
    "### Data"
   ]
  },
  {
   "cell_type": "code",
   "execution_count": 3,
   "metadata": {
    "colab": {},
    "colab_type": "code",
    "id": "EusSAFwobLG8"
   },
   "outputs": [],
   "source": [
    "# Data directory\n",
    "DATADIR = 'UCI_HAR_Dataset'"
   ]
  },
  {
   "cell_type": "code",
   "execution_count": 4,
   "metadata": {
    "colab": {},
    "colab_type": "code",
    "id": "ugCgpWwtbLHA"
   },
   "outputs": [],
   "source": [
    "# Raw data signals\n",
    "# Signals are from Accelerometer and Gyroscope\n",
    "# The signals are in x,y,z directions\n",
    "# Sensor signals are filtered to have only body acceleration\n",
    "# excluding the acceleration due to gravity\n",
    "# Triaxial acceleration from the accelerometer is total acceleration\n",
    "SIGNALS = [\n",
    "    \"body_acc_x\",\n",
    "    \"body_acc_y\",\n",
    "    \"body_acc_z\",\n",
    "    \"body_gyro_x\",\n",
    "    \"body_gyro_y\",\n",
    "    \"body_gyro_z\",\n",
    "    \"total_acc_x\",\n",
    "    \"total_acc_y\",\n",
    "    \"total_acc_z\"\n",
    "]"
   ]
  },
  {
   "cell_type": "code",
   "execution_count": 5,
   "metadata": {
    "colab": {},
    "colab_type": "code",
    "id": "4in3arBnbLHD"
   },
   "outputs": [],
   "source": [
    "# Utility function to read the data from csv file\n",
    "def _read_csv(filename):\n",
    "    return pd.read_csv(filename, delim_whitespace=True, header=None)\n",
    "\n",
    "# Utility function to load the load\n",
    "def load_signals(subset):\n",
    "    signals_data = []\n",
    "\n",
    "    for signal in SIGNALS:\n",
    "        filename = f'UCI_HAR_Dataset/{subset}/Inertial Signals/{signal}_{subset}.txt'\n",
    "        signals_data.append(\n",
    "            _read_csv(filename).as_matrix()\n",
    "        ) \n",
    "\n",
    "    # Transpose is used to change the dimensionality of the output,\n",
    "    # aggregating the signals by combination of sample/timestep.\n",
    "    # Resultant shape is (7352 train/2947 test samples, 128 timesteps, 9 signals)\n",
    "    return np.transpose(signals_data, (1, 2, 0))"
   ]
  },
  {
   "cell_type": "code",
   "execution_count": 6,
   "metadata": {
    "colab": {},
    "colab_type": "code",
    "id": "R_dl46KybLHG"
   },
   "outputs": [],
   "source": [
    "def load_y(subset):\n",
    "    \"\"\"\n",
    "    The objective that we are trying to predict is a integer, from 1 to 6,\n",
    "    that represents a human activity. We return a binary representation of \n",
    "    every sample objective as a 6 bits vector using One Hot Encoding\n",
    "    (https://pandas.pydata.org/pandas-docs/stable/generated/pandas.get_dummies.html)\n",
    "    \"\"\"\n",
    "    filename = f'UCI_HAR_Dataset/{subset}/y_{subset}.txt'\n",
    "    y = _read_csv(filename)[0]\n",
    "\n",
    "    return pd.get_dummies(y).as_matrix()"
   ]
  },
  {
   "cell_type": "code",
   "execution_count": 7,
   "metadata": {
    "colab": {},
    "colab_type": "code",
    "id": "fnDmgxj-bLHJ"
   },
   "outputs": [],
   "source": [
    "def load_data():\n",
    "    \"\"\"\n",
    "    Obtain the dataset from multiple files.\n",
    "    Returns: X_train, X_test, y_train, y_test\n",
    "    \"\"\"\n",
    "    X_train, X_test = load_signals('train'), load_signals('test')\n",
    "    y_train, y_test = load_y('train'), load_y('test')\n",
    "\n",
    "    return X_train, X_test, y_train, y_test"
   ]
  },
  {
   "cell_type": "code",
   "execution_count": 8,
   "metadata": {
    "colab": {
     "base_uri": "https://localhost:8080/",
     "height": 34
    },
    "colab_type": "code",
    "executionInfo": {
     "elapsed": 1153,
     "status": "ok",
     "timestamp": 1584860677815,
     "user": {
      "displayName": "Sahil -",
      "photoUrl": "",
      "userId": "14051148522636395588"
     },
     "user_tz": -330
    },
    "id": "4gISEeE7bLHM",
    "outputId": "640d67a3-f41b-47c6-8adc-a0c87cccef69"
   },
   "outputs": [
    {
     "data": {
      "text/plain": [
       "<function tensorflow.python.framework.ops.get_default_graph()>"
      ]
     },
     "execution_count": 8,
     "metadata": {},
     "output_type": "execute_result"
    }
   ],
   "source": [
    "# Importing tensorflow\n",
    "np.random.seed(42)\n",
    "import tensorflow as tf\n",
    "tf.compat.v1.get_default_graph"
   ]
  },
  {
   "cell_type": "code",
   "execution_count": 9,
   "metadata": {
    "colab": {},
    "colab_type": "code",
    "id": "e-16QQ2VbLHP"
   },
   "outputs": [],
   "source": [
    "# # Configuring a session\n",
    "# session_conf = tf.ConfigProto(\n",
    "#     intra_op_parallelism_threads=1,\n",
    "#     inter_op_parallelism_threads=1\n",
    "# )"
   ]
  },
  {
   "cell_type": "code",
   "execution_count": 10,
   "metadata": {
    "colab": {},
    "colab_type": "code",
    "id": "xj0xP3p_bLHS"
   },
   "outputs": [],
   "source": [
    "# Import Keras\n",
    "from tensorflow.keras import backend as K"
   ]
  },
  {
   "cell_type": "code",
   "execution_count": 11,
   "metadata": {
    "colab": {},
    "colab_type": "code",
    "id": "NPxnDK5HbLHV"
   },
   "outputs": [],
   "source": [
    "# Importing libraries\n",
    "from tensorflow.keras.models import Sequential\n",
    "from tensorflow.keras.layers import LSTM, BatchNormalization, Flatten, Conv1D, MaxPool1D\n",
    "from tensorflow.keras.layers import Dense, Dropout"
   ]
  },
  {
   "cell_type": "code",
   "execution_count": 12,
   "metadata": {
    "colab": {},
    "colab_type": "code",
    "id": "Ybt0dc6RbLHa"
   },
   "outputs": [],
   "source": [
    "# Utility function to count the number of classes\n",
    "def _count_classes(y):\n",
    "    return len(set([tuple(category) for category in y]))"
   ]
  },
  {
   "cell_type": "code",
   "execution_count": 13,
   "metadata": {
    "colab": {
     "base_uri": "https://localhost:8080/",
     "height": 71
    },
    "colab_type": "code",
    "executionInfo": {
     "elapsed": 13938,
     "status": "ok",
     "timestamp": 1584860694838,
     "user": {
      "displayName": "Sahil -",
      "photoUrl": "",
      "userId": "14051148522636395588"
     },
     "user_tz": -330
    },
    "id": "trObkwFDbLHd",
    "outputId": "45ed5630-9c52-477f-f1ef-1cc0bb236363"
   },
   "outputs": [
    {
     "name": "stderr",
     "output_type": "stream",
     "text": [
      "c:\\users\\sahil\\appdata\\local\\programs\\python\\python36\\lib\\site-packages\\ipykernel_launcher.py:12: FutureWarning: Method .as_matrix will be removed in a future version. Use .values instead.\n",
      "  if sys.path[0] == '':\n",
      "c:\\users\\sahil\\appdata\\local\\programs\\python\\python36\\lib\\site-packages\\ipykernel_launcher.py:11: FutureWarning: Method .as_matrix will be removed in a future version. Use .values instead.\n",
      "  # This is added back by InteractiveShellApp.init_path()\n"
     ]
    }
   ],
   "source": [
    "# Loading the train and test data\n",
    "X_train, X_test, Y_train, Y_test = load_data()"
   ]
  },
  {
   "cell_type": "code",
   "execution_count": 14,
   "metadata": {
    "colab": {
     "base_uri": "https://localhost:8080/",
     "height": 68
    },
    "colab_type": "code",
    "executionInfo": {
     "elapsed": 996,
     "status": "ok",
     "timestamp": 1584860697591,
     "user": {
      "displayName": "Sahil -",
      "photoUrl": "",
      "userId": "14051148522636395588"
     },
     "user_tz": -330
    },
    "id": "x1G52bt2bLHg",
    "outputId": "2b5b4f43-9462-49c3-daa1-c1aa680c6aeb"
   },
   "outputs": [
    {
     "name": "stdout",
     "output_type": "stream",
     "text": [
      "128\n",
      "9\n",
      "7352\n"
     ]
    }
   ],
   "source": [
    "timesteps = len(X_train[0])\n",
    "input_dim = len(X_train[0][0])\n",
    "n_classes = _count_classes(Y_train)\n",
    "\n",
    "print(timesteps)\n",
    "print(input_dim)\n",
    "print(len(X_train))"
   ]
  },
  {
   "cell_type": "code",
   "execution_count": 15,
   "metadata": {
    "colab": {
     "base_uri": "https://localhost:8080/",
     "height": 34
    },
    "colab_type": "code",
    "executionInfo": {
     "elapsed": 615,
     "status": "ok",
     "timestamp": 1584860698635,
     "user": {
      "displayName": "Sahil -",
      "photoUrl": "",
      "userId": "14051148522636395588"
     },
     "user_tz": -330
    },
    "id": "JMJnemG8_rXG",
    "outputId": "eb22fd69-5dba-413f-833a-d750bb4127e4"
   },
   "outputs": [
    {
     "data": {
      "text/plain": [
       "((7352, 128, 9), (2947, 128, 9), (7352, 6), (2947, 6))"
      ]
     },
     "execution_count": 15,
     "metadata": {},
     "output_type": "execute_result"
    }
   ],
   "source": [
    "X_train.shape, X_test.shape, Y_train.shape, Y_test.shape"
   ]
  },
  {
   "cell_type": "code",
   "execution_count": 0,
   "metadata": {
    "colab": {},
    "colab_type": "code",
    "id": "nzAlLZ5J7S7M"
   },
   "outputs": [],
   "source": [
    "Act_Ytr = np.argmax(Y_train, axis=1)\n",
    "Act_Yts = np.argmax(Y_test, axis=1)"
   ]
  },
  {
   "cell_type": "code",
   "execution_count": 0,
   "metadata": {
    "colab": {},
    "colab_type": "code",
    "id": "BzC5oPHe7S7O"
   },
   "outputs": [],
   "source": [
    "# Separate static and dynamic\n",
    "# static label as 1: dynamic label as 0\n",
    "static_Xtr = []\n",
    "static_ytr = []\n",
    "for i in range(Act_Ytr.shape[0]):\n",
    "    static_Xtr.append(X_train[i])\n",
    "    if Act_Ytr[i] == 0 or Act_Ytr[i] == 1 or Act_Ytr[i] == 2:\n",
    "        static_ytr.append(0)\n",
    "    else:\n",
    "        static_ytr.append(1)\n",
    "        \n",
    "static_Xts = []\n",
    "static_yts = []\n",
    "for i in range(Act_Yts.shape[0]):\n",
    "    static_Xts.append(X_test[i])\n",
    "    if Act_Yts[i] == 0 or Act_Yts[i] == 1 or Act_Yts[i] == 2:\n",
    "        static_yts.append(0)\n",
    "    else:\n",
    "        static_yts.append(1)"
   ]
  },
  {
   "cell_type": "code",
   "execution_count": 0,
   "metadata": {
    "colab": {},
    "colab_type": "code",
    "id": "RMAYRYoi7S7Q"
   },
   "outputs": [],
   "source": [
    "static_Xtr = np.array(static_Xtr)\n",
    "static_ytr = np.array(static_ytr)\n",
    "static_Xts = np.array(static_Xts)\n",
    "static_yts = np.array(static_yts)"
   ]
  },
  {
   "cell_type": "code",
   "execution_count": 0,
   "metadata": {
    "colab": {},
    "colab_type": "code",
    "id": "-2Q-5Saz7S7S",
    "outputId": "9389ce41-fbed-4267-d248-612b5438df85"
   },
   "outputs": [
    {
     "data": {
      "text/plain": [
       "((7352, 128, 9), (2947, 128, 9), (7352,), (2947,))"
      ]
     },
     "execution_count": 19,
     "metadata": {
      "tags": []
     },
     "output_type": "execute_result"
    }
   ],
   "source": [
    "static_Xtr.shape, static_Xts.shape, static_ytr.shape, static_yts.shape"
   ]
  },
  {
   "cell_type": "markdown",
   "metadata": {
    "colab_type": "text",
    "id": "cwqOYVH97S7V"
   },
   "source": [
    "# Stage 1"
   ]
  },
  {
   "cell_type": "code",
   "execution_count": 0,
   "metadata": {
    "colab": {},
    "colab_type": "code",
    "id": "epS3B9On7S7V"
   },
   "outputs": [],
   "source": [
    "from tensorflow.keras.wrappers.scikit_learn import KerasClassifier\n",
    "from sklearn.model_selection import GridSearchCV"
   ]
  },
  {
   "cell_type": "code",
   "execution_count": 0,
   "metadata": {
    "colab": {},
    "colab_type": "code",
    "id": "5uxWvmXv7S7Y"
   },
   "outputs": [],
   "source": [
    "epochs = 30\n",
    "batch_size = 32"
   ]
  },
  {
   "cell_type": "code",
   "execution_count": 16,
   "metadata": {
    "colab": {},
    "colab_type": "code",
    "id": "Rg85FRLa7S7b"
   },
   "outputs": [],
   "source": [
    "def create_model_stage_1(k1,d1,optimizer='adam'):\n",
    "    model = Sequential()\n",
    "    model.add(LSTM(k1, input_shape=(timesteps,input_dim), kernel_initializer=tf.keras.initializers.glorot_normal(seed=42)))\n",
    "    model.add(Dropout(d1))\n",
    "    model.add(Dense(1, activation='sigmoid'))\n",
    "    model.compile(loss='binary_crossentropy', optimizer=optimizer, metrics=['accuracy'])\n",
    "    return model"
   ]
  },
  {
   "cell_type": "code",
   "execution_count": 0,
   "metadata": {
    "colab": {},
    "colab_type": "code",
    "id": "u01qLP4D7S7c",
    "outputId": "5dfd3bef-5e42-4f9b-bd26-c45705300904"
   },
   "outputs": [
    {
     "name": "stdout",
     "output_type": "stream",
     "text": [
      "Fitting 3 folds for each of 63 candidates, totalling 189 fits\n",
      "[CV] d1=0.4, k1=8, optimizer=SGD .....................................\n"
     ]
    },
    {
     "name": "stderr",
     "output_type": "stream",
     "text": [
      "[Parallel(n_jobs=1)]: Using backend SequentialBackend with 1 concurrent workers.\n"
     ]
    },
    {
     "name": "stdout",
     "output_type": "stream",
     "text": [
      "[CV] ......... d1=0.4, k1=8, optimizer=SGD, score=0.963, total=  30.4s\n",
      "[CV] d1=0.4, k1=8, optimizer=SGD .....................................\n"
     ]
    },
    {
     "name": "stderr",
     "output_type": "stream",
     "text": [
      "[Parallel(n_jobs=1)]: Done   1 out of   1 | elapsed:   30.3s remaining:    0.0s\n"
     ]
    },
    {
     "name": "stdout",
     "output_type": "stream",
     "text": [
      "[CV] ......... d1=0.4, k1=8, optimizer=SGD, score=0.990, total=  27.5s\n",
      "[CV] d1=0.4, k1=8, optimizer=SGD .....................................\n"
     ]
    },
    {
     "name": "stderr",
     "output_type": "stream",
     "text": [
      "[Parallel(n_jobs=1)]: Done   2 out of   2 | elapsed:   57.7s remaining:    0.0s\n"
     ]
    },
    {
     "name": "stdout",
     "output_type": "stream",
     "text": [
      "[CV] ......... d1=0.4, k1=8, optimizer=SGD, score=0.959, total=  27.9s\n",
      "[CV] d1=0.4, k1=8, optimizer=RMSprop .................................\n"
     ]
    },
    {
     "name": "stderr",
     "output_type": "stream",
     "text": [
      "[Parallel(n_jobs=1)]: Done   3 out of   3 | elapsed:  1.4min remaining:    0.0s\n"
     ]
    },
    {
     "name": "stdout",
     "output_type": "stream",
     "text": [
      "[CV] ..... d1=0.4, k1=8, optimizer=RMSprop, score=0.989, total=  27.6s\n",
      "[CV] d1=0.4, k1=8, optimizer=RMSprop .................................\n"
     ]
    },
    {
     "name": "stderr",
     "output_type": "stream",
     "text": [
      "[Parallel(n_jobs=1)]: Done   4 out of   4 | elapsed:  1.9min remaining:    0.0s\n"
     ]
    },
    {
     "name": "stdout",
     "output_type": "stream",
     "text": [
      "[CV] ..... d1=0.4, k1=8, optimizer=RMSprop, score=0.987, total=  27.6s\n",
      "[CV] d1=0.4, k1=8, optimizer=RMSprop .................................\n"
     ]
    },
    {
     "name": "stderr",
     "output_type": "stream",
     "text": [
      "[Parallel(n_jobs=1)]: Done   5 out of   5 | elapsed:  2.3min remaining:    0.0s\n"
     ]
    },
    {
     "name": "stdout",
     "output_type": "stream",
     "text": [
      "[CV] ..... d1=0.4, k1=8, optimizer=RMSprop, score=0.980, total=  27.3s\n",
      "[CV] d1=0.4, k1=8, optimizer=Adagrad .................................\n"
     ]
    },
    {
     "name": "stderr",
     "output_type": "stream",
     "text": [
      "[Parallel(n_jobs=1)]: Done   6 out of   6 | elapsed:  2.8min remaining:    0.0s\n"
     ]
    },
    {
     "name": "stdout",
     "output_type": "stream",
     "text": [
      "[CV] ..... d1=0.4, k1=8, optimizer=Adagrad, score=0.785, total=  27.1s\n",
      "[CV] d1=0.4, k1=8, optimizer=Adagrad .................................\n"
     ]
    },
    {
     "name": "stderr",
     "output_type": "stream",
     "text": [
      "[Parallel(n_jobs=1)]: Done   7 out of   7 | elapsed:  3.3min remaining:    0.0s\n"
     ]
    },
    {
     "name": "stdout",
     "output_type": "stream",
     "text": [
      "[CV] ..... d1=0.4, k1=8, optimizer=Adagrad, score=0.887, total=  27.1s\n",
      "[CV] d1=0.4, k1=8, optimizer=Adagrad .................................\n"
     ]
    },
    {
     "name": "stderr",
     "output_type": "stream",
     "text": [
      "[Parallel(n_jobs=1)]: Done   8 out of   8 | elapsed:  3.7min remaining:    0.0s\n"
     ]
    },
    {
     "name": "stdout",
     "output_type": "stream",
     "text": [
      "[CV] ..... d1=0.4, k1=8, optimizer=Adagrad, score=0.792, total=  26.9s\n",
      "[CV] d1=0.4, k1=8, optimizer=Adadelta ................................\n"
     ]
    },
    {
     "name": "stderr",
     "output_type": "stream",
     "text": [
      "[Parallel(n_jobs=1)]: Done   9 out of   9 | elapsed:  4.2min remaining:    0.0s\n"
     ]
    },
    {
     "name": "stdout",
     "output_type": "stream",
     "text": [
      "[CV] .... d1=0.4, k1=8, optimizer=Adadelta, score=0.526, total=  27.1s\n",
      "[CV] d1=0.4, k1=8, optimizer=Adadelta ................................\n",
      "[CV] .... d1=0.4, k1=8, optimizer=Adadelta, score=0.602, total=  27.2s\n",
      "[CV] d1=0.4, k1=8, optimizer=Adadelta ................................\n",
      "[CV] .... d1=0.4, k1=8, optimizer=Adadelta, score=0.599, total=  27.2s\n",
      "[CV] d1=0.4, k1=8, optimizer=Adam ....................................\n",
      "[CV] ........ d1=0.4, k1=8, optimizer=Adam, score=0.999, total=  27.2s\n",
      "[CV] d1=0.4, k1=8, optimizer=Adam ....................................\n",
      "[CV] ........ d1=0.4, k1=8, optimizer=Adam, score=0.998, total=  27.5s\n",
      "[CV] d1=0.4, k1=8, optimizer=Adam ....................................\n",
      "[CV] ........ d1=0.4, k1=8, optimizer=Adam, score=0.954, total=  27.3s\n",
      "[CV] d1=0.4, k1=8, optimizer=Adamax ..................................\n",
      "[CV] ...... d1=0.4, k1=8, optimizer=Adamax, score=0.998, total=  27.4s\n",
      "[CV] d1=0.4, k1=8, optimizer=Adamax ..................................\n",
      "[CV] ...... d1=0.4, k1=8, optimizer=Adamax, score=0.981, total=  27.3s\n",
      "[CV] d1=0.4, k1=8, optimizer=Adamax ..................................\n",
      "[CV] ...... d1=0.4, k1=8, optimizer=Adamax, score=0.978, total=  27.1s\n",
      "[CV] d1=0.4, k1=8, optimizer=Nadam ...................................\n",
      "[CV] ....... d1=0.4, k1=8, optimizer=Nadam, score=0.975, total=  28.6s\n",
      "[CV] d1=0.4, k1=8, optimizer=Nadam ...................................\n",
      "[CV] ....... d1=0.4, k1=8, optimizer=Nadam, score=0.998, total=  28.9s\n",
      "[CV] d1=0.4, k1=8, optimizer=Nadam ...................................\n",
      "[CV] ....... d1=0.4, k1=8, optimizer=Nadam, score=0.983, total=  28.5s\n",
      "[CV] d1=0.4, k1=16, optimizer=SGD ....................................\n",
      "[CV] ........ d1=0.4, k1=16, optimizer=SGD, score=0.995, total=  27.1s\n",
      "[CV] d1=0.4, k1=16, optimizer=SGD ....................................\n",
      "[CV] ........ d1=0.4, k1=16, optimizer=SGD, score=0.996, total=  26.6s\n",
      "[CV] d1=0.4, k1=16, optimizer=SGD ....................................\n",
      "[CV] ........ d1=0.4, k1=16, optimizer=SGD, score=0.986, total=  26.8s\n",
      "[CV] d1=0.4, k1=16, optimizer=RMSprop ................................\n",
      "[CV] .... d1=0.4, k1=16, optimizer=RMSprop, score=0.997, total=  27.4s\n",
      "[CV] d1=0.4, k1=16, optimizer=RMSprop ................................\n",
      "[CV] .... d1=0.4, k1=16, optimizer=RMSprop, score=0.992, total=  27.2s\n",
      "[CV] d1=0.4, k1=16, optimizer=RMSprop ................................\n",
      "[CV] .... d1=0.4, k1=16, optimizer=RMSprop, score=0.984, total=  27.3s\n",
      "[CV] d1=0.4, k1=16, optimizer=Adagrad ................................\n",
      "[CV] .... d1=0.4, k1=16, optimizer=Adagrad, score=0.986, total=  27.2s\n",
      "[CV] d1=0.4, k1=16, optimizer=Adagrad ................................\n",
      "[CV] .... d1=0.4, k1=16, optimizer=Adagrad, score=0.978, total=  27.0s\n",
      "[CV] d1=0.4, k1=16, optimizer=Adagrad ................................\n",
      "[CV] .... d1=0.4, k1=16, optimizer=Adagrad, score=0.848, total=  26.9s\n",
      "[CV] d1=0.4, k1=16, optimizer=Adadelta ...............................\n",
      "[CV] ... d1=0.4, k1=16, optimizer=Adadelta, score=0.459, total=  26.9s\n",
      "[CV] d1=0.4, k1=16, optimizer=Adadelta ...............................\n",
      "[CV] ... d1=0.4, k1=16, optimizer=Adadelta, score=0.552, total=  26.9s\n",
      "[CV] d1=0.4, k1=16, optimizer=Adadelta ...............................\n",
      "[CV] ... d1=0.4, k1=16, optimizer=Adadelta, score=0.653, total=  27.4s\n",
      "[CV] d1=0.4, k1=16, optimizer=Adam ...................................\n",
      "[CV] ....... d1=0.4, k1=16, optimizer=Adam, score=0.998, total=  29.5s\n",
      "[CV] d1=0.4, k1=16, optimizer=Adam ...................................\n",
      "[CV] ....... d1=0.4, k1=16, optimizer=Adam, score=0.980, total=  28.2s\n",
      "[CV] d1=0.4, k1=16, optimizer=Adam ...................................\n",
      "[CV] ....... d1=0.4, k1=16, optimizer=Adam, score=0.972, total=  28.5s\n",
      "[CV] d1=0.4, k1=16, optimizer=Adamax .................................\n",
      "[CV] ..... d1=0.4, k1=16, optimizer=Adamax, score=0.997, total=  28.6s\n",
      "[CV] d1=0.4, k1=16, optimizer=Adamax .................................\n",
      "[CV] ..... d1=0.4, k1=16, optimizer=Adamax, score=0.992, total=  28.6s\n",
      "[CV] d1=0.4, k1=16, optimizer=Adamax .................................\n",
      "[CV] ..... d1=0.4, k1=16, optimizer=Adamax, score=0.975, total=  28.5s\n",
      "[CV] d1=0.4, k1=16, optimizer=Nadam ..................................\n",
      "[CV] ...... d1=0.4, k1=16, optimizer=Nadam, score=0.990, total=  30.0s\n",
      "[CV] d1=0.4, k1=16, optimizer=Nadam ..................................\n",
      "[CV] ...... d1=0.4, k1=16, optimizer=Nadam, score=0.991, total=  29.6s\n",
      "[CV] d1=0.4, k1=16, optimizer=Nadam ..................................\n",
      "[CV] ...... d1=0.4, k1=16, optimizer=Nadam, score=0.982, total=  30.2s\n",
      "[CV] d1=0.4, k1=32, optimizer=SGD ....................................\n",
      "[CV] ........ d1=0.4, k1=32, optimizer=SGD, score=0.980, total=  28.3s\n",
      "[CV] d1=0.4, k1=32, optimizer=SGD ....................................\n",
      "[CV] ........ d1=0.4, k1=32, optimizer=SGD, score=0.990, total=  29.3s\n",
      "[CV] d1=0.4, k1=32, optimizer=SGD ....................................\n",
      "[CV] ........ d1=0.4, k1=32, optimizer=SGD, score=0.978, total=  28.2s\n",
      "[CV] d1=0.4, k1=32, optimizer=RMSprop ................................\n",
      "[CV] .... d1=0.4, k1=32, optimizer=RMSprop, score=0.987, total=  28.4s\n",
      "[CV] d1=0.4, k1=32, optimizer=RMSprop ................................\n",
      "[CV] .... d1=0.4, k1=32, optimizer=RMSprop, score=0.987, total=  30.2s\n",
      "[CV] d1=0.4, k1=32, optimizer=RMSprop ................................\n",
      "[CV] .... d1=0.4, k1=32, optimizer=RMSprop, score=0.969, total=  30.9s\n",
      "[CV] d1=0.4, k1=32, optimizer=Adagrad ................................\n",
      "[CV] .... d1=0.4, k1=32, optimizer=Adagrad, score=0.989, total=  29.7s\n",
      "[CV] d1=0.4, k1=32, optimizer=Adagrad ................................\n",
      "[CV] .... d1=0.4, k1=32, optimizer=Adagrad, score=0.972, total=  29.7s\n",
      "[CV] d1=0.4, k1=32, optimizer=Adagrad ................................\n",
      "[CV] .... d1=0.4, k1=32, optimizer=Adagrad, score=0.978, total=  29.0s\n",
      "[CV] d1=0.4, k1=32, optimizer=Adadelta ...............................\n",
      "[CV] ... d1=0.4, k1=32, optimizer=Adadelta, score=0.705, total=  28.8s\n",
      "[CV] d1=0.4, k1=32, optimizer=Adadelta ...............................\n",
      "[CV] ... d1=0.4, k1=32, optimizer=Adadelta, score=0.396, total=  29.6s\n",
      "[CV] d1=0.4, k1=32, optimizer=Adadelta ...............................\n",
      "[CV] ... d1=0.4, k1=32, optimizer=Adadelta, score=0.415, total=  30.1s\n",
      "[CV] d1=0.4, k1=32, optimizer=Adam ...................................\n",
      "[CV] ....... d1=0.4, k1=32, optimizer=Adam, score=0.999, total=  29.3s\n",
      "[CV] d1=0.4, k1=32, optimizer=Adam ...................................\n",
      "[CV] ....... d1=0.4, k1=32, optimizer=Adam, score=0.985, total=  31.5s\n",
      "[CV] d1=0.4, k1=32, optimizer=Adam ...................................\n",
      "[CV] ....... d1=0.4, k1=32, optimizer=Adam, score=0.980, total=  32.0s\n",
      "[CV] d1=0.4, k1=32, optimizer=Adamax .................................\n",
      "[CV] ..... d1=0.4, k1=32, optimizer=Adamax, score=0.996, total=  30.1s\n",
      "[CV] d1=0.4, k1=32, optimizer=Adamax .................................\n",
      "[CV] ..... d1=0.4, k1=32, optimizer=Adamax, score=0.996, total=  29.5s\n",
      "[CV] d1=0.4, k1=32, optimizer=Adamax .................................\n",
      "[CV] ..... d1=0.4, k1=32, optimizer=Adamax, score=0.982, total=  29.4s\n",
      "[CV] d1=0.4, k1=32, optimizer=Nadam ..................................\n",
      "[CV] ...... d1=0.4, k1=32, optimizer=Nadam, score=0.997, total=  30.3s\n",
      "[CV] d1=0.4, k1=32, optimizer=Nadam ..................................\n",
      "[CV] ...... d1=0.4, k1=32, optimizer=Nadam, score=0.997, total=  30.1s\n",
      "[CV] d1=0.4, k1=32, optimizer=Nadam ..................................\n",
      "[CV] ...... d1=0.4, k1=32, optimizer=Nadam, score=0.975, total=  29.9s\n",
      "[CV] d1=0.5, k1=8, optimizer=SGD .....................................\n",
      "[CV] ......... d1=0.5, k1=8, optimizer=SGD, score=0.995, total=  27.6s\n",
      "[CV] d1=0.5, k1=8, optimizer=SGD .....................................\n",
      "[CV] ......... d1=0.5, k1=8, optimizer=SGD, score=0.628, total=  27.9s\n",
      "[CV] d1=0.5, k1=8, optimizer=SGD .....................................\n",
      "[CV] ......... d1=0.5, k1=8, optimizer=SGD, score=0.986, total=  27.6s\n",
      "[CV] d1=0.5, k1=8, optimizer=RMSprop .................................\n",
      "[CV] ..... d1=0.5, k1=8, optimizer=RMSprop, score=0.997, total=  29.4s\n",
      "[CV] d1=0.5, k1=8, optimizer=RMSprop .................................\n"
     ]
    },
    {
     "name": "stdout",
     "output_type": "stream",
     "text": [
      "[CV] ..... d1=0.5, k1=8, optimizer=RMSprop, score=0.996, total=  29.3s\n",
      "[CV] d1=0.5, k1=8, optimizer=RMSprop .................................\n",
      "[CV] ..... d1=0.5, k1=8, optimizer=RMSprop, score=0.971, total=  27.7s\n",
      "[CV] d1=0.5, k1=8, optimizer=Adagrad .................................\n",
      "[CV] ..... d1=0.5, k1=8, optimizer=Adagrad, score=0.738, total=  27.2s\n",
      "[CV] d1=0.5, k1=8, optimizer=Adagrad .................................\n",
      "[CV] ..... d1=0.5, k1=8, optimizer=Adagrad, score=0.751, total=  27.8s\n",
      "[CV] d1=0.5, k1=8, optimizer=Adagrad .................................\n",
      "[CV] ..... d1=0.5, k1=8, optimizer=Adagrad, score=0.787, total=  27.8s\n",
      "[CV] d1=0.5, k1=8, optimizer=Adadelta ................................\n",
      "[CV] .... d1=0.5, k1=8, optimizer=Adadelta, score=0.647, total=  27.8s\n",
      "[CV] d1=0.5, k1=8, optimizer=Adadelta ................................\n",
      "[CV] .... d1=0.5, k1=8, optimizer=Adadelta, score=0.624, total=  27.9s\n",
      "[CV] d1=0.5, k1=8, optimizer=Adadelta ................................\n",
      "[CV] .... d1=0.5, k1=8, optimizer=Adadelta, score=0.418, total=  28.1s\n",
      "[CV] d1=0.5, k1=8, optimizer=Adam ....................................\n",
      "[CV] ........ d1=0.5, k1=8, optimizer=Adam, score=0.996, total=  27.9s\n",
      "[CV] d1=0.5, k1=8, optimizer=Adam ....................................\n",
      "[CV] ........ d1=0.5, k1=8, optimizer=Adam, score=0.965, total=  28.5s\n",
      "[CV] d1=0.5, k1=8, optimizer=Adam ....................................\n",
      "[CV] ........ d1=0.5, k1=8, optimizer=Adam, score=0.966, total=  28.1s\n",
      "[CV] d1=0.5, k1=8, optimizer=Adamax ..................................\n",
      "[CV] ...... d1=0.5, k1=8, optimizer=Adamax, score=0.994, total=  27.5s\n",
      "[CV] d1=0.5, k1=8, optimizer=Adamax ..................................\n",
      "[CV] ...... d1=0.5, k1=8, optimizer=Adamax, score=0.980, total=  27.9s\n",
      "[CV] d1=0.5, k1=8, optimizer=Adamax ..................................\n",
      "[CV] ...... d1=0.5, k1=8, optimizer=Adamax, score=0.974, total=  27.6s\n",
      "[CV] d1=0.5, k1=8, optimizer=Nadam ...................................\n",
      "[CV] ....... d1=0.5, k1=8, optimizer=Nadam, score=0.998, total=  29.5s\n",
      "[CV] d1=0.5, k1=8, optimizer=Nadam ...................................\n",
      "[CV] ....... d1=0.5, k1=8, optimizer=Nadam, score=0.997, total=  29.9s\n",
      "[CV] d1=0.5, k1=8, optimizer=Nadam ...................................\n",
      "[CV] ....... d1=0.5, k1=8, optimizer=Nadam, score=0.973, total=  29.2s\n",
      "[CV] d1=0.5, k1=16, optimizer=SGD ....................................\n",
      "[CV] ........ d1=0.5, k1=16, optimizer=SGD, score=0.989, total=  27.5s\n",
      "[CV] d1=0.5, k1=16, optimizer=SGD ....................................\n",
      "[CV] ........ d1=0.5, k1=16, optimizer=SGD, score=0.962, total=  28.0s\n",
      "[CV] d1=0.5, k1=16, optimizer=SGD ....................................\n",
      "[CV] ........ d1=0.5, k1=16, optimizer=SGD, score=0.991, total=  27.4s\n",
      "[CV] d1=0.5, k1=16, optimizer=RMSprop ................................\n",
      "[CV] .... d1=0.5, k1=16, optimizer=RMSprop, score=0.998, total=  28.5s\n",
      "[CV] d1=0.5, k1=16, optimizer=RMSprop ................................\n",
      "[CV] .... d1=0.5, k1=16, optimizer=RMSprop, score=0.998, total=  28.1s\n",
      "[CV] d1=0.5, k1=16, optimizer=RMSprop ................................\n",
      "[CV] .... d1=0.5, k1=16, optimizer=RMSprop, score=0.994, total=  29.2s\n",
      "[CV] d1=0.5, k1=16, optimizer=Adagrad ................................\n",
      "[CV] .... d1=0.5, k1=16, optimizer=Adagrad, score=0.984, total=  27.3s\n",
      "[CV] d1=0.5, k1=16, optimizer=Adagrad ................................\n",
      "[CV] .... d1=0.5, k1=16, optimizer=Adagrad, score=0.967, total=  28.1s\n",
      "[CV] d1=0.5, k1=16, optimizer=Adagrad ................................\n",
      "[CV] .... d1=0.5, k1=16, optimizer=Adagrad, score=0.973, total=  27.5s\n",
      "[CV] d1=0.5, k1=16, optimizer=Adadelta ...............................\n",
      "[CV] ... d1=0.5, k1=16, optimizer=Adadelta, score=0.366, total=  27.7s\n",
      "[CV] d1=0.5, k1=16, optimizer=Adadelta ...............................\n",
      "[CV] ... d1=0.5, k1=16, optimizer=Adadelta, score=0.627, total=  27.5s\n",
      "[CV] d1=0.5, k1=16, optimizer=Adadelta ...............................\n",
      "[CV] ... d1=0.5, k1=16, optimizer=Adadelta, score=0.357, total=  29.0s\n",
      "[CV] d1=0.5, k1=16, optimizer=Adam ...................................\n",
      "[CV] ....... d1=0.5, k1=16, optimizer=Adam, score=0.996, total=  27.9s\n",
      "[CV] d1=0.5, k1=16, optimizer=Adam ...................................\n",
      "[CV] ....... d1=0.5, k1=16, optimizer=Adam, score=0.984, total=  27.2s\n",
      "[CV] d1=0.5, k1=16, optimizer=Adam ...................................\n",
      "[CV] ....... d1=0.5, k1=16, optimizer=Adam, score=0.984, total=  27.4s\n",
      "[CV] d1=0.5, k1=16, optimizer=Adamax .................................\n",
      "[CV] ..... d1=0.5, k1=16, optimizer=Adamax, score=0.990, total=  27.4s\n",
      "[CV] d1=0.5, k1=16, optimizer=Adamax .................................\n",
      "[CV] ..... d1=0.5, k1=16, optimizer=Adamax, score=0.996, total=  28.2s\n",
      "[CV] d1=0.5, k1=16, optimizer=Adamax .................................\n",
      "[CV] ..... d1=0.5, k1=16, optimizer=Adamax, score=0.980, total=  28.1s\n",
      "[CV] d1=0.5, k1=16, optimizer=Nadam ..................................\n",
      "[CV] ...... d1=0.5, k1=16, optimizer=Nadam, score=0.998, total=  29.5s\n",
      "[CV] d1=0.5, k1=16, optimizer=Nadam ..................................\n",
      "[CV] ...... d1=0.5, k1=16, optimizer=Nadam, score=0.908, total=  28.7s\n",
      "[CV] d1=0.5, k1=16, optimizer=Nadam ..................................\n",
      "[CV] ...... d1=0.5, k1=16, optimizer=Nadam, score=0.983, total=  28.7s\n",
      "[CV] d1=0.5, k1=32, optimizer=SGD ....................................\n",
      "[CV] ........ d1=0.5, k1=32, optimizer=SGD, score=0.954, total=  28.4s\n",
      "[CV] d1=0.5, k1=32, optimizer=SGD ....................................\n",
      "[CV] ........ d1=0.5, k1=32, optimizer=SGD, score=0.718, total=  27.9s\n",
      "[CV] d1=0.5, k1=32, optimizer=SGD ....................................\n",
      "[CV] ........ d1=0.5, k1=32, optimizer=SGD, score=0.876, total=  28.0s\n",
      "[CV] d1=0.5, k1=32, optimizer=RMSprop ................................\n",
      "[CV] .... d1=0.5, k1=32, optimizer=RMSprop, score=0.998, total=  29.0s\n",
      "[CV] d1=0.5, k1=32, optimizer=RMSprop ................................\n",
      "[CV] .... d1=0.5, k1=32, optimizer=RMSprop, score=0.985, total=  28.3s\n",
      "[CV] d1=0.5, k1=32, optimizer=RMSprop ................................\n",
      "[CV] .... d1=0.5, k1=32, optimizer=RMSprop, score=0.980, total=  28.9s\n",
      "[CV] d1=0.5, k1=32, optimizer=Adagrad ................................\n",
      "[CV] .... d1=0.5, k1=32, optimizer=Adagrad, score=0.989, total=  28.1s\n",
      "[CV] d1=0.5, k1=32, optimizer=Adagrad ................................\n",
      "[CV] .... d1=0.5, k1=32, optimizer=Adagrad, score=0.971, total=  28.0s\n",
      "[CV] d1=0.5, k1=32, optimizer=Adagrad ................................\n",
      "[CV] .... d1=0.5, k1=32, optimizer=Adagrad, score=0.973, total=  28.4s\n",
      "[CV] d1=0.5, k1=32, optimizer=Adadelta ...............................\n",
      "[CV] ... d1=0.5, k1=32, optimizer=Adadelta, score=0.531, total=  28.9s\n",
      "[CV] d1=0.5, k1=32, optimizer=Adadelta ...............................\n",
      "[CV] ... d1=0.5, k1=32, optimizer=Adadelta, score=0.689, total=  28.9s\n",
      "[CV] d1=0.5, k1=32, optimizer=Adadelta ...............................\n",
      "[CV] ... d1=0.5, k1=32, optimizer=Adadelta, score=0.656, total=  30.9s\n",
      "[CV] d1=0.5, k1=32, optimizer=Adam ...................................\n",
      "[CV] ....... d1=0.5, k1=32, optimizer=Adam, score=0.911, total=  29.0s\n",
      "[CV] d1=0.5, k1=32, optimizer=Adam ...................................\n",
      "[CV] ....... d1=0.5, k1=32, optimizer=Adam, score=0.992, total=  28.1s\n",
      "[CV] d1=0.5, k1=32, optimizer=Adam ...................................\n",
      "[CV] ....... d1=0.5, k1=32, optimizer=Adam, score=0.982, total=  28.1s\n",
      "[CV] d1=0.5, k1=32, optimizer=Adamax .................................\n",
      "[CV] ..... d1=0.5, k1=32, optimizer=Adamax, score=0.992, total=  28.9s\n",
      "[CV] d1=0.5, k1=32, optimizer=Adamax .................................\n",
      "[CV] ..... d1=0.5, k1=32, optimizer=Adamax, score=0.998, total=  28.5s\n",
      "[CV] d1=0.5, k1=32, optimizer=Adamax .................................\n",
      "[CV] ..... d1=0.5, k1=32, optimizer=Adamax, score=0.984, total=  28.3s\n",
      "[CV] d1=0.5, k1=32, optimizer=Nadam ..................................\n",
      "[CV] ...... d1=0.5, k1=32, optimizer=Nadam, score=0.992, total=  29.1s\n",
      "[CV] d1=0.5, k1=32, optimizer=Nadam ..................................\n",
      "[CV] ...... d1=0.5, k1=32, optimizer=Nadam, score=0.994, total=  29.2s\n",
      "[CV] d1=0.5, k1=32, optimizer=Nadam ..................................\n"
     ]
    },
    {
     "name": "stderr",
     "output_type": "stream",
     "text": [
      "W0320 23:02:06.027496  4600 nn_ops.py:4372] Large dropout rate: 0.6 (>0.5). In TensorFlow 2.x, dropout() uses dropout rate instead of keep_prob. Please ensure that this is intended.\n"
     ]
    },
    {
     "name": "stdout",
     "output_type": "stream",
     "text": [
      "[CV] ...... d1=0.5, k1=32, optimizer=Nadam, score=0.984, total=  29.3s\n",
      "[CV] d1=0.6, k1=8, optimizer=SGD .....................................\n"
     ]
    },
    {
     "name": "stderr",
     "output_type": "stream",
     "text": [
      "W0320 23:02:06.216981  4600 nn_ops.py:4372] Large dropout rate: 0.6 (>0.5). In TensorFlow 2.x, dropout() uses dropout rate instead of keep_prob. Please ensure that this is intended.\n",
      "W0320 23:02:06.520184  4600 nn_ops.py:4372] Large dropout rate: 0.6 (>0.5). In TensorFlow 2.x, dropout() uses dropout rate instead of keep_prob. Please ensure that this is intended.\n",
      "W0320 23:02:32.969807  4600 nn_ops.py:4372] Large dropout rate: 0.6 (>0.5). In TensorFlow 2.x, dropout() uses dropout rate instead of keep_prob. Please ensure that this is intended.\n"
     ]
    },
    {
     "name": "stdout",
     "output_type": "stream",
     "text": [
      "[CV] ......... d1=0.6, k1=8, optimizer=SGD, score=0.694, total=  26.9s\n",
      "[CV] d1=0.6, k1=8, optimizer=SGD .....................................\n"
     ]
    },
    {
     "name": "stderr",
     "output_type": "stream",
     "text": [
      "W0320 23:02:33.161296  4600 nn_ops.py:4372] Large dropout rate: 0.6 (>0.5). In TensorFlow 2.x, dropout() uses dropout rate instead of keep_prob. Please ensure that this is intended.\n"
     ]
    },
    {
     "name": "stdout",
     "output_type": "stream",
     "text": [
      "[CV] ......... d1=0.6, k1=8, optimizer=SGD, score=0.824, total=  27.9s\n",
      "[CV] d1=0.6, k1=8, optimizer=SGD .....................................\n",
      "[CV] ......... d1=0.6, k1=8, optimizer=SGD, score=0.806, total=  28.0s\n",
      "[CV] d1=0.6, k1=8, optimizer=RMSprop .................................\n",
      "[CV] ..... d1=0.6, k1=8, optimizer=RMSprop, score=0.995, total=  29.4s\n",
      "[CV] d1=0.6, k1=8, optimizer=RMSprop .................................\n",
      "[CV] ..... d1=0.6, k1=8, optimizer=RMSprop, score=0.991, total=  29.2s\n",
      "[CV] d1=0.6, k1=8, optimizer=RMSprop .................................\n",
      "[CV] ..... d1=0.6, k1=8, optimizer=RMSprop, score=0.964, total=  28.9s\n",
      "[CV] d1=0.6, k1=8, optimizer=Adagrad .................................\n",
      "[CV] ..... d1=0.6, k1=8, optimizer=Adagrad, score=0.872, total=  28.7s\n",
      "[CV] d1=0.6, k1=8, optimizer=Adagrad .................................\n",
      "[CV] ..... d1=0.6, k1=8, optimizer=Adagrad, score=0.795, total=  28.3s\n",
      "[CV] d1=0.6, k1=8, optimizer=Adagrad .................................\n",
      "[CV] ..... d1=0.6, k1=8, optimizer=Adagrad, score=0.806, total=  28.5s\n",
      "[CV] d1=0.6, k1=8, optimizer=Adadelta ................................\n",
      "[CV] .... d1=0.6, k1=8, optimizer=Adadelta, score=0.698, total=  28.6s\n",
      "[CV] d1=0.6, k1=8, optimizer=Adadelta ................................\n",
      "[CV] .... d1=0.6, k1=8, optimizer=Adadelta, score=0.386, total=  28.3s\n",
      "[CV] d1=0.6, k1=8, optimizer=Adadelta ................................\n",
      "[CV] .... d1=0.6, k1=8, optimizer=Adadelta, score=0.593, total=  27.7s\n",
      "[CV] d1=0.6, k1=8, optimizer=Adam ....................................\n",
      "[CV] ........ d1=0.6, k1=8, optimizer=Adam, score=0.979, total=  27.9s\n",
      "[CV] d1=0.6, k1=8, optimizer=Adam ....................................\n",
      "[CV] ........ d1=0.6, k1=8, optimizer=Adam, score=0.993, total=  27.8s\n",
      "[CV] d1=0.6, k1=8, optimizer=Adam ....................................\n",
      "[CV] ........ d1=0.6, k1=8, optimizer=Adam, score=0.898, total=  27.6s\n",
      "[CV] d1=0.6, k1=8, optimizer=Adamax ..................................\n",
      "[CV] ...... d1=0.6, k1=8, optimizer=Adamax, score=0.991, total=  28.3s\n",
      "[CV] d1=0.6, k1=8, optimizer=Adamax ..................................\n",
      "[CV] ...... d1=0.6, k1=8, optimizer=Adamax, score=0.955, total=  28.8s\n",
      "[CV] d1=0.6, k1=8, optimizer=Adamax ..................................\n",
      "[CV] ...... d1=0.6, k1=8, optimizer=Adamax, score=0.979, total=  28.6s\n",
      "[CV] d1=0.6, k1=8, optimizer=Nadam ...................................\n",
      "[CV] ....... d1=0.6, k1=8, optimizer=Nadam, score=0.997, total=  29.2s\n",
      "[CV] d1=0.6, k1=8, optimizer=Nadam ...................................\n",
      "[CV] ....... d1=0.6, k1=8, optimizer=Nadam, score=0.998, total=  30.2s\n",
      "[CV] d1=0.6, k1=8, optimizer=Nadam ...................................\n",
      "[CV] ....... d1=0.6, k1=8, optimizer=Nadam, score=0.983, total=  29.4s\n",
      "[CV] d1=0.6, k1=16, optimizer=SGD ....................................\n",
      "[CV] ........ d1=0.6, k1=16, optimizer=SGD, score=0.994, total=  27.7s\n",
      "[CV] d1=0.6, k1=16, optimizer=SGD ....................................\n",
      "[CV] ........ d1=0.6, k1=16, optimizer=SGD, score=0.616, total=  28.1s\n",
      "[CV] d1=0.6, k1=16, optimizer=SGD ....................................\n",
      "[CV] ........ d1=0.6, k1=16, optimizer=SGD, score=0.973, total=  28.4s\n",
      "[CV] d1=0.6, k1=16, optimizer=RMSprop ................................\n",
      "[CV] .... d1=0.6, k1=16, optimizer=RMSprop, score=0.998, total=  28.4s\n",
      "[CV] d1=0.6, k1=16, optimizer=RMSprop ................................\n",
      "[CV] .... d1=0.6, k1=16, optimizer=RMSprop, score=0.994, total=  27.4s\n",
      "[CV] d1=0.6, k1=16, optimizer=RMSprop ................................\n",
      "[CV] .... d1=0.6, k1=16, optimizer=RMSprop, score=0.983, total=  28.3s\n",
      "[CV] d1=0.6, k1=16, optimizer=Adagrad ................................\n",
      "[CV] .... d1=0.6, k1=16, optimizer=Adagrad, score=0.957, total=  27.3s\n",
      "[CV] d1=0.6, k1=16, optimizer=Adagrad ................................\n",
      "[CV] .... d1=0.6, k1=16, optimizer=Adagrad, score=0.915, total=  28.3s\n",
      "[CV] d1=0.6, k1=16, optimizer=Adagrad ................................\n",
      "[CV] .... d1=0.6, k1=16, optimizer=Adagrad, score=0.950, total=  28.3s\n",
      "[CV] d1=0.6, k1=16, optimizer=Adadelta ...............................\n",
      "[CV] ... d1=0.6, k1=16, optimizer=Adadelta, score=0.365, total=  27.5s\n",
      "[CV] d1=0.6, k1=16, optimizer=Adadelta ...............................\n",
      "[CV] ... d1=0.6, k1=16, optimizer=Adadelta, score=0.358, total=  26.9s\n",
      "[CV] d1=0.6, k1=16, optimizer=Adadelta ...............................\n",
      "[CV] ... d1=0.6, k1=16, optimizer=Adadelta, score=0.496, total=  26.9s\n",
      "[CV] d1=0.6, k1=16, optimizer=Adam ...................................\n",
      "[CV] ....... d1=0.6, k1=16, optimizer=Adam, score=0.999, total=  27.0s\n",
      "[CV] d1=0.6, k1=16, optimizer=Adam ...................................\n",
      "[CV] ....... d1=0.6, k1=16, optimizer=Adam, score=0.998, total=  27.2s\n",
      "[CV] d1=0.6, k1=16, optimizer=Adam ...................................\n",
      "[CV] ....... d1=0.6, k1=16, optimizer=Adam, score=0.989, total=  27.0s\n",
      "[CV] d1=0.6, k1=16, optimizer=Adamax .................................\n",
      "[CV] ..... d1=0.6, k1=16, optimizer=Adamax, score=0.981, total=  27.5s\n",
      "[CV] d1=0.6, k1=16, optimizer=Adamax .................................\n",
      "[CV] ..... d1=0.6, k1=16, optimizer=Adamax, score=0.983, total=  27.3s\n",
      "[CV] d1=0.6, k1=16, optimizer=Adamax .................................\n",
      "[CV] ..... d1=0.6, k1=16, optimizer=Adamax, score=0.981, total=  27.5s\n",
      "[CV] d1=0.6, k1=16, optimizer=Nadam ..................................\n",
      "[CV] ...... d1=0.6, k1=16, optimizer=Nadam, score=0.992, total=  29.3s\n",
      "[CV] d1=0.6, k1=16, optimizer=Nadam ..................................\n",
      "[CV] ...... d1=0.6, k1=16, optimizer=Nadam, score=0.978, total=  29.9s\n",
      "[CV] d1=0.6, k1=16, optimizer=Nadam ..................................\n",
      "[CV] ...... d1=0.6, k1=16, optimizer=Nadam, score=0.979, total=  29.4s\n",
      "[CV] d1=0.6, k1=32, optimizer=SGD ....................................\n",
      "[CV] ........ d1=0.6, k1=32, optimizer=SGD, score=0.876, total=  28.1s\n",
      "[CV] d1=0.6, k1=32, optimizer=SGD ....................................\n",
      "[CV] ........ d1=0.6, k1=32, optimizer=SGD, score=0.831, total=  27.9s\n",
      "[CV] d1=0.6, k1=32, optimizer=SGD ....................................\n",
      "[CV] ........ d1=0.6, k1=32, optimizer=SGD, score=0.984, total=  28.2s\n",
      "[CV] d1=0.6, k1=32, optimizer=RMSprop ................................\n",
      "[CV] .... d1=0.6, k1=32, optimizer=RMSprop, score=0.990, total=  28.6s\n",
      "[CV] d1=0.6, k1=32, optimizer=RMSprop ................................\n",
      "[CV] .... d1=0.6, k1=32, optimizer=RMSprop, score=0.987, total=  28.0s\n",
      "[CV] d1=0.6, k1=32, optimizer=RMSprop ................................\n",
      "[CV] .... d1=0.6, k1=32, optimizer=RMSprop, score=0.978, total=  28.4s\n",
      "[CV] d1=0.6, k1=32, optimizer=Adagrad ................................\n",
      "[CV] .... d1=0.6, k1=32, optimizer=Adagrad, score=0.986, total=  27.8s\n",
      "[CV] d1=0.6, k1=32, optimizer=Adagrad ................................\n",
      "[CV] .... d1=0.6, k1=32, optimizer=Adagrad, score=0.978, total=  28.0s\n",
      "[CV] d1=0.6, k1=32, optimizer=Adagrad ................................\n",
      "[CV] .... d1=0.6, k1=32, optimizer=Adagrad, score=0.959, total=  27.8s\n",
      "[CV] d1=0.6, k1=32, optimizer=Adadelta ...............................\n",
      "[CV] ... d1=0.6, k1=32, optimizer=Adadelta, score=0.705, total=  27.8s\n",
      "[CV] d1=0.6, k1=32, optimizer=Adadelta ...............................\n",
      "[CV] ... d1=0.6, k1=32, optimizer=Adadelta, score=0.581, total=  28.7s\n",
      "[CV] d1=0.6, k1=32, optimizer=Adadelta ...............................\n",
      "[CV] ... d1=0.6, k1=32, optimizer=Adadelta, score=0.654, total=  27.8s\n",
      "[CV] d1=0.6, k1=32, optimizer=Adam ...................................\n",
      "[CV] ....... d1=0.6, k1=32, optimizer=Adam, score=0.970, total=  27.7s\n",
      "[CV] d1=0.6, k1=32, optimizer=Adam ...................................\n",
      "[CV] ....... d1=0.6, k1=32, optimizer=Adam, score=0.987, total=  27.9s\n",
      "[CV] d1=0.6, k1=32, optimizer=Adam ...................................\n",
      "[CV] ....... d1=0.6, k1=32, optimizer=Adam, score=0.971, total=  27.9s\n",
      "[CV] d1=0.6, k1=32, optimizer=Adamax .................................\n",
      "[CV] ..... d1=0.6, k1=32, optimizer=Adamax, score=0.992, total=  27.9s\n",
      "[CV] d1=0.6, k1=32, optimizer=Adamax .................................\n",
      "[CV] ..... d1=0.6, k1=32, optimizer=Adamax, score=0.991, total=  27.9s\n",
      "[CV] d1=0.6, k1=32, optimizer=Adamax .................................\n"
     ]
    },
    {
     "name": "stdout",
     "output_type": "stream",
     "text": [
      "[CV] ..... d1=0.6, k1=32, optimizer=Adamax, score=0.980, total=  28.3s\n",
      "[CV] d1=0.6, k1=32, optimizer=Nadam ..................................\n",
      "[CV] ...... d1=0.6, k1=32, optimizer=Nadam, score=0.984, total=  29.8s\n",
      "[CV] d1=0.6, k1=32, optimizer=Nadam ..................................\n",
      "[CV] ...... d1=0.6, k1=32, optimizer=Nadam, score=0.993, total=  29.2s\n",
      "[CV] d1=0.6, k1=32, optimizer=Nadam ..................................\n",
      "[CV] ...... d1=0.6, k1=32, optimizer=Nadam, score=0.983, total=  29.3s\n"
     ]
    },
    {
     "name": "stderr",
     "output_type": "stream",
     "text": [
      "[Parallel(n_jobs=1)]: Done 189 out of 189 | elapsed: 89.2min finished\n"
     ]
    },
    {
     "name": "stdout",
     "output_type": "stream",
     "text": [
      "Wall time: 1h 29min 51s\n"
     ]
    }
   ],
   "source": [
    "%%time\n",
    "# Ref: https://machinelearningmastery.com/grid-search-hyperparameters-deep-learning-models-python-keras/\n",
    "\n",
    "# create model\n",
    "model = KerasClassifier(build_fn=create_model_stage_1, epochs=epochs, batch_size=batch_size, verbose=0)\n",
    "optimizer = ['SGD', 'RMSprop', 'Adagrad', 'Adadelta', 'Adam', 'Adamax', 'Nadam']\n",
    "k1 = [8,16,32]\n",
    "d1 = [0.4,0.5,0.6]\n",
    "param_grid = dict(k1=k1, d1=d1,optimizer=optimizer)\n",
    "grid = GridSearchCV(estimator=model, param_grid=param_grid, cv=3, verbose=10)\n",
    "grid_result = grid.fit(static_Xtr, static_ytr)"
   ]
  },
  {
   "cell_type": "code",
   "execution_count": 0,
   "metadata": {
    "colab": {},
    "colab_type": "code",
    "id": "Q26vh52Z7S7e",
    "outputId": "a9a3ca5f-2299-440b-d36d-48548c66a991",
    "scrolled": true
   },
   "outputs": [
    {
     "name": "stdout",
     "output_type": "stream",
     "text": [
      "Best: 0.996463 using {'d1': 0.5, 'k1': 16, 'optimizer': 'RMSprop'}\n",
      "0.970619 (0.013647) with: {'d1': 0.4, 'k1': 8, 'optimizer': 'SGD'}\n",
      "0.985581 (0.003792) with: {'d1': 0.4, 'k1': 8, 'optimizer': 'RMSprop'}\n",
      "0.821677 (0.046552) with: {'d1': 0.4, 'k1': 8, 'optimizer': 'Adagrad'}\n",
      "0.575629 (0.035174) with: {'d1': 0.4, 'k1': 8, 'optimizer': 'Adadelta'}\n",
      "0.983538 (0.020976) with: {'d1': 0.4, 'k1': 8, 'optimizer': 'Adam'}\n",
      "0.985581 (0.008524) with: {'d1': 0.4, 'k1': 8, 'optimizer': 'Adamax'}\n",
      "0.985310 (0.009604) with: {'d1': 0.4, 'k1': 8, 'optimizer': 'Nadam'}\n",
      "0.992246 (0.004359) with: {'d1': 0.4, 'k1': 16, 'optimizer': 'SGD'}\n",
      "0.991022 (0.005567) with: {'d1': 0.4, 'k1': 16, 'optimizer': 'RMSprop'}\n",
      "0.937420 (0.063481) with: {'d1': 0.4, 'k1': 16, 'optimizer': 'Adagrad'}\n",
      "0.554556 (0.079254) with: {'d1': 0.4, 'k1': 16, 'optimizer': 'Adadelta'}\n",
      "0.983404 (0.011094) with: {'d1': 0.4, 'k1': 16, 'optimizer': 'Adam'}\n",
      "0.987893 (0.009581) with: {'d1': 0.4, 'k1': 16, 'optimizer': 'Adamax'}\n",
      "0.987758 (0.003787) with: {'d1': 0.4, 'k1': 16, 'optimizer': 'Nadam'}\n",
      "0.982861 (0.005238) with: {'d1': 0.4, 'k1': 32, 'optimizer': 'SGD'}\n",
      "0.980820 (0.008084) with: {'d1': 0.4, 'k1': 32, 'optimizer': 'RMSprop'}\n",
      "0.979733 (0.007164) with: {'d1': 0.4, 'k1': 32, 'optimizer': 'Adagrad'}\n",
      "0.505156 (0.141535) with: {'d1': 0.4, 'k1': 32, 'optimizer': 'Adadelta'}\n",
      "0.988029 (0.008226) with: {'d1': 0.4, 'k1': 32, 'optimizer': 'Adam'}\n",
      "0.991430 (0.006359) with: {'d1': 0.4, 'k1': 32, 'optimizer': 'Adamax'}\n",
      "0.989525 (0.010488) with: {'d1': 0.4, 'k1': 32, 'optimizer': 'Nadam'}\n",
      "0.869847 (0.170828) with: {'d1': 0.5, 'k1': 8, 'optimizer': 'SGD'}\n",
      "0.988164 (0.011844) with: {'d1': 0.5, 'k1': 8, 'optimizer': 'RMSprop'}\n",
      "0.758573 (0.020797) with: {'d1': 0.5, 'k1': 8, 'optimizer': 'Adagrad'}\n",
      "0.562956 (0.103270) with: {'d1': 0.5, 'k1': 8, 'optimizer': 'Adadelta'}\n",
      "0.975924 (0.014432) with: {'d1': 0.5, 'k1': 8, 'optimizer': 'Adam'}\n",
      "0.982997 (0.008367) with: {'d1': 0.5, 'k1': 8, 'optimizer': 'Adamax'}\n",
      "0.989388 (0.011550) with: {'d1': 0.5, 'k1': 8, 'optimizer': 'Nadam'}\n",
      "0.980687 (0.013183) with: {'d1': 0.5, 'k1': 16, 'optimizer': 'SGD'}\n",
      "0.996463 (0.001540) with: {'d1': 0.5, 'k1': 16, 'optimizer': 'RMSprop'}\n",
      "0.974973 (0.006911) with: {'d1': 0.5, 'k1': 16, 'optimizer': 'Adagrad'}\n",
      "0.450341 (0.125326) with: {'d1': 0.5, 'k1': 16, 'optimizer': 'Adadelta'}\n",
      "0.988166 (0.005194) with: {'d1': 0.5, 'k1': 16, 'optimizer': 'Adam'}\n",
      "0.988437 (0.006406) with: {'d1': 0.5, 'k1': 16, 'optimizer': 'Adamax'}\n",
      "0.963278 (0.039431) with: {'d1': 0.5, 'k1': 16, 'optimizer': 'Nadam'}\n",
      "0.849296 (0.097879) with: {'d1': 0.5, 'k1': 32, 'optimizer': 'SGD'}\n",
      "0.987893 (0.007631) with: {'d1': 0.5, 'k1': 32, 'optimizer': 'RMSprop'}\n",
      "0.977693 (0.007760) with: {'d1': 0.5, 'k1': 32, 'optimizer': 'Adagrad'}\n",
      "0.625276 (0.067913) with: {'d1': 0.5, 'k1': 32, 'optimizer': 'Adadelta'}\n",
      "0.961646 (0.036033) with: {'d1': 0.5, 'k1': 32, 'optimizer': 'Adam'}\n",
      "0.991158 (0.005718) with: {'d1': 0.5, 'k1': 32, 'optimizer': 'Adamax'}\n",
      "0.990070 (0.004599) with: {'d1': 0.5, 'k1': 32, 'optimizer': 'Nadam'}\n",
      "0.774487 (0.057651) with: {'d1': 0.6, 'k1': 8, 'optimizer': 'SGD'}\n",
      "0.983131 (0.013840) with: {'d1': 0.6, 'k1': 8, 'optimizer': 'RMSprop'}\n",
      "0.824399 (0.034184) with: {'d1': 0.6, 'k1': 8, 'optimizer': 'Adagrad'}\n",
      "0.559172 (0.129709) with: {'d1': 0.6, 'k1': 8, 'optimizer': 'Adadelta'}\n",
      "0.956466 (0.042065) with: {'d1': 0.6, 'k1': 8, 'optimizer': 'Adam'}\n",
      "0.975109 (0.015049) with: {'d1': 0.6, 'k1': 8, 'optimizer': 'Adamax'}\n",
      "0.992654 (0.006641) with: {'d1': 0.6, 'k1': 8, 'optimizer': 'Nadam'}\n",
      "0.861005 (0.173120) with: {'d1': 0.6, 'k1': 16, 'optimizer': 'SGD'}\n",
      "0.991702 (0.006517) with: {'d1': 0.6, 'k1': 16, 'optimizer': 'RMSprop'}\n",
      "0.940562 (0.018512) with: {'d1': 0.6, 'k1': 16, 'optimizer': 'Adagrad'}\n",
      "0.406432 (0.063621) with: {'d1': 0.6, 'k1': 16, 'optimizer': 'Adadelta'}\n",
      "0.994966 (0.004550) with: {'d1': 0.6, 'k1': 16, 'optimizer': 'Adam'}\n",
      "0.981774 (0.001072) with: {'d1': 0.6, 'k1': 16, 'optimizer': 'Adamax'}\n",
      "0.982861 (0.006383) with: {'d1': 0.6, 'k1': 16, 'optimizer': 'Nadam'}\n",
      "0.897183 (0.064492) with: {'d1': 0.6, 'k1': 32, 'optimizer': 'SGD'}\n",
      "0.984765 (0.005233) with: {'d1': 0.6, 'k1': 32, 'optimizer': 'RMSprop'}\n",
      "0.974427 (0.011511) with: {'d1': 0.6, 'k1': 32, 'optimizer': 'Adagrad'}\n",
      "0.646764 (0.050914) with: {'d1': 0.6, 'k1': 32, 'optimizer': 'Adadelta'}\n",
      "0.975924 (0.008087) with: {'d1': 0.6, 'k1': 32, 'optimizer': 'Adam'}\n",
      "0.988029 (0.005399) with: {'d1': 0.6, 'k1': 32, 'optimizer': 'Adamax'}\n",
      "0.986806 (0.004476) with: {'d1': 0.6, 'k1': 32, 'optimizer': 'Nadam'}\n"
     ]
    }
   ],
   "source": [
    "# summarize results\n",
    "print(\"Best: %f using %s\" % (grid_result.best_score_, grid_result.best_params_))\n",
    "means = grid_result.cv_results_['mean_test_score']\n",
    "stds = grid_result.cv_results_['std_test_score']\n",
    "params = grid_result.cv_results_['params']\n",
    "for mean, stdev, param in zip(means, stds, params):\n",
    "    print(\"%f (%f) with: %r\" % (mean, stdev, param))"
   ]
  },
  {
   "cell_type": "code",
   "execution_count": 0,
   "metadata": {
    "colab": {},
    "colab_type": "code",
    "id": "MDiq54Kr7S7h"
   },
   "outputs": [],
   "source": [
    "%load_ext tensorboard\n",
    "logdir = log_dir=\"logs\\\\stage_1\\\\\" + datetime.now().strftime(\"%Y%m%d-%H%M%S\")\n",
    "tensorboard_callback = tf.keras.callbacks.TensorBoard(log_dir=logdir)"
   ]
  },
  {
   "cell_type": "code",
   "execution_count": 0,
   "metadata": {
    "colab": {},
    "colab_type": "code",
    "id": "7s0zN3Tz7S7j",
    "outputId": "954bc335-7349-4f79-8dd4-e9486ba4eb8e"
   },
   "outputs": [
    {
     "name": "stderr",
     "output_type": "stream",
     "text": [
      "W0320 23:34:06.573614  4600 callbacks.py:248] Method (on_train_batch_end) is slow compared to the batch update (0.159144). Check your callbacks.\n"
     ]
    }
   ],
   "source": [
    "model_1 = create_model_stage_1(k1=16,d1=0.5,optimizer='RMSprop')\n",
    "history = model_1.fit(static_Xtr, static_ytr, epochs=epochs, batch_size=batch_size, validation_data=(static_Xts,static_yts), callbacks=[tensorboard_callback], verbose=0)"
   ]
  },
  {
   "cell_type": "code",
   "execution_count": 0,
   "metadata": {
    "colab": {},
    "colab_type": "code",
    "id": "O7aH2VT77S7l",
    "outputId": "df24a090-821b-42db-f06b-4ac257fb90a2"
   },
   "outputs": [
    {
     "name": "stdout",
     "output_type": "stream",
     "text": [
      "2947/2947 [==============================] - 0s 114us/sample - loss: 0.0352 - accuracy: 0.9973\n"
     ]
    },
    {
     "data": {
      "text/plain": [
       "[0.03517710592085603, 0.99728537]"
      ]
     },
     "execution_count": 29,
     "metadata": {
      "tags": []
     },
     "output_type": "execute_result"
    }
   ],
   "source": [
    "model_1.evaluate(static_Xts,static_yts)"
   ]
  },
  {
   "cell_type": "code",
   "execution_count": 0,
   "metadata": {
    "colab": {},
    "colab_type": "code",
    "id": "vIMJxDr57S7n"
   },
   "outputs": [],
   "source": [
    "model_1.save_weights('model_stage_1.h5')"
   ]
  },
  {
   "cell_type": "code",
   "execution_count": 0,
   "metadata": {
    "colab": {},
    "colab_type": "code",
    "id": "4pHE5Ng67S7q",
    "outputId": "c3c763d4-72a6-427a-bd2b-7219378c16bc"
   },
   "outputs": [
    {
     "data": {
      "text/plain": [
       "ERROR: Timed out waiting for TensorBoard to start. It may still be running as pid 2528."
      ]
     },
     "metadata": {
      "tags": []
     },
     "output_type": "display_data"
    }
   ],
   "source": [
    "%tensorboard --logdir logs\\\\stage_1  --host localhost"
   ]
  },
  {
   "cell_type": "markdown",
   "metadata": {
    "colab_type": "text",
    "id": "X1FqnjxD7S7t"
   },
   "source": [
    "<img src='stage_1.PNG' />"
   ]
  },
  {
   "cell_type": "code",
   "execution_count": 0,
   "metadata": {
    "colab": {},
    "colab_type": "code",
    "id": "-V2eCCIW7S7t",
    "outputId": "50c7b934-5d93-4103-8a64-94cecd4f96e6"
   },
   "outputs": [
    {
     "data": {
      "text/plain": [
       "array([0.99999976, 0.99999976, 0.99999976, 0.99999976, 0.99999976])"
      ]
     },
     "execution_count": 34,
     "metadata": {
      "tags": []
     },
     "output_type": "execute_result"
    }
   ],
   "source": [
    "y_prob = np.array(model_1.predict(static_Xts).tolist()).ravel()\n",
    "y_prob[:5]"
   ]
  },
  {
   "cell_type": "code",
   "execution_count": 0,
   "metadata": {
    "colab": {},
    "colab_type": "code",
    "id": "Ivd1Hnyn7S7w",
    "outputId": "1e4a0641-c377-4f35-9616-b6a5c135b9b2"
   },
   "outputs": [
    {
     "data": {
      "text/plain": [
       "(2947,)"
      ]
     },
     "execution_count": 35,
     "metadata": {
      "tags": []
     },
     "output_type": "execute_result"
    }
   ],
   "source": [
    "y_pred = []\n",
    "for i in y_prob:\n",
    "    if i > 0.5:\n",
    "        y_pred.append(1)\n",
    "    else:\n",
    "        y_pred.append(0)\n",
    "y_pred = np.array(y_pred)\n",
    "y_pred.shape"
   ]
  },
  {
   "cell_type": "code",
   "execution_count": 0,
   "metadata": {
    "colab": {},
    "colab_type": "code",
    "id": "inFiDXBR7S7y"
   },
   "outputs": [],
   "source": [
    "# ==== df_static =====\n",
    "df_X_tr = []\n",
    "df_y_tr = []\n",
    "df_X_ts = []\n",
    "df_y_ts = []\n",
    "\n",
    "for i in range(static_ytr.shape[0]):\n",
    "    if static_ytr[i] == 1:\n",
    "        df_X_tr.append(X_train[i])\n",
    "        df_y_tr.append(Y_train[i])\n",
    "        \n",
    "for i in range(static_yts.shape[0]):\n",
    "    if y_pred[i] == 1:\n",
    "        df_X_ts.append(X_test[i])\n",
    "        df_y_ts.append(Y_test[i])"
   ]
  },
  {
   "cell_type": "code",
   "execution_count": 0,
   "metadata": {
    "colab": {},
    "colab_type": "code",
    "id": "qaAyG1kW7S70"
   },
   "outputs": [],
   "source": [
    "df_X_tr = np.array(df_X_tr)\n",
    "df_X_ts = np.array(df_X_ts)\n",
    "df_y_tr = np.array(df_y_tr)\n",
    "df_y_ts = np.array(df_y_ts)"
   ]
  },
  {
   "cell_type": "code",
   "execution_count": 0,
   "metadata": {
    "colab": {},
    "colab_type": "code",
    "id": "1Rrp284O7S72"
   },
   "outputs": [],
   "source": [
    "# Saving static df only\n",
    "np.save('st_X_tr',df_X_tr)\n",
    "np.save('st_X_ts',df_X_ts)\n",
    "np.save('st_y_tr',df_y_tr)\n",
    "np.save('st_y_ts',df_y_ts)"
   ]
  },
  {
   "cell_type": "code",
   "execution_count": 0,
   "metadata": {
    "colab": {},
    "colab_type": "code",
    "id": "JRTgVoHv7S75"
   },
   "outputs": [],
   "source": [
    "# ==== df_dynmic =====\n",
    "df_X_tr = []\n",
    "df_y_tr = []\n",
    "df_X_ts = []\n",
    "df_y_ts = []\n",
    "\n",
    "for i in range(static_ytr.shape[0]):\n",
    "    if static_ytr[i] == 0:\n",
    "        df_X_tr.append(X_train[i])\n",
    "        df_y_tr.append(Y_train[i])\n",
    "        \n",
    "for i in range(static_yts.shape[0]):\n",
    "    if y_pred[i] == 0:\n",
    "        df_X_ts.append(X_test[i])\n",
    "        df_y_ts.append(Y_test[i])"
   ]
  },
  {
   "cell_type": "code",
   "execution_count": 0,
   "metadata": {
    "colab": {},
    "colab_type": "code",
    "id": "g02rz6Gg7S77"
   },
   "outputs": [],
   "source": [
    "df_X_tr = np.array(df_X_tr)\n",
    "df_X_ts = np.array(df_X_ts)\n",
    "df_y_tr = np.array(df_y_tr)\n",
    "df_y_ts = np.array(df_y_ts)"
   ]
  },
  {
   "cell_type": "code",
   "execution_count": 0,
   "metadata": {
    "colab": {},
    "colab_type": "code",
    "id": "JCUx1LXP7S79"
   },
   "outputs": [],
   "source": [
    "# Saving static df only\n",
    "np.save('dy_X_tr',df_X_tr)\n",
    "np.save('dy_X_ts',df_X_ts)\n",
    "np.save('dy_y_tr',df_y_tr)\n",
    "np.save('dy_y_ts',df_y_ts)"
   ]
  },
  {
   "cell_type": "markdown",
   "metadata": {
    "colab_type": "text",
    "id": "tG6WnfSN7S7_"
   },
   "source": [
    "# Stage 2"
   ]
  },
  {
   "cell_type": "markdown",
   "metadata": {
    "colab_type": "text",
    "id": "PJXVbhmZ7S7_"
   },
   "source": [
    "**Static**"
   ]
  },
  {
   "cell_type": "code",
   "execution_count": 0,
   "metadata": {
    "colab": {},
    "colab_type": "code",
    "id": "2i-KIiUt7S8B",
    "outputId": "90667e2e-6c33-4420-aa73-6ffb3a709f4b"
   },
   "outputs": [
    {
     "data": {
      "text/plain": [
       "((4067, 128, 9), (1552, 128, 9), (4067, 6), (1552, 6))"
      ]
     },
     "execution_count": 19,
     "metadata": {
      "tags": []
     },
     "output_type": "execute_result"
    }
   ],
   "source": [
    "df_X_tr = np.load('st_X_tr.npy')\n",
    "df_X_ts = np.load('st_X_ts.npy')\n",
    "df_y_tr = np.load('st_y_tr.npy')\n",
    "df_y_ts = np.load('st_y_ts.npy')\n",
    "df_X_tr.shape, df_X_ts.shape, df_y_tr.shape,df_y_ts.shape"
   ]
  },
  {
   "cell_type": "code",
   "execution_count": 17,
   "metadata": {
    "colab": {},
    "colab_type": "code",
    "id": "ygYw_OnQ7S8E"
   },
   "outputs": [],
   "source": [
    "def create_model_stage_2(k1,k2,u1):\n",
    "    model = Sequential()\n",
    "    model.add(Conv1D(k1, 3, input_shape=(timesteps,input_dim), activation='relu', padding='same', \\\n",
    "                     kernel_initializer=tf.keras.initializers.glorot_normal))\n",
    "    model.add(MaxPool1D())\n",
    "    model.add(Dropout(0.5))\n",
    "    model.add(Conv1D(k2, 3, activation='relu', kernel_initializer=tf.keras.initializers.glorot_normal, \\\n",
    "                     padding='same'))\n",
    "    model.add(Flatten())\n",
    "    model.add(Dense(u1, activation='relu',kernel_initializer=tf.keras.initializers.glorot_normal))\n",
    "    model.add(BatchNormalization())\n",
    "    model.add(Dropout(0.25))\n",
    "    model.add(Dense(n_classes, activation='softmax', kernel_initializer=tf.keras.initializers.glorot_normal))\n",
    "    model.compile(loss='categorical_crossentropy', optimizer='Adam', metrics=['accuracy'])\n",
    "    return model"
   ]
  },
  {
   "cell_type": "code",
   "execution_count": 0,
   "metadata": {
    "colab": {},
    "colab_type": "code",
    "id": "AZsrmEq47S8G",
    "outputId": "7ca26ef3-ed68-440e-8f05-aafc1d501354"
   },
   "outputs": [
    {
     "name": "stdout",
     "output_type": "stream",
     "text": [
      "Model: \"sequential\"\n",
      "_________________________________________________________________\n",
      "Layer (type)                 Output Shape              Param #   \n",
      "=================================================================\n",
      "conv1d (Conv1D)              (None, 128, 30)           840       \n",
      "_________________________________________________________________\n",
      "max_pooling1d (MaxPooling1D) (None, 64, 30)            0         \n",
      "_________________________________________________________________\n",
      "dropout (Dropout)            (None, 64, 30)            0         \n",
      "_________________________________________________________________\n",
      "conv1d_1 (Conv1D)            (None, 64, 50)            4550      \n",
      "_________________________________________________________________\n",
      "flatten (Flatten)            (None, 3200)              0         \n",
      "_________________________________________________________________\n",
      "dense (Dense)                (None, 40)                128040    \n",
      "_________________________________________________________________\n",
      "batch_normalization (BatchNo (None, 40)                160       \n",
      "_________________________________________________________________\n",
      "dropout_1 (Dropout)          (None, 40)                0         \n",
      "_________________________________________________________________\n",
      "dense_1 (Dense)              (None, 6)                 246       \n",
      "=================================================================\n",
      "Total params: 133,836\n",
      "Trainable params: 133,756\n",
      "Non-trainable params: 80\n",
      "_________________________________________________________________\n"
     ]
    }
   ],
   "source": [
    "create_model_stage_2(30,50,40).summary()"
   ]
  },
  {
   "cell_type": "code",
   "execution_count": 0,
   "metadata": {
    "colab": {},
    "colab_type": "code",
    "id": "qQH8tcEZ7S8J",
    "outputId": "480e6ba8-f88c-41b0-da65-ef73bf8c6286"
   },
   "outputs": [
    {
     "name": "stdout",
     "output_type": "stream",
     "text": [
      "Fitting 3 folds for each of 27 candidates, totalling 81 fits\n",
      "[CV] k1=20, k2=20, u1=20 .............................................\n"
     ]
    },
    {
     "name": "stderr",
     "output_type": "stream",
     "text": [
      "[Parallel(n_jobs=1)]: Using backend SequentialBackend with 1 concurrent workers.\n"
     ]
    },
    {
     "name": "stdout",
     "output_type": "stream",
     "text": [
      "[CV] ................. k1=20, k2=20, u1=20, score=0.922, total=   9.6s\n",
      "[CV] k1=20, k2=20, u1=20 .............................................\n"
     ]
    },
    {
     "name": "stderr",
     "output_type": "stream",
     "text": [
      "[Parallel(n_jobs=1)]: Done   1 out of   1 | elapsed:    9.6s remaining:    0.0s\n"
     ]
    },
    {
     "name": "stdout",
     "output_type": "stream",
     "text": [
      "[CV] ................. k1=20, k2=20, u1=20, score=0.880, total=   8.0s\n",
      "[CV] k1=20, k2=20, u1=20 .............................................\n"
     ]
    },
    {
     "name": "stderr",
     "output_type": "stream",
     "text": [
      "[Parallel(n_jobs=1)]: Done   2 out of   2 | elapsed:   17.5s remaining:    0.0s\n"
     ]
    },
    {
     "name": "stdout",
     "output_type": "stream",
     "text": [
      "[CV] ................. k1=20, k2=20, u1=20, score=0.896, total=   8.1s\n",
      "[CV] k1=20, k2=20, u1=30 .............................................\n"
     ]
    },
    {
     "name": "stderr",
     "output_type": "stream",
     "text": [
      "[Parallel(n_jobs=1)]: Done   3 out of   3 | elapsed:   25.6s remaining:    0.0s\n"
     ]
    },
    {
     "name": "stdout",
     "output_type": "stream",
     "text": [
      "[CV] ................. k1=20, k2=20, u1=30, score=0.910, total=   8.2s\n",
      "[CV] k1=20, k2=20, u1=30 .............................................\n"
     ]
    },
    {
     "name": "stderr",
     "output_type": "stream",
     "text": [
      "[Parallel(n_jobs=1)]: Done   4 out of   4 | elapsed:   33.8s remaining:    0.0s\n"
     ]
    },
    {
     "name": "stdout",
     "output_type": "stream",
     "text": [
      "[CV] ................. k1=20, k2=20, u1=30, score=0.839, total=   8.0s\n",
      "[CV] k1=20, k2=20, u1=30 .............................................\n"
     ]
    },
    {
     "name": "stderr",
     "output_type": "stream",
     "text": [
      "[Parallel(n_jobs=1)]: Done   5 out of   5 | elapsed:   41.8s remaining:    0.0s\n"
     ]
    },
    {
     "name": "stdout",
     "output_type": "stream",
     "text": [
      "[CV] ................. k1=20, k2=20, u1=30, score=0.891, total=   8.3s\n",
      "[CV] k1=20, k2=20, u1=40 .............................................\n"
     ]
    },
    {
     "name": "stderr",
     "output_type": "stream",
     "text": [
      "[Parallel(n_jobs=1)]: Done   6 out of   6 | elapsed:   50.1s remaining:    0.0s\n"
     ]
    },
    {
     "name": "stdout",
     "output_type": "stream",
     "text": [
      "[CV] ................. k1=20, k2=20, u1=40, score=0.915, total=   8.3s\n",
      "[CV] k1=20, k2=20, u1=40 .............................................\n"
     ]
    },
    {
     "name": "stderr",
     "output_type": "stream",
     "text": [
      "[Parallel(n_jobs=1)]: Done   7 out of   7 | elapsed:   58.5s remaining:    0.0s\n"
     ]
    },
    {
     "name": "stdout",
     "output_type": "stream",
     "text": [
      "[CV] ................. k1=20, k2=20, u1=40, score=0.845, total=   8.1s\n",
      "[CV] k1=20, k2=20, u1=40 .............................................\n"
     ]
    },
    {
     "name": "stderr",
     "output_type": "stream",
     "text": [
      "[Parallel(n_jobs=1)]: Done   8 out of   8 | elapsed:  1.1min remaining:    0.0s\n"
     ]
    },
    {
     "name": "stdout",
     "output_type": "stream",
     "text": [
      "[CV] ................. k1=20, k2=20, u1=40, score=0.897, total=   8.5s\n",
      "[CV] k1=20, k2=30, u1=20 .............................................\n"
     ]
    },
    {
     "name": "stderr",
     "output_type": "stream",
     "text": [
      "[Parallel(n_jobs=1)]: Done   9 out of   9 | elapsed:  1.3min remaining:    0.0s\n"
     ]
    },
    {
     "name": "stdout",
     "output_type": "stream",
     "text": [
      "[CV] ................. k1=20, k2=30, u1=20, score=0.869, total=   8.9s\n",
      "[CV] k1=20, k2=30, u1=20 .............................................\n",
      "[CV] ................. k1=20, k2=30, u1=20, score=0.886, total=   8.3s\n",
      "[CV] k1=20, k2=30, u1=20 .............................................\n",
      "[CV] ................. k1=20, k2=30, u1=20, score=0.886, total=   8.3s\n",
      "[CV] k1=20, k2=30, u1=30 .............................................\n",
      "[CV] ................. k1=20, k2=30, u1=30, score=0.891, total=   8.1s\n",
      "[CV] k1=20, k2=30, u1=30 .............................................\n",
      "[CV] ................. k1=20, k2=30, u1=30, score=0.810, total=   8.5s\n",
      "[CV] k1=20, k2=30, u1=30 .............................................\n",
      "[CV] ................. k1=20, k2=30, u1=30, score=0.877, total=   8.0s\n",
      "[CV] k1=20, k2=30, u1=40 .............................................\n",
      "[CV] ................. k1=20, k2=30, u1=40, score=0.881, total=   8.2s\n",
      "[CV] k1=20, k2=30, u1=40 .............................................\n",
      "[CV] ................. k1=20, k2=30, u1=40, score=0.824, total=   8.1s\n",
      "[CV] k1=20, k2=30, u1=40 .............................................\n",
      "[CV] ................. k1=20, k2=30, u1=40, score=0.883, total=   8.0s\n",
      "[CV] k1=20, k2=40, u1=20 .............................................\n",
      "[CV] ................. k1=20, k2=40, u1=20, score=0.897, total=   8.8s\n",
      "[CV] k1=20, k2=40, u1=20 .............................................\n",
      "[CV] ................. k1=20, k2=40, u1=20, score=0.857, total=   8.5s\n",
      "[CV] k1=20, k2=40, u1=20 .............................................\n",
      "[CV] ................. k1=20, k2=40, u1=20, score=0.881, total=   8.9s\n",
      "[CV] k1=20, k2=40, u1=30 .............................................\n",
      "[CV] ................. k1=20, k2=40, u1=30, score=0.891, total=   8.7s\n",
      "[CV] k1=20, k2=40, u1=30 .............................................\n",
      "[CV] ................. k1=20, k2=40, u1=30, score=0.828, total=   8.1s\n",
      "[CV] k1=20, k2=40, u1=30 .............................................\n",
      "[CV] ................. k1=20, k2=40, u1=30, score=0.858, total=   8.4s\n",
      "[CV] k1=20, k2=40, u1=40 .............................................\n",
      "[CV] ................. k1=20, k2=40, u1=40, score=0.914, total=   8.6s\n",
      "[CV] k1=20, k2=40, u1=40 .............................................\n",
      "[CV] ................. k1=20, k2=40, u1=40, score=0.879, total=   7.9s\n",
      "[CV] k1=20, k2=40, u1=40 .............................................\n",
      "[CV] ................. k1=20, k2=40, u1=40, score=0.883, total=   8.4s\n",
      "[CV] k1=30, k2=20, u1=20 .............................................\n",
      "[CV] ................. k1=30, k2=20, u1=20, score=0.915, total=   8.8s\n",
      "[CV] k1=30, k2=20, u1=20 .............................................\n",
      "[CV] ................. k1=30, k2=20, u1=20, score=0.870, total=   8.3s\n",
      "[CV] k1=30, k2=20, u1=20 .............................................\n",
      "[CV] ................. k1=30, k2=20, u1=20, score=0.886, total=   8.3s\n",
      "[CV] k1=30, k2=20, u1=30 .............................................\n",
      "[CV] ................. k1=30, k2=20, u1=30, score=0.895, total=   8.0s\n",
      "[CV] k1=30, k2=20, u1=30 .............................................\n",
      "[CV] ................. k1=30, k2=20, u1=30, score=0.887, total=   8.4s\n",
      "[CV] k1=30, k2=20, u1=30 .............................................\n",
      "[CV] ................. k1=30, k2=20, u1=30, score=0.894, total=   8.2s\n",
      "[CV] k1=30, k2=20, u1=40 .............................................\n",
      "[CV] ................. k1=30, k2=20, u1=40, score=0.897, total=   7.9s\n",
      "[CV] k1=30, k2=20, u1=40 .............................................\n",
      "[CV] ................. k1=30, k2=20, u1=40, score=0.835, total=   8.0s\n",
      "[CV] k1=30, k2=20, u1=40 .............................................\n",
      "[CV] ................. k1=30, k2=20, u1=40, score=0.908, total=   8.1s\n",
      "[CV] k1=30, k2=30, u1=20 .............................................\n",
      "[CV] ................. k1=30, k2=30, u1=20, score=0.908, total=   8.2s\n",
      "[CV] k1=30, k2=30, u1=20 .............................................\n",
      "[CV] ................. k1=30, k2=30, u1=20, score=0.889, total=   8.3s\n",
      "[CV] k1=30, k2=30, u1=20 .............................................\n",
      "[CV] ................. k1=30, k2=30, u1=20, score=0.889, total=   8.7s\n",
      "[CV] k1=30, k2=30, u1=30 .............................................\n",
      "[CV] ................. k1=30, k2=30, u1=30, score=0.909, total=   8.1s\n",
      "[CV] k1=30, k2=30, u1=30 .............................................\n",
      "[CV] ................. k1=30, k2=30, u1=30, score=0.830, total=   8.1s\n",
      "[CV] k1=30, k2=30, u1=30 .............................................\n",
      "[CV] ................. k1=30, k2=30, u1=30, score=0.879, total=   8.5s\n",
      "[CV] k1=30, k2=30, u1=40 .............................................\n",
      "[CV] ................. k1=30, k2=30, u1=40, score=0.920, total=   7.9s\n",
      "[CV] k1=30, k2=30, u1=40 .............................................\n",
      "[CV] ................. k1=30, k2=30, u1=40, score=0.883, total=   8.6s\n",
      "[CV] k1=30, k2=30, u1=40 .............................................\n",
      "[CV] ................. k1=30, k2=30, u1=40, score=0.899, total=   8.1s\n",
      "[CV] k1=30, k2=40, u1=20 .............................................\n",
      "[CV] ................. k1=30, k2=40, u1=20, score=0.912, total=   8.7s\n",
      "[CV] k1=30, k2=40, u1=20 .............................................\n",
      "[CV] ................. k1=30, k2=40, u1=20, score=0.909, total=   8.1s\n",
      "[CV] k1=30, k2=40, u1=20 .............................................\n",
      "[CV] ................. k1=30, k2=40, u1=20, score=0.906, total=   8.6s\n",
      "[CV] k1=30, k2=40, u1=30 .............................................\n",
      "[CV] ................. k1=30, k2=40, u1=30, score=0.887, total=   8.6s\n",
      "[CV] k1=30, k2=40, u1=30 .............................................\n",
      "[CV] ................. k1=30, k2=40, u1=30, score=0.847, total=   8.6s\n",
      "[CV] k1=30, k2=40, u1=30 .............................................\n",
      "[CV] ................. k1=30, k2=40, u1=30, score=0.886, total=   8.7s\n",
      "[CV] k1=30, k2=40, u1=40 .............................................\n",
      "[CV] ................. k1=30, k2=40, u1=40, score=0.901, total=   8.2s\n",
      "[CV] k1=30, k2=40, u1=40 .............................................\n",
      "[CV] ................. k1=30, k2=40, u1=40, score=0.869, total=   8.6s\n",
      "[CV] k1=30, k2=40, u1=40 .............................................\n",
      "[CV] ................. k1=30, k2=40, u1=40, score=0.887, total=   8.7s\n",
      "[CV] k1=40, k2=20, u1=20 .............................................\n",
      "[CV] ................. k1=40, k2=20, u1=20, score=0.898, total=   8.6s\n",
      "[CV] k1=40, k2=20, u1=20 .............................................\n",
      "[CV] ................. k1=40, k2=20, u1=20, score=0.888, total=   8.1s\n",
      "[CV] k1=40, k2=20, u1=20 .............................................\n",
      "[CV] ................. k1=40, k2=20, u1=20, score=0.885, total=   9.1s\n",
      "[CV] k1=40, k2=20, u1=30 .............................................\n",
      "[CV] ................. k1=40, k2=20, u1=30, score=0.908, total=   8.5s\n",
      "[CV] k1=40, k2=20, u1=30 .............................................\n",
      "[CV] ................. k1=40, k2=20, u1=30, score=0.901, total=   8.5s\n",
      "[CV] k1=40, k2=20, u1=30 .............................................\n",
      "[CV] ................. k1=40, k2=20, u1=30, score=0.892, total=   8.4s\n",
      "[CV] k1=40, k2=20, u1=40 .............................................\n",
      "[CV] ................. k1=40, k2=20, u1=40, score=0.902, total=   8.3s\n",
      "[CV] k1=40, k2=20, u1=40 .............................................\n",
      "[CV] ................. k1=40, k2=20, u1=40, score=0.826, total=   8.4s\n",
      "[CV] k1=40, k2=20, u1=40 .............................................\n",
      "[CV] ................. k1=40, k2=20, u1=40, score=0.894, total=   8.3s\n",
      "[CV] k1=40, k2=30, u1=20 .............................................\n",
      "[CV] ................. k1=40, k2=30, u1=20, score=0.906, total=   9.1s\n",
      "[CV] k1=40, k2=30, u1=20 .............................................\n",
      "[CV] ................. k1=40, k2=30, u1=20, score=0.892, total=   8.3s\n",
      "[CV] k1=40, k2=30, u1=20 .............................................\n",
      "[CV] ................. k1=40, k2=30, u1=20, score=0.886, total=   8.8s\n",
      "[CV] k1=40, k2=30, u1=30 .............................................\n",
      "[CV] ................. k1=40, k2=30, u1=30, score=0.917, total=   8.3s\n",
      "[CV] k1=40, k2=30, u1=30 .............................................\n"
     ]
    },
    {
     "name": "stdout",
     "output_type": "stream",
     "text": [
      "[CV] ................. k1=40, k2=30, u1=30, score=0.896, total=   8.6s\n",
      "[CV] k1=40, k2=30, u1=30 .............................................\n",
      "[CV] ................. k1=40, k2=30, u1=30, score=0.890, total=   8.6s\n",
      "[CV] k1=40, k2=30, u1=40 .............................................\n",
      "[CV] ................. k1=40, k2=30, u1=40, score=0.893, total=   8.2s\n",
      "[CV] k1=40, k2=30, u1=40 .............................................\n",
      "[CV] ................. k1=40, k2=30, u1=40, score=0.875, total=   8.0s\n",
      "[CV] k1=40, k2=30, u1=40 .............................................\n",
      "[CV] ................. k1=40, k2=30, u1=40, score=0.885, total=   8.3s\n",
      "[CV] k1=40, k2=40, u1=20 .............................................\n",
      "[CV] ................. k1=40, k2=40, u1=20, score=0.899, total=   8.7s\n",
      "[CV] k1=40, k2=40, u1=20 .............................................\n",
      "[CV] ................. k1=40, k2=40, u1=20, score=0.912, total=   8.5s\n",
      "[CV] k1=40, k2=40, u1=20 .............................................\n",
      "[CV] ................. k1=40, k2=40, u1=20, score=0.883, total=   8.2s\n",
      "[CV] k1=40, k2=40, u1=30 .............................................\n",
      "[CV] ................. k1=40, k2=40, u1=30, score=0.903, total=   8.1s\n",
      "[CV] k1=40, k2=40, u1=30 .............................................\n",
      "[CV] ................. k1=40, k2=40, u1=30, score=0.868, total=   8.1s\n",
      "[CV] k1=40, k2=40, u1=30 .............................................\n",
      "[CV] ................. k1=40, k2=40, u1=30, score=0.906, total=   8.4s\n",
      "[CV] k1=40, k2=40, u1=40 .............................................\n",
      "[CV] ................. k1=40, k2=40, u1=40, score=0.931, total=   8.4s\n",
      "[CV] k1=40, k2=40, u1=40 .............................................\n",
      "[CV] ................. k1=40, k2=40, u1=40, score=0.895, total=   8.2s\n",
      "[CV] k1=40, k2=40, u1=40 .............................................\n",
      "[CV] ................. k1=40, k2=40, u1=40, score=0.890, total=   8.6s\n"
     ]
    },
    {
     "name": "stderr",
     "output_type": "stream",
     "text": [
      "[Parallel(n_jobs=1)]: Done  81 out of  81 | elapsed: 11.3min finished\n"
     ]
    }
   ],
   "source": [
    "# create model\n",
    "model = KerasClassifier(build_fn=create_model_stage_2, epochs=epochs, batch_size=batch_size, verbose=0)\n",
    "k1 = [20,30,40]\n",
    "k2 = [20,30,40]\n",
    "u1 = [20,30,40]\n",
    "\n",
    "param_grid = dict(k1=k1,k2=k2,u1=u1)\n",
    "grid = GridSearchCV(estimator=model, param_grid=param_grid, cv=3, verbose=10)\n",
    "grid_result = grid.fit(df_X_tr, df_y_tr)"
   ]
  },
  {
   "cell_type": "code",
   "execution_count": 0,
   "metadata": {
    "colab": {},
    "colab_type": "code",
    "id": "sj6SsQMJ7S8L",
    "outputId": "6d70beb4-e4f8-4b32-b496-445f8a38849c",
    "scrolled": true
   },
   "outputs": [
    {
     "name": "stdout",
     "output_type": "stream",
     "text": [
      "Best: 0.909023 using {'k1': 30, 'k2': 40, 'u1': 20}\n",
      "0.899188 (0.017314) with: {'k1': 20, 'k2': 20, 'u1': 20}\n",
      "0.880012 (0.029888) with: {'k1': 20, 'k2': 20, 'u1': 30}\n",
      "0.885668 (0.029642) with: {'k1': 20, 'k2': 20, 'u1': 40}\n",
      "0.880257 (0.008154) with: {'k1': 20, 'k2': 30, 'u1': 20}\n",
      "0.859360 (0.035512) with: {'k1': 20, 'k2': 30, 'u1': 30}\n",
      "0.862557 (0.027449) with: {'k1': 20, 'k2': 30, 'u1': 40}\n",
      "0.878289 (0.016386) with: {'k1': 20, 'k2': 40, 'u1': 20}\n",
      "0.858864 (0.025607) with: {'k1': 20, 'k2': 40, 'u1': 30}\n",
      "0.892056 (0.015906) with: {'k1': 20, 'k2': 40, 'u1': 40}\n",
      "0.890582 (0.018608) with: {'k1': 30, 'k2': 20, 'u1': 20}\n",
      "0.891813 (0.003301) with: {'k1': 30, 'k2': 20, 'u1': 30}\n",
      "0.880017 (0.032240) with: {'k1': 30, 'k2': 20, 'u1': 40}\n",
      "0.895499 (0.008710) with: {'k1': 30, 'k2': 30, 'u1': 20}\n",
      "0.872389 (0.032548) with: {'k1': 30, 'k2': 30, 'u1': 30}\n",
      "0.900663 (0.014805) with: {'k1': 30, 'k2': 30, 'u1': 40}\n",
      "0.909023 (0.002144) with: {'k1': 30, 'k2': 40, 'u1': 20}\n",
      "0.873374 (0.018416) with: {'k1': 30, 'k2': 40, 'u1': 30}\n",
      "0.885665 (0.013285) with: {'k1': 30, 'k2': 40, 'u1': 40}\n",
      "0.890336 (0.005718) with: {'k1': 40, 'k2': 20, 'u1': 20}\n",
      "0.900416 (0.006378) with: {'k1': 40, 'k2': 20, 'u1': 30}\n",
      "0.873868 (0.034041) with: {'k1': 40, 'k2': 20, 'u1': 40}\n",
      "0.894515 (0.008129) with: {'k1': 40, 'k2': 30, 'u1': 20}\n",
      "0.901153 (0.011748) with: {'k1': 40, 'k2': 30, 'u1': 30}\n",
      "0.884436 (0.007232) with: {'k1': 40, 'k2': 30, 'u1': 40}\n",
      "0.898201 (0.011789) with: {'k1': 40, 'k2': 40, 'u1': 20}\n",
      "0.892307 (0.017255) with: {'k1': 40, 'k2': 40, 'u1': 30}\n",
      "0.905332 (0.018536) with: {'k1': 40, 'k2': 40, 'u1': 40}\n"
     ]
    }
   ],
   "source": [
    "# summarize results\n",
    "print(\"Best: %f using %s\" % (grid_result.best_score_, grid_result.best_params_))\n",
    "means = grid_result.cv_results_['mean_test_score']\n",
    "stds = grid_result.cv_results_['std_test_score']\n",
    "params = grid_result.cv_results_['params']\n",
    "for mean, stdev, param in zip(means, stds, params):\n",
    "    print(\"%f (%f) with: %r\" % (mean, stdev, param))"
   ]
  },
  {
   "cell_type": "code",
   "execution_count": 0,
   "metadata": {
    "colab": {},
    "colab_type": "code",
    "id": "3yDBZ1p97S8N"
   },
   "outputs": [],
   "source": [
    "logdir = log_dir=\"logs\\\\stage_2\\\\\" + datetime.now().strftime(\"%Y%m%d-%H%M%S\")\n",
    "tensorboard_callback = tf.keras.callbacks.TensorBoard(log_dir=logdir)"
   ]
  },
  {
   "cell_type": "code",
   "execution_count": 0,
   "metadata": {
    "colab": {},
    "colab_type": "code",
    "id": "cHjs_ZPg7S8P",
    "outputId": "6d56c9e5-02ab-44c9-f32a-3d259388ee76"
   },
   "outputs": [
    {
     "name": "stdout",
     "output_type": "stream",
     "text": [
      "Train on 4067 samples, validate on 1552 samples\n"
     ]
    },
    {
     "name": "stderr",
     "output_type": "stream",
     "text": [
      "W0321 02:49:10.813445 17388 summary_ops_v2.py:1132] Model failed to serialize as JSON. Ignoring... get_config() missing 1 required positional argument: 'self'\n"
     ]
    },
    {
     "name": "stdout",
     "output_type": "stream",
     "text": [
      "Epoch 1/30\n",
      "  16/4067 [..............................] - ETA: 1:51 - loss: 2.3671 - accuracy: 0.1250"
     ]
    },
    {
     "name": "stderr",
     "output_type": "stream",
     "text": [
      "W0321 02:49:12.042653 17388 callbacks.py:248] Method (on_train_batch_end) is slow compared to the batch update (0.225256). Check your callbacks.\n"
     ]
    },
    {
     "name": "stdout",
     "output_type": "stream",
     "text": [
      "4067/4067 [==============================] - 3s 615us/sample - loss: 0.4123 - accuracy: 0.8655 - val_loss: 0.3505 - val_accuracy: 0.8872\n",
      "Epoch 2/30\n",
      "4067/4067 [==============================] - 1s 352us/sample - loss: 0.2832 - accuracy: 0.8903 - val_loss: 0.4066 - val_accuracy: 0.8653\n",
      "Epoch 3/30\n",
      "4067/4067 [==============================] - 1s 357us/sample - loss: 0.2471 - accuracy: 0.8989 - val_loss: 0.3225 - val_accuracy: 0.8782\n",
      "Epoch 4/30\n",
      "4067/4067 [==============================] - 2s 369us/sample - loss: 0.2277 - accuracy: 0.9071 - val_loss: 0.2901 - val_accuracy: 0.8763\n",
      "Epoch 5/30\n",
      "4067/4067 [==============================] - 2s 371us/sample - loss: 0.2377 - accuracy: 0.9061 - val_loss: 0.3005 - val_accuracy: 0.8872\n",
      "Epoch 6/30\n",
      "4067/4067 [==============================] - 1s 346us/sample - loss: 0.2205 - accuracy: 0.9125 - val_loss: 0.4315 - val_accuracy: 0.8305\n",
      "Epoch 7/30\n",
      "4067/4067 [==============================] - 2s 372us/sample - loss: 0.2092 - accuracy: 0.9157 - val_loss: 0.3105 - val_accuracy: 0.8943\n",
      "Epoch 8/30\n",
      "4067/4067 [==============================] - 2s 370us/sample - loss: 0.2014 - accuracy: 0.9243 - val_loss: 0.2755 - val_accuracy: 0.8834\n",
      "Epoch 9/30\n",
      "4067/4067 [==============================] - 2s 370us/sample - loss: 0.2102 - accuracy: 0.9176 - val_loss: 0.2740 - val_accuracy: 0.8808\n",
      "Epoch 10/30\n",
      "4067/4067 [==============================] - 2s 375us/sample - loss: 0.1923 - accuracy: 0.9174 - val_loss: 0.3151 - val_accuracy: 0.8789\n",
      "Epoch 11/30\n",
      "4067/4067 [==============================] - 2s 373us/sample - loss: 0.2058 - accuracy: 0.9211 - val_loss: 0.2584 - val_accuracy: 0.8963\n",
      "Epoch 12/30\n",
      "4067/4067 [==============================] - 2s 372us/sample - loss: 0.1854 - accuracy: 0.9307 - val_loss: 0.2863 - val_accuracy: 0.8860\n",
      "Epoch 13/30\n",
      "4067/4067 [==============================] - 1s 362us/sample - loss: 0.1736 - accuracy: 0.9289 - val_loss: 0.2604 - val_accuracy: 0.8969\n",
      "Epoch 14/30\n",
      "4067/4067 [==============================] - 2s 400us/sample - loss: 0.1663 - accuracy: 0.9324 - val_loss: 0.2671 - val_accuracy: 0.9053\n",
      "Epoch 15/30\n",
      "4067/4067 [==============================] - 2s 408us/sample - loss: 0.1658 - accuracy: 0.9331 - val_loss: 0.2826 - val_accuracy: 0.8898\n",
      "Epoch 16/30\n",
      "4067/4067 [==============================] - 2s 411us/sample - loss: 0.1523 - accuracy: 0.9363 - val_loss: 0.2535 - val_accuracy: 0.9137\n",
      "Epoch 17/30\n",
      "4067/4067 [==============================] - 2s 403us/sample - loss: 0.1447 - accuracy: 0.9398 - val_loss: 0.2237 - val_accuracy: 0.9117\n",
      "Epoch 18/30\n",
      "4067/4067 [==============================] - 2s 408us/sample - loss: 0.1491 - accuracy: 0.9373 - val_loss: 0.2309 - val_accuracy: 0.9034\n",
      "Epoch 19/30\n",
      "4067/4067 [==============================] - 2s 397us/sample - loss: 0.1418 - accuracy: 0.9444 - val_loss: 0.2609 - val_accuracy: 0.9085\n",
      "Epoch 20/30\n",
      "4067/4067 [==============================] - 2s 405us/sample - loss: 0.1445 - accuracy: 0.9427 - val_loss: 0.2577 - val_accuracy: 0.9104\n",
      "Epoch 21/30\n",
      "4067/4067 [==============================] - 2s 397us/sample - loss: 0.1384 - accuracy: 0.9454 - val_loss: 0.2336 - val_accuracy: 0.9182\n",
      "Epoch 22/30\n",
      "4067/4067 [==============================] - 2s 403us/sample - loss: 0.1350 - accuracy: 0.9479 - val_loss: 0.3144 - val_accuracy: 0.8776\n",
      "Epoch 23/30\n",
      "4067/4067 [==============================] - 2s 405us/sample - loss: 0.1355 - accuracy: 0.9464 - val_loss: 0.2444 - val_accuracy: 0.9188\n",
      "Epoch 24/30\n",
      "4067/4067 [==============================] - 1s 353us/sample - loss: 0.1456 - accuracy: 0.9437 - val_loss: 0.2412 - val_accuracy: 0.9117\n",
      "Epoch 25/30\n",
      "4067/4067 [==============================] - 2s 389us/sample - loss: 0.1312 - accuracy: 0.9511 - val_loss: 0.2445 - val_accuracy: 0.9214\n",
      "Epoch 26/30\n",
      "4067/4067 [==============================] - 2s 386us/sample - loss: 0.1359 - accuracy: 0.9481 - val_loss: 0.2896 - val_accuracy: 0.8814\n",
      "Epoch 27/30\n",
      "4067/4067 [==============================] - 1s 362us/sample - loss: 0.1240 - accuracy: 0.9489 - val_loss: 0.2210 - val_accuracy: 0.9091\n",
      "Epoch 28/30\n",
      "4067/4067 [==============================] - 2s 373us/sample - loss: 0.1190 - accuracy: 0.9503 - val_loss: 0.2491 - val_accuracy: 0.9233\n",
      "Epoch 29/30\n",
      "4067/4067 [==============================] - 2s 389us/sample - loss: 0.1265 - accuracy: 0.9506 - val_loss: 0.2293 - val_accuracy: 0.8930\n",
      "Epoch 30/30\n",
      "4067/4067 [==============================] - 2s 393us/sample - loss: 0.1225 - accuracy: 0.9518 - val_loss: 0.2273 - val_accuracy: 0.9175\n"
     ]
    }
   ],
   "source": [
    "model_2 = create_model_stage_2(30,30,40)\n",
    "history = model_2.fit(df_X_tr, df_y_tr, epochs=epochs, batch_size=16, validation_data=(df_X_ts,df_y_ts), verbose=1, callbacks=[tensorboard_callback])"
   ]
  },
  {
   "cell_type": "code",
   "execution_count": 0,
   "metadata": {
    "colab": {},
    "colab_type": "code",
    "id": "qlDPfPwK7S8R",
    "outputId": "280d0c89-beb0-40e0-e13a-4a4a1bad143f"
   },
   "outputs": [
    {
     "name": "stdout",
     "output_type": "stream",
     "text": [
      "1552/1552 [==============================] - 0s 124us/sample - loss: 0.2388 - accuracy: 0.9265\n"
     ]
    },
    {
     "data": {
      "text/plain": [
       "[0.23882018205572939, 0.9265464]"
      ]
     },
     "execution_count": 42,
     "metadata": {
      "tags": []
     },
     "output_type": "execute_result"
    }
   ],
   "source": [
    "model_2.evaluate(df_X_ts,df_y_ts)"
   ]
  },
  {
   "cell_type": "code",
   "execution_count": 0,
   "metadata": {
    "colab": {},
    "colab_type": "code",
    "id": "x1o4Ts7Y7S8T"
   },
   "outputs": [],
   "source": [
    "model_2.save_weights('model_stage_2.h5')"
   ]
  },
  {
   "cell_type": "markdown",
   "metadata": {
    "colab_type": "text",
    "id": "yyKvwsM07S8U"
   },
   "source": [
    "<img src='stage_2.PNG' />"
   ]
  },
  {
   "cell_type": "markdown",
   "metadata": {
    "colab_type": "text",
    "id": "lD8WOUZs7S8V"
   },
   "source": [
    "**Dynamic**"
   ]
  },
  {
   "cell_type": "code",
   "execution_count": 0,
   "metadata": {
    "colab": {},
    "colab_type": "code",
    "id": "psMnA2Qp7S8V",
    "outputId": "55d62c9c-06ff-4050-dc35-ac0d548389d8"
   },
   "outputs": [
    {
     "data": {
      "text/plain": [
       "((3285, 128, 9), (1395, 128, 9), (3285, 6), (1395, 6))"
      ]
     },
     "execution_count": 20,
     "metadata": {
      "tags": []
     },
     "output_type": "execute_result"
    }
   ],
   "source": [
    "df_X_tr = np.load('dy_X_tr.npy')\n",
    "df_X_ts = np.load('dy_X_ts.npy')\n",
    "df_y_tr = np.load('dy_y_tr.npy')\n",
    "df_y_ts = np.load('dy_y_ts.npy')\n",
    "df_X_tr.shape, df_X_ts.shape, df_y_tr.shape,df_y_ts.shape"
   ]
  },
  {
   "cell_type": "code",
   "execution_count": 0,
   "metadata": {
    "colab": {},
    "colab_type": "code",
    "id": "9El9boM97S8X"
   },
   "outputs": [],
   "source": [
    "logdir = log_dir=\"logs\\\\stage_2_dy\\\\\" + datetime.now().strftime(\"%Y%m%d-%H%M%S\")\n",
    "tensorboard_callback = tf.keras.callbacks.TensorBoard(log_dir=logdir)"
   ]
  },
  {
   "cell_type": "code",
   "execution_count": 0,
   "metadata": {
    "colab": {},
    "colab_type": "code",
    "id": "3EEZlsFl7S8Z",
    "outputId": "0d5df16d-68fc-476a-a5b3-169b16727f69"
   },
   "outputs": [
    {
     "name": "stdout",
     "output_type": "stream",
     "text": [
      "Fitting 3 folds for each of 27 candidates, totalling 81 fits\n",
      "[CV] k1=20, k2=20, u1=20 .............................................\n"
     ]
    },
    {
     "name": "stderr",
     "output_type": "stream",
     "text": [
      "[Parallel(n_jobs=1)]: Using backend SequentialBackend with 1 concurrent workers.\n"
     ]
    },
    {
     "name": "stdout",
     "output_type": "stream",
     "text": [
      "[CV] ................. k1=20, k2=20, u1=20, score=0.924, total=  10.3s\n",
      "[CV] k1=20, k2=20, u1=20 .............................................\n"
     ]
    },
    {
     "name": "stderr",
     "output_type": "stream",
     "text": [
      "[Parallel(n_jobs=1)]: Done   1 out of   1 | elapsed:   10.2s remaining:    0.0s\n"
     ]
    },
    {
     "name": "stdout",
     "output_type": "stream",
     "text": [
      "[CV] ................. k1=20, k2=20, u1=20, score=0.911, total=   6.4s\n",
      "[CV] k1=20, k2=20, u1=20 .............................................\n"
     ]
    },
    {
     "name": "stderr",
     "output_type": "stream",
     "text": [
      "[Parallel(n_jobs=1)]: Done   2 out of   2 | elapsed:   16.6s remaining:    0.0s\n"
     ]
    },
    {
     "name": "stdout",
     "output_type": "stream",
     "text": [
      "[CV] ................. k1=20, k2=20, u1=20, score=0.921, total=   6.5s\n",
      "[CV] k1=20, k2=20, u1=30 .............................................\n"
     ]
    },
    {
     "name": "stderr",
     "output_type": "stream",
     "text": [
      "[Parallel(n_jobs=1)]: Done   3 out of   3 | elapsed:   23.1s remaining:    0.0s\n"
     ]
    },
    {
     "name": "stdout",
     "output_type": "stream",
     "text": [
      "[CV] ................. k1=20, k2=20, u1=30, score=0.924, total=   6.8s\n",
      "[CV] k1=20, k2=20, u1=30 .............................................\n"
     ]
    },
    {
     "name": "stderr",
     "output_type": "stream",
     "text": [
      "[Parallel(n_jobs=1)]: Done   4 out of   4 | elapsed:   30.0s remaining:    0.0s\n"
     ]
    },
    {
     "name": "stdout",
     "output_type": "stream",
     "text": [
      "[CV] ................. k1=20, k2=20, u1=30, score=0.953, total=   7.6s\n",
      "[CV] k1=20, k2=20, u1=30 .............................................\n"
     ]
    },
    {
     "name": "stderr",
     "output_type": "stream",
     "text": [
      "[Parallel(n_jobs=1)]: Done   5 out of   5 | elapsed:   37.5s remaining:    0.0s\n"
     ]
    },
    {
     "name": "stdout",
     "output_type": "stream",
     "text": [
      "[CV] ................. k1=20, k2=20, u1=30, score=0.886, total=   7.4s\n",
      "[CV] k1=20, k2=20, u1=40 .............................................\n"
     ]
    },
    {
     "name": "stderr",
     "output_type": "stream",
     "text": [
      "[Parallel(n_jobs=1)]: Done   6 out of   6 | elapsed:   44.9s remaining:    0.0s\n"
     ]
    },
    {
     "name": "stdout",
     "output_type": "stream",
     "text": [
      "[CV] ................. k1=20, k2=20, u1=40, score=0.986, total=   8.6s\n",
      "[CV] k1=20, k2=20, u1=40 .............................................\n"
     ]
    },
    {
     "name": "stderr",
     "output_type": "stream",
     "text": [
      "[Parallel(n_jobs=1)]: Done   7 out of   7 | elapsed:   53.5s remaining:    0.0s\n"
     ]
    },
    {
     "name": "stdout",
     "output_type": "stream",
     "text": [
      "[CV] ................. k1=20, k2=20, u1=40, score=0.894, total=   7.1s\n",
      "[CV] k1=20, k2=20, u1=40 .............................................\n"
     ]
    },
    {
     "name": "stderr",
     "output_type": "stream",
     "text": [
      "[Parallel(n_jobs=1)]: Done   8 out of   8 | elapsed:  1.0min remaining:    0.0s\n"
     ]
    },
    {
     "name": "stdout",
     "output_type": "stream",
     "text": [
      "[CV] ................. k1=20, k2=20, u1=40, score=0.929, total=   7.0s\n",
      "[CV] k1=20, k2=30, u1=20 .............................................\n"
     ]
    },
    {
     "name": "stderr",
     "output_type": "stream",
     "text": [
      "[Parallel(n_jobs=1)]: Done   9 out of   9 | elapsed:  1.1min remaining:    0.0s\n"
     ]
    },
    {
     "name": "stdout",
     "output_type": "stream",
     "text": [
      "[CV] ................. k1=20, k2=30, u1=20, score=0.988, total=   7.0s\n",
      "[CV] k1=20, k2=30, u1=20 .............................................\n",
      "[CV] ................. k1=20, k2=30, u1=20, score=0.913, total=   8.1s\n",
      "[CV] k1=20, k2=30, u1=20 .............................................\n",
      "[CV] ................. k1=20, k2=30, u1=20, score=0.934, total=   9.6s\n",
      "[CV] k1=20, k2=30, u1=30 .............................................\n",
      "[CV] ................. k1=20, k2=30, u1=30, score=0.973, total=   7.9s\n",
      "[CV] k1=20, k2=30, u1=30 .............................................\n",
      "[CV] ................. k1=20, k2=30, u1=30, score=0.915, total=   8.0s\n",
      "[CV] k1=20, k2=30, u1=30 .............................................\n",
      "[CV] ................. k1=20, k2=30, u1=30, score=0.898, total=   7.5s\n",
      "[CV] k1=20, k2=30, u1=40 .............................................\n",
      "[CV] ................. k1=20, k2=30, u1=40, score=0.964, total=   7.5s\n",
      "[CV] k1=20, k2=30, u1=40 .............................................\n",
      "[CV] ................. k1=20, k2=30, u1=40, score=0.910, total=   7.4s\n",
      "[CV] k1=20, k2=30, u1=40 .............................................\n",
      "[CV] ................. k1=20, k2=30, u1=40, score=0.797, total=   6.9s\n",
      "[CV] k1=20, k2=40, u1=20 .............................................\n",
      "[CV] ................. k1=20, k2=40, u1=20, score=0.992, total=   7.1s\n",
      "[CV] k1=20, k2=40, u1=20 .............................................\n",
      "[CV] ................. k1=20, k2=40, u1=20, score=0.869, total=   6.9s\n",
      "[CV] k1=20, k2=40, u1=20 .............................................\n",
      "[CV] ................. k1=20, k2=40, u1=20, score=0.911, total=   6.9s\n",
      "[CV] k1=20, k2=40, u1=30 .............................................\n",
      "[CV] ................. k1=20, k2=40, u1=30, score=0.890, total=   6.9s\n",
      "[CV] k1=20, k2=40, u1=30 .............................................\n",
      "[CV] ................. k1=20, k2=40, u1=30, score=0.903, total=   6.9s\n",
      "[CV] k1=20, k2=40, u1=30 .............................................\n",
      "[CV] ................. k1=20, k2=40, u1=30, score=0.753, total=   6.8s\n",
      "[CV] k1=20, k2=40, u1=40 .............................................\n",
      "[CV] ................. k1=20, k2=40, u1=40, score=0.997, total=   6.7s\n",
      "[CV] k1=20, k2=40, u1=40 .............................................\n",
      "[CV] ................. k1=20, k2=40, u1=40, score=0.903, total=   7.1s\n",
      "[CV] k1=20, k2=40, u1=40 .............................................\n",
      "[CV] ................. k1=20, k2=40, u1=40, score=0.806, total=   6.9s\n",
      "[CV] k1=30, k2=20, u1=20 .............................................\n",
      "[CV] ................. k1=30, k2=20, u1=20, score=0.979, total=   7.2s\n",
      "[CV] k1=30, k2=20, u1=20 .............................................\n",
      "[CV] ................. k1=30, k2=20, u1=20, score=0.925, total=   6.9s\n",
      "[CV] k1=30, k2=20, u1=20 .............................................\n",
      "[CV] ................. k1=30, k2=20, u1=20, score=0.778, total=   6.9s\n",
      "[CV] k1=30, k2=20, u1=30 .............................................\n",
      "[CV] ................. k1=30, k2=20, u1=30, score=0.993, total=   7.1s\n",
      "[CV] k1=30, k2=20, u1=30 .............................................\n",
      "[CV] ................. k1=30, k2=20, u1=30, score=0.875, total=   7.0s\n",
      "[CV] k1=30, k2=20, u1=30 .............................................\n",
      "[CV] ................. k1=30, k2=20, u1=30, score=0.823, total=   6.9s\n",
      "[CV] k1=30, k2=20, u1=40 .............................................\n",
      "[CV] ................. k1=30, k2=20, u1=40, score=0.991, total=   6.8s\n",
      "[CV] k1=30, k2=20, u1=40 .............................................\n",
      "[CV] ................. k1=30, k2=20, u1=40, score=0.920, total=   6.8s\n",
      "[CV] k1=30, k2=20, u1=40 .............................................\n",
      "[CV] ................. k1=30, k2=20, u1=40, score=0.838, total=   6.8s\n",
      "[CV] k1=30, k2=30, u1=20 .............................................\n",
      "[CV] ................. k1=30, k2=30, u1=20, score=0.996, total=   7.1s\n",
      "[CV] k1=30, k2=30, u1=20 .............................................\n",
      "[CV] ................. k1=30, k2=30, u1=20, score=0.926, total=   6.9s\n",
      "[CV] k1=30, k2=30, u1=20 .............................................\n",
      "[CV] ................. k1=30, k2=30, u1=20, score=0.960, total=   7.0s\n",
      "[CV] k1=30, k2=30, u1=30 .............................................\n",
      "[CV] ................. k1=30, k2=30, u1=30, score=0.951, total=   6.8s\n",
      "[CV] k1=30, k2=30, u1=30 .............................................\n",
      "[CV] ................. k1=30, k2=30, u1=30, score=0.912, total=   6.9s\n",
      "[CV] k1=30, k2=30, u1=30 .............................................\n",
      "[CV] ................. k1=30, k2=30, u1=30, score=0.888, total=   7.0s\n",
      "[CV] k1=30, k2=30, u1=40 .............................................\n",
      "[CV] ................. k1=30, k2=30, u1=40, score=0.994, total=   6.9s\n",
      "[CV] k1=30, k2=30, u1=40 .............................................\n",
      "[CV] ................. k1=30, k2=30, u1=40, score=0.920, total=   6.9s\n",
      "[CV] k1=30, k2=30, u1=40 .............................................\n",
      "[CV] ................. k1=30, k2=30, u1=40, score=0.849, total=   6.8s\n",
      "[CV] k1=30, k2=40, u1=20 .............................................\n",
      "[CV] ................. k1=30, k2=40, u1=20, score=0.984, total=   7.0s\n",
      "[CV] k1=30, k2=40, u1=20 .............................................\n",
      "[CV] ................. k1=30, k2=40, u1=20, score=0.894, total=   6.9s\n",
      "[CV] k1=30, k2=40, u1=20 .............................................\n",
      "[CV] ................. k1=30, k2=40, u1=20, score=0.816, total=   7.2s\n",
      "[CV] k1=30, k2=40, u1=30 .............................................\n",
      "[CV] ................. k1=30, k2=40, u1=30, score=0.985, total=   7.5s\n",
      "[CV] k1=30, k2=40, u1=30 .............................................\n",
      "[CV] ................. k1=30, k2=40, u1=30, score=0.905, total=   7.0s\n",
      "[CV] k1=30, k2=40, u1=30 .............................................\n",
      "[CV] ................. k1=30, k2=40, u1=30, score=0.941, total=   6.9s\n",
      "[CV] k1=30, k2=40, u1=40 .............................................\n",
      "[CV] ................. k1=30, k2=40, u1=40, score=0.969, total=   7.2s\n",
      "[CV] k1=30, k2=40, u1=40 .............................................\n",
      "[CV] ................. k1=30, k2=40, u1=40, score=0.900, total=   6.8s\n",
      "[CV] k1=30, k2=40, u1=40 .............................................\n",
      "[CV] ................. k1=30, k2=40, u1=40, score=0.966, total=   7.5s\n",
      "[CV] k1=40, k2=20, u1=20 .............................................\n",
      "[CV] ................. k1=40, k2=20, u1=20, score=0.995, total=   7.6s\n",
      "[CV] k1=40, k2=20, u1=20 .............................................\n",
      "[CV] ................. k1=40, k2=20, u1=20, score=0.941, total=   7.0s\n",
      "[CV] k1=40, k2=20, u1=20 .............................................\n",
      "[CV] ................. k1=40, k2=20, u1=20, score=0.822, total=   7.0s\n",
      "[CV] k1=40, k2=20, u1=30 .............................................\n",
      "[CV] ................. k1=40, k2=20, u1=30, score=0.991, total=   6.9s\n",
      "[CV] k1=40, k2=20, u1=30 .............................................\n",
      "[CV] ................. k1=40, k2=20, u1=30, score=0.898, total=   7.0s\n",
      "[CV] k1=40, k2=20, u1=30 .............................................\n",
      "[CV] ................. k1=40, k2=20, u1=30, score=0.765, total=   6.9s\n",
      "[CV] k1=40, k2=20, u1=40 .............................................\n",
      "[CV] ................. k1=40, k2=20, u1=40, score=0.988, total=   6.9s\n",
      "[CV] k1=40, k2=20, u1=40 .............................................\n",
      "[CV] ................. k1=40, k2=20, u1=40, score=0.902, total=   7.3s\n",
      "[CV] k1=40, k2=20, u1=40 .............................................\n",
      "[CV] ................. k1=40, k2=20, u1=40, score=0.855, total=   7.0s\n",
      "[CV] k1=40, k2=30, u1=20 .............................................\n",
      "[CV] ................. k1=40, k2=30, u1=20, score=0.997, total=   7.1s\n",
      "[CV] k1=40, k2=30, u1=20 .............................................\n",
      "[CV] ................. k1=40, k2=30, u1=20, score=0.904, total=   7.0s\n",
      "[CV] k1=40, k2=30, u1=20 .............................................\n",
      "[CV] ................. k1=40, k2=30, u1=20, score=0.968, total=   7.0s\n",
      "[CV] k1=40, k2=30, u1=30 .............................................\n",
      "[CV] ................. k1=40, k2=30, u1=30, score=0.971, total=   6.9s\n",
      "[CV] k1=40, k2=30, u1=30 .............................................\n"
     ]
    },
    {
     "name": "stdout",
     "output_type": "stream",
     "text": [
      "[CV] ................. k1=40, k2=30, u1=30, score=0.887, total=   6.9s\n",
      "[CV] k1=40, k2=30, u1=30 .............................................\n",
      "[CV] ................. k1=40, k2=30, u1=30, score=0.961, total=   7.3s\n",
      "[CV] k1=40, k2=30, u1=40 .............................................\n",
      "[CV] ................. k1=40, k2=30, u1=40, score=0.990, total=   7.0s\n",
      "[CV] k1=40, k2=30, u1=40 .............................................\n",
      "[CV] ................. k1=40, k2=30, u1=40, score=0.923, total=   7.0s\n",
      "[CV] k1=40, k2=30, u1=40 .............................................\n",
      "[CV] ................. k1=40, k2=30, u1=40, score=0.884, total=   7.1s\n",
      "[CV] k1=40, k2=40, u1=20 .............................................\n",
      "[CV] ................. k1=40, k2=40, u1=20, score=0.939, total=   7.1s\n",
      "[CV] k1=40, k2=40, u1=20 .............................................\n",
      "[CV] ................. k1=40, k2=40, u1=20, score=0.919, total=   6.9s\n",
      "[CV] k1=40, k2=40, u1=20 .............................................\n",
      "[CV] ................. k1=40, k2=40, u1=20, score=0.929, total=   6.9s\n",
      "[CV] k1=40, k2=40, u1=30 .............................................\n",
      "[CV] ................. k1=40, k2=40, u1=30, score=0.953, total=   6.9s\n",
      "[CV] k1=40, k2=40, u1=30 .............................................\n",
      "[CV] ................. k1=40, k2=40, u1=30, score=0.905, total=   7.2s\n",
      "[CV] k1=40, k2=40, u1=30 .............................................\n",
      "[CV] ................. k1=40, k2=40, u1=30, score=0.842, total=   7.0s\n",
      "[CV] k1=40, k2=40, u1=40 .............................................\n",
      "[CV] ................. k1=40, k2=40, u1=40, score=0.997, total=   7.0s\n",
      "[CV] k1=40, k2=40, u1=40 .............................................\n",
      "[CV] ................. k1=40, k2=40, u1=40, score=0.897, total=   7.1s\n",
      "[CV] k1=40, k2=40, u1=40 .............................................\n",
      "[CV] ................. k1=40, k2=40, u1=40, score=0.942, total=   6.9s\n"
     ]
    },
    {
     "name": "stderr",
     "output_type": "stream",
     "text": [
      "[Parallel(n_jobs=1)]: Done  81 out of  81 | elapsed:  9.6min finished\n"
     ]
    }
   ],
   "source": [
    "# create model\n",
    "model = KerasClassifier(build_fn=create_model_stage_2, epochs=epochs, batch_size=batch_size, verbose=0)\n",
    "k1 = [20,30,40]\n",
    "k2 = [20,30,40]\n",
    "u1 = [20,30,40]\n",
    "\n",
    "param_grid = dict(k1=k1,k2=k2,u1=u1)\n",
    "grid = GridSearchCV(estimator=model, param_grid=param_grid, cv=3, verbose=10)\n",
    "grid_result = grid.fit(df_X_tr, df_y_tr)"
   ]
  },
  {
   "cell_type": "code",
   "execution_count": 0,
   "metadata": {
    "colab": {},
    "colab_type": "code",
    "id": "FpZR_w787S8b",
    "outputId": "95266ab9-2dae-4a02-b44c-db7603d559a3"
   },
   "outputs": [
    {
     "name": "stdout",
     "output_type": "stream",
     "text": [
      "Best: 0.960731 using {'k1': 30, 'k2': 30, 'u1': 20}\n",
      "0.918417 (0.005792) with: {'k1': 20, 'k2': 20, 'u1': 20}\n",
      "0.920852 (0.027319) with: {'k1': 20, 'k2': 20, 'u1': 30}\n",
      "0.936377 (0.038038) with: {'k1': 20, 'k2': 20, 'u1': 40}\n",
      "0.945205 (0.031539) with: {'k1': 20, 'k2': 30, 'u1': 20}\n",
      "0.928463 (0.032005) with: {'k1': 20, 'k2': 30, 'u1': 30}\n",
      "0.890411 (0.069562) with: {'k1': 20, 'k2': 30, 'u1': 40}\n",
      "0.923896 (0.050849) with: {'k1': 20, 'k2': 40, 'u1': 20}\n",
      "0.849011 (0.067791) with: {'k1': 20, 'k2': 40, 'u1': 30}\n",
      "0.902283 (0.077924) with: {'k1': 20, 'k2': 40, 'u1': 40}\n",
      "0.894064 (0.084910) with: {'k1': 30, 'k2': 20, 'u1': 20}\n",
      "0.896804 (0.071057) with: {'k1': 30, 'k2': 20, 'u1': 30}\n",
      "0.916286 (0.062308) with: {'k1': 30, 'k2': 20, 'u1': 40}\n",
      "0.960731 (0.028715) with: {'k1': 30, 'k2': 30, 'u1': 20}\n",
      "0.916895 (0.025927) with: {'k1': 30, 'k2': 30, 'u1': 30}\n",
      "0.920852 (0.058913) with: {'k1': 30, 'k2': 30, 'u1': 40}\n",
      "0.898021 (0.068285) with: {'k1': 30, 'k2': 40, 'u1': 20}\n",
      "0.943683 (0.032880) with: {'k1': 30, 'k2': 40, 'u1': 30}\n",
      "0.944901 (0.032092) with: {'k1': 30, 'k2': 40, 'u1': 40}\n",
      "0.919026 (0.072103) with: {'k1': 40, 'k2': 20, 'u1': 20}\n",
      "0.884627 (0.092553) with: {'k1': 40, 'k2': 20, 'u1': 30}\n",
      "0.915068 (0.055179) with: {'k1': 40, 'k2': 20, 'u1': 40}\n",
      "0.956469 (0.038898) with: {'k1': 40, 'k2': 30, 'u1': 20}\n",
      "0.939422 (0.037464) with: {'k1': 40, 'k2': 30, 'u1': 30}\n",
      "0.932420 (0.043728) with: {'k1': 40, 'k2': 30, 'u1': 40}\n",
      "0.928767 (0.008202) with: {'k1': 40, 'k2': 40, 'u1': 20}\n",
      "0.899848 (0.045261) with: {'k1': 40, 'k2': 40, 'u1': 30}\n",
      "0.945205 (0.041092) with: {'k1': 40, 'k2': 40, 'u1': 40}\n"
     ]
    }
   ],
   "source": [
    "# summarize results\n",
    "print(\"Best: %f using %s\" % (grid_result.best_score_, grid_result.best_params_))\n",
    "means = grid_result.cv_results_['mean_test_score']\n",
    "stds = grid_result.cv_results_['std_test_score']\n",
    "params = grid_result.cv_results_['params']\n",
    "for mean, stdev, param in zip(means, stds, params):\n",
    "    print(\"%f (%f) with: %r\" % (mean, stdev, param))"
   ]
  },
  {
   "cell_type": "code",
   "execution_count": 0,
   "metadata": {
    "colab": {},
    "colab_type": "code",
    "id": "wB_7uHIw7S8d",
    "outputId": "59196f28-723e-4931-de88-e084f78ddd56"
   },
   "outputs": [
    {
     "name": "stdout",
     "output_type": "stream",
     "text": [
      "Train on 3285 samples, validate on 1395 samples\n"
     ]
    },
    {
     "name": "stderr",
     "output_type": "stream",
     "text": [
      "W0321 12:05:16.570020  1644 summary_ops_v2.py:1132] Model failed to serialize as JSON. Ignoring... get_config() missing 1 required positional argument: 'self'\n"
     ]
    },
    {
     "name": "stdout",
     "output_type": "stream",
     "text": [
      "Epoch 1/30\n",
      "  16/3285 [..............................] - ETA: 1:31 - loss: 2.0718 - accuracy: 0.1250"
     ]
    },
    {
     "name": "stderr",
     "output_type": "stream",
     "text": [
      "W0321 12:05:17.769521  1644 callbacks.py:248] Method (on_train_batch_end) is slow compared to the batch update (0.229327). Check your callbacks.\n"
     ]
    },
    {
     "name": "stdout",
     "output_type": "stream",
     "text": [
      "3285/3285 [==============================] - 2s 680us/sample - loss: 1.4602 - accuracy: 0.4883 - val_loss: 1.2643 - val_accuracy: 0.5290\n",
      "Epoch 2/30\n",
      "3285/3285 [==============================] - 1s 355us/sample - loss: 0.4966 - accuracy: 0.8658 - val_loss: 0.5873 - val_accuracy: 0.8215\n",
      "Epoch 3/30\n",
      "3285/3285 [==============================] - 1s 396us/sample - loss: 0.2218 - accuracy: 0.9486 - val_loss: 0.2939 - val_accuracy: 0.9262\n",
      "Epoch 4/30\n",
      "3285/3285 [==============================] - 1s 403us/sample - loss: 0.1491 - accuracy: 0.9601 - val_loss: 0.2218 - val_accuracy: 0.9398\n",
      "Epoch 5/30\n",
      "3285/3285 [==============================] - 1s 380us/sample - loss: 0.0955 - accuracy: 0.9747 - val_loss: 0.4055 - val_accuracy: 0.8609\n",
      "Epoch 6/30\n",
      "3285/3285 [==============================] - 1s 361us/sample - loss: 0.0805 - accuracy: 0.9790 - val_loss: 0.2480 - val_accuracy: 0.9348\n",
      "Epoch 7/30\n",
      "3285/3285 [==============================] - 1s 373us/sample - loss: 0.0610 - accuracy: 0.9839 - val_loss: 0.1750 - val_accuracy: 0.9556\n",
      "Epoch 8/30\n",
      "3285/3285 [==============================] - 1s 360us/sample - loss: 0.0741 - accuracy: 0.9799 - val_loss: 0.1898 - val_accuracy: 0.9570\n",
      "Epoch 9/30\n",
      "3285/3285 [==============================] - 1s 394us/sample - loss: 0.0444 - accuracy: 0.9887 - val_loss: 0.3818 - val_accuracy: 0.9004\n",
      "Epoch 10/30\n",
      "3285/3285 [==============================] - 1s 387us/sample - loss: 0.0458 - accuracy: 0.9860 - val_loss: 0.2089 - val_accuracy: 0.9398\n",
      "Epoch 11/30\n",
      "3285/3285 [==============================] - 1s 370us/sample - loss: 0.0530 - accuracy: 0.9826 - val_loss: 0.2367 - val_accuracy: 0.9477\n",
      "Epoch 12/30\n",
      "3285/3285 [==============================] - 1s 387us/sample - loss: 0.0448 - accuracy: 0.9878 - val_loss: 0.3034 - val_accuracy: 0.9147\n",
      "Epoch 13/30\n",
      "3285/3285 [==============================] - 1s 417us/sample - loss: 0.0296 - accuracy: 0.9921 - val_loss: 0.3465 - val_accuracy: 0.9140\n",
      "Epoch 14/30\n",
      "3285/3285 [==============================] - 1s 390us/sample - loss: 0.0197 - accuracy: 0.9957 - val_loss: 0.2350 - val_accuracy: 0.9591\n",
      "Epoch 15/30\n",
      "3285/3285 [==============================] - 1s 396us/sample - loss: 0.0533 - accuracy: 0.9814 - val_loss: 0.1908 - val_accuracy: 0.9634\n",
      "Epoch 16/30\n",
      "3285/3285 [==============================] - 1s 356us/sample - loss: 0.0273 - accuracy: 0.9915 - val_loss: 0.2946 - val_accuracy: 0.9527\n",
      "Epoch 17/30\n",
      "3285/3285 [==============================] - 1s 350us/sample - loss: 0.0307 - accuracy: 0.9921 - val_loss: 0.2653 - val_accuracy: 0.9362\n",
      "Epoch 18/30\n",
      "3285/3285 [==============================] - 1s 377us/sample - loss: 0.0356 - accuracy: 0.9900 - val_loss: 0.2218 - val_accuracy: 0.9599\n",
      "Epoch 19/30\n",
      "3285/3285 [==============================] - 1s 371us/sample - loss: 0.0343 - accuracy: 0.9909 - val_loss: 0.2209 - val_accuracy: 0.9477\n",
      "Epoch 20/30\n",
      "3285/3285 [==============================] - 1s 420us/sample - loss: 0.0891 - accuracy: 0.9738 - val_loss: 0.1952 - val_accuracy: 0.9599\n",
      "Epoch 21/30\n",
      "3285/3285 [==============================] - 1s 390us/sample - loss: 0.0431 - accuracy: 0.9903 - val_loss: 0.2026 - val_accuracy: 0.9584\n",
      "Epoch 22/30\n",
      "3285/3285 [==============================] - 1s 390us/sample - loss: 0.0312 - accuracy: 0.9915 - val_loss: 0.2518 - val_accuracy: 0.9455\n",
      "Epoch 23/30\n",
      "3285/3285 [==============================] - 1s 383us/sample - loss: 0.0227 - accuracy: 0.9939 - val_loss: 0.1681 - val_accuracy: 0.9656\n",
      "Epoch 24/30\n",
      "3285/3285 [==============================] - 1s 421us/sample - loss: 0.0244 - accuracy: 0.9927 - val_loss: 0.2320 - val_accuracy: 0.9548\n",
      "Epoch 25/30\n",
      "3285/3285 [==============================] - 1s 414us/sample - loss: 0.0299 - accuracy: 0.9912 - val_loss: 0.1470 - val_accuracy: 0.9685\n",
      "Epoch 26/30\n",
      "3285/3285 [==============================] - 1s 407us/sample - loss: 0.0149 - accuracy: 0.9967 - val_loss: 0.1722 - val_accuracy: 0.9670\n",
      "Epoch 27/30\n",
      "3285/3285 [==============================] - 1s 414us/sample - loss: 0.0223 - accuracy: 0.9933 - val_loss: 0.2529 - val_accuracy: 0.9498\n",
      "Epoch 28/30\n",
      "3285/3285 [==============================] - 1s 357us/sample - loss: 0.0245 - accuracy: 0.9927 - val_loss: 0.2045 - val_accuracy: 0.9606\n",
      "Epoch 29/30\n",
      "3285/3285 [==============================] - 1s 377us/sample - loss: 0.0397 - accuracy: 0.9872 - val_loss: 0.1736 - val_accuracy: 0.9634\n",
      "Epoch 30/30\n",
      "3285/3285 [==============================] - 1s 377us/sample - loss: 0.0170 - accuracy: 0.9951 - val_loss: 0.2047 - val_accuracy: 0.9642\n"
     ]
    }
   ],
   "source": [
    "model_2 = create_model_stage_2(30,30,20)\n",
    "history = model_2.fit(df_X_tr, df_y_tr, epochs=epochs, batch_size=16, validation_data=(df_X_ts,df_y_ts), verbose=1, callbacks=[tensorboard_callback])"
   ]
  },
  {
   "cell_type": "code",
   "execution_count": 0,
   "metadata": {
    "colab": {},
    "colab_type": "code",
    "id": "zXf50naK7S8f"
   },
   "outputs": [],
   "source": [
    "model_2.save_weights('model_stage_2_dy.h5')"
   ]
  },
  {
   "cell_type": "code",
   "execution_count": 0,
   "metadata": {
    "colab": {},
    "colab_type": "code",
    "id": "xfgl5pfq7S8g",
    "outputId": "3e6c16ed-4ebc-495b-9ba3-7ae506a33326"
   },
   "outputs": [
    {
     "name": "stdout",
     "output_type": "stream",
     "text": [
      "1395/1395 [==============================] - 0s 77us/sample - loss: 0.2047 - accuracy: 0.9642\n"
     ]
    },
    {
     "data": {
      "text/plain": [
       "[0.20466780672641596, 0.9641577]"
      ]
     },
     "execution_count": 34,
     "metadata": {
      "tags": []
     },
     "output_type": "execute_result"
    }
   ],
   "source": [
    "model_2.evaluate(df_X_ts,df_y_ts)"
   ]
  },
  {
   "cell_type": "markdown",
   "metadata": {
    "colab_type": "text",
    "id": "2SKs21do7S8i"
   },
   "source": [
    "<img src='stage_2_dy.PNG' />"
   ]
  },
  {
   "cell_type": "markdown",
   "metadata": {
    "colab_type": "text",
    "id": "TS18zlFf7XXq"
   },
   "source": [
    "# Final Stage (Combined model 1 and model 2)"
   ]
  },
  {
   "cell_type": "code",
   "execution_count": 18,
   "metadata": {
    "colab": {
     "base_uri": "https://localhost:8080/",
     "height": 34
    },
    "colab_type": "code",
    "executionInfo": {
     "elapsed": 948,
     "status": "ok",
     "timestamp": 1584860712706,
     "user": {
      "displayName": "Sahil -",
      "photoUrl": "",
      "userId": "14051148522636395588"
     },
     "user_tz": -330
    },
    "id": "DA1-Ft-dD0Mx",
    "outputId": "3f17c83a-0891-46e3-8984-2ac1e108acaf"
   },
   "outputs": [
    {
     "data": {
      "text/plain": [
       "((7352, 128, 9), (2947, 128, 9), (7352, 6), (2947, 6))"
      ]
     },
     "execution_count": 18,
     "metadata": {},
     "output_type": "execute_result"
    }
   ],
   "source": [
    "X_train.shape, X_test.shape, Y_train.shape, Y_test.shape"
   ]
  },
  {
   "cell_type": "code",
   "execution_count": 19,
   "metadata": {
    "colab": {},
    "colab_type": "code",
    "id": "o9iiIDNQFlt5"
   },
   "outputs": [],
   "source": [
    "from sklearn.metrics import accuracy_score\n",
    "import tqdm"
   ]
  },
  {
   "cell_type": "code",
   "execution_count": 22,
   "metadata": {
    "colab": {},
    "colab_type": "code",
    "id": "LqX5znfY7S8i"
   },
   "outputs": [],
   "source": [
    "def create_final(ts_X,ts_y):\n",
    "    # To maintain number of correct classified\n",
    "    count = 0\n",
    "    \n",
    "    # To store true y and predict y generate from model\n",
    "    y_true = []\n",
    "    y_pred = []\n",
    "    \n",
    "    # Instantiate model and load weights that was done hyperparameter in training stage\n",
    "    # For Stage 1\n",
    "    model_1 = create_model_stage_1(k1=16,d1=0.5,optimizer='RMSprop')\n",
    "    model_1.load_weights('model_stage_1.h5')\n",
    "    \n",
    "    # For stage 2: Static subpart model\n",
    "    model_2_st = create_model_stage_2(30,30,40)\n",
    "    model_2_st.load_weights('model_stage_2.h5')\n",
    "    \n",
    "    # For stage 2: Dynamic subpart model\n",
    "    model_2_dy = create_model_stage_2(30,30,20)\n",
    "    model_2_dy.load_weights('model_stage_2_dy.h5')\n",
    "    \n",
    "    # iterating over Each test data point    \n",
    "    for i in tqdm.tqdm_notebook(range(ts_X.shape[0])):\n",
    "        # Store the  actual test label of y\n",
    "        Act_Yts = np.argmax(ts_y[i])\n",
    "        \n",
    "        # Store the each test data\n",
    "        stage_Xts = np.array(ts_X[i]).reshape(1,timesteps,input_dim)\n",
    "        \n",
    "        # We considering that for static: we assigned label as 1\n",
    "        # for dynamic: we assigned label as 0\n",
    "        \n",
    "        # If actual test label is 0 or 1 or 2, then it is dynamics -> implies label is 0\n",
    "        # Otherwise label is 1\n",
    "        if Act_Yts == 0 or Act_Yts == 1 or Act_Yts == 2:\n",
    "            stage_yts = 0\n",
    "        else:\n",
    "            stage_yts = 1\n",
    "\n",
    "        # make them numpy to make compute faster in model\n",
    "        stage_yts = np.array(stage_yts) \n",
    "        \n",
    "        # Predict test label from stage 1: {Either 0 or 1} ;\n",
    "        # based on stage 1, we predicting that, on which subpart this data should passed to\n",
    "        # Either static subpart or dynamic subpart\n",
    "        y_prob = np.array(model_1.predict(stage_Xts).tolist())\n",
    "        \n",
    "        # if prediction is greater than or equal to 0.5; we pit label as 1\n",
    "        # and for label 1 -> this test data pass to static subpart model (in stage 2)\n",
    "        if y_prob >= 0.5:\n",
    "            # Predict test data from static subpart model stage 2\n",
    "            st_pred = np.argmax(model_2_st.predict(stage_Xts)).tolist()\n",
    "            \n",
    "            # And check whether it is equal to actual test label or not\n",
    "            # If yes, the increment the count\n",
    "            if Act_Yts == st_pred:\n",
    "                count += 1\n",
    "                \n",
    "            # Store the true and predict y value (for printing confusion matrix)\n",
    "            y_true.append(Act_Yts)\n",
    "            y_pred.append(st_pred)\n",
    "        else:\n",
    "            # Predict test data from dynamic subpart model stage 2\n",
    "            dy_pred = np.argmax(model_2_dy.predict(stage_Xts)).tolist()\n",
    "            \n",
    "            # And check whether it is equal to actual test label or not\n",
    "            # If yes, the increment the count\n",
    "            if Act_Yts == dy_pred:\n",
    "                count += 1\n",
    "                \n",
    "            # Store the true and predict y value (for printing confusion matrix)    \n",
    "            y_true.append(Act_Yts)\n",
    "            y_pred.append(dy_pred)\n",
    "        \n",
    "        # Print to show the progress of accuracy after 500 iteration\n",
    "        if i%500 == 0:\n",
    "            print(count/(i+1))\n",
    "    \n",
    "    print('Overall Accuracy',count/ts_y.shape[0])\n",
    "    return y_true, y_pred"
   ]
  },
  {
   "cell_type": "code",
   "execution_count": 23,
   "metadata": {
    "colab": {
     "base_uri": "https://localhost:8080/",
     "height": 579,
     "referenced_widgets": [
      "de8416aabd6c4313a6343193314b98af",
      "bcc608d5a90c4278a58bd54c80f4a46a",
      "87ba56b2c67a411d929110c15e2a9ccb",
      "46eb1f527f294759a6bcebc4922a7b95",
      "e65ac176b6964571aaeb2538856eb768",
      "4a22af00e2d042cda4b0787e086f1396",
      "c0c40341ff0a4b66a3f5b84128beaba8",
      "7695e65384254a1f994c0daded79d86d"
     ]
    },
    "colab_type": "code",
    "executionInfo": {
     "elapsed": 255987,
     "status": "error",
     "timestamp": 1584871001507,
     "user": {
      "displayName": "Sahil -",
      "photoUrl": "",
      "userId": "14051148522636395588"
     },
     "user_tz": -330
    },
    "id": "gH8t-UyCG7z4",
    "outputId": "b420be76-c4ef-4630-f7fc-2b9e206692b6",
    "scrolled": true
   },
   "outputs": [
    {
     "data": {
      "application/vnd.jupyter.widget-view+json": {
       "model_id": "89bd0715ee8943ebb6bd5eac92d67c0a",
       "version_major": 2,
       "version_minor": 0
      },
      "text/plain": [
       "HBox(children=(IntProgress(value=0, max=2947), HTML(value='')))"
      ]
     },
     "metadata": {},
     "output_type": "display_data"
    },
    {
     "name": "stdout",
     "output_type": "stream",
     "text": [
      "1.0\n",
      "0.9201596806387226\n",
      "0.9330669330669331\n",
      "0.9027315123251166\n",
      "0.9230384807596201\n",
      "0.9344262295081968\n",
      "Overall Accuracy 0.9443501866304717\n"
     ]
    }
   ],
   "source": [
    "y_true, y_pred = create_final(X_test, Y_test)"
   ]
  },
  {
   "cell_type": "code",
   "execution_count": 24,
   "metadata": {
    "colab": {
     "base_uri": "https://localhost:8080/",
     "height": 34
    },
    "colab_type": "code",
    "executionInfo": {
     "elapsed": 956,
     "status": "ok",
     "timestamp": 1584868274054,
     "user": {
      "displayName": "Sahil -",
      "photoUrl": "",
      "userId": "14051148522636395588"
     },
     "user_tz": -330
    },
    "id": "9_YnVBfgZQym",
    "outputId": "651afadb-3992-4f02-a8dd-afec723a3f44"
   },
   "outputs": [],
   "source": [
    "np.save('final_ytrue',y_true)\n",
    "np.save('final_ypred',y_pred)"
   ]
  },
  {
   "cell_type": "code",
   "execution_count": 31,
   "metadata": {
    "colab": {
     "base_uri": "https://localhost:8080/",
     "height": 34
    },
    "colab_type": "code",
    "executionInfo": {
     "elapsed": 924,
     "status": "ok",
     "timestamp": 1584868279904,
     "user": {
      "displayName": "Sahil -",
      "photoUrl": "",
      "userId": "14051148522636395588"
     },
     "user_tz": -330
    },
    "id": "rV5r-5B9eNi6",
    "outputId": "82078ebf-8269-4b78-ed6b-2b93d90b1bcd"
   },
   "outputs": [
    {
     "data": {
      "image/png": "[encoded data removed]",
      "text/plain": [
       "<Figure size 720x504 with 2 Axes>"
      ]
     },
     "metadata": {
      "needs_background": "light"
     },
     "output_type": "display_data"
    }
   ],
   "source": [
    "import seaborn as sn\n",
    "import pandas as pd\n",
    "import matplotlib.pyplot as plt\n",
    "import sklearn\n",
    "\n",
    "array = sklearn.metrics.confusion_matrix(y_true,y_pred)\n",
    "array = array / array.astype(np.float).sum(axis=1)\n",
    "\n",
    "df_cm = pd.DataFrame(array, index = [i for i in ACTIVITIES.items()],\n",
    "                  columns = [i for i in ACTIVITIES.items()])\n",
    "plt.figure(figsize = (10,7))\n",
    "sn.heatmap(df_cm, annot=True)\n",
    "plt.show()"
   ]
  },
  {
   "cell_type": "code",
   "execution_count": 0,
   "metadata": {
    "colab": {},
    "colab_type": "code",
    "id": "bqQkbuJggg17"
   },
   "outputs": [],
   "source": []
  }
 ],
 "metadata": {
  "colab": {
   "collapsed_sections": [],
   "name": "sahiltinky94gmail.com_2.ipynb",
   "provenance": []
  },
  "kernelspec": {
   "display_name": "Python 3",
   "language": "python",
   "name": "python3"
  },
  "language_info": {
   "codemirror_mode": {
    "name": "ipython",
    "version": 3
   },
   "file_extension": ".py",
   "mimetype": "text/x-python",
   "name": "python",
   "nbconvert_exporter": "python",
   "pygments_lexer": "ipython3",
   "version": "3.6.8"
  },
  "widgets": {
   "application/vnd.jupyter.widget-state+json": {
    "46eb1f527f294759a6bcebc4922a7b95": {
     "model_module": "@jupyter-widgets/controls",
     "model_name": "HTMLModel",
     "state": {
      "_dom_classes": [],
      "_model_module": "@jupyter-widgets/controls",
      "_model_module_version": "1.5.0",
      "_model_name": "HTMLModel",
      "_view_count": null,
      "_view_module": "@jupyter-widgets/controls",
      "_view_module_version": "1.5.0",
      "_view_name": "HTMLView",
      "description": "",
      "description_tooltip": null,
      "layout": "IPY_MODEL_7695e65384254a1f994c0daded79d86d",
      "placeholder": "​",
      "style": "IPY_MODEL_c0c40341ff0a4b66a3f5b84128beaba8",
      "value": " 10/2947 [04:14&lt;19:12:27, 23.54s/it]"
     }
    },
    "4a22af00e2d042cda4b0787e086f1396": {
     "model_module": "@jupyter-widgets/base",
     "model_name": "LayoutModel",
     "state": {
      "_model_module": "@jupyter-widgets/base",
      "_model_module_version": "1.2.0",
      "_model_name": "LayoutModel",
      "_view_count": null,
      "_view_module": "@jupyter-widgets/base",
      "_view_module_version": "1.2.0",
      "_view_name": "LayoutView",
      "align_content": null,
      "align_items": null,
      "align_self": null,
      "border": null,
      "bottom": null,
      "display": null,
      "flex": null,
      "flex_flow": null,
      "grid_area": null,
      "grid_auto_columns": null,
      "grid_auto_flow": null,
      "grid_auto_rows": null,
      "grid_column": null,
      "grid_gap": null,
      "grid_row": null,
      "grid_template_areas": null,
      "grid_template_columns": null,
      "grid_template_rows": null,
      "height": null,
      "justify_content": null,
      "justify_items": null,
      "left": null,
      "margin": null,
      "max_height": null,
      "max_width": null,
      "min_height": null,
      "min_width": null,
      "object_fit": null,
      "object_position": null,
      "order": null,
      "overflow": null,
      "overflow_x": null,
      "overflow_y": null,
      "padding": null,
      "right": null,
      "top": null,
      "visibility": null,
      "width": null
     }
    },
    "7695e65384254a1f994c0daded79d86d": {
     "model_module": "@jupyter-widgets/base",
     "model_name": "LayoutModel",
     "state": {
      "_model_module": "@jupyter-widgets/base",
      "_model_module_version": "1.2.0",
      "_model_name": "LayoutModel",
      "_view_count": null,
      "_view_module": "@jupyter-widgets/base",
      "_view_module_version": "1.2.0",
      "_view_name": "LayoutView",
      "align_content": null,
      "align_items": null,
      "align_self": null,
      "border": null,
      "bottom": null,
      "display": null,
      "flex": null,
      "flex_flow": null,
      "grid_area": null,
      "grid_auto_columns": null,
      "grid_auto_flow": null,
      "grid_auto_rows": null,
      "grid_column": null,
      "grid_gap": null,
      "grid_row": null,
      "grid_template_areas": null,
      "grid_template_columns": null,
      "grid_template_rows": null,
      "height": null,
      "justify_content": null,
      "justify_items": null,
      "left": null,
      "margin": null,
      "max_height": null,
      "max_width": null,
      "min_height": null,
      "min_width": null,
      "object_fit": null,
      "object_position": null,
      "order": null,
      "overflow": null,
      "overflow_x": null,
      "overflow_y": null,
      "padding": null,
      "right": null,
      "top": null,
      "visibility": null,
      "width": null
     }
    },
    "87ba56b2c67a411d929110c15e2a9ccb": {
     "model_module": "@jupyter-widgets/controls",
     "model_name": "IntProgressModel",
     "state": {
      "_dom_classes": [],
      "_model_module": "@jupyter-widgets/controls",
      "_model_module_version": "1.5.0",
      "_model_name": "IntProgressModel",
      "_view_count": null,
      "_view_module": "@jupyter-widgets/controls",
      "_view_module_version": "1.5.0",
      "_view_name": "ProgressView",
      "bar_style": "danger",
      "description": "  0%",
      "description_tooltip": null,
      "layout": "IPY_MODEL_4a22af00e2d042cda4b0787e086f1396",
      "max": 2947,
      "min": 0,
      "orientation": "horizontal",
      "style": "IPY_MODEL_e65ac176b6964571aaeb2538856eb768",
      "value": 10
     }
    },
    "bcc608d5a90c4278a58bd54c80f4a46a": {
     "model_module": "@jupyter-widgets/base",
     "model_name": "LayoutModel",
     "state": {
      "_model_module": "@jupyter-widgets/base",
      "_model_module_version": "1.2.0",
      "_model_name": "LayoutModel",
      "_view_count": null,
      "_view_module": "@jupyter-widgets/base",
      "_view_module_version": "1.2.0",
      "_view_name": "LayoutView",
      "align_content": null,
      "align_items": null,
      "align_self": null,
      "border": null,
      "bottom": null,
      "display": null,
      "flex": null,
      "flex_flow": null,
      "grid_area": null,
      "grid_auto_columns": null,
      "grid_auto_flow": null,
      "grid_auto_rows": null,
      "grid_column": null,
      "grid_gap": null,
      "grid_row": null,
      "grid_template_areas": null,
      "grid_template_columns": null,
      "grid_template_rows": null,
      "height": null,
      "justify_content": null,
      "justify_items": null,
      "left": null,
      "margin": null,
      "max_height": null,
      "max_width": null,
      "min_height": null,
      "min_width": null,
      "object_fit": null,
      "object_position": null,
      "order": null,
      "overflow": null,
      "overflow_x": null,
      "overflow_y": null,
      "padding": null,
      "right": null,
      "top": null,
      "visibility": null,
      "width": null
     }
    },
    "c0c40341ff0a4b66a3f5b84128beaba8": {
     "model_module": "@jupyter-widgets/controls",
     "model_name": "DescriptionStyleModel",
     "state": {
      "_model_module": "@jupyter-widgets/controls",
      "_model_module_version": "1.5.0",
      "_model_name": "DescriptionStyleModel",
      "_view_count": null,
      "_view_module": "@jupyter-widgets/base",
      "_view_module_version": "1.2.0",
      "_view_name": "StyleView",
      "description_width": ""
     }
    },
    "de8416aabd6c4313a6343193314b98af": {
     "model_module": "@jupyter-widgets/controls",
     "model_name": "HBoxModel",
     "state": {
      "_dom_classes": [],
      "_model_module": "@jupyter-widgets/controls",
      "_model_module_version": "1.5.0",
      "_model_name": "HBoxModel",
      "_view_count": null,
      "_view_module": "@jupyter-widgets/controls",
      "_view_module_version": "1.5.0",
      "_view_name": "HBoxView",
      "box_style": "",
      "children": [
       "IPY_MODEL_87ba56b2c67a411d929110c15e2a9ccb",
       "IPY_MODEL_46eb1f527f294759a6bcebc4922a7b95"
      ],
      "layout": "IPY_MODEL_bcc608d5a90c4278a58bd54c80f4a46a"
     }
    },
    "e65ac176b6964571aaeb2538856eb768": {
     "model_module": "@jupyter-widgets/controls",
     "model_name": "ProgressStyleModel",
     "state": {
      "_model_module": "@jupyter-widgets/controls",
      "_model_module_version": "1.5.0",
      "_model_name": "ProgressStyleModel",
      "_view_count": null,
      "_view_module": "@jupyter-widgets/base",
      "_view_module_version": "1.2.0",
      "_view_name": "StyleView",
      "bar_color": null,
      "description_width": "initial"
     }
    }
   }
  }
 },
 "nbformat": 4,
 "nbformat_minor": 1
}
