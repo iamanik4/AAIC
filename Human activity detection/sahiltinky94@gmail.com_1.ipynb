{
 "cells": [
  {
   "cell_type": "code",
   "execution_count": 0,
   "metadata": {
    "colab": {},
    "colab_type": "code",
    "id": "vdomvdJKbLGr"
   },
   "outputs": [],
   "source": [
    "# Importing Libraries"
   ]
  },
  {
   "cell_type": "code",
   "execution_count": 0,
   "metadata": {
    "colab": {},
    "colab_type": "code",
    "id": "wllJ1CN0bLGz"
   },
   "outputs": [],
   "source": [
    "import pandas as pd\n",
    "import numpy as np\n",
    "np.random.seed(42)"
   ]
  },
  {
   "cell_type": "code",
   "execution_count": 0,
   "metadata": {
    "colab": {},
    "colab_type": "code",
    "id": "jfbNTVAxbLG3"
   },
   "outputs": [],
   "source": [
    "# Activities are the class labels\n",
    "# It is a 6 class classification\n",
    "ACTIVITIES = {\n",
    "    0: 'WALKING',\n",
    "    1: 'WALKING_UPSTAIRS',\n",
    "    2: 'WALKING_DOWNSTAIRS',\n",
    "    3: 'SITTING',\n",
    "    4: 'STANDING',\n",
    "    5: 'LAYING',\n",
    "}\n",
    "\n",
    "# Utility function to print the confusion matrix\n",
    "def confusion_matrix(Y_true, Y_pred):\n",
    "    Y_true = pd.Series([ACTIVITIES[y] for y in np.argmax(Y_true, axis=1)])\n",
    "    Y_pred = pd.Series([ACTIVITIES[y] for y in np.argmax(Y_pred, axis=1)])\n",
    "\n",
    "    return pd.crosstab(Y_true, Y_pred, rownames=['True'], colnames=['Pred'])"
   ]
  },
  {
   "cell_type": "code",
   "execution_count": 3,
   "metadata": {
    "colab": {
     "base_uri": "https://localhost:8080/",
     "height": 121
    },
    "colab_type": "code",
    "executionInfo": {
     "elapsed": 20156,
     "status": "ok",
     "timestamp": 1584212578510,
     "user": {
      "displayName": "Sahil -",
      "photoUrl": "",
      "userId": "14051148522636395588"
     },
     "user_tz": -330
    },
    "id": "LczQE1vcbTYH",
    "outputId": "3ecee814-edd0-4b27-8d2a-8fe1bb22f568"
   },
   "outputs": [
    {
     "name": "stdout",
     "output_type": "stream",
     "text": [
      "Go to this URL in a browser: https://accounts.google.com/o/oauth2/auth?client_id=947318989803-6bn6qk8qdgf4n4g3pfee6491hc0brc4i.apps.googleusercontent.com&redirect_uri=urn%3aietf%3awg%3aoauth%3a2.0%3aoob&response_type=code&scope=email%20https%3a%2f%2fwww.googleapis.com%2fauth%2fdocs.test%20https%3a%2f%2fwww.googleapis.com%2fauth%2fdrive%20https%3a%2f%2fwww.googleapis.com%2fauth%2fdrive.photos.readonly%20https%3a%2f%2fwww.googleapis.com%2fauth%2fpeopleapi.readonly\n",
      "\n",
      "Enter your authorization code:\n",
      "··········\n",
      "Mounted at /content/drive\n"
     ]
    }
   ],
   "source": [
    "from google.colab import drive\n",
    "drive.mount('/content/drive')"
   ]
  },
  {
   "cell_type": "markdown",
   "metadata": {
    "colab_type": "text",
    "id": "2zhTWzBlbLG7"
   },
   "source": [
    "### Data"
   ]
  },
  {
   "cell_type": "code",
   "execution_count": 0,
   "metadata": {
    "colab": {},
    "colab_type": "code",
    "id": "EusSAFwobLG8"
   },
   "outputs": [],
   "source": [
    "# Data directory\n",
    "DATADIR = '/content/drive/My Drive/HAR/UCI_HAR_Dataset'"
   ]
  },
  {
   "cell_type": "code",
   "execution_count": 0,
   "metadata": {
    "colab": {},
    "colab_type": "code",
    "id": "ugCgpWwtbLHA"
   },
   "outputs": [],
   "source": [
    "# Raw data signals\n",
    "# Signals are from Accelerometer and Gyroscope\n",
    "# The signals are in x,y,z directions\n",
    "# Sensor signals are filtered to have only body acceleration\n",
    "# excluding the acceleration due to gravity\n",
    "# Triaxial acceleration from the accelerometer is total acceleration\n",
    "SIGNALS = [\n",
    "    \"body_acc_x\",\n",
    "    \"body_acc_y\",\n",
    "    \"body_acc_z\",\n",
    "    \"body_gyro_x\",\n",
    "    \"body_gyro_y\",\n",
    "    \"body_gyro_z\",\n",
    "    \"total_acc_x\",\n",
    "    \"total_acc_y\",\n",
    "    \"total_acc_z\"\n",
    "]"
   ]
  },
  {
   "cell_type": "code",
   "execution_count": 0,
   "metadata": {
    "colab": {},
    "colab_type": "code",
    "id": "4in3arBnbLHD"
   },
   "outputs": [],
   "source": [
    "# Utility function to read the data from csv file\n",
    "def _read_csv(filename):\n",
    "    return pd.read_csv(filename, delim_whitespace=True, header=None)\n",
    "\n",
    "# Utility function to load the load\n",
    "def load_signals(subset):\n",
    "    signals_data = []\n",
    "\n",
    "    for signal in SIGNALS:\n",
    "        filename = f'/content/drive/My Drive/HAR/UCI_HAR_Dataset/{subset}/Inertial Signals/{signal}_{subset}.txt'\n",
    "        signals_data.append(\n",
    "            _read_csv(filename).as_matrix()\n",
    "        ) \n",
    "\n",
    "    # Transpose is used to change the dimensionality of the output,\n",
    "    # aggregating the signals by combination of sample/timestep.\n",
    "    # Resultant shape is (7352 train/2947 test samples, 128 timesteps, 9 signals)\n",
    "    return np.transpose(signals_data, (1, 2, 0))"
   ]
  },
  {
   "cell_type": "code",
   "execution_count": 0,
   "metadata": {
    "colab": {},
    "colab_type": "code",
    "id": "R_dl46KybLHG"
   },
   "outputs": [],
   "source": [
    "\n",
    "def load_y(subset):\n",
    "    \"\"\"\n",
    "    The objective that we are trying to predict is a integer, from 1 to 6,\n",
    "    that represents a human activity. We return a binary representation of \n",
    "    every sample objective as a 6 bits vector using One Hot Encoding\n",
    "    (https://pandas.pydata.org/pandas-docs/stable/generated/pandas.get_dummies.html)\n",
    "    \"\"\"\n",
    "    filename = f'/content/drive/My Drive/HAR/UCI_HAR_Dataset/{subset}/y_{subset}.txt'\n",
    "    y = _read_csv(filename)[0]\n",
    "\n",
    "    return pd.get_dummies(y).as_matrix()"
   ]
  },
  {
   "cell_type": "code",
   "execution_count": 0,
   "metadata": {
    "colab": {},
    "colab_type": "code",
    "id": "fnDmgxj-bLHJ"
   },
   "outputs": [],
   "source": [
    "def load_data():\n",
    "    \"\"\"\n",
    "    Obtain the dataset from multiple files.\n",
    "    Returns: X_train, X_test, y_train, y_test\n",
    "    \"\"\"\n",
    "    X_train, X_test = load_signals('train'), load_signals('test')\n",
    "    y_train, y_test = load_y('train'), load_y('test')\n",
    "\n",
    "    return X_train, X_test, y_train, y_test"
   ]
  },
  {
   "cell_type": "code",
   "execution_count": 9,
   "metadata": {
    "colab": {
     "base_uri": "https://localhost:8080/",
     "height": 62
    },
    "colab_type": "code",
    "executionInfo": {
     "elapsed": 2373,
     "status": "ok",
     "timestamp": 1584212640292,
     "user": {
      "displayName": "Sahil -",
      "photoUrl": "",
      "userId": "14051148522636395588"
     },
     "user_tz": -330
    },
    "id": "4gISEeE7bLHM",
    "outputId": "0cc10436-d1af-4535-bf08-0be7bd07da08"
   },
   "outputs": [
    {
     "data": {
      "text/html": [
       "<p style=\"color: red;\">\n",
       "The default version of TensorFlow in Colab will soon switch to TensorFlow 2.x.<br>\n",
       "We recommend you <a href=\"https://www.tensorflow.org/guide/migrate\" target=\"_blank\">upgrade</a> now \n",
       "or ensure your notebook will continue to use TensorFlow 1.x via the <code>%tensorflow_version 1.x</code> magic:\n",
       "<a href=\"https://colab.research.google.com/notebooks/tensorflow_version.ipynb\" target=\"_blank\">more info</a>.</p>\n"
      ],
      "text/plain": [
       "<IPython.core.display.HTML object>"
      ]
     },
     "metadata": {
      "tags": []
     },
     "output_type": "display_data"
    }
   ],
   "source": [
    "# Importing tensorflow\n",
    "np.random.seed(42)\n",
    "import tensorflow as tf\n",
    "tf.set_random_seed(42)"
   ]
  },
  {
   "cell_type": "code",
   "execution_count": 0,
   "metadata": {
    "colab": {},
    "colab_type": "code",
    "id": "e-16QQ2VbLHP"
   },
   "outputs": [],
   "source": [
    "# Configuring a session\n",
    "session_conf = tf.ConfigProto(\n",
    "    intra_op_parallelism_threads=1,\n",
    "    inter_op_parallelism_threads=1\n",
    ")"
   ]
  },
  {
   "cell_type": "code",
   "execution_count": 11,
   "metadata": {
    "colab": {
     "base_uri": "https://localhost:8080/",
     "height": 34
    },
    "colab_type": "code",
    "executionInfo": {
     "elapsed": 1469,
     "status": "ok",
     "timestamp": 1584212647457,
     "user": {
      "displayName": "Sahil -",
      "photoUrl": "",
      "userId": "14051148522636395588"
     },
     "user_tz": -330
    },
    "id": "xj0xP3p_bLHS",
    "outputId": "3a6f4c03-dc0e-405d-93f8-334a1a14b718"
   },
   "outputs": [
    {
     "name": "stderr",
     "output_type": "stream",
     "text": [
      "Using TensorFlow backend.\n"
     ]
    }
   ],
   "source": [
    "# Import Keras\n",
    "from keras import backend as K\n",
    "sess = tf.Session(graph=tf.get_default_graph(), config=session_conf)\n",
    "K.set_session(sess)"
   ]
  },
  {
   "cell_type": "code",
   "execution_count": 0,
   "metadata": {
    "colab": {},
    "colab_type": "code",
    "id": "NPxnDK5HbLHV"
   },
   "outputs": [],
   "source": [
    "# Importing libraries\n",
    "from keras.models import Sequential\n",
    "from keras.layers import LSTM, BatchNormalization, Flatten\n",
    "from keras.layers.core import Dense, Dropout"
   ]
  },
  {
   "cell_type": "code",
   "execution_count": 0,
   "metadata": {
    "colab": {},
    "colab_type": "code",
    "id": "Ybt0dc6RbLHa"
   },
   "outputs": [],
   "source": [
    "# Utility function to count the number of classes\n",
    "def _count_classes(y):\n",
    "    return len(set([tuple(category) for category in y]))"
   ]
  },
  {
   "cell_type": "code",
   "execution_count": 15,
   "metadata": {
    "colab": {
     "base_uri": "https://localhost:8080/",
     "height": 84
    },
    "colab_type": "code",
    "executionInfo": {
     "elapsed": 24969,
     "status": "ok",
     "timestamp": 1584212683301,
     "user": {
      "displayName": "Sahil -",
      "photoUrl": "",
      "userId": "14051148522636395588"
     },
     "user_tz": -330
    },
    "id": "trObkwFDbLHd",
    "outputId": "8fa84999-cd78-4831-9290-6db7a051e39c"
   },
   "outputs": [
    {
     "name": "stderr",
     "output_type": "stream",
     "text": [
      "/usr/local/lib/python3.6/dist-packages/ipykernel_launcher.py:11: FutureWarning: Method .as_matrix will be removed in a future version. Use .values instead.\n",
      "  # This is added back by InteractiveShellApp.init_path()\n",
      "/usr/local/lib/python3.6/dist-packages/ipykernel_launcher.py:12: FutureWarning: Method .as_matrix will be removed in a future version. Use .values instead.\n",
      "  if sys.path[0] == '':\n"
     ]
    }
   ],
   "source": [
    "# Loading the train and test data\n",
    "X_train, X_test, Y_train, Y_test = load_data()"
   ]
  },
  {
   "cell_type": "code",
   "execution_count": 16,
   "metadata": {
    "colab": {
     "base_uri": "https://localhost:8080/",
     "height": 67
    },
    "colab_type": "code",
    "executionInfo": {
     "elapsed": 1230,
     "status": "ok",
     "timestamp": 1584212699803,
     "user": {
      "displayName": "Sahil -",
      "photoUrl": "",
      "userId": "14051148522636395588"
     },
     "user_tz": -330
    },
    "id": "x1G52bt2bLHg",
    "outputId": "57fe575b-181b-4785-f1bc-28d8b80d0fbc"
   },
   "outputs": [
    {
     "name": "stdout",
     "output_type": "stream",
     "text": [
      "128\n",
      "9\n",
      "7352\n"
     ]
    }
   ],
   "source": [
    "timesteps = len(X_train[0])\n",
    "input_dim = len(X_train[0][0])\n",
    "n_classes = _count_classes(Y_train)\n",
    "\n",
    "print(timesteps)\n",
    "print(input_dim)\n",
    "print(len(X_train))"
   ]
  },
  {
   "cell_type": "code",
   "execution_count": 0,
   "metadata": {
    "colab": {},
    "colab_type": "code",
    "id": "JMJnemG8_rXG"
   },
   "outputs": [],
   "source": [
    "data_disp = {}"
   ]
  },
  {
   "cell_type": "markdown",
   "metadata": {
    "colab_type": "text",
    "id": "gPRYKr5pbLHj"
   },
   "source": [
    "- Defining the Architecture of LSTM"
   ]
  },
  {
   "cell_type": "markdown",
   "metadata": {
    "colab_type": "text",
    "id": "mSgLQewTwtoK"
   },
   "source": [
    "One LSTM + Dropout(50%)"
   ]
  },
  {
   "cell_type": "code",
   "execution_count": 96,
   "metadata": {
    "colab": {
     "base_uri": "https://localhost:8080/",
     "height": 252
    },
    "colab_type": "code",
    "executionInfo": {
     "elapsed": 1488,
     "status": "ok",
     "timestamp": 1584222899414,
     "user": {
      "displayName": "Sahil -",
      "photoUrl": "",
      "userId": "14051148522636395588"
     },
     "user_tz": -330
    },
    "id": "7_NjXfQawxgG",
    "outputId": "c11207da-02bd-4fcd-988d-bfaa82610ee4"
   },
   "outputs": [
    {
     "name": "stdout",
     "output_type": "stream",
     "text": [
      "Model: \"sequential_30\"\n",
      "_________________________________________________________________\n",
      "Layer (type)                 Output Shape              Param #   \n",
      "=================================================================\n",
      "lstm_47 (LSTM)               (None, 40)                8000      \n",
      "_________________________________________________________________\n",
      "dropout_46 (Dropout)         (None, 40)                0         \n",
      "_________________________________________________________________\n",
      "dense_30 (Dense)             (None, 6)                 246       \n",
      "=================================================================\n",
      "Total params: 8,246\n",
      "Trainable params: 8,246\n",
      "Non-trainable params: 0\n",
      "_________________________________________________________________\n"
     ]
    }
   ],
   "source": [
    "# Initiliazing the sequential model\n",
    "model = Sequential()\n",
    "# Configuring the parameters\n",
    "model.add(LSTM(40, input_shape=(timesteps, input_dim)))\n",
    "# Adding a dropout layer\n",
    "model.add(Dropout(0.5))\n",
    "\n",
    "# Adding a dense output layer with sigmoid activation\n",
    "model.add(Dense(n_classes, activation='softmax'))\n",
    "# Compiling the model\n",
    "model.compile(loss='categorical_crossentropy',\n",
    "              optimizer='adam',\n",
    "              metrics=['accuracy'])\n",
    "model.summary()"
   ]
  },
  {
   "cell_type": "markdown",
   "metadata": {
    "colab_type": "text",
    "id": "uoNNzZ5W5L-K"
   },
   "source": [
    "Batch Size = 8"
   ]
  },
  {
   "cell_type": "code",
   "execution_count": 83,
   "metadata": {
    "colab": {
     "base_uri": "https://localhost:8080/",
     "height": 1000
    },
    "colab_type": "code",
    "executionInfo": {
     "elapsed": 1520088,
     "status": "ok",
     "timestamp": 1584221853417,
     "user": {
      "displayName": "Sahil -",
      "photoUrl": "",
      "userId": "14051148522636395588"
     },
     "user_tz": -330
    },
    "id": "4XBFd4p54Hrg",
    "outputId": "ba689397-afad-4938-a107-c3de6b6d4801"
   },
   "outputs": [
    {
     "name": "stdout",
     "output_type": "stream",
     "text": [
      "Train on 7352 samples, validate on 2947 samples\n",
      "Epoch 1/30\n",
      "7352/7352 [==============================] - 55s 8ms/step - loss: 1.2409 - acc: 0.4717 - val_loss: 1.3214 - val_acc: 0.4411\n",
      "Epoch 2/30\n",
      "7352/7352 [==============================] - 49s 7ms/step - loss: 0.9766 - acc: 0.5857 - val_loss: 0.8479 - val_acc: 0.6715\n",
      "Epoch 3/30\n",
      "7352/7352 [==============================] - 49s 7ms/step - loss: 0.7848 - acc: 0.7004 - val_loss: 1.0793 - val_acc: 0.5697\n",
      "Epoch 4/30\n",
      "7352/7352 [==============================] - 50s 7ms/step - loss: 0.6543 - acc: 0.7364 - val_loss: 0.6002 - val_acc: 0.7703\n",
      "Epoch 5/30\n",
      "7352/7352 [==============================] - 51s 7ms/step - loss: 0.4717 - acc: 0.8172 - val_loss: 0.6588 - val_acc: 0.7475\n",
      "Epoch 6/30\n",
      "7352/7352 [==============================] - 51s 7ms/step - loss: 0.4069 - acc: 0.8513 - val_loss: 0.4868 - val_acc: 0.8320\n",
      "Epoch 7/30\n",
      "7352/7352 [==============================] - 51s 7ms/step - loss: 0.3893 - acc: 0.8754 - val_loss: 1.1511 - val_acc: 0.7014\n",
      "Epoch 8/30\n",
      "7352/7352 [==============================] - 51s 7ms/step - loss: 0.4311 - acc: 0.8615 - val_loss: 0.3524 - val_acc: 0.8751\n",
      "Epoch 9/30\n",
      "7352/7352 [==============================] - 52s 7ms/step - loss: 0.2553 - acc: 0.9189 - val_loss: 0.4864 - val_acc: 0.8592\n",
      "Epoch 10/30\n",
      "7352/7352 [==============================] - 51s 7ms/step - loss: 0.2466 - acc: 0.9208 - val_loss: 0.5407 - val_acc: 0.8554\n",
      "Epoch 11/30\n",
      "7352/7352 [==============================] - 51s 7ms/step - loss: 0.2248 - acc: 0.9268 - val_loss: 0.4033 - val_acc: 0.8792\n",
      "Epoch 12/30\n",
      "7352/7352 [==============================] - 51s 7ms/step - loss: 0.2375 - acc: 0.9202 - val_loss: 0.4392 - val_acc: 0.8507\n",
      "Epoch 13/30\n",
      "7352/7352 [==============================] - 51s 7ms/step - loss: 0.2103 - acc: 0.9310 - val_loss: 0.4623 - val_acc: 0.8853\n",
      "Epoch 14/30\n",
      "7352/7352 [==============================] - 51s 7ms/step - loss: 0.2379 - acc: 0.9257 - val_loss: 0.4398 - val_acc: 0.8510\n",
      "Epoch 15/30\n",
      "7352/7352 [==============================] - 50s 7ms/step - loss: 0.2502 - acc: 0.9184 - val_loss: 0.3849 - val_acc: 0.8819\n",
      "Epoch 16/30\n",
      "7352/7352 [==============================] - 51s 7ms/step - loss: 0.1940 - acc: 0.9319 - val_loss: 0.3532 - val_acc: 0.8768\n",
      "Epoch 17/30\n",
      "7352/7352 [==============================] - 50s 7ms/step - loss: 0.1691 - acc: 0.9373 - val_loss: 0.3291 - val_acc: 0.8962\n",
      "Epoch 18/30\n",
      "7352/7352 [==============================] - 50s 7ms/step - loss: 0.2231 - acc: 0.9264 - val_loss: 0.4558 - val_acc: 0.8785\n",
      "Epoch 19/30\n",
      "7352/7352 [==============================] - 50s 7ms/step - loss: 0.1619 - acc: 0.9408 - val_loss: 0.2497 - val_acc: 0.9074\n",
      "Epoch 20/30\n",
      "7352/7352 [==============================] - 50s 7ms/step - loss: 0.2270 - acc: 0.9237 - val_loss: 0.3944 - val_acc: 0.8924\n",
      "Epoch 21/30\n",
      "7352/7352 [==============================] - 50s 7ms/step - loss: 0.1897 - acc: 0.9354 - val_loss: 0.2993 - val_acc: 0.8992\n",
      "Epoch 22/30\n",
      "7352/7352 [==============================] - 50s 7ms/step - loss: 0.1541 - acc: 0.9448 - val_loss: 0.2786 - val_acc: 0.8979\n",
      "Epoch 23/30\n",
      "7352/7352 [==============================] - 50s 7ms/step - loss: 0.1670 - acc: 0.9395 - val_loss: 0.3842 - val_acc: 0.8992\n",
      "Epoch 24/30\n",
      "7352/7352 [==============================] - 50s 7ms/step - loss: 0.1435 - acc: 0.9461 - val_loss: 0.3459 - val_acc: 0.9084\n",
      "Epoch 25/30\n",
      "7352/7352 [==============================] - 50s 7ms/step - loss: 0.1541 - acc: 0.9421 - val_loss: 0.3757 - val_acc: 0.9087\n",
      "Epoch 26/30\n",
      "7352/7352 [==============================] - 50s 7ms/step - loss: 0.1300 - acc: 0.9480 - val_loss: 0.3804 - val_acc: 0.9097\n",
      "Epoch 27/30\n",
      "7352/7352 [==============================] - 51s 7ms/step - loss: 0.4083 - acc: 0.9081 - val_loss: 1.5521 - val_acc: 0.6834\n",
      "Epoch 28/30\n",
      "7352/7352 [==============================] - 51s 7ms/step - loss: 0.3512 - acc: 0.8927 - val_loss: 0.3844 - val_acc: 0.8700\n",
      "Epoch 29/30\n",
      "7352/7352 [==============================] - 50s 7ms/step - loss: 0.1795 - acc: 0.9370 - val_loss: 0.3055 - val_acc: 0.9111\n",
      "Epoch 30/30\n",
      "7352/7352 [==============================] - 49s 7ms/step - loss: 0.1461 - acc: 0.9444 - val_loss: 0.2727 - val_acc: 0.9175\n"
     ]
    },
    {
     "data": {
      "text/plain": [
       "<keras.callbacks.History at 0x7efc6bdb1240>"
      ]
     },
     "execution_count": 83,
     "metadata": {
      "tags": []
     },
     "output_type": "execute_result"
    }
   ],
   "source": [
    "# Training the model\n",
    "model.fit(X_train,\n",
    "          Y_train,\n",
    "          batch_size=8,\n",
    "          validation_data=(X_test, Y_test),\n",
    "          epochs=30)"
   ]
  },
  {
   "cell_type": "code",
   "execution_count": 84,
   "metadata": {
    "colab": {
     "base_uri": "https://localhost:8080/",
     "height": 254
    },
    "colab_type": "code",
    "executionInfo": {
     "elapsed": 4218,
     "status": "ok",
     "timestamp": 1584221865822,
     "user": {
      "displayName": "Sahil -",
      "photoUrl": "",
      "userId": "14051148522636395588"
     },
     "user_tz": -330
    },
    "id": "Br_teL7F5AEb",
    "outputId": "acedf199-76fa-4a98-d75f-22a5fbee99d1"
   },
   "outputs": [
    {
     "data": {
      "text/html": [
       "<div>\n",
       "<style scoped>\n",
       "    .dataframe tbody tr th:only-of-type {\n",
       "        vertical-align: middle;\n",
       "    }\n",
       "\n",
       "    .dataframe tbody tr th {\n",
       "        vertical-align: top;\n",
       "    }\n",
       "\n",
       "    .dataframe thead th {\n",
       "        text-align: right;\n",
       "    }\n",
       "</style>\n",
       "<table border=\"1\" class=\"dataframe\">\n",
       "  <thead>\n",
       "    <tr style=\"text-align: right;\">\n",
       "      <th>Pred</th>\n",
       "      <th>LAYING</th>\n",
       "      <th>SITTING</th>\n",
       "      <th>STANDING</th>\n",
       "      <th>WALKING</th>\n",
       "      <th>WALKING_DOWNSTAIRS</th>\n",
       "      <th>WALKING_UPSTAIRS</th>\n",
       "    </tr>\n",
       "    <tr>\n",
       "      <th>True</th>\n",
       "      <th></th>\n",
       "      <th></th>\n",
       "      <th></th>\n",
       "      <th></th>\n",
       "      <th></th>\n",
       "      <th></th>\n",
       "    </tr>\n",
       "  </thead>\n",
       "  <tbody>\n",
       "    <tr>\n",
       "      <th>LAYING</th>\n",
       "      <td>537</td>\n",
       "      <td>0</td>\n",
       "      <td>0</td>\n",
       "      <td>0</td>\n",
       "      <td>0</td>\n",
       "      <td>0</td>\n",
       "    </tr>\n",
       "    <tr>\n",
       "      <th>SITTING</th>\n",
       "      <td>5</td>\n",
       "      <td>359</td>\n",
       "      <td>124</td>\n",
       "      <td>1</td>\n",
       "      <td>0</td>\n",
       "      <td>2</td>\n",
       "    </tr>\n",
       "    <tr>\n",
       "      <th>STANDING</th>\n",
       "      <td>0</td>\n",
       "      <td>48</td>\n",
       "      <td>478</td>\n",
       "      <td>6</td>\n",
       "      <td>0</td>\n",
       "      <td>0</td>\n",
       "    </tr>\n",
       "    <tr>\n",
       "      <th>WALKING</th>\n",
       "      <td>0</td>\n",
       "      <td>0</td>\n",
       "      <td>1</td>\n",
       "      <td>467</td>\n",
       "      <td>16</td>\n",
       "      <td>12</td>\n",
       "    </tr>\n",
       "    <tr>\n",
       "      <th>WALKING_DOWNSTAIRS</th>\n",
       "      <td>0</td>\n",
       "      <td>0</td>\n",
       "      <td>6</td>\n",
       "      <td>4</td>\n",
       "      <td>406</td>\n",
       "      <td>4</td>\n",
       "    </tr>\n",
       "    <tr>\n",
       "      <th>WALKING_UPSTAIRS</th>\n",
       "      <td>0</td>\n",
       "      <td>1</td>\n",
       "      <td>5</td>\n",
       "      <td>7</td>\n",
       "      <td>1</td>\n",
       "      <td>457</td>\n",
       "    </tr>\n",
       "  </tbody>\n",
       "</table>\n",
       "</div>"
      ],
      "text/plain": [
       "Pred                LAYING  SITTING  ...  WALKING_DOWNSTAIRS  WALKING_UPSTAIRS\n",
       "True                                 ...                                      \n",
       "LAYING                 537        0  ...                   0                 0\n",
       "SITTING                  5      359  ...                   0                 2\n",
       "STANDING                 0       48  ...                   0                 0\n",
       "WALKING                  0        0  ...                  16                12\n",
       "WALKING_DOWNSTAIRS       0        0  ...                 406                 4\n",
       "WALKING_UPSTAIRS         0        1  ...                   1               457\n",
       "\n",
       "[6 rows x 6 columns]"
      ]
     },
     "execution_count": 84,
     "metadata": {
      "tags": []
     },
     "output_type": "execute_result"
    }
   ],
   "source": [
    "# Confusion Matrix\n",
    "pd.DataFrame(confusion_matrix(Y_test, model.predict(X_test)))"
   ]
  },
  {
   "cell_type": "code",
   "execution_count": 85,
   "metadata": {
    "colab": {
     "base_uri": "https://localhost:8080/",
     "height": 50
    },
    "colab_type": "code",
    "executionInfo": {
     "elapsed": 1938,
     "status": "ok",
     "timestamp": 1584221868561,
     "user": {
      "displayName": "Sahil -",
      "photoUrl": "",
      "userId": "14051148522636395588"
     },
     "user_tz": -330
    },
    "id": "twm0apAF5AIT",
    "outputId": "1a2e6d19-6588-45db-f3bd-f3ecddf05d34"
   },
   "outputs": [
    {
     "name": "stdout",
     "output_type": "stream",
     "text": [
      "2947/2947 [==============================] - 1s 316us/step\n"
     ]
    },
    {
     "data": {
      "text/plain": [
       "[0.2727017437300063, 0.9175432643366135]"
      ]
     },
     "execution_count": 85,
     "metadata": {
      "tags": []
     },
     "output_type": "execute_result"
    }
   ],
   "source": [
    "score = model.evaluate(X_test, Y_test)\n",
    "score"
   ]
  },
  {
   "cell_type": "code",
   "execution_count": 0,
   "metadata": {
    "colab": {},
    "colab_type": "code",
    "id": "wuEakW-TAQ7I"
   },
   "outputs": [],
   "source": [
    "data_disp['1LSTM_8batch'] = score"
   ]
  },
  {
   "cell_type": "markdown",
   "metadata": {
    "colab_type": "text",
    "id": "lTZOFd-T6-85"
   },
   "source": [
    "Batch SIze = 16"
   ]
  },
  {
   "cell_type": "code",
   "execution_count": 87,
   "metadata": {
    "colab": {
     "base_uri": "https://localhost:8080/",
     "height": 1000
    },
    "colab_type": "code",
    "executionInfo": {
     "elapsed": 817446,
     "status": "ok",
     "timestamp": 1584222706147,
     "user": {
      "displayName": "Sahil -",
      "photoUrl": "",
      "userId": "14051148522636395588"
     },
     "user_tz": -330
    },
    "id": "yku4RT5H6_Mn",
    "outputId": "ae6c0d70-2354-431b-fb92-72cad3eb55fe"
   },
   "outputs": [
    {
     "name": "stdout",
     "output_type": "stream",
     "text": [
      "Train on 7352 samples, validate on 2947 samples\n",
      "Epoch 1/30\n",
      "7352/7352 [==============================] - 34s 5ms/step - loss: 1.2441 - acc: 0.4782 - val_loss: 1.0098 - val_acc: 0.5948\n",
      "Epoch 2/30\n",
      "7352/7352 [==============================] - 27s 4ms/step - loss: 0.9204 - acc: 0.6260 - val_loss: 0.8682 - val_acc: 0.6206\n",
      "Epoch 3/30\n",
      "7352/7352 [==============================] - 27s 4ms/step - loss: 0.6669 - acc: 0.7368 - val_loss: 0.9717 - val_acc: 0.5738\n",
      "Epoch 4/30\n",
      "7352/7352 [==============================] - 27s 4ms/step - loss: 0.6337 - acc: 0.7775 - val_loss: 0.6209 - val_acc: 0.7940\n",
      "Epoch 5/30\n",
      "7352/7352 [==============================] - 27s 4ms/step - loss: 0.4617 - acc: 0.8497 - val_loss: 0.5400 - val_acc: 0.8178\n",
      "Epoch 6/30\n",
      "7352/7352 [==============================] - 28s 4ms/step - loss: 0.3130 - acc: 0.9013 - val_loss: 0.4420 - val_acc: 0.8599\n",
      "Epoch 7/30\n",
      "7352/7352 [==============================] - 28s 4ms/step - loss: 0.3142 - acc: 0.8955 - val_loss: 0.4208 - val_acc: 0.8541\n",
      "Epoch 8/30\n",
      "7352/7352 [==============================] - 27s 4ms/step - loss: 0.2637 - acc: 0.9170 - val_loss: 0.3591 - val_acc: 0.8728\n",
      "Epoch 9/30\n",
      "7352/7352 [==============================] - 28s 4ms/step - loss: 0.2454 - acc: 0.9219 - val_loss: 0.4292 - val_acc: 0.8656\n",
      "Epoch 10/30\n",
      "7352/7352 [==============================] - 27s 4ms/step - loss: 0.2080 - acc: 0.9302 - val_loss: 0.5765 - val_acc: 0.8504\n",
      "Epoch 11/30\n",
      "7352/7352 [==============================] - 27s 4ms/step - loss: 0.2986 - acc: 0.9025 - val_loss: 0.4367 - val_acc: 0.8666\n",
      "Epoch 12/30\n",
      "7352/7352 [==============================] - 28s 4ms/step - loss: 0.2277 - acc: 0.9211 - val_loss: 0.3387 - val_acc: 0.8856\n",
      "Epoch 13/30\n",
      "7352/7352 [==============================] - 27s 4ms/step - loss: 0.2001 - acc: 0.9325 - val_loss: 0.2904 - val_acc: 0.8941\n",
      "Epoch 14/30\n",
      "7352/7352 [==============================] - 27s 4ms/step - loss: 0.1893 - acc: 0.9319 - val_loss: 0.2805 - val_acc: 0.8921\n",
      "Epoch 15/30\n",
      "7352/7352 [==============================] - 27s 4ms/step - loss: 0.1708 - acc: 0.9399 - val_loss: 0.2950 - val_acc: 0.8965\n",
      "Epoch 16/30\n",
      "7352/7352 [==============================] - 27s 4ms/step - loss: 0.1625 - acc: 0.9438 - val_loss: 0.2896 - val_acc: 0.9067\n",
      "Epoch 17/30\n",
      "7352/7352 [==============================] - 27s 4ms/step - loss: 0.2056 - acc: 0.9229 - val_loss: 0.2578 - val_acc: 0.9019\n",
      "Epoch 18/30\n",
      "7352/7352 [==============================] - 27s 4ms/step - loss: 0.1781 - acc: 0.9373 - val_loss: 0.2934 - val_acc: 0.9030\n",
      "Epoch 19/30\n",
      "7352/7352 [==============================] - 27s 4ms/step - loss: 0.1560 - acc: 0.9427 - val_loss: 0.2841 - val_acc: 0.9084\n",
      "Epoch 20/30\n",
      "7352/7352 [==============================] - 26s 4ms/step - loss: 0.1751 - acc: 0.9317 - val_loss: 0.2592 - val_acc: 0.9067\n",
      "Epoch 21/30\n",
      "7352/7352 [==============================] - 27s 4ms/step - loss: 0.3172 - acc: 0.8945 - val_loss: 0.2815 - val_acc: 0.9030\n",
      "Epoch 22/30\n",
      "7352/7352 [==============================] - 26s 4ms/step - loss: 0.1688 - acc: 0.9366 - val_loss: 0.3257 - val_acc: 0.9094\n",
      "Epoch 23/30\n",
      "7352/7352 [==============================] - 27s 4ms/step - loss: 0.2176 - acc: 0.9240 - val_loss: 0.2712 - val_acc: 0.9046\n",
      "Epoch 24/30\n",
      "7352/7352 [==============================] - 27s 4ms/step - loss: 0.1559 - acc: 0.9402 - val_loss: 0.2678 - val_acc: 0.9141\n",
      "Epoch 25/30\n",
      "7352/7352 [==============================] - 26s 4ms/step - loss: 0.1897 - acc: 0.9305 - val_loss: 0.3427 - val_acc: 0.8358\n",
      "Epoch 26/30\n",
      "7352/7352 [==============================] - 27s 4ms/step - loss: 0.2753 - acc: 0.9061 - val_loss: 0.3165 - val_acc: 0.8999\n",
      "Epoch 27/30\n",
      "7352/7352 [==============================] - 26s 4ms/step - loss: 0.1720 - acc: 0.9372 - val_loss: 0.2576 - val_acc: 0.9074\n",
      "Epoch 28/30\n",
      "7352/7352 [==============================] - 27s 4ms/step - loss: 0.1519 - acc: 0.9472 - val_loss: 0.2406 - val_acc: 0.9094\n",
      "Epoch 29/30\n",
      "7352/7352 [==============================] - 27s 4ms/step - loss: 0.1921 - acc: 0.9305 - val_loss: 0.2264 - val_acc: 0.9121\n",
      "Epoch 30/30\n",
      "7352/7352 [==============================] - 25s 3ms/step - loss: 0.1429 - acc: 0.9468 - val_loss: 0.2532 - val_acc: 0.9070\n"
     ]
    },
    {
     "data": {
      "text/plain": [
       "<keras.callbacks.History at 0x7efc6bd1ec18>"
      ]
     },
     "execution_count": 87,
     "metadata": {
      "tags": []
     },
     "output_type": "execute_result"
    }
   ],
   "source": [
    "# Training the model\n",
    "model.fit(X_train,\n",
    "          Y_train,\n",
    "          batch_size=16,\n",
    "          validation_data=(X_test, Y_test),\n",
    "          epochs=30)"
   ]
  },
  {
   "cell_type": "code",
   "execution_count": 91,
   "metadata": {
    "colab": {
     "base_uri": "https://localhost:8080/",
     "height": 254
    },
    "colab_type": "code",
    "executionInfo": {
     "elapsed": 4027,
     "status": "ok",
     "timestamp": 1584222735535,
     "user": {
      "displayName": "Sahil -",
      "photoUrl": "",
      "userId": "14051148522636395588"
     },
     "user_tz": -330
    },
    "id": "WzmySn1G6_Sz",
    "outputId": "fc710588-ed4a-4f23-fdc1-84647a629359"
   },
   "outputs": [
    {
     "data": {
      "text/html": [
       "<div>\n",
       "<style scoped>\n",
       "    .dataframe tbody tr th:only-of-type {\n",
       "        vertical-align: middle;\n",
       "    }\n",
       "\n",
       "    .dataframe tbody tr th {\n",
       "        vertical-align: top;\n",
       "    }\n",
       "\n",
       "    .dataframe thead th {\n",
       "        text-align: right;\n",
       "    }\n",
       "</style>\n",
       "<table border=\"1\" class=\"dataframe\">\n",
       "  <thead>\n",
       "    <tr style=\"text-align: right;\">\n",
       "      <th>Pred</th>\n",
       "      <th>LAYING</th>\n",
       "      <th>SITTING</th>\n",
       "      <th>STANDING</th>\n",
       "      <th>WALKING</th>\n",
       "      <th>WALKING_DOWNSTAIRS</th>\n",
       "      <th>WALKING_UPSTAIRS</th>\n",
       "    </tr>\n",
       "    <tr>\n",
       "      <th>True</th>\n",
       "      <th></th>\n",
       "      <th></th>\n",
       "      <th></th>\n",
       "      <th></th>\n",
       "      <th></th>\n",
       "      <th></th>\n",
       "    </tr>\n",
       "  </thead>\n",
       "  <tbody>\n",
       "    <tr>\n",
       "      <th>LAYING</th>\n",
       "      <td>536</td>\n",
       "      <td>0</td>\n",
       "      <td>0</td>\n",
       "      <td>0</td>\n",
       "      <td>0</td>\n",
       "      <td>1</td>\n",
       "    </tr>\n",
       "    <tr>\n",
       "      <th>SITTING</th>\n",
       "      <td>3</td>\n",
       "      <td>419</td>\n",
       "      <td>68</td>\n",
       "      <td>1</td>\n",
       "      <td>0</td>\n",
       "      <td>0</td>\n",
       "    </tr>\n",
       "    <tr>\n",
       "      <th>STANDING</th>\n",
       "      <td>0</td>\n",
       "      <td>132</td>\n",
       "      <td>399</td>\n",
       "      <td>1</td>\n",
       "      <td>0</td>\n",
       "      <td>0</td>\n",
       "    </tr>\n",
       "    <tr>\n",
       "      <th>WALKING</th>\n",
       "      <td>0</td>\n",
       "      <td>0</td>\n",
       "      <td>0</td>\n",
       "      <td>468</td>\n",
       "      <td>8</td>\n",
       "      <td>20</td>\n",
       "    </tr>\n",
       "    <tr>\n",
       "      <th>WALKING_DOWNSTAIRS</th>\n",
       "      <td>0</td>\n",
       "      <td>0</td>\n",
       "      <td>0</td>\n",
       "      <td>0</td>\n",
       "      <td>398</td>\n",
       "      <td>22</td>\n",
       "    </tr>\n",
       "    <tr>\n",
       "      <th>WALKING_UPSTAIRS</th>\n",
       "      <td>0</td>\n",
       "      <td>0</td>\n",
       "      <td>0</td>\n",
       "      <td>18</td>\n",
       "      <td>0</td>\n",
       "      <td>453</td>\n",
       "    </tr>\n",
       "  </tbody>\n",
       "</table>\n",
       "</div>"
      ],
      "text/plain": [
       "Pred                LAYING  SITTING  ...  WALKING_DOWNSTAIRS  WALKING_UPSTAIRS\n",
       "True                                 ...                                      \n",
       "LAYING                 536        0  ...                   0                 1\n",
       "SITTING                  3      419  ...                   0                 0\n",
       "STANDING                 0      132  ...                   0                 0\n",
       "WALKING                  0        0  ...                   8                20\n",
       "WALKING_DOWNSTAIRS       0        0  ...                 398                22\n",
       "WALKING_UPSTAIRS         0        0  ...                   0               453\n",
       "\n",
       "[6 rows x 6 columns]"
      ]
     },
     "execution_count": 91,
     "metadata": {
      "tags": []
     },
     "output_type": "execute_result"
    }
   ],
   "source": [
    "# Confusion Matrix\n",
    "pd.DataFrame(confusion_matrix(Y_test, model.predict(X_test)))"
   ]
  },
  {
   "cell_type": "code",
   "execution_count": 92,
   "metadata": {
    "colab": {
     "base_uri": "https://localhost:8080/",
     "height": 50
    },
    "colab_type": "code",
    "executionInfo": {
     "elapsed": 4085,
     "status": "ok",
     "timestamp": 1584222735997,
     "user": {
      "displayName": "Sahil -",
      "photoUrl": "",
      "userId": "14051148522636395588"
     },
     "user_tz": -330
    },
    "id": "rEbP1L4i6_ZS",
    "outputId": "cc433a45-211a-4953-bedd-a5e0f8d88ebc"
   },
   "outputs": [
    {
     "name": "stdout",
     "output_type": "stream",
     "text": [
      "2947/2947 [==============================] - 1s 301us/step\n"
     ]
    },
    {
     "data": {
      "text/plain": [
       "[0.2531991467388801, 0.9070240922972514]"
      ]
     },
     "execution_count": 92,
     "metadata": {
      "tags": []
     },
     "output_type": "execute_result"
    }
   ],
   "source": [
    "score = model.evaluate(X_test, Y_test)\n",
    "score"
   ]
  },
  {
   "cell_type": "code",
   "execution_count": 0,
   "metadata": {
    "colab": {},
    "colab_type": "code",
    "id": "-z4n1AgjAuHi"
   },
   "outputs": [],
   "source": [
    "data_disp['1LSTM_16batch'] = score"
   ]
  },
  {
   "cell_type": "markdown",
   "metadata": {
    "colab_type": "text",
    "id": "TBJQJIeM5JNi"
   },
   "source": [
    "Batch Size = 32"
   ]
  },
  {
   "cell_type": "code",
   "execution_count": 97,
   "metadata": {
    "colab": {
     "base_uri": "https://localhost:8080/",
     "height": 1000
    },
    "colab_type": "code",
    "executionInfo": {
     "elapsed": 455685,
     "status": "ok",
     "timestamp": 1584223360699,
     "user": {
      "displayName": "Sahil -",
      "photoUrl": "",
      "userId": "14051148522636395588"
     },
     "user_tz": -330
    },
    "id": "0dojsag1w-Tj",
    "outputId": "3c0dcb3f-ada4-4d5a-eb5b-bca5f9066134"
   },
   "outputs": [
    {
     "name": "stdout",
     "output_type": "stream",
     "text": [
      "Train on 7352 samples, validate on 2947 samples\n",
      "Epoch 1/30\n",
      "7352/7352 [==============================] - 21s 3ms/step - loss: 1.3205 - acc: 0.4430 - val_loss: 1.2147 - val_acc: 0.4978\n",
      "Epoch 2/30\n",
      "7352/7352 [==============================] - 15s 2ms/step - loss: 1.1238 - acc: 0.5329 - val_loss: 1.0749 - val_acc: 0.5453\n",
      "Epoch 3/30\n",
      "7352/7352 [==============================] - 15s 2ms/step - loss: 0.8078 - acc: 0.6511 - val_loss: 0.7740 - val_acc: 0.6692\n",
      "Epoch 4/30\n",
      "7352/7352 [==============================] - 15s 2ms/step - loss: 0.7331 - acc: 0.6863 - val_loss: 1.0261 - val_acc: 0.6033\n",
      "Epoch 5/30\n",
      "7352/7352 [==============================] - 15s 2ms/step - loss: 1.0161 - acc: 0.6083 - val_loss: 0.9081 - val_acc: 0.6994\n",
      "Epoch 6/30\n",
      "7352/7352 [==============================] - 15s 2ms/step - loss: 0.8597 - acc: 0.6250 - val_loss: 0.8515 - val_acc: 0.6729\n",
      "Epoch 7/30\n",
      "7352/7352 [==============================] - 15s 2ms/step - loss: 0.6627 - acc: 0.7150 - val_loss: 0.6439 - val_acc: 0.7421\n",
      "Epoch 8/30\n",
      "7352/7352 [==============================] - 15s 2ms/step - loss: 0.5664 - acc: 0.7609 - val_loss: 0.7044 - val_acc: 0.7333\n",
      "Epoch 9/30\n",
      "7352/7352 [==============================] - 15s 2ms/step - loss: 0.5987 - acc: 0.7572 - val_loss: 0.6465 - val_acc: 0.7445\n",
      "Epoch 10/30\n",
      "7352/7352 [==============================] - 15s 2ms/step - loss: 0.5247 - acc: 0.8029 - val_loss: 0.5308 - val_acc: 0.8215\n",
      "Epoch 11/30\n",
      "7352/7352 [==============================] - 15s 2ms/step - loss: 0.3928 - acc: 0.8760 - val_loss: 0.5011 - val_acc: 0.8402\n",
      "Epoch 12/30\n",
      "7352/7352 [==============================] - 15s 2ms/step - loss: 0.4280 - acc: 0.8630 - val_loss: 0.4945 - val_acc: 0.8432\n",
      "Epoch 13/30\n",
      "7352/7352 [==============================] - 15s 2ms/step - loss: 0.3259 - acc: 0.8977 - val_loss: 0.5887 - val_acc: 0.8269\n",
      "Epoch 14/30\n",
      "7352/7352 [==============================] - 15s 2ms/step - loss: 0.3082 - acc: 0.9041 - val_loss: 0.5144 - val_acc: 0.8405\n",
      "Epoch 15/30\n",
      "7352/7352 [==============================] - 15s 2ms/step - loss: 0.3218 - acc: 0.8936 - val_loss: 0.4950 - val_acc: 0.8571\n",
      "Epoch 16/30\n",
      "7352/7352 [==============================] - 15s 2ms/step - loss: 0.2495 - acc: 0.9251 - val_loss: 0.4307 - val_acc: 0.8806\n",
      "Epoch 17/30\n",
      "7352/7352 [==============================] - 15s 2ms/step - loss: 0.5453 - acc: 0.8020 - val_loss: 0.4877 - val_acc: 0.8208\n",
      "Epoch 18/30\n",
      "7352/7352 [==============================] - 15s 2ms/step - loss: 0.3110 - acc: 0.8954 - val_loss: 0.4042 - val_acc: 0.8575\n",
      "Epoch 19/30\n",
      "7352/7352 [==============================] - 15s 2ms/step - loss: 0.2791 - acc: 0.9157 - val_loss: 0.3172 - val_acc: 0.8806\n",
      "Epoch 20/30\n",
      "7352/7352 [==============================] - 15s 2ms/step - loss: 0.2350 - acc: 0.9223 - val_loss: 0.3113 - val_acc: 0.8884\n",
      "Epoch 21/30\n",
      "7352/7352 [==============================] - 15s 2ms/step - loss: 0.2125 - acc: 0.9312 - val_loss: 0.6161 - val_acc: 0.7974\n",
      "Epoch 22/30\n",
      "7352/7352 [==============================] - 15s 2ms/step - loss: 0.3654 - acc: 0.8709 - val_loss: 0.3378 - val_acc: 0.8816\n",
      "Epoch 23/30\n",
      "7352/7352 [==============================] - 15s 2ms/step - loss: 0.2110 - acc: 0.9280 - val_loss: 0.3453 - val_acc: 0.8945\n",
      "Epoch 24/30\n",
      "7352/7352 [==============================] - 15s 2ms/step - loss: 0.1825 - acc: 0.9353 - val_loss: 0.3545 - val_acc: 0.8914\n",
      "Epoch 25/30\n",
      "7352/7352 [==============================] - 15s 2ms/step - loss: 0.1703 - acc: 0.9395 - val_loss: 0.2707 - val_acc: 0.9030\n",
      "Epoch 26/30\n",
      "7352/7352 [==============================] - 15s 2ms/step - loss: 0.1614 - acc: 0.9407 - val_loss: 0.2702 - val_acc: 0.9050\n",
      "Epoch 27/30\n",
      "7352/7352 [==============================] - 15s 2ms/step - loss: 0.1544 - acc: 0.9434 - val_loss: 0.2627 - val_acc: 0.9141\n",
      "Epoch 28/30\n",
      "7352/7352 [==============================] - 15s 2ms/step - loss: 0.1592 - acc: 0.9430 - val_loss: 0.4744 - val_acc: 0.8711\n",
      "Epoch 29/30\n",
      "7352/7352 [==============================] - 15s 2ms/step - loss: 0.1813 - acc: 0.9403 - val_loss: 0.3523 - val_acc: 0.8945\n",
      "Epoch 30/30\n",
      "7352/7352 [==============================] - 14s 2ms/step - loss: 0.2280 - acc: 0.9162 - val_loss: 0.3189 - val_acc: 0.8809\n"
     ]
    },
    {
     "data": {
      "text/plain": [
       "<keras.callbacks.History at 0x7efc6b16ada0>"
      ]
     },
     "execution_count": 97,
     "metadata": {
      "tags": []
     },
     "output_type": "execute_result"
    }
   ],
   "source": [
    "# Training the model\n",
    "model.fit(X_train,\n",
    "          Y_train,\n",
    "          batch_size=32,\n",
    "          validation_data=(X_test, Y_test),\n",
    "          epochs=30)"
   ]
  },
  {
   "cell_type": "code",
   "execution_count": 98,
   "metadata": {
    "colab": {
     "base_uri": "https://localhost:8080/",
     "height": 254
    },
    "colab_type": "code",
    "executionInfo": {
     "elapsed": 5874,
     "status": "ok",
     "timestamp": 1584223368810,
     "user": {
      "displayName": "Sahil -",
      "photoUrl": "",
      "userId": "14051148522636395588"
     },
     "user_tz": -330
    },
    "id": "tkXXPvRiw-V1",
    "outputId": "fbe1d2eb-29e3-4701-8637-48b704b8b85c"
   },
   "outputs": [
    {
     "data": {
      "text/html": [
       "<div>\n",
       "<style scoped>\n",
       "    .dataframe tbody tr th:only-of-type {\n",
       "        vertical-align: middle;\n",
       "    }\n",
       "\n",
       "    .dataframe tbody tr th {\n",
       "        vertical-align: top;\n",
       "    }\n",
       "\n",
       "    .dataframe thead th {\n",
       "        text-align: right;\n",
       "    }\n",
       "</style>\n",
       "<table border=\"1\" class=\"dataframe\">\n",
       "  <thead>\n",
       "    <tr style=\"text-align: right;\">\n",
       "      <th>Pred</th>\n",
       "      <th>LAYING</th>\n",
       "      <th>SITTING</th>\n",
       "      <th>STANDING</th>\n",
       "      <th>WALKING</th>\n",
       "      <th>WALKING_DOWNSTAIRS</th>\n",
       "      <th>WALKING_UPSTAIRS</th>\n",
       "    </tr>\n",
       "    <tr>\n",
       "      <th>True</th>\n",
       "      <th></th>\n",
       "      <th></th>\n",
       "      <th></th>\n",
       "      <th></th>\n",
       "      <th></th>\n",
       "      <th></th>\n",
       "    </tr>\n",
       "  </thead>\n",
       "  <tbody>\n",
       "    <tr>\n",
       "      <th>LAYING</th>\n",
       "      <td>518</td>\n",
       "      <td>0</td>\n",
       "      <td>0</td>\n",
       "      <td>16</td>\n",
       "      <td>0</td>\n",
       "      <td>3</td>\n",
       "    </tr>\n",
       "    <tr>\n",
       "      <th>SITTING</th>\n",
       "      <td>2</td>\n",
       "      <td>313</td>\n",
       "      <td>173</td>\n",
       "      <td>0</td>\n",
       "      <td>0</td>\n",
       "      <td>3</td>\n",
       "    </tr>\n",
       "    <tr>\n",
       "      <th>STANDING</th>\n",
       "      <td>0</td>\n",
       "      <td>39</td>\n",
       "      <td>491</td>\n",
       "      <td>2</td>\n",
       "      <td>0</td>\n",
       "      <td>0</td>\n",
       "    </tr>\n",
       "    <tr>\n",
       "      <th>WALKING</th>\n",
       "      <td>0</td>\n",
       "      <td>2</td>\n",
       "      <td>18</td>\n",
       "      <td>441</td>\n",
       "      <td>9</td>\n",
       "      <td>26</td>\n",
       "    </tr>\n",
       "    <tr>\n",
       "      <th>WALKING_DOWNSTAIRS</th>\n",
       "      <td>0</td>\n",
       "      <td>0</td>\n",
       "      <td>0</td>\n",
       "      <td>1</td>\n",
       "      <td>379</td>\n",
       "      <td>40</td>\n",
       "    </tr>\n",
       "    <tr>\n",
       "      <th>WALKING_UPSTAIRS</th>\n",
       "      <td>0</td>\n",
       "      <td>0</td>\n",
       "      <td>0</td>\n",
       "      <td>14</td>\n",
       "      <td>3</td>\n",
       "      <td>454</td>\n",
       "    </tr>\n",
       "  </tbody>\n",
       "</table>\n",
       "</div>"
      ],
      "text/plain": [
       "Pred                LAYING  SITTING  ...  WALKING_DOWNSTAIRS  WALKING_UPSTAIRS\n",
       "True                                 ...                                      \n",
       "LAYING                 518        0  ...                   0                 3\n",
       "SITTING                  2      313  ...                   0                 3\n",
       "STANDING                 0       39  ...                   0                 0\n",
       "WALKING                  0        2  ...                   9                26\n",
       "WALKING_DOWNSTAIRS       0        0  ...                 379                40\n",
       "WALKING_UPSTAIRS         0        0  ...                   3               454\n",
       "\n",
       "[6 rows x 6 columns]"
      ]
     },
     "execution_count": 98,
     "metadata": {
      "tags": []
     },
     "output_type": "execute_result"
    }
   ],
   "source": [
    "# Confusion Matrix\n",
    "pd.DataFrame(confusion_matrix(Y_test, model.predict(X_test)))"
   ]
  },
  {
   "cell_type": "code",
   "execution_count": 99,
   "metadata": {
    "colab": {
     "base_uri": "https://localhost:8080/",
     "height": 50
    },
    "colab_type": "code",
    "executionInfo": {
     "elapsed": 4082,
     "status": "ok",
     "timestamp": 1584223368811,
     "user": {
      "displayName": "Sahil -",
      "photoUrl": "",
      "userId": "14051148522636395588"
     },
     "user_tz": -330
    },
    "id": "-3qxDLPQw-Y-",
    "outputId": "f271cd92-0092-40f0-f3d6-a7fb4e3219f1"
   },
   "outputs": [
    {
     "name": "stdout",
     "output_type": "stream",
     "text": [
      "2947/2947 [==============================] - 1s 319us/step\n"
     ]
    },
    {
     "data": {
      "text/plain": [
       "[0.31892726644301617, 0.8808958262639973]"
      ]
     },
     "execution_count": 99,
     "metadata": {
      "tags": []
     },
     "output_type": "execute_result"
    }
   ],
   "source": [
    "score = model.evaluate(X_test, Y_test)\n",
    "score"
   ]
  },
  {
   "cell_type": "code",
   "execution_count": 0,
   "metadata": {
    "colab": {},
    "colab_type": "code",
    "id": "jT9ZnacqCzM8"
   },
   "outputs": [],
   "source": [
    "data_disp['1LSTM_32batch'] = score"
   ]
  },
  {
   "cell_type": "markdown",
   "metadata": {
    "colab_type": "text",
    "id": "lJ6lnX9a2AIC"
   },
   "source": [
    "One LSTM + Dropout(30%)"
   ]
  },
  {
   "cell_type": "code",
   "execution_count": 115,
   "metadata": {
    "colab": {
     "base_uri": "https://localhost:8080/",
     "height": 252
    },
    "colab_type": "code",
    "executionInfo": {
     "elapsed": 1472,
     "status": "ok",
     "timestamp": 1584225907780,
     "user": {
      "displayName": "Sahil -",
      "photoUrl": "",
      "userId": "14051148522636395588"
     },
     "user_tz": -330
    },
    "id": "LVTxw69LxIiQ",
    "outputId": "860f90d6-93bb-4ecf-d3d9-67ee05af24ad"
   },
   "outputs": [
    {
     "name": "stdout",
     "output_type": "stream",
     "text": [
      "Model: \"sequential_36\"\n",
      "_________________________________________________________________\n",
      "Layer (type)                 Output Shape              Param #   \n",
      "=================================================================\n",
      "lstm_57 (LSTM)               (None, 36)                6624      \n",
      "_________________________________________________________________\n",
      "dropout_56 (Dropout)         (None, 36)                0         \n",
      "_________________________________________________________________\n",
      "dense_37 (Dense)             (None, 6)                 222       \n",
      "=================================================================\n",
      "Total params: 6,846\n",
      "Trainable params: 6,846\n",
      "Non-trainable params: 0\n",
      "_________________________________________________________________\n"
     ]
    }
   ],
   "source": [
    "# Initiliazing the sequential model\n",
    "model = Sequential()\n",
    "# Configuring the parameters\n",
    "model.add(LSTM(36, input_shape=(timesteps, input_dim)))\n",
    "# Adding a dropout layer\n",
    "model.add(Dropout(0.3))\n",
    "\n",
    "# Adding a dense output layer with sigmoid activation\n",
    "model.add(Dense(n_classes, activation='softmax'))\n",
    "# Compiling the model\n",
    "model.compile(loss='categorical_crossentropy',\n",
    "              optimizer='adam',\n",
    "              metrics=['accuracy'])\n",
    "model.summary()"
   ]
  },
  {
   "cell_type": "markdown",
   "metadata": {
    "colab_type": "text",
    "id": "9xJm4nAOEtd3"
   },
   "source": [
    "Batch Size = 8"
   ]
  },
  {
   "cell_type": "code",
   "execution_count": 102,
   "metadata": {
    "colab": {
     "base_uri": "https://localhost:8080/",
     "height": 1000
    },
    "colab_type": "code",
    "executionInfo": {
     "elapsed": 1491269,
     "status": "ok",
     "timestamp": 1584224964404,
     "user": {
      "displayName": "Sahil -",
      "photoUrl": "",
      "userId": "14051148522636395588"
     },
     "user_tz": -330
    },
    "id": "hojJSyi4xIlk",
    "outputId": "d364810f-1aad-451f-f9be-f12c3a455a14"
   },
   "outputs": [
    {
     "name": "stdout",
     "output_type": "stream",
     "text": [
      "Train on 7352 samples, validate on 2947 samples\n",
      "Epoch 1/30\n",
      "7352/7352 [==============================] - 56s 8ms/step - loss: 1.0537 - acc: 0.5699 - val_loss: 0.8030 - val_acc: 0.6885\n",
      "Epoch 2/30\n",
      "7352/7352 [==============================] - 49s 7ms/step - loss: 0.6486 - acc: 0.7432 - val_loss: 0.8288 - val_acc: 0.6529\n",
      "Epoch 3/30\n",
      "7352/7352 [==============================] - 49s 7ms/step - loss: 0.5803 - acc: 0.7854 - val_loss: 0.6177 - val_acc: 0.7662\n",
      "Epoch 4/30\n",
      "7352/7352 [==============================] - 47s 6ms/step - loss: 0.5569 - acc: 0.8096 - val_loss: 0.5205 - val_acc: 0.8073\n",
      "Epoch 5/30\n",
      "7352/7352 [==============================] - 47s 6ms/step - loss: 0.3660 - acc: 0.8769 - val_loss: 0.4147 - val_acc: 0.8419\n",
      "Epoch 6/30\n",
      "7352/7352 [==============================] - 48s 7ms/step - loss: 0.2758 - acc: 0.9108 - val_loss: 0.3430 - val_acc: 0.8863\n",
      "Epoch 7/30\n",
      "7352/7352 [==============================] - 47s 6ms/step - loss: 0.2342 - acc: 0.9206 - val_loss: 0.3304 - val_acc: 0.8843\n",
      "Epoch 8/30\n",
      "7352/7352 [==============================] - 47s 6ms/step - loss: 0.1958 - acc: 0.9306 - val_loss: 0.3789 - val_acc: 0.8965\n",
      "Epoch 9/30\n",
      "7352/7352 [==============================] - 49s 7ms/step - loss: 0.2084 - acc: 0.9242 - val_loss: 0.2948 - val_acc: 0.8938\n",
      "Epoch 10/30\n",
      "7352/7352 [==============================] - 49s 7ms/step - loss: 0.2510 - acc: 0.9089 - val_loss: 0.6476 - val_acc: 0.7693\n",
      "Epoch 11/30\n",
      "7352/7352 [==============================] - 49s 7ms/step - loss: 0.2057 - acc: 0.9252 - val_loss: 0.2828 - val_acc: 0.9009\n",
      "Epoch 12/30\n",
      "7352/7352 [==============================] - 50s 7ms/step - loss: 0.2548 - acc: 0.9158 - val_loss: 0.3224 - val_acc: 0.8951\n",
      "Epoch 13/30\n",
      "7352/7352 [==============================] - 51s 7ms/step - loss: 0.1888 - acc: 0.9344 - val_loss: 0.2692 - val_acc: 0.9026\n",
      "Epoch 14/30\n",
      "7352/7352 [==============================] - 50s 7ms/step - loss: 0.1650 - acc: 0.9370 - val_loss: 0.2790 - val_acc: 0.8982\n",
      "Epoch 15/30\n",
      "7352/7352 [==============================] - 50s 7ms/step - loss: 0.1571 - acc: 0.9373 - val_loss: 0.2593 - val_acc: 0.9128\n",
      "Epoch 16/30\n",
      "7352/7352 [==============================] - 50s 7ms/step - loss: 0.2064 - acc: 0.9241 - val_loss: 0.2450 - val_acc: 0.9125\n",
      "Epoch 17/30\n",
      "7352/7352 [==============================] - 50s 7ms/step - loss: 0.1707 - acc: 0.9388 - val_loss: 0.2976 - val_acc: 0.8924\n",
      "Epoch 18/30\n",
      "7352/7352 [==============================] - 50s 7ms/step - loss: 0.1573 - acc: 0.9407 - val_loss: 0.3190 - val_acc: 0.8951\n",
      "Epoch 19/30\n",
      "7352/7352 [==============================] - 50s 7ms/step - loss: 0.1459 - acc: 0.9421 - val_loss: 0.2751 - val_acc: 0.9155\n",
      "Epoch 20/30\n",
      "7352/7352 [==============================] - 50s 7ms/step - loss: 0.1399 - acc: 0.9441 - val_loss: 0.3108 - val_acc: 0.9097\n",
      "Epoch 21/30\n",
      "7352/7352 [==============================] - 48s 7ms/step - loss: 0.1383 - acc: 0.9471 - val_loss: 0.2170 - val_acc: 0.9179\n",
      "Epoch 22/30\n",
      "7352/7352 [==============================] - 51s 7ms/step - loss: 0.1793 - acc: 0.9376 - val_loss: 0.2185 - val_acc: 0.9196\n",
      "Epoch 23/30\n",
      "7352/7352 [==============================] - 50s 7ms/step - loss: 0.1519 - acc: 0.9450 - val_loss: 0.2252 - val_acc: 0.9155\n",
      "Epoch 24/30\n",
      "7352/7352 [==============================] - 51s 7ms/step - loss: 0.1500 - acc: 0.9450 - val_loss: 0.2066 - val_acc: 0.9281\n",
      "Epoch 25/30\n",
      "7352/7352 [==============================] - 50s 7ms/step - loss: 0.1414 - acc: 0.9463 - val_loss: 0.2753 - val_acc: 0.9019\n",
      "Epoch 26/30\n",
      "7352/7352 [==============================] - 50s 7ms/step - loss: 0.1571 - acc: 0.9387 - val_loss: 0.2424 - val_acc: 0.9128\n",
      "Epoch 27/30\n",
      "7352/7352 [==============================] - 50s 7ms/step - loss: 0.1487 - acc: 0.9397 - val_loss: 0.2221 - val_acc: 0.9213\n",
      "Epoch 28/30\n",
      "7352/7352 [==============================] - 50s 7ms/step - loss: 0.1359 - acc: 0.9426 - val_loss: 0.2421 - val_acc: 0.9196\n",
      "Epoch 29/30\n",
      "7352/7352 [==============================] - 49s 7ms/step - loss: 0.1220 - acc: 0.9465 - val_loss: 0.2809 - val_acc: 0.8982\n",
      "Epoch 30/30\n",
      "7352/7352 [==============================] - 49s 7ms/step - loss: 0.1397 - acc: 0.9450 - val_loss: 0.2564 - val_acc: 0.9050\n"
     ]
    },
    {
     "data": {
      "text/plain": [
       "<keras.callbacks.History at 0x7efc6b12fd68>"
      ]
     },
     "execution_count": 102,
     "metadata": {
      "tags": []
     },
     "output_type": "execute_result"
    }
   ],
   "source": [
    "# Training the model\n",
    "model.fit(X_train,\n",
    "          Y_train,\n",
    "          batch_size=8,\n",
    "          validation_data=(X_test, Y_test),\n",
    "          epochs=30)"
   ]
  },
  {
   "cell_type": "code",
   "execution_count": 103,
   "metadata": {
    "colab": {
     "base_uri": "https://localhost:8080/",
     "height": 254
    },
    "colab_type": "code",
    "executionInfo": {
     "elapsed": 4468,
     "status": "ok",
     "timestamp": 1584224977942,
     "user": {
      "displayName": "Sahil -",
      "photoUrl": "",
      "userId": "14051148522636395588"
     },
     "user_tz": -330
    },
    "id": "qVlTdSa5E9uF",
    "outputId": "f84eb29a-5592-4a99-c15f-4ee20b34edbb"
   },
   "outputs": [
    {
     "data": {
      "text/html": [
       "<div>\n",
       "<style scoped>\n",
       "    .dataframe tbody tr th:only-of-type {\n",
       "        vertical-align: middle;\n",
       "    }\n",
       "\n",
       "    .dataframe tbody tr th {\n",
       "        vertical-align: top;\n",
       "    }\n",
       "\n",
       "    .dataframe thead th {\n",
       "        text-align: right;\n",
       "    }\n",
       "</style>\n",
       "<table border=\"1\" class=\"dataframe\">\n",
       "  <thead>\n",
       "    <tr style=\"text-align: right;\">\n",
       "      <th>Pred</th>\n",
       "      <th>LAYING</th>\n",
       "      <th>SITTING</th>\n",
       "      <th>STANDING</th>\n",
       "      <th>WALKING</th>\n",
       "      <th>WALKING_DOWNSTAIRS</th>\n",
       "      <th>WALKING_UPSTAIRS</th>\n",
       "    </tr>\n",
       "    <tr>\n",
       "      <th>True</th>\n",
       "      <th></th>\n",
       "      <th></th>\n",
       "      <th></th>\n",
       "      <th></th>\n",
       "      <th></th>\n",
       "      <th></th>\n",
       "    </tr>\n",
       "  </thead>\n",
       "  <tbody>\n",
       "    <tr>\n",
       "      <th>LAYING</th>\n",
       "      <td>517</td>\n",
       "      <td>0</td>\n",
       "      <td>0</td>\n",
       "      <td>0</td>\n",
       "      <td>0</td>\n",
       "      <td>20</td>\n",
       "    </tr>\n",
       "    <tr>\n",
       "      <th>SITTING</th>\n",
       "      <td>0</td>\n",
       "      <td>376</td>\n",
       "      <td>107</td>\n",
       "      <td>1</td>\n",
       "      <td>0</td>\n",
       "      <td>7</td>\n",
       "    </tr>\n",
       "    <tr>\n",
       "      <th>STANDING</th>\n",
       "      <td>0</td>\n",
       "      <td>96</td>\n",
       "      <td>430</td>\n",
       "      <td>3</td>\n",
       "      <td>0</td>\n",
       "      <td>3</td>\n",
       "    </tr>\n",
       "    <tr>\n",
       "      <th>WALKING</th>\n",
       "      <td>0</td>\n",
       "      <td>0</td>\n",
       "      <td>0</td>\n",
       "      <td>460</td>\n",
       "      <td>12</td>\n",
       "      <td>24</td>\n",
       "    </tr>\n",
       "    <tr>\n",
       "      <th>WALKING_DOWNSTAIRS</th>\n",
       "      <td>0</td>\n",
       "      <td>0</td>\n",
       "      <td>0</td>\n",
       "      <td>0</td>\n",
       "      <td>415</td>\n",
       "      <td>5</td>\n",
       "    </tr>\n",
       "    <tr>\n",
       "      <th>WALKING_UPSTAIRS</th>\n",
       "      <td>0</td>\n",
       "      <td>0</td>\n",
       "      <td>0</td>\n",
       "      <td>2</td>\n",
       "      <td>0</td>\n",
       "      <td>469</td>\n",
       "    </tr>\n",
       "  </tbody>\n",
       "</table>\n",
       "</div>"
      ],
      "text/plain": [
       "Pred                LAYING  SITTING  ...  WALKING_DOWNSTAIRS  WALKING_UPSTAIRS\n",
       "True                                 ...                                      \n",
       "LAYING                 517        0  ...                   0                20\n",
       "SITTING                  0      376  ...                   0                 7\n",
       "STANDING                 0       96  ...                   0                 3\n",
       "WALKING                  0        0  ...                  12                24\n",
       "WALKING_DOWNSTAIRS       0        0  ...                 415                 5\n",
       "WALKING_UPSTAIRS         0        0  ...                   0               469\n",
       "\n",
       "[6 rows x 6 columns]"
      ]
     },
     "execution_count": 103,
     "metadata": {
      "tags": []
     },
     "output_type": "execute_result"
    }
   ],
   "source": [
    "# Confusion Matrix\n",
    "pd.DataFrame(confusion_matrix(Y_test, model.predict(X_test)))"
   ]
  },
  {
   "cell_type": "code",
   "execution_count": 104,
   "metadata": {
    "colab": {
     "base_uri": "https://localhost:8080/",
     "height": 50
    },
    "colab_type": "code",
    "executionInfo": {
     "elapsed": 1869,
     "status": "ok",
     "timestamp": 1584224978406,
     "user": {
      "displayName": "Sahil -",
      "photoUrl": "",
      "userId": "14051148522636395588"
     },
     "user_tz": -330
    },
    "id": "ou3zJpQXE9w7",
    "outputId": "7f196b0d-948d-444e-e741-a5bc940c6f4b"
   },
   "outputs": [
    {
     "name": "stdout",
     "output_type": "stream",
     "text": [
      "2947/2947 [==============================] - 1s 319us/step\n"
     ]
    },
    {
     "data": {
      "text/plain": [
       "[0.25635178967629957, 0.9049881235154394]"
      ]
     },
     "execution_count": 104,
     "metadata": {
      "tags": []
     },
     "output_type": "execute_result"
    }
   ],
   "source": [
    "score = model.evaluate(X_test, Y_test)\n",
    "score"
   ]
  },
  {
   "cell_type": "code",
   "execution_count": 0,
   "metadata": {
    "colab": {},
    "colab_type": "code",
    "id": "aUhhZx8zE9zW"
   },
   "outputs": [],
   "source": [
    "data_disp['1LSTM_Drop3_8batch'] = score"
   ]
  },
  {
   "cell_type": "markdown",
   "metadata": {
    "colab_type": "text",
    "id": "lBNU8Jh0OMaS"
   },
   "source": [
    "Batch size = 16"
   ]
  },
  {
   "cell_type": "code",
   "execution_count": 116,
   "metadata": {
    "colab": {
     "base_uri": "https://localhost:8080/",
     "height": 1000
    },
    "colab_type": "code",
    "executionInfo": {
     "elapsed": 704735,
     "status": "ok",
     "timestamp": 1584226620274,
     "user": {
      "displayName": "Sahil -",
      "photoUrl": "",
      "userId": "14051148522636395588"
     },
     "user_tz": -330
    },
    "id": "mx4LerW3KvpU",
    "outputId": "30ff2aea-4042-4567-8b22-8db340c77036"
   },
   "outputs": [
    {
     "name": "stdout",
     "output_type": "stream",
     "text": [
      "Train on 7352 samples, validate on 2947 samples\n",
      "Epoch 1/30\n",
      "7352/7352 [==============================] - 33s 4ms/step - loss: 1.2467 - acc: 0.4747 - val_loss: 1.2240 - val_acc: 0.5039\n",
      "Epoch 2/30\n",
      "7352/7352 [==============================] - 22s 3ms/step - loss: 0.8625 - acc: 0.6167 - val_loss: 0.8223 - val_acc: 0.6563\n",
      "Epoch 3/30\n",
      "7352/7352 [==============================] - 23s 3ms/step - loss: 0.6891 - acc: 0.7261 - val_loss: 0.6678 - val_acc: 0.7499\n",
      "Epoch 4/30\n",
      "7352/7352 [==============================] - 22s 3ms/step - loss: 0.5248 - acc: 0.8067 - val_loss: 0.5243 - val_acc: 0.8263\n",
      "Epoch 5/30\n",
      "7352/7352 [==============================] - 22s 3ms/step - loss: 0.3606 - acc: 0.8796 - val_loss: 0.4909 - val_acc: 0.8381\n",
      "Epoch 6/30\n",
      "7352/7352 [==============================] - 23s 3ms/step - loss: 0.2804 - acc: 0.9097 - val_loss: 0.3792 - val_acc: 0.8772\n",
      "Epoch 7/30\n",
      "7352/7352 [==============================] - 23s 3ms/step - loss: 0.2696 - acc: 0.9076 - val_loss: 0.3739 - val_acc: 0.8809\n",
      "Epoch 8/30\n",
      "7352/7352 [==============================] - 23s 3ms/step - loss: 0.3297 - acc: 0.8864 - val_loss: 0.3817 - val_acc: 0.8826\n",
      "Epoch 9/30\n",
      "7352/7352 [==============================] - 23s 3ms/step - loss: 0.2932 - acc: 0.9042 - val_loss: 0.3905 - val_acc: 0.8687\n",
      "Epoch 10/30\n",
      "7352/7352 [==============================] - 24s 3ms/step - loss: 0.1986 - acc: 0.9343 - val_loss: 0.2968 - val_acc: 0.8941\n",
      "Epoch 11/30\n",
      "7352/7352 [==============================] - 23s 3ms/step - loss: 0.1901 - acc: 0.9368 - val_loss: 0.2901 - val_acc: 0.9009\n",
      "Epoch 12/30\n",
      "7352/7352 [==============================] - 24s 3ms/step - loss: 0.1905 - acc: 0.9363 - val_loss: 0.3157 - val_acc: 0.9006\n",
      "Epoch 13/30\n",
      "7352/7352 [==============================] - 24s 3ms/step - loss: 0.1821 - acc: 0.9382 - val_loss: 0.3745 - val_acc: 0.8799\n",
      "Epoch 14/30\n",
      "7352/7352 [==============================] - 24s 3ms/step - loss: 0.1832 - acc: 0.9372 - val_loss: 0.2723 - val_acc: 0.9033\n",
      "Epoch 15/30\n",
      "7352/7352 [==============================] - 24s 3ms/step - loss: 0.1698 - acc: 0.9402 - val_loss: 0.2725 - val_acc: 0.9060\n",
      "Epoch 16/30\n",
      "7352/7352 [==============================] - 24s 3ms/step - loss: 0.1674 - acc: 0.9404 - val_loss: 0.3261 - val_acc: 0.8877\n",
      "Epoch 17/30\n",
      "7352/7352 [==============================] - 24s 3ms/step - loss: 0.1554 - acc: 0.9461 - val_loss: 0.2485 - val_acc: 0.9067\n",
      "Epoch 18/30\n",
      "7352/7352 [==============================] - 24s 3ms/step - loss: 0.1611 - acc: 0.9396 - val_loss: 0.2834 - val_acc: 0.8975\n",
      "Epoch 19/30\n",
      "7352/7352 [==============================] - 24s 3ms/step - loss: 0.1547 - acc: 0.9426 - val_loss: 0.2568 - val_acc: 0.9053\n",
      "Epoch 20/30\n",
      "7352/7352 [==============================] - 24s 3ms/step - loss: 0.1544 - acc: 0.9392 - val_loss: 0.3188 - val_acc: 0.8816\n",
      "Epoch 21/30\n",
      "7352/7352 [==============================] - 24s 3ms/step - loss: 0.1677 - acc: 0.9373 - val_loss: 0.2678 - val_acc: 0.8941\n",
      "Epoch 22/30\n",
      "7352/7352 [==============================] - 23s 3ms/step - loss: 0.1285 - acc: 0.9479 - val_loss: 0.2186 - val_acc: 0.9138\n",
      "Epoch 23/30\n",
      "7352/7352 [==============================] - 23s 3ms/step - loss: 0.1400 - acc: 0.9440 - val_loss: 0.2465 - val_acc: 0.9057\n",
      "Epoch 24/30\n",
      "7352/7352 [==============================] - 23s 3ms/step - loss: 0.1372 - acc: 0.9461 - val_loss: 0.2293 - val_acc: 0.9155\n",
      "Epoch 25/30\n",
      "7352/7352 [==============================] - 22s 3ms/step - loss: 0.1319 - acc: 0.9497 - val_loss: 0.2389 - val_acc: 0.9125\n",
      "Epoch 26/30\n",
      "7352/7352 [==============================] - 22s 3ms/step - loss: 0.1251 - acc: 0.9510 - val_loss: 0.2390 - val_acc: 0.9101\n",
      "Epoch 27/30\n",
      "7352/7352 [==============================] - 22s 3ms/step - loss: 0.1224 - acc: 0.9501 - val_loss: 0.3166 - val_acc: 0.9026\n",
      "Epoch 28/30\n",
      "7352/7352 [==============================] - 22s 3ms/step - loss: 0.1796 - acc: 0.9376 - val_loss: 0.5431 - val_acc: 0.8151\n",
      "Epoch 29/30\n",
      "7352/7352 [==============================] - 22s 3ms/step - loss: 0.2016 - acc: 0.9293 - val_loss: 0.2899 - val_acc: 0.9013\n",
      "Epoch 30/30\n",
      "7352/7352 [==============================] - 22s 3ms/step - loss: 0.1243 - acc: 0.9465 - val_loss: 0.3718 - val_acc: 0.8948\n"
     ]
    },
    {
     "data": {
      "text/plain": [
       "<keras.callbacks.History at 0x7efc6a6c8e80>"
      ]
     },
     "execution_count": 116,
     "metadata": {
      "tags": []
     },
     "output_type": "execute_result"
    }
   ],
   "source": [
    "# Training the model\n",
    "model.fit(X_train,\n",
    "          Y_train,\n",
    "          batch_size=16,\n",
    "          validation_data=(X_test, Y_test),\n",
    "          epochs=30)"
   ]
  },
  {
   "cell_type": "code",
   "execution_count": 117,
   "metadata": {
    "colab": {
     "base_uri": "https://localhost:8080/",
     "height": 254
    },
    "colab_type": "code",
    "executionInfo": {
     "elapsed": 5001,
     "status": "ok",
     "timestamp": 1584226773564,
     "user": {
      "displayName": "Sahil -",
      "photoUrl": "",
      "userId": "14051148522636395588"
     },
     "user_tz": -330
    },
    "id": "EjMXkxcyKv0W",
    "outputId": "84a88606-5566-449f-e369-00997bac7d31"
   },
   "outputs": [
    {
     "data": {
      "text/html": [
       "<div>\n",
       "<style scoped>\n",
       "    .dataframe tbody tr th:only-of-type {\n",
       "        vertical-align: middle;\n",
       "    }\n",
       "\n",
       "    .dataframe tbody tr th {\n",
       "        vertical-align: top;\n",
       "    }\n",
       "\n",
       "    .dataframe thead th {\n",
       "        text-align: right;\n",
       "    }\n",
       "</style>\n",
       "<table border=\"1\" class=\"dataframe\">\n",
       "  <thead>\n",
       "    <tr style=\"text-align: right;\">\n",
       "      <th>Pred</th>\n",
       "      <th>LAYING</th>\n",
       "      <th>SITTING</th>\n",
       "      <th>STANDING</th>\n",
       "      <th>WALKING</th>\n",
       "      <th>WALKING_DOWNSTAIRS</th>\n",
       "      <th>WALKING_UPSTAIRS</th>\n",
       "    </tr>\n",
       "    <tr>\n",
       "      <th>True</th>\n",
       "      <th></th>\n",
       "      <th></th>\n",
       "      <th></th>\n",
       "      <th></th>\n",
       "      <th></th>\n",
       "      <th></th>\n",
       "    </tr>\n",
       "  </thead>\n",
       "  <tbody>\n",
       "    <tr>\n",
       "      <th>LAYING</th>\n",
       "      <td>536</td>\n",
       "      <td>0</td>\n",
       "      <td>1</td>\n",
       "      <td>0</td>\n",
       "      <td>0</td>\n",
       "      <td>0</td>\n",
       "    </tr>\n",
       "    <tr>\n",
       "      <th>SITTING</th>\n",
       "      <td>0</td>\n",
       "      <td>385</td>\n",
       "      <td>102</td>\n",
       "      <td>1</td>\n",
       "      <td>0</td>\n",
       "      <td>3</td>\n",
       "    </tr>\n",
       "    <tr>\n",
       "      <th>STANDING</th>\n",
       "      <td>0</td>\n",
       "      <td>99</td>\n",
       "      <td>424</td>\n",
       "      <td>9</td>\n",
       "      <td>0</td>\n",
       "      <td>0</td>\n",
       "    </tr>\n",
       "    <tr>\n",
       "      <th>WALKING</th>\n",
       "      <td>0</td>\n",
       "      <td>0</td>\n",
       "      <td>0</td>\n",
       "      <td>467</td>\n",
       "      <td>24</td>\n",
       "      <td>5</td>\n",
       "    </tr>\n",
       "    <tr>\n",
       "      <th>WALKING_DOWNSTAIRS</th>\n",
       "      <td>0</td>\n",
       "      <td>0</td>\n",
       "      <td>0</td>\n",
       "      <td>2</td>\n",
       "      <td>418</td>\n",
       "      <td>0</td>\n",
       "    </tr>\n",
       "    <tr>\n",
       "      <th>WALKING_UPSTAIRS</th>\n",
       "      <td>0</td>\n",
       "      <td>0</td>\n",
       "      <td>0</td>\n",
       "      <td>23</td>\n",
       "      <td>41</td>\n",
       "      <td>407</td>\n",
       "    </tr>\n",
       "  </tbody>\n",
       "</table>\n",
       "</div>"
      ],
      "text/plain": [
       "Pred                LAYING  SITTING  ...  WALKING_DOWNSTAIRS  WALKING_UPSTAIRS\n",
       "True                                 ...                                      \n",
       "LAYING                 536        0  ...                   0                 0\n",
       "SITTING                  0      385  ...                   0                 3\n",
       "STANDING                 0       99  ...                   0                 0\n",
       "WALKING                  0        0  ...                  24                 5\n",
       "WALKING_DOWNSTAIRS       0        0  ...                 418                 0\n",
       "WALKING_UPSTAIRS         0        0  ...                  41               407\n",
       "\n",
       "[6 rows x 6 columns]"
      ]
     },
     "execution_count": 117,
     "metadata": {
      "tags": []
     },
     "output_type": "execute_result"
    }
   ],
   "source": [
    "# Confusion Matrix\n",
    "pd.DataFrame(confusion_matrix(Y_test, model.predict(X_test)))"
   ]
  },
  {
   "cell_type": "code",
   "execution_count": 118,
   "metadata": {
    "colab": {
     "base_uri": "https://localhost:8080/",
     "height": 50
    },
    "colab_type": "code",
    "executionInfo": {
     "elapsed": 4992,
     "status": "ok",
     "timestamp": 1584226774060,
     "user": {
      "displayName": "Sahil -",
      "photoUrl": "",
      "userId": "14051148522636395588"
     },
     "user_tz": -330
    },
    "id": "vTB0oTLtKv_I",
    "outputId": "22a90a97-96c4-4225-e24e-f1c8ca6edfb1"
   },
   "outputs": [
    {
     "name": "stdout",
     "output_type": "stream",
     "text": [
      "2947/2947 [==============================] - 1s 296us/step\n"
     ]
    },
    {
     "data": {
      "text/plain": [
       "[0.3718474003477882, 0.8948082796063793]"
      ]
     },
     "execution_count": 118,
     "metadata": {
      "tags": []
     },
     "output_type": "execute_result"
    }
   ],
   "source": [
    "score = model.evaluate(X_test, Y_test)\n",
    "score"
   ]
  },
  {
   "cell_type": "code",
   "execution_count": 0,
   "metadata": {
    "colab": {},
    "colab_type": "code",
    "id": "xCVr708bK38M"
   },
   "outputs": [],
   "source": [
    "data_disp['1LSTM_Drop3_16batch'] = score"
   ]
  },
  {
   "cell_type": "markdown",
   "metadata": {
    "colab_type": "text",
    "id": "90i7x9QPwiVC"
   },
   "source": [
    "Two LSTM + Dropout"
   ]
  },
  {
   "cell_type": "code",
   "execution_count": 125,
   "metadata": {
    "colab": {
     "base_uri": "https://localhost:8080/",
     "height": 319
    },
    "colab_type": "code",
    "executionInfo": {
     "elapsed": 2146,
     "status": "ok",
     "timestamp": 1584229915713,
     "user": {
      "displayName": "Sahil -",
      "photoUrl": "",
      "userId": "14051148522636395588"
     },
     "user_tz": -330
    },
    "id": "5SL6NIz_bLHk",
    "outputId": "08b15e3e-7be7-4102-ebff-b1009b376a6c"
   },
   "outputs": [
    {
     "name": "stdout",
     "output_type": "stream",
     "text": [
      "Model: \"sequential_38\"\n",
      "_________________________________________________________________\n",
      "Layer (type)                 Output Shape              Param #   \n",
      "=================================================================\n",
      "lstm_60 (LSTM)               (None, 128, 20)           2400      \n",
      "_________________________________________________________________\n",
      "dropout_59 (Dropout)         (None, 128, 20)           0         \n",
      "_________________________________________________________________\n",
      "lstm_61 (LSTM)               (None, 20)                3280      \n",
      "_________________________________________________________________\n",
      "dropout_60 (Dropout)         (None, 20)                0         \n",
      "_________________________________________________________________\n",
      "dense_39 (Dense)             (None, 6)                 126       \n",
      "=================================================================\n",
      "Total params: 5,806\n",
      "Trainable params: 5,806\n",
      "Non-trainable params: 0\n",
      "_________________________________________________________________\n"
     ]
    }
   ],
   "source": [
    "# Initiliazing the sequential model\n",
    "model = Sequential()\n",
    "# Configuring the parameters\n",
    "model.add(LSTM(20, input_shape=(timesteps, input_dim), return_sequences=True))\n",
    "# Adding a dropout layer\n",
    "model.add(Dropout(0.3))\n",
    "\n",
    "model.add(LSTM(20))\n",
    "# Adding a dropout layer\n",
    "model.add(Dropout(0.5))\n",
    "\n",
    "# Adding a dense output layer with sigmoid activation\n",
    "model.add(Dense(n_classes, activation='softmax'))\n",
    "# Compiling the model\n",
    "model.compile(loss='categorical_crossentropy',\n",
    "              optimizer='adam',\n",
    "              metrics=['accuracy'])\n",
    "model.summary()"
   ]
  },
  {
   "cell_type": "markdown",
   "metadata": {
    "colab_type": "text",
    "id": "fKupwhavRlpn"
   },
   "source": [
    "Batch Size = 8"
   ]
  },
  {
   "cell_type": "code",
   "execution_count": 121,
   "metadata": {
    "colab": {
     "base_uri": "https://localhost:8080/",
     "height": 1000
    },
    "colab_type": "code",
    "executionInfo": {
     "elapsed": 3072807,
     "status": "ok",
     "timestamp": 1584229872220,
     "user": {
      "displayName": "Sahil -",
      "photoUrl": "",
      "userId": "14051148522636395588"
     },
     "user_tz": -330
    },
    "id": "UIsYKw2DucwT",
    "outputId": "cf82b693-2501-4088-ee9a-c692fcc1090d"
   },
   "outputs": [
    {
     "name": "stdout",
     "output_type": "stream",
     "text": [
      "Train on 7352 samples, validate on 2947 samples\n",
      "Epoch 1/30\n",
      "7352/7352 [==============================] - 91s 12ms/step - loss: 1.1299 - acc: 0.5276 - val_loss: 0.8241 - val_acc: 0.6637\n",
      "Epoch 2/30\n",
      "7352/7352 [==============================] - 84s 11ms/step - loss: 0.7477 - acc: 0.7175 - val_loss: 0.7358 - val_acc: 0.7363\n",
      "Epoch 3/30\n",
      "7352/7352 [==============================] - 84s 11ms/step - loss: 0.5924 - acc: 0.7884 - val_loss: 0.6664 - val_acc: 0.7648\n",
      "Epoch 4/30\n",
      "7352/7352 [==============================] - 84s 11ms/step - loss: 0.4982 - acc: 0.8268 - val_loss: 0.7771 - val_acc: 0.7628\n",
      "Epoch 5/30\n",
      "7352/7352 [==============================] - 84s 11ms/step - loss: 0.4058 - acc: 0.8651 - val_loss: 0.6789 - val_acc: 0.7974\n",
      "Epoch 6/30\n",
      "7352/7352 [==============================] - 84s 11ms/step - loss: 0.3733 - acc: 0.8796 - val_loss: 0.6812 - val_acc: 0.8012\n",
      "Epoch 7/30\n",
      "7352/7352 [==============================] - 85s 12ms/step - loss: 0.2804 - acc: 0.9123 - val_loss: 0.4393 - val_acc: 0.8636\n",
      "Epoch 8/30\n",
      "7352/7352 [==============================] - 84s 11ms/step - loss: 0.2500 - acc: 0.9187 - val_loss: 0.4697 - val_acc: 0.8677\n",
      "Epoch 9/30\n",
      "7352/7352 [==============================] - 84s 11ms/step - loss: 0.2355 - acc: 0.9251 - val_loss: 0.4339 - val_acc: 0.8863\n",
      "Epoch 10/30\n",
      "7352/7352 [==============================] - 84s 11ms/step - loss: 0.2585 - acc: 0.9203 - val_loss: 0.3953 - val_acc: 0.8846\n",
      "Epoch 11/30\n",
      "7352/7352 [==============================] - 84s 11ms/step - loss: 0.1999 - acc: 0.9335 - val_loss: 0.5226 - val_acc: 0.8683\n",
      "Epoch 12/30\n",
      "7352/7352 [==============================] - 84s 11ms/step - loss: 0.2952 - acc: 0.9060 - val_loss: 0.5140 - val_acc: 0.8880\n",
      "Epoch 13/30\n",
      "7352/7352 [==============================] - 83s 11ms/step - loss: 0.2307 - acc: 0.9319 - val_loss: 0.3999 - val_acc: 0.8989\n",
      "Epoch 14/30\n",
      "7352/7352 [==============================] - 84s 11ms/step - loss: 0.2682 - acc: 0.9154 - val_loss: 0.3859 - val_acc: 0.9033\n",
      "Epoch 15/30\n",
      "7352/7352 [==============================] - 85s 12ms/step - loss: 0.1944 - acc: 0.9385 - val_loss: 0.2856 - val_acc: 0.9111\n",
      "Epoch 16/30\n",
      "7352/7352 [==============================] - 84s 11ms/step - loss: 0.2033 - acc: 0.9286 - val_loss: 0.3090 - val_acc: 0.9141\n",
      "Epoch 17/30\n",
      "7352/7352 [==============================] - 117s 16ms/step - loss: 0.1698 - acc: 0.9368 - val_loss: 0.3159 - val_acc: 0.9189\n",
      "Epoch 18/30\n",
      "7352/7352 [==============================] - 126s 17ms/step - loss: 0.2682 - acc: 0.9143 - val_loss: 0.3977 - val_acc: 0.8948\n",
      "Epoch 19/30\n",
      "7352/7352 [==============================] - 126s 17ms/step - loss: 0.1796 - acc: 0.9376 - val_loss: 0.3634 - val_acc: 0.9013\n",
      "Epoch 20/30\n",
      "7352/7352 [==============================] - 123s 17ms/step - loss: 0.1490 - acc: 0.9470 - val_loss: 0.3578 - val_acc: 0.9091\n",
      "Epoch 21/30\n",
      "7352/7352 [==============================] - 122s 17ms/step - loss: 0.1418 - acc: 0.9474 - val_loss: 0.3851 - val_acc: 0.9053\n",
      "Epoch 22/30\n",
      "7352/7352 [==============================] - 120s 16ms/step - loss: 0.1747 - acc: 0.9373 - val_loss: 0.4205 - val_acc: 0.8989\n",
      "Epoch 23/30\n",
      "7352/7352 [==============================] - 119s 16ms/step - loss: 0.1723 - acc: 0.9404 - val_loss: 0.5246 - val_acc: 0.8979\n",
      "Epoch 24/30\n",
      "7352/7352 [==============================] - 119s 16ms/step - loss: 0.1572 - acc: 0.9509 - val_loss: 0.3875 - val_acc: 0.9026\n",
      "Epoch 25/30\n",
      "7352/7352 [==============================] - 122s 17ms/step - loss: 0.1559 - acc: 0.9434 - val_loss: 0.4701 - val_acc: 0.9114\n",
      "Epoch 26/30\n",
      "7352/7352 [==============================] - 122s 17ms/step - loss: 0.1617 - acc: 0.9433 - val_loss: 0.5362 - val_acc: 0.9036\n",
      "Epoch 27/30\n",
      "7352/7352 [==============================] - 124s 17ms/step - loss: 0.1786 - acc: 0.9388 - val_loss: 0.3491 - val_acc: 0.9203\n",
      "Epoch 28/30\n",
      "7352/7352 [==============================] - 125s 17ms/step - loss: 0.1424 - acc: 0.9471 - val_loss: 0.4278 - val_acc: 0.9094\n",
      "Epoch 29/30\n",
      "7352/7352 [==============================] - 126s 17ms/step - loss: 0.1501 - acc: 0.9441 - val_loss: 0.4421 - val_acc: 0.9033\n",
      "Epoch 30/30\n",
      "7352/7352 [==============================] - 129s 17ms/step - loss: 0.1416 - acc: 0.9510 - val_loss: 0.3962 - val_acc: 0.9172\n"
     ]
    },
    {
     "data": {
      "text/plain": [
       "<keras.callbacks.History at 0x7efc6a376358>"
      ]
     },
     "execution_count": 121,
     "metadata": {
      "tags": []
     },
     "output_type": "execute_result"
    }
   ],
   "source": [
    "# Training the model\n",
    "model.fit(X_train,\n",
    "          Y_train,\n",
    "          batch_size=8,\n",
    "          validation_data=(X_test, Y_test),\n",
    "          epochs=30)"
   ]
  },
  {
   "cell_type": "code",
   "execution_count": 122,
   "metadata": {
    "colab": {
     "base_uri": "https://localhost:8080/",
     "height": 254
    },
    "colab_type": "code",
    "executionInfo": {
     "elapsed": 6016,
     "status": "ok",
     "timestamp": 1584229882005,
     "user": {
      "displayName": "Sahil -",
      "photoUrl": "",
      "userId": "14051148522636395588"
     },
     "user_tz": -330
    },
    "id": "WikknF1CbLHr",
    "outputId": "11a03772-a3f5-417a-cffa-5de3cbe4bbb9"
   },
   "outputs": [
    {
     "data": {
      "text/html": [
       "<div>\n",
       "<style scoped>\n",
       "    .dataframe tbody tr th:only-of-type {\n",
       "        vertical-align: middle;\n",
       "    }\n",
       "\n",
       "    .dataframe tbody tr th {\n",
       "        vertical-align: top;\n",
       "    }\n",
       "\n",
       "    .dataframe thead th {\n",
       "        text-align: right;\n",
       "    }\n",
       "</style>\n",
       "<table border=\"1\" class=\"dataframe\">\n",
       "  <thead>\n",
       "    <tr style=\"text-align: right;\">\n",
       "      <th>Pred</th>\n",
       "      <th>LAYING</th>\n",
       "      <th>SITTING</th>\n",
       "      <th>STANDING</th>\n",
       "      <th>WALKING</th>\n",
       "      <th>WALKING_DOWNSTAIRS</th>\n",
       "      <th>WALKING_UPSTAIRS</th>\n",
       "    </tr>\n",
       "    <tr>\n",
       "      <th>True</th>\n",
       "      <th></th>\n",
       "      <th></th>\n",
       "      <th></th>\n",
       "      <th></th>\n",
       "      <th></th>\n",
       "      <th></th>\n",
       "    </tr>\n",
       "  </thead>\n",
       "  <tbody>\n",
       "    <tr>\n",
       "      <th>LAYING</th>\n",
       "      <td>537</td>\n",
       "      <td>0</td>\n",
       "      <td>0</td>\n",
       "      <td>0</td>\n",
       "      <td>0</td>\n",
       "      <td>0</td>\n",
       "    </tr>\n",
       "    <tr>\n",
       "      <th>SITTING</th>\n",
       "      <td>6</td>\n",
       "      <td>395</td>\n",
       "      <td>70</td>\n",
       "      <td>2</td>\n",
       "      <td>0</td>\n",
       "      <td>18</td>\n",
       "    </tr>\n",
       "    <tr>\n",
       "      <th>STANDING</th>\n",
       "      <td>0</td>\n",
       "      <td>104</td>\n",
       "      <td>425</td>\n",
       "      <td>1</td>\n",
       "      <td>0</td>\n",
       "      <td>2</td>\n",
       "    </tr>\n",
       "    <tr>\n",
       "      <th>WALKING</th>\n",
       "      <td>0</td>\n",
       "      <td>0</td>\n",
       "      <td>0</td>\n",
       "      <td>467</td>\n",
       "      <td>27</td>\n",
       "      <td>2</td>\n",
       "    </tr>\n",
       "    <tr>\n",
       "      <th>WALKING_DOWNSTAIRS</th>\n",
       "      <td>0</td>\n",
       "      <td>0</td>\n",
       "      <td>0</td>\n",
       "      <td>1</td>\n",
       "      <td>417</td>\n",
       "      <td>2</td>\n",
       "    </tr>\n",
       "    <tr>\n",
       "      <th>WALKING_UPSTAIRS</th>\n",
       "      <td>0</td>\n",
       "      <td>0</td>\n",
       "      <td>1</td>\n",
       "      <td>2</td>\n",
       "      <td>6</td>\n",
       "      <td>462</td>\n",
       "    </tr>\n",
       "  </tbody>\n",
       "</table>\n",
       "</div>"
      ],
      "text/plain": [
       "Pred                LAYING  SITTING  ...  WALKING_DOWNSTAIRS  WALKING_UPSTAIRS\n",
       "True                                 ...                                      \n",
       "LAYING                 537        0  ...                   0                 0\n",
       "SITTING                  6      395  ...                   0                18\n",
       "STANDING                 0      104  ...                   0                 2\n",
       "WALKING                  0        0  ...                  27                 2\n",
       "WALKING_DOWNSTAIRS       0        0  ...                 417                 2\n",
       "WALKING_UPSTAIRS         0        0  ...                   6               462\n",
       "\n",
       "[6 rows x 6 columns]"
      ]
     },
     "execution_count": 122,
     "metadata": {
      "tags": []
     },
     "output_type": "execute_result"
    }
   ],
   "source": [
    "# Confusion Matrix\n",
    "pd.DataFrame(confusion_matrix(Y_test, model.predict(X_test)))"
   ]
  },
  {
   "cell_type": "code",
   "execution_count": 123,
   "metadata": {
    "colab": {
     "base_uri": "https://localhost:8080/",
     "height": 50
    },
    "colab_type": "code",
    "executionInfo": {
     "elapsed": 7677,
     "status": "ok",
     "timestamp": 1584229883678,
     "user": {
      "displayName": "Sahil -",
      "photoUrl": "",
      "userId": "14051148522636395588"
     },
     "user_tz": -330
    },
    "id": "VV21pUDmbLHv",
    "outputId": "2b0bfde3-ee39-48ca-c3ee-b0d2aa34821d"
   },
   "outputs": [
    {
     "name": "stdout",
     "output_type": "stream",
     "text": [
      "2947/2947 [==============================] - 2s 702us/step\n"
     ]
    },
    {
     "data": {
      "text/plain": [
       "[0.3962146586148283, 0.9172039362063115]"
      ]
     },
     "execution_count": 123,
     "metadata": {
      "tags": []
     },
     "output_type": "execute_result"
    }
   ],
   "source": [
    "score = model.evaluate(X_test, Y_test)\n",
    "score"
   ]
  },
  {
   "cell_type": "code",
   "execution_count": 0,
   "metadata": {
    "colab": {},
    "colab_type": "code",
    "id": "sj8GGhETbLHx"
   },
   "outputs": [],
   "source": [
    "data_disp['2LSTM_8batch'] = score"
   ]
  },
  {
   "cell_type": "markdown",
   "metadata": {
    "colab_type": "text",
    "id": "JO0FuEs4deUN"
   },
   "source": [
    "Batch Size = 16"
   ]
  },
  {
   "cell_type": "code",
   "execution_count": 126,
   "metadata": {
    "colab": {
     "base_uri": "https://localhost:8080/",
     "height": 1000
    },
    "colab_type": "code",
    "executionInfo": {
     "elapsed": 1895349,
     "status": "ok",
     "timestamp": 1584231818947,
     "user": {
      "displayName": "Sahil -",
      "photoUrl": "",
      "userId": "14051148522636395588"
     },
     "user_tz": -330
    },
    "id": "7oIA3pKZdbXi",
    "outputId": "453b0453-0000-49c1-e448-52d9adf11d7c"
   },
   "outputs": [
    {
     "name": "stdout",
     "output_type": "stream",
     "text": [
      "Train on 7352 samples, validate on 2947 samples\n",
      "Epoch 1/30\n",
      "7352/7352 [==============================] - 76s 10ms/step - loss: 1.1923 - acc: 0.4792 - val_loss: 1.0667 - val_acc: 0.5056\n",
      "Epoch 2/30\n",
      "7352/7352 [==============================] - 65s 9ms/step - loss: 0.7928 - acc: 0.6337 - val_loss: 0.7668 - val_acc: 0.6128\n",
      "Epoch 3/30\n",
      "7352/7352 [==============================] - 65s 9ms/step - loss: 0.7390 - acc: 0.6465 - val_loss: 0.7704 - val_acc: 0.6037\n",
      "Epoch 4/30\n",
      "7352/7352 [==============================] - 64s 9ms/step - loss: 0.6943 - acc: 0.6518 - val_loss: 0.7245 - val_acc: 0.6261\n",
      "Epoch 5/30\n",
      "7352/7352 [==============================] - 64s 9ms/step - loss: 0.6670 - acc: 0.6593 - val_loss: 0.7233 - val_acc: 0.6593\n",
      "Epoch 6/30\n",
      "7352/7352 [==============================] - 63s 9ms/step - loss: 0.6417 - acc: 0.6895 - val_loss: 0.7056 - val_acc: 0.6905\n",
      "Epoch 7/30\n",
      "7352/7352 [==============================] - 62s 8ms/step - loss: 0.5903 - acc: 0.7428 - val_loss: 0.5978 - val_acc: 0.7628\n",
      "Epoch 8/30\n",
      "7352/7352 [==============================] - 62s 8ms/step - loss: 0.4646 - acc: 0.8101 - val_loss: 0.5737 - val_acc: 0.7954\n",
      "Epoch 9/30\n",
      "7352/7352 [==============================] - 62s 8ms/step - loss: 0.3741 - acc: 0.8679 - val_loss: 0.4315 - val_acc: 0.8514\n",
      "Epoch 10/30\n",
      "7352/7352 [==============================] - 61s 8ms/step - loss: 0.3605 - acc: 0.8815 - val_loss: 0.4025 - val_acc: 0.8697\n",
      "Epoch 11/30\n",
      "7352/7352 [==============================] - 61s 8ms/step - loss: 0.2802 - acc: 0.9112 - val_loss: 0.4328 - val_acc: 0.8612\n",
      "Epoch 12/30\n",
      "7352/7352 [==============================] - 62s 8ms/step - loss: 0.3299 - acc: 0.8972 - val_loss: 0.4156 - val_acc: 0.8775\n",
      "Epoch 13/30\n",
      "7352/7352 [==============================] - 61s 8ms/step - loss: 0.2398 - acc: 0.9251 - val_loss: 0.4112 - val_acc: 0.8778\n",
      "Epoch 14/30\n",
      "7352/7352 [==============================] - 61s 8ms/step - loss: 0.2130 - acc: 0.9309 - val_loss: 0.5010 - val_acc: 0.8510\n",
      "Epoch 15/30\n",
      "7352/7352 [==============================] - 60s 8ms/step - loss: 0.2135 - acc: 0.9342 - val_loss: 0.4536 - val_acc: 0.8741\n",
      "Epoch 16/30\n",
      "7352/7352 [==============================] - 62s 8ms/step - loss: 0.2025 - acc: 0.9312 - val_loss: 0.4808 - val_acc: 0.8751\n",
      "Epoch 17/30\n",
      "7352/7352 [==============================] - 61s 8ms/step - loss: 0.2289 - acc: 0.9211 - val_loss: 0.3730 - val_acc: 0.8833\n",
      "Epoch 18/30\n",
      "7352/7352 [==============================] - 60s 8ms/step - loss: 0.2704 - acc: 0.9101 - val_loss: 0.3425 - val_acc: 0.8870\n",
      "Epoch 19/30\n",
      "7352/7352 [==============================] - 60s 8ms/step - loss: 0.1712 - acc: 0.9387 - val_loss: 0.3996 - val_acc: 0.8846\n",
      "Epoch 20/30\n",
      "7352/7352 [==============================] - 62s 8ms/step - loss: 0.1632 - acc: 0.9452 - val_loss: 0.3819 - val_acc: 0.8975\n",
      "Epoch 21/30\n",
      "7352/7352 [==============================] - 63s 9ms/step - loss: 0.1644 - acc: 0.9440 - val_loss: 0.3379 - val_acc: 0.9084\n",
      "Epoch 22/30\n",
      "7352/7352 [==============================] - 64s 9ms/step - loss: 0.2306 - acc: 0.9276 - val_loss: 0.4973 - val_acc: 0.8534\n",
      "Epoch 23/30\n",
      "7352/7352 [==============================] - 63s 9ms/step - loss: 0.1634 - acc: 0.9465 - val_loss: 0.3306 - val_acc: 0.8985\n",
      "Epoch 24/30\n",
      "7352/7352 [==============================] - 63s 9ms/step - loss: 0.1400 - acc: 0.9495 - val_loss: 0.3554 - val_acc: 0.8968\n",
      "Epoch 25/30\n",
      "7352/7352 [==============================] - 64s 9ms/step - loss: 0.1439 - acc: 0.9483 - val_loss: 0.3736 - val_acc: 0.8958\n",
      "Epoch 26/30\n",
      "7352/7352 [==============================] - 64s 9ms/step - loss: 0.1563 - acc: 0.9448 - val_loss: 0.3810 - val_acc: 0.8911\n",
      "Epoch 27/30\n",
      "7352/7352 [==============================] - 63s 9ms/step - loss: 0.2519 - acc: 0.9208 - val_loss: 0.3819 - val_acc: 0.8890\n",
      "Epoch 28/30\n",
      "7352/7352 [==============================] - 63s 9ms/step - loss: 0.1576 - acc: 0.9459 - val_loss: 0.3980 - val_acc: 0.8863\n",
      "Epoch 29/30\n",
      "7352/7352 [==============================] - 65s 9ms/step - loss: 0.1519 - acc: 0.9421 - val_loss: 0.3394 - val_acc: 0.9057\n",
      "Epoch 30/30\n",
      "7352/7352 [==============================] - 66s 9ms/step - loss: 0.1827 - acc: 0.9385 - val_loss: 0.4690 - val_acc: 0.8924\n"
     ]
    },
    {
     "data": {
      "text/plain": [
       "<keras.callbacks.History at 0x7efc695e8a20>"
      ]
     },
     "execution_count": 126,
     "metadata": {
      "tags": []
     },
     "output_type": "execute_result"
    }
   ],
   "source": [
    "# Training the model\n",
    "model.fit(X_train,\n",
    "          Y_train,\n",
    "          batch_size=16,\n",
    "          validation_data=(X_test, Y_test),\n",
    "          epochs=30)"
   ]
  },
  {
   "cell_type": "code",
   "execution_count": 127,
   "metadata": {
    "colab": {
     "base_uri": "https://localhost:8080/",
     "height": 254
    },
    "colab_type": "code",
    "executionInfo": {
     "elapsed": 6534,
     "status": "ok",
     "timestamp": 1584231829483,
     "user": {
      "displayName": "Sahil -",
      "photoUrl": "",
      "userId": "14051148522636395588"
     },
     "user_tz": -330
    },
    "id": "YGMNrg40djrG",
    "outputId": "9752bb72-ab4e-411d-82c7-865706c06131"
   },
   "outputs": [
    {
     "data": {
      "text/html": [
       "<div>\n",
       "<style scoped>\n",
       "    .dataframe tbody tr th:only-of-type {\n",
       "        vertical-align: middle;\n",
       "    }\n",
       "\n",
       "    .dataframe tbody tr th {\n",
       "        vertical-align: top;\n",
       "    }\n",
       "\n",
       "    .dataframe thead th {\n",
       "        text-align: right;\n",
       "    }\n",
       "</style>\n",
       "<table border=\"1\" class=\"dataframe\">\n",
       "  <thead>\n",
       "    <tr style=\"text-align: right;\">\n",
       "      <th>Pred</th>\n",
       "      <th>LAYING</th>\n",
       "      <th>SITTING</th>\n",
       "      <th>STANDING</th>\n",
       "      <th>WALKING</th>\n",
       "      <th>WALKING_DOWNSTAIRS</th>\n",
       "      <th>WALKING_UPSTAIRS</th>\n",
       "    </tr>\n",
       "    <tr>\n",
       "      <th>True</th>\n",
       "      <th></th>\n",
       "      <th></th>\n",
       "      <th></th>\n",
       "      <th></th>\n",
       "      <th></th>\n",
       "      <th></th>\n",
       "    </tr>\n",
       "  </thead>\n",
       "  <tbody>\n",
       "    <tr>\n",
       "      <th>LAYING</th>\n",
       "      <td>521</td>\n",
       "      <td>0</td>\n",
       "      <td>0</td>\n",
       "      <td>0</td>\n",
       "      <td>0</td>\n",
       "      <td>16</td>\n",
       "    </tr>\n",
       "    <tr>\n",
       "      <th>SITTING</th>\n",
       "      <td>5</td>\n",
       "      <td>401</td>\n",
       "      <td>64</td>\n",
       "      <td>1</td>\n",
       "      <td>0</td>\n",
       "      <td>20</td>\n",
       "    </tr>\n",
       "    <tr>\n",
       "      <th>STANDING</th>\n",
       "      <td>0</td>\n",
       "      <td>96</td>\n",
       "      <td>391</td>\n",
       "      <td>0</td>\n",
       "      <td>0</td>\n",
       "      <td>45</td>\n",
       "    </tr>\n",
       "    <tr>\n",
       "      <th>WALKING</th>\n",
       "      <td>0</td>\n",
       "      <td>0</td>\n",
       "      <td>0</td>\n",
       "      <td>460</td>\n",
       "      <td>29</td>\n",
       "      <td>7</td>\n",
       "    </tr>\n",
       "    <tr>\n",
       "      <th>WALKING_DOWNSTAIRS</th>\n",
       "      <td>0</td>\n",
       "      <td>0</td>\n",
       "      <td>0</td>\n",
       "      <td>6</td>\n",
       "      <td>411</td>\n",
       "      <td>3</td>\n",
       "    </tr>\n",
       "    <tr>\n",
       "      <th>WALKING_UPSTAIRS</th>\n",
       "      <td>0</td>\n",
       "      <td>0</td>\n",
       "      <td>0</td>\n",
       "      <td>21</td>\n",
       "      <td>4</td>\n",
       "      <td>446</td>\n",
       "    </tr>\n",
       "  </tbody>\n",
       "</table>\n",
       "</div>"
      ],
      "text/plain": [
       "Pred                LAYING  SITTING  ...  WALKING_DOWNSTAIRS  WALKING_UPSTAIRS\n",
       "True                                 ...                                      \n",
       "LAYING                 521        0  ...                   0                16\n",
       "SITTING                  5      401  ...                   0                20\n",
       "STANDING                 0       96  ...                   0                45\n",
       "WALKING                  0        0  ...                  29                 7\n",
       "WALKING_DOWNSTAIRS       0        0  ...                 411                 3\n",
       "WALKING_UPSTAIRS         0        0  ...                   4               446\n",
       "\n",
       "[6 rows x 6 columns]"
      ]
     },
     "execution_count": 127,
     "metadata": {
      "tags": []
     },
     "output_type": "execute_result"
    }
   ],
   "source": [
    "# Confusion Matrix\n",
    "pd.DataFrame(confusion_matrix(Y_test, model.predict(X_test)))"
   ]
  },
  {
   "cell_type": "code",
   "execution_count": 128,
   "metadata": {
    "colab": {
     "base_uri": "https://localhost:8080/",
     "height": 50
    },
    "colab_type": "code",
    "executionInfo": {
     "elapsed": 8720,
     "status": "ok",
     "timestamp": 1584231831674,
     "user": {
      "displayName": "Sahil -",
      "photoUrl": "",
      "userId": "14051148522636395588"
     },
     "user_tz": -330
    },
    "id": "UbTLmSRqdpKb",
    "outputId": "27a90716-4c49-472e-9ff6-39f80a7553ea"
   },
   "outputs": [
    {
     "name": "stdout",
     "output_type": "stream",
     "text": [
      "2947/2947 [==============================] - 2s 679us/step\n"
     ]
    },
    {
     "data": {
      "text/plain": [
       "[0.46896032411779726, 0.8924329826942654]"
      ]
     },
     "execution_count": 128,
     "metadata": {
      "tags": []
     },
     "output_type": "execute_result"
    }
   ],
   "source": [
    "score = model.evaluate(X_test, Y_test)\n",
    "score"
   ]
  },
  {
   "cell_type": "code",
   "execution_count": 0,
   "metadata": {
    "colab": {},
    "colab_type": "code",
    "id": "AjsfJm0ydpM4"
   },
   "outputs": [],
   "source": [
    "data_disp['2LSTM_16batch'] = score"
   ]
  },
  {
   "cell_type": "markdown",
   "metadata": {
    "colab_type": "text",
    "id": "eBa7If0bjxSt"
   },
   "source": [
    "# Conclusion\n",
    "1. Obtain and Load Data from UCI\n",
    "2. Data Cleaning\n",
    "3. Check for imbalance data\n",
    "4. Changing feature names (Just remove '-' and replace with empty space\n",
    "5. EDA: Stationary and Moving Activities\n",
    "6. EDA: Magnitude of an acceleration (BoxPlot)\n",
    "7. EDA: Position of GravityAccelerationComponants\n",
    "8. Perform t-SNE with different perplexity\n",
    "9. Based on Feature Engineering done by people (contain 561 features), we perform Classical ML (which achieved 96%)\n",
    "10. Based on Acceleratometer and Gyro Sensor (contain 9 features), We perform hyperparameter on LSTM (which achieved 92%)\n",
    "11. Used Divide and Conquer CNN"
   ]
  },
  {
   "cell_type": "code",
   "execution_count": 132,
   "metadata": {
    "colab": {
     "base_uri": "https://localhost:8080/",
     "height": 202
    },
    "colab_type": "code",
    "executionInfo": {
     "elapsed": 1217,
     "status": "ok",
     "timestamp": 1584231857342,
     "user": {
      "displayName": "Sahil -",
      "photoUrl": "",
      "userId": "14051148522636395588"
     },
     "user_tz": -330
    },
    "id": "em-V_P51dugI",
    "outputId": "92df5090-2bbf-4b9b-adaf-4da213e56b03"
   },
   "outputs": [
    {
     "name": "stdout",
     "output_type": "stream",
     "text": [
      "+---------------------+---------------------+-------------------+\n",
      "|        Model        |      Test Loss      |  Test Accuracy %  |\n",
      "+---------------------+---------------------+-------------------+\n",
      "|     1LSTM_8batch    |  0.2727017437300063 | 91.75432643366135 |\n",
      "|    1LSTM_16batch    |  0.2531991467388801 | 90.70240922972515 |\n",
      "|    1LSTM_32batch    | 0.31892726644301617 | 88.08958262639973 |\n",
      "|  1LSTM_Drop3_8batch | 0.25635178967629957 | 90.49881235154395 |\n",
      "| 1LSTM_Drop3_16batch |  0.3718474003477882 | 89.48082796063794 |\n",
      "|     2LSTM_8batch    |  0.3962146586148283 | 91.72039362063114 |\n",
      "|    2LSTM_16batch    | 0.46896032411779726 | 89.24329826942655 |\n",
      "+---------------------+---------------------+-------------------+\n"
     ]
    }
   ],
   "source": [
    "from prettytable import PrettyTable\n",
    "d = PrettyTable()\n",
    "d.field_names = ['Model', 'Test Loss', 'Test Accuracy %']\n",
    "for i in data_disp.keys():\n",
    "    d.add_row([i,data_disp.get(i)[0],data_disp.get(i)[1]*100])\n",
    "print(d)"
   ]
  },
  {
   "cell_type": "code",
   "execution_count": 2,
   "metadata": {
    "colab": {},
    "colab_type": "code",
    "id": "p6F2zoQqk14-"
   },
   "outputs": [
    {
     "name": "stdout",
     "output_type": "stream",
     "text": [
      "Please go to sahiltinky94@gmail.com_2.ipynb to see the result. (Used Divide and Conquer CNN)\n",
      "+-----------------------------------------------------+-----------+-----------------+\n",
      "|                        Model                        | Test Loss | Test Accuracy % |\n",
      "+-----------------------------------------------------+-----------+-----------------+\n",
      "|            Dvide and Conquer CNN (Static)           |   0.288   |       92.7      |\n",
      "|           Dvide and Conquer CNN (Dynamic)           |   0.205   |       96.4      |\n",
      "| Dvide and Conquer CNN (On test stage after merging) |     -     |      94.43      |\n",
      "+-----------------------------------------------------+-----------+-----------------+\n"
     ]
    }
   ],
   "source": [
    "from prettytable import PrettyTable\n",
    "print('Please go to sahiltinky94@gmail.com_2.ipynb to see the result. (Used Divide and Conquer CNN)')\n",
    "d = PrettyTable()\n",
    "d.field_names = ['Model', 'Test Loss', 'Test Accuracy %']\n",
    "d.add_row(['Dvide and Conquer CNN (Static)',0.288,92.7])\n",
    "d.add_row(['Dvide and Conquer CNN (Dynamic)',0.205,96.4])\n",
    "d.add_row(['Dvide and Conquer CNN (On test stage after merging)','-',94.43])\n",
    "print(d)"
   ]
  },
  {
   "cell_type": "code",
   "execution_count": null,
   "metadata": {},
   "outputs": [],
   "source": []
  }
 ],
 "metadata": {
  "colab": {
   "collapsed_sections": [],
   "name": "sahiltinky94@gmail.com_1.ipynb",
   "provenance": []
  },
  "kernelspec": {
   "display_name": "Python 3",
   "language": "python",
   "name": "python3"
  },
  "language_info": {
   "codemirror_mode": {
    "name": "ipython",
    "version": 3
   },
   "file_extension": ".py",
   "mimetype": "text/x-python",
   "name": "python",
   "nbconvert_exporter": "python",
   "pygments_lexer": "ipython3",
   "version": "3.6.8"
  }
 },
 "nbformat": 4,
 "nbformat_minor": 1
}
