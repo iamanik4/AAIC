{
 "cells": [
  {
   "cell_type": "markdown",
   "metadata": {
    "colab_type": "text",
    "id": "BNv2ZvmNtpuZ"
   },
   "source": [
    "<h1>1. Business Problem </h1>\n",
    "<h2> 1.1 Problem Description </h2>\n",
    "<p>\n",
    "Netflix is all about connecting people to the movies they love. To help customers find those movies, they developed world-class movie recommendation system: CinematchSM. Its job is to predict whether someone will enjoy a movie based on how much they liked or disliked other movies. Netflix use those predictions to make personal movie recommendations based on each customer’s unique tastes. And while <b>Cinematch</b> is doing pretty well, it can always be made better.\n",
    "</p>\n",
    "<p>Now there are a lot of interesting alternative approaches to how Cinematch works that netflix haven’t tried. Some are described in the literature, some aren’t. We’re curious whether any of these can beat Cinematch by making better predictions. Because, frankly, if there is a much better approach it could make a big difference to our customers and our business.</p>\n",
    "<p> Credits: https://www.netflixprize.com/rules.html </p>\n",
    "<h2> 1.2 Problem Statement </h2>\n",
    "<p>\n",
    "Netflix provided a lot of anonymous rating data, and a prediction accuracy bar that is 10% better than what Cinematch can do on the same training data set. (Accuracy is a measurement of how closely predicted ratings of movies match subsequent actual ratings.) \n",
    "</p>\n",
    "<h2> 1.3 Sources </h2>\n",
    "<ul>\n",
    "<li> https://www.netflixprize.com/rules.html</li>\n",
    "<li> https://www.kaggle.com/netflix-inc/netflix-prize-data</li>\n",
    "<li> Netflix blog: https://medium.com/netflix-techblog/netflix-recommendations-beyond-the-5-stars-part-1-55838468f429 (very nice blog)</li>\n",
    "<li>surprise library: http://surpriselib.com/ (we use many models from this library)</li>\n",
    "<li>surprise library doc: http://surprise.readthedocs.io/en/stable/getting_started.html (we use many models from this library)</li>\n",
    "<li>installing surprise: https://github.com/NicolasHug/Surprise#installation </li>\n",
    "<li> Research paper: http://courses.ischool.berkeley.edu/i290-dm/s11/SECURE/a1-koren.pdf (most of our work was inspired by this paper)</li>\n",
    "<li> SVD Decomposition : https://www.youtube.com/watch?v=P5mlg91as1c </li>\n",
    "</ul>\n",
    "<h2>1.4 Real world/Business Objectives and constraints  </h2>\n",
    "Objectives:<br>\n",
    "1. Predict the rating that a user would give to a movie that he ahs not yet rated.<br>\n",
    "2. Minimize the difference between predicted and actual rating (RMSE and MAPE)\n",
    "<br>\n",
    "\n",
    "Constraints:\n",
    "1. Some form of interpretability.\n",
    "\n",
    "<h1> 2. Machine Learning Problem </h1>\n",
    "<h2>2.1 Data </h2>\n",
    "<h3> 2.1.1 Data Overview </h3>\n",
    "<p> Get the data from : https://www.kaggle.com/netflix-inc/netflix-prize-data/data </p>\n",
    "<p> Data files : \n",
    "<ul> \n",
    "<li> combined_data_1.txt </li>\n",
    "<li> combined_data_2.txt </li>\n",
    "<li> combined_data_3.txt </li>\n",
    "<li> combined_data_4.txt </li>\n",
    "<li> movie_titles.csv </li>\n",
    "</ul>\n",
    "<pre>  \n",
    "The first line of each file [combined_data_1.txt, combined_data_2.txt, combined_data_3.txt, combined_data_4.txt] contains the movie id followed by a colon. Each subsequent line in the file corresponds to a rating from a customer and its date in the following format:\n",
    "\n",
    "CustomerID,Rating,Date\n",
    "\n",
    "MovieIDs range from 1 to 17770 sequentially.\n",
    "CustomerIDs range from 1 to 2649429, with gaps. There are 480189 users.\n",
    "Ratings are on a five star (integral) scale from 1 to 5.\n",
    "Dates have the format YYYY-MM-DD.\n",
    "</pre>\n",
    "<h3> 2.1.2 Example Data point </h3>\n",
    "<pre>\n",
    "1:\n",
    "1488844,3,2005-09-06\n",
    "822109,5,2005-05-13\n",
    "885013,4,2005-10-19\n",
    "30878,4,2005-12-26\n",
    "823519,3,2004-05-03\n",
    "893988,3,2005-11-17\n",
    "124105,4,2004-08-05\n",
    "1248029,3,2004-04-22\n",
    "1842128,4,2004-05-09\n",
    "2238063,3,2005-05-11\n",
    "1503895,4,2005-05-19\n",
    "2207774,5,2005-06-06\n",
    "2590061,3,2004-08-12\n",
    "2442,3,2004-04-14\n",
    "543865,4,2004-05-28\n",
    "1209119,4,2004-03-23\n",
    "804919,4,2004-06-10\n",
    "1086807,3,2004-12-28\n",
    "1711859,4,2005-05-08\n",
    "372233,5,2005-11-23\n",
    "1080361,3,2005-03-28\n",
    "1245640,3,2005-12-19\n",
    "558634,4,2004-12-14\n",
    "2165002,4,2004-04-06\n",
    "1181550,3,2004-02-01\n",
    "1227322,4,2004-02-06\n",
    "427928,4,2004-02-26\n",
    "814701,5,2005-09-29\n",
    "808731,4,2005-10-31\n",
    "662870,5,2005-08-24\n",
    "337541,5,2005-03-23\n",
    "786312,3,2004-11-16\n",
    "1133214,4,2004-03-07\n",
    "1537427,4,2004-03-29\n",
    "1209954,5,2005-05-09\n",
    "2381599,3,2005-09-12\n",
    "525356,2,2004-07-11\n",
    "1910569,4,2004-04-12\n",
    "2263586,4,2004-08-20\n",
    "2421815,2,2004-02-26\n",
    "1009622,1,2005-01-19\n",
    "1481961,2,2005-05-24\n",
    "401047,4,2005-06-03\n",
    "2179073,3,2004-08-29\n",
    "1434636,3,2004-05-01\n",
    "93986,5,2005-10-06\n",
    "1308744,5,2005-10-29\n",
    "2647871,4,2005-12-30\n",
    "1905581,5,2005-08-16\n",
    "2508819,3,2004-05-18\n",
    "1578279,1,2005-05-19\n",
    "1159695,4,2005-02-15\n",
    "2588432,3,2005-03-31\n",
    "2423091,3,2005-09-12\n",
    "470232,4,2004-04-08\n",
    "2148699,2,2004-06-05\n",
    "1342007,3,2004-07-16\n",
    "466135,4,2004-07-13\n",
    "2472440,3,2005-08-13\n",
    "1283744,3,2004-04-17\n",
    "1927580,4,2004-11-08\n",
    "716874,5,2005-05-06\n",
    "4326,4,2005-10-29\n",
    "</pre>\n",
    "<h2>2.2 Mapping the real world problem to a Machine Learning Problem </h2>\n",
    "<h3> 2.2.1 Type of Machine Learning Problem </h3>\n",
    "<pre>\n",
    "For a given movie and user we need to predict the rating would be given by him/her to the movie. \n",
    "The given problem is a Recommendation problem \n",
    "It can also seen as a Regression problem \n",
    "</pre>\n",
    "<h3> 2.2.2 Performance metric </h3>\n",
    "<ul>\n",
    "<li> Mean Absolute Percentage Error: https://en.wikipedia.org/wiki/Mean_absolute_percentage_error </li>\n",
    "<li> Root Mean Square Error: https://en.wikipedia.org/wiki/Root-mean-square_deviation </li>\n",
    "</ul>\n",
    "<h3> 2.2.3 Machine Learning Objective and Constraints </h3>\n",
    "1. Minimize RMSE.<br>\n",
    "2. Try to provide some interpretability.<br>\n",
    "\n"
   ]
  },
  {
   "cell_type": "code",
   "execution_count": 0,
   "metadata": {
    "colab": {
     "base_uri": "https://localhost:8080/",
     "height": 67
    },
    "colab_type": "code",
    "executionInfo": {
     "elapsed": 20804,
     "status": "ok",
     "timestamp": 1582041048302,
     "user": {
      "displayName": "Sahil -",
      "photoUrl": "",
      "userId": "14051148522636395588"
     },
     "user_tz": -330
    },
    "id": "0HysQeKetUXS",
    "outputId": "bf3bd6d5-edb5-4299-9324-556416566af8"
   },
   "outputs": [
    {
     "name": "stdout",
     "output_type": "stream",
     "text": [
      "Downloading netflix-prize-data.zip to /content\n",
      "100% 681M/683M [00:17<00:00, 49.0MB/s]\n",
      "100% 683M/683M [00:17<00:00, 41.6MB/s]\n"
     ]
    }
   ],
   "source": [
    "# Download Dataset from Kaggle\n",
    "!kaggle datasets download -d netflix-inc/netflix-prize-data"
   ]
  },
  {
   "cell_type": "code",
   "execution_count": 0,
   "metadata": {
    "colab": {
     "base_uri": "https://localhost:8080/",
     "height": 67
    },
    "colab_type": "code",
    "executionInfo": {
     "elapsed": 3084,
     "status": "ok",
     "timestamp": 1582041097560,
     "user": {
      "displayName": "Sahil -",
      "photoUrl": "",
      "userId": "14051148522636395588"
     },
     "user_tz": -330
    },
    "id": "hx7EOtMutyvG",
    "outputId": "7ea2c495-ab88-40d6-80f1-7d618a9f08b8"
   },
   "outputs": [
    {
     "name": "stdout",
     "output_type": "stream",
     "text": [
      "\u001b[0m\u001b[01;34mdrive\u001b[0m/                  test.csv                train_sparse_matrix.npz\n",
      "netflix-prize-data.zip  test_sparse_matrix.npz\n",
      "\u001b[01;34msample_data\u001b[0m/            train.csv\n"
     ]
    }
   ],
   "source": [
    "# Show the content of files\n",
    "ls /content"
   ]
  },
  {
   "cell_type": "code",
   "execution_count": 0,
   "metadata": {
    "colab": {
     "base_uri": "https://localhost:8080/",
     "height": 168
    },
    "colab_type": "code",
    "executionInfo": {
     "elapsed": 28063,
     "status": "ok",
     "timestamp": 1582041124306,
     "user": {
      "displayName": "Sahil -",
      "photoUrl": "",
      "userId": "14051148522636395588"
     },
     "user_tz": -330
    },
    "id": "5OSTAuxH08z0",
    "outputId": "c23188e8-4be8-4569-b3c3-2b3a2d60521f"
   },
   "outputs": [
    {
     "name": "stdout",
     "output_type": "stream",
     "text": [
      "Archive:  /content/netflix-prize-data.zip\n",
      "  inflating: README                  \n",
      "  inflating: combined_data_1.txt     \n",
      "  inflating: combined_data_2.txt     \n",
      "  inflating: combined_data_3.txt     \n",
      "  inflating: combined_data_4.txt     \n",
      "  inflating: movie_titles.csv        \n",
      "  inflating: probe.txt               \n",
      "  inflating: qualifying.txt          \n"
     ]
    }
   ],
   "source": [
    "!unzip /content/netflix-prize-data.zip"
   ]
  },
  {
   "cell_type": "code",
   "execution_count": 1,
   "metadata": {
    "colab": {},
    "colab_type": "code",
    "id": "cS6sc3qM1FIR"
   },
   "outputs": [],
   "source": [
    "# Import necessary libraries\n",
    "\n",
    "# this is just to know how much time will it take to run this entire ipython notebook \n",
    "from datetime import datetime\n",
    "# globalstart = datetime.now()\n",
    "import pandas as pd\n",
    "import numpy as np\n",
    "import matplotlib\n",
    "matplotlib.use('nbagg')\n",
    "%matplotlib inline\n",
    "\n",
    "import matplotlib.pyplot as plt\n",
    "plt.rcParams.update({'figure.max_open_warning': 0})\n",
    "\n",
    "import seaborn as sns\n",
    "sns.set_style('whitegrid')\n",
    "import os\n",
    "from scipy import sparse\n",
    "from scipy.sparse import csr_matrix\n",
    "\n",
    "from sklearn.decomposition import TruncatedSVD\n",
    "from sklearn.metrics.pairwise import cosine_similarity\n",
    "from sklearn.model_selection import GridSearchCV\n",
    "from sklearn.metrics import make_scorer\n",
    "\n",
    "import xgboost\n",
    "\n",
    "import random\n",
    "import warnings\n",
    "warnings.filterwarnings(\"ignore\", category=DeprecationWarning)\n",
    "warnings.filterwarnings(\"ignore\", category=FutureWarning)"
   ]
  },
  {
   "cell_type": "code",
   "execution_count": 2,
   "metadata": {
    "colab": {
     "base_uri": "https://localhost:8080/",
     "height": 121
    },
    "colab_type": "code",
    "executionInfo": {
     "elapsed": 31291,
     "status": "ok",
     "timestamp": 1583118388204,
     "user": {
      "displayName": "Sahil -",
      "photoUrl": "",
      "userId": "14051148522636395588"
     },
     "user_tz": -330
    },
    "id": "Jfc2ntH6acTN",
    "outputId": "4dacc60b-d36f-415a-eda8-faeef09a6756"
   },
   "outputs": [
    {
     "name": "stdout",
     "output_type": "stream",
     "text": [
      "Go to this URL in a browser: https://accounts.google.com/o/oauth2/auth?client_id=947318989803-6bn6qk8qdgf4n4g3pfee6491hc0brc4i.apps.googleusercontent.com&redirect_uri=urn%3aietf%3awg%3aoauth%3a2.0%3aoob&response_type=code&scope=email%20https%3a%2f%2fwww.googleapis.com%2fauth%2fdocs.test%20https%3a%2f%2fwww.googleapis.com%2fauth%2fdrive%20https%3a%2f%2fwww.googleapis.com%2fauth%2fdrive.photos.readonly%20https%3a%2f%2fwww.googleapis.com%2fauth%2fpeopleapi.readonly\n",
      "\n",
      "Enter your authorization code:\n",
      "··········\n",
      "Mounted at /content/drive\n"
     ]
    }
   ],
   "source": [
    "# Start mounting my drive\n",
    "from google.colab import drive\n",
    "drive.mount('/content/drive')"
   ]
  },
  {
   "cell_type": "markdown",
   "metadata": {
    "colab_type": "text",
    "id": "MLcvorUN1QlA"
   },
   "source": [
    "<h1> 3. Exploratory Data Analysis </h1>\n",
    "<h2> 3.1 Preprocessing</h2> \n",
    "<h3>3.1.1 Converting / Merging whole data to required format: u_i, m_j, r_ij</h3>"
   ]
  },
  {
   "cell_type": "code",
   "execution_count": 0,
   "metadata": {
    "colab": {
     "base_uri": "https://localhost:8080/",
     "height": 235
    },
    "colab_type": "code",
    "executionInfo": {
     "elapsed": 164913,
     "status": "ok",
     "timestamp": 1582041291485,
     "user": {
      "displayName": "Sahil -",
      "photoUrl": "",
      "userId": "14051148522636395588"
     },
     "user_tz": -330
    },
    "id": "1p5JcKEQ1MBW",
    "outputId": "19dfcf9a-c777-4263-fd37-3c88174aca96"
   },
   "outputs": [
    {
     "name": "stdout",
     "output_type": "stream",
     "text": [
      "Reading ratings from /content/combined_data_1.txt...\n",
      "Done.\n",
      "\n",
      "Reading ratings from /content/combined_data_2.txt...\n",
      "Done.\n",
      "\n",
      "Reading ratings from /content/combined_data_3.txt...\n",
      "Done.\n",
      "\n",
      "Reading ratings from /content/combined_data_4.txt...\n",
      "Done.\n",
      "\n",
      "Time taken : 0:02:43.977766\n"
     ]
    }
   ],
   "source": [
    "start = datetime.now()\n",
    "if not os.path.isfile('data.csv'):\n",
    "    # Create a file 'data.csv' before reading it\n",
    "    # Read all the files in netflix and store them in one big file('data.csv')\n",
    "    # We re reading from each of the four files and appendig each rating to a global file 'train.csv'\n",
    "    data = open('/content/data.csv', mode='w')\n",
    "    \n",
    "    row = list()\n",
    "    # List of files that want to combine together\n",
    "    files=['/content/combined_data_1.txt','/content/combined_data_2.txt', \n",
    "           '/content/combined_data_3.txt', '/content/combined_data_4.txt']\n",
    "    # Iterate each file\n",
    "    for file in files:\n",
    "        print(\"Reading ratings from {}...\".format(file))\n",
    "        with open(file) as f:\n",
    "            for line in f: \n",
    "                del row[:] # you don't have to do this.\n",
    "                line = line.strip() # In order to remove \\n (next line)\n",
    "                if line.endswith(':'):\n",
    "                    # All below are ratings for this movie, until another movie appears.\n",
    "                    movie_id = line.replace(':', '')\n",
    "                else:\n",
    "                    row = [x for x in line.split(',')] # Split into token\n",
    "                    row.insert(0, movie_id) # Insert first column as movie_id\n",
    "                    data.write(','.join(row)) # Combine the token and insert into csv file\n",
    "                    data.write('\\n') # Put the end as \\n to got next row\n",
    "        print(\"Done.\\n\")\n",
    "    data.close()\n",
    "print('Time taken :', datetime.now() - start)"
   ]
  },
  {
   "cell_type": "code",
   "execution_count": 0,
   "metadata": {
    "colab": {},
    "colab_type": "code",
    "id": "AfyFwIWMADjP"
   },
   "outputs": [],
   "source": [
    "# save data.csv file to my gdrive\n",
    "!cp '/content/data.csv' '/content/drive/My Drive/NetFlix Prize/'"
   ]
  },
  {
   "cell_type": "code",
   "execution_count": 0,
   "metadata": {
    "colab": {
     "base_uri": "https://localhost:8080/",
     "height": 101
    },
    "colab_type": "code",
    "executionInfo": {
     "elapsed": 83303,
     "status": "ok",
     "timestamp": 1582041453825,
     "user": {
      "displayName": "Sahil -",
      "photoUrl": "",
      "userId": "14051148522636395588"
     },
     "user_tz": -330
    },
    "id": "I_21Uzn-2n4I",
    "outputId": "fd85de60-70f5-4453-bb11-a109fdbec3ac"
   },
   "outputs": [
    {
     "name": "stdout",
     "output_type": "stream",
     "text": [
      "Creating the dataframe from data.csv file..\n",
      "Done.\n",
      "\n",
      "Sorting the dataframe by date..\n",
      "Done..\n"
     ]
    }
   ],
   "source": [
    "print(\"Creating the dataframe from data.csv file..\")\n",
    "df = pd.read_csv('/content/data.csv', sep=',', names=['movie', 'user','rating','date'])\n",
    "df.date = pd.to_datetime(df.date)\n",
    "print('Done.\\n')\n",
    "\n",
    "# we are arranging the ratings according to time.\n",
    "print('Sorting the dataframe by date..')\n",
    "df.sort_values(by='date', inplace=True)\n",
    "print('Done..')"
   ]
  },
  {
   "cell_type": "code",
   "execution_count": 0,
   "metadata": {
    "colab": {
     "base_uri": "https://localhost:8080/",
     "height": 195
    },
    "colab_type": "code",
    "executionInfo": {
     "elapsed": 79825,
     "status": "ok",
     "timestamp": 1582041453826,
     "user": {
      "displayName": "Sahil -",
      "photoUrl": "",
      "userId": "14051148522636395588"
     },
     "user_tz": -330
    },
    "id": "46vRguZp5sC4",
    "outputId": "7f72049e-dd86-4adb-b4f3-126518ae9ac6"
   },
   "outputs": [
    {
     "data": {
      "text/html": [
       "<div>\n",
       "<style scoped>\n",
       "    .dataframe tbody tr th:only-of-type {\n",
       "        vertical-align: middle;\n",
       "    }\n",
       "\n",
       "    .dataframe tbody tr th {\n",
       "        vertical-align: top;\n",
       "    }\n",
       "\n",
       "    .dataframe thead th {\n",
       "        text-align: right;\n",
       "    }\n",
       "</style>\n",
       "<table border=\"1\" class=\"dataframe\">\n",
       "  <thead>\n",
       "    <tr style=\"text-align: right;\">\n",
       "      <th></th>\n",
       "      <th>movie</th>\n",
       "      <th>user</th>\n",
       "      <th>rating</th>\n",
       "      <th>date</th>\n",
       "    </tr>\n",
       "  </thead>\n",
       "  <tbody>\n",
       "    <tr>\n",
       "      <th>56431994</th>\n",
       "      <td>10341</td>\n",
       "      <td>510180</td>\n",
       "      <td>4</td>\n",
       "      <td>1999-11-11</td>\n",
       "    </tr>\n",
       "    <tr>\n",
       "      <th>9056171</th>\n",
       "      <td>1798</td>\n",
       "      <td>510180</td>\n",
       "      <td>5</td>\n",
       "      <td>1999-11-11</td>\n",
       "    </tr>\n",
       "    <tr>\n",
       "      <th>58698779</th>\n",
       "      <td>10774</td>\n",
       "      <td>510180</td>\n",
       "      <td>3</td>\n",
       "      <td>1999-11-11</td>\n",
       "    </tr>\n",
       "    <tr>\n",
       "      <th>48101611</th>\n",
       "      <td>8651</td>\n",
       "      <td>510180</td>\n",
       "      <td>2</td>\n",
       "      <td>1999-11-11</td>\n",
       "    </tr>\n",
       "    <tr>\n",
       "      <th>81893208</th>\n",
       "      <td>14660</td>\n",
       "      <td>510180</td>\n",
       "      <td>2</td>\n",
       "      <td>1999-11-11</td>\n",
       "    </tr>\n",
       "  </tbody>\n",
       "</table>\n",
       "</div>"
      ],
      "text/plain": [
       "          movie    user  rating       date\n",
       "56431994  10341  510180       4 1999-11-11\n",
       "9056171    1798  510180       5 1999-11-11\n",
       "58698779  10774  510180       3 1999-11-11\n",
       "48101611   8651  510180       2 1999-11-11\n",
       "81893208  14660  510180       2 1999-11-11"
      ]
     },
     "execution_count": 26,
     "metadata": {
      "tags": []
     },
     "output_type": "execute_result"
    }
   ],
   "source": [
    "# Print top value to see the variable\n",
    "df.head()"
   ]
  },
  {
   "cell_type": "code",
   "execution_count": 0,
   "metadata": {
    "colab": {
     "base_uri": "https://localhost:8080/",
     "height": 168
    },
    "colab_type": "code",
    "executionInfo": {
     "elapsed": 10614,
     "status": "ok",
     "timestamp": 1581855133315,
     "user": {
      "displayName": "Sahil -",
      "photoUrl": "",
      "userId": "14051148522636395588"
     },
     "user_tz": -330
    },
    "id": "jM9EH6dN6HgQ",
    "outputId": "20a07ade-8b49-4581-c843-8130938b4d8d"
   },
   "outputs": [
    {
     "data": {
      "text/plain": [
       "count    1.004805e+08\n",
       "mean     3.604290e+00\n",
       "std      1.085219e+00\n",
       "min      1.000000e+00\n",
       "25%      3.000000e+00\n",
       "50%      4.000000e+00\n",
       "75%      4.000000e+00\n",
       "max      5.000000e+00\n",
       "Name: rating, dtype: float64"
      ]
     },
     "execution_count": 28,
     "metadata": {
      "tags": []
     },
     "output_type": "execute_result"
    }
   ],
   "source": [
    "# describe about rating\n",
    "df.describe()['rating']"
   ]
  },
  {
   "cell_type": "markdown",
   "metadata": {
    "colab_type": "text",
    "id": "IS-ANSX_6k3l"
   },
   "source": [
    "<h3>3.1.2 Checking for NaN values</h3>"
   ]
  },
  {
   "cell_type": "code",
   "execution_count": 0,
   "metadata": {
    "colab": {
     "base_uri": "https://localhost:8080/",
     "height": 34
    },
    "colab_type": "code",
    "executionInfo": {
     "elapsed": 1303,
     "status": "ok",
     "timestamp": 1581855189219,
     "user": {
      "displayName": "Sahil -",
      "photoUrl": "",
      "userId": "14051148522636395588"
     },
     "user_tz": -330
    },
    "id": "bW7VLtsC6aTN",
    "outputId": "6b2d53d0-cd5b-4ac5-c309-f3c4c6ac9a0c"
   },
   "outputs": [
    {
     "name": "stdout",
     "output_type": "stream",
     "text": [
      "No of Nan values in our dataframe :  0\n"
     ]
    }
   ],
   "source": [
    "# just to make sure that all Nan containing rows are deleted..\n",
    "print(\"No of Nan values in our dataframe : \", sum(df.isnull().any()))"
   ]
  },
  {
   "cell_type": "markdown",
   "metadata": {
    "colab_type": "text",
    "id": "s09dMddG6sFx"
   },
   "source": [
    "<h3>3.1.3 Removing Duplicates </h3>"
   ]
  },
  {
   "cell_type": "code",
   "execution_count": 0,
   "metadata": {
    "colab": {
     "base_uri": "https://localhost:8080/",
     "height": 34
    },
    "colab_type": "code",
    "executionInfo": {
     "elapsed": 31539,
     "status": "ok",
     "timestamp": 1581855248876,
     "user": {
      "displayName": "Sahil -",
      "photoUrl": "",
      "userId": "14051148522636395588"
     },
     "user_tz": -330
    },
    "id": "g5xBoHeL6qOJ",
    "outputId": "9127b132-5b70-4e2a-b725-c816d82fd650"
   },
   "outputs": [
    {
     "name": "stdout",
     "output_type": "stream",
     "text": [
      "There are 0 duplicate rating entries in the data..\n"
     ]
    }
   ],
   "source": [
    "dup_bool = df.duplicated(['movie','user','rating'])\n",
    "dups = sum(dup_bool) # by considering all columns..( including timestamp)\n",
    "print(\"There are {} duplicate rating entries in the data..\".format(dups))"
   ]
  },
  {
   "cell_type": "markdown",
   "metadata": {
    "colab_type": "text",
    "id": "OtTcDhFA64pB"
   },
   "source": [
    " <h3>3.1.4 Basic Statistics (#Ratings, #Users, and #Movies)</h3>"
   ]
  },
  {
   "cell_type": "code",
   "execution_count": 0,
   "metadata": {
    "colab": {
     "base_uri": "https://localhost:8080/",
     "height": 118
    },
    "colab_type": "code",
    "executionInfo": {
     "elapsed": 20813,
     "status": "ok",
     "timestamp": 1581855284960,
     "user": {
      "displayName": "Sahil -",
      "photoUrl": "",
      "userId": "14051148522636395588"
     },
     "user_tz": -330
    },
    "id": "1XLQRyAf6xZ4",
    "outputId": "b59e98e3-0d20-4724-ba6c-f32571b43819"
   },
   "outputs": [
    {
     "name": "stdout",
     "output_type": "stream",
     "text": [
      "Total data \n",
      "--------------------------------------------------\n",
      "\n",
      "Total no of ratings : 100480507\n",
      "Total No of Users   : 480189\n",
      "Total No of movies  : 17770\n"
     ]
    }
   ],
   "source": [
    "print(\"Total data \")\n",
    "print(\"-\"*50)\n",
    "print(\"\\nTotal no of ratings :\",df.shape[0])\n",
    "print(\"Total No of Users   :\", len(np.unique(df.user)))\n",
    "print(\"Total No of movies  :\", len(np.unique(df.movie)))"
   ]
  },
  {
   "cell_type": "markdown",
   "metadata": {
    "colab_type": "text",
    "id": "uswIdKrK7BRN"
   },
   "source": [
    "<h2>3.2 Spliting data into Train and Test(80:20) </h2>"
   ]
  },
  {
   "cell_type": "code",
   "execution_count": 0,
   "metadata": {
    "colab": {},
    "colab_type": "code",
    "id": "kxTaycBr681S"
   },
   "outputs": [],
   "source": [
    "if not os.path.isfile('/content/train.csv'):\n",
    "    # create the dataframe and store it in the disk for offline purposes..\n",
    "    df.iloc[:int(df.shape[0]*0.80)].to_csv(\"/content/train.csv\", index=False)\n",
    "\n",
    "if not os.path.isfile('/content/test.csv'):\n",
    "    # create the dataframe and store it in the disk for offline purposes..\n",
    "    df.iloc[int(df.shape[0]*0.80):].to_csv(\"/content/test.csv\", index=False)"
   ]
  },
  {
   "cell_type": "code",
   "execution_count": 0,
   "metadata": {
    "colab": {
     "base_uri": "https://localhost:8080/",
     "height": 50
    },
    "colab_type": "code",
    "executionInfo": {
     "elapsed": 6125,
     "status": "ok",
     "timestamp": 1582268550810,
     "user": {
      "displayName": "Sahil -",
      "photoUrl": "",
      "userId": "14051148522636395588"
     },
     "user_tz": -330
    },
    "id": "GE8ZVxum_PIc",
    "outputId": "a5ec4086-85d5-4cbd-b2f5-9c1efd738794"
   },
   "outputs": [
    {
     "name": "stdout",
     "output_type": "stream",
     "text": [
      "cp: cannot stat '/content/train.csv': No such file or directory\n",
      "cp: cannot stat '/content/test.csv': No such file or directory\n"
     ]
    }
   ],
   "source": [
    "# Save train.csv and test.csv to my gdrive ( to save my RAM)\n",
    "!cp '/content/train.csv' '/content/drive/My Drive/NetFlix Prize/'\n",
    "!cp '/content/test.csv' '/content/drive/My Drive/NetFlix Prize/'"
   ]
  },
  {
   "cell_type": "markdown",
   "metadata": {
    "colab_type": "text",
    "id": "3HoTfyUg8vxi"
   },
   "source": [
    "<h3>3.2.1 Basic Statistics in Train data (#Ratings, #Users, and #Movies)</h3>"
   ]
  },
  {
   "cell_type": "code",
   "execution_count": 0,
   "metadata": {
    "colab": {
     "base_uri": "https://localhost:8080/",
     "height": 34
    },
    "colab_type": "code",
    "executionInfo": {
     "elapsed": 73610,
     "status": "ok",
     "timestamp": 1582268653814,
     "user": {
      "displayName": "Sahil -",
      "photoUrl": "",
      "userId": "14051148522636395588"
     },
     "user_tz": -330
    },
    "id": "3FUgzwIABQ40",
    "outputId": "5216528b-249a-4823-c083-32801b88a883"
   },
   "outputs": [
    {
     "name": "stdout",
     "output_type": "stream",
     "text": [
      "Drive already mounted at /content/drive; to attempt to forcibly remount, call drive.mount(\"/content/drive\", force_remount=True).\n"
     ]
    }
   ],
   "source": [
    "# Checkpoint to Release store and reconnect colab\n",
    "# import train.csv and test.csv file from my gdrive\n",
    "from google.colab import drive\n",
    "drive.mount('/content/drive')\n",
    "!cp '/content/drive/My Drive/NetFlix Prize/train.csv' '/content/' \n",
    "!cp '/content/drive/My Drive/NetFlix Prize/test.csv' '/content/' "
   ]
  },
  {
   "cell_type": "code",
   "execution_count": 0,
   "metadata": {
    "colab": {},
    "colab_type": "code",
    "id": "3VUBh-9bCKlR"
   },
   "outputs": [],
   "source": [
    "train_df = pd.read_csv(\"/content/train.csv\", parse_dates=['date'])\n",
    "test_df = pd.read_csv(\"/content/test.csv\")"
   ]
  },
  {
   "cell_type": "code",
   "execution_count": 0,
   "metadata": {
    "colab": {
     "base_uri": "https://localhost:8080/",
     "height": 118
    },
    "colab_type": "code",
    "executionInfo": {
     "elapsed": 61140,
     "status": "ok",
     "timestamp": 1582268715007,
     "user": {
      "displayName": "Sahil -",
      "photoUrl": "",
      "userId": "14051148522636395588"
     },
     "user_tz": -330
    },
    "id": "THH8-GKB7y6a",
    "outputId": "d3da4df9-c8bd-442a-b600-8acd89481f8e"
   },
   "outputs": [
    {
     "name": "stdout",
     "output_type": "stream",
     "text": [
      "Training data \n",
      "--------------------------------------------------\n",
      "\n",
      "Total no of ratings : 80384405\n",
      "Total No of Users   : 405041\n",
      "Total No of movies  : 17424\n"
     ]
    }
   ],
   "source": [
    "print(\"Training data \")\n",
    "print(\"-\"*50)\n",
    "print(\"\\nTotal no of ratings :\",train_df.shape[0])\n",
    "print(\"Total No of Users   :\", len(np.unique(train_df.user)))\n",
    "print(\"Total No of movies  :\", len(np.unique(train_df.movie)))"
   ]
  },
  {
   "cell_type": "markdown",
   "metadata": {
    "colab_type": "text",
    "id": "sM7QkCcDDUNs"
   },
   "source": [
    "<h3>3.2.2 Basic Statistics in Test data (#Ratings, #Users, and #Movies)</h3>"
   ]
  },
  {
   "cell_type": "code",
   "execution_count": 0,
   "metadata": {
    "colab": {
     "base_uri": "https://localhost:8080/",
     "height": 118
    },
    "colab_type": "code",
    "executionInfo": {
     "elapsed": 64929,
     "status": "ok",
     "timestamp": 1582268718807,
     "user": {
      "displayName": "Sahil -",
      "photoUrl": "",
      "userId": "14051148522636395588"
     },
     "user_tz": -330
    },
    "id": "tEIZuGZcBARv",
    "outputId": "aac6c4e4-a76d-42ee-e390-32c09fa730e0"
   },
   "outputs": [
    {
     "name": "stdout",
     "output_type": "stream",
     "text": [
      "Test data \n",
      "--------------------------------------------------\n",
      "\n",
      "Total no of ratings : 20096102\n",
      "Total No of Users   : 349312\n",
      "Total No of movies  : 17757\n"
     ]
    }
   ],
   "source": [
    "print(\"Test data \")\n",
    "print(\"-\"*50)\n",
    "print(\"\\nTotal no of ratings :\",test_df.shape[0])\n",
    "print(\"Total No of Users   :\", len(np.unique(test_df.user)))\n",
    "print(\"Total No of movies  :\", len(np.unique(test_df.movie)))"
   ]
  },
  {
   "cell_type": "markdown",
   "metadata": {
    "colab_type": "text",
    "id": "7Td5tx9yDaJN"
   },
   "source": [
    " <h2> 3.3 Exploratory Data Analysis on Train data </h2>"
   ]
  },
  {
   "cell_type": "code",
   "execution_count": 0,
   "metadata": {
    "colab": {},
    "colab_type": "code",
    "id": "kHXhqu4YDXZg"
   },
   "outputs": [],
   "source": [
    "# method to make y-axis more readable\n",
    "def human(num, units = 'M'):\n",
    "    units = units.lower()\n",
    "    num = float(num)\n",
    "    if units == 'k':\n",
    "        return str(num/10**3) + \" K\"\n",
    "    elif units == 'm':\n",
    "        return str(num/10**6) + \" M\"\n",
    "    elif units == 'b':\n",
    "        return str(num/10**9) +  \" B\""
   ]
  },
  {
   "cell_type": "markdown",
   "metadata": {
    "colab_type": "text",
    "id": "jVDBSHTmDkJw"
   },
   "source": [
    "<h3> 3.3.1 Distribution of ratings </h3>"
   ]
  },
  {
   "cell_type": "code",
   "execution_count": 0,
   "metadata": {
    "colab": {
     "base_uri": "https://localhost:8080/",
     "height": 304
    },
    "colab_type": "code",
    "executionInfo": {
     "elapsed": 6251,
     "status": "ok",
     "timestamp": 1581858443797,
     "user": {
      "displayName": "Sahil -",
      "photoUrl": "",
      "userId": "14051148522636395588"
     },
     "user_tz": -330
    },
    "id": "FKoc__RbDiFi",
    "outputId": "4e01d03a-a30d-4173-c159-4dde4894db10"
   },
   "outputs": [
    {
     "data": {
      "image/png": "[encoded data removed]",
      "text/plain": [
       "<Figure size 432x288 with 1 Axes>"
      ]
     },
     "metadata": {
      "tags": []
     },
     "output_type": "display_data"
    }
   ],
   "source": [
    "fig, ax = plt.subplots()\n",
    "plt.title('Distribution of ratings over Training dataset', fontsize=15)\n",
    "sns.countplot(train_df.rating)\n",
    "ax.set_yticklabels([human(item) for item in ax.get_yticks()])\n",
    "ax.set_ylabel('No. of Ratings(Millions)')\n",
    "plt.show();"
   ]
  },
  {
   "cell_type": "markdown",
   "metadata": {
    "colab_type": "text",
    "id": "OirmVB-FHKmx"
   },
   "source": [
    "<p style=\"font-size:13px\"> <b>Add new column (week day) to the data set  for analysis.</b></p>"
   ]
  },
  {
   "cell_type": "code",
   "execution_count": 0,
   "metadata": {
    "colab": {
     "base_uri": "https://localhost:8080/",
     "height": 195
    },
    "colab_type": "code",
    "executionInfo": {
     "elapsed": 88238,
     "status": "ok",
     "timestamp": 1582268742129,
     "user": {
      "displayName": "Sahil -",
      "photoUrl": "",
      "userId": "14051148522636395588"
     },
     "user_tz": -330
    },
    "id": "fgi5rxeMDqAG",
    "outputId": "73575721-772c-4cbc-de15-b8c216ebe7a7"
   },
   "outputs": [
    {
     "data": {
      "text/html": [
       "<div>\n",
       "<style scoped>\n",
       "    .dataframe tbody tr th:only-of-type {\n",
       "        vertical-align: middle;\n",
       "    }\n",
       "\n",
       "    .dataframe tbody tr th {\n",
       "        vertical-align: top;\n",
       "    }\n",
       "\n",
       "    .dataframe thead th {\n",
       "        text-align: right;\n",
       "    }\n",
       "</style>\n",
       "<table border=\"1\" class=\"dataframe\">\n",
       "  <thead>\n",
       "    <tr style=\"text-align: right;\">\n",
       "      <th></th>\n",
       "      <th>movie</th>\n",
       "      <th>user</th>\n",
       "      <th>rating</th>\n",
       "      <th>date</th>\n",
       "      <th>day_of_week</th>\n",
       "    </tr>\n",
       "  </thead>\n",
       "  <tbody>\n",
       "    <tr>\n",
       "      <th>80384400</th>\n",
       "      <td>12074</td>\n",
       "      <td>2033618</td>\n",
       "      <td>4</td>\n",
       "      <td>2005-08-08</td>\n",
       "      <td>Monday</td>\n",
       "    </tr>\n",
       "    <tr>\n",
       "      <th>80384401</th>\n",
       "      <td>862</td>\n",
       "      <td>1797061</td>\n",
       "      <td>3</td>\n",
       "      <td>2005-08-08</td>\n",
       "      <td>Monday</td>\n",
       "    </tr>\n",
       "    <tr>\n",
       "      <th>80384402</th>\n",
       "      <td>10986</td>\n",
       "      <td>1498715</td>\n",
       "      <td>5</td>\n",
       "      <td>2005-08-08</td>\n",
       "      <td>Monday</td>\n",
       "    </tr>\n",
       "    <tr>\n",
       "      <th>80384403</th>\n",
       "      <td>14861</td>\n",
       "      <td>500016</td>\n",
       "      <td>4</td>\n",
       "      <td>2005-08-08</td>\n",
       "      <td>Monday</td>\n",
       "    </tr>\n",
       "    <tr>\n",
       "      <th>80384404</th>\n",
       "      <td>5926</td>\n",
       "      <td>1044015</td>\n",
       "      <td>5</td>\n",
       "      <td>2005-08-08</td>\n",
       "      <td>Monday</td>\n",
       "    </tr>\n",
       "  </tbody>\n",
       "</table>\n",
       "</div>"
      ],
      "text/plain": [
       "          movie     user  rating       date day_of_week\n",
       "80384400  12074  2033618       4 2005-08-08      Monday\n",
       "80384401    862  1797061       3 2005-08-08      Monday\n",
       "80384402  10986  1498715       5 2005-08-08      Monday\n",
       "80384403  14861   500016       4 2005-08-08      Monday\n",
       "80384404   5926  1044015       5 2005-08-08      Monday"
      ]
     },
     "execution_count": 21,
     "metadata": {
      "tags": []
     },
     "output_type": "execute_result"
    }
   ],
   "source": [
    "# It is used to skip the warning ''SettingWithCopyWarning''.. \n",
    "pd.options.mode.chained_assignment = None  # default='warn'\n",
    "\n",
    "# Get the day based on the datetime stamp\n",
    "train_df['day_of_week'] = train_df.date.dt.weekday_name\n",
    "\n",
    "train_df.tail()"
   ]
  },
  {
   "cell_type": "markdown",
   "metadata": {
    "colab_type": "text",
    "id": "jswJtarmHgJq"
   },
   "source": [
    "<h3> 3.3.2 Number of Ratings per a month </h3>"
   ]
  },
  {
   "cell_type": "code",
   "execution_count": 0,
   "metadata": {
    "colab": {
     "base_uri": "https://localhost:8080/",
     "height": 302
    },
    "colab_type": "code",
    "executionInfo": {
     "elapsed": 3494,
     "status": "ok",
     "timestamp": 1581859564026,
     "user": {
      "displayName": "Sahil -",
      "photoUrl": "",
      "userId": "14051148522636395588"
     },
     "user_tz": -330
    },
    "id": "jhVjV9TCHYWL",
    "outputId": "2e88aeeb-57e9-4941-ef6d-5c230a768dbe"
   },
   "outputs": [
    {
     "data": {
      "image/png": "[encoded data removed]",
      "text/plain": [
       "<Figure size 432x288 with 1 Axes>"
      ]
     },
     "metadata": {
      "tags": []
     },
     "output_type": "display_data"
    }
   ],
   "source": [
    "ax = train_df.resample('M', on='date')['rating'].count().plot()\n",
    "ax.set_title('No of ratings per month (Training data)')\n",
    "plt.xlabel('Month')\n",
    "plt.ylabel('No of ratings(per month)')\n",
    "ax.set_yticklabels([human(item) for item in ax.get_yticks()])\n",
    "plt.show()"
   ]
  },
  {
   "cell_type": "markdown",
   "metadata": {
    "colab_type": "text",
    "id": "dpjAY-6zIB73"
   },
   "source": [
    "<h3> 3.3.3 Analysis on the Ratings given by user </h3>"
   ]
  },
  {
   "cell_type": "code",
   "execution_count": 0,
   "metadata": {
    "colab": {
     "base_uri": "https://localhost:8080/",
     "height": 134
    },
    "colab_type": "code",
    "executionInfo": {
     "elapsed": 4979,
     "status": "ok",
     "timestamp": 1581858752001,
     "user": {
      "displayName": "Sahil -",
      "photoUrl": "",
      "userId": "14051148522636395588"
     },
     "user_tz": -330
    },
    "id": "q89Ga6drH6tK",
    "outputId": "3569a51f-a245-44a1-baa1-62de74e31382"
   },
   "outputs": [
    {
     "data": {
      "text/plain": [
       "user\n",
       "305344     17112\n",
       "2439493    15896\n",
       "387418     15402\n",
       "1639792     9767\n",
       "1461435     9447\n",
       "Name: rating, dtype: int64"
      ]
     },
     "execution_count": 29,
     "metadata": {
      "tags": []
     },
     "output_type": "execute_result"
    }
   ],
   "source": [
    "no_of_rated_movies_per_user = train_df.groupby(by='user')['rating'].count().sort_values(ascending=False)\n",
    "\n",
    "no_of_rated_movies_per_user.head()"
   ]
  },
  {
   "cell_type": "code",
   "execution_count": 0,
   "metadata": {
    "colab": {
     "base_uri": "https://localhost:8080/",
     "height": 302
    },
    "colab_type": "code",
    "executionInfo": {
     "elapsed": 68472,
     "status": "ok",
     "timestamp": 1581858857689,
     "user": {
      "displayName": "Sahil -",
      "photoUrl": "",
      "userId": "14051148522636395588"
     },
     "user_tz": -330
    },
    "id": "4WiojymmIPI1",
    "outputId": "e331cdf2-a27f-44de-984a-d7d13dc51144"
   },
   "outputs": [
    {
     "data": {
      "image/png": "[encoded data removed]",
      "text/plain": [
       "<Figure size 576x288 with 2 Axes>"
      ]
     },
     "metadata": {
      "tags": []
     },
     "output_type": "display_data"
    }
   ],
   "source": [
    "fig = plt.figure(figsize=plt.figaspect(.5))\n",
    "\n",
    "ax1 = plt.subplot(121)\n",
    "sns.kdeplot(no_of_rated_movies_per_user, shade=True, ax=ax1)\n",
    "plt.xlabel('No of ratings by user')\n",
    "plt.title(\"PDF\")\n",
    "\n",
    "ax2 = plt.subplot(122)\n",
    "sns.kdeplot(no_of_rated_movies_per_user, shade=True, cumulative=True,ax=ax2)\n",
    "plt.xlabel('No of ratings by user')\n",
    "plt.title('CDF')\n",
    "\n",
    "plt.show()"
   ]
  },
  {
   "cell_type": "code",
   "execution_count": 0,
   "metadata": {
    "colab": {
     "base_uri": "https://localhost:8080/",
     "height": 168
    },
    "colab_type": "code",
    "executionInfo": {
     "elapsed": 2830,
     "status": "ok",
     "timestamp": 1581858891238,
     "user": {
      "displayName": "Sahil -",
      "photoUrl": "",
      "userId": "14051148522636395588"
     },
     "user_tz": -330
    },
    "id": "B_pHqY_TIZcQ",
    "outputId": "8df60d1e-8411-443d-dfe0-22296c2f02d9"
   },
   "outputs": [
    {
     "data": {
      "text/plain": [
       "count    405041.000000\n",
       "mean        198.459921\n",
       "std         290.793238\n",
       "min           1.000000\n",
       "25%          34.000000\n",
       "50%          89.000000\n",
       "75%         245.000000\n",
       "max       17112.000000\n",
       "Name: rating, dtype: float64"
      ]
     },
     "execution_count": 31,
     "metadata": {
      "tags": []
     },
     "output_type": "execute_result"
    }
   ],
   "source": [
    "no_of_rated_movies_per_user.describe()"
   ]
  },
  {
   "cell_type": "markdown",
   "metadata": {
    "colab_type": "text",
    "id": "I078DJFrI4ga"
   },
   "source": [
    "> _There,  is something interesting going on with the quantiles.._"
   ]
  },
  {
   "cell_type": "code",
   "execution_count": 0,
   "metadata": {
    "colab": {
     "base_uri": "https://localhost:8080/",
     "height": 302
    },
    "colab_type": "code",
    "executionInfo": {
     "elapsed": 3663,
     "status": "ok",
     "timestamp": 1581858993356,
     "user": {
      "displayName": "Sahil -",
      "photoUrl": "",
      "userId": "14051148522636395588"
     },
     "user_tz": -330
    },
    "id": "PVA3ZThuIxqD",
    "outputId": "ac03ee97-8797-4fab-a203-02f8dcb5f08a"
   },
   "outputs": [
    {
     "data": {
      "image/png": "[encoded data removed]",
      "text/plain": [
       "<Figure size 432x288 with 1 Axes>"
      ]
     },
     "metadata": {
      "tags": []
     },
     "output_type": "display_data"
    }
   ],
   "source": [
    "# percentile from 0 to 1 with interval 0.01\n",
    "quantiles = no_of_rated_movies_per_user.quantile(np.arange(0,1.01,0.01), interpolation='higher')\n",
    "\n",
    "plt.title(\"Quantiles and their Values\")\n",
    "quantiles.plot()\n",
    "# quantiles with 0.05 difference\n",
    "plt.scatter(x=quantiles.index[::5], y=quantiles.values[::5], c='orange', label=\"quantiles with 0.05 intervals\")\n",
    "# quantiles with 0.25 difference\n",
    "plt.scatter(x=quantiles.index[::25], y=quantiles.values[::25], c='m', label = \"quantiles with 0.25 intervals\")\n",
    "plt.ylabel('No of ratings by user')\n",
    "plt.xlabel('Value at the quantile')\n",
    "plt.legend(loc='best')\n",
    "\n",
    "# annotate the 25th, 50th, 75th and 100th percentile values....\n",
    "for x,y in zip(quantiles.index[::25], quantiles[::25]):\n",
    "    plt.annotate(s=\"({} , {})\".format(x,y), xy=(x,y), xytext=(x-0.05, y+500)\n",
    "                ,fontweight='bold')\n",
    "    \n",
    "plt.show()"
   ]
  },
  {
   "cell_type": "code",
   "execution_count": 0,
   "metadata": {
    "colab": {
     "base_uri": "https://localhost:8080/",
     "height": 386
    },
    "colab_type": "code",
    "executionInfo": {
     "elapsed": 2386,
     "status": "ok",
     "timestamp": 1581859058082,
     "user": {
      "displayName": "Sahil -",
      "photoUrl": "",
      "userId": "14051148522636395588"
     },
     "user_tz": -330
    },
    "id": "OOybf0yFJJ7P",
    "outputId": "8b05b583-d233-4c00-95d3-bb84efb9b50f"
   },
   "outputs": [
    {
     "data": {
      "text/plain": [
       "0.00        1\n",
       "0.05        7\n",
       "0.10       15\n",
       "0.15       21\n",
       "0.20       27\n",
       "0.25       34\n",
       "0.30       41\n",
       "0.35       50\n",
       "0.40       60\n",
       "0.45       73\n",
       "0.50       89\n",
       "0.55      109\n",
       "0.60      133\n",
       "0.65      163\n",
       "0.70      199\n",
       "0.75      245\n",
       "0.80      307\n",
       "0.85      392\n",
       "0.90      520\n",
       "0.95      749\n",
       "1.00    17112\n",
       "Name: rating, dtype: int64"
      ]
     },
     "execution_count": 33,
     "metadata": {
      "tags": []
     },
     "output_type": "execute_result"
    }
   ],
   "source": [
    "quantiles[::5]"
   ]
  },
  {
   "cell_type": "markdown",
   "metadata": {
    "colab_type": "text",
    "id": "DuzNZIsPJe6D"
   },
   "source": [
    "__how many ratings at the last 5% of all ratings__??"
   ]
  },
  {
   "cell_type": "code",
   "execution_count": 0,
   "metadata": {
    "colab": {
     "base_uri": "https://localhost:8080/",
     "height": 67
    },
    "colab_type": "code",
    "executionInfo": {
     "elapsed": 1193,
     "status": "ok",
     "timestamp": 1581859098573,
     "user": {
      "displayName": "Sahil -",
      "photoUrl": "",
      "userId": "14051148522636395588"
     },
     "user_tz": -330
    },
    "id": "xcH9IEpHJafi",
    "outputId": "12d193e2-31f6-4246-c21b-900019badc5a"
   },
   "outputs": [
    {
     "name": "stdout",
     "output_type": "stream",
     "text": [
      "\n",
      " No of ratings at last 5 percentile : 20305\n",
      "\n"
     ]
    }
   ],
   "source": [
    "print('\\n No of ratings at last 5 percentile : {}\\n'.format(sum(no_of_rated_movies_per_user >= 749)))"
   ]
  },
  {
   "cell_type": "markdown",
   "metadata": {
    "colab_type": "text",
    "id": "NzWUcLRNJrz9"
   },
   "source": [
    "<h3> 3.3.4 Analysis of ratings of a movie given by a user </h3>"
   ]
  },
  {
   "cell_type": "code",
   "execution_count": 0,
   "metadata": {
    "colab": {
     "base_uri": "https://localhost:8080/",
     "height": 292
    },
    "colab_type": "code",
    "executionInfo": {
     "elapsed": 3414,
     "status": "ok",
     "timestamp": 1581859203661,
     "user": {
      "displayName": "Sahil -",
      "photoUrl": "",
      "userId": "14051148522636395588"
     },
     "user_tz": -330
    },
    "id": "m_fVT1NeJkrZ",
    "outputId": "1281520f-4b6c-4663-f2d9-00249d15b029"
   },
   "outputs": [
    {
     "data": {
      "image/png": "[encoded data removed]",
      "text/plain": [
       "<Figure size 576x288 with 1 Axes>"
      ]
     },
     "metadata": {
      "tags": []
     },
     "output_type": "display_data"
    }
   ],
   "source": [
    "no_of_ratings_per_movie = train_df.groupby(by='movie')['rating'].count().sort_values(ascending=False)\n",
    "\n",
    "fig = plt.figure(figsize=plt.figaspect(.5))\n",
    "ax = plt.gca()\n",
    "plt.plot(no_of_ratings_per_movie.values)\n",
    "plt.title('# RATINGS per Movie')\n",
    "plt.xlabel('Movie')\n",
    "plt.ylabel('No of Users who rated a movie')\n",
    "ax.set_xticklabels([])\n",
    "\n",
    "plt.show()"
   ]
  },
  {
   "cell_type": "markdown",
   "metadata": {
    "colab_type": "text",
    "id": "hk_RhKr6KBv0"
   },
   "source": [
    "- __It is very skewed.. just like nunmber of ratings given per user.__\n",
    "    \n",
    "    \n",
    "    - There are some movies (which are very popular) which are rated by huge number of users.\n",
    "    \n",
    "    - But most of the movies(like 90%) got some hundereds of ratings."
   ]
  },
  {
   "cell_type": "markdown",
   "metadata": {
    "colab_type": "text",
    "id": "zB5FohO2KLRv"
   },
   "source": [
    "<h3> 3.3.5 Number of ratings on each day of the week</h3>"
   ]
  },
  {
   "cell_type": "code",
   "execution_count": 0,
   "metadata": {
    "colab": {
     "base_uri": "https://localhost:8080/",
     "height": 287
    },
    "colab_type": "code",
    "executionInfo": {
     "elapsed": 19149,
     "status": "ok",
     "timestamp": 1581859282071,
     "user": {
      "displayName": "Sahil -",
      "photoUrl": "",
      "userId": "14051148522636395588"
     },
     "user_tz": -330
    },
    "id": "MTDlCwMTJ9yu",
    "outputId": "3490d11c-b83c-4912-aedd-f628a5184e1d"
   },
   "outputs": [
    {
     "data": {
      "image/png": "[encoded data removed]",
      "text/plain": [
       "<Figure size 432x288 with 1 Axes>"
      ]
     },
     "metadata": {
      "tags": []
     },
     "output_type": "display_data"
    }
   ],
   "source": [
    "fig, ax = plt.subplots()\n",
    "sns.countplot(x='day_of_week', data=train_df, ax=ax)\n",
    "plt.title('No of ratings on each day...')\n",
    "plt.ylabel('Total no of ratings')\n",
    "plt.xlabel('')\n",
    "ax.set_yticklabels([human(item, 'M') for item in ax.get_yticks()])\n",
    "plt.show()"
   ]
  },
  {
   "cell_type": "code",
   "execution_count": 0,
   "metadata": {
    "colab": {
     "base_uri": "https://localhost:8080/",
     "height": 310
    },
    "colab_type": "code",
    "executionInfo": {
     "elapsed": 29113,
     "status": "ok",
     "timestamp": 1581859316413,
     "user": {
      "displayName": "Sahil -",
      "photoUrl": "",
      "userId": "14051148522636395588"
     },
     "user_tz": -330
    },
    "id": "L2wFsPawKNF0",
    "outputId": "a3c67d1d-052e-430d-b50a-f846744879a0"
   },
   "outputs": [
    {
     "data": {
      "image/png": "[encoded data removed]",
      "text/plain": [
       "<Figure size 640x288 with 1 Axes>"
      ]
     },
     "metadata": {
      "tags": []
     },
     "output_type": "display_data"
    },
    {
     "name": "stdout",
     "output_type": "stream",
     "text": [
      "0:00:27.797047\n"
     ]
    }
   ],
   "source": [
    "start = datetime.now()\n",
    "fig = plt.figure(figsize=plt.figaspect(.45))\n",
    "sns.boxplot(y='rating', x='day_of_week', data=train_df)\n",
    "plt.show()\n",
    "print(datetime.now() - start)"
   ]
  },
  {
   "cell_type": "code",
   "execution_count": 0,
   "metadata": {
    "colab": {
     "base_uri": "https://localhost:8080/",
     "height": 235
    },
    "colab_type": "code",
    "executionInfo": {
     "elapsed": 6918,
     "status": "ok",
     "timestamp": 1581859326389,
     "user": {
      "displayName": "Sahil -",
      "photoUrl": "",
      "userId": "14051148522636395588"
     },
     "user_tz": -330
    },
    "id": "yNDvbaEWKTCt",
    "outputId": "d8dfb7d0-69e9-457c-b845-3b2270d8f65b"
   },
   "outputs": [
    {
     "name": "stdout",
     "output_type": "stream",
     "text": [
      " AVerage ratings\n",
      "------------------------------\n",
      "day_of_week\n",
      "Friday       3.585274\n",
      "Monday       3.577250\n",
      "Saturday     3.591791\n",
      "Sunday       3.594144\n",
      "Thursday     3.582463\n",
      "Tuesday      3.574438\n",
      "Wednesday    3.583751\n",
      "Name: rating, dtype: float64\n",
      "\n",
      "\n"
     ]
    }
   ],
   "source": [
    "avg_week_df = train_df.groupby(by=['day_of_week'])['rating'].mean()\n",
    "print(\" AVerage ratings\")\n",
    "print(\"-\"*30)\n",
    "print(avg_week_df)\n",
    "print(\"\\n\")"
   ]
  },
  {
   "cell_type": "markdown",
   "metadata": {
    "colab_type": "text",
    "id": "e_73j1AR56PD"
   },
   "source": [
    "<h3> 3.3.6 Creating sparse matrix from data frame </h3>\n",
    "<h4> 3.3.6.1 Creating sparse matrix from train data frame </h4>"
   ]
  },
  {
   "cell_type": "code",
   "execution_count": 0,
   "metadata": {
    "colab": {
     "base_uri": "https://localhost:8080/",
     "height": 34
    },
    "colab_type": "code",
    "executionInfo": {
     "elapsed": 8585,
     "status": "ok",
     "timestamp": 1582269049237,
     "user": {
      "displayName": "Sahil -",
      "photoUrl": "",
      "userId": "14051148522636395588"
     },
     "user_tz": -330
    },
    "id": "scdvMmq-kTpH",
    "outputId": "51f0c849-c2d5-4f6b-fdd5-5a71123cefb8"
   },
   "outputs": [
    {
     "name": "stdout",
     "output_type": "stream",
     "text": [
      "Drive already mounted at /content/drive; to attempt to forcibly remount, call drive.mount(\"/content/drive\", force_remount=True).\n"
     ]
    }
   ],
   "source": [
    "# Checkpoint\n",
    "# import train.csv and test.csv file from my gdrive\n",
    "from google.colab import drive\n",
    "drive.mount('/content/drive')\n",
    "!cp '/content/drive/My Drive/NetFlix Prize/train_sparse_matrix.npz' '/content/' \n",
    "!cp '/content/drive/My Drive/NetFlix Prize/test_sparse_matrix.npz' '/content/' "
   ]
  },
  {
   "cell_type": "code",
   "execution_count": 0,
   "metadata": {
    "colab": {
     "base_uri": "https://localhost:8080/",
     "height": 118
    },
    "colab_type": "code",
    "executionInfo": {
     "elapsed": 67535,
     "status": "ok",
     "timestamp": 1582268862841,
     "user": {
      "displayName": "Sahil -",
      "photoUrl": "",
      "userId": "14051148522636395588"
     },
     "user_tz": -330
    },
    "id": "Dm-hJBhmKa5o",
    "outputId": "c95be152-e92b-4de2-ca47-9b3edca0b80e"
   },
   "outputs": [
    {
     "name": "stdout",
     "output_type": "stream",
     "text": [
      "We are creating sparse_matrix from the dataframe..\n",
      "Done. It's shape is : (user, movie) :  (2649430, 17771)\n",
      "Saving it into disk for furthur usage..\n",
      "Done..\n",
      "\n",
      "0:01:06.230509\n"
     ]
    }
   ],
   "source": [
    "start = datetime.now()\n",
    "if os.path.isfile('/content/train_sparse_matrix.npz'):\n",
    "    print(\"It is present in your pwd, getting it from disk....\")\n",
    "    # just get it from the disk instead of computing it\n",
    "    train_sparse_matrix = sparse.load_npz('/content/train_sparse_matrix.npz')\n",
    "    print(\"DONE..\")\n",
    "else: \n",
    "    print(\"We are creating sparse_matrix from the dataframe..\")\n",
    "    # create sparse_matrix and store it for after usage.\n",
    "    # csr_matrix(data_values, (row_index, col_index), shape_of_matrix)\n",
    "    # It should be in such a way that, MATRIX[row, col] = data\n",
    "    train_sparse_matrix = sparse.csr_matrix((train_df.rating.values, (train_df.user.values,\n",
    "                                               train_df.movie.values)),)\n",
    "    \n",
    "    print('Done. It\\'s shape is : (user, movie) : ',train_sparse_matrix.shape)\n",
    "    print('Saving it into disk for furthur usage..')\n",
    "    # save it into disk\n",
    "    sparse.save_npz(\"/content/train_sparse_matrix.npz\", train_sparse_matrix)\n",
    "    print('Done..\\n')\n",
    "\n",
    "print(datetime.now() - start)"
   ]
  },
  {
   "cell_type": "markdown",
   "metadata": {
    "colab_type": "text",
    "id": "yn8_Z3XE7GRq"
   },
   "source": [
    "<p><b>The Sparsity of Train Sparse Matrix</b></p>"
   ]
  },
  {
   "cell_type": "code",
   "execution_count": 0,
   "metadata": {
    "colab": {
     "base_uri": "https://localhost:8080/",
     "height": 34
    },
    "colab_type": "code",
    "executionInfo": {
     "elapsed": 1237,
     "status": "ok",
     "timestamp": 1582268015402,
     "user": {
      "displayName": "Sahil -",
      "photoUrl": "",
      "userId": "14051148522636395588"
     },
     "user_tz": -330
    },
    "id": "xQxbXlEU6yPg",
    "outputId": "b12ed0ec-45a1-4378-83b6-8dc19f1d01e8"
   },
   "outputs": [
    {
     "name": "stdout",
     "output_type": "stream",
     "text": [
      "Sparsity Of Train matrix : 99.8292709259195 % \n"
     ]
    }
   ],
   "source": [
    "us,mv = train_sparse_matrix.shape\n",
    "elem = train_sparse_matrix.count_nonzero()\n",
    "\n",
    "# Sparsity 0f matrix = # number of zeroes/total number of elements\n",
    "print(\"Sparsity Of Train matrix : {} % \".format(  (1-(elem/(us*mv))) * 100) )"
   ]
  },
  {
   "cell_type": "markdown",
   "metadata": {
    "colab_type": "text",
    "id": "PKKAVyqb7WTO"
   },
   "source": [
    "<h4> 3.3.6.2 Creating sparse matrix from test data frame </h4>"
   ]
  },
  {
   "cell_type": "code",
   "execution_count": 0,
   "metadata": {
    "colab": {
     "base_uri": "https://localhost:8080/",
     "height": 67
    },
    "colab_type": "code",
    "executionInfo": {
     "elapsed": 2502,
     "status": "ok",
     "timestamp": 1582266447878,
     "user": {
      "displayName": "Sahil -",
      "photoUrl": "",
      "userId": "14051148522636395588"
     },
     "user_tz": -330
    },
    "id": "WS1phT087RQ-",
    "outputId": "44b6b937-0aab-490d-8523-46fbbe8cd0d9"
   },
   "outputs": [
    {
     "name": "stdout",
     "output_type": "stream",
     "text": [
      "It is present in your pwd, getting it from disk....\n",
      "DONE..\n",
      "0:00:01.227779\n"
     ]
    }
   ],
   "source": [
    "start = datetime.now()\n",
    "if os.path.isfile('/content/test_sparse_matrix.npz'):\n",
    "    print(\"It is present in your pwd, getting it from disk....\")\n",
    "    # just get it from the disk instead of computing it\n",
    "    test_sparse_matrix = sparse.load_npz('test_sparse_matrix.npz')\n",
    "    print(\"DONE..\")\n",
    "else: \n",
    "    print(\"We are creating sparse_matrix from the dataframe..\")\n",
    "    # create sparse_matrix and store it for after usage.\n",
    "    # csr_matrix(data_values, (row_index, col_index), shape_of_matrix)\n",
    "    # It should be in such a way that, MATRIX[row, col] = data\n",
    "    test_sparse_matrix = sparse.csr_matrix((test_df.rating.values, (test_df.user.values,\n",
    "                                               test_df.movie.values)))\n",
    "    \n",
    "    print('Done. It\\'s shape is : (user, movie) : ',test_sparse_matrix.shape)\n",
    "    print('Saving it into disk for furthur usage..')\n",
    "    # save it into disk\n",
    "    sparse.save_npz(\"test_sparse_matrix.npz\", test_sparse_matrix)\n",
    "    print('Done..\\n')\n",
    "    \n",
    "print(datetime.now() - start)"
   ]
  },
  {
   "cell_type": "markdown",
   "metadata": {
    "colab_type": "text",
    "id": "1xJgOcWV7bw6"
   },
   "source": [
    "<p><b>The Sparsity of Test data Matrix</b></p>"
   ]
  },
  {
   "cell_type": "code",
   "execution_count": 0,
   "metadata": {
    "colab": {
     "base_uri": "https://localhost:8080/",
     "height": 34
    },
    "colab_type": "code",
    "executionInfo": {
     "elapsed": 1446,
     "status": "ok",
     "timestamp": 1582268022247,
     "user": {
      "displayName": "Sahil -",
      "photoUrl": "",
      "userId": "14051148522636395588"
     },
     "user_tz": -330
    },
    "id": "uWyxZIw47Z6F",
    "outputId": "a701f8da-20ef-49d5-e2c1-ef588a856de3"
   },
   "outputs": [
    {
     "name": "stdout",
     "output_type": "stream",
     "text": [
      "Sparsity Of Test matrix : 99.95731772988694 % \n"
     ]
    }
   ],
   "source": [
    "us,mv = test_sparse_matrix.shape\n",
    "elem = test_sparse_matrix.count_nonzero()\n",
    "\n",
    "# Sparsity 0f matrix = # number of zeroes/total number of elements\n",
    "print(\"Sparsity Of Test matrix : {} % \".format(  (1-(elem/(us*mv))) * 100) )"
   ]
  },
  {
   "cell_type": "markdown",
   "metadata": {
    "colab_type": "text",
    "id": "64-jb6oE7leA"
   },
   "source": [
    "<h3>3.3.7 Finding\n",
    "<ul>\n",
    "  <li> Global average of all movie ratings </li>\n",
    "  <li>Average rating per user </li> \n",
    "  <li>Average rating per movie </li>\n",
    "</h3>"
   ]
  },
  {
   "cell_type": "code",
   "execution_count": 0,
   "metadata": {
    "colab": {},
    "colab_type": "code",
    "id": "7l3313cl7gTr"
   },
   "outputs": [],
   "source": [
    "# get the user averages in dictionary (key: user_id/movie_id, value: avg rating)\n",
    "\n",
    "def get_average_ratings(sparse_matrix, of_users):\n",
    "    \n",
    "    # average ratings of user/axes\n",
    "    ax = 1 if of_users else 0 # 1 - User axes,0 - Movie axes\n",
    "\n",
    "    # \".A1\" is for converting Column_Matrix to 1-D numpy array\n",
    "    # axis = 0 means summing in columnwise, axis = 1 means summing in rowise\n",
    "    sum_of_ratings = sparse_matrix.sum(axis=ax).A1\n",
    "    # Boolean matrix of ratings ( whether a user rated that movie or not)\n",
    "    is_rated = sparse_matrix!=0\n",
    "    # no of ratings that each user OR movie..\n",
    "    no_of_ratings = is_rated.sum(axis=ax).A1\n",
    "    \n",
    "    # max_user  and max_movie ids in sparse matrix \n",
    "    u,m = sparse_matrix.shape\n",
    "    # creae a dictonary of users and their average ratigns..\n",
    "    average_ratings = { i : sum_of_ratings[i]/no_of_ratings[i]\n",
    "                                 for i in range(u if of_users else m) \n",
    "                                    if no_of_ratings[i] !=0}\n",
    "\n",
    "    # return that dictionary of average ratings\n",
    "    return average_ratings"
   ]
  },
  {
   "cell_type": "markdown",
   "metadata": {
    "colab_type": "text",
    "id": "JnIVoDaa9PYb"
   },
   "source": [
    "<h4> 3.3.7.1 finding global average of all movie ratings </h4>"
   ]
  },
  {
   "cell_type": "code",
   "execution_count": 0,
   "metadata": {
    "colab": {
     "base_uri": "https://localhost:8080/",
     "height": 34
    },
    "colab_type": "code",
    "executionInfo": {
     "elapsed": 1341,
     "status": "ok",
     "timestamp": 1582102047616,
     "user": {
      "displayName": "Sahil -",
      "photoUrl": "",
      "userId": "14051148522636395588"
     },
     "user_tz": -330
    },
    "id": "J1bJYP7y9M-2",
    "outputId": "630faf52-7099-4090-adf5-655709c80b64"
   },
   "outputs": [
    {
     "data": {
      "text/plain": [
       "{'global': 3.582890686321557}"
      ]
     },
     "execution_count": 8,
     "metadata": {
      "tags": []
     },
     "output_type": "execute_result"
    }
   ],
   "source": [
    "train_averages = dict()\n",
    "# get the global average of ratings in our train set.\n",
    "train_global_average = train_sparse_matrix.sum()/train_sparse_matrix.count_nonzero()\n",
    "train_averages['global'] = train_global_average\n",
    "train_averages"
   ]
  },
  {
   "cell_type": "markdown",
   "metadata": {
    "colab_type": "text",
    "id": "8sr-xZt99bZH"
   },
   "source": [
    "<h4> 3.3.7.2 finding average rating per user</h4>"
   ]
  },
  {
   "cell_type": "code",
   "execution_count": 0,
   "metadata": {
    "colab": {
     "base_uri": "https://localhost:8080/",
     "height": 50
    },
    "colab_type": "code",
    "executionInfo": {
     "elapsed": 3761,
     "status": "ok",
     "timestamp": 1582102051001,
     "user": {
      "displayName": "Sahil -",
      "photoUrl": "",
      "userId": "14051148522636395588"
     },
     "user_tz": -330
    },
    "id": "yZ_uUBPf9Y-4",
    "outputId": "495288e5-8d43-4ce4-ddd4-9d4d08c19234"
   },
   "outputs": [
    {
     "name": "stdout",
     "output_type": "stream",
     "text": [
      "\n",
      "Average rating of user 10 : 3.3781094527363185\n"
     ]
    }
   ],
   "source": [
    "train_averages['user'] = get_average_ratings(train_sparse_matrix, of_users=True)\n",
    "print('\\nAverage rating of user 10 :',train_averages['user'][10])"
   ]
  },
  {
   "cell_type": "markdown",
   "metadata": {
    "colab_type": "text",
    "id": "O5H9YSWh9k_x"
   },
   "source": [
    "<h4> 3.3.7.3 finding average rating per movie</h4>"
   ]
  },
  {
   "cell_type": "code",
   "execution_count": 0,
   "metadata": {
    "colab": {
     "base_uri": "https://localhost:8080/",
     "height": 50
    },
    "colab_type": "code",
    "executionInfo": {
     "elapsed": 3443,
     "status": "ok",
     "timestamp": 1582102051482,
     "user": {
      "displayName": "Sahil -",
      "photoUrl": "",
      "userId": "14051148522636395588"
     },
     "user_tz": -330
    },
    "id": "OoL8sb_I9hzf",
    "outputId": "5711803c-1be2-4598-b083-78273ed510a6"
   },
   "outputs": [
    {
     "name": "stdout",
     "output_type": "stream",
     "text": [
      "\n",
      " AVerage rating of movie 15 : 3.3038461538461537\n"
     ]
    }
   ],
   "source": [
    "train_averages['movie'] =  get_average_ratings(train_sparse_matrix, of_users=False)\n",
    "print('\\n AVerage rating of movie 15 :',train_averages['movie'][15])"
   ]
  },
  {
   "cell_type": "markdown",
   "metadata": {
    "colab_type": "text",
    "id": "-AliFJtw9pXw"
   },
   "source": [
    "<h4> 3.3.7.4 PDF's & CDF's of Avg.Ratings of Users & Movies (In Train Data)</h4>"
   ]
  },
  {
   "cell_type": "code",
   "execution_count": 0,
   "metadata": {
    "colab": {
     "base_uri": "https://localhost:8080/",
     "height": 311
    },
    "colab_type": "code",
    "executionInfo": {
     "elapsed": 36687,
     "status": "ok",
     "timestamp": 1582040579531,
     "user": {
      "displayName": "Sahil -",
      "photoUrl": "",
      "userId": "14051148522636395588"
     },
     "user_tz": -330
    },
    "id": "qKfDJRQh9mvz",
    "outputId": "2c9bb1e4-e6f2-4263-85ed-98c2cd4a2b1e"
   },
   "outputs": [
    {
     "data": {
      "image/png": "[encoded data removed]",
      "text/plain": [
       "<Figure size 576x288 with 2 Axes>"
      ]
     },
     "metadata": {
      "tags": []
     },
     "output_type": "display_data"
    },
    {
     "name": "stdout",
     "output_type": "stream",
     "text": [
      "0:00:35.394996\n"
     ]
    }
   ],
   "source": [
    "start = datetime.now()\n",
    "# draw pdfs for average rating per user and average\n",
    "fig, (ax1, ax2) = plt.subplots(nrows=1, ncols=2, figsize=plt.figaspect(.5))\n",
    "fig.suptitle('Avg Ratings per User and per Movie', fontsize=15)\n",
    "\n",
    "ax1.set_title('Users-Avg-Ratings')\n",
    "# get the list of average user ratings from the averages dictionary..\n",
    "user_averages = [rat for rat in train_averages['user'].values()]\n",
    "sns.distplot(user_averages, ax=ax1, hist=False, \n",
    "             kde_kws=dict(cumulative=True), label='Cdf')\n",
    "sns.distplot(user_averages, ax=ax1, hist=False,label='Pdf')\n",
    "\n",
    "ax2.set_title('Movies-Avg-Rating')\n",
    "# get the list of movie_average_ratings from the dictionary..\n",
    "movie_averages = [rat for rat in train_averages['movie'].values()]\n",
    "sns.distplot(movie_averages, ax=ax2, hist=False, \n",
    "             kde_kws=dict(cumulative=True), label='Cdf')\n",
    "sns.distplot(movie_averages, ax=ax2, hist=False, label='Pdf')\n",
    "\n",
    "plt.show()\n",
    "print(datetime.now() - start)"
   ]
  },
  {
   "cell_type": "markdown",
   "metadata": {
    "colab_type": "text",
    "id": "U6n5x4hz-UkA"
   },
   "source": [
    "<h3> 3.3.8 Cold Start problem </h3>\n",
    "<h4> 3.3.8.1 Cold Start problem with Users</h4>"
   ]
  },
  {
   "cell_type": "code",
   "execution_count": 0,
   "metadata": {
    "colab": {
     "base_uri": "https://localhost:8080/",
     "height": 134
    },
    "colab_type": "code",
    "executionInfo": {
     "elapsed": 11810,
     "status": "ok",
     "timestamp": 1582041473645,
     "user": {
      "displayName": "Sahil -",
      "photoUrl": "",
      "userId": "14051148522636395588"
     },
     "user_tz": -330
    },
    "id": "6tCU1I-u9u4X",
    "outputId": "4b37cfc2-bca4-4a12-9fe3-361a5d29a10d"
   },
   "outputs": [
    {
     "name": "stdout",
     "output_type": "stream",
     "text": [
      "\n",
      "Total number of Users  : 480189\n",
      "\n",
      "Number of Users in Train data : 405041\n",
      "\n",
      "No of Users that didn't appear in train data: 75148(15.65 %) \n",
      " \n"
     ]
    }
   ],
   "source": [
    "total_users = len(np.unique(df.user))\n",
    "users_train = len(train_averages['user'])\n",
    "new_users = total_users - users_train\n",
    "\n",
    "print('\\nTotal number of Users  :', total_users)\n",
    "print('\\nNumber of Users in Train data :', users_train)\n",
    "print(\"\\nNo of Users that didn't appear in train data: {}({} %) \\n \".format(new_users,\n",
    "                                                                        np.round((new_users/total_users)*100, 2)))"
   ]
  },
  {
   "cell_type": "markdown",
   "metadata": {
    "colab_type": "text",
    "id": "SiODAFiRBVml"
   },
   "source": [
    "> We might have to handle __new users__ ( ___75148___ ) who didn't appear in train data.\n",
    "\n",
    "<h4> 3.3.8.2 Cold Start problem with Movies</h4>"
   ]
  },
  {
   "cell_type": "code",
   "execution_count": 0,
   "metadata": {
    "colab": {
     "base_uri": "https://localhost:8080/",
     "height": 134
    },
    "colab_type": "code",
    "executionInfo": {
     "elapsed": 8949,
     "status": "ok",
     "timestamp": 1582041517165,
     "user": {
      "displayName": "Sahil -",
      "photoUrl": "",
      "userId": "14051148522636395588"
     },
     "user_tz": -330
    },
    "id": "WoYA4Hw1BPPQ",
    "outputId": "79ae9c13-ab31-457d-c72b-dfb87f8daf7b"
   },
   "outputs": [
    {
     "name": "stdout",
     "output_type": "stream",
     "text": [
      "\n",
      "Total number of Movies  : 17770\n",
      "\n",
      "Number of Users in Train data : 17424\n",
      "\n",
      "No of Movies that didn't appear in train data: 346(1.95 %) \n",
      " \n"
     ]
    }
   ],
   "source": [
    "total_movies = len(np.unique(df.movie))\n",
    "movies_train = len(train_averages['movie'])\n",
    "new_movies = total_movies - movies_train\n",
    "\n",
    "print('\\nTotal number of Movies  :', total_movies)\n",
    "print('\\nNumber of Users in Train data :', movies_train)\n",
    "print(\"\\nNo of Movies that didn't appear in train data: {}({} %) \\n \".format(new_movies,\n",
    "                                                                        np.round((new_movies/total_movies)*100, 2)))"
   ]
  },
  {
   "cell_type": "code",
   "execution_count": 0,
   "metadata": {
    "colab": {
     "base_uri": "https://localhost:8080/",
     "height": 156
    },
    "colab_type": "code",
    "executionInfo": {
     "elapsed": 31841,
     "status": "ok",
     "timestamp": 1582120558357,
     "user": {
      "displayName": "Sahil -",
      "photoUrl": "",
      "userId": "14051148522636395588"
     },
     "user_tz": -330
    },
    "id": "hQLG0V32B1HQ",
    "outputId": "1606acca-de7f-4f8c-a571-297cb0d52882"
   },
   "outputs": [
    {
     "name": "stdout",
     "output_type": "stream",
     "text": [
      "Go to this URL in a browser: https://accounts.google.com/o/oauth2/auth?client_id=947318989803-6bn6qk8qdgf4n4g3pfee6491hc0brc4i.apps.googleusercontent.com&redirect_uri=urn%3aietf%3awg%3aoauth%3a2.0%3aoob&response_type=code&scope=email%20https%3a%2f%2fwww.googleapis.com%2fauth%2fdocs.test%20https%3a%2f%2fwww.googleapis.com%2fauth%2fdrive%20https%3a%2f%2fwww.googleapis.com%2fauth%2fdrive.photos.readonly%20https%3a%2f%2fwww.googleapis.com%2fauth%2fpeopleapi.readonly\n",
      "\n",
      "Enter your authorization code:\n",
      "··········\n",
      "Mounted at /content/drive\n",
      "cp: cannot stat '/content/train_sparse_matrix.npz': No such file or directory\n",
      "cp: cannot stat '/content/test_sparse_matrix.npz': No such file or directory\n"
     ]
    }
   ],
   "source": [
    "# save train and test sparse matrix file to my gdrive\n",
    "!cp '/content/train_sparse_matrix.npz' '/content/drive/My Drive/NetFlix Prize/'\n",
    "!cp '/content/test_sparse_matrix.npz' '/content/drive/My Drive/NetFlix Prize/'"
   ]
  },
  {
   "cell_type": "markdown",
   "metadata": {
    "colab_type": "text",
    "id": "QBBRcMQlBdHd"
   },
   "source": [
    "> We might have to handle __346 movies__ (small comparatively) in test data\n",
    "\n",
    "<h2> 3.4 Computing Similarity matrices </h2>\n",
    "<h3> 3.4.1 Computing User-User Similarity matrix </h3>\n",
    "1. Calculating User User Similarity_Matrix is <strong>not very easy</strong> (<strong>unless you have huge Computing Power and lots of time</strong>) because of number of. usersbeing lare.\n",
    "\n",
    "    You can try if you want to. Your system could crash or the program stops with \"Memory Error\"\n"
   ]
  },
  {
   "cell_type": "code",
   "execution_count": 0,
   "metadata": {
    "colab": {},
    "colab_type": "code",
    "id": "3W3wS68eBaj7"
   },
   "outputs": [],
   "source": [
    "from sklearn.metrics.pairwise import cosine_similarity\n",
    "\n",
    "\n",
    "def compute_user_similarity(sparse_matrix, compute_for_few=False, top = 100, verbose=False, verb_for_n_rows = 20, draw_time_taken=True):\n",
    "    no_of_users, _ = sparse_matrix.shape\n",
    "    # get the indices of  non zero rows(users) from our sparse matrix\n",
    "    row_ind, col_ind = sparse_matrix.nonzero()\n",
    "    row_ind = sorted(set(row_ind)) # we don't have to\n",
    "    time_taken = list() #  time taken for finding similar users for an user..\n",
    "    \n",
    "    # we create rows, cols, and data lists.., which can be used to create sparse matrices\n",
    "    rows, cols, data = list(), list(), list()\n",
    "    if verbose: print(\"Computing top \",top,\" similarities for each user..\")\n",
    "    \n",
    "    start = datetime.now()\n",
    "    temp = 0\n",
    "    \n",
    "    for row in row_ind[:top] if compute_for_few else row_ind:\n",
    "        temp = temp+1\n",
    "        prev = datetime.now()\n",
    "        \n",
    "        # get the similarity row for this user with all other users\n",
    "        sim = cosine_similarity(sparse_matrix.getrow(row), sparse_matrix).ravel()\n",
    "        # We will get only the top ''top'' most similar users and ignore rest of them..\n",
    "        top_sim_ind = sim.argsort()[-top:]\n",
    "        top_sim_val = sim[top_sim_ind]\n",
    "        \n",
    "        # add them to our rows, cols and data\n",
    "        rows.extend([row]*top)\n",
    "        cols.extend(top_sim_ind)\n",
    "        data.extend(top_sim_val)\n",
    "        time_taken.append(datetime.now().timestamp() - prev.timestamp())\n",
    "        if verbose:\n",
    "            if temp%verb_for_n_rows == 0:\n",
    "                print(\"computing done for {} users [  time elapsed : {}  ]\"\n",
    "                      .format(temp, datetime.now()-start))\n",
    "            \n",
    "        \n",
    "    # lets create sparse matrix out of these and return it\n",
    "    if verbose: print('Creating Sparse matrix from the computed similarities')\n",
    "    #return rows, cols, data\n",
    "    \n",
    "    if draw_time_taken:\n",
    "        plt.plot(time_taken, label = 'time taken for each user')\n",
    "        plt.plot(np.cumsum(time_taken), label='Total time')\n",
    "        plt.legend(loc='best')\n",
    "        plt.xlabel('User')\n",
    "        plt.ylabel('Time (seconds)')\n",
    "        plt.show()\n",
    "        \n",
    "    return sparse.csr_matrix((data, (rows, cols)), shape=(no_of_users, no_of_users)), time_taken"
   ]
  },
  {
   "cell_type": "code",
   "execution_count": 0,
   "metadata": {
    "colab": {
     "base_uri": "https://localhost:8080/",
     "height": 430
    },
    "colab_type": "code",
    "executionInfo": {
     "elapsed": 379471,
     "status": "ok",
     "timestamp": 1582101605284,
     "user": {
      "displayName": "Sahil -",
      "photoUrl": "",
      "userId": "14051148522636395588"
     },
     "user_tz": -330
    },
    "id": "8ed5brTKkAYz",
    "outputId": "ca38a1a2-985d-4f32-bca7-f94729cb59cf"
   },
   "outputs": [
    {
     "name": "stdout",
     "output_type": "stream",
     "text": [
      "Computing top  100  similarities for each user..\n",
      "computing done for 20 users [  time elapsed : 0:01:14.181596  ]\n",
      "computing done for 40 users [  time elapsed : 0:02:28.499947  ]\n",
      "computing done for 60 users [  time elapsed : 0:03:40.895740  ]\n",
      "computing done for 80 users [  time elapsed : 0:04:53.345757  ]\n",
      "computing done for 100 users [  time elapsed : 0:06:06.578803  ]\n",
      "Creating Sparse matrix from the computed similarities\n"
     ]
    },
    {
     "data": {
      "image/png": "[encoded data removed]",
      "text/plain": [
       "<Figure size 432x288 with 1 Axes>"
      ]
     },
     "metadata": {
      "tags": []
     },
     "output_type": "display_data"
    },
    {
     "name": "stdout",
     "output_type": "stream",
     "text": [
      "----------------------------------------------------------------------------------------------------\n",
      "Time taken : 0:06:18.210750\n"
     ]
    }
   ],
   "source": [
    "start = datetime.now()\n",
    "u_u_sim_sparse, _ = compute_user_similarity(train_sparse_matrix, compute_for_few=True, top = 100, verbose=True)\n",
    "print(\"-\"*100)\n",
    "print(\"Time taken :\",datetime.now()-start)"
   ]
  },
  {
   "cell_type": "markdown",
   "metadata": {
    "colab_type": "text",
    "id": "JLtd0W8TmQ5i"
   },
   "source": [
    "<h4> 3.4.1.2 Trying with reduced dimensions (Using TruncatedSVD for dimensionality reduction of user vector)</h4>\n",
    "\n",
    "* We have  **405,041 users** in out training set and computing similarities between them..( **17K dimensional vector..**) is time consuming..\n",
    "\n",
    "\n",
    "- From above plot, It took roughly __3.66 sec__ for computing simlilar users for __one user__\n",
    "    \n",
    "    \n",
    "- We have __405,041 users__ with us in training set.\n",
    "\n",
    "\n",
    "- ${ 405041 \\times 3.66 = 1482450.03  \\sec } =  24707.501 \\min = 411.792 \\text{ hours}\n",
    "= 17.15 \\text{ days}...$\n",
    "\n",
    "    - Even if we run on 4 cores parallelly (a typical system now a days), It will still take almost __10 and 1/2__ days.\n",
    "    \n",
    " IDEA:  Instead, we will try to reduce the dimentsions using SVD, so that __it might__ speed up the process..."
   ]
  },
  {
   "cell_type": "code",
   "execution_count": 0,
   "metadata": {
    "colab": {},
    "colab_type": "code",
    "id": "hSuiWwvVlODk"
   },
   "outputs": [],
   "source": [
    "from datetime import datetime\n",
    "from sklearn.decomposition import TruncatedSVD\n",
    "\n",
    "start = datetime.now()\n",
    "\n",
    "# initilaize the algorithm with some parameters..\n",
    "# All of them are default except n_components. n_itr is for Randomized SVD solver.\n",
    "netflix_svd = TruncatedSVD(n_components=500, algorithm='randomized', random_state=15)\n",
    "trunc_svd = netflix_svd.fit_transform(train_sparse_matrix)\n",
    "\n",
    "print(datetime.now()-start)"
   ]
  },
  {
   "cell_type": "markdown",
   "metadata": {
    "colab_type": "text",
    "id": "BexmV-cQnb4H"
   },
   "source": [
    "Here,\n",
    "\n",
    "\n",
    "- $\\sum \\longleftarrow$ (netflix\\_svd.**singular\\_values\\_** )\n",
    "\n",
    "\n",
    "- $\\bigvee^T \\longleftarrow$ (netflix\\_svd.**components_**)\n",
    "\n",
    "\n",
    "- $\\bigcup$ is not returned. instead **Projection_of_X** onto the new vectorspace is returned. \n",
    "\n",
    "\n",
    "- It uses **randomized svd** internally, which returns **All 3 of them saperately**. Use that instead.. "
   ]
  },
  {
   "cell_type": "code",
   "execution_count": 0,
   "metadata": {
    "colab": {},
    "colab_type": "code",
    "id": "QgXMHWuRnZC6"
   },
   "outputs": [],
   "source": [
    "expl_var = np.cumsum(netflix_svd.explained_variance_ratio_)\n",
    "\n",
    "fig, (ax1, ax2) = plt.subplots(nrows=1, ncols=2, figsize=plt.figaspect(.5))\n",
    "\n",
    "ax1.set_ylabel(\"Variance Explained\", fontsize=15)\n",
    "ax1.set_xlabel(\"# Latent Facors\", fontsize=15)\n",
    "ax1.plot(expl_var)\n",
    "# annote some (latentfactors, expl_var) to make it clear\n",
    "ind = [1, 2,4,8,20, 60, 100, 200, 300, 400, 500]\n",
    "ax1.scatter(x = [i-1 for i in ind], y = expl_var[[i-1 for i in ind]], c='#ff3300')\n",
    "for i in ind:\n",
    "    ax1.annotate(s =\"({}, {})\".format(i,  np.round(expl_var[i-1], 2)), xy=(i-1, expl_var[i-1]),\n",
    "                xytext = ( i+20, expl_var[i-1] - 0.01), fontweight='bold')\n",
    "\n",
    "change_in_expl_var = [expl_var[i+1] - expl_var[i] for i in range(len(expl_var)-1)]\n",
    "ax2.plot(change_in_expl_var)\n",
    "\n",
    "\n",
    "\n",
    "ax2.set_ylabel(\"Gain in Var_Expl with One Additional LF\", fontsize=10)\n",
    "ax2.yaxis.set_label_position(\"right\")\n",
    "ax2.set_xlabel(\"# Latent Facors\", fontsize=20)\n",
    "\n",
    "plt.show()"
   ]
  },
  {
   "cell_type": "code",
   "execution_count": 0,
   "metadata": {
    "colab": {},
    "colab_type": "code",
    "id": "vz3eS-Eyp0r7"
   },
   "outputs": [],
   "source": [
    "for i in ind:\n",
    "    print(\"({}, {})\".format(i, np.round(expl_var[i-1], 2)))"
   ]
  },
  {
   "cell_type": "markdown",
   "metadata": {
    "colab_type": "text",
    "id": "tQpSWOgFp5dp"
   },
   "source": [
    " \n",
    "> I think 500 dimensions is good enough \n",
    "\n",
    "---------\n",
    "\n",
    "-  By just taking __(20 to 30)__ latent factors, explained variance that we could get is __20 %__. \n",
    "\n",
    "- To take it to __60%__, we have to take  __almost 400 latent factors__. It is not fare.\n",
    "\n",
    "\n",
    "\n",
    "- It basically is the __gain of variance explained__, if we ___add one additional latent factor to it.___\n",
    "\n",
    "\n",
    "- By adding one by one latent factore too it, the ___gain in expained variance__ with that addition is decreasing. (Obviously, because they are sorted that way).\n",
    "- ___LHS Graph___:\n",
    "    - __x__ --- ( No of latent factos ),\n",
    "    - __y__ --- ( The variance explained by taking x latent factors)\n",
    "\n",
    "\n",
    "\n",
    "- __More decrease in the line (RHS graph) __:\n",
    "    - We  are getting more expained variance than before.\n",
    "- __Less decrease in that line (RHS graph)__  :\n",
    "    - We are not getting benifitted from adding latent factor furthur. This is what is shown in the plots.\n",
    "\n",
    "\n",
    "- ___RHS Graph___:\n",
    "    - __x__ --- ( No of latent factors ),\n",
    "    - __y__ --- ( Gain n Expl_Var by taking one additional latent factor) "
   ]
  },
  {
   "cell_type": "code",
   "execution_count": 0,
   "metadata": {
    "colab": {},
    "colab_type": "code",
    "id": "ik28qfVfp0nK"
   },
   "outputs": [],
   "source": [
    "# Let's project our Original U_M matrix into into 500 Dimensional space...\n",
    "start = datetime.now()\n",
    "trunc_matrix = train_sparse_matrix.dot(netflix_svd.components_.T)\n",
    "print(datetime.now()- start)"
   ]
  },
  {
   "cell_type": "code",
   "execution_count": 0,
   "metadata": {
    "colab": {},
    "colab_type": "code",
    "id": "Qi4WWszrp0iq"
   },
   "outputs": [],
   "source": [
    "type(trunc_matrix), trunc_matrix.shape"
   ]
  },
  {
   "cell_type": "markdown",
   "metadata": {
    "colab_type": "text",
    "id": "rseIceaVqYIc"
   },
   "source": [
    "* Let's convert this to actual sparse matrix and store it for future purposes"
   ]
  },
  {
   "cell_type": "code",
   "execution_count": 0,
   "metadata": {
    "colab": {},
    "colab_type": "code",
    "id": "-PjCRz5WqpIY"
   },
   "outputs": [],
   "source": [
    "!cp '/content/drive/My Drive/NetFlix Prize/trunc_sparse_matrix.npz' '/content/' "
   ]
  },
  {
   "cell_type": "code",
   "execution_count": 0,
   "metadata": {
    "colab": {},
    "colab_type": "code",
    "id": "ttcmc6Xpp0eH"
   },
   "outputs": [],
   "source": [
    "if not os.path.isfile('/content/trunc_sparse_matrix.npz'):\n",
    "    # create that sparse sparse matrix\n",
    "    trunc_sparse_matrix = sparse.csr_matrix(trunc_matrix)\n",
    "    # Save this truncated sparse matrix for later usage..\n",
    "    sparse.save_npz('trunc_sparse_matrix', trunc_sparse_matrix)\n",
    "else:\n",
    "    trunc_sparse_matrix = sparse.load_npz('/content/trunc_sparse_matrix.npz')"
   ]
  },
  {
   "cell_type": "code",
   "execution_count": 0,
   "metadata": {
    "colab": {
     "base_uri": "https://localhost:8080/",
     "height": 430
    },
    "colab_type": "code",
    "executionInfo": {
     "elapsed": 419797,
     "status": "ok",
     "timestamp": 1582103311790,
     "user": {
      "displayName": "Sahil -",
      "photoUrl": "",
      "userId": "14051148522636395588"
     },
     "user_tz": -330
    },
    "id": "BA828g5Gp0Eu",
    "outputId": "d541b636-4d1b-4700-8a70-cbd1214ca0ea"
   },
   "outputs": [
    {
     "name": "stdout",
     "output_type": "stream",
     "text": [
      "Computing top  50  similarities for each user..\n",
      "computing done for 10 users [  time elapsed : 0:01:18.078198  ]\n",
      "computing done for 20 users [  time elapsed : 0:02:36.124078  ]\n",
      "computing done for 30 users [  time elapsed : 0:03:54.823247  ]\n",
      "computing done for 40 users [  time elapsed : 0:05:12.907758  ]\n",
      "computing done for 50 users [  time elapsed : 0:06:30.173070  ]\n",
      "Creating Sparse matrix from the computed similarities\n"
     ]
    },
    {
     "data": {
      "image/png": "[encoded data removed]",
      "text/plain": [
       "<Figure size 432x288 with 1 Axes>"
      ]
     },
     "metadata": {
      "tags": []
     },
     "output_type": "display_data"
    },
    {
     "name": "stdout",
     "output_type": "stream",
     "text": [
      "--------------------------------------------------\n",
      "time: 0:06:58.668976\n"
     ]
    }
   ],
   "source": [
    "start = datetime.now()\n",
    "trunc_u_u_sim_matrix, _ = compute_user_similarity(trunc_sparse_matrix, compute_for_few=True, top=50, verbose=True, verb_for_n_rows=10)\n",
    "print(\"-\"*50)\n",
    "print(\"time:\",datetime.now()-start)"
   ]
  },
  {
   "cell_type": "markdown",
   "metadata": {
    "colab_type": "text",
    "id": "sAwhY9EZtX4p"
   },
   "source": [
    "**This is taking more time for each user than Original one.**\n",
    "\n",
    "- from above plot, It took almost __3.9secs__ for computing simlilar users for __one user__\n",
    "    \n",
    "    \n",
    "- We have __405041 users__ with us in training set.\n",
    "\n",
    "\n",
    "- ${ 405041 \\times 3.9 ==== 1579659.9 \\sec } ====   26327.665\\min ==== 438.794 \\text{ hours}\n",
    "==== 18.3 \\text{ days}...$\n",
    "\n",
    "    - Even we run on 4 cores parallelly (a typical system now a days), It will still take almost __(14 - 15) __ days.\n",
    "\n",
    "- __Why did this happen...??__\n",
    "\n",
    "\n",
    "    - Just think about it. It's not that difficult.\n",
    "\n",
    "---------------------------------_( sparse & dense..................get it ?? )_-----------------------------------\n",
    "\n",
    "__Is there any other way to compute user user similarity..??__\n",
    "\n",
    "-An alternative is to compute similar users for a particular user,  whenenver required (**ie., Run time**)\n",
    "\n",
    "    - We maintain a binary Vector for users, which tells us whether we already computed or not..\n",
    "    \n",
    "    - ***If not*** : \n",
    "        - Compute top (let's just say, 1000) most similar users for this given user, and add this to our datastructure, so that we can just access it(similar users) without recomputing it again.\n",
    "        - \n",
    "    - ***If It is already Computed***:\n",
    "        - Just get it directly from our datastructure, which has that information.\n",
    "        - In production time, We might have to recompute similarities, if it is computed a long time ago. Because user preferences changes over time. If we could maintain some kind of Timer, which when expires, we have to update it ( recompute it ). \n",
    "        - \n",
    "    - ***Which datastructure to use:***\n",
    "        - It is purely implementation dependant. \n",
    "        - One simple method is to maintain a **Dictionary Of Dictionaries**.\n",
    "            - \n",
    "            - **key    :** _userid_ \n",
    "            - __value__: _Again a dictionary_\n",
    "                - __key__  : _Similar User_\n",
    "                - __value__: _Similarity Value_"
   ]
  },
  {
   "cell_type": "markdown",
   "metadata": {
    "colab_type": "text",
    "id": "1zLRjyr0vhli"
   },
   "source": [
    "<h3> 3.4.2 Computing Movie-Movie Similarity matrix </h3>"
   ]
  },
  {
   "cell_type": "code",
   "execution_count": 0,
   "metadata": {
    "colab": {
     "base_uri": "https://localhost:8080/",
     "height": 119
    },
    "colab_type": "code",
    "executionInfo": {
     "elapsed": 587063,
     "status": "ok",
     "timestamp": 1582121746568,
     "user": {
      "displayName": "Sahil -",
      "photoUrl": "",
      "userId": "14051148522636395588"
     },
     "user_tz": -330
    },
    "id": "DWVc_1ROvjnz",
    "outputId": "19dea08c-3d4e-45c1-e734-9c40e5847d63"
   },
   "outputs": [
    {
     "name": "stdout",
     "output_type": "stream",
     "text": [
      "It seems you don't have that file. Computing movie_movie similarity...\n",
      "Done..\n",
      "Saving it to disk without the need of re-computing it again.. \n",
      "Done..\n",
      "It's a  (17771, 17771)  dimensional matrix\n",
      "0:09:46.037396\n"
     ]
    }
   ],
   "source": [
    "start = datetime.now()\n",
    "if not os.path.isfile('/content/m_m_sim_sparse.npz'):\n",
    "    print(\"It seems you don't have that file. Computing movie_movie similarity...\")\n",
    "    start = datetime.now()\n",
    "    m_m_sim_sparse = cosine_similarity(X=train_sparse_matrix.T, dense_output=False)\n",
    "    print(\"Done..\")\n",
    "    # store this sparse matrix in disk before using it. For future purposes.\n",
    "    print(\"Saving it to disk without the need of re-computing it again.. \")\n",
    "    sparse.save_npz(\"/content/m_m_sim_sparse.npz\", m_m_sim_sparse)\n",
    "    print(\"Done..\")\n",
    "else:\n",
    "    print(\"It is there, We will get it.\")\n",
    "    m_m_sim_sparse = sparse.load_npz(\"/content/m_m_sim_sparse.npz\")\n",
    "    print(\"Done ...\")\n",
    "\n",
    "print(\"It's a \",m_m_sim_sparse.shape,\" dimensional matrix\")\n",
    "\n",
    "print(datetime.now() - start)"
   ]
  },
  {
   "cell_type": "code",
   "execution_count": 0,
   "metadata": {
    "colab": {
     "base_uri": "https://localhost:8080/",
     "height": 34
    },
    "colab_type": "code",
    "executionInfo": {
     "elapsed": 850,
     "status": "ok",
     "timestamp": 1582122069121,
     "user": {
      "displayName": "Sahil -",
      "photoUrl": "",
      "userId": "14051148522636395588"
     },
     "user_tz": -330
    },
    "id": "7rFKnO8RwGZ-",
    "outputId": "4a3a95d3-5652-4b0b-9490-9d920fc0fee3"
   },
   "outputs": [
    {
     "data": {
      "text/plain": [
       "(17771, 17771)"
      ]
     },
     "execution_count": 9,
     "metadata": {
      "tags": []
     },
     "output_type": "execute_result"
    }
   ],
   "source": [
    "m_m_sim_sparse.shape"
   ]
  },
  {
   "cell_type": "markdown",
   "metadata": {
    "colab_type": "text",
    "id": "4852p-E40xF_"
   },
   "source": [
    "- Even though we have similarity measure of each movie, with all other movies, We generally don't care much about least similar movies.\n",
    "\n",
    "\n",
    "- Most of the times, only top_xxx similar items matters. It may be 10 or 100.\n",
    "\n",
    "\n",
    "- We take only those top similar movie ratings and store them  in a saperate dictionary."
   ]
  },
  {
   "cell_type": "code",
   "execution_count": 0,
   "metadata": {
    "colab": {},
    "colab_type": "code",
    "id": "DXdGojVE0ujF"
   },
   "outputs": [],
   "source": [
    "movie_ids = np.unique(m_m_sim_sparse.nonzero()[1])"
   ]
  },
  {
   "cell_type": "code",
   "execution_count": 0,
   "metadata": {
    "colab": {
     "base_uri": "https://localhost:8080/",
     "height": 238
    },
    "colab_type": "code",
    "executionInfo": {
     "elapsed": 33253,
     "status": "ok",
     "timestamp": 1582122231592,
     "user": {
      "displayName": "Sahil -",
      "photoUrl": "",
      "userId": "14051148522636395588"
     },
     "user_tz": -330
    },
    "id": "Ugm0wTdy04M1",
    "outputId": "17c147c7-35dc-4f2b-dbe4-c19f9d29ee67"
   },
   "outputs": [
    {
     "name": "stdout",
     "output_type": "stream",
     "text": [
      "0:00:32.087565\n"
     ]
    },
    {
     "data": {
      "text/plain": [
       "array([ 8279,  8013, 16528,  5927, 13105, 12049,  4424, 10193, 17590,\n",
       "        4549,  3755,   590, 14059, 15144, 15054,  9584,  9071,  6349,\n",
       "       16402,  3973,  1720,  5370, 16309,  9376,  6116,  4706,  2818,\n",
       "         778, 15331,  1416, 12979, 17139, 17710,  5452,  2534,   164,\n",
       "       15188,  8323,  2450, 16331,  9566, 15301, 13213, 14308, 15984,\n",
       "       10597,  6426,  5500,  7068,  7328,  5720,  9802,   376, 13013,\n",
       "        8003, 10199,  3338, 15390,  9688, 16455, 11730,  4513,   598,\n",
       "       12762,  2187,   509,  5865,  9166, 17115, 16334,  1942,  7282,\n",
       "       17584,  4376,  8988,  8873,  5921,  2716, 14679, 11947, 11981,\n",
       "        4649,   565, 12954, 10788, 10220, 10963,  9427,  1690,  5107,\n",
       "        7859,  5969,  1510,  2429,   847,  7845,  6410, 13931,  9840,\n",
       "        3706])"
      ]
     },
     "execution_count": 11,
     "metadata": {
      "tags": []
     },
     "output_type": "execute_result"
    }
   ],
   "source": [
    "start = datetime.now()\n",
    "similar_movies = dict()\n",
    "for movie in movie_ids:\n",
    "    # get the top similar movies and store them in the dictionary\n",
    "    sim_movies = m_m_sim_sparse[movie].toarray().ravel().argsort()[::-1][1:]\n",
    "    similar_movies[movie] = sim_movies[:100]\n",
    "print(datetime.now() - start)\n",
    "\n",
    "# just testing similar movies for movie_15\n",
    "similar_movies[15]"
   ]
  },
  {
   "cell_type": "markdown",
   "metadata": {
    "colab_type": "text",
    "id": "funaAof21S4X"
   },
   "source": [
    "<h3> 3.4.3 Finding most similar movies using similarity matrix </h3>\n",
    "\n",
    "__ Does Similarity really works as the way we expected...? __ <br>\n",
    "_Let's pick some random movie and check for its similar movies...._"
   ]
  },
  {
   "cell_type": "code",
   "execution_count": 0,
   "metadata": {
    "colab": {
     "base_uri": "https://localhost:8080/",
     "height": 286
    },
    "colab_type": "code",
    "executionInfo": {
     "elapsed": 2696,
     "status": "ok",
     "timestamp": 1582123180328,
     "user": {
      "displayName": "Sahil -",
      "photoUrl": "",
      "userId": "14051148522636395588"
     },
     "user_tz": -330
    },
    "id": "Lga0KUZF1OTV",
    "outputId": "5ba2a5aa-fe2e-4acc-fec2-31bfc7bb5c35"
   },
   "outputs": [
    {
     "name": "stdout",
     "output_type": "stream",
     "text": [
      "Tokenization took: 2.84 ms\n",
      "Type conversion took: 10.29 ms\n",
      "Parser memory cleanup took: 0.01 ms\n"
     ]
    },
    {
     "data": {
      "text/html": [
       "<div>\n",
       "<style scoped>\n",
       "    .dataframe tbody tr th:only-of-type {\n",
       "        vertical-align: middle;\n",
       "    }\n",
       "\n",
       "    .dataframe tbody tr th {\n",
       "        vertical-align: top;\n",
       "    }\n",
       "\n",
       "    .dataframe thead th {\n",
       "        text-align: right;\n",
       "    }\n",
       "</style>\n",
       "<table border=\"1\" class=\"dataframe\">\n",
       "  <thead>\n",
       "    <tr style=\"text-align: right;\">\n",
       "      <th></th>\n",
       "      <th>year_of_release</th>\n",
       "      <th>title</th>\n",
       "    </tr>\n",
       "    <tr>\n",
       "      <th>movie_id</th>\n",
       "      <th></th>\n",
       "      <th></th>\n",
       "    </tr>\n",
       "  </thead>\n",
       "  <tbody>\n",
       "    <tr>\n",
       "      <th>1</th>\n",
       "      <td>2003.0</td>\n",
       "      <td>Dinosaur Planet</td>\n",
       "    </tr>\n",
       "    <tr>\n",
       "      <th>2</th>\n",
       "      <td>2004.0</td>\n",
       "      <td>Isle of Man TT 2004 Review</td>\n",
       "    </tr>\n",
       "    <tr>\n",
       "      <th>3</th>\n",
       "      <td>1997.0</td>\n",
       "      <td>Character</td>\n",
       "    </tr>\n",
       "    <tr>\n",
       "      <th>4</th>\n",
       "      <td>1994.0</td>\n",
       "      <td>Paula Abdul's Get Up &amp; Dance</td>\n",
       "    </tr>\n",
       "    <tr>\n",
       "      <th>5</th>\n",
       "      <td>2004.0</td>\n",
       "      <td>The Rise and Fall of ECW</td>\n",
       "    </tr>\n",
       "  </tbody>\n",
       "</table>\n",
       "</div>"
      ],
      "text/plain": [
       "          year_of_release                         title\n",
       "movie_id                                               \n",
       "1                  2003.0               Dinosaur Planet\n",
       "2                  2004.0    Isle of Man TT 2004 Review\n",
       "3                  1997.0                     Character\n",
       "4                  1994.0  Paula Abdul's Get Up & Dance\n",
       "5                  2004.0      The Rise and Fall of ECW"
      ]
     },
     "execution_count": 14,
     "metadata": {
      "tags": []
     },
     "output_type": "execute_result"
    }
   ],
   "source": [
    "# First Let's load the movie details into soe dataframe..\n",
    "# movie details are in 'netflix/movie_titles.csv'\n",
    "!cp '/content/drive/My Drive/NetFlix Prize/movie_titles.csv' '/content/'\n",
    "\n",
    "movie_titles = pd.read_csv(\"/content/movie_titles.csv\", sep=',', header = None,\n",
    "                           names=['movie_id', 'year_of_release', 'title'], verbose=True,\n",
    "                      index_col = 'movie_id', encoding = \"ISO-8859-1\")\n",
    "\n",
    "movie_titles.head()"
   ]
  },
  {
   "cell_type": "markdown",
   "metadata": {
    "colab_type": "text",
    "id": "ihCdmxQH5HzX"
   },
   "source": [
    "<p style='font-size:15px'><b>Similar Movies for 'Vampire Journals'</b></p>"
   ]
  },
  {
   "cell_type": "code",
   "execution_count": 0,
   "metadata": {
    "colab": {
     "base_uri": "https://localhost:8080/",
     "height": 119
    },
    "colab_type": "code",
    "executionInfo": {
     "elapsed": 1601,
     "status": "ok",
     "timestamp": 1582123252653,
     "user": {
      "displayName": "Sahil -",
      "photoUrl": "",
      "userId": "14051148522636395588"
     },
     "user_tz": -330
    },
    "id": "--wM6UHt4uv_",
    "outputId": "69c71ea1-7ec5-4682-c646-f12d635b74bc"
   },
   "outputs": [
    {
     "name": "stdout",
     "output_type": "stream",
     "text": [
      "\n",
      "Movie -----> Vampire Journals\n",
      "\n",
      "It has 270 Ratings from users.\n",
      "\n",
      "We have 17284 movies which are similar to this  and we will get only top most..\n"
     ]
    }
   ],
   "source": [
    "mv_id = 67\n",
    "\n",
    "print(\"\\nMovie ----->\",movie_titles.loc[mv_id].values[1])\n",
    "\n",
    "print(\"\\nIt has {} Ratings from users.\".format(train_sparse_matrix[:,mv_id].getnnz()))\n",
    "\n",
    "print(\"\\nWe have {} movies which are similar to this  and we will get only top most..\".format(m_m_sim_sparse[:,mv_id].getnnz()))"
   ]
  },
  {
   "cell_type": "code",
   "execution_count": 0,
   "metadata": {
    "colab": {},
    "colab_type": "code",
    "id": "vpP6_BfN5JkW"
   },
   "outputs": [],
   "source": [
    "similarities = m_m_sim_sparse[mv_id].toarray().ravel()\n",
    "\n",
    "similar_indices = similarities.argsort()[::-1][1:]\n",
    "\n",
    "similarities[similar_indices]\n",
    "\n",
    "sim_indices = similarities.argsort()[::-1][1:] # It will sort and reverse the array and ignore its similarity (ie.,1)\n",
    "                                               # and return its indices(movie_ids)"
   ]
  },
  {
   "cell_type": "code",
   "execution_count": 0,
   "metadata": {
    "colab": {
     "base_uri": "https://localhost:8080/",
     "height": 307
    },
    "colab_type": "code",
    "executionInfo": {
     "elapsed": 1466,
     "status": "ok",
     "timestamp": 1582123275556,
     "user": {
      "displayName": "Sahil -",
      "photoUrl": "",
      "userId": "14051148522636395588"
     },
     "user_tz": -330
    },
    "id": "gVeA6cpY5S1W",
    "outputId": "8a43a673-0220-4fc5-cd98-16d53f54a9ed"
   },
   "outputs": [
    {
     "data": {
      "image/png": "[encoded data removed]",
      "text/plain": [
       "<Figure size 432x288 with 1 Axes>"
      ]
     },
     "metadata": {
      "tags": []
     },
     "output_type": "display_data"
    }
   ],
   "source": [
    "plt.plot(similarities[sim_indices], label='All the ratings')\n",
    "plt.plot(similarities[sim_indices[:100]], label='top 100 similar movies')\n",
    "plt.title(\"Similar Movies of {}(movie_id)\".format(mv_id), fontsize=20)\n",
    "plt.xlabel(\"Movies (Not Movie_Ids)\", fontsize=15)\n",
    "plt.ylabel(\"Cosine Similarity\",fontsize=15)\n",
    "plt.legend()\n",
    "plt.show()"
   ]
  },
  {
   "cell_type": "markdown",
   "metadata": {
    "colab_type": "text",
    "id": "IQi5j33t5YhH"
   },
   "source": [
    "__Top 10 similar movies__"
   ]
  },
  {
   "cell_type": "code",
   "execution_count": 0,
   "metadata": {
    "colab": {
     "base_uri": "https://localhost:8080/",
     "height": 390
    },
    "colab_type": "code",
    "executionInfo": {
     "elapsed": 866,
     "status": "ok",
     "timestamp": 1582123306926,
     "user": {
      "displayName": "Sahil -",
      "photoUrl": "",
      "userId": "14051148522636395588"
     },
     "user_tz": -330
    },
    "id": "ANCF2P2H5U0W",
    "outputId": "a775355d-7077-4429-8e9e-dd0dd5c5e633"
   },
   "outputs": [
    {
     "data": {
      "text/html": [
       "<div>\n",
       "<style scoped>\n",
       "    .dataframe tbody tr th:only-of-type {\n",
       "        vertical-align: middle;\n",
       "    }\n",
       "\n",
       "    .dataframe tbody tr th {\n",
       "        vertical-align: top;\n",
       "    }\n",
       "\n",
       "    .dataframe thead th {\n",
       "        text-align: right;\n",
       "    }\n",
       "</style>\n",
       "<table border=\"1\" class=\"dataframe\">\n",
       "  <thead>\n",
       "    <tr style=\"text-align: right;\">\n",
       "      <th></th>\n",
       "      <th>year_of_release</th>\n",
       "      <th>title</th>\n",
       "    </tr>\n",
       "    <tr>\n",
       "      <th>movie_id</th>\n",
       "      <th></th>\n",
       "      <th></th>\n",
       "    </tr>\n",
       "  </thead>\n",
       "  <tbody>\n",
       "    <tr>\n",
       "      <th>323</th>\n",
       "      <td>1999.0</td>\n",
       "      <td>Modern Vampires</td>\n",
       "    </tr>\n",
       "    <tr>\n",
       "      <th>4044</th>\n",
       "      <td>1998.0</td>\n",
       "      <td>Subspecies 4: Bloodstorm</td>\n",
       "    </tr>\n",
       "    <tr>\n",
       "      <th>1688</th>\n",
       "      <td>1993.0</td>\n",
       "      <td>To Sleep With a Vampire</td>\n",
       "    </tr>\n",
       "    <tr>\n",
       "      <th>13962</th>\n",
       "      <td>2001.0</td>\n",
       "      <td>Dracula: The Dark Prince</td>\n",
       "    </tr>\n",
       "    <tr>\n",
       "      <th>12053</th>\n",
       "      <td>1993.0</td>\n",
       "      <td>Dracula Rising</td>\n",
       "    </tr>\n",
       "    <tr>\n",
       "      <th>16279</th>\n",
       "      <td>2002.0</td>\n",
       "      <td>Vampires: Los Muertos</td>\n",
       "    </tr>\n",
       "    <tr>\n",
       "      <th>4667</th>\n",
       "      <td>1996.0</td>\n",
       "      <td>Vampirella</td>\n",
       "    </tr>\n",
       "    <tr>\n",
       "      <th>1900</th>\n",
       "      <td>1997.0</td>\n",
       "      <td>Club Vampire</td>\n",
       "    </tr>\n",
       "    <tr>\n",
       "      <th>13873</th>\n",
       "      <td>2001.0</td>\n",
       "      <td>The Breed</td>\n",
       "    </tr>\n",
       "    <tr>\n",
       "      <th>15867</th>\n",
       "      <td>2003.0</td>\n",
       "      <td>Dracula II: Ascension</td>\n",
       "    </tr>\n",
       "  </tbody>\n",
       "</table>\n",
       "</div>"
      ],
      "text/plain": [
       "          year_of_release                     title\n",
       "movie_id                                           \n",
       "323                1999.0           Modern Vampires\n",
       "4044               1998.0  Subspecies 4: Bloodstorm\n",
       "1688               1993.0   To Sleep With a Vampire\n",
       "13962              2001.0  Dracula: The Dark Prince\n",
       "12053              1993.0            Dracula Rising\n",
       "16279              2002.0     Vampires: Los Muertos\n",
       "4667               1996.0                Vampirella\n",
       "1900               1997.0              Club Vampire\n",
       "13873              2001.0                 The Breed\n",
       "15867              2003.0     Dracula II: Ascension"
      ]
     },
     "execution_count": 19,
     "metadata": {
      "tags": []
     },
     "output_type": "execute_result"
    }
   ],
   "source": [
    "movie_titles.loc[sim_indices[:10]]\n"
   ]
  },
  {
   "cell_type": "markdown",
   "metadata": {
    "colab_type": "text",
    "id": "8rPPvwQ-5hDc"
   },
   "source": [
    " > Similarly, we can ___find similar users___ and compare how similar they are."
   ]
  },
  {
   "cell_type": "markdown",
   "metadata": {
    "colab_type": "text",
    "id": "-0-tpIzhb2ZY"
   },
   "source": [
    "<h1> <strong>Assignment</strong> </h1>"
   ]
  },
  {
   "cell_type": "markdown",
   "metadata": {
    "colab_type": "text",
    "id": "9781dcgrbr--"
   },
   "source": [
    "1.Instead of using 10K users and 1K movies to train the above models, use 25K users and 3K movies (or more) to train all of the above models. Report the RMSE and MAPE on the test data using larger amount of data and provide a comparison between various models as shown above.\n",
    "\n",
    ">NOTE: Please be patient as some of the code snippets make take many hours to compelete execution.\n",
    "\n",
    "2.Tune hyperparamters of all the Xgboost models above to improve the RMSE."
   ]
  },
  {
   "cell_type": "markdown",
   "metadata": {
    "colab_type": "text",
    "id": "NOT8AopZ5lrB"
   },
   "source": [
    " <h1> 4.  Machine Learning Models </h1>"
   ]
  },
  {
   "cell_type": "code",
   "execution_count": 0,
   "metadata": {
    "colab": {},
    "colab_type": "code",
    "id": "Bg_kiPog5cv2"
   },
   "outputs": [],
   "source": [
    "def get_sample_sparse_matrix(sparse_matrix, no_users, no_movies, path, verbose = True):\n",
    "    \"\"\"\n",
    "        It will get it from the ''path'' if it is present  or It will create \n",
    "        and store the sampled sparse matrix in the path specified.\n",
    "    \"\"\"\n",
    "\n",
    "    # get (row, col) and (rating) tuple from sparse_matrix...\n",
    "    row_ind, col_ind, ratings = sparse.find(sparse_matrix)\n",
    "    users = np.unique(row_ind)\n",
    "    movies = np.unique(col_ind)\n",
    "\n",
    "    print(\"Original Matrix : (users, movies) -- ({} {})\".format(len(users), len(movies)))\n",
    "    print(\"Original Matrix : Ratings -- {}\\n\".format(len(ratings)))\n",
    "\n",
    "    # It just to make sure to get same sample everytime we run this program..\n",
    "    # and pick without replacement....\n",
    "    np.random.seed(15)\n",
    "    sample_users = np.random.choice(users, no_users, replace=False)\n",
    "    sample_movies = np.random.choice(movies, no_movies, replace=False)\n",
    "    # get the boolean mask or these sampled_items in originl row/col_inds..\n",
    "    mask = np.logical_and( np.isin(row_ind, sample_users),\n",
    "                      np.isin(col_ind, sample_movies) )\n",
    "    \n",
    "    sample_sparse_matrix = sparse.csr_matrix((ratings[mask], (row_ind[mask], col_ind[mask])),\n",
    "                                             shape=(max(sample_users)+1, max(sample_movies)+1))\n",
    "\n",
    "    if verbose:\n",
    "        print(\"Sampled Matrix : (users, movies) -- ({} {})\".format(len(sample_users), len(sample_movies)))\n",
    "        print(\"Sampled Matrix : Ratings --\", format(ratings[mask].shape[0]))\n",
    "\n",
    "    print('Saving it into disk for furthur usage..')\n",
    "    # save it into disk\n",
    "    sparse.save_npz(path, sample_sparse_matrix)\n",
    "    if verbose:\n",
    "            print('Done..\\n')\n",
    "    \n",
    "    return sample_sparse_matrix"
   ]
  },
  {
   "cell_type": "code",
   "execution_count": 0,
   "metadata": {
    "colab": {
     "base_uri": "https://localhost:8080/",
     "height": 34
    },
    "colab_type": "code",
    "executionInfo": {
     "elapsed": 1326,
     "status": "ok",
     "timestamp": 1582268192578,
     "user": {
      "displayName": "Sahil -",
      "photoUrl": "",
      "userId": "14051148522636395588"
     },
     "user_tz": -330
    },
    "id": "a2fA0zneiFuL",
    "outputId": "c36fe527-cf63-42a8-f1f9-1e97eec984a7"
   },
   "outputs": [
    {
     "data": {
      "text/plain": [
       "((2649430, 17771), (2649430, 17771))"
      ]
     },
     "execution_count": 12,
     "metadata": {
      "tags": []
     },
     "output_type": "execute_result"
    }
   ],
   "source": [
    "train_sparse_matrix.shape, test_sparse_matrix.shape"
   ]
  },
  {
   "cell_type": "markdown",
   "metadata": {
    "colab_type": "text",
    "id": "mp9A-VuOauiM"
   },
   "source": [
    "<h2> 4.1 Sampling Data </h2>\n",
    "<h3>4.1.1 Build sample train data from the train data</h3>"
   ]
  },
  {
   "cell_type": "code",
   "execution_count": 0,
   "metadata": {
    "colab": {
     "base_uri": "https://localhost:8080/",
     "height": 168
    },
    "colab_type": "code",
    "executionInfo": {
     "elapsed": 124700,
     "status": "ok",
     "timestamp": 1582269236284,
     "user": {
      "displayName": "Sahil -",
      "photoUrl": "",
      "userId": "14051148522636395588"
     },
     "user_tz": -330
    },
    "id": "fV60IZdtascN",
    "outputId": "f32eed15-dbd1-4b38-e7ef-986d188734b0"
   },
   "outputs": [
    {
     "name": "stdout",
     "output_type": "stream",
     "text": [
      "Original Matrix : (users, movies) -- (405041 17424)\n",
      "Original Matrix : Ratings -- 80384405\n",
      "\n",
      "Sampled Matrix : (users, movies) -- (400000 10000)\n",
      "Sampled Matrix : Ratings -- 45018569\n",
      "Saving it into disk for furthur usage..\n",
      "Done..\n",
      "\n",
      "0:02:03.449951\n"
     ]
    }
   ],
   "source": [
    "start = datetime.now()\n",
    "path = \"/content/sample_train_sparse_matrix.npz\"\n",
    "if os.path.isfile(path):\n",
    "    print(\"It is present in your pwd, getting it from disk....\")\n",
    "    # just get it from the disk instead of computing it\n",
    "    sample_train_sparse_matrix = sparse.load_npz(path)\n",
    "    print(\"DONE..\")\n",
    "else: \n",
    "    # get 10k users and 1k movies from available data \n",
    "    sample_train_sparse_matrix = get_sample_sparse_matrix(train_sparse_matrix, no_users=25000, no_movies=3000,\n",
    "                                             path = path)\n",
    "\n",
    "print(datetime.now() - start)"
   ]
  },
  {
   "cell_type": "markdown",
   "metadata": {
    "colab_type": "text",
    "id": "vmRAv1oMa34l"
   },
   "source": [
    "<h3>4.1.2 Build sample test data from the test data</h3>"
   ]
  },
  {
   "cell_type": "code",
   "execution_count": 0,
   "metadata": {
    "colab": {},
    "colab_type": "code",
    "id": "WZsaBuh2a4BK"
   },
   "outputs": [],
   "source": [
    "start = datetime.now()\n",
    "\n",
    "path = \"/content/sample_test_sparse_matrix.npz\"\n",
    "if os.path.isfile(path):\n",
    "    print(\"It is present in your pwd, getting it from disk....\")\n",
    "    # just get it from the disk instead of computing it\n",
    "    sample_test_sparse_matrix = sparse.load_npz(path)\n",
    "    print(\"DONE..\")\n",
    "else:\n",
    "    # get 5k users and 500 movies from available data \n",
    "    sample_test_sparse_matrix = get_sample_sparse_matrix(test_sparse_matrix, no_users=25000, no_movies=3000,\n",
    "                                                 path = path)\n",
    "print(datetime.now() - start)"
   ]
  },
  {
   "cell_type": "markdown",
   "metadata": {
    "colab_type": "text",
    "id": "G5-vuX3Za9xq"
   },
   "source": [
    "<h2>4.2 Finding \n",
    "<ul><li>Global Average of all movie ratings</li> <li>Average rating per User</li> <li>Average rating per Movie (from sampled train)</li></ul></h2>"
   ]
  },
  {
   "cell_type": "code",
   "execution_count": 0,
   "metadata": {
    "colab": {},
    "colab_type": "code",
    "id": "xdSO9QYfa-BL"
   },
   "outputs": [],
   "source": [
    "sample_train_averages = dict()"
   ]
  },
  {
   "cell_type": "markdown",
   "metadata": {
    "colab_type": "text",
    "id": "TZ76JLSynMRI"
   },
   "source": [
    "<h3>4.2.1 Finding Global Average of all movie ratings</h3>"
   ]
  },
  {
   "cell_type": "code",
   "execution_count": 0,
   "metadata": {
    "colab": {},
    "colab_type": "code",
    "id": "oXixiHyknOhH"
   },
   "outputs": [],
   "source": [
    "# get the global average of ratings in our train set.\n",
    "global_average = sample_train_sparse_matrix.sum()/sample_train_sparse_matrix.count_nonzero()\n",
    "sample_train_averages['global'] = global_average\n",
    "sample_train_averages"
   ]
  },
  {
   "cell_type": "markdown",
   "metadata": {
    "colab_type": "text",
    "id": "9EadYR4xnTBb"
   },
   "source": [
    "<h3>4.2.2 Finding Average rating per User</h3>"
   ]
  },
  {
   "cell_type": "code",
   "execution_count": 0,
   "metadata": {
    "colab": {},
    "colab_type": "code",
    "id": "_J_eRWplnR8x"
   },
   "outputs": [],
   "source": [
    "sample_train_averages['user'] = get_average_ratings(sample_train_sparse_matrix, of_users=True)\n",
    "print('\\nAverage rating of user 1515220 :',sample_train_averages['user'][1515220])"
   ]
  },
  {
   "cell_type": "markdown",
   "metadata": {
    "colab_type": "text",
    "id": "76tI4U3nngv2"
   },
   "source": [
    "<h3>4.2.3 Finding Average rating per Movie</h3>"
   ]
  },
  {
   "cell_type": "code",
   "execution_count": 0,
   "metadata": {
    "colab": {},
    "colab_type": "code",
    "id": "IkLMPEswnV3I"
   },
   "outputs": [],
   "source": [
    "sample_train_averages['movie'] =  get_average_ratings(sample_train_sparse_matrix, of_users=False)\n",
    "print('\\n AVerage rating of movie 15153 :',sample_train_averages['movie'][15153])"
   ]
  },
  {
   "cell_type": "markdown",
   "metadata": {
    "colab_type": "text",
    "id": "3e_kKtEknlEU"
   },
   "source": [
    "<h2> 4.3 Featurizing data </h2>"
   ]
  },
  {
   "cell_type": "code",
   "execution_count": 0,
   "metadata": {
    "colab": {},
    "colab_type": "code",
    "id": "9cKXtgnKnieM"
   },
   "outputs": [],
   "source": [
    "print('\\n No of ratings in Our Sampled train matrix is : {}\\n'.format(sample_train_sparse_matrix.count_nonzero()))\n",
    "print('\\n No of ratings in Our Sampled test  matrix is : {}\\n'.format(sample_test_sparse_matrix.count_nonzero()))"
   ]
  },
  {
   "cell_type": "markdown",
   "metadata": {
    "colab_type": "text",
    "id": "OzWgi2GBnrCy"
   },
   "source": [
    "<h3> 4.3.1 Featurizing data for regression problem </h3>\n",
    "<h4> 4.3.1.1 Featurizing train data </h4>"
   ]
  },
  {
   "cell_type": "code",
   "execution_count": 0,
   "metadata": {
    "colab": {},
    "colab_type": "code",
    "id": "2xSCPMi6nmsG"
   },
   "outputs": [],
   "source": [
    "# get users, movies and ratings from our samples train sparse matrix\n",
    "sample_train_users, sample_train_movies, sample_train_ratings = sparse.find(sample_train_sparse_matrix)"
   ]
  },
  {
   "cell_type": "code",
   "execution_count": 0,
   "metadata": {
    "colab": {},
    "colab_type": "code",
    "id": "LpFb3iTpnwBW"
   },
   "outputs": [],
   "source": [
    "############################################################\n",
    "# It took me almost 10 hours to prepare this train dataset.#\n",
    "############################################################\n",
    "start = datetime.now()\n",
    "if os.path.isfile('/content/reg_train.csv'):\n",
    "    print(\"File already exists you don't have to prepare again...\" )\n",
    "else:\n",
    "    print('preparing {} tuples for the dataset..\\n'.format(len(sample_train_ratings)))\n",
    "    with open('/content/reg_train.csv', mode='w') as reg_data_file:\n",
    "        count = 0\n",
    "        for (user, movie, rating)  in zip(sample_train_users, sample_train_movies, sample_train_ratings):\n",
    "            st = datetime.now()\n",
    "        #     print(user, movie)    \n",
    "            #--------------------- Ratings of \"movie\" by similar users of \"user\" ---------------------\n",
    "            # compute the similar Users of the \"user\"        \n",
    "            user_sim = cosine_similarity(sample_train_sparse_matrix[user], sample_train_sparse_matrix).ravel()\n",
    "            top_sim_users = user_sim.argsort()[::-1][1:] # we are ignoring 'The User' from its similar users.\n",
    "            # get the ratings of most similar users for this movie\n",
    "            top_ratings = sample_train_sparse_matrix[top_sim_users, movie].toarray().ravel()\n",
    "            # we will make it's length \"5\" by adding movie averages to .\n",
    "            top_sim_users_ratings = list(top_ratings[top_ratings != 0][:5])\n",
    "            top_sim_users_ratings.extend([sample_train_averages['movie'][movie]]*(5 - len(top_sim_users_ratings)))\n",
    "        #     print(top_sim_users_ratings, end=\" \")    \n",
    "\n",
    "\n",
    "            #--------------------- Ratings by \"user\"  to similar movies of \"movie\" ---------------------\n",
    "            # compute the similar movies of the \"movie\"        \n",
    "            movie_sim = cosine_similarity(sample_train_sparse_matrix[:,movie].T, sample_train_sparse_matrix.T).ravel()\n",
    "            top_sim_movies = movie_sim.argsort()[::-1][1:] # we are ignoring 'The User' from its similar users.\n",
    "            # get the ratings of most similar movie rated by this user..\n",
    "            top_ratings = sample_train_sparse_matrix[user, top_sim_movies].toarray().ravel()\n",
    "            # we will make it's length \"5\" by adding user averages to.\n",
    "            top_sim_movies_ratings = list(top_ratings[top_ratings != 0][:5])\n",
    "            top_sim_movies_ratings.extend([sample_train_averages['user'][user]]*(5-len(top_sim_movies_ratings))) \n",
    "        #     print(top_sim_movies_ratings, end=\" : -- \")\n",
    "\n",
    "            #-----------------prepare the row to be stores in a file-----------------#\n",
    "            row = list()\n",
    "            row.append(user)\n",
    "            row.append(movie)\n",
    "            # Now add the other features to this data...\n",
    "            row.append(sample_train_averages['global']) # first feature\n",
    "            # next 5 features are similar_users \"movie\" ratings\n",
    "            row.extend(top_sim_users_ratings)\n",
    "            # next 5 features are \"user\" ratings for similar_movies\n",
    "            row.extend(top_sim_movies_ratings)\n",
    "            # Avg_user rating\n",
    "            row.append(sample_train_averages['user'][user])\n",
    "            # Avg_movie rating\n",
    "            row.append(sample_train_averages['movie'][movie])\n",
    "\n",
    "            # finalley, The actual Rating of this user-movie pair...\n",
    "            row.append(rating)\n",
    "            count = count + 1\n",
    "\n",
    "            # add rows to the file opened..\n",
    "            reg_data_file.write(','.join(map(str, row)))\n",
    "            reg_data_file.write('\\n')        \n",
    "            if (count)%1000000 == 0:\n",
    "                # print(','.join(map(str, row)))\n",
    "                print(\"Done for {} rows----- {}\".format(count, datetime.now() - start))\n",
    "\n",
    "\n",
    "print(datetime.now() - start)"
   ]
  },
  {
   "cell_type": "code",
   "execution_count": 31,
   "metadata": {
    "colab": {
     "base_uri": "https://localhost:8080/",
     "height": 195
    },
    "colab_type": "code",
    "executionInfo": {
     "elapsed": 3367,
     "status": "ok",
     "timestamp": 1583118408737,
     "user": {
      "displayName": "Sahil -",
      "photoUrl": "",
      "userId": "14051148522636395588"
     },
     "user_tz": -330
    },
    "id": "x52r1egIozBQ",
    "outputId": "ca0d7930-3e4f-42c6-c69e-cc0a4717874a"
   },
   "outputs": [
    {
     "data": {
      "text/html": [
       "<div>\n",
       "<style scoped>\n",
       "    .dataframe tbody tr th:only-of-type {\n",
       "        vertical-align: middle;\n",
       "    }\n",
       "\n",
       "    .dataframe tbody tr th {\n",
       "        vertical-align: top;\n",
       "    }\n",
       "\n",
       "    .dataframe thead th {\n",
       "        text-align: right;\n",
       "    }\n",
       "</style>\n",
       "<table border=\"1\" class=\"dataframe\">\n",
       "  <thead>\n",
       "    <tr style=\"text-align: right;\">\n",
       "      <th></th>\n",
       "      <th>user</th>\n",
       "      <th>movie</th>\n",
       "      <th>GAvg</th>\n",
       "      <th>sur1</th>\n",
       "      <th>sur2</th>\n",
       "      <th>sur3</th>\n",
       "      <th>sur4</th>\n",
       "      <th>sur5</th>\n",
       "      <th>smr1</th>\n",
       "      <th>smr2</th>\n",
       "      <th>smr3</th>\n",
       "      <th>smr4</th>\n",
       "      <th>smr5</th>\n",
       "      <th>UAvg</th>\n",
       "      <th>MAvg</th>\n",
       "      <th>rating</th>\n",
       "    </tr>\n",
       "  </thead>\n",
       "  <tbody>\n",
       "    <tr>\n",
       "      <th>0</th>\n",
       "      <td>174683</td>\n",
       "      <td>10</td>\n",
       "      <td>3.587581</td>\n",
       "      <td>5.0</td>\n",
       "      <td>5.0</td>\n",
       "      <td>3.0</td>\n",
       "      <td>4.0</td>\n",
       "      <td>4.0</td>\n",
       "      <td>3.0</td>\n",
       "      <td>5.0</td>\n",
       "      <td>4.0</td>\n",
       "      <td>3.0</td>\n",
       "      <td>2.0</td>\n",
       "      <td>3.882353</td>\n",
       "      <td>3.611111</td>\n",
       "      <td>5</td>\n",
       "    </tr>\n",
       "    <tr>\n",
       "      <th>1</th>\n",
       "      <td>233949</td>\n",
       "      <td>10</td>\n",
       "      <td>3.587581</td>\n",
       "      <td>4.0</td>\n",
       "      <td>4.0</td>\n",
       "      <td>5.0</td>\n",
       "      <td>1.0</td>\n",
       "      <td>3.0</td>\n",
       "      <td>2.0</td>\n",
       "      <td>3.0</td>\n",
       "      <td>2.0</td>\n",
       "      <td>3.0</td>\n",
       "      <td>3.0</td>\n",
       "      <td>2.692308</td>\n",
       "      <td>3.611111</td>\n",
       "      <td>3</td>\n",
       "    </tr>\n",
       "    <tr>\n",
       "      <th>2</th>\n",
       "      <td>555770</td>\n",
       "      <td>10</td>\n",
       "      <td>3.587581</td>\n",
       "      <td>4.0</td>\n",
       "      <td>5.0</td>\n",
       "      <td>4.0</td>\n",
       "      <td>4.0</td>\n",
       "      <td>5.0</td>\n",
       "      <td>4.0</td>\n",
       "      <td>2.0</td>\n",
       "      <td>5.0</td>\n",
       "      <td>4.0</td>\n",
       "      <td>4.0</td>\n",
       "      <td>3.795455</td>\n",
       "      <td>3.611111</td>\n",
       "      <td>4</td>\n",
       "    </tr>\n",
       "    <tr>\n",
       "      <th>3</th>\n",
       "      <td>767518</td>\n",
       "      <td>10</td>\n",
       "      <td>3.587581</td>\n",
       "      <td>2.0</td>\n",
       "      <td>5.0</td>\n",
       "      <td>4.0</td>\n",
       "      <td>4.0</td>\n",
       "      <td>3.0</td>\n",
       "      <td>5.0</td>\n",
       "      <td>5.0</td>\n",
       "      <td>4.0</td>\n",
       "      <td>4.0</td>\n",
       "      <td>3.0</td>\n",
       "      <td>3.884615</td>\n",
       "      <td>3.611111</td>\n",
       "      <td>5</td>\n",
       "    </tr>\n",
       "    <tr>\n",
       "      <th>4</th>\n",
       "      <td>894393</td>\n",
       "      <td>10</td>\n",
       "      <td>3.587581</td>\n",
       "      <td>3.0</td>\n",
       "      <td>5.0</td>\n",
       "      <td>4.0</td>\n",
       "      <td>4.0</td>\n",
       "      <td>3.0</td>\n",
       "      <td>4.0</td>\n",
       "      <td>4.0</td>\n",
       "      <td>4.0</td>\n",
       "      <td>4.0</td>\n",
       "      <td>4.0</td>\n",
       "      <td>4.000000</td>\n",
       "      <td>3.611111</td>\n",
       "      <td>4</td>\n",
       "    </tr>\n",
       "  </tbody>\n",
       "</table>\n",
       "</div>"
      ],
      "text/plain": [
       "     user  movie      GAvg  sur1  sur2  sur3  sur4  sur5  smr1  smr2  smr3  \\\n",
       "0  174683     10  3.587581   5.0   5.0   3.0   4.0   4.0   3.0   5.0   4.0   \n",
       "1  233949     10  3.587581   4.0   4.0   5.0   1.0   3.0   2.0   3.0   2.0   \n",
       "2  555770     10  3.587581   4.0   5.0   4.0   4.0   5.0   4.0   2.0   5.0   \n",
       "3  767518     10  3.587581   2.0   5.0   4.0   4.0   3.0   5.0   5.0   4.0   \n",
       "4  894393     10  3.587581   3.0   5.0   4.0   4.0   3.0   4.0   4.0   4.0   \n",
       "\n",
       "   smr4  smr5      UAvg      MAvg  rating  \n",
       "0   3.0   2.0  3.882353  3.611111       5  \n",
       "1   3.0   3.0  2.692308  3.611111       3  \n",
       "2   4.0   4.0  3.795455  3.611111       4  \n",
       "3   4.0   3.0  3.884615  3.611111       5  \n",
       "4   4.0   4.0  4.000000  3.611111       4  "
      ]
     },
     "execution_count": 31,
     "metadata": {},
     "output_type": "execute_result"
    }
   ],
   "source": [
    "# Running from my local system: Creating_Reg.ipynb\n",
    "# You can check it out. It tooks 3 days to compute 25k rows(user) and 3k columns(movie) and save it as reg_train.csv for train\n",
    "reg_train = pd.read_csv('reg_train.csv', names = ['user', 'movie', 'GAvg', 'sur1', 'sur2', 'sur3', 'sur4', 'sur5','smr1', 'smr2', 'smr3', 'smr4', 'smr5', 'UAvg', 'MAvg', 'rating'], header=None)\n",
    "reg_train.head()"
   ]
  },
  {
   "cell_type": "markdown",
   "metadata": {
    "colab_type": "text",
    "id": "Cj4oIqLAbKJf"
   },
   "source": [
    "-----------------------\n",
    "\n",
    "- __GAvg__ : Average rating of all the ratings \n",
    "\n",
    "\n",
    "- __Similar users rating of this movie__:\n",
    "    - sur1, sur2, sur3, sur4, sur5 ( top 5 similar users who rated that movie.. )\n",
    "    \n",
    "\n",
    "\n",
    "- __Similar movies rated by this user__:\n",
    "    - smr1, smr2, smr3, smr4, smr5 ( top 5 similar movies rated by this movie.. )\n",
    "\n",
    "\n",
    "- __UAvg__ : User's Average rating\n",
    "\n",
    "\n",
    "- __MAvg__ : Average rating of this movie\n",
    "\n",
    "\n",
    "- __rating__ : Rating of this movie by this user.\n",
    "\n",
    "-----------------------"
   ]
  },
  {
   "cell_type": "markdown",
   "metadata": {
    "colab_type": "text",
    "id": "nmqjeYhBbOfZ"
   },
   "source": [
    "<h4> 4.3.1.2 Featurizing test data </h4>"
   ]
  },
  {
   "cell_type": "code",
   "execution_count": 0,
   "metadata": {
    "colab": {},
    "colab_type": "code",
    "id": "GH8L8gVLa-jj"
   },
   "outputs": [],
   "source": [
    "# get users, movies and ratings from the Sampled Test \n",
    "sample_test_users, sample_test_movies, sample_test_ratings = sparse.find(sample_test_sparse_matrix)"
   ]
  },
  {
   "cell_type": "code",
   "execution_count": 0,
   "metadata": {
    "colab": {},
    "colab_type": "code",
    "id": "Vv8KtjMWbRVe"
   },
   "outputs": [],
   "source": [
    "start = datetime.now()\n",
    "\n",
    "if os.path.isfile('/content/reg_test.csv'):\n",
    "    print(\"It is already created...\")\n",
    "else:\n",
    "\n",
    "    print('preparing {} tuples for the dataset..\\n'.format(len(sample_test_ratings)))\n",
    "    with open('/content/reg_test.csv', mode='w') as reg_data_file:\n",
    "        count = 0 \n",
    "        for (user, movie, rating)  in zip(sample_test_users, sample_test_movies, sample_test_ratings):\n",
    "            st = datetime.now()\n",
    "\n",
    "        #--------------------- Ratings of \"movie\" by similar users of \"user\" ---------------------\n",
    "            #print(user, movie)\n",
    "            try:\n",
    "                # compute the similar Users of the \"user\"        \n",
    "                user_sim = cosine_similarity(sample_train_sparse_matrix[user], sample_train_sparse_matrix).ravel()\n",
    "                top_sim_users = user_sim.argsort()[::-1][1:] # we are ignoring 'The User' from its similar users.\n",
    "                # get the ratings of most similar users for this movie\n",
    "                top_ratings = sample_train_sparse_matrix[top_sim_users, movie].toarray().ravel()\n",
    "                # we will make it's length \"5\" by adding movie averages to .\n",
    "                top_sim_users_ratings = list(top_ratings[top_ratings != 0][:5])\n",
    "                top_sim_users_ratings.extend([sample_train_averages['movie'][movie]]*(5 - len(top_sim_users_ratings)))\n",
    "                # print(top_sim_users_ratings, end=\"--\")\n",
    "\n",
    "            except (IndexError, KeyError):\n",
    "                # It is a new User or new Movie or there are no ratings for given user for top similar movies...\n",
    "                ########## Cold STart Problem ##########\n",
    "                top_sim_users_ratings.extend([sample_train_averages['global']]*(5 - len(top_sim_users_ratings)))\n",
    "                #print(top_sim_users_ratings)\n",
    "            except:\n",
    "                print(user, movie)\n",
    "                # we just want KeyErrors to be resolved. Not every Exception...\n",
    "                raise\n",
    "\n",
    "\n",
    "\n",
    "            #--------------------- Ratings by \"user\"  to similar movies of \"movie\" ---------------------\n",
    "            try:\n",
    "                # compute the similar movies of the \"movie\"        \n",
    "                movie_sim = cosine_similarity(sample_train_sparse_matrix[:,movie].T, sample_train_sparse_matrix.T).ravel()\n",
    "                top_sim_movies = movie_sim.argsort()[::-1][1:] # we are ignoring 'The User' from its similar users.\n",
    "                # get the ratings of most similar movie rated by this user..\n",
    "                top_ratings = sample_train_sparse_matrix[user, top_sim_movies].toarray().ravel()\n",
    "                # we will make it's length \"5\" by adding user averages to.\n",
    "                top_sim_movies_ratings = list(top_ratings[top_ratings != 0][:5])\n",
    "                top_sim_movies_ratings.extend([sample_train_averages['user'][user]]*(5-len(top_sim_movies_ratings))) \n",
    "                #print(top_sim_movies_ratings)\n",
    "            except (IndexError, KeyError):\n",
    "                #print(top_sim_movies_ratings, end=\" : -- \")\n",
    "                top_sim_movies_ratings.extend([sample_train_averages['global']]*(5-len(top_sim_movies_ratings)))\n",
    "                #print(top_sim_movies_ratings)\n",
    "            except :\n",
    "                raise\n",
    "\n",
    "            #-----------------prepare the row to be stores in a file-----------------#\n",
    "            row = list()\n",
    "            # add usser and movie name first\n",
    "            row.append(user)\n",
    "            row.append(movie)\n",
    "            row.append(sample_train_averages['global']) # first feature\n",
    "            #print(row)\n",
    "            # next 5 features are similar_users \"movie\" ratings\n",
    "            row.extend(top_sim_users_ratings)\n",
    "            #print(row)\n",
    "            # next 5 features are \"user\" ratings for similar_movies\n",
    "            row.extend(top_sim_movies_ratings)\n",
    "            #print(row)\n",
    "            # Avg_user rating\n",
    "            try:\n",
    "                row.append(sample_train_averages['user'][user])\n",
    "            except KeyError:\n",
    "                row.append(sample_train_averages['global'])\n",
    "            except:\n",
    "                raise\n",
    "            #print(row)\n",
    "            # Avg_movie rating\n",
    "            try:\n",
    "                row.append(sample_train_averages['movie'][movie])\n",
    "            except KeyError:\n",
    "                row.append(sample_train_averages['global'])\n",
    "            except:\n",
    "                raise\n",
    "            #print(row)\n",
    "            # finalley, The actual Rating of this user-movie pair...\n",
    "            row.append(rating)\n",
    "            #print(row)\n",
    "            count = count + 1\n",
    "\n",
    "            # add rows to the file opened..\n",
    "            reg_data_file.write(','.join(map(str, row)))\n",
    "            #print(','.join(map(str, row)))\n",
    "            reg_data_file.write('\\n')        \n",
    "            if (count)%1000 == 0:\n",
    "                #print(','.join(map(str, row)))\n",
    "                print(\"Done for {} rows----- {}\".format(count, datetime.now() - start))\n",
    "    print(\"\",datetime.now() - start)  "
   ]
  },
  {
   "cell_type": "code",
   "execution_count": 32,
   "metadata": {
    "colab": {
     "base_uri": "https://localhost:8080/",
     "height": 166
    },
    "colab_type": "code",
    "executionInfo": {
     "elapsed": 2471,
     "status": "ok",
     "timestamp": 1583118415417,
     "user": {
      "displayName": "Sahil -",
      "photoUrl": "",
      "userId": "14051148522636395588"
     },
     "user_tz": -330
    },
    "id": "mh7EdvG3bs9H",
    "outputId": "1cdb84e5-a410-44f0-89b7-471f07c99d80"
   },
   "outputs": [
    {
     "data": {
      "text/html": [
       "<div>\n",
       "<style scoped>\n",
       "    .dataframe tbody tr th:only-of-type {\n",
       "        vertical-align: middle;\n",
       "    }\n",
       "\n",
       "    .dataframe tbody tr th {\n",
       "        vertical-align: top;\n",
       "    }\n",
       "\n",
       "    .dataframe thead th {\n",
       "        text-align: right;\n",
       "    }\n",
       "</style>\n",
       "<table border=\"1\" class=\"dataframe\">\n",
       "  <thead>\n",
       "    <tr style=\"text-align: right;\">\n",
       "      <th></th>\n",
       "      <th>user</th>\n",
       "      <th>movie</th>\n",
       "      <th>GAvg</th>\n",
       "      <th>sur1</th>\n",
       "      <th>sur2</th>\n",
       "      <th>sur3</th>\n",
       "      <th>sur4</th>\n",
       "      <th>sur5</th>\n",
       "      <th>smr1</th>\n",
       "      <th>smr2</th>\n",
       "      <th>smr3</th>\n",
       "      <th>smr4</th>\n",
       "      <th>smr5</th>\n",
       "      <th>UAvg</th>\n",
       "      <th>MAvg</th>\n",
       "      <th>rating</th>\n",
       "    </tr>\n",
       "  </thead>\n",
       "  <tbody>\n",
       "    <tr>\n",
       "      <th>0</th>\n",
       "      <td>1129620</td>\n",
       "      <td>2</td>\n",
       "      <td>3.587581</td>\n",
       "      <td>3.587581</td>\n",
       "      <td>3.587581</td>\n",
       "      <td>3.587581</td>\n",
       "      <td>3.587581</td>\n",
       "      <td>3.587581</td>\n",
       "      <td>3.587581</td>\n",
       "      <td>3.587581</td>\n",
       "      <td>3.587581</td>\n",
       "      <td>3.587581</td>\n",
       "      <td>3.587581</td>\n",
       "      <td>3.587581</td>\n",
       "      <td>3.587581</td>\n",
       "      <td>3</td>\n",
       "    </tr>\n",
       "    <tr>\n",
       "      <th>1</th>\n",
       "      <td>3321</td>\n",
       "      <td>5</td>\n",
       "      <td>3.587581</td>\n",
       "      <td>3.587581</td>\n",
       "      <td>3.587581</td>\n",
       "      <td>3.587581</td>\n",
       "      <td>3.587581</td>\n",
       "      <td>3.587581</td>\n",
       "      <td>3.587581</td>\n",
       "      <td>3.587581</td>\n",
       "      <td>3.587581</td>\n",
       "      <td>3.587581</td>\n",
       "      <td>3.587581</td>\n",
       "      <td>3.587581</td>\n",
       "      <td>3.587581</td>\n",
       "      <td>4</td>\n",
       "    </tr>\n",
       "    <tr>\n",
       "      <th>2</th>\n",
       "      <td>368977</td>\n",
       "      <td>5</td>\n",
       "      <td>3.587581</td>\n",
       "      <td>3.587581</td>\n",
       "      <td>3.587581</td>\n",
       "      <td>3.587581</td>\n",
       "      <td>3.587581</td>\n",
       "      <td>3.587581</td>\n",
       "      <td>3.587581</td>\n",
       "      <td>3.587581</td>\n",
       "      <td>3.587581</td>\n",
       "      <td>3.587581</td>\n",
       "      <td>3.587581</td>\n",
       "      <td>3.587581</td>\n",
       "      <td>3.587581</td>\n",
       "      <td>5</td>\n",
       "    </tr>\n",
       "    <tr>\n",
       "      <th>3</th>\n",
       "      <td>508584</td>\n",
       "      <td>5</td>\n",
       "      <td>3.587581</td>\n",
       "      <td>3.587581</td>\n",
       "      <td>3.587581</td>\n",
       "      <td>3.587581</td>\n",
       "      <td>3.587581</td>\n",
       "      <td>3.587581</td>\n",
       "      <td>3.587581</td>\n",
       "      <td>3.587581</td>\n",
       "      <td>3.587581</td>\n",
       "      <td>3.587581</td>\n",
       "      <td>3.587581</td>\n",
       "      <td>3.587581</td>\n",
       "      <td>3.587581</td>\n",
       "      <td>3</td>\n",
       "    </tr>\n",
       "  </tbody>\n",
       "</table>\n",
       "</div>"
      ],
      "text/plain": [
       "      user  movie      GAvg      sur1      sur2      sur3      sur4      sur5  \\\n",
       "0  1129620      2  3.587581  3.587581  3.587581  3.587581  3.587581  3.587581   \n",
       "1     3321      5  3.587581  3.587581  3.587581  3.587581  3.587581  3.587581   \n",
       "2   368977      5  3.587581  3.587581  3.587581  3.587581  3.587581  3.587581   \n",
       "3   508584      5  3.587581  3.587581  3.587581  3.587581  3.587581  3.587581   \n",
       "\n",
       "       smr1      smr2      smr3      smr4      smr5      UAvg      MAvg  \\\n",
       "0  3.587581  3.587581  3.587581  3.587581  3.587581  3.587581  3.587581   \n",
       "1  3.587581  3.587581  3.587581  3.587581  3.587581  3.587581  3.587581   \n",
       "2  3.587581  3.587581  3.587581  3.587581  3.587581  3.587581  3.587581   \n",
       "3  3.587581  3.587581  3.587581  3.587581  3.587581  3.587581  3.587581   \n",
       "\n",
       "   rating  \n",
       "0       3  \n",
       "1       4  \n",
       "2       5  \n",
       "3       3  "
      ]
     },
     "execution_count": 32,
     "metadata": {},
     "output_type": "execute_result"
    }
   ],
   "source": [
    "# Running from my local system: Creating_Reg.ipynb\n",
    "# You can check it out. It tooks 1 days to compute 25k rows(user) and 3k columns(movie) and save it as reg_test.csv for test\n",
    "reg_test_df = pd.read_csv('reg_test.csv', names = ['user', 'movie', 'GAvg', 'sur1', 'sur2', 'sur3', 'sur4', 'sur5',\n",
    "                                                          'smr1', 'smr2', 'smr3', 'smr4', 'smr5',\n",
    "                                                          'UAvg', 'MAvg', 'rating'], header=None)\n",
    "reg_test_df.head(4)"
   ]
  },
  {
   "cell_type": "markdown",
   "metadata": {
    "colab_type": "text",
    "id": "_LXos_50cINR"
   },
   "source": [
    "-----------------------\n",
    "\n",
    "- __GAvg__ : Average rating of all the ratings \n",
    "\n",
    "\n",
    "- __Similar users rating of this movie__:\n",
    "    - sur1, sur2, sur3, sur4, sur5 ( top 5 simiular users who rated that movie.. )\n",
    "    \n",
    "\n",
    "\n",
    "- __Similar movies rated by this user__:\n",
    "    - smr1, smr2, smr3, smr4, smr5 ( top 5 simiular movies rated by this movie.. )\n",
    "\n",
    "\n",
    "- __UAvg__ : User AVerage rating\n",
    "\n",
    "\n",
    "- __MAvg__ : Average rating of this movie\n",
    "\n",
    "\n",
    "- __rating__ : Rating of this movie by this user.\n",
    "\n",
    "-----------------------"
   ]
  },
  {
   "cell_type": "markdown",
   "metadata": {
    "colab_type": "text",
    "id": "Fq8-z7zwcoKV"
   },
   "source": [
    "<h3> 4.3.2 Transforming data for Surprise models</h3>"
   ]
  },
  {
   "cell_type": "code",
   "execution_count": 2,
   "metadata": {
    "colab": {
     "base_uri": "https://localhost:8080/",
     "height": 286
    },
    "colab_type": "code",
    "executionInfo": {
     "elapsed": 36898,
     "status": "ok",
     "timestamp": 1583118463097,
     "user": {
      "displayName": "Sahil -",
      "photoUrl": "",
      "userId": "14051148522636395588"
     },
     "user_tz": -330
    },
    "id": "JDROA6c7b6AO",
    "outputId": "d705cd9d-1bbb-49f5-ec0b-b0f801679e96"
   },
   "outputs": [
    {
     "name": "stdout",
     "output_type": "stream",
     "text": [
      "Collecting surprise\n",
      "  Downloading https://files.pythonhosted.org/packages/61/de/e5cba8682201fcf9c3719a6fdda95693468ed061945493dea2dd37c5618b/surprise-0.1-py2.py3-none-any.whl\n",
      "Collecting scikit-surprise (from surprise)\n",
      "  Downloading https://files.pythonhosted.org/packages/f5/da/b5700d96495fb4f092be497f02492768a3d96a3f4fa2ae7dea46d4081cfa/scikit-surprise-1.1.0.tar.gz (6.4MB)\n",
      "Requirement already satisfied: joblib>=0.11 in c:\\users\\sahil\\appdata\\local\\programs\\python\\python36\\lib\\site-packages (from scikit-surprise->surprise) (0.13.2)\n",
      "Requirement already satisfied: numpy>=1.11.2 in c:\\users\\sahil\\appdata\\local\\programs\\python\\python36\\lib\\site-packages (from scikit-surprise->surprise) (1.16.4)\n",
      "Requirement already satisfied: scipy>=1.0.0 in c:\\users\\sahil\\appdata\\local\\programs\\python\\python36\\lib\\site-packages (from scikit-surprise->surprise) (1.2.1)\n",
      "Requirement already satisfied: six>=1.10.0 in c:\\users\\sahil\\appdata\\local\\programs\\python\\python36\\lib\\site-packages (from scikit-surprise->surprise) (1.12.0)\n",
      "Building wheels for collected packages: scikit-surprise\n",
      "  Building wheel for scikit-surprise (setup.py): started\n",
      "  Building wheel for scikit-surprise (setup.py): finished with status 'done'\n",
      "  Stored in directory: C:\\Users\\sahil\\AppData\\Local\\pip\\Cache\\wheels\\cc\\fa\\8c\\16c93fccce688ae1bde7d979ff102f7bee980d9cfeb8641bcf\n",
      "Successfully built scikit-surprise\n",
      "Installing collected packages: scikit-surprise, surprise\n",
      "Successfully installed scikit-surprise-1.1.0 surprise-0.1\n"
     ]
    },
    {
     "name": "stderr",
     "output_type": "stream",
     "text": [
      "WARNING: You are using pip version 19.1.1, however version 20.0.2 is available.\n",
      "You should consider upgrading via the 'python -m pip install --upgrade pip' command.\n"
     ]
    }
   ],
   "source": [
    "!pip install surprise\n",
    "from surprise import Reader, Dataset"
   ]
  },
  {
   "cell_type": "markdown",
   "metadata": {
    "colab_type": "text",
    "id": "spC2H2oFc0K7"
   },
   "source": [
    "<h4> 4.3.2.1 Transforming train data </h4>\n",
    "\n",
    "- We can't give raw data (movie, user, rating) to train the model in Surprise library.\n",
    "\n",
    "\n",
    "- They have a saperate format for TRAIN and TEST data, which will be useful for training the models like SVD, KNNBaseLineOnly....etc..,in Surprise.\n",
    "\n",
    "\n",
    "- We can form the trainset from a file, or from a Pandas  DataFrame. \n",
    "http://surprise.readthedocs.io/en/stable/getting_started.html#load-dom-dataframe-py "
   ]
  },
  {
   "cell_type": "code",
   "execution_count": 6,
   "metadata": {
    "colab": {},
    "colab_type": "code",
    "id": "ecMWMNvBc3RC"
   },
   "outputs": [],
   "source": [
    "# It is to specify how to read the dataframe.\n",
    "# for our dataframe, we don't have to specify anything extra..\n",
    "reader = Reader(rating_scale=(1,5))\n",
    "\n",
    "# create the traindata from the dataframe...\n",
    "train_data = Dataset.load_from_df(reg_train[['user', 'movie', 'rating']], reader)\n",
    "\n",
    "# build the trainset from traindata.., It is of dataset format from surprise library..\n",
    "trainset = train_data.build_full_trainset() "
   ]
  },
  {
   "cell_type": "markdown",
   "metadata": {
    "colab_type": "text",
    "id": "ca5ZId6-eFz_"
   },
   "source": [
    "<h4> 4.3.2.2 Transforming test data </h4>\n",
    "\n",
    "- Testset is just a list of (user, movie, rating) tuples. (Order in the tuple is impotant) "
   ]
  },
  {
   "cell_type": "code",
   "execution_count": 7,
   "metadata": {
    "colab": {
     "base_uri": "https://localhost:8080/",
     "height": 34
    },
    "colab_type": "code",
    "executionInfo": {
     "elapsed": 1206,
     "status": "ok",
     "timestamp": 1583118473049,
     "user": {
      "displayName": "Sahil -",
      "photoUrl": "",
      "userId": "14051148522636395588"
     },
     "user_tz": -330
    },
    "id": "K-oBEqeddxYv",
    "outputId": "164fd2d7-02c3-4865-9cb5-b919e366e3eb"
   },
   "outputs": [
    {
     "data": {
      "text/plain": [
       "[(1129620, 2, 3), (3321, 5, 4), (368977, 5, 5)]"
      ]
     },
     "execution_count": 7,
     "metadata": {},
     "output_type": "execute_result"
    }
   ],
   "source": [
    "testset = list(zip(reg_test_df.user.values, reg_test_df.movie.values, reg_test_df.rating.values))\n",
    "testset[:3]"
   ]
  },
  {
   "cell_type": "markdown",
   "metadata": {
    "colab_type": "text",
    "id": "2sb45VhpegC5"
   },
   "source": [
    "<h2> 4.4 Applying Machine Learning models </h2>\n",
    "\n",
    "-  Global dictionary that stores rmse and mape for all the models....\n",
    "\n",
    "    - It stores the metrics in a dictionary of dictionaries\n",
    "\n",
    "    > __keys__ : model names(string)\n",
    "\n",
    "    > __value__: dict(__key__ : metric, __value__ : value ) "
   ]
  },
  {
   "cell_type": "code",
   "execution_count": 8,
   "metadata": {
    "colab": {
     "base_uri": "https://localhost:8080/",
     "height": 34
    },
    "colab_type": "code",
    "executionInfo": {
     "elapsed": 1305,
     "status": "ok",
     "timestamp": 1583118476232,
     "user": {
      "displayName": "Sahil -",
      "photoUrl": "",
      "userId": "14051148522636395588"
     },
     "user_tz": -330
    },
    "id": "-bgZDcGwd0-m",
    "outputId": "8f6ec419-457d-4f3f-cfe9-39ba819b34ed"
   },
   "outputs": [
    {
     "data": {
      "text/plain": [
       "({}, {})"
      ]
     },
     "execution_count": 8,
     "metadata": {},
     "output_type": "execute_result"
    }
   ],
   "source": [
    "models_evaluation_train = dict()\n",
    "models_evaluation_test = dict()\n",
    "\n",
    "models_evaluation_train, models_evaluation_test"
   ]
  },
  {
   "cell_type": "markdown",
   "metadata": {
    "colab_type": "text",
    "id": "ONeUCvNleqA-"
   },
   "source": [
    " > __Utility functions for running regression models__"
   ]
  },
  {
   "cell_type": "code",
   "execution_count": 9,
   "metadata": {
    "colab": {},
    "colab_type": "code",
    "id": "EUtT-kkT4p1M"
   },
   "outputs": [],
   "source": [
    "# To get RMSE and MAPE\n",
    "def get_error_metrics(y_true, y_pred):\n",
    "    rmse = np.sqrt(np.mean([ (y_true[i] - y_pred[i])**2 for i in range(len(y_pred)) ]))\n",
    "    mape = np.mean(np.abs( (y_true - y_pred)/y_true )) * 100\n",
    "    return rmse, mape\n",
    "\n",
    "def mape_fn(y_true, y_pred):\n",
    "    return np.mean(np.abs( (y_true - y_pred)/y_true )) * 100\n",
    "\n",
    "def plot_grid_hyper(gridclf, loss_name):\n",
    "    max_depth_list = list(gridclf.cv_results_['param_max_depth'].data)\n",
    "    samplesplit_list = list(gridclf.cv_results_['param_n_estimators'].data)\n",
    "    plt.figure(1)\n",
    "    plt.subplot(211)\n",
    "    data = pd.DataFrame(data={'Max Depth':max_depth_list, 'N Estimators':samplesplit_list , 'Scr':gridclf.cv_results_['mean_train_{}'.format(loss_name[0])]})\n",
    "    data = data.pivot(index='Max Depth', columns='N Estimators', values='Scr')\n",
    "    sns.heatmap(data, annot=True).set_title('{} for Training data'.format(loss_name[0]))\n",
    "    plt.subplot(212)\n",
    "    data = pd.DataFrame(data={'Max Depth':max_depth_list, 'N Estimators':samplesplit_list , 'Scr':gridclf.cv_results_['mean_test_{}'.format(loss_name[0])]})\n",
    "    data = data.pivot(index='Max Depth', columns='N Estimators', values='Scr')\n",
    "    sns.heatmap(data, annot=True).set_title('{} for CV data'.format(loss_name[0]))\n",
    "    plt.tight_layout()\n",
    "    plt.figure(2)\n",
    "    plt.subplot(211)\n",
    "    data = pd.DataFrame(data={'Max Depth':max_depth_list, 'N Estimators':samplesplit_list , 'Scr':gridclf.cv_results_['mean_train_{}'.format(loss_name[1])]})\n",
    "    data = data.pivot(index='Max Depth', columns='N Estimators', values='Scr')\n",
    "    sns.heatmap(data, annot=True).set_title('{} for Training data'.format(loss_name[1]))\n",
    "    plt.subplot(212)\n",
    "    data = pd.DataFrame(data={'Max Depth':max_depth_list, 'N Estimators':samplesplit_list , 'Scr':gridclf.cv_results_['mean_test_{}'.format(loss_name[1])]})\n",
    "    data = data.pivot(index='Max Depth', columns='N Estimators', values='Scr')\n",
    "    sns.heatmap(data, annot=True).set_title('{} for CV data'.format(loss_name[1]))\n",
    "    plt.tight_layout()\n",
    "    plt.show()\n",
    "\n",
    "# Define xgboost model for hyperparameter and plot the hypermaters vs loss fn\n",
    "def hype_xgboost(xtrain, ytrain, parameters_, scoring_fn, loss_name):\n",
    "    print('Instance create XGBClassifier')\n",
    "    clf = xgboost.XGBRegressor(random_state=1, silent=True)\n",
    "    print('Fitting GridSearchCV')\n",
    "    grid_clf = GridSearchCV(clf, parameters_, cv=3, verbose=3, scoring=scoring_fn, return_train_score=True, refit=False)\n",
    "    grid_clf.fit(xtrain,ytrain)\n",
    "    plot_grid_hyper(grid_clf, loss_name)\n",
    "\n",
    "def train_xgboost(n_est, max_dep, xtrain, ytrain, xtest, ytest, verbose=True):\n",
    "    train_results = dict()\n",
    "    test_results = dict()\n",
    "    clf = xgboost.XGBRegressor(n_estimators=n_est, max_depth=max_dep, random_state=1)\n",
    "    clf.fit(xtrain, ytrain)\n",
    "    y_train_pred = clf.predict(xtrain)\n",
    "    # get the rmse and mape of train data...\n",
    "    rmse_train, mape_train = get_error_metrics(ytrain.values, y_train_pred)\n",
    "    \n",
    "    # store the results in train_results dictionary..\n",
    "    train_results = {'rmse': rmse_train,\n",
    "                    'mape' : mape_train,\n",
    "                    'predictions' : y_train_pred}\n",
    "    \n",
    "    # get the test data predictions and compute rmse and mape\n",
    "    print('Evaluating Test data')\n",
    "    y_test_pred = clf.predict(xtest) \n",
    "    rmse_test, mape_test = get_error_metrics(y_true=ytest.values, y_pred=y_test_pred)\n",
    "    # store them in our test results dictionary.\n",
    "    test_results = {'rmse': rmse_test,\n",
    "                    'mape' : mape_test,\n",
    "                    'predictions':y_test_pred}\n",
    "    if verbose:\n",
    "        print('\\nTEST DATA')\n",
    "        print('-'*30)\n",
    "        print('RMSE : ', rmse_test)\n",
    "        print('MAPE : ', mape_test)\n",
    "        \n",
    "    # return these train and test results...\n",
    "    return clf, train_results, test_results"
   ]
  },
  {
   "cell_type": "code",
   "execution_count": 33,
   "metadata": {
    "colab": {},
    "colab_type": "code",
    "id": "EqC-WAC_Bq6n"
   },
   "outputs": [],
   "source": [
    "# prepare Train data and Test data\n",
    "x_train = reg_train.drop(['user','movie','rating'], axis=1)\n",
    "y_train = reg_train['rating']\n",
    "x_test = reg_test_df.drop(['user','movie','rating'], axis=1)\n",
    "y_test = reg_test_df['rating']"
   ]
  },
  {
   "cell_type": "markdown",
   "metadata": {
    "colab_type": "text",
    "id": "eWDRHamT0m4D"
   },
   "source": [
    "<h3> 4.4.1 XGBoost with initial 13 features </h3>"
   ]
  },
  {
   "cell_type": "code",
   "execution_count": 11,
   "metadata": {
    "colab": {
     "base_uri": "https://localhost:8080/",
     "height": 1000
    },
    "colab_type": "code",
    "executionInfo": {
     "elapsed": 717151,
     "status": "ok",
     "timestamp": 1583064442793,
     "user": {
      "displayName": "Sahil -",
      "photoUrl": "",
      "userId": "14051148522636395588"
     },
     "user_tz": -330
    },
    "id": "eLbUwmIY3Yes",
    "outputId": "33fd1561-dbf8-4d77-a84c-63be332a7cce"
   },
   "outputs": [
    {
     "name": "stdout",
     "output_type": "stream",
     "text": [
      "Instance create XGBClassifier\n",
      "Fitting GridSearchCV\n",
      "Fitting 3 folds for each of 20 candidates, totalling 60 fits\n",
      "[CV] max_depth=3, n_estimators=2 .....................................\n"
     ]
    },
    {
     "name": "stderr",
     "output_type": "stream",
     "text": [
      "[Parallel(n_jobs=1)]: Using backend SequentialBackend with 1 concurrent workers.\n"
     ]
    },
    {
     "name": "stdout",
     "output_type": "stream",
     "text": [
      "[CV]  max_depth=3, n_estimators=2, MAPE=(train=-65.903, test=-65.866), RMSE=(train=-2.708, test=-2.709), total=   2.8s\n",
      "[CV] max_depth=3, n_estimators=2 .....................................\n"
     ]
    },
    {
     "name": "stderr",
     "output_type": "stream",
     "text": [
      "[Parallel(n_jobs=1)]: Done   1 out of   1 | elapsed:    3.0s remaining:    0.0s\n"
     ]
    },
    {
     "name": "stdout",
     "output_type": "stream",
     "text": [
      "[CV]  max_depth=3, n_estimators=2, MAPE=(train=-65.898, test=-65.673), RMSE=(train=-2.708, test=-2.705), total=   1.3s\n",
      "[CV] max_depth=3, n_estimators=2 .....................................\n"
     ]
    },
    {
     "name": "stderr",
     "output_type": "stream",
     "text": [
      "[Parallel(n_jobs=1)]: Done   2 out of   2 | elapsed:    4.7s remaining:    0.0s\n"
     ]
    },
    {
     "name": "stdout",
     "output_type": "stream",
     "text": [
      "[CV]  max_depth=3, n_estimators=2, MAPE=(train=-65.749, test=-65.923), RMSE=(train=-2.706, test=-2.705), total=   1.4s\n",
      "[CV] max_depth=3, n_estimators=3 .....................................\n",
      "[CV]  max_depth=3, n_estimators=3, MAPE=(train=-59.662, test=-59.647), RMSE=(train=-2.471, test=-2.472), total=   1.6s\n",
      "[CV] max_depth=3, n_estimators=3 .....................................\n",
      "[CV]  max_depth=3, n_estimators=3, MAPE=(train=-59.685, test=-59.462), RMSE=(train=-2.471, test=-2.468), total=   1.7s\n",
      "[CV] max_depth=3, n_estimators=3 .....................................\n",
      "[CV]  max_depth=3, n_estimators=3, MAPE=(train=-59.570, test=-59.674), RMSE=(train=-2.470, test=-2.468), total=   1.7s\n",
      "[CV] max_depth=3, n_estimators=5 .....................................\n",
      "[CV]  max_depth=3, n_estimators=5, MAPE=(train=-49.595, test=-49.583), RMSE=(train=-2.073, test=-2.075), total=   2.2s\n",
      "[CV] max_depth=3, n_estimators=5 .....................................\n",
      "[CV]  max_depth=3, n_estimators=5, MAPE=(train=-49.585, test=-49.465), RMSE=(train=-2.075, test=-2.070), total=   2.2s\n",
      "[CV] max_depth=3, n_estimators=5 .....................................\n",
      "[CV]  max_depth=3, n_estimators=5, MAPE=(train=-49.598, test=-49.534), RMSE=(train=-2.074, test=-2.071), total=   2.1s\n",
      "[CV] max_depth=3, n_estimators=10 ....................................\n",
      "[CV]  max_depth=3, n_estimators=10, MAPE=(train=-34.792, test=-35.075), RMSE=(train=-1.428, test=-1.435), total=   3.5s\n",
      "[CV] max_depth=3, n_estimators=10 ....................................\n",
      "[CV]  max_depth=3, n_estimators=10, MAPE=(train=-34.897, test=-34.834), RMSE=(train=-1.432, test=-1.425), total=   3.6s\n",
      "[CV] max_depth=3, n_estimators=10 ....................................\n",
      "[CV]  max_depth=3, n_estimators=10, MAPE=(train=-34.989, test=-34.696), RMSE=(train=-1.431, test=-1.427), total=   3.6s\n",
      "[CV] max_depth=3, n_estimators=20 ....................................\n",
      "[CV]  max_depth=3, n_estimators=20, MAPE=(train=-26.894, test=-27.512), RMSE=(train=-0.966, test=-0.982), total=   6.3s\n",
      "[CV] max_depth=3, n_estimators=20 ....................................\n",
      "[CV]  max_depth=3, n_estimators=20, MAPE=(train=-27.153, test=-27.165), RMSE=(train=-0.975, test=-0.965), total=   6.4s\n",
      "[CV] max_depth=3, n_estimators=20 ....................................\n",
      "[CV]  max_depth=3, n_estimators=20, MAPE=(train=-27.232, test=-26.727), RMSE=(train=-0.973, test=-0.968), total=   6.3s\n",
      "[CV] max_depth=5, n_estimators=2 .....................................\n",
      "[CV]  max_depth=5, n_estimators=2, MAPE=(train=-66.028, test=-65.826), RMSE=(train=-2.704, test=-2.700), total=   1.6s\n",
      "[CV] max_depth=5, n_estimators=2 .....................................\n",
      "[CV]  max_depth=5, n_estimators=2, MAPE=(train=-66.012, test=-65.811), RMSE=(train=-2.704, test=-2.700), total=   1.6s\n",
      "[CV] max_depth=5, n_estimators=2 .....................................\n",
      "[CV]  max_depth=5, n_estimators=2, MAPE=(train=-65.892, test=-66.126), RMSE=(train=-2.702, test=-2.705), total=   1.6s\n",
      "[CV] max_depth=5, n_estimators=3 .....................................\n",
      "[CV]  max_depth=5, n_estimators=3, MAPE=(train=-59.606, test=-59.496), RMSE=(train=-2.465, test=-2.463), total=   2.0s\n",
      "[CV] max_depth=5, n_estimators=3 .....................................\n",
      "[CV]  max_depth=5, n_estimators=3, MAPE=(train=-59.625, test=-59.380), RMSE=(train=-2.466, test=-2.460), total=   2.0s\n",
      "[CV] max_depth=5, n_estimators=3 .....................................\n",
      "[CV]  max_depth=5, n_estimators=3, MAPE=(train=-59.518, test=-59.689), RMSE=(train=-2.464, test=-2.464), total=   2.0s\n",
      "[CV] max_depth=5, n_estimators=5 .....................................\n",
      "[CV]  max_depth=5, n_estimators=5, MAPE=(train=-49.387, test=-49.325), RMSE=(train=-2.064, test=-2.064), total=   2.8s\n",
      "[CV] max_depth=5, n_estimators=5 .....................................\n",
      "[CV]  max_depth=5, n_estimators=5, MAPE=(train=-49.414, test=-49.255), RMSE=(train=-2.066, test=-2.059), total=   2.8s\n",
      "[CV] max_depth=5, n_estimators=5 .....................................\n",
      "[CV]  max_depth=5, n_estimators=5, MAPE=(train=-49.374, test=-49.371), RMSE=(train=-2.064, test=-2.064), total=   2.8s\n",
      "[CV] max_depth=5, n_estimators=10 ....................................\n",
      "[CV]  max_depth=5, n_estimators=10, MAPE=(train=-34.226, test=-34.500), RMSE=(train=-1.412, test=-1.418), total=   5.1s\n",
      "[CV] max_depth=5, n_estimators=10 ....................................\n",
      "[CV]  max_depth=5, n_estimators=10, MAPE=(train=-34.368, test=-34.230), RMSE=(train=-1.417, test=-1.408), total=   5.0s\n",
      "[CV] max_depth=5, n_estimators=10 ....................................\n",
      "[CV]  max_depth=5, n_estimators=10, MAPE=(train=-34.392, test=-34.202), RMSE=(train=-1.415, test=-1.413), total=   5.1s\n",
      "[CV] max_depth=5, n_estimators=20 ....................................\n",
      "[CV]  max_depth=5, n_estimators=20, MAPE=(train=-26.093, test=-26.771), RMSE=(train=-0.949, test=-0.966), total=   9.5s\n",
      "[CV] max_depth=5, n_estimators=20 ....................................\n",
      "[CV]  max_depth=5, n_estimators=20, MAPE=(train=-26.395, test=-26.307), RMSE=(train=-0.959, test=-0.946), total=   9.6s\n",
      "[CV] max_depth=5, n_estimators=20 ....................................\n",
      "[CV]  max_depth=5, n_estimators=20, MAPE=(train=-26.417, test=-26.058), RMSE=(train=-0.955, test=-0.953), total=   9.5s\n",
      "[CV] max_depth=10, n_estimators=2 ....................................\n",
      "[CV]  max_depth=10, n_estimators=2, MAPE=(train=-66.182, test=-66.001), RMSE=(train=-2.700, test=-2.698), total=   2.6s\n",
      "[CV] max_depth=10, n_estimators=2 ....................................\n",
      "[CV]  max_depth=10, n_estimators=2, MAPE=(train=-66.163, test=-65.955), RMSE=(train=-2.700, test=-2.698), total=   3.2s\n",
      "[CV] max_depth=10, n_estimators=2 ....................................\n",
      "[CV]  max_depth=10, n_estimators=2, MAPE=(train=-66.065, test=-66.272), RMSE=(train=-2.698, test=-2.703), total=   3.1s\n",
      "[CV] max_depth=10, n_estimators=3 ....................................\n",
      "[CV]  max_depth=10, n_estimators=3, MAPE=(train=-59.631, test=-59.549), RMSE=(train=-2.460, test=-2.459), total=   3.6s\n",
      "[CV] max_depth=10, n_estimators=3 ....................................\n",
      "[CV]  max_depth=10, n_estimators=3, MAPE=(train=-59.646, test=-59.447), RMSE=(train=-2.460, test=-2.457), total=   3.5s\n",
      "[CV] max_depth=10, n_estimators=3 ....................................\n",
      "[CV]  max_depth=10, n_estimators=3, MAPE=(train=-59.535, test=-59.759), RMSE=(train=-2.458, test=-2.462), total=   3.6s\n",
      "[CV] max_depth=10, n_estimators=5 ....................................\n",
      "[CV]  max_depth=10, n_estimators=5, MAPE=(train=-49.143, test=-49.198), RMSE=(train=-2.055, test=-2.059), total=   5.6s\n",
      "[CV] max_depth=10, n_estimators=5 ....................................\n",
      "[CV]  max_depth=10, n_estimators=5, MAPE=(train=-49.169, test=-49.077), RMSE=(train=-2.057, test=-2.052), total=   5.4s\n",
      "[CV] max_depth=10, n_estimators=5 ....................................\n",
      "[CV]  max_depth=10, n_estimators=5, MAPE=(train=-49.119, test=-49.275), RMSE=(train=-2.055, test=-2.059), total=   5.4s\n",
      "[CV] max_depth=10, n_estimators=10 ...................................\n",
      "[CV]  max_depth=10, n_estimators=10, MAPE=(train=-33.514, test=-34.049), RMSE=(train=-1.395, test=-1.409), total=  10.1s\n",
      "[CV] max_depth=10, n_estimators=10 ...................................\n",
      "[CV]  max_depth=10, n_estimators=10, MAPE=(train=-33.640, test=-33.715), RMSE=(train=-1.400, test=-1.395), total=  10.0s\n",
      "[CV] max_depth=10, n_estimators=10 ...................................\n",
      "[CV]  max_depth=10, n_estimators=10, MAPE=(train=-33.632, test=-33.796), RMSE=(train=-1.397, test=-1.404), total=  10.1s\n",
      "[CV] max_depth=10, n_estimators=20 ...................................\n",
      "[CV]  max_depth=10, n_estimators=20, MAPE=(train=-24.933, test=-26.204), RMSE=(train=-0.923, test=-0.957), total=  20.0s\n",
      "[CV] max_depth=10, n_estimators=20 ...................................\n",
      "[CV]  max_depth=10, n_estimators=20, MAPE=(train=-25.229, test=-25.666), RMSE=(train=-0.932, test=-0.936), total=  19.8s\n",
      "[CV] max_depth=10, n_estimators=20 ...................................\n",
      "[CV]  max_depth=10, n_estimators=20, MAPE=(train=-25.216, test=-25.549), RMSE=(train=-0.928, test=-0.945), total=  19.9s\n",
      "[CV] max_depth=20, n_estimators=2 ....................................\n"
     ]
    },
    {
     "name": "stdout",
     "output_type": "stream",
     "text": [
      "[CV]  max_depth=20, n_estimators=2, MAPE=(train=-66.632, test=-66.290), RMSE=(train=-2.698, test=-2.701), total=   4.6s\n",
      "[CV] max_depth=20, n_estimators=2 ....................................\n",
      "[CV]  max_depth=20, n_estimators=2, MAPE=(train=-66.607, test=-66.263), RMSE=(train=-2.698, test=-2.701), total=   4.6s\n",
      "[CV] max_depth=20, n_estimators=2 ....................................\n",
      "[CV]  max_depth=20, n_estimators=2, MAPE=(train=-66.543, test=-66.538), RMSE=(train=-2.695, test=-2.705), total=   4.7s\n",
      "[CV] max_depth=20, n_estimators=3 ....................................\n",
      "[CV]  max_depth=20, n_estimators=3, MAPE=(train=-59.913, test=-59.869), RMSE=(train=-2.455, test=-2.464), total=   6.6s\n",
      "[CV] max_depth=20, n_estimators=3 ....................................\n",
      "[CV]  max_depth=20, n_estimators=3, MAPE=(train=-59.895, test=-59.791), RMSE=(train=-2.455, test=-2.462), total=   6.7s\n",
      "[CV] max_depth=20, n_estimators=3 ....................................\n",
      "[CV]  max_depth=20, n_estimators=3, MAPE=(train=-59.838, test=-60.057), RMSE=(train=-2.453, test=-2.466), total=   6.9s\n",
      "[CV] max_depth=20, n_estimators=5 ....................................\n",
      "[CV]  max_depth=20, n_estimators=5, MAPE=(train=-48.692, test=-49.469), RMSE=(train=-2.043, test=-2.068), total=  13.2s\n",
      "[CV] max_depth=20, n_estimators=5 ....................................\n",
      "[CV]  max_depth=20, n_estimators=5, MAPE=(train=-48.693, test=-49.361), RMSE=(train=-2.045, test=-2.062), total=  13.1s\n",
      "[CV] max_depth=20, n_estimators=5 ....................................\n",
      "[CV]  max_depth=20, n_estimators=5, MAPE=(train=-48.637, test=-49.531), RMSE=(train=-2.042, test=-2.068), total=  11.4s\n",
      "[CV] max_depth=20, n_estimators=10 ...................................\n",
      "[CV]  max_depth=20, n_estimators=10, MAPE=(train=-30.493, test=-34.321), RMSE=(train=-1.340, test=-1.433), total=  22.6s\n",
      "[CV] max_depth=20, n_estimators=10 ...................................\n",
      "[CV]  max_depth=20, n_estimators=10, MAPE=(train=-30.584, test=-33.984), RMSE=(train=-1.344, test=-1.418), total=  22.8s\n",
      "[CV] max_depth=20, n_estimators=10 ...................................\n",
      "[CV]  max_depth=20, n_estimators=10, MAPE=(train=-30.499, test=-34.059), RMSE=(train=-1.340, test=-1.425), total=  23.2s\n",
      "[CV] max_depth=20, n_estimators=20 ...................................\n",
      "[CV]  max_depth=20, n_estimators=20, MAPE=(train=-16.174, test=-26.316), RMSE=(train=-0.706, test=-0.991), total=  47.5s\n",
      "[CV] max_depth=20, n_estimators=20 ...................................\n",
      "[CV]  max_depth=20, n_estimators=20, MAPE=(train=-16.370, test=-25.838), RMSE=(train=-0.712, test=-0.968), total=  47.7s\n",
      "[CV] max_depth=20, n_estimators=20 ...................................\n",
      "[CV]  max_depth=20, n_estimators=20, MAPE=(train=-16.251, test=-25.773), RMSE=(train=-0.708, test=-0.979), total=  48.0s\n"
     ]
    },
    {
     "name": "stderr",
     "output_type": "stream",
     "text": [
      "[Parallel(n_jobs=1)]: Done  60 out of  60 | elapsed:  9.3min finished\n"
     ]
    },
    {
     "data": {
      "image/png": "[encoded data removed]",
      "text/plain": [
       "<Figure size 432x288 with 4 Axes>"
      ]
     },
     "metadata": {
      "needs_background": "light"
     },
     "output_type": "display_data"
    },
    {
     "data": {
      "image/png": "[encoded data removed]",
      "text/plain": [
       "<Figure size 432x288 with 4 Axes>"
      ]
     },
     "metadata": {
      "needs_background": "light"
     },
     "output_type": "display_data"
    }
   ],
   "source": [
    "# https://scikit-learn.org/stable/auto_examples/model_selection/plot_multi_metric_evaluation.html\n",
    "\n",
    "parameter = {'n_estimators':[2, 3, 5, 10, 20], 'max_depth':[3, 5, 10, 20]}\n",
    "mape_loss = make_scorer(mape_fn, greater_is_better=False)\n",
    "scoring = {'RMSE': 'neg_root_mean_squared_error', 'MAPE': mape_loss}\n",
    "hype_xgboost(x_train,y_train,parameter,scoring,['RMSE','MAPE'])"
   ]
  },
  {
   "cell_type": "code",
   "execution_count": 12,
   "metadata": {
    "colab": {
     "base_uri": "https://localhost:8080/",
     "height": 413
    },
    "colab_type": "code",
    "executionInfo": {
     "elapsed": 49376,
     "status": "ok",
     "timestamp": 1583118613633,
     "user": {
      "displayName": "Sahil -",
      "photoUrl": "",
      "userId": "14051148522636395588"
     },
     "user_tz": -330
    },
    "id": "qNK9FKMsCjKu",
    "outputId": "3b733c86-b894-43e5-b478-2ef694682aeb"
   },
   "outputs": [
    {
     "name": "stdout",
     "output_type": "stream",
     "text": [
      "[13:40:21] WARNING: C:/Jenkins/workspace/xgboost-win64_release_0.90/src/objective/regression_obj.cu:152: reg:linear is now deprecated in favor of reg:squarederror.\n",
      "Evaluating Test data\n",
      "\n",
      "TEST DATA\n",
      "------------------------------\n",
      "RMSE :  1.2545561013662423\n",
      "MAPE :  31.85414734994786\n"
     ]
    },
    {
     "data": {
      "image/png": "[encoded data removed]",
      "text/plain": [
       "<Figure size 432x288 with 1 Axes>"
      ]
     },
     "metadata": {
      "needs_background": "light"
     },
     "output_type": "display_data"
    }
   ],
   "source": [
    "# With best rmse: n_estimator=20, max_depth=10\n",
    "# With best mape, n_estimator=20, max_depth=20\n",
    "\n",
    "first_xgb, train_results, test_results = train_xgboost(n_est=20, max_dep=10, xtrain=x_train, ytrain=y_train, xtest=x_test, ytest=y_test)\n",
    "# store the results in models_evaluations dictionaries\n",
    "models_evaluation_train['first_algo'] = train_results\n",
    "models_evaluation_test['first_algo'] = test_results\n",
    "\n",
    "xgboost.plot_importance(first_xgb)\n",
    "plt.show()"
   ]
  },
  {
   "cell_type": "markdown",
   "metadata": {
    "colab_type": "text",
    "id": "nT36rRbI0evh"
   },
   "source": [
    "<h3> 4.4.2 Suprise BaselineModel </h3>"
   ]
  },
  {
   "cell_type": "markdown",
   "metadata": {
    "colab_type": "text",
    "id": "CU-6pqX30vvH"
   },
   "source": [
    "__Predicted_rating : ( baseline prediction ) __\n",
    "\n",
    "    -  http://surprise.readthedocs.io/en/stable/basic_algorithms.html#surprise.prediction_algorithms.baseline_only.BaselineOnly \n",
    " >$   \\large {\\hat{r}_{ui} = b_{ui} =\\mu + b_u + b_i} $\n",
    "\n",
    "\n",
    "- $\\pmb \\mu $ : Average of all trainings in training data.\n",
    "- $\\pmb b_u$ : User bias\n",
    "- $\\pmb b_i$ : Item bias (movie biases) \n",
    "\n",
    "\n",
    "__Optimization function ( Least Squares Problem ) __\n",
    "\n",
    "    - http://surprise.readthedocs.io/en/stable/prediction_algorithms.html#baselines-estimates-configuration \n",
    "\n",
    "> $ \\large \\sum_{r_{ui} \\in R_{train}} \\left(r_{ui} - (\\mu + b_u + b_i)\\right)^2 +\n",
    "\\lambda \\left(b_u^2 + b_i^2 \\right).\\text {        [mimimize } {b_u, b_i]}$ "
   ]
  },
  {
   "cell_type": "code",
   "execution_count": 13,
   "metadata": {
    "colab": {},
    "colab_type": "code",
    "id": "YRsEDGC9CjJF"
   },
   "outputs": [],
   "source": [
    "from surprise import BaselineOnly\n",
    "from surprise.model_selection import GridSearchCV as surprise_GridCV"
   ]
  },
  {
   "cell_type": "code",
   "execution_count": 14,
   "metadata": {
    "colab": {},
    "colab_type": "code",
    "id": "_m6QrlIT1BAF"
   },
   "outputs": [],
   "source": [
    "def get_ratings(predictions):\n",
    "    actual = np.array([pred.r_ui for pred in predictions])\n",
    "    pred = np.array([pred.est for pred in predictions])\n",
    "    \n",
    "    return actual, pred\n",
    "\n",
    "def get_errors(predictions, print_them=False):\n",
    "\n",
    "    actual, pred = get_ratings(predictions)\n",
    "    rmse = np.sqrt(np.mean((pred - actual)**2))\n",
    "    mape = np.mean(np.abs(pred - actual)/actual)\n",
    "\n",
    "    return rmse, mape*100    \n",
    "\n",
    "def hyper_surprise(algo, params_, train_data, trainset, testset, verbose=True): \n",
    "    start = datetime.now()\n",
    "    train = dict()\n",
    "    test = dict()\n",
    "    \n",
    "    # https://surprise.readthedocs.io/en/stable/getting_started.html#tune-algorithm-parameters-with-gridsearchcv\n",
    "    \n",
    "    print('GridSearchcv and Refit best params the model...')\n",
    "    grid_clf = surprise_GridCV(algo, params_, measures=['rmse'], cv=3, return_train_measures=True, refit=True)\n",
    "    grid_clf.fit(train_data)\n",
    "        \n",
    "    # # ---------------- Evaluating train data--------------------#\n",
    "    st = datetime.now()\n",
    "    print('Evaluating the model with train data..')\n",
    "    # get the train predictions (list of prediction class inside Surprise)\n",
    "    train_preds = grid_clf.test(trainset.build_testset())\n",
    "    # get predicted ratings from the train predictions..\n",
    "    train_actual_ratings, train_pred_ratings = get_ratings(train_preds)\n",
    "    # get ''rmse'' and ''mape'' from the train predictions.\n",
    "    train_rmse, train_mape = get_errors(train_preds)\n",
    "    print('time taken : {}'.format(datetime.now()-st))\n",
    "    \n",
    "    if verbose:\n",
    "        print('-'*15)\n",
    "        print('Train Data')\n",
    "        print('-'*15)\n",
    "        print(\"RMSE : {}\\n\\nMAPE : {}\\n\".format(train_rmse, train_mape))\n",
    "    \n",
    "    # #store them in the train dictionary\n",
    "    if verbose:\n",
    "        print('adding train results in the dictionary..')\n",
    "    train['rmse'] = train_rmse\n",
    "    train['mape'] = train_mape\n",
    "    train['predictions'] = train_pred_ratings\n",
    "    \n",
    "    # #------------ Evaluating Test data---------------#\n",
    "    st = datetime.now()\n",
    "    print('\\nEvaluating for test data...')\n",
    "    # get the predictions( list of prediction classes) of test data\n",
    "    test_preds = grid_clf.test(testset)\n",
    "    # get the predicted ratings from the list of predictions\n",
    "    test_actual_ratings, test_pred_ratings = get_ratings(test_preds)\n",
    "    # get error metrics from the predicted and actual ratings\n",
    "    test_rmse, test_mape = get_errors(test_preds)\n",
    "    print('time taken : {}'.format(datetime.now()-st))\n",
    "    \n",
    "    if verbose:\n",
    "        print('-'*15)\n",
    "        print('Test Data')\n",
    "        print('-'*15)\n",
    "        print(\"RMSE : {}\\n\\nMAPE : {}\\n\".format(test_rmse, test_mape))\n",
    "    # # store them in test dictionary\n",
    "    if verbose:\n",
    "        print('storing the test results in test dictionary...')\n",
    "    test['rmse'] = test_rmse\n",
    "    test['mape'] = test_mape\n",
    "    test['predictions'] = test_pred_ratings\n",
    "    \n",
    "    print('\\n'+'-'*45)\n",
    "    print('Total time taken to run this algorithm :', datetime.now() - start)\n",
    "    \n",
    "    # # return two dictionaries train and test\n",
    "    return train, test"
   ]
  },
  {
   "cell_type": "code",
   "execution_count": 15,
   "metadata": {
    "colab": {
     "base_uri": "https://localhost:8080/",
     "height": 1000
    },
    "colab_type": "code",
    "executionInfo": {
     "elapsed": 1787153,
     "status": "ok",
     "timestamp": 1583122208095,
     "user": {
      "displayName": "Sahil -",
      "photoUrl": "",
      "userId": "14051148522636395588"
     },
     "user_tz": -330
    },
    "id": "s9zCbfiEenrX",
    "outputId": "6003d555-0aa7-4a1d-acbc-0e84adca7568"
   },
   "outputs": [
    {
     "name": "stdout",
     "output_type": "stream",
     "text": [
      "GridSearchcv and Refit best params the model...\n",
      "Estimating biases using sgd...\n",
      "Estimating biases using sgd...\n",
      "Estimating biases using sgd...\n",
      "Estimating biases using sgd...\n",
      "Estimating biases using sgd...\n",
      "Estimating biases using sgd...\n",
      "Estimating biases using sgd...\n",
      "Estimating biases using sgd...\n",
      "Estimating biases using sgd...\n",
      "Estimating biases using sgd...\n",
      "Estimating biases using sgd...\n",
      "Estimating biases using sgd...\n",
      "Estimating biases using sgd...\n",
      "Estimating biases using sgd...\n",
      "Estimating biases using sgd...\n",
      "Estimating biases using sgd...\n",
      "Estimating biases using sgd...\n",
      "Estimating biases using sgd...\n",
      "Estimating biases using sgd...\n",
      "Estimating biases using sgd...\n",
      "Estimating biases using sgd...\n",
      "Estimating biases using sgd...\n",
      "Estimating biases using sgd...\n",
      "Estimating biases using sgd...\n",
      "Estimating biases using sgd...\n",
      "Estimating biases using sgd...\n",
      "Estimating biases using sgd...\n",
      "Estimating biases using sgd...\n",
      "Estimating biases using sgd...\n",
      "Estimating biases using sgd...\n",
      "Estimating biases using sgd...\n",
      "Estimating biases using sgd...\n",
      "Estimating biases using sgd...\n",
      "Estimating biases using sgd...\n",
      "Estimating biases using sgd...\n",
      "Estimating biases using sgd...\n",
      "Estimating biases using sgd...\n",
      "Estimating biases using sgd...\n",
      "Estimating biases using sgd...\n",
      "Estimating biases using sgd...\n",
      "Estimating biases using sgd...\n",
      "Estimating biases using sgd...\n",
      "Estimating biases using sgd...\n",
      "Estimating biases using sgd...\n",
      "Estimating biases using sgd...\n",
      "Estimating biases using sgd...\n",
      "Estimating biases using sgd...\n",
      "Estimating biases using sgd...\n",
      "Estimating biases using sgd...\n",
      "Estimating biases using sgd...\n",
      "Estimating biases using sgd...\n",
      "Estimating biases using sgd...\n",
      "Estimating biases using sgd...\n",
      "Estimating biases using sgd...\n",
      "Estimating biases using sgd...\n",
      "Estimating biases using sgd...\n",
      "Estimating biases using sgd...\n",
      "Estimating biases using sgd...\n",
      "Estimating biases using sgd...\n",
      "Estimating biases using sgd...\n",
      "Estimating biases using sgd...\n",
      "Estimating biases using sgd...\n",
      "Estimating biases using sgd...\n",
      "Estimating biases using sgd...\n",
      "Estimating biases using sgd...\n",
      "Estimating biases using sgd...\n",
      "Estimating biases using sgd...\n",
      "Estimating biases using sgd...\n",
      "Estimating biases using sgd...\n",
      "Estimating biases using sgd...\n",
      "Estimating biases using sgd...\n",
      "Estimating biases using sgd...\n",
      "Estimating biases using sgd...\n",
      "Estimating biases using sgd...\n",
      "Estimating biases using sgd...\n",
      "Estimating biases using sgd...\n",
      "Estimating biases using sgd...\n",
      "Estimating biases using sgd...\n",
      "Estimating biases using sgd...\n",
      "Estimating biases using sgd...\n",
      "Estimating biases using sgd...\n",
      "Estimating biases using sgd...\n",
      "Estimating biases using sgd...\n",
      "Estimating biases using sgd...\n",
      "Estimating biases using sgd...\n",
      "Estimating biases using sgd...\n",
      "Estimating biases using sgd...\n",
      "Estimating biases using sgd...\n",
      "Estimating biases using sgd...\n",
      "Estimating biases using sgd...\n",
      "Estimating biases using sgd...\n",
      "Estimating biases using sgd...\n",
      "Estimating biases using sgd...\n",
      "Estimating biases using sgd...\n",
      "Estimating biases using sgd...\n",
      "Estimating biases using sgd...\n",
      "Estimating biases using sgd...\n",
      "Estimating biases using sgd...\n",
      "Estimating biases using sgd...\n",
      "Estimating biases using sgd...\n",
      "Estimating biases using sgd...\n",
      "Estimating biases using sgd...\n",
      "Estimating biases using sgd...\n",
      "Estimating biases using sgd...\n",
      "Estimating biases using sgd...\n",
      "Estimating biases using sgd...\n",
      "Estimating biases using sgd...\n",
      "Estimating biases using sgd...\n",
      "Estimating biases using sgd...\n",
      "Estimating biases using sgd...\n",
      "Estimating biases using sgd...\n",
      "Estimating biases using sgd...\n",
      "Estimating biases using sgd...\n",
      "Estimating biases using sgd...\n",
      "Estimating biases using sgd...\n",
      "Estimating biases using sgd...\n",
      "Estimating biases using sgd...\n",
      "Estimating biases using sgd...\n",
      "Estimating biases using sgd...\n",
      "Estimating biases using sgd...\n",
      "Estimating biases using sgd...\n",
      "Estimating biases using sgd...\n",
      "Estimating biases using sgd...\n",
      "Estimating biases using sgd...\n",
      "Estimating biases using sgd...\n",
      "Estimating biases using sgd...\n",
      "Estimating biases using sgd...\n",
      "Estimating biases using sgd...\n",
      "Estimating biases using sgd...\n",
      "Estimating biases using sgd...\n",
      "Estimating biases using sgd...\n",
      "Estimating biases using sgd...\n",
      "Estimating biases using sgd...\n",
      "Estimating biases using sgd...\n",
      "Estimating biases using sgd...\n",
      "Estimating biases using sgd...\n",
      "Estimating biases using sgd...\n",
      "Estimating biases using sgd...\n",
      "Estimating biases using sgd...\n",
      "Estimating biases using sgd...\n",
      "Estimating biases using sgd...\n",
      "Estimating biases using sgd...\n",
      "Estimating biases using sgd...\n",
      "Estimating biases using sgd...\n",
      "Estimating biases using sgd...\n",
      "Estimating biases using sgd...\n",
      "Estimating biases using sgd...\n",
      "Estimating biases using sgd...\n",
      "Estimating biases using sgd...\n",
      "Estimating biases using sgd...\n",
      "Estimating biases using sgd...\n",
      "Estimating biases using sgd...\n",
      "Estimating biases using sgd...\n",
      "Estimating biases using sgd...\n",
      "Estimating biases using sgd...\n",
      "Estimating biases using sgd...\n",
      "Estimating biases using sgd...\n",
      "Estimating biases using sgd...\n",
      "Estimating biases using sgd...\n",
      "Estimating biases using sgd...\n",
      "Estimating biases using sgd...\n",
      "Estimating biases using sgd...\n",
      "Estimating biases using sgd...\n",
      "Evaluating the model with train data..\n",
      "time taken : 0:00:05.192334\n",
      "---------------\n",
      "Train Data\n",
      "---------------\n",
      "RMSE : 1.0300215947332994\n",
      "\n",
      "MAPE : 33.85386286176001\n",
      "\n",
      "adding train results in the dictionary..\n",
      "\n",
      "Evaluating for test data...\n",
      "time taken : 0:00:01.849314\n",
      "---------------\n",
      "Test Data\n",
      "---------------\n",
      "RMSE : 1.0867846031800645\n",
      "\n",
      "MAPE : 34.391384069904014\n",
      "\n",
      "storing the test results in test dictionary...\n",
      "\n",
      "---------------------------------------------\n",
      "Total time taken to run this algorithm : 0:18:10.965508\n"
     ]
    }
   ],
   "source": [
    "# options are to specify.., how to compute those user and item biases\n",
    "# https://surprise.readthedocs.io/en/stable/prediction_algorithms.html#baseline-estimates-configuration\n",
    "\n",
    "# params = {'bsl_options': {'method': 'sgd', 'learning_rate': [.005, .001, .05, .01, .5, 1], 'n_epochs': [5,10,15], 'reg': [5,10,15]}}\n",
    "param_grid = {'bsl_options': {'method': ['sgd'],\n",
    "                              'learning_rate': [.005, .001, .05, .01, .5, 1],\n",
    "                              'n_epochs': [5,10,15],\n",
    "                              'reg': [5,10,15]}}\n",
    "\n",
    "bsl_train_results, bsl_test_results = hyper_surprise(BaselineOnly, param_grid, train_data, trainset, testset)\n",
    "\n",
    "# # Just store these error metrics in our models_evaluation datastructure\n",
    "models_evaluation_train['bsl_algo'] = bsl_train_results \n",
    "models_evaluation_test['bsl_algo'] = bsl_test_results"
   ]
  },
  {
   "cell_type": "markdown",
   "metadata": {
    "colab_type": "text",
    "id": "Q6FIqHbLdQBT"
   },
   "source": [
    "<h3> 4.4.3 XGBoost with initial 13 features + Surprise Baseline predictor </h3>\n",
    "\n",
    "__Updating Train Data__"
   ]
  },
  {
   "cell_type": "code",
   "execution_count": 34,
   "metadata": {
    "colab": {
     "base_uri": "https://localhost:8080/",
     "height": 106
    },
    "colab_type": "code",
    "executionInfo": {
     "elapsed": 1174,
     "status": "ok",
     "timestamp": 1583122564416,
     "user": {
      "displayName": "Sahil -",
      "photoUrl": "",
      "userId": "14051148522636395588"
     },
     "user_tz": -330
    },
    "id": "2WQ6mbSKHdog",
    "outputId": "e756e078-fe39-4a28-90c3-6a99c940fa1c"
   },
   "outputs": [
    {
     "data": {
      "text/html": [
       "<div>\n",
       "<style scoped>\n",
       "    .dataframe tbody tr th:only-of-type {\n",
       "        vertical-align: middle;\n",
       "    }\n",
       "\n",
       "    .dataframe tbody tr th {\n",
       "        vertical-align: top;\n",
       "    }\n",
       "\n",
       "    .dataframe thead th {\n",
       "        text-align: right;\n",
       "    }\n",
       "</style>\n",
       "<table border=\"1\" class=\"dataframe\">\n",
       "  <thead>\n",
       "    <tr style=\"text-align: right;\">\n",
       "      <th></th>\n",
       "      <th>user</th>\n",
       "      <th>movie</th>\n",
       "      <th>GAvg</th>\n",
       "      <th>sur1</th>\n",
       "      <th>sur2</th>\n",
       "      <th>sur3</th>\n",
       "      <th>sur4</th>\n",
       "      <th>sur5</th>\n",
       "      <th>smr1</th>\n",
       "      <th>smr2</th>\n",
       "      <th>smr3</th>\n",
       "      <th>smr4</th>\n",
       "      <th>smr5</th>\n",
       "      <th>UAvg</th>\n",
       "      <th>MAvg</th>\n",
       "      <th>rating</th>\n",
       "      <th>bslpr</th>\n",
       "    </tr>\n",
       "  </thead>\n",
       "  <tbody>\n",
       "    <tr>\n",
       "      <th>0</th>\n",
       "      <td>174683</td>\n",
       "      <td>10</td>\n",
       "      <td>3.587581</td>\n",
       "      <td>5.0</td>\n",
       "      <td>5.0</td>\n",
       "      <td>3.0</td>\n",
       "      <td>4.0</td>\n",
       "      <td>4.0</td>\n",
       "      <td>3.0</td>\n",
       "      <td>5.0</td>\n",
       "      <td>4.0</td>\n",
       "      <td>3.0</td>\n",
       "      <td>2.0</td>\n",
       "      <td>3.882353</td>\n",
       "      <td>3.611111</td>\n",
       "      <td>5</td>\n",
       "      <td>3.631399</td>\n",
       "    </tr>\n",
       "    <tr>\n",
       "      <th>1</th>\n",
       "      <td>233949</td>\n",
       "      <td>10</td>\n",
       "      <td>3.587581</td>\n",
       "      <td>4.0</td>\n",
       "      <td>4.0</td>\n",
       "      <td>5.0</td>\n",
       "      <td>1.0</td>\n",
       "      <td>3.0</td>\n",
       "      <td>2.0</td>\n",
       "      <td>3.0</td>\n",
       "      <td>2.0</td>\n",
       "      <td>3.0</td>\n",
       "      <td>3.0</td>\n",
       "      <td>2.692308</td>\n",
       "      <td>3.611111</td>\n",
       "      <td>3</td>\n",
       "      <td>3.635639</td>\n",
       "    </tr>\n",
       "  </tbody>\n",
       "</table>\n",
       "</div>"
      ],
      "text/plain": [
       "     user  movie      GAvg  sur1  sur2  sur3  sur4  sur5  smr1  smr2  smr3  \\\n",
       "0  174683     10  3.587581   5.0   5.0   3.0   4.0   4.0   3.0   5.0   4.0   \n",
       "1  233949     10  3.587581   4.0   4.0   5.0   1.0   3.0   2.0   3.0   2.0   \n",
       "\n",
       "   smr4  smr5      UAvg      MAvg  rating     bslpr  \n",
       "0   3.0   2.0  3.882353  3.611111       5  3.631399  \n",
       "1   3.0   3.0  2.692308  3.611111       3  3.635639  "
      ]
     },
     "execution_count": 34,
     "metadata": {},
     "output_type": "execute_result"
    }
   ],
   "source": [
    "# add our baseline_predicted value as our feature..\n",
    "reg_train['bslpr'] = models_evaluation_train['bsl_algo']['predictions']\n",
    "reg_train.head(2) "
   ]
  },
  {
   "cell_type": "markdown",
   "metadata": {
    "colab_type": "text",
    "id": "KnlwavZUdXb5"
   },
   "source": [
    "__Updating Test Data__"
   ]
  },
  {
   "cell_type": "code",
   "execution_count": 35,
   "metadata": {
    "colab": {
     "base_uri": "https://localhost:8080/",
     "height": 106
    },
    "colab_type": "code",
    "executionInfo": {
     "elapsed": 1346,
     "status": "ok",
     "timestamp": 1583122600229,
     "user": {
      "displayName": "Sahil -",
      "photoUrl": "",
      "userId": "14051148522636395588"
     },
     "user_tz": -330
    },
    "id": "O0y0lQfndUA8",
    "outputId": "df2b53b2-1491-4e60-b173-67b958d28747"
   },
   "outputs": [
    {
     "data": {
      "text/html": [
       "<div>\n",
       "<style scoped>\n",
       "    .dataframe tbody tr th:only-of-type {\n",
       "        vertical-align: middle;\n",
       "    }\n",
       "\n",
       "    .dataframe tbody tr th {\n",
       "        vertical-align: top;\n",
       "    }\n",
       "\n",
       "    .dataframe thead th {\n",
       "        text-align: right;\n",
       "    }\n",
       "</style>\n",
       "<table border=\"1\" class=\"dataframe\">\n",
       "  <thead>\n",
       "    <tr style=\"text-align: right;\">\n",
       "      <th></th>\n",
       "      <th>user</th>\n",
       "      <th>movie</th>\n",
       "      <th>GAvg</th>\n",
       "      <th>sur1</th>\n",
       "      <th>sur2</th>\n",
       "      <th>sur3</th>\n",
       "      <th>sur4</th>\n",
       "      <th>sur5</th>\n",
       "      <th>smr1</th>\n",
       "      <th>smr2</th>\n",
       "      <th>smr3</th>\n",
       "      <th>smr4</th>\n",
       "      <th>smr5</th>\n",
       "      <th>UAvg</th>\n",
       "      <th>MAvg</th>\n",
       "      <th>rating</th>\n",
       "      <th>bslpr</th>\n",
       "    </tr>\n",
       "  </thead>\n",
       "  <tbody>\n",
       "    <tr>\n",
       "      <th>0</th>\n",
       "      <td>1129620</td>\n",
       "      <td>2</td>\n",
       "      <td>3.587581</td>\n",
       "      <td>3.587581</td>\n",
       "      <td>3.587581</td>\n",
       "      <td>3.587581</td>\n",
       "      <td>3.587581</td>\n",
       "      <td>3.587581</td>\n",
       "      <td>3.587581</td>\n",
       "      <td>3.587581</td>\n",
       "      <td>3.587581</td>\n",
       "      <td>3.587581</td>\n",
       "      <td>3.587581</td>\n",
       "      <td>3.587581</td>\n",
       "      <td>3.587581</td>\n",
       "      <td>3</td>\n",
       "      <td>3.587581</td>\n",
       "    </tr>\n",
       "    <tr>\n",
       "      <th>1</th>\n",
       "      <td>3321</td>\n",
       "      <td>5</td>\n",
       "      <td>3.587581</td>\n",
       "      <td>3.587581</td>\n",
       "      <td>3.587581</td>\n",
       "      <td>3.587581</td>\n",
       "      <td>3.587581</td>\n",
       "      <td>3.587581</td>\n",
       "      <td>3.587581</td>\n",
       "      <td>3.587581</td>\n",
       "      <td>3.587581</td>\n",
       "      <td>3.587581</td>\n",
       "      <td>3.587581</td>\n",
       "      <td>3.587581</td>\n",
       "      <td>3.587581</td>\n",
       "      <td>4</td>\n",
       "      <td>3.587581</td>\n",
       "    </tr>\n",
       "  </tbody>\n",
       "</table>\n",
       "</div>"
      ],
      "text/plain": [
       "      user  movie      GAvg      sur1      sur2      sur3      sur4      sur5  \\\n",
       "0  1129620      2  3.587581  3.587581  3.587581  3.587581  3.587581  3.587581   \n",
       "1     3321      5  3.587581  3.587581  3.587581  3.587581  3.587581  3.587581   \n",
       "\n",
       "       smr1      smr2      smr3      smr4      smr5      UAvg      MAvg  \\\n",
       "0  3.587581  3.587581  3.587581  3.587581  3.587581  3.587581  3.587581   \n",
       "1  3.587581  3.587581  3.587581  3.587581  3.587581  3.587581  3.587581   \n",
       "\n",
       "   rating     bslpr  \n",
       "0       3  3.587581  \n",
       "1       4  3.587581  "
      ]
     },
     "execution_count": 35,
     "metadata": {},
     "output_type": "execute_result"
    }
   ],
   "source": [
    "# add that baseline predicted ratings with Surprise to the test data as well\n",
    "reg_test_df['bslpr']  = models_evaluation_test['bsl_algo']['predictions']\n",
    "reg_test_df.head(2)"
   ]
  },
  {
   "cell_type": "code",
   "execution_count": 20,
   "metadata": {
    "colab": {
     "base_uri": "https://localhost:8080/",
     "height": 1000
    },
    "colab_type": "code",
    "executionInfo": {
     "elapsed": 863556,
     "status": "ok",
     "timestamp": 1583123613949,
     "user": {
      "displayName": "Sahil -",
      "photoUrl": "",
      "userId": "14051148522636395588"
     },
     "user_tz": -330
    },
    "id": "25AmSABbdcuL",
    "outputId": "0b4b22a4-4adf-4a6d-c95c-bfb9d3c78e14"
   },
   "outputs": [
    {
     "name": "stdout",
     "output_type": "stream",
     "text": [
      "Instance create XGBClassifier\n",
      "Fitting GridSearchCV\n",
      "Fitting 3 folds for each of 20 candidates, totalling 60 fits\n",
      "[CV] max_depth=3, n_estimators=2 .....................................\n"
     ]
    },
    {
     "name": "stderr",
     "output_type": "stream",
     "text": [
      "[Parallel(n_jobs=1)]: Using backend SequentialBackend with 1 concurrent workers.\n"
     ]
    },
    {
     "name": "stdout",
     "output_type": "stream",
     "text": [
      "[CV]  max_depth=3, n_estimators=2, MAPE=(train=-65.864, test=-65.840), RMSE=(train=-2.708, test=-2.709), total=   1.9s\n",
      "[CV] max_depth=3, n_estimators=2 .....................................\n"
     ]
    },
    {
     "name": "stderr",
     "output_type": "stream",
     "text": [
      "[Parallel(n_jobs=1)]: Done   1 out of   1 | elapsed:    2.1s remaining:    0.0s\n"
     ]
    },
    {
     "name": "stdout",
     "output_type": "stream",
     "text": [
      "[CV]  max_depth=3, n_estimators=2, MAPE=(train=-65.883, test=-65.694), RMSE=(train=-2.708, test=-2.705), total=   1.7s\n",
      "[CV] max_depth=3, n_estimators=2 .....................................\n"
     ]
    },
    {
     "name": "stderr",
     "output_type": "stream",
     "text": [
      "[Parallel(n_jobs=1)]: Done   2 out of   2 | elapsed:    4.0s remaining:    0.0s\n"
     ]
    },
    {
     "name": "stdout",
     "output_type": "stream",
     "text": [
      "[CV]  max_depth=3, n_estimators=2, MAPE=(train=-65.748, test=-65.956), RMSE=(train=-2.706, test=-2.705), total=   1.7s\n",
      "[CV] max_depth=3, n_estimators=3 .....................................\n",
      "[CV]  max_depth=3, n_estimators=3, MAPE=(train=-59.690, test=-59.652), RMSE=(train=-2.471, test=-2.472), total=   2.0s\n",
      "[CV] max_depth=3, n_estimators=3 .....................................\n",
      "[CV]  max_depth=3, n_estimators=3, MAPE=(train=-59.660, test=-59.452), RMSE=(train=-2.471, test=-2.468), total=   2.0s\n",
      "[CV] max_depth=3, n_estimators=3 .....................................\n",
      "[CV]  max_depth=3, n_estimators=3, MAPE=(train=-59.572, test=-59.676), RMSE=(train=-2.470, test=-2.468), total=   2.0s\n",
      "[CV] max_depth=3, n_estimators=5 .....................................\n",
      "[CV]  max_depth=3, n_estimators=5, MAPE=(train=-49.613, test=-49.588), RMSE=(train=-2.073, test=-2.075), total=   2.7s\n",
      "[CV] max_depth=3, n_estimators=5 .....................................\n",
      "[CV]  max_depth=3, n_estimators=5, MAPE=(train=-49.582, test=-49.464), RMSE=(train=-2.075, test=-2.070), total=   2.7s\n",
      "[CV] max_depth=3, n_estimators=5 .....................................\n",
      "[CV]  max_depth=3, n_estimators=5, MAPE=(train=-49.620, test=-49.532), RMSE=(train=-2.074, test=-2.071), total=   2.8s\n",
      "[CV] max_depth=3, n_estimators=10 ....................................\n",
      "[CV]  max_depth=3, n_estimators=10, MAPE=(train=-34.792, test=-35.073), RMSE=(train=-1.428, test=-1.435), total=   4.6s\n",
      "[CV] max_depth=3, n_estimators=10 ....................................\n",
      "[CV]  max_depth=3, n_estimators=10, MAPE=(train=-34.895, test=-34.833), RMSE=(train=-1.432, test=-1.425), total=   4.6s\n",
      "[CV] max_depth=3, n_estimators=10 ....................................\n",
      "[CV]  max_depth=3, n_estimators=10, MAPE=(train=-34.993, test=-34.697), RMSE=(train=-1.431, test=-1.427), total=   4.6s\n",
      "[CV] max_depth=3, n_estimators=20 ....................................\n",
      "[CV]  max_depth=3, n_estimators=20, MAPE=(train=-26.894, test=-27.512), RMSE=(train=-0.966, test=-0.982), total=   8.4s\n",
      "[CV] max_depth=3, n_estimators=20 ....................................\n",
      "[CV]  max_depth=3, n_estimators=20, MAPE=(train=-27.151, test=-27.165), RMSE=(train=-0.975, test=-0.965), total=   8.5s\n",
      "[CV] max_depth=3, n_estimators=20 ....................................\n",
      "[CV]  max_depth=3, n_estimators=20, MAPE=(train=-27.231, test=-26.727), RMSE=(train=-0.973, test=-0.968), total=   8.5s\n",
      "[CV] max_depth=5, n_estimators=2 .....................................\n",
      "[CV]  max_depth=5, n_estimators=2, MAPE=(train=-66.043, test=-65.852), RMSE=(train=-2.704, test=-2.700), total=   2.1s\n",
      "[CV] max_depth=5, n_estimators=2 .....................................\n",
      "[CV]  max_depth=5, n_estimators=2, MAPE=(train=-66.009, test=-65.826), RMSE=(train=-2.704, test=-2.700), total=   2.0s\n",
      "[CV] max_depth=5, n_estimators=2 .....................................\n",
      "[CV]  max_depth=5, n_estimators=2, MAPE=(train=-65.911, test=-66.146), RMSE=(train=-2.702, test=-2.705), total=   2.1s\n",
      "[CV] max_depth=5, n_estimators=3 .....................................\n",
      "[CV]  max_depth=5, n_estimators=3, MAPE=(train=-59.630, test=-59.504), RMSE=(train=-2.465, test=-2.463), total=   2.7s\n",
      "[CV] max_depth=5, n_estimators=3 .....................................\n",
      "[CV]  max_depth=5, n_estimators=3, MAPE=(train=-59.624, test=-59.384), RMSE=(train=-2.466, test=-2.460), total=   2.6s\n",
      "[CV] max_depth=5, n_estimators=3 .....................................\n",
      "[CV]  max_depth=5, n_estimators=3, MAPE=(train=-59.522, test=-59.694), RMSE=(train=-2.464, test=-2.464), total=   2.7s\n",
      "[CV] max_depth=5, n_estimators=5 .....................................\n",
      "[CV]  max_depth=5, n_estimators=5, MAPE=(train=-49.385, test=-49.319), RMSE=(train=-2.064, test=-2.064), total=   3.9s\n",
      "[CV] max_depth=5, n_estimators=5 .....................................\n",
      "[CV]  max_depth=5, n_estimators=5, MAPE=(train=-49.416, test=-49.258), RMSE=(train=-2.066, test=-2.059), total=   3.9s\n",
      "[CV] max_depth=5, n_estimators=5 .....................................\n",
      "[CV]  max_depth=5, n_estimators=5, MAPE=(train=-49.380, test=-49.370), RMSE=(train=-2.064, test=-2.064), total=   3.9s\n",
      "[CV] max_depth=5, n_estimators=10 ....................................\n",
      "[CV]  max_depth=5, n_estimators=10, MAPE=(train=-34.226, test=-34.500), RMSE=(train=-1.412, test=-1.418), total=   7.0s\n",
      "[CV] max_depth=5, n_estimators=10 ....................................\n",
      "[CV]  max_depth=5, n_estimators=10, MAPE=(train=-34.367, test=-34.230), RMSE=(train=-1.417, test=-1.408), total=   7.1s\n",
      "[CV] max_depth=5, n_estimators=10 ....................................\n",
      "[CV]  max_depth=5, n_estimators=10, MAPE=(train=-34.392, test=-34.202), RMSE=(train=-1.415, test=-1.413), total=   7.3s\n",
      "[CV] max_depth=5, n_estimators=20 ....................................\n",
      "[CV]  max_depth=5, n_estimators=20, MAPE=(train=-26.092, test=-26.771), RMSE=(train=-0.949, test=-0.966), total=  13.8s\n",
      "[CV] max_depth=5, n_estimators=20 ....................................\n",
      "[CV]  max_depth=5, n_estimators=20, MAPE=(train=-26.394, test=-26.307), RMSE=(train=-0.959, test=-0.946), total=  13.8s\n",
      "[CV] max_depth=5, n_estimators=20 ....................................\n",
      "[CV]  max_depth=5, n_estimators=20, MAPE=(train=-26.416, test=-26.059), RMSE=(train=-0.955, test=-0.953), total=  13.7s\n",
      "[CV] max_depth=10, n_estimators=2 ....................................\n",
      "[CV]  max_depth=10, n_estimators=2, MAPE=(train=-66.180, test=-66.005), RMSE=(train=-2.700, test=-2.698), total=   3.9s\n",
      "[CV] max_depth=10, n_estimators=2 ....................................\n",
      "[CV]  max_depth=10, n_estimators=2, MAPE=(train=-66.168, test=-65.952), RMSE=(train=-2.700, test=-2.698), total=   3.8s\n",
      "[CV] max_depth=10, n_estimators=2 ....................................\n",
      "[CV]  max_depth=10, n_estimators=2, MAPE=(train=-66.069, test=-66.274), RMSE=(train=-2.698, test=-2.703), total=   3.9s\n",
      "[CV] max_depth=10, n_estimators=3 ....................................\n",
      "[CV]  max_depth=10, n_estimators=3, MAPE=(train=-59.629, test=-59.554), RMSE=(train=-2.460, test=-2.459), total=   5.4s\n",
      "[CV] max_depth=10, n_estimators=3 ....................................\n",
      "[CV]  max_depth=10, n_estimators=3, MAPE=(train=-59.645, test=-59.445), RMSE=(train=-2.460, test=-2.457), total=   5.3s\n",
      "[CV] max_depth=10, n_estimators=3 ....................................\n",
      "[CV]  max_depth=10, n_estimators=3, MAPE=(train=-59.534, test=-59.762), RMSE=(train=-2.458, test=-2.462), total=   5.4s\n",
      "[CV] max_depth=10, n_estimators=5 ....................................\n",
      "[CV]  max_depth=10, n_estimators=5, MAPE=(train=-49.141, test=-49.201), RMSE=(train=-2.055, test=-2.059), total=   8.3s\n",
      "[CV] max_depth=10, n_estimators=5 ....................................\n",
      "[CV]  max_depth=10, n_estimators=5, MAPE=(train=-49.168, test=-49.079), RMSE=(train=-2.057, test=-2.053), total=   8.4s\n",
      "[CV] max_depth=10, n_estimators=5 ....................................\n",
      "[CV]  max_depth=10, n_estimators=5, MAPE=(train=-49.116, test=-49.278), RMSE=(train=-2.055, test=-2.059), total=   8.4s\n",
      "[CV] max_depth=10, n_estimators=10 ...................................\n",
      "[CV]  max_depth=10, n_estimators=10, MAPE=(train=-33.504, test=-34.058), RMSE=(train=-1.394, test=-1.409), total=  16.1s\n",
      "[CV] max_depth=10, n_estimators=10 ...................................\n",
      "[CV]  max_depth=10, n_estimators=10, MAPE=(train=-33.630, test=-33.713), RMSE=(train=-1.400, test=-1.395), total=  16.1s\n",
      "[CV] max_depth=10, n_estimators=10 ...................................\n",
      "[CV]  max_depth=10, n_estimators=10, MAPE=(train=-33.626, test=-33.798), RMSE=(train=-1.397, test=-1.404), total=  16.2s\n",
      "[CV] max_depth=10, n_estimators=20 ...................................\n",
      "[CV]  max_depth=10, n_estimators=20, MAPE=(train=-24.913, test=-26.207), RMSE=(train=-0.922, test=-0.957), total=  32.4s\n",
      "[CV] max_depth=10, n_estimators=20 ...................................\n",
      "[CV]  max_depth=10, n_estimators=20, MAPE=(train=-25.204, test=-25.661), RMSE=(train=-0.932, test=-0.935), total=  32.3s\n",
      "[CV] max_depth=10, n_estimators=20 ...................................\n",
      "[CV]  max_depth=10, n_estimators=20, MAPE=(train=-25.190, test=-25.550), RMSE=(train=-0.927, test=-0.945), total=  32.5s\n",
      "[CV] max_depth=20, n_estimators=2 ....................................\n",
      "[CV]  max_depth=20, n_estimators=2, MAPE=(train=-66.681, test=-66.314), RMSE=(train=-2.697, test=-2.702), total=   7.5s\n",
      "[CV] max_depth=20, n_estimators=2 ....................................\n",
      "[CV]  max_depth=20, n_estimators=2, MAPE=(train=-66.667, test=-66.268), RMSE=(train=-2.697, test=-2.701), total=   7.6s\n",
      "[CV] max_depth=20, n_estimators=2 ....................................\n",
      "[CV]  max_depth=20, n_estimators=2, MAPE=(train=-66.595, test=-66.563), RMSE=(train=-2.695, test=-2.706), total=   7.7s\n",
      "[CV] max_depth=20, n_estimators=3 ....................................\n",
      "[CV]  max_depth=20, n_estimators=3, MAPE=(train=-59.948, test=-59.908), RMSE=(train=-2.454, test=-2.465), total=  11.2s\n",
      "[CV] max_depth=20, n_estimators=3 ....................................\n",
      "[CV]  max_depth=20, n_estimators=3, MAPE=(train=-59.924, test=-59.804), RMSE=(train=-2.454, test=-2.462), total=  11.2s\n",
      "[CV] max_depth=20, n_estimators=3 ....................................\n",
      "[CV]  max_depth=20, n_estimators=3, MAPE=(train=-59.863, test=-60.097), RMSE=(train=-2.452, test=-2.468), total=  11.3s\n",
      "[CV] max_depth=20, n_estimators=5 ....................................\n",
      "[CV]  max_depth=20, n_estimators=5, MAPE=(train=-48.664, test=-49.525), RMSE=(train=-2.041, test=-2.070), total=  18.3s\n",
      "[CV] max_depth=20, n_estimators=5 ....................................\n",
      "[CV]  max_depth=20, n_estimators=5, MAPE=(train=-48.655, test=-49.377), RMSE=(train=-2.043, test=-2.063), total=  19.4s\n",
      "[CV] max_depth=20, n_estimators=5 ....................................\n",
      "[CV]  max_depth=20, n_estimators=5, MAPE=(train=-48.622, test=-49.597), RMSE=(train=-2.040, test=-2.070), total=  18.5s\n",
      "[CV] max_depth=20, n_estimators=10 ...................................\n",
      "[CV]  max_depth=20, n_estimators=10, MAPE=(train=-30.268, test=-34.444), RMSE=(train=-1.334, test=-1.438), total=  38.8s\n",
      "[CV] max_depth=20, n_estimators=10 ...................................\n",
      "[CV]  max_depth=20, n_estimators=10, MAPE=(train=-30.343, test=-34.017), RMSE=(train=-1.338, test=-1.419), total=  38.7s\n",
      "[CV] max_depth=20, n_estimators=10 ...................................\n",
      "[CV]  max_depth=20, n_estimators=10, MAPE=(train=-30.273, test=-34.180), RMSE=(train=-1.334, test=-1.430), total=  39.1s\n",
      "[CV] max_depth=20, n_estimators=20 ...................................\n",
      "[CV]  max_depth=20, n_estimators=20, MAPE=(train=-15.653, test=-26.409), RMSE=(train=-0.691, test=-0.993), total= 1.3min\n",
      "[CV] max_depth=20, n_estimators=20 ...................................\n",
      "[CV]  max_depth=20, n_estimators=20, MAPE=(train=-15.829, test=-25.868), RMSE=(train=-0.697, test=-0.968), total= 1.3min\n",
      "[CV] max_depth=20, n_estimators=20 ...................................\n",
      "[CV]  max_depth=20, n_estimators=20, MAPE=(train=-15.702, test=-25.823), RMSE=(train=-0.692, test=-0.981), total= 1.3min\n"
     ]
    },
    {
     "name": "stderr",
     "output_type": "stream",
     "text": [
      "[Parallel(n_jobs=1)]: Done  60 out of  60 | elapsed: 14.3min finished\n"
     ]
    },
    {
     "data": {
      "image/png": "[encoded data removed]",
      "text/plain": [
       "<Figure size 432x288 with 4 Axes>"
      ]
     },
     "metadata": {
      "tags": []
     },
     "output_type": "display_data"
    },
    {
     "data": {
      "image/png": "[encoded data removed]",
      "text/plain": [
       "<Figure size 432x288 with 4 Axes>"
      ]
     },
     "metadata": {
      "tags": []
     },
     "output_type": "display_data"
    }
   ],
   "source": [
    "# prepare Train data and Test data\n",
    "x_train = reg_train.drop(['user','movie','rating'], axis=1)\n",
    "y_train = reg_train['rating']\n",
    "x_test = reg_test_df.drop(['user','movie','rating'], axis=1)\n",
    "y_test = reg_test_df['rating']\n",
    "\n",
    "# https://scikit-learn.org/stable/auto_examples/model_selection/plot_multi_metric_evaluation.html\n",
    "parameter = {'n_estimators':[2, 3, 5, 10, 20], 'max_depth':[3, 5, 10, 20]}\n",
    "mape_loss = make_scorer(mape_fn, greater_is_better=False)\n",
    "scoring = {'RMSE': 'neg_root_mean_squared_error', 'MAPE': mape_loss}\n",
    "hype_xgboost(x_train,y_train,parameter,scoring,['RMSE','MAPE'])"
   ]
  },
  {
   "cell_type": "code",
   "execution_count": 16,
   "metadata": {
    "colab": {
     "base_uri": "https://localhost:8080/",
     "height": 413
    },
    "colab_type": "code",
    "executionInfo": {
     "elapsed": 56981,
     "status": "ok",
     "timestamp": 1583124668523,
     "user": {
      "displayName": "Sahil -",
      "photoUrl": "",
      "userId": "14051148522636395588"
     },
     "user_tz": -330
    },
    "id": "u-NhGl8yeBth",
    "outputId": "a2c49a55-e2eb-4340-8786-867a0810623d"
   },
   "outputs": [
    {
     "name": "stdout",
     "output_type": "stream",
     "text": [
      "[13:59:08] WARNING: C:/Jenkins/workspace/xgboost-win64_release_0.90/src/objective/regression_obj.cu:152: reg:linear is now deprecated in favor of reg:squarederror.\n",
      "Evaluating Test data\n",
      "\n",
      "TEST DATA\n",
      "------------------------------\n",
      "RMSE :  1.2545561013662423\n",
      "MAPE :  31.85414734994786\n"
     ]
    },
    {
     "data": {
      "image/png": "[encoded data removed]",
      "text/plain": [
       "<Figure size 432x288 with 1 Axes>"
      ]
     },
     "metadata": {
      "needs_background": "light"
     },
     "output_type": "display_data"
    }
   ],
   "source": [
    "# With best rmse: n_estimator=20, max_depth=10\n",
    "# With best mape, n_estimator=20, max_depth=20\n",
    "\n",
    "first_xgb, train_results, test_results = train_xgboost(n_est=20, max_dep=10, xtrain=x_train, ytrain=y_train, xtest=x_test, ytest=y_test)\n",
    "# store the results in models_evaluations dictionaries\n",
    "models_evaluation_train['xgb_bsl'] = train_results\n",
    "models_evaluation_test['xgb_bsl'] = test_results\n",
    "\n",
    "xgboost.plot_importance(first_xgb)\n",
    "plt.show()"
   ]
  },
  {
   "cell_type": "markdown",
   "metadata": {
    "colab_type": "text",
    "id": "7RyITNZMqQvO"
   },
   "source": [
    "<h3> 4.4.4 Surprise KNNBaseline predictor </h3>\n",
    "\n",
    "- KNN BASELINE\n",
    "    - http://surprise.readthedocs.io/en/stable/knn_inspired.html#surprise.prediction_algorithms.knns.KNNBaseline \n",
    "\n",
    "- PEARSON_BASELINE SIMILARITY\n",
    "    - http://surprise.readthedocs.io/en/stable/similarities.html#surprise.similarities.pearson_baseline \n",
    "\n",
    "- SHRINKAGE\n",
    "    - _2.2 Neighborhood Models_ in http://courses.ischool.berkeley.edu/i290-dm/s11/SECURE/a1-koren.pdf \n",
    "\n",
    "- __predicted Rating__ : ( ___ based on User-User similarity ___ )\n",
    "\n",
    "\\begin{align} \\hat{r}_{ui} = b_{ui} + \\frac{ \\sum\\limits_{v \\in N^k_i(u)}\n",
    "\\text{sim}(u, v) \\cdot (r_{vi} - b_{vi})} {\\sum\\limits_{v \\in\n",
    "N^k_i(u)} \\text{sim}(u, v)} \\end{align}\n",
    "\n",
    " - $\\pmb{b_{ui}}$ -  _Baseline prediction_ of (user,movie) rating\n",
    "\n",
    " - $ \\pmb {N_i^k (u)}$ - Set of __K similar__ users (neighbours) of __user (u)__ who rated __movie(i)__  \n",
    "\n",
    " - _sim (u, v)_ - __Similarity__ between users __u and v__  \n",
    "- Generally, it will be cosine similarity or Pearson correlation coefficient. <br>\n",
    "- But we use __shrunk Pearson-baseline correlation coefficient__, which is based on the pearsonBaseline similarity ( we take base line predictions instead of mean rating of user/item)\n",
    "\n",
    "- __ Predicted rating __ ( based on Item Item similarity ):\n",
    " \\begin{align} \\hat{r}_{ui} = b_{ui} + \\frac{ \\sum\\limits_{j \\in N^k_u(i)}\\text{sim}(i, j) \\cdot (r_{uj} - b_{uj})} {\\sum\\limits_{j \\in N^k_u(j)} \\text{sim}(i, j)} \\end{align}\n",
    "\n",
    "    -  ___Notations follows same as above (user user based predicted rating ) ___\n",
    "       \n",
    "\n",
    "\n",
    "\n"
   ]
  },
  {
   "cell_type": "markdown",
   "metadata": {
    "colab_type": "text",
    "id": "iR8ia2MprOnI"
   },
   "source": [
    "  <h4> 4.4.4.1 Surprise KNNBaseline with user user similarities</h4>"
   ]
  },
  {
   "cell_type": "code",
   "execution_count": 17,
   "metadata": {
    "colab": {},
    "colab_type": "code",
    "id": "2EDbo1PrlIE7"
   },
   "outputs": [],
   "source": [
    "from surprise import KNNBaseline"
   ]
  },
  {
   "cell_type": "code",
   "execution_count": 18,
   "metadata": {
    "colab": {
     "base_uri": "https://localhost:8080/",
     "height": 991
    },
    "colab_type": "code",
    "id": "HJo1f9bfraGq",
    "outputId": "441d3cbf-3b70-44ba-c727-84622337fa92"
   },
   "outputs": [
    {
     "name": "stdout",
     "output_type": "stream",
     "text": [
      "GridSearchcv and Refit best params the model...\n",
      "Estimating biases using sgd...\n",
      "Computing the pearson_baseline similarity matrix...\n",
      "Done computing similarity matrix.\n",
      "Estimating biases using sgd...\n",
      "Computing the pearson_baseline similarity matrix...\n",
      "Done computing similarity matrix.\n",
      "Estimating biases using sgd...\n",
      "Computing the pearson_baseline similarity matrix...\n",
      "Done computing similarity matrix.\n",
      "Estimating biases using sgd...\n",
      "Computing the pearson_baseline similarity matrix...\n",
      "Done computing similarity matrix.\n",
      "Estimating biases using sgd...\n",
      "Computing the pearson_baseline similarity matrix...\n",
      "Done computing similarity matrix.\n",
      "Estimating biases using sgd...\n",
      "Computing the pearson_baseline similarity matrix...\n",
      "Done computing similarity matrix.\n",
      "Estimating biases using sgd...\n",
      "Computing the pearson_baseline similarity matrix...\n",
      "Done computing similarity matrix.\n",
      "Estimating biases using sgd...\n",
      "Computing the pearson_baseline similarity matrix...\n",
      "Done computing similarity matrix.\n",
      "Estimating biases using sgd...\n",
      "Computing the pearson_baseline similarity matrix...\n",
      "Done computing similarity matrix.\n",
      "Estimating biases using sgd...\n",
      "Computing the pearson_baseline similarity matrix...\n",
      "Done computing similarity matrix.\n",
      "Estimating biases using sgd...\n",
      "Computing the pearson_baseline similarity matrix...\n",
      "Done computing similarity matrix.\n",
      "Estimating biases using sgd...\n",
      "Computing the pearson_baseline similarity matrix...\n",
      "Done computing similarity matrix.\n",
      "Estimating biases using sgd...\n",
      "Computing the pearson_baseline similarity matrix...\n",
      "Done computing similarity matrix.\n",
      "Estimating biases using sgd...\n",
      "Computing the pearson_baseline similarity matrix...\n",
      "Done computing similarity matrix.\n",
      "Estimating biases using sgd...\n",
      "Computing the pearson_baseline similarity matrix...\n",
      "Done computing similarity matrix.\n",
      "Estimating biases using sgd...\n",
      "Computing the pearson_baseline similarity matrix...\n",
      "Done computing similarity matrix.\n",
      "Estimating biases using sgd...\n",
      "Computing the pearson_baseline similarity matrix...\n",
      "Done computing similarity matrix.\n",
      "Estimating biases using sgd...\n",
      "Computing the pearson_baseline similarity matrix...\n",
      "Done computing similarity matrix.\n",
      "Estimating biases using sgd...\n",
      "Computing the pearson_baseline similarity matrix...\n",
      "Done computing similarity matrix.\n",
      "Estimating biases using sgd...\n",
      "Computing the pearson_baseline similarity matrix...\n",
      "Done computing similarity matrix.\n",
      "Estimating biases using sgd...\n",
      "Computing the pearson_baseline similarity matrix...\n",
      "Done computing similarity matrix.\n",
      "Estimating biases using sgd...\n",
      "Computing the pearson_baseline similarity matrix...\n",
      "Done computing similarity matrix.\n",
      "Estimating biases using sgd...\n",
      "Computing the pearson_baseline similarity matrix...\n",
      "Done computing similarity matrix.\n",
      "Estimating biases using sgd...\n",
      "Computing the pearson_baseline similarity matrix...\n",
      "Done computing similarity matrix.\n",
      "Estimating biases using sgd...\n",
      "Computing the pearson_baseline similarity matrix...\n",
      "Done computing similarity matrix.\n",
      "Estimating biases using sgd...\n",
      "Computing the pearson_baseline similarity matrix...\n",
      "Done computing similarity matrix.\n",
      "Estimating biases using sgd...\n",
      "Computing the pearson_baseline similarity matrix...\n",
      "Done computing similarity matrix.\n",
      "Estimating biases using sgd...\n",
      "Computing the pearson_baseline similarity matrix...\n",
      "Done computing similarity matrix.\n",
      "Estimating biases using sgd...\n",
      "Computing the pearson_baseline similarity matrix...\n",
      "Done computing similarity matrix.\n",
      "Estimating biases using sgd...\n",
      "Computing the pearson_baseline similarity matrix...\n",
      "Done computing similarity matrix.\n",
      "Estimating biases using sgd...\n",
      "Computing the pearson_baseline similarity matrix...\n",
      "Done computing similarity matrix.\n",
      "Estimating biases using sgd...\n",
      "Computing the pearson_baseline similarity matrix...\n",
      "Done computing similarity matrix.\n",
      "Estimating biases using sgd...\n",
      "Computing the pearson_baseline similarity matrix...\n",
      "Done computing similarity matrix.\n",
      "Estimating biases using sgd...\n",
      "Computing the pearson_baseline similarity matrix...\n",
      "Done computing similarity matrix.\n",
      "Estimating biases using sgd...\n",
      "Computing the pearson_baseline similarity matrix...\n",
      "Done computing similarity matrix.\n",
      "Estimating biases using sgd...\n",
      "Computing the pearson_baseline similarity matrix...\n",
      "Done computing similarity matrix.\n",
      "Estimating biases using sgd...\n",
      "Computing the pearson_baseline similarity matrix...\n",
      "Done computing similarity matrix.\n",
      "Estimating biases using sgd...\n",
      "Computing the pearson_baseline similarity matrix...\n",
      "Done computing similarity matrix.\n",
      "Estimating biases using sgd...\n",
      "Computing the pearson_baseline similarity matrix...\n",
      "Done computing similarity matrix.\n",
      "Estimating biases using sgd...\n",
      "Computing the pearson_baseline similarity matrix...\n",
      "Done computing similarity matrix.\n",
      "Estimating biases using sgd...\n",
      "Computing the pearson_baseline similarity matrix...\n",
      "Done computing similarity matrix.\n",
      "Estimating biases using sgd...\n",
      "Computing the pearson_baseline similarity matrix...\n",
      "Done computing similarity matrix.\n",
      "Estimating biases using sgd...\n",
      "Computing the pearson_baseline similarity matrix...\n",
      "Done computing similarity matrix.\n",
      "Estimating biases using sgd...\n",
      "Computing the pearson_baseline similarity matrix...\n",
      "Done computing similarity matrix.\n",
      "Estimating biases using sgd...\n",
      "Computing the pearson_baseline similarity matrix...\n",
      "Done computing similarity matrix.\n",
      "Estimating biases using sgd...\n",
      "Computing the pearson_baseline similarity matrix...\n",
      "Done computing similarity matrix.\n",
      "Estimating biases using sgd...\n",
      "Computing the pearson_baseline similarity matrix...\n",
      "Done computing similarity matrix.\n",
      "Estimating biases using sgd...\n",
      "Computing the pearson_baseline similarity matrix...\n",
      "Done computing similarity matrix.\n",
      "Estimating biases using sgd...\n",
      "Computing the pearson_baseline similarity matrix...\n",
      "Done computing similarity matrix.\n",
      "Estimating biases using sgd...\n",
      "Computing the pearson_baseline similarity matrix...\n",
      "Done computing similarity matrix.\n",
      "Estimating biases using sgd...\n",
      "Computing the pearson_baseline similarity matrix...\n",
      "Done computing similarity matrix.\n",
      "Estimating biases using sgd...\n",
      "Computing the pearson_baseline similarity matrix...\n",
      "Done computing similarity matrix.\n",
      "Estimating biases using sgd...\n",
      "Computing the pearson_baseline similarity matrix...\n",
      "Done computing similarity matrix.\n",
      "Estimating biases using sgd...\n",
      "Computing the pearson_baseline similarity matrix...\n",
      "Done computing similarity matrix.\n",
      "Estimating biases using sgd...\n",
      "Computing the pearson_baseline similarity matrix...\n",
      "Done computing similarity matrix.\n",
      "Estimating biases using sgd...\n",
      "Computing the pearson_baseline similarity matrix...\n",
      "Done computing similarity matrix.\n",
      "Estimating biases using sgd...\n",
      "Computing the pearson_baseline similarity matrix...\n",
      "Done computing similarity matrix.\n",
      "Estimating biases using sgd...\n",
      "Computing the pearson_baseline similarity matrix...\n",
      "Done computing similarity matrix.\n",
      "Estimating biases using sgd...\n",
      "Computing the pearson_baseline similarity matrix...\n",
      "Done computing similarity matrix.\n",
      "Estimating biases using sgd...\n",
      "Computing the pearson_baseline similarity matrix...\n",
      "Done computing similarity matrix.\n",
      "Estimating biases using sgd...\n",
      "Computing the pearson_baseline similarity matrix...\n",
      "Done computing similarity matrix.\n",
      "Estimating biases using sgd...\n",
      "Computing the pearson_baseline similarity matrix...\n",
      "Done computing similarity matrix.\n",
      "Estimating biases using sgd...\n",
      "Computing the pearson_baseline similarity matrix...\n",
      "Done computing similarity matrix.\n",
      "Estimating biases using sgd...\n",
      "Computing the pearson_baseline similarity matrix...\n",
      "Done computing similarity matrix.\n",
      "Estimating biases using sgd...\n",
      "Computing the pearson_baseline similarity matrix...\n",
      "Done computing similarity matrix.\n",
      "Estimating biases using sgd...\n",
      "Computing the pearson_baseline similarity matrix...\n",
      "Done computing similarity matrix.\n",
      "Estimating biases using sgd...\n",
      "Computing the pearson_baseline similarity matrix...\n",
      "Done computing similarity matrix.\n",
      "Estimating biases using sgd...\n",
      "Computing the pearson_baseline similarity matrix...\n",
      "Done computing similarity matrix.\n",
      "Estimating biases using sgd...\n",
      "Computing the pearson_baseline similarity matrix...\n",
      "Done computing similarity matrix.\n",
      "Estimating biases using sgd...\n",
      "Computing the pearson_baseline similarity matrix...\n"
     ]
    },
    {
     "name": "stdout",
     "output_type": "stream",
     "text": [
      "Done computing similarity matrix.\n",
      "Estimating biases using sgd...\n",
      "Computing the pearson_baseline similarity matrix...\n",
      "Done computing similarity matrix.\n",
      "Estimating biases using sgd...\n",
      "Computing the pearson_baseline similarity matrix...\n",
      "Done computing similarity matrix.\n",
      "Estimating biases using sgd...\n",
      "Computing the pearson_baseline similarity matrix...\n",
      "Done computing similarity matrix.\n",
      "Evaluating the model with train data..\n",
      "time taken : 0:18:09.656449\n",
      "---------------\n",
      "Train Data\n",
      "---------------\n",
      "RMSE : 0.4536279292470732\n",
      "\n",
      "MAPE : 12.840252350475915\n",
      "\n",
      "adding train results in the dictionary..\n",
      "\n",
      "Evaluating for test data...\n",
      "time taken : 0:00:03.488553\n",
      "---------------\n",
      "Test Data\n",
      "---------------\n",
      "RMSE : 1.0818615549831905\n",
      "\n",
      "MAPE : 34.03037281417306\n",
      "\n",
      "storing the test results in test dictionary...\n",
      "\n",
      "---------------------------------------------\n",
      "Total time taken to run this algorithm : 1 day, 1:02:18.315884\n"
     ]
    }
   ],
   "source": [
    "# options are to specify.., how to compute those user and item biases\n",
    "# https://surprise.readthedocs.io/en/stable/prediction_algorithms.html#baseline-estimates-configuration\n",
    "\n",
    "param_grid = {  'bsl_options': {'method': ['sgd'],\n",
    "                                'k': [20,40,50]},\n",
    "               'sim_options': {'user_based' : [True],\n",
    "               'name': ['pearson_baseline'],\n",
    "               'shrinkage': [10,25,50,100],\n",
    "               'min_support': [2,5]\n",
    "              }}\n",
    "\n",
    "bsl_train_results, bsl_test_results = hyper_surprise(KNNBaseline, param_grid, train_data, trainset, testset)"
   ]
  },
  {
   "cell_type": "code",
   "execution_count": 19,
   "metadata": {},
   "outputs": [],
   "source": [
    "# # Just store these error metrics in our models_evaluation datastructure\n",
    "models_evaluation_train['knn_bsl_u'] = bsl_train_results\n",
    "models_evaluation_test['knn_bsl_u'] = bsl_test_results"
   ]
  },
  {
   "cell_type": "code",
   "execution_count": 20,
   "metadata": {
    "colab": {},
    "colab_type": "code",
    "id": "eVFqx9_IrRT7"
   },
   "outputs": [
    {
     "name": "stdout",
     "output_type": "stream",
     "text": [
      "GridSearchcv and Refit best params the model...\n",
      "Estimating biases using sgd...\n",
      "Computing the pearson_baseline similarity matrix...\n",
      "Done computing similarity matrix.\n",
      "Estimating biases using sgd...\n",
      "Computing the pearson_baseline similarity matrix...\n",
      "Done computing similarity matrix.\n",
      "Estimating biases using sgd...\n",
      "Computing the pearson_baseline similarity matrix...\n",
      "Done computing similarity matrix.\n",
      "Estimating biases using sgd...\n",
      "Computing the pearson_baseline similarity matrix...\n",
      "Done computing similarity matrix.\n",
      "Estimating biases using sgd...\n",
      "Computing the pearson_baseline similarity matrix...\n",
      "Done computing similarity matrix.\n",
      "Estimating biases using sgd...\n",
      "Computing the pearson_baseline similarity matrix...\n",
      "Done computing similarity matrix.\n",
      "Estimating biases using sgd...\n",
      "Computing the pearson_baseline similarity matrix...\n",
      "Done computing similarity matrix.\n",
      "Estimating biases using sgd...\n",
      "Computing the pearson_baseline similarity matrix...\n",
      "Done computing similarity matrix.\n",
      "Estimating biases using sgd...\n",
      "Computing the pearson_baseline similarity matrix...\n",
      "Done computing similarity matrix.\n",
      "Estimating biases using sgd...\n",
      "Computing the pearson_baseline similarity matrix...\n",
      "Done computing similarity matrix.\n",
      "Estimating biases using sgd...\n",
      "Computing the pearson_baseline similarity matrix...\n",
      "Done computing similarity matrix.\n",
      "Estimating biases using sgd...\n",
      "Computing the pearson_baseline similarity matrix...\n",
      "Done computing similarity matrix.\n",
      "Estimating biases using sgd...\n",
      "Computing the pearson_baseline similarity matrix...\n",
      "Done computing similarity matrix.\n",
      "Estimating biases using sgd...\n",
      "Computing the pearson_baseline similarity matrix...\n",
      "Done computing similarity matrix.\n",
      "Estimating biases using sgd...\n",
      "Computing the pearson_baseline similarity matrix...\n",
      "Done computing similarity matrix.\n",
      "Estimating biases using sgd...\n",
      "Computing the pearson_baseline similarity matrix...\n",
      "Done computing similarity matrix.\n",
      "Estimating biases using sgd...\n",
      "Computing the pearson_baseline similarity matrix...\n",
      "Done computing similarity matrix.\n",
      "Estimating biases using sgd...\n",
      "Computing the pearson_baseline similarity matrix...\n",
      "Done computing similarity matrix.\n",
      "Estimating biases using sgd...\n",
      "Computing the pearson_baseline similarity matrix...\n",
      "Done computing similarity matrix.\n",
      "Estimating biases using sgd...\n",
      "Computing the pearson_baseline similarity matrix...\n",
      "Done computing similarity matrix.\n",
      "Estimating biases using sgd...\n",
      "Computing the pearson_baseline similarity matrix...\n",
      "Done computing similarity matrix.\n",
      "Estimating biases using sgd...\n",
      "Computing the pearson_baseline similarity matrix...\n",
      "Done computing similarity matrix.\n",
      "Estimating biases using sgd...\n",
      "Computing the pearson_baseline similarity matrix...\n",
      "Done computing similarity matrix.\n",
      "Estimating biases using sgd...\n",
      "Computing the pearson_baseline similarity matrix...\n",
      "Done computing similarity matrix.\n",
      "Estimating biases using sgd...\n",
      "Computing the pearson_baseline similarity matrix...\n",
      "Done computing similarity matrix.\n",
      "Estimating biases using sgd...\n",
      "Computing the pearson_baseline similarity matrix...\n",
      "Done computing similarity matrix.\n",
      "Estimating biases using sgd...\n",
      "Computing the pearson_baseline similarity matrix...\n",
      "Done computing similarity matrix.\n",
      "Estimating biases using sgd...\n",
      "Computing the pearson_baseline similarity matrix...\n",
      "Done computing similarity matrix.\n",
      "Estimating biases using sgd...\n",
      "Computing the pearson_baseline similarity matrix...\n",
      "Done computing similarity matrix.\n",
      "Estimating biases using sgd...\n",
      "Computing the pearson_baseline similarity matrix...\n",
      "Done computing similarity matrix.\n",
      "Estimating biases using sgd...\n",
      "Computing the pearson_baseline similarity matrix...\n",
      "Done computing similarity matrix.\n",
      "Estimating biases using sgd...\n",
      "Computing the pearson_baseline similarity matrix...\n",
      "Done computing similarity matrix.\n",
      "Estimating biases using sgd...\n",
      "Computing the pearson_baseline similarity matrix...\n",
      "Done computing similarity matrix.\n",
      "Estimating biases using sgd...\n",
      "Computing the pearson_baseline similarity matrix...\n",
      "Done computing similarity matrix.\n",
      "Estimating biases using sgd...\n",
      "Computing the pearson_baseline similarity matrix...\n",
      "Done computing similarity matrix.\n",
      "Estimating biases using sgd...\n",
      "Computing the pearson_baseline similarity matrix...\n",
      "Done computing similarity matrix.\n",
      "Estimating biases using sgd...\n",
      "Computing the pearson_baseline similarity matrix...\n",
      "Done computing similarity matrix.\n",
      "Estimating biases using sgd...\n",
      "Computing the pearson_baseline similarity matrix...\n",
      "Done computing similarity matrix.\n",
      "Estimating biases using sgd...\n",
      "Computing the pearson_baseline similarity matrix...\n",
      "Done computing similarity matrix.\n",
      "Estimating biases using sgd...\n",
      "Computing the pearson_baseline similarity matrix...\n",
      "Done computing similarity matrix.\n",
      "Estimating biases using sgd...\n",
      "Computing the pearson_baseline similarity matrix...\n",
      "Done computing similarity matrix.\n",
      "Estimating biases using sgd...\n",
      "Computing the pearson_baseline similarity matrix...\n",
      "Done computing similarity matrix.\n",
      "Estimating biases using sgd...\n",
      "Computing the pearson_baseline similarity matrix...\n",
      "Done computing similarity matrix.\n",
      "Estimating biases using sgd...\n",
      "Computing the pearson_baseline similarity matrix...\n",
      "Done computing similarity matrix.\n",
      "Estimating biases using sgd...\n",
      "Computing the pearson_baseline similarity matrix...\n",
      "Done computing similarity matrix.\n",
      "Estimating biases using sgd...\n",
      "Computing the pearson_baseline similarity matrix...\n",
      "Done computing similarity matrix.\n",
      "Estimating biases using sgd...\n",
      "Computing the pearson_baseline similarity matrix...\n",
      "Done computing similarity matrix.\n",
      "Estimating biases using sgd...\n",
      "Computing the pearson_baseline similarity matrix...\n",
      "Done computing similarity matrix.\n",
      "Estimating biases using sgd...\n",
      "Computing the pearson_baseline similarity matrix...\n",
      "Done computing similarity matrix.\n",
      "Estimating biases using sgd...\n",
      "Computing the pearson_baseline similarity matrix...\n",
      "Done computing similarity matrix.\n",
      "Estimating biases using sgd...\n",
      "Computing the pearson_baseline similarity matrix...\n",
      "Done computing similarity matrix.\n",
      "Estimating biases using sgd...\n",
      "Computing the pearson_baseline similarity matrix...\n",
      "Done computing similarity matrix.\n",
      "Estimating biases using sgd...\n",
      "Computing the pearson_baseline similarity matrix...\n",
      "Done computing similarity matrix.\n",
      "Estimating biases using sgd...\n",
      "Computing the pearson_baseline similarity matrix...\n",
      "Done computing similarity matrix.\n",
      "Estimating biases using sgd...\n",
      "Computing the pearson_baseline similarity matrix...\n",
      "Done computing similarity matrix.\n",
      "Estimating biases using sgd...\n",
      "Computing the pearson_baseline similarity matrix...\n",
      "Done computing similarity matrix.\n",
      "Estimating biases using sgd...\n",
      "Computing the pearson_baseline similarity matrix...\n",
      "Done computing similarity matrix.\n",
      "Estimating biases using sgd...\n",
      "Computing the pearson_baseline similarity matrix...\n",
      "Done computing similarity matrix.\n",
      "Estimating biases using sgd...\n",
      "Computing the pearson_baseline similarity matrix...\n",
      "Done computing similarity matrix.\n",
      "Estimating biases using sgd...\n",
      "Computing the pearson_baseline similarity matrix...\n",
      "Done computing similarity matrix.\n",
      "Estimating biases using sgd...\n",
      "Computing the pearson_baseline similarity matrix...\n",
      "Done computing similarity matrix.\n",
      "Estimating biases using sgd...\n",
      "Computing the pearson_baseline similarity matrix...\n",
      "Done computing similarity matrix.\n",
      "Estimating biases using sgd...\n",
      "Computing the pearson_baseline similarity matrix...\n",
      "Done computing similarity matrix.\n",
      "Estimating biases using sgd...\n",
      "Computing the pearson_baseline similarity matrix...\n",
      "Done computing similarity matrix.\n",
      "Estimating biases using sgd...\n",
      "Computing the pearson_baseline similarity matrix...\n",
      "Done computing similarity matrix.\n",
      "Estimating biases using sgd...\n",
      "Computing the pearson_baseline similarity matrix...\n",
      "Done computing similarity matrix.\n",
      "Estimating biases using sgd...\n",
      "Computing the pearson_baseline similarity matrix...\n",
      "Done computing similarity matrix.\n",
      "Estimating biases using sgd...\n",
      "Computing the pearson_baseline similarity matrix...\n",
      "Done computing similarity matrix.\n",
      "Estimating biases using sgd...\n",
      "Computing the pearson_baseline similarity matrix...\n",
      "Done computing similarity matrix.\n",
      "Estimating biases using sgd...\n",
      "Computing the pearson_baseline similarity matrix...\n"
     ]
    },
    {
     "name": "stdout",
     "output_type": "stream",
     "text": [
      "Done computing similarity matrix.\n",
      "Estimating biases using sgd...\n",
      "Computing the pearson_baseline similarity matrix...\n",
      "Done computing similarity matrix.\n",
      "Estimating biases using sgd...\n",
      "Computing the pearson_baseline similarity matrix...\n",
      "Done computing similarity matrix.\n",
      "Estimating biases using sgd...\n",
      "Computing the pearson_baseline similarity matrix...\n",
      "Done computing similarity matrix.\n",
      "Evaluating the model with train data..\n",
      "time taken : 0:01:36.791717\n",
      "---------------\n",
      "Train Data\n",
      "---------------\n",
      "RMSE : 0.5038994796517224\n",
      "\n",
      "MAPE : 14.168515366483724\n",
      "\n",
      "adding train results in the dictionary..\n",
      "\n",
      "Evaluating for test data...\n",
      "time taken : 0:00:02.102379\n",
      "---------------\n",
      "Test Data\n",
      "---------------\n",
      "RMSE : 1.082024048595736\n",
      "\n",
      "MAPE : 34.03296423620119\n",
      "\n",
      "storing the test results in test dictionary...\n",
      "\n",
      "---------------------------------------------\n",
      "Total time taken to run this algorithm : 1:46:50.282945\n"
     ]
    }
   ],
   "source": [
    "# we specify , how to compute similarities and what to consider with sim_options to our algorithm\n",
    "param_grid = {  'bsl_options': {'method': ['sgd'],\n",
    "                                'k': [20,40,50]},\n",
    "               'sim_options': {'user_based' : [False],\n",
    "               'name': ['pearson_baseline'],\n",
    "               'shrinkage': [10,25,50,100],\n",
    "               'min_support': [2,5]\n",
    "              }}\n",
    "\n",
    "bsl_train_results, bsl_test_results = hyper_surprise(KNNBaseline, param_grid, train_data, trainset, testset)"
   ]
  },
  {
   "cell_type": "code",
   "execution_count": 22,
   "metadata": {},
   "outputs": [],
   "source": [
    "models_evaluation_train['knn_bsl_m'] = bsl_train_results\n",
    "models_evaluation_test['knn_bsl_m'] = bsl_test_results"
   ]
  },
  {
   "cell_type": "markdown",
   "metadata": {},
   "source": [
    "<h3> 4.4.5 XGBoost with initial 13 features + Surprise Baseline predictor + KNNBaseline predictor </h3>\n",
    "\n",
    "- - - First we will run XGBoost with predictions from both KNN's ( that uses User\\_User and Item\\_Item similarities along with our previous features.\n",
    "\n",
    " \n",
    "- - - Then we will run XGBoost with just predictions form both knn models and preditions from our baseline model. "
   ]
  },
  {
   "cell_type": "markdown",
   "metadata": {},
   "source": [
    "__Preparing Train data __"
   ]
  },
  {
   "cell_type": "code",
   "execution_count": 36,
   "metadata": {},
   "outputs": [
    {
     "data": {
      "text/html": [
       "<div>\n",
       "<style scoped>\n",
       "    .dataframe tbody tr th:only-of-type {\n",
       "        vertical-align: middle;\n",
       "    }\n",
       "\n",
       "    .dataframe tbody tr th {\n",
       "        vertical-align: top;\n",
       "    }\n",
       "\n",
       "    .dataframe thead th {\n",
       "        text-align: right;\n",
       "    }\n",
       "</style>\n",
       "<table border=\"1\" class=\"dataframe\">\n",
       "  <thead>\n",
       "    <tr style=\"text-align: right;\">\n",
       "      <th></th>\n",
       "      <th>user</th>\n",
       "      <th>movie</th>\n",
       "      <th>GAvg</th>\n",
       "      <th>sur1</th>\n",
       "      <th>sur2</th>\n",
       "      <th>sur3</th>\n",
       "      <th>sur4</th>\n",
       "      <th>sur5</th>\n",
       "      <th>smr1</th>\n",
       "      <th>smr2</th>\n",
       "      <th>smr3</th>\n",
       "      <th>smr4</th>\n",
       "      <th>smr5</th>\n",
       "      <th>UAvg</th>\n",
       "      <th>MAvg</th>\n",
       "      <th>rating</th>\n",
       "      <th>bslpr</th>\n",
       "      <th>knn_bsl_u</th>\n",
       "      <th>knn_bsl_m</th>\n",
       "    </tr>\n",
       "  </thead>\n",
       "  <tbody>\n",
       "    <tr>\n",
       "      <th>0</th>\n",
       "      <td>174683</td>\n",
       "      <td>10</td>\n",
       "      <td>3.587581</td>\n",
       "      <td>5.0</td>\n",
       "      <td>5.0</td>\n",
       "      <td>3.0</td>\n",
       "      <td>4.0</td>\n",
       "      <td>4.0</td>\n",
       "      <td>3.0</td>\n",
       "      <td>5.0</td>\n",
       "      <td>4.0</td>\n",
       "      <td>3.0</td>\n",
       "      <td>2.0</td>\n",
       "      <td>3.882353</td>\n",
       "      <td>3.611111</td>\n",
       "      <td>5</td>\n",
       "      <td>3.631399</td>\n",
       "      <td>4.984495</td>\n",
       "      <td>4.884782</td>\n",
       "    </tr>\n",
       "    <tr>\n",
       "      <th>1</th>\n",
       "      <td>233949</td>\n",
       "      <td>10</td>\n",
       "      <td>3.587581</td>\n",
       "      <td>4.0</td>\n",
       "      <td>4.0</td>\n",
       "      <td>5.0</td>\n",
       "      <td>1.0</td>\n",
       "      <td>3.0</td>\n",
       "      <td>2.0</td>\n",
       "      <td>3.0</td>\n",
       "      <td>2.0</td>\n",
       "      <td>3.0</td>\n",
       "      <td>3.0</td>\n",
       "      <td>2.692308</td>\n",
       "      <td>3.611111</td>\n",
       "      <td>3</td>\n",
       "      <td>3.635639</td>\n",
       "      <td>3.181296</td>\n",
       "      <td>3.295934</td>\n",
       "    </tr>\n",
       "  </tbody>\n",
       "</table>\n",
       "</div>"
      ],
      "text/plain": [
       "     user  movie      GAvg  sur1  sur2  sur3  sur4  sur5  smr1  smr2  smr3  \\\n",
       "0  174683     10  3.587581   5.0   5.0   3.0   4.0   4.0   3.0   5.0   4.0   \n",
       "1  233949     10  3.587581   4.0   4.0   5.0   1.0   3.0   2.0   3.0   2.0   \n",
       "\n",
       "   smr4  smr5      UAvg      MAvg  rating     bslpr  knn_bsl_u  knn_bsl_m  \n",
       "0   3.0   2.0  3.882353  3.611111       5  3.631399   4.984495   4.884782  \n",
       "1   3.0   3.0  2.692308  3.611111       3  3.635639   3.181296   3.295934  "
      ]
     },
     "execution_count": 36,
     "metadata": {},
     "output_type": "execute_result"
    }
   ],
   "source": [
    "# add the predicted values from both knns to this dataframe\n",
    "reg_train['knn_bsl_u'] = models_evaluation_train['knn_bsl_u']['predictions']\n",
    "reg_train['knn_bsl_m'] = models_evaluation_train['knn_bsl_m']['predictions']\n",
    "\n",
    "reg_train.head(2)"
   ]
  },
  {
   "cell_type": "code",
   "execution_count": 37,
   "metadata": {},
   "outputs": [
    {
     "data": {
      "text/html": [
       "<div>\n",
       "<style scoped>\n",
       "    .dataframe tbody tr th:only-of-type {\n",
       "        vertical-align: middle;\n",
       "    }\n",
       "\n",
       "    .dataframe tbody tr th {\n",
       "        vertical-align: top;\n",
       "    }\n",
       "\n",
       "    .dataframe thead th {\n",
       "        text-align: right;\n",
       "    }\n",
       "</style>\n",
       "<table border=\"1\" class=\"dataframe\">\n",
       "  <thead>\n",
       "    <tr style=\"text-align: right;\">\n",
       "      <th></th>\n",
       "      <th>user</th>\n",
       "      <th>movie</th>\n",
       "      <th>GAvg</th>\n",
       "      <th>sur1</th>\n",
       "      <th>sur2</th>\n",
       "      <th>sur3</th>\n",
       "      <th>sur4</th>\n",
       "      <th>sur5</th>\n",
       "      <th>smr1</th>\n",
       "      <th>smr2</th>\n",
       "      <th>smr3</th>\n",
       "      <th>smr4</th>\n",
       "      <th>smr5</th>\n",
       "      <th>UAvg</th>\n",
       "      <th>MAvg</th>\n",
       "      <th>rating</th>\n",
       "      <th>bslpr</th>\n",
       "      <th>knn_bsl_u</th>\n",
       "      <th>knn_bsl_m</th>\n",
       "    </tr>\n",
       "  </thead>\n",
       "  <tbody>\n",
       "    <tr>\n",
       "      <th>0</th>\n",
       "      <td>1129620</td>\n",
       "      <td>2</td>\n",
       "      <td>3.587581</td>\n",
       "      <td>3.587581</td>\n",
       "      <td>3.587581</td>\n",
       "      <td>3.587581</td>\n",
       "      <td>3.587581</td>\n",
       "      <td>3.587581</td>\n",
       "      <td>3.587581</td>\n",
       "      <td>3.587581</td>\n",
       "      <td>3.587581</td>\n",
       "      <td>3.587581</td>\n",
       "      <td>3.587581</td>\n",
       "      <td>3.587581</td>\n",
       "      <td>3.587581</td>\n",
       "      <td>3</td>\n",
       "      <td>3.587581</td>\n",
       "      <td>3.587581</td>\n",
       "      <td>3.587581</td>\n",
       "    </tr>\n",
       "    <tr>\n",
       "      <th>1</th>\n",
       "      <td>3321</td>\n",
       "      <td>5</td>\n",
       "      <td>3.587581</td>\n",
       "      <td>3.587581</td>\n",
       "      <td>3.587581</td>\n",
       "      <td>3.587581</td>\n",
       "      <td>3.587581</td>\n",
       "      <td>3.587581</td>\n",
       "      <td>3.587581</td>\n",
       "      <td>3.587581</td>\n",
       "      <td>3.587581</td>\n",
       "      <td>3.587581</td>\n",
       "      <td>3.587581</td>\n",
       "      <td>3.587581</td>\n",
       "      <td>3.587581</td>\n",
       "      <td>4</td>\n",
       "      <td>3.587581</td>\n",
       "      <td>3.587581</td>\n",
       "      <td>3.587581</td>\n",
       "    </tr>\n",
       "  </tbody>\n",
       "</table>\n",
       "</div>"
      ],
      "text/plain": [
       "      user  movie      GAvg      sur1      sur2      sur3      sur4      sur5  \\\n",
       "0  1129620      2  3.587581  3.587581  3.587581  3.587581  3.587581  3.587581   \n",
       "1     3321      5  3.587581  3.587581  3.587581  3.587581  3.587581  3.587581   \n",
       "\n",
       "       smr1      smr2      smr3      smr4      smr5      UAvg      MAvg  \\\n",
       "0  3.587581  3.587581  3.587581  3.587581  3.587581  3.587581  3.587581   \n",
       "1  3.587581  3.587581  3.587581  3.587581  3.587581  3.587581  3.587581   \n",
       "\n",
       "   rating     bslpr  knn_bsl_u  knn_bsl_m  \n",
       "0       3  3.587581   3.587581   3.587581  \n",
       "1       4  3.587581   3.587581   3.587581  "
      ]
     },
     "execution_count": 37,
     "metadata": {},
     "output_type": "execute_result"
    }
   ],
   "source": [
    "reg_test_df['knn_bsl_u'] = models_evaluation_test['knn_bsl_u']['predictions']\n",
    "reg_test_df['knn_bsl_m'] = models_evaluation_test['knn_bsl_m']['predictions']\n",
    "\n",
    "reg_test_df.head(2)"
   ]
  },
  {
   "cell_type": "code",
   "execution_count": 38,
   "metadata": {},
   "outputs": [
    {
     "name": "stdout",
     "output_type": "stream",
     "text": [
      "Instance create XGBClassifier\n",
      "Fitting GridSearchCV\n",
      "Fitting 3 folds for each of 20 candidates, totalling 60 fits\n",
      "[CV] max_depth=3, n_estimators=2 .....................................\n"
     ]
    },
    {
     "name": "stderr",
     "output_type": "stream",
     "text": [
      "[Parallel(n_jobs=1)]: Using backend SequentialBackend with 1 concurrent workers.\n"
     ]
    },
    {
     "name": "stdout",
     "output_type": "stream",
     "text": [
      "[CV]  max_depth=3, n_estimators=2, MAPE=(train=-65.903, test=-65.866), RMSE=(train=-2.708, test=-2.709), total=   2.9s\n",
      "[CV] max_depth=3, n_estimators=2 .....................................\n"
     ]
    },
    {
     "name": "stderr",
     "output_type": "stream",
     "text": [
      "[Parallel(n_jobs=1)]: Done   1 out of   1 | elapsed:    3.2s remaining:    0.0s\n"
     ]
    },
    {
     "name": "stdout",
     "output_type": "stream",
     "text": [
      "[CV]  max_depth=3, n_estimators=2, MAPE=(train=-65.898, test=-65.673), RMSE=(train=-2.708, test=-2.705), total=   2.0s\n",
      "[CV] max_depth=3, n_estimators=2 .....................................\n"
     ]
    },
    {
     "name": "stderr",
     "output_type": "stream",
     "text": [
      "[Parallel(n_jobs=1)]: Done   2 out of   2 | elapsed:    5.6s remaining:    0.0s\n"
     ]
    },
    {
     "name": "stdout",
     "output_type": "stream",
     "text": [
      "[CV]  max_depth=3, n_estimators=2, MAPE=(train=-65.749, test=-65.923), RMSE=(train=-2.706, test=-2.705), total=   2.0s\n",
      "[CV] max_depth=3, n_estimators=3 .....................................\n",
      "[CV]  max_depth=3, n_estimators=3, MAPE=(train=-59.662, test=-59.647), RMSE=(train=-2.471, test=-2.472), total=   2.3s\n",
      "[CV] max_depth=3, n_estimators=3 .....................................\n",
      "[CV]  max_depth=3, n_estimators=3, MAPE=(train=-59.685, test=-59.462), RMSE=(train=-2.471, test=-2.468), total=   2.3s\n",
      "[CV] max_depth=3, n_estimators=3 .....................................\n",
      "[CV]  max_depth=3, n_estimators=3, MAPE=(train=-59.570, test=-59.674), RMSE=(train=-2.470, test=-2.468), total=   2.3s\n",
      "[CV] max_depth=3, n_estimators=5 .....................................\n",
      "[CV]  max_depth=3, n_estimators=5, MAPE=(train=-49.595, test=-49.583), RMSE=(train=-2.073, test=-2.075), total=   3.2s\n",
      "[CV] max_depth=3, n_estimators=5 .....................................\n",
      "[CV]  max_depth=3, n_estimators=5, MAPE=(train=-49.585, test=-49.465), RMSE=(train=-2.075, test=-2.070), total=   3.1s\n",
      "[CV] max_depth=3, n_estimators=5 .....................................\n",
      "[CV]  max_depth=3, n_estimators=5, MAPE=(train=-49.598, test=-49.534), RMSE=(train=-2.074, test=-2.071), total=   3.1s\n",
      "[CV] max_depth=3, n_estimators=10 ....................................\n",
      "[CV]  max_depth=3, n_estimators=10, MAPE=(train=-34.792, test=-35.075), RMSE=(train=-1.428, test=-1.435), total=   5.1s\n",
      "[CV] max_depth=3, n_estimators=10 ....................................\n",
      "[CV]  max_depth=3, n_estimators=10, MAPE=(train=-34.897, test=-34.834), RMSE=(train=-1.432, test=-1.425), total=   5.2s\n",
      "[CV] max_depth=3, n_estimators=10 ....................................\n",
      "[CV]  max_depth=3, n_estimators=10, MAPE=(train=-34.989, test=-34.696), RMSE=(train=-1.431, test=-1.427), total=   5.3s\n",
      "[CV] max_depth=3, n_estimators=20 ....................................\n",
      "[CV]  max_depth=3, n_estimators=20, MAPE=(train=-26.894, test=-27.512), RMSE=(train=-0.966, test=-0.982), total=   9.2s\n",
      "[CV] max_depth=3, n_estimators=20 ....................................\n",
      "[CV]  max_depth=3, n_estimators=20, MAPE=(train=-27.153, test=-27.165), RMSE=(train=-0.975, test=-0.965), total=   9.3s\n",
      "[CV] max_depth=3, n_estimators=20 ....................................\n",
      "[CV]  max_depth=3, n_estimators=20, MAPE=(train=-27.232, test=-26.727), RMSE=(train=-0.973, test=-0.968), total=   9.2s\n",
      "[CV] max_depth=5, n_estimators=2 .....................................\n",
      "[CV]  max_depth=5, n_estimators=2, MAPE=(train=-66.028, test=-65.826), RMSE=(train=-2.704, test=-2.700), total=   2.3s\n",
      "[CV] max_depth=5, n_estimators=2 .....................................\n",
      "[CV]  max_depth=5, n_estimators=2, MAPE=(train=-66.012, test=-65.811), RMSE=(train=-2.704, test=-2.700), total=   2.4s\n",
      "[CV] max_depth=5, n_estimators=2 .....................................\n",
      "[CV]  max_depth=5, n_estimators=2, MAPE=(train=-65.892, test=-66.126), RMSE=(train=-2.702, test=-2.705), total=   2.4s\n",
      "[CV] max_depth=5, n_estimators=3 .....................................\n",
      "[CV]  max_depth=5, n_estimators=3, MAPE=(train=-59.606, test=-59.496), RMSE=(train=-2.465, test=-2.463), total=   2.9s\n",
      "[CV] max_depth=5, n_estimators=3 .....................................\n",
      "[CV]  max_depth=5, n_estimators=3, MAPE=(train=-59.625, test=-59.380), RMSE=(train=-2.466, test=-2.460), total=   2.9s\n",
      "[CV] max_depth=5, n_estimators=3 .....................................\n",
      "[CV]  max_depth=5, n_estimators=3, MAPE=(train=-59.518, test=-59.689), RMSE=(train=-2.464, test=-2.464), total=   2.9s\n",
      "[CV] max_depth=5, n_estimators=5 .....................................\n",
      "[CV]  max_depth=5, n_estimators=5, MAPE=(train=-49.387, test=-49.325), RMSE=(train=-2.064, test=-2.064), total=   4.1s\n",
      "[CV] max_depth=5, n_estimators=5 .....................................\n",
      "[CV]  max_depth=5, n_estimators=5, MAPE=(train=-49.414, test=-49.255), RMSE=(train=-2.066, test=-2.059), total=   4.1s\n",
      "[CV] max_depth=5, n_estimators=5 .....................................\n",
      "[CV]  max_depth=5, n_estimators=5, MAPE=(train=-49.374, test=-49.371), RMSE=(train=-2.064, test=-2.064), total=   4.1s\n",
      "[CV] max_depth=5, n_estimators=10 ....................................\n",
      "[CV]  max_depth=5, n_estimators=10, MAPE=(train=-34.226, test=-34.500), RMSE=(train=-1.412, test=-1.418), total=   7.2s\n",
      "[CV] max_depth=5, n_estimators=10 ....................................\n",
      "[CV]  max_depth=5, n_estimators=10, MAPE=(train=-34.368, test=-34.230), RMSE=(train=-1.417, test=-1.408), total=   7.2s\n",
      "[CV] max_depth=5, n_estimators=10 ....................................\n",
      "[CV]  max_depth=5, n_estimators=10, MAPE=(train=-34.392, test=-34.202), RMSE=(train=-1.415, test=-1.413), total=   7.3s\n",
      "[CV] max_depth=5, n_estimators=20 ....................................\n",
      "[CV]  max_depth=5, n_estimators=20, MAPE=(train=-26.093, test=-26.771), RMSE=(train=-0.949, test=-0.966), total=  13.6s\n",
      "[CV] max_depth=5, n_estimators=20 ....................................\n",
      "[CV]  max_depth=5, n_estimators=20, MAPE=(train=-26.395, test=-26.307), RMSE=(train=-0.959, test=-0.946), total=  13.7s\n",
      "[CV] max_depth=5, n_estimators=20 ....................................\n",
      "[CV]  max_depth=5, n_estimators=20, MAPE=(train=-26.417, test=-26.058), RMSE=(train=-0.955, test=-0.953), total=  13.7s\n",
      "[CV] max_depth=10, n_estimators=2 ....................................\n",
      "[CV]  max_depth=10, n_estimators=2, MAPE=(train=-66.182, test=-66.000), RMSE=(train=-2.700, test=-2.698), total=   3.7s\n",
      "[CV] max_depth=10, n_estimators=2 ....................................\n",
      "[CV]  max_depth=10, n_estimators=2, MAPE=(train=-66.164, test=-65.954), RMSE=(train=-2.700, test=-2.698), total=   3.7s\n",
      "[CV] max_depth=10, n_estimators=2 ....................................\n",
      "[CV]  max_depth=10, n_estimators=2, MAPE=(train=-66.065, test=-66.271), RMSE=(train=-2.698, test=-2.703), total=   3.7s\n",
      "[CV] max_depth=10, n_estimators=3 ....................................\n",
      "[CV]  max_depth=10, n_estimators=3, MAPE=(train=-59.630, test=-59.550), RMSE=(train=-2.460, test=-2.459), total=   5.0s\n",
      "[CV] max_depth=10, n_estimators=3 ....................................\n",
      "[CV]  max_depth=10, n_estimators=3, MAPE=(train=-59.644, test=-59.446), RMSE=(train=-2.460, test=-2.457), total=   5.1s\n",
      "[CV] max_depth=10, n_estimators=3 ....................................\n",
      "[CV]  max_depth=10, n_estimators=3, MAPE=(train=-59.534, test=-59.759), RMSE=(train=-2.458, test=-2.462), total=   5.1s\n",
      "[CV] max_depth=10, n_estimators=5 ....................................\n",
      "[CV]  max_depth=10, n_estimators=5, MAPE=(train=-49.137, test=-49.202), RMSE=(train=-2.055, test=-2.059), total=   7.7s\n",
      "[CV] max_depth=10, n_estimators=5 ....................................\n",
      "[CV]  max_depth=10, n_estimators=5, MAPE=(train=-49.165, test=-49.079), RMSE=(train=-2.057, test=-2.053), total=   7.6s\n",
      "[CV] max_depth=10, n_estimators=5 ....................................\n",
      "[CV]  max_depth=10, n_estimators=5, MAPE=(train=-49.113, test=-49.282), RMSE=(train=-2.055, test=-2.059), total=   7.6s\n",
      "[CV] max_depth=10, n_estimators=10 ...................................\n",
      "[CV]  max_depth=10, n_estimators=10, MAPE=(train=-33.498, test=-34.067), RMSE=(train=-1.394, test=-1.409), total=  14.3s\n",
      "[CV] max_depth=10, n_estimators=10 ...................................\n",
      "[CV]  max_depth=10, n_estimators=10, MAPE=(train=-33.623, test=-33.721), RMSE=(train=-1.400, test=-1.395), total=  14.4s\n",
      "[CV] max_depth=10, n_estimators=10 ...................................\n",
      "[CV]  max_depth=10, n_estimators=10, MAPE=(train=-33.617, test=-33.808), RMSE=(train=-1.397, test=-1.404), total=  14.4s\n",
      "[CV] max_depth=10, n_estimators=20 ...................................\n",
      "[CV]  max_depth=10, n_estimators=20, MAPE=(train=-24.893, test=-26.219), RMSE=(train=-0.922, test=-0.957), total=  28.1s\n",
      "[CV] max_depth=10, n_estimators=20 ...................................\n",
      "[CV]  max_depth=10, n_estimators=20, MAPE=(train=-25.185, test=-25.676), RMSE=(train=-0.931, test=-0.936), total=  28.2s\n",
      "[CV] max_depth=10, n_estimators=20 ...................................\n",
      "[CV]  max_depth=10, n_estimators=20, MAPE=(train=-25.176, test=-25.570), RMSE=(train=-0.927, test=-0.946), total=  28.1s\n",
      "[CV] max_depth=20, n_estimators=2 ....................................\n"
     ]
    },
    {
     "name": "stdout",
     "output_type": "stream",
     "text": [
      "[CV]  max_depth=20, n_estimators=2, MAPE=(train=-66.727, test=-66.319), RMSE=(train=-2.697, test=-2.702), total=   6.7s\n",
      "[CV] max_depth=20, n_estimators=2 ....................................\n",
      "[CV]  max_depth=20, n_estimators=2, MAPE=(train=-66.708, test=-66.282), RMSE=(train=-2.697, test=-2.701), total=   7.2s\n",
      "[CV] max_depth=20, n_estimators=2 ....................................\n",
      "[CV]  max_depth=20, n_estimators=2, MAPE=(train=-66.641, test=-66.616), RMSE=(train=-2.695, test=-2.707), total=   7.0s\n",
      "[CV] max_depth=20, n_estimators=3 ....................................\n",
      "[CV]  max_depth=20, n_estimators=3, MAPE=(train=-59.969, test=-59.912), RMSE=(train=-2.453, test=-2.465), total=  10.1s\n",
      "[CV] max_depth=20, n_estimators=3 ....................................\n",
      "[CV]  max_depth=20, n_estimators=3, MAPE=(train=-59.953, test=-59.812), RMSE=(train=-2.454, test=-2.462), total=   9.9s\n",
      "[CV] max_depth=20, n_estimators=3 ....................................\n",
      "[CV]  max_depth=20, n_estimators=3, MAPE=(train=-59.887, test=-60.165), RMSE=(train=-2.451, test=-2.470), total=  10.1s\n",
      "[CV] max_depth=20, n_estimators=5 ....................................\n",
      "[CV]  max_depth=20, n_estimators=5, MAPE=(train=-48.643, test=-49.557), RMSE=(train=-2.040, test=-2.071), total=  16.8s\n",
      "[CV] max_depth=20, n_estimators=5 ....................................\n",
      "[CV]  max_depth=20, n_estimators=5, MAPE=(train=-48.640, test=-49.398), RMSE=(train=-2.041, test=-2.063), total=  16.6s\n",
      "[CV] max_depth=20, n_estimators=5 ....................................\n",
      "[CV]  max_depth=20, n_estimators=5, MAPE=(train=-48.591, test=-49.697), RMSE=(train=-2.038, test=-2.073), total=  16.4s\n",
      "[CV] max_depth=20, n_estimators=10 ...................................\n",
      "[CV]  max_depth=20, n_estimators=10, MAPE=(train=-30.082, test=-34.466), RMSE=(train=-1.328, test=-1.438), total=  33.1s\n",
      "[CV] max_depth=20, n_estimators=10 ...................................\n",
      "[CV]  max_depth=20, n_estimators=10, MAPE=(train=-30.138, test=-34.052), RMSE=(train=-1.332, test=-1.420), total=  33.1s\n",
      "[CV] max_depth=20, n_estimators=10 ...................................\n",
      "[CV]  max_depth=20, n_estimators=10, MAPE=(train=-30.087, test=-34.345), RMSE=(train=-1.328, test=-1.437), total=  32.9s\n",
      "[CV] max_depth=20, n_estimators=20 ...................................\n",
      "[CV]  max_depth=20, n_estimators=20, MAPE=(train=-15.141, test=-26.447), RMSE=(train=-0.676, test=-0.992), total= 1.1min\n",
      "[CV] max_depth=20, n_estimators=20 ...................................\n",
      "[CV]  max_depth=20, n_estimators=20, MAPE=(train=-15.312, test=-25.902), RMSE=(train=-0.682, test=-0.968), total= 1.1min\n",
      "[CV] max_depth=20, n_estimators=20 ...................................\n",
      "[CV]  max_depth=20, n_estimators=20, MAPE=(train=-15.196, test=-25.907), RMSE=(train=-0.677, test=-0.986), total= 1.1min\n"
     ]
    },
    {
     "name": "stderr",
     "output_type": "stream",
     "text": [
      "[Parallel(n_jobs=1)]: Done  60 out of  60 | elapsed: 13.0min finished\n"
     ]
    },
    {
     "data": {
      "image/png": "[encoded data removed]",
      "text/plain": [
       "<Figure size 432x288 with 4 Axes>"
      ]
     },
     "metadata": {
      "needs_background": "light"
     },
     "output_type": "display_data"
    },
    {
     "data": {
      "image/png": "[encoded data removed]",
      "text/plain": [
       "<Figure size 432x288 with 4 Axes>"
      ]
     },
     "metadata": {
      "needs_background": "light"
     },
     "output_type": "display_data"
    }
   ],
   "source": [
    "# prepare the train data....\n",
    "x_train = reg_train.drop(['user', 'movie', 'rating'], axis=1)\n",
    "y_train = reg_train['rating']\n",
    "\n",
    "# prepare the train data....\n",
    "x_test = reg_test_df.drop(['user','movie','rating'], axis=1)\n",
    "y_test = reg_test_df['rating']\n",
    "\n",
    "# hyperparams the model\n",
    "parameter = {'n_estimators':[2, 3, 5, 10, 20], 'max_depth':[3, 5, 10, 20]}\n",
    "mape_loss = make_scorer(mape_fn, greater_is_better=False)\n",
    "scoring = {'RMSE': 'neg_root_mean_squared_error', 'MAPE': mape_loss}\n",
    "hype_xgboost(x_train,y_train,parameter,scoring,['RMSE','MAPE'])"
   ]
  },
  {
   "cell_type": "code",
   "execution_count": 39,
   "metadata": {},
   "outputs": [
    {
     "name": "stdout",
     "output_type": "stream",
     "text": [
      "[18:59:26] WARNING: C:/Jenkins/workspace/xgboost-win64_release_0.90/src/objective/regression_obj.cu:152: reg:linear is now deprecated in favor of reg:squarederror.\n",
      "Evaluating Test data\n",
      "\n",
      "TEST DATA\n",
      "------------------------------\n",
      "RMSE :  1.2049467453902432\n",
      "MAPE :  32.281628566644116\n"
     ]
    },
    {
     "data": {
      "image/png": "[encoded data removed]",
      "text/plain": [
       "<Figure size 432x288 with 1 Axes>"
      ]
     },
     "metadata": {
      "needs_background": "light"
     },
     "output_type": "display_data"
    }
   ],
   "source": [
    "# With best rmse: n_estimator=20, max_depth=10\n",
    "# With best mape, n_estimator=20, max_depth=20\n",
    "\n",
    "first_xgb, train_results, test_results = train_xgboost(n_est=20, max_dep=10, xtrain=x_train, ytrain=y_train, xtest=x_test, ytest=y_test)\n",
    "# store the results in models_evaluations dictionaries\n",
    "models_evaluation_train['xgb_knn_bsl'] = train_results\n",
    "models_evaluation_test['xgb_knn_bsl'] = test_results\n",
    "\n",
    "xgboost.plot_importance(first_xgb)\n",
    "plt.show()"
   ]
  },
  {
   "cell_type": "markdown",
   "metadata": {},
   "source": [
    "<h3> 4.4.6 Matrix Factorization Techniques </h3>\n",
    "\n",
    "<h4> 4.4.6.1 SVD Matrix Factorization User Movie intractions </h4>\n",
    "\n",
    "- __ Predicted Rating : __\n",
    "    - \n",
    "    - $ \\large  \\hat r_{ui} = \\mu + b_u + b_i + q_i^Tp_u $\n",
    "    \n",
    "        - $\\pmb q_i$ - Representation of item(movie) in latent factor space\n",
    "        \n",
    "        - $\\pmb p_u$ - Representation of user in new latent factor space\n",
    "        \n",
    "\n",
    "- A BASIC MATRIX FACTORIZATION MODEL in  https://datajobs.com/data-science-repo/Recommender-Systems-[Netflix].pdf\n",
    "    \n",
    "- __Optimization problem with user item interactions and regularization (to avoid overfitting)__\n",
    "    - \n",
    "    - $\\large \\sum_{r_{ui} \\in R_{train}} \\left(r_{ui} - \\hat{r}_{ui} \\right)^2 +\n",
    "\\lambda\\left(b_i^2 + b_u^2 + ||q_i||^2 + ||p_u||^2\\right) $"
   ]
  },
  {
   "cell_type": "code",
   "execution_count": 41,
   "metadata": {},
   "outputs": [],
   "source": [
    "from surprise import SVD"
   ]
  },
  {
   "cell_type": "code",
   "execution_count": 44,
   "metadata": {},
   "outputs": [
    {
     "name": "stdout",
     "output_type": "stream",
     "text": [
      "GridSearchcv and Refit best params the model...\n",
      "Evaluating the model with train data..\n",
      "time taken : 0:00:06.372963\n",
      "---------------\n",
      "Train Data\n",
      "---------------\n",
      "RMSE : 0.8376935882754125\n",
      "\n",
      "MAPE : 25.325297039062516\n",
      "\n",
      "adding train results in the dictionary..\n",
      "\n",
      "Evaluating for test data...\n",
      "time taken : 0:00:01.985657\n",
      "---------------\n",
      "Test Data\n",
      "---------------\n",
      "RMSE : 1.081821397995262\n",
      "\n",
      "MAPE : 33.99743279532154\n",
      "\n",
      "storing the test results in test dictionary...\n",
      "\n",
      "---------------------------------------------\n",
      "Total time taken to run this algorithm : 0:38:33.321746\n"
     ]
    }
   ],
   "source": [
    "param_grid = {'biased': [True,False],\n",
    "              'n_factors': [5,10,100],\n",
    "              'n_epochs': [5,10,15],\n",
    "              'reg_all': [0.05,0.02,0.01]}\n",
    "\n",
    "# http://surprise.readthedocs.io/en/stable/matrix_factorization.html#surprise.prediction_algorithms.matrix_factorization.SVD \n",
    "svd_train_results, svd_test_results = hyper_surprise(SVD, param_grid, train_data, trainset, testset)"
   ]
  },
  {
   "cell_type": "code",
   "execution_count": 45,
   "metadata": {},
   "outputs": [],
   "source": [
    "models_evaluation_train['svd'] = svd_train_results \n",
    "models_evaluation_test['svd'] = svd_test_results"
   ]
  },
  {
   "cell_type": "markdown",
   "metadata": {},
   "source": [
    "<h4> 4.4.6.2 SVD Matrix Factorization with implicit feedback from user ( user rated movies ) </h4>\n",
    "\n",
    "- ----->  2.5 Implicit Feedback in http://courses.ischool.berkeley.edu/i290-dm/s11/SECURE/a1-koren.pdf\n",
    "    \n",
    "- __ Predicted Rating : __\n",
    "    - \n",
    "    - $ \\large \\hat{r}_{ui} = \\mu + b_u + b_i + q_i^T\\left(p_u +\n",
    "    |I_u|^{-\\frac{1}{2}} \\sum_{j \\in I_u}y_j\\right) $ \n",
    "    \n",
    "- $ \\pmb{I_u}$ --- the set of all items rated by user u\n",
    "\n",
    "- $\\pmb{y_j}$ --- Our new set of item factors that capture implicit ratings.  \n",
    "\n",
    "- __Optimization problem with user item interactions and regularization (to avoid overfitting)__\n",
    "    - \n",
    "    - $ \\large \\sum_{r_{ui} \\in R_{train}} \\left(r_{ui} - \\hat{r}_{ui} \\right)^2 +\n",
    "\\lambda\\left(b_i^2 + b_u^2 + ||q_i||^2 + ||p_u||^2 + ||y_j||^2\\right) $ "
   ]
  },
  {
   "cell_type": "code",
   "execution_count": 47,
   "metadata": {},
   "outputs": [],
   "source": [
    "from surprise import SVDpp"
   ]
  },
  {
   "cell_type": "code",
   "execution_count": 49,
   "metadata": {},
   "outputs": [
    {
     "name": "stdout",
     "output_type": "stream",
     "text": [
      "GridSearchcv and Refit best params the model...\n",
      "Evaluating the model with train data..\n",
      "time taken : 0:01:04.646151\n",
      "---------------\n",
      "Train Data\n",
      "---------------\n",
      "RMSE : 0.8250386535525809\n",
      "\n",
      "MAPE : 24.44989663614092\n",
      "\n",
      "adding train results in the dictionary..\n",
      "\n",
      "Evaluating for test data...\n",
      "time taken : 0:00:02.123321\n",
      "---------------\n",
      "Test Data\n",
      "---------------\n",
      "RMSE : 1.0830215192566328\n",
      "\n",
      "MAPE : 33.95840992387168\n",
      "\n",
      "storing the test results in test dictionary...\n",
      "\n",
      "---------------------------------------------\n",
      "Total time taken to run this algorithm : 8:36:27.891688\n"
     ]
    }
   ],
   "source": [
    "param_grid = {'n_factors': [5,10,100],\n",
    "              'n_epochs': [5,10,15],\n",
    "              'reg_all': [0.05,0.02,0.01]}\n",
    "\n",
    "svdpp_train_results, svdpp_test_results = hyper_surprise(SVDpp, param_grid, train_data, trainset, testset)"
   ]
  },
  {
   "cell_type": "code",
   "execution_count": 50,
   "metadata": {},
   "outputs": [],
   "source": [
    "models_evaluation_train['svdpp'] = svdpp_train_results \n",
    "models_evaluation_test['svdpp'] = svdpp_test_results"
   ]
  },
  {
   "cell_type": "markdown",
   "metadata": {},
   "source": [
    "<h3> 4.4.7 XgBoost with 13 features + Surprise Baseline + Surprise KNNbaseline + MF Techniques </h3>\n",
    "\n",
    "__Preparing Train data__"
   ]
  },
  {
   "cell_type": "code",
   "execution_count": 51,
   "metadata": {},
   "outputs": [
    {
     "data": {
      "text/html": [
       "<div>\n",
       "<style scoped>\n",
       "    .dataframe tbody tr th:only-of-type {\n",
       "        vertical-align: middle;\n",
       "    }\n",
       "\n",
       "    .dataframe tbody tr th {\n",
       "        vertical-align: top;\n",
       "    }\n",
       "\n",
       "    .dataframe thead th {\n",
       "        text-align: right;\n",
       "    }\n",
       "</style>\n",
       "<table border=\"1\" class=\"dataframe\">\n",
       "  <thead>\n",
       "    <tr style=\"text-align: right;\">\n",
       "      <th></th>\n",
       "      <th>user</th>\n",
       "      <th>movie</th>\n",
       "      <th>GAvg</th>\n",
       "      <th>sur1</th>\n",
       "      <th>sur2</th>\n",
       "      <th>sur3</th>\n",
       "      <th>sur4</th>\n",
       "      <th>sur5</th>\n",
       "      <th>smr1</th>\n",
       "      <th>smr2</th>\n",
       "      <th>...</th>\n",
       "      <th>smr4</th>\n",
       "      <th>smr5</th>\n",
       "      <th>UAvg</th>\n",
       "      <th>MAvg</th>\n",
       "      <th>rating</th>\n",
       "      <th>bslpr</th>\n",
       "      <th>knn_bsl_u</th>\n",
       "      <th>knn_bsl_m</th>\n",
       "      <th>svd</th>\n",
       "      <th>svdpp</th>\n",
       "    </tr>\n",
       "  </thead>\n",
       "  <tbody>\n",
       "    <tr>\n",
       "      <th>0</th>\n",
       "      <td>174683</td>\n",
       "      <td>10</td>\n",
       "      <td>3.587581</td>\n",
       "      <td>5.0</td>\n",
       "      <td>5.0</td>\n",
       "      <td>3.0</td>\n",
       "      <td>4.0</td>\n",
       "      <td>4.0</td>\n",
       "      <td>3.0</td>\n",
       "      <td>5.0</td>\n",
       "      <td>...</td>\n",
       "      <td>3.0</td>\n",
       "      <td>2.0</td>\n",
       "      <td>3.882353</td>\n",
       "      <td>3.611111</td>\n",
       "      <td>5</td>\n",
       "      <td>3.631399</td>\n",
       "      <td>4.984495</td>\n",
       "      <td>4.884782</td>\n",
       "      <td>3.855542</td>\n",
       "      <td>3.760071</td>\n",
       "    </tr>\n",
       "    <tr>\n",
       "      <th>1</th>\n",
       "      <td>233949</td>\n",
       "      <td>10</td>\n",
       "      <td>3.587581</td>\n",
       "      <td>4.0</td>\n",
       "      <td>4.0</td>\n",
       "      <td>5.0</td>\n",
       "      <td>1.0</td>\n",
       "      <td>3.0</td>\n",
       "      <td>2.0</td>\n",
       "      <td>3.0</td>\n",
       "      <td>...</td>\n",
       "      <td>3.0</td>\n",
       "      <td>3.0</td>\n",
       "      <td>2.692308</td>\n",
       "      <td>3.611111</td>\n",
       "      <td>3</td>\n",
       "      <td>3.635639</td>\n",
       "      <td>3.181296</td>\n",
       "      <td>3.295934</td>\n",
       "      <td>3.868486</td>\n",
       "      <td>3.702577</td>\n",
       "    </tr>\n",
       "  </tbody>\n",
       "</table>\n",
       "<p>2 rows × 21 columns</p>\n",
       "</div>"
      ],
      "text/plain": [
       "     user  movie      GAvg  sur1  sur2  sur3  sur4  sur5  smr1  smr2  ...  \\\n",
       "0  174683     10  3.587581   5.0   5.0   3.0   4.0   4.0   3.0   5.0  ...   \n",
       "1  233949     10  3.587581   4.0   4.0   5.0   1.0   3.0   2.0   3.0  ...   \n",
       "\n",
       "   smr4  smr5      UAvg      MAvg  rating     bslpr  knn_bsl_u  knn_bsl_m  \\\n",
       "0   3.0   2.0  3.882353  3.611111       5  3.631399   4.984495   4.884782   \n",
       "1   3.0   3.0  2.692308  3.611111       3  3.635639   3.181296   3.295934   \n",
       "\n",
       "        svd     svdpp  \n",
       "0  3.855542  3.760071  \n",
       "1  3.868486  3.702577  \n",
       "\n",
       "[2 rows x 21 columns]"
      ]
     },
     "execution_count": 51,
     "metadata": {},
     "output_type": "execute_result"
    }
   ],
   "source": [
    "# add the predicted values from both knns to this dataframe\n",
    "reg_train['svd'] = models_evaluation_train['svd']['predictions']\n",
    "reg_train['svdpp'] = models_evaluation_train['svdpp']['predictions']\n",
    "\n",
    "reg_train.head(2) "
   ]
  },
  {
   "cell_type": "markdown",
   "metadata": {},
   "source": [
    "__Preparing Test data__"
   ]
  },
  {
   "cell_type": "code",
   "execution_count": 52,
   "metadata": {},
   "outputs": [
    {
     "data": {
      "text/html": [
       "<div>\n",
       "<style scoped>\n",
       "    .dataframe tbody tr th:only-of-type {\n",
       "        vertical-align: middle;\n",
       "    }\n",
       "\n",
       "    .dataframe tbody tr th {\n",
       "        vertical-align: top;\n",
       "    }\n",
       "\n",
       "    .dataframe thead th {\n",
       "        text-align: right;\n",
       "    }\n",
       "</style>\n",
       "<table border=\"1\" class=\"dataframe\">\n",
       "  <thead>\n",
       "    <tr style=\"text-align: right;\">\n",
       "      <th></th>\n",
       "      <th>user</th>\n",
       "      <th>movie</th>\n",
       "      <th>GAvg</th>\n",
       "      <th>sur1</th>\n",
       "      <th>sur2</th>\n",
       "      <th>sur3</th>\n",
       "      <th>sur4</th>\n",
       "      <th>sur5</th>\n",
       "      <th>smr1</th>\n",
       "      <th>smr2</th>\n",
       "      <th>...</th>\n",
       "      <th>smr4</th>\n",
       "      <th>smr5</th>\n",
       "      <th>UAvg</th>\n",
       "      <th>MAvg</th>\n",
       "      <th>rating</th>\n",
       "      <th>bslpr</th>\n",
       "      <th>knn_bsl_u</th>\n",
       "      <th>knn_bsl_m</th>\n",
       "      <th>svd</th>\n",
       "      <th>svdpp</th>\n",
       "    </tr>\n",
       "  </thead>\n",
       "  <tbody>\n",
       "    <tr>\n",
       "      <th>0</th>\n",
       "      <td>1129620</td>\n",
       "      <td>2</td>\n",
       "      <td>3.587581</td>\n",
       "      <td>3.587581</td>\n",
       "      <td>3.587581</td>\n",
       "      <td>3.587581</td>\n",
       "      <td>3.587581</td>\n",
       "      <td>3.587581</td>\n",
       "      <td>3.587581</td>\n",
       "      <td>3.587581</td>\n",
       "      <td>...</td>\n",
       "      <td>3.587581</td>\n",
       "      <td>3.587581</td>\n",
       "      <td>3.587581</td>\n",
       "      <td>3.587581</td>\n",
       "      <td>3</td>\n",
       "      <td>3.587581</td>\n",
       "      <td>3.587581</td>\n",
       "      <td>3.587581</td>\n",
       "      <td>3.587581</td>\n",
       "      <td>3.587581</td>\n",
       "    </tr>\n",
       "    <tr>\n",
       "      <th>1</th>\n",
       "      <td>3321</td>\n",
       "      <td>5</td>\n",
       "      <td>3.587581</td>\n",
       "      <td>3.587581</td>\n",
       "      <td>3.587581</td>\n",
       "      <td>3.587581</td>\n",
       "      <td>3.587581</td>\n",
       "      <td>3.587581</td>\n",
       "      <td>3.587581</td>\n",
       "      <td>3.587581</td>\n",
       "      <td>...</td>\n",
       "      <td>3.587581</td>\n",
       "      <td>3.587581</td>\n",
       "      <td>3.587581</td>\n",
       "      <td>3.587581</td>\n",
       "      <td>4</td>\n",
       "      <td>3.587581</td>\n",
       "      <td>3.587581</td>\n",
       "      <td>3.587581</td>\n",
       "      <td>3.587581</td>\n",
       "      <td>3.587581</td>\n",
       "    </tr>\n",
       "  </tbody>\n",
       "</table>\n",
       "<p>2 rows × 21 columns</p>\n",
       "</div>"
      ],
      "text/plain": [
       "      user  movie      GAvg      sur1      sur2      sur3      sur4      sur5  \\\n",
       "0  1129620      2  3.587581  3.587581  3.587581  3.587581  3.587581  3.587581   \n",
       "1     3321      5  3.587581  3.587581  3.587581  3.587581  3.587581  3.587581   \n",
       "\n",
       "       smr1      smr2  ...      smr4      smr5      UAvg      MAvg  rating  \\\n",
       "0  3.587581  3.587581  ...  3.587581  3.587581  3.587581  3.587581       3   \n",
       "1  3.587581  3.587581  ...  3.587581  3.587581  3.587581  3.587581       4   \n",
       "\n",
       "      bslpr  knn_bsl_u  knn_bsl_m       svd     svdpp  \n",
       "0  3.587581   3.587581   3.587581  3.587581  3.587581  \n",
       "1  3.587581   3.587581   3.587581  3.587581  3.587581  \n",
       "\n",
       "[2 rows x 21 columns]"
      ]
     },
     "execution_count": 52,
     "metadata": {},
     "output_type": "execute_result"
    }
   ],
   "source": [
    "reg_test_df['svd'] = models_evaluation_test['svd']['predictions']\n",
    "reg_test_df['svdpp'] = models_evaluation_test['svdpp']['predictions']\n",
    "\n",
    "reg_test_df.head(2) "
   ]
  },
  {
   "cell_type": "code",
   "execution_count": 53,
   "metadata": {},
   "outputs": [
    {
     "name": "stdout",
     "output_type": "stream",
     "text": [
      "Instance create XGBClassifier\n",
      "Fitting GridSearchCV\n",
      "Fitting 3 folds for each of 20 candidates, totalling 60 fits\n",
      "[CV] max_depth=3, n_estimators=2 .....................................\n"
     ]
    },
    {
     "name": "stderr",
     "output_type": "stream",
     "text": [
      "[Parallel(n_jobs=1)]: Using backend SequentialBackend with 1 concurrent workers.\n"
     ]
    },
    {
     "name": "stdout",
     "output_type": "stream",
     "text": [
      "[CV]  max_depth=3, n_estimators=2, MAPE=(train=-65.903, test=-65.866), RMSE=(train=-2.708, test=-2.709), total=   3.1s\n",
      "[CV] max_depth=3, n_estimators=2 .....................................\n"
     ]
    },
    {
     "name": "stderr",
     "output_type": "stream",
     "text": [
      "[Parallel(n_jobs=1)]: Done   1 out of   1 | elapsed:    3.4s remaining:    0.0s\n"
     ]
    },
    {
     "name": "stdout",
     "output_type": "stream",
     "text": [
      "[CV]  max_depth=3, n_estimators=2, MAPE=(train=-65.898, test=-65.673), RMSE=(train=-2.708, test=-2.705), total=   2.3s\n",
      "[CV] max_depth=3, n_estimators=2 .....................................\n"
     ]
    },
    {
     "name": "stderr",
     "output_type": "stream",
     "text": [
      "[Parallel(n_jobs=1)]: Done   2 out of   2 | elapsed:    6.1s remaining:    0.0s\n"
     ]
    },
    {
     "name": "stdout",
     "output_type": "stream",
     "text": [
      "[CV]  max_depth=3, n_estimators=2, MAPE=(train=-65.749, test=-65.923), RMSE=(train=-2.706, test=-2.705), total=   2.4s\n",
      "[CV] max_depth=3, n_estimators=3 .....................................\n",
      "[CV]  max_depth=3, n_estimators=3, MAPE=(train=-59.662, test=-59.647), RMSE=(train=-2.471, test=-2.472), total=   2.8s\n",
      "[CV] max_depth=3, n_estimators=3 .....................................\n",
      "[CV]  max_depth=3, n_estimators=3, MAPE=(train=-59.685, test=-59.462), RMSE=(train=-2.471, test=-2.468), total=   2.9s\n",
      "[CV] max_depth=3, n_estimators=3 .....................................\n",
      "[CV]  max_depth=3, n_estimators=3, MAPE=(train=-59.570, test=-59.674), RMSE=(train=-2.470, test=-2.468), total=   2.8s\n",
      "[CV] max_depth=3, n_estimators=5 .....................................\n",
      "[CV]  max_depth=3, n_estimators=5, MAPE=(train=-49.595, test=-49.583), RMSE=(train=-2.073, test=-2.075), total=   3.8s\n",
      "[CV] max_depth=3, n_estimators=5 .....................................\n",
      "[CV]  max_depth=3, n_estimators=5, MAPE=(train=-49.585, test=-49.465), RMSE=(train=-2.075, test=-2.070), total=   3.7s\n",
      "[CV] max_depth=3, n_estimators=5 .....................................\n",
      "[CV]  max_depth=3, n_estimators=5, MAPE=(train=-49.598, test=-49.534), RMSE=(train=-2.074, test=-2.071), total=   3.8s\n",
      "[CV] max_depth=3, n_estimators=10 ....................................\n",
      "[CV]  max_depth=3, n_estimators=10, MAPE=(train=-34.792, test=-35.075), RMSE=(train=-1.428, test=-1.435), total=   6.2s\n",
      "[CV] max_depth=3, n_estimators=10 ....................................\n",
      "[CV]  max_depth=3, n_estimators=10, MAPE=(train=-34.897, test=-34.834), RMSE=(train=-1.432, test=-1.425), total=   6.1s\n",
      "[CV] max_depth=3, n_estimators=10 ....................................\n",
      "[CV]  max_depth=3, n_estimators=10, MAPE=(train=-34.989, test=-34.696), RMSE=(train=-1.431, test=-1.427), total=   6.1s\n",
      "[CV] max_depth=3, n_estimators=20 ....................................\n",
      "[CV]  max_depth=3, n_estimators=20, MAPE=(train=-26.894, test=-27.512), RMSE=(train=-0.966, test=-0.982), total=  11.0s\n",
      "[CV] max_depth=3, n_estimators=20 ....................................\n",
      "[CV]  max_depth=3, n_estimators=20, MAPE=(train=-27.153, test=-27.165), RMSE=(train=-0.975, test=-0.965), total=  11.5s\n",
      "[CV] max_depth=3, n_estimators=20 ....................................\n",
      "[CV]  max_depth=3, n_estimators=20, MAPE=(train=-27.232, test=-26.727), RMSE=(train=-0.973, test=-0.968), total=  11.3s\n",
      "[CV] max_depth=5, n_estimators=2 .....................................\n",
      "[CV]  max_depth=5, n_estimators=2, MAPE=(train=-66.028, test=-65.826), RMSE=(train=-2.704, test=-2.700), total=   2.9s\n",
      "[CV] max_depth=5, n_estimators=2 .....................................\n",
      "[CV]  max_depth=5, n_estimators=2, MAPE=(train=-66.012, test=-65.811), RMSE=(train=-2.704, test=-2.700), total=   2.7s\n",
      "[CV] max_depth=5, n_estimators=2 .....................................\n",
      "[CV]  max_depth=5, n_estimators=2, MAPE=(train=-65.892, test=-66.126), RMSE=(train=-2.702, test=-2.705), total=   2.8s\n",
      "[CV] max_depth=5, n_estimators=3 .....................................\n",
      "[CV]  max_depth=5, n_estimators=3, MAPE=(train=-59.606, test=-59.496), RMSE=(train=-2.465, test=-2.463), total=   3.5s\n",
      "[CV] max_depth=5, n_estimators=3 .....................................\n",
      "[CV]  max_depth=5, n_estimators=3, MAPE=(train=-59.625, test=-59.380), RMSE=(train=-2.466, test=-2.460), total=   3.5s\n",
      "[CV] max_depth=5, n_estimators=3 .....................................\n",
      "[CV]  max_depth=5, n_estimators=3, MAPE=(train=-59.518, test=-59.689), RMSE=(train=-2.464, test=-2.464), total=   3.5s\n",
      "[CV] max_depth=5, n_estimators=5 .....................................\n",
      "[CV]  max_depth=5, n_estimators=5, MAPE=(train=-49.387, test=-49.325), RMSE=(train=-2.064, test=-2.064), total=   4.9s\n",
      "[CV] max_depth=5, n_estimators=5 .....................................\n",
      "[CV]  max_depth=5, n_estimators=5, MAPE=(train=-49.414, test=-49.255), RMSE=(train=-2.066, test=-2.059), total=   5.0s\n",
      "[CV] max_depth=5, n_estimators=5 .....................................\n",
      "[CV]  max_depth=5, n_estimators=5, MAPE=(train=-49.374, test=-49.371), RMSE=(train=-2.064, test=-2.064), total=   5.0s\n",
      "[CV] max_depth=5, n_estimators=10 ....................................\n",
      "[CV]  max_depth=5, n_estimators=10, MAPE=(train=-34.226, test=-34.500), RMSE=(train=-1.412, test=-1.418), total=   8.7s\n",
      "[CV] max_depth=5, n_estimators=10 ....................................\n",
      "[CV]  max_depth=5, n_estimators=10, MAPE=(train=-34.368, test=-34.230), RMSE=(train=-1.417, test=-1.408), total=   8.9s\n",
      "[CV] max_depth=5, n_estimators=10 ....................................\n",
      "[CV]  max_depth=5, n_estimators=10, MAPE=(train=-34.392, test=-34.202), RMSE=(train=-1.415, test=-1.413), total=   8.9s\n",
      "[CV] max_depth=5, n_estimators=20 ....................................\n",
      "[CV]  max_depth=5, n_estimators=20, MAPE=(train=-26.093, test=-26.771), RMSE=(train=-0.949, test=-0.966), total=  16.5s\n",
      "[CV] max_depth=5, n_estimators=20 ....................................\n",
      "[CV]  max_depth=5, n_estimators=20, MAPE=(train=-26.395, test=-26.307), RMSE=(train=-0.959, test=-0.946), total=  16.5s\n",
      "[CV] max_depth=5, n_estimators=20 ....................................\n",
      "[CV]  max_depth=5, n_estimators=20, MAPE=(train=-26.417, test=-26.058), RMSE=(train=-0.955, test=-0.953), total=  16.4s\n",
      "[CV] max_depth=10, n_estimators=2 ....................................\n",
      "[CV]  max_depth=10, n_estimators=2, MAPE=(train=-66.182, test=-66.002), RMSE=(train=-2.700, test=-2.698), total=   4.4s\n",
      "[CV] max_depth=10, n_estimators=2 ....................................\n",
      "[CV]  max_depth=10, n_estimators=2, MAPE=(train=-66.164, test=-65.955), RMSE=(train=-2.700, test=-2.698), total=   4.4s\n",
      "[CV] max_depth=10, n_estimators=2 ....................................\n",
      "[CV]  max_depth=10, n_estimators=2, MAPE=(train=-66.065, test=-66.271), RMSE=(train=-2.698, test=-2.703), total=   4.4s\n",
      "[CV] max_depth=10, n_estimators=3 ....................................\n",
      "[CV]  max_depth=10, n_estimators=3, MAPE=(train=-59.629, test=-59.551), RMSE=(train=-2.460, test=-2.459), total=   6.0s\n",
      "[CV] max_depth=10, n_estimators=3 ....................................\n",
      "[CV]  max_depth=10, n_estimators=3, MAPE=(train=-59.645, test=-59.434), RMSE=(train=-2.460, test=-2.456), total=   6.0s\n",
      "[CV] max_depth=10, n_estimators=3 ....................................\n",
      "[CV]  max_depth=10, n_estimators=3, MAPE=(train=-59.534, test=-59.759), RMSE=(train=-2.458, test=-2.462), total=   6.0s\n",
      "[CV] max_depth=10, n_estimators=5 ....................................\n",
      "[CV]  max_depth=10, n_estimators=5, MAPE=(train=-49.134, test=-49.206), RMSE=(train=-2.055, test=-2.059), total=   9.1s\n",
      "[CV] max_depth=10, n_estimators=5 ....................................\n",
      "[CV]  max_depth=10, n_estimators=5, MAPE=(train=-49.165, test=-49.078), RMSE=(train=-2.057, test=-2.052), total=   9.1s\n",
      "[CV] max_depth=10, n_estimators=5 ....................................\n",
      "[CV]  max_depth=10, n_estimators=5, MAPE=(train=-49.111, test=-49.282), RMSE=(train=-2.055, test=-2.059), total=   9.2s\n",
      "[CV] max_depth=10, n_estimators=10 ...................................\n",
      "[CV]  max_depth=10, n_estimators=10, MAPE=(train=-33.487, test=-34.065), RMSE=(train=-1.394, test=-1.409), total=  17.2s\n",
      "[CV] max_depth=10, n_estimators=10 ...................................\n",
      "[CV]  max_depth=10, n_estimators=10, MAPE=(train=-33.617, test=-33.718), RMSE=(train=-1.399, test=-1.395), total=  17.4s\n",
      "[CV] max_depth=10, n_estimators=10 ...................................\n",
      "[CV]  max_depth=10, n_estimators=10, MAPE=(train=-33.617, test=-33.803), RMSE=(train=-1.397, test=-1.404), total=  17.2s\n",
      "[CV] max_depth=10, n_estimators=20 ...................................\n",
      "[CV]  max_depth=10, n_estimators=20, MAPE=(train=-24.878, test=-26.223), RMSE=(train=-0.921, test=-0.958), total=  33.6s\n",
      "[CV] max_depth=10, n_estimators=20 ...................................\n",
      "[CV]  max_depth=10, n_estimators=20, MAPE=(train=-25.168, test=-25.687), RMSE=(train=-0.931, test=-0.936), total=  33.7s\n",
      "[CV] max_depth=10, n_estimators=20 ...................................\n",
      "[CV]  max_depth=10, n_estimators=20, MAPE=(train=-25.164, test=-25.563), RMSE=(train=-0.926, test=-0.946), total=  33.9s\n",
      "[CV] max_depth=20, n_estimators=2 ....................................\n"
     ]
    },
    {
     "name": "stdout",
     "output_type": "stream",
     "text": [
      "[CV]  max_depth=20, n_estimators=2, MAPE=(train=-66.763, test=-66.357), RMSE=(train=-2.697, test=-2.703), total=   8.0s\n",
      "[CV] max_depth=20, n_estimators=2 ....................................\n",
      "[CV]  max_depth=20, n_estimators=2, MAPE=(train=-66.738, test=-66.296), RMSE=(train=-2.697, test=-2.702), total=   8.1s\n",
      "[CV] max_depth=20, n_estimators=2 ....................................\n",
      "[CV]  max_depth=20, n_estimators=2, MAPE=(train=-66.672, test=-66.616), RMSE=(train=-2.694, test=-2.707), total=   8.2s\n",
      "[CV] max_depth=20, n_estimators=3 ....................................\n",
      "[CV]  max_depth=20, n_estimators=3, MAPE=(train=-59.989, test=-59.962), RMSE=(train=-2.453, test=-2.466), total=  11.6s\n",
      "[CV] max_depth=20, n_estimators=3 ....................................\n",
      "[CV]  max_depth=20, n_estimators=3, MAPE=(train=-59.970, test=-59.833), RMSE=(train=-2.453, test=-2.463), total=  11.7s\n",
      "[CV] max_depth=20, n_estimators=3 ....................................\n",
      "[CV]  max_depth=20, n_estimators=3, MAPE=(train=-59.908, test=-60.159), RMSE=(train=-2.451, test=-2.470), total=  11.6s\n",
      "[CV] max_depth=20, n_estimators=5 ....................................\n",
      "[CV]  max_depth=20, n_estimators=5, MAPE=(train=-48.638, test=-49.613), RMSE=(train=-2.039, test=-2.073), total=  19.2s\n",
      "[CV] max_depth=20, n_estimators=5 ....................................\n",
      "[CV]  max_depth=20, n_estimators=5, MAPE=(train=-48.634, test=-49.416), RMSE=(train=-2.040, test=-2.064), total=  19.2s\n",
      "[CV] max_depth=20, n_estimators=5 ....................................\n",
      "[CV]  max_depth=20, n_estimators=5, MAPE=(train=-48.587, test=-49.698), RMSE=(train=-2.037, test=-2.074), total=  19.3s\n",
      "[CV] max_depth=20, n_estimators=10 ...................................\n",
      "[CV]  max_depth=20, n_estimators=10, MAPE=(train=-29.972, test=-34.553), RMSE=(train=-1.325, test=-1.441), total=  39.0s\n",
      "[CV] max_depth=20, n_estimators=10 ...................................\n",
      "[CV]  max_depth=20, n_estimators=10, MAPE=(train=-30.032, test=-34.090), RMSE=(train=-1.328, test=-1.421), total=  39.2s\n",
      "[CV] max_depth=20, n_estimators=10 ...................................\n",
      "[CV]  max_depth=20, n_estimators=10, MAPE=(train=-29.971, test=-34.346), RMSE=(train=-1.325, test=-1.438), total=  39.2s\n",
      "[CV] max_depth=20, n_estimators=20 ...................................\n",
      "[CV]  max_depth=20, n_estimators=20, MAPE=(train=-14.841, test=-26.537), RMSE=(train=-0.667, test=-0.996), total= 1.3min\n",
      "[CV] max_depth=20, n_estimators=20 ...................................\n",
      "[CV]  max_depth=20, n_estimators=20, MAPE=(train=-14.969, test=-25.932), RMSE=(train=-0.672, test=-0.968), total= 1.3min\n",
      "[CV] max_depth=20, n_estimators=20 ...................................\n",
      "[CV]  max_depth=20, n_estimators=20, MAPE=(train=-14.902, test=-25.983), RMSE=(train=-0.667, test=-0.988), total= 1.4min\n"
     ]
    },
    {
     "name": "stderr",
     "output_type": "stream",
     "text": [
      "[Parallel(n_jobs=1)]: Done  60 out of  60 | elapsed: 15.5min finished\n"
     ]
    },
    {
     "data": {
      "image/png": "[encoded data removed]",
      "text/plain": [
       "<Figure size 432x288 with 4 Axes>"
      ]
     },
     "metadata": {
      "needs_background": "light"
     },
     "output_type": "display_data"
    },
    {
     "data": {
      "image/png": "[encoded data removed]",
      "text/plain": [
       "<Figure size 432x288 with 4 Axes>"
      ]
     },
     "metadata": {
      "needs_background": "light"
     },
     "output_type": "display_data"
    }
   ],
   "source": [
    "# prepare the train data....\n",
    "x_train = reg_train.drop(['user', 'movie', 'rating'], axis=1)\n",
    "y_train = reg_train['rating']\n",
    "\n",
    "# prepare the train data....\n",
    "x_test = reg_test_df.drop(['user','movie','rating'], axis=1)\n",
    "y_test = reg_test_df['rating']\n",
    "\n",
    "# hyperparams the model\n",
    "parameter = {'n_estimators':[2, 3, 5, 10, 20], 'max_depth':[3, 5, 10, 20]}\n",
    "mape_loss = make_scorer(mape_fn, greater_is_better=False)\n",
    "scoring = {'RMSE': 'neg_root_mean_squared_error', 'MAPE': mape_loss}\n",
    "hype_xgboost(x_train,y_train,parameter,scoring,['RMSE','MAPE'])"
   ]
  },
  {
   "cell_type": "code",
   "execution_count": 54,
   "metadata": {},
   "outputs": [
    {
     "name": "stdout",
     "output_type": "stream",
     "text": [
      "[10:30:47] WARNING: C:/Jenkins/workspace/xgboost-win64_release_0.90/src/objective/regression_obj.cu:152: reg:linear is now deprecated in favor of reg:squarederror.\n",
      "Evaluating Test data\n",
      "\n",
      "TEST DATA\n",
      "------------------------------\n",
      "RMSE :  1.2283071695461987\n",
      "MAPE :  32.08287519588911\n"
     ]
    },
    {
     "data": {
      "image/png": "[encoded data removed]",
      "text/plain": [
       "<Figure size 432x288 with 1 Axes>"
      ]
     },
     "metadata": {
      "needs_background": "light"
     },
     "output_type": "display_data"
    }
   ],
   "source": [
    "# With best rmse: n_estimator=20, max_depth=10\n",
    "# With best mape, n_estimator=20, max_depth=20\n",
    "\n",
    "first_xgb, train_results, test_results = train_xgboost(n_est=20, max_dep=10, xtrain=x_train, ytrain=y_train, xtest=x_test, ytest=y_test)\n",
    "# store the results in models_evaluations dictionaries\n",
    "models_evaluation_train['xgb_final'] = train_results\n",
    "models_evaluation_test['xgb_final'] = test_results\n",
    "\n",
    "xgboost.plot_importance(first_xgb)\n",
    "plt.show()"
   ]
  },
  {
   "cell_type": "markdown",
   "metadata": {},
   "source": [
    "<h3> 4.4.8 XgBoost with Surprise Baseline + Surprise KNNbaseline + MF Techniques </h3>"
   ]
  },
  {
   "cell_type": "code",
   "execution_count": 55,
   "metadata": {},
   "outputs": [
    {
     "name": "stdout",
     "output_type": "stream",
     "text": [
      "Instance create XGBClassifier\n",
      "Fitting GridSearchCV\n",
      "Fitting 3 folds for each of 20 candidates, totalling 60 fits\n",
      "[CV] max_depth=3, n_estimators=2 .....................................\n"
     ]
    },
    {
     "name": "stderr",
     "output_type": "stream",
     "text": [
      "[Parallel(n_jobs=1)]: Using backend SequentialBackend with 1 concurrent workers.\n"
     ]
    },
    {
     "name": "stdout",
     "output_type": "stream",
     "text": [
      "[CV]  max_depth=3, n_estimators=2, MAPE=(train=-65.688, test=-65.538), RMSE=(train=-2.726, test=-2.721), total=   1.0s\n",
      "[CV] max_depth=3, n_estimators=2 .....................................\n"
     ]
    },
    {
     "name": "stderr",
     "output_type": "stream",
     "text": [
      "[Parallel(n_jobs=1)]: Done   1 out of   1 | elapsed:    1.1s remaining:    0.0s\n"
     ]
    },
    {
     "name": "stdout",
     "output_type": "stream",
     "text": [
      "[CV]  max_depth=3, n_estimators=2, MAPE=(train=-65.712, test=-65.499), RMSE=(train=-2.724, test=-2.725), total=   1.1s\n",
      "[CV] max_depth=3, n_estimators=2 .....................................\n"
     ]
    },
    {
     "name": "stderr",
     "output_type": "stream",
     "text": [
      "[Parallel(n_jobs=1)]: Done   2 out of   2 | elapsed:    2.3s remaining:    0.0s\n"
     ]
    },
    {
     "name": "stdout",
     "output_type": "stream",
     "text": [
      "[CV]  max_depth=3, n_estimators=2, MAPE=(train=-65.552, test=-65.915), RMSE=(train=-2.725, test=-2.729), total=   1.0s\n",
      "[CV] max_depth=3, n_estimators=3 .....................................\n",
      "[CV]  max_depth=3, n_estimators=3, MAPE=(train=-59.884, test=-59.759), RMSE=(train=-2.498, test=-2.494), total=   1.3s\n",
      "[CV] max_depth=3, n_estimators=3 .....................................\n",
      "[CV]  max_depth=3, n_estimators=3, MAPE=(train=-59.889, test=-59.763), RMSE=(train=-2.497, test=-2.498), total=   1.4s\n",
      "[CV] max_depth=3, n_estimators=3 .....................................\n",
      "[CV]  max_depth=3, n_estimators=3, MAPE=(train=-59.808, test=-60.062), RMSE=(train=-2.498, test=-2.501), total=   1.2s\n",
      "[CV] max_depth=3, n_estimators=5 .....................................\n",
      "[CV]  max_depth=3, n_estimators=5, MAPE=(train=-49.960, test=-49.878), RMSE=(train=-2.121, test=-2.117), total=   1.8s\n",
      "[CV] max_depth=3, n_estimators=5 .....................................\n",
      "[CV]  max_depth=3, n_estimators=5, MAPE=(train=-49.931, test=-49.954), RMSE=(train=-2.118, test=-2.122), total=   1.8s\n",
      "[CV] max_depth=3, n_estimators=5 .....................................\n",
      "[CV]  max_depth=3, n_estimators=5, MAPE=(train=-49.987, test=-50.050), RMSE=(train=-2.122, test=-2.122), total=   1.7s\n",
      "[CV] max_depth=3, n_estimators=10 ....................................\n",
      "[CV]  max_depth=3, n_estimators=10, MAPE=(train=-37.918, test=-38.027), RMSE=(train=-1.526, test=-1.525), total=   3.0s\n",
      "[CV] max_depth=3, n_estimators=10 ....................................\n",
      "[CV]  max_depth=3, n_estimators=10, MAPE=(train=-37.827, test=-38.225), RMSE=(train=-1.523, test=-1.531), total=   2.9s\n",
      "[CV] max_depth=3, n_estimators=10 ....................................\n",
      "[CV]  max_depth=3, n_estimators=10, MAPE=(train=-38.186, test=-37.692), RMSE=(train=-1.531, test=-1.525), total=   2.9s\n",
      "[CV] max_depth=3, n_estimators=20 ....................................\n",
      "[CV]  max_depth=3, n_estimators=20, MAPE=(train=-33.021, test=-33.379), RMSE=(train=-1.143, test=-1.148), total=   5.1s\n",
      "[CV] max_depth=3, n_estimators=20 ....................................\n",
      "[CV]  max_depth=3, n_estimators=20, MAPE=(train=-32.868, test=-33.674), RMSE=(train=-1.140, test=-1.155), total=   5.2s\n",
      "[CV] max_depth=3, n_estimators=20 ....................................\n",
      "[CV]  max_depth=3, n_estimators=20, MAPE=(train=-33.475, test=-32.335), RMSE=(train=-1.153, test=-1.135), total=   5.1s\n",
      "[CV] max_depth=5, n_estimators=2 .....................................\n",
      "[CV]  max_depth=5, n_estimators=2, MAPE=(train=-65.688, test=-65.538), RMSE=(train=-2.726, test=-2.721), total=   1.3s\n",
      "[CV] max_depth=5, n_estimators=2 .....................................\n",
      "[CV]  max_depth=5, n_estimators=2, MAPE=(train=-65.712, test=-65.499), RMSE=(train=-2.724, test=-2.725), total=   1.3s\n",
      "[CV] max_depth=5, n_estimators=2 .....................................\n",
      "[CV]  max_depth=5, n_estimators=2, MAPE=(train=-65.552, test=-65.915), RMSE=(train=-2.725, test=-2.729), total=   1.1s\n",
      "[CV] max_depth=5, n_estimators=3 .....................................\n",
      "[CV]  max_depth=5, n_estimators=3, MAPE=(train=-59.883, test=-59.759), RMSE=(train=-2.498, test=-2.494), total=   1.7s\n",
      "[CV] max_depth=5, n_estimators=3 .....................................\n",
      "[CV]  max_depth=5, n_estimators=3, MAPE=(train=-59.888, test=-59.763), RMSE=(train=-2.497, test=-2.498), total=   1.7s\n",
      "[CV] max_depth=5, n_estimators=3 .....................................\n",
      "[CV]  max_depth=5, n_estimators=3, MAPE=(train=-59.808, test=-60.060), RMSE=(train=-2.498, test=-2.501), total=   1.4s\n",
      "[CV] max_depth=5, n_estimators=5 .....................................\n",
      "[CV]  max_depth=5, n_estimators=5, MAPE=(train=-49.959, test=-49.878), RMSE=(train=-2.121, test=-2.117), total=   2.3s\n",
      "[CV] max_depth=5, n_estimators=5 .....................................\n",
      "[CV]  max_depth=5, n_estimators=5, MAPE=(train=-49.930, test=-49.953), RMSE=(train=-2.118, test=-2.122), total=   2.3s\n",
      "[CV] max_depth=5, n_estimators=5 .....................................\n",
      "[CV]  max_depth=5, n_estimators=5, MAPE=(train=-49.987, test=-50.051), RMSE=(train=-2.122, test=-2.123), total=   2.0s\n",
      "[CV] max_depth=5, n_estimators=10 ....................................\n",
      "[CV]  max_depth=5, n_estimators=10, MAPE=(train=-37.913, test=-38.027), RMSE=(train=-1.526, test=-1.525), total=   4.1s\n",
      "[CV] max_depth=5, n_estimators=10 ....................................\n",
      "[CV]  max_depth=5, n_estimators=10, MAPE=(train=-37.822, test=-38.225), RMSE=(train=-1.523, test=-1.531), total=   4.1s\n",
      "[CV] max_depth=5, n_estimators=10 ....................................\n",
      "[CV]  max_depth=5, n_estimators=10, MAPE=(train=-38.182, test=-37.689), RMSE=(train=-1.531, test=-1.525), total=   3.8s\n",
      "[CV] max_depth=5, n_estimators=20 ....................................\n",
      "[CV]  max_depth=5, n_estimators=20, MAPE=(train=-33.009, test=-33.379), RMSE=(train=-1.143, test=-1.148), total=   7.6s\n",
      "[CV] max_depth=5, n_estimators=20 ....................................\n",
      "[CV]  max_depth=5, n_estimators=20, MAPE=(train=-32.854, test=-33.674), RMSE=(train=-1.140, test=-1.155), total=   7.7s\n",
      "[CV] max_depth=5, n_estimators=20 ....................................\n",
      "[CV]  max_depth=5, n_estimators=20, MAPE=(train=-33.464, test=-32.338), RMSE=(train=-1.153, test=-1.135), total=   7.3s\n",
      "[CV] max_depth=10, n_estimators=2 ....................................\n",
      "[CV]  max_depth=10, n_estimators=2, MAPE=(train=-65.689, test=-65.539), RMSE=(train=-2.726, test=-2.721), total=   1.7s\n",
      "[CV] max_depth=10, n_estimators=2 ....................................\n",
      "[CV]  max_depth=10, n_estimators=2, MAPE=(train=-65.713, test=-65.499), RMSE=(train=-2.724, test=-2.725), total=   1.9s\n",
      "[CV] max_depth=10, n_estimators=2 ....................................\n",
      "[CV]  max_depth=10, n_estimators=2, MAPE=(train=-65.552, test=-65.916), RMSE=(train=-2.725, test=-2.729), total=   1.3s\n",
      "[CV] max_depth=10, n_estimators=3 ....................................\n",
      "[CV]  max_depth=10, n_estimators=3, MAPE=(train=-59.882, test=-59.759), RMSE=(train=-2.498, test=-2.494), total=   2.3s\n",
      "[CV] max_depth=10, n_estimators=3 ....................................\n",
      "[CV]  max_depth=10, n_estimators=3, MAPE=(train=-59.886, test=-59.763), RMSE=(train=-2.496, test=-2.498), total=   2.4s\n",
      "[CV] max_depth=10, n_estimators=3 ....................................\n",
      "[CV]  max_depth=10, n_estimators=3, MAPE=(train=-59.808, test=-60.063), RMSE=(train=-2.498, test=-2.501), total=   1.7s\n",
      "[CV] max_depth=10, n_estimators=5 ....................................\n",
      "[CV]  max_depth=10, n_estimators=5, MAPE=(train=-49.954, test=-49.880), RMSE=(train=-2.120, test=-2.117), total=   3.5s\n",
      "[CV] max_depth=10, n_estimators=5 ....................................\n",
      "[CV]  max_depth=10, n_estimators=5, MAPE=(train=-49.924, test=-49.955), RMSE=(train=-2.118, test=-2.122), total=   3.8s\n",
      "[CV] max_depth=10, n_estimators=5 ....................................\n",
      "[CV]  max_depth=10, n_estimators=5, MAPE=(train=-49.984, test=-50.054), RMSE=(train=-2.122, test=-2.123), total=   3.1s\n",
      "[CV] max_depth=10, n_estimators=10 ...................................\n",
      "[CV]  max_depth=10, n_estimators=10, MAPE=(train=-37.883, test=-38.030), RMSE=(train=-1.525, test=-1.525), total=   6.9s\n",
      "[CV] max_depth=10, n_estimators=10 ...................................\n",
      "[CV]  max_depth=10, n_estimators=10, MAPE=(train=-37.782, test=-38.227), RMSE=(train=-1.522, test=-1.531), total=   7.2s\n",
      "[CV] max_depth=10, n_estimators=10 ...................................\n",
      "[CV]  max_depth=10, n_estimators=10, MAPE=(train=-38.149, test=-37.694), RMSE=(train=-1.530, test=-1.525), total=   6.5s\n",
      "[CV] max_depth=10, n_estimators=20 ...................................\n",
      "[CV]  max_depth=10, n_estimators=20, MAPE=(train=-32.924, test=-33.381), RMSE=(train=-1.141, test=-1.148), total=  13.8s\n",
      "[CV] max_depth=10, n_estimators=20 ...................................\n",
      "[CV]  max_depth=10, n_estimators=20, MAPE=(train=-32.751, test=-33.677), RMSE=(train=-1.137, test=-1.155), total=  14.3s\n",
      "[CV] max_depth=10, n_estimators=20 ...................................\n",
      "[CV]  max_depth=10, n_estimators=20, MAPE=(train=-33.372, test=-32.336), RMSE=(train=-1.151, test=-1.135), total=  13.4s\n",
      "[CV] max_depth=20, n_estimators=2 ....................................\n"
     ]
    },
    {
     "name": "stdout",
     "output_type": "stream",
     "text": [
      "[CV]  max_depth=20, n_estimators=2, MAPE=(train=-65.689, test=-65.539), RMSE=(train=-2.726, test=-2.721), total=   2.0s\n",
      "[CV] max_depth=20, n_estimators=2 ....................................\n",
      "[CV]  max_depth=20, n_estimators=2, MAPE=(train=-65.714, test=-65.500), RMSE=(train=-2.724, test=-2.725), total=   2.5s\n",
      "[CV] max_depth=20, n_estimators=2 ....................................\n",
      "[CV]  max_depth=20, n_estimators=2, MAPE=(train=-65.552, test=-65.916), RMSE=(train=-2.725, test=-2.729), total=   1.3s\n",
      "[CV] max_depth=20, n_estimators=3 ....................................\n",
      "[CV]  max_depth=20, n_estimators=3, MAPE=(train=-59.881, test=-59.760), RMSE=(train=-2.498, test=-2.494), total=   3.0s\n",
      "[CV] max_depth=20, n_estimators=3 ....................................\n",
      "[CV]  max_depth=20, n_estimators=3, MAPE=(train=-59.883, test=-59.764), RMSE=(train=-2.496, test=-2.498), total=   3.6s\n",
      "[CV] max_depth=20, n_estimators=3 ....................................\n",
      "[CV]  max_depth=20, n_estimators=3, MAPE=(train=-59.804, test=-60.065), RMSE=(train=-2.498, test=-2.501), total=   2.1s\n",
      "[CV] max_depth=20, n_estimators=5 ....................................\n",
      "[CV]  max_depth=20, n_estimators=5, MAPE=(train=-49.934, test=-49.888), RMSE=(train=-2.120, test=-2.117), total=   5.4s\n",
      "[CV] max_depth=20, n_estimators=5 ....................................\n",
      "[CV]  max_depth=20, n_estimators=5, MAPE=(train=-49.910, test=-49.959), RMSE=(train=-2.118, test=-2.122), total=   6.4s\n",
      "[CV] max_depth=20, n_estimators=5 ....................................\n",
      "[CV]  max_depth=20, n_estimators=5, MAPE=(train=-49.969, test=-50.061), RMSE=(train=-2.122, test=-2.123), total=   4.6s\n",
      "[CV] max_depth=20, n_estimators=10 ...................................\n",
      "[CV]  max_depth=20, n_estimators=10, MAPE=(train=-37.718, test=-38.041), RMSE=(train=-1.522, test=-1.526), total=  12.2s\n",
      "[CV] max_depth=20, n_estimators=10 ...................................\n",
      "[CV]  max_depth=20, n_estimators=10, MAPE=(train=-37.573, test=-38.239), RMSE=(train=-1.518, test=-1.532), total=  13.3s\n",
      "[CV] max_depth=20, n_estimators=10 ...................................\n",
      "[CV]  max_depth=20, n_estimators=10, MAPE=(train=-37.978, test=-37.711), RMSE=(train=-1.527, test=-1.526), total=  11.4s\n",
      "[CV] max_depth=20, n_estimators=20 ...................................\n",
      "[CV]  max_depth=20, n_estimators=20, MAPE=(train=-32.570, test=-33.391), RMSE=(train=-1.133, test=-1.149), total=  25.7s\n",
      "[CV] max_depth=20, n_estimators=20 ...................................\n",
      "[CV]  max_depth=20, n_estimators=20, MAPE=(train=-32.228, test=-33.680), RMSE=(train=-1.124, test=-1.156), total=  26.9s\n",
      "[CV] max_depth=20, n_estimators=20 ...................................\n",
      "[CV]  max_depth=20, n_estimators=20, MAPE=(train=-32.685, test=-32.351), RMSE=(train=-1.134, test=-1.138), total=  25.5s\n"
     ]
    },
    {
     "name": "stderr",
     "output_type": "stream",
     "text": [
      "[Parallel(n_jobs=1)]: Done  60 out of  60 | elapsed:  5.5min finished\n"
     ]
    },
    {
     "data": {
      "image/png": "[encoded data removed]",
      "text/plain": [
       "<Figure size 432x288 with 4 Axes>"
      ]
     },
     "metadata": {
      "needs_background": "light"
     },
     "output_type": "display_data"
    },
    {
     "data": {
      "image/png": "[encoded data removed]",
      "text/plain": [
       "<Figure size 432x288 with 4 Axes>"
      ]
     },
     "metadata": {
      "needs_background": "light"
     },
     "output_type": "display_data"
    }
   ],
   "source": [
    "# prepare the train data....\n",
    "x_train = reg_train[['knn_bsl_u', 'knn_bsl_m', 'svd', 'svdpp']]\n",
    "y_train = reg_train['rating']\n",
    "\n",
    "# test data\n",
    "x_test = reg_test_df[['knn_bsl_u', 'knn_bsl_m', 'svd', 'svdpp']]\n",
    "y_test = reg_test_df['rating']\n",
    "\n",
    "# hyperparams the model\n",
    "parameter = {'n_estimators':[2, 3, 5, 10, 20], 'max_depth':[3, 5, 10, 20]}\n",
    "mape_loss = make_scorer(mape_fn, greater_is_better=False)\n",
    "scoring = {'RMSE': 'neg_root_mean_squared_error', 'MAPE': mape_loss}\n",
    "hype_xgboost(x_train,y_train,parameter,scoring,['RMSE','MAPE'])"
   ]
  },
  {
   "cell_type": "code",
   "execution_count": 56,
   "metadata": {},
   "outputs": [
    {
     "name": "stdout",
     "output_type": "stream",
     "text": [
      "[10:39:08] WARNING: C:/Jenkins/workspace/xgboost-win64_release_0.90/src/objective/regression_obj.cu:152: reg:linear is now deprecated in favor of reg:squarederror.\n",
      "Evaluating Test data\n",
      "\n",
      "TEST DATA\n",
      "------------------------------\n",
      "RMSE :  1.1795881217050705\n",
      "MAPE :  32.765142561760044\n"
     ]
    },
    {
     "data": {
      "image/png": "[encoded data removed]",
      "text/plain": [
       "<Figure size 432x288 with 1 Axes>"
      ]
     },
     "metadata": {
      "needs_background": "light"
     },
     "output_type": "display_data"
    }
   ],
   "source": [
    "# With best rmse: n_estimator=20, max_depth=10\n",
    "# With best mape, n_estimator=20, max_depth=20\n",
    "\n",
    "first_xgb, train_results, test_results = train_xgboost(n_est=20, max_dep=10, xtrain=x_train, ytrain=y_train, xtest=x_test, ytest=y_test)\n",
    "# store the results in models_evaluations dictionaries\n",
    "models_evaluation_train['xgb_all_models'] = train_results\n",
    "models_evaluation_test['xgb_all_models'] = test_results\n",
    "\n",
    "xgboost.plot_importance(first_xgb)\n",
    "plt.show()"
   ]
  },
  {
   "cell_type": "markdown",
   "metadata": {},
   "source": [
    "<h2> 4.5 Comparision between all models </h2>"
   ]
  },
  {
   "cell_type": "code",
   "execution_count": 57,
   "metadata": {},
   "outputs": [
    {
     "data": {
      "text/plain": [
       "svd                1.081821397995262\n",
       "knn_bsl_u         1.0818615549831905\n",
       "knn_bsl_m          1.082024048595736\n",
       "svdpp             1.0830215192566328\n",
       "bsl_algo          1.0867846031800645\n",
       "xgb_all_models    1.1795881217050705\n",
       "xgb_knn_bsl       1.2049467453902432\n",
       "xgb_final         1.2283071695461987\n",
       "first_algo        1.2545561013662423\n",
       "xgb_bsl           1.2545561013662423\n",
       "Name: rmse, dtype: object"
      ]
     },
     "execution_count": 57,
     "metadata": {},
     "output_type": "execute_result"
    }
   ],
   "source": [
    "# Saving our TEST_RESULTS into a dataframe so that you don't have to run it again\n",
    "pd.DataFrame(models_evaluation_test).to_csv('results.csv')\n",
    "models = pd.read_csv('results.csv', index_col=0)\n",
    "models.loc['rmse'].sort_values()"
   ]
  },
  {
   "cell_type": "markdown",
   "metadata": {},
   "source": [
    "# Conclusion"
   ]
  },
  {
   "cell_type": "markdown",
   "metadata": {},
   "source": [
    "1. Merging all data into one csv file (movie, user, rating, date)\n",
    "2. Arrange the data according to date\n",
    "3. Checking for missing values\n",
    "4. Remove duplicates data (if present)\n",
    "5. Basic Stats like<br>\n",
    "    a. number of ratings<br>\n",
    "    b. number of users<br>\n",
    "    c. number of movies\n",
    "6. Split data into train and test data (ratio 80:20)\n",
    "7. Basic Stats (point number-5) for train and test\n",
    "8. EDA on train data<br>\n",
    "    a. Distribution of rating<br>\n",
    "    b. Add new column(weekday) as per date and plot number of ratings per month<br>\n",
    "    c. Analysis and describeon - rating given by user<br>\n",
    "    d. Analysis and describeon - rating of movie given by user<br>\n",
    "    e. Distribution and boxplot on 'number of ratings on rach day of the week'\n",
    "9. Creating sparse matrix from dataframe\n",
    "    a. Create sparse matrix as row(number of users) and column(number of movies) for train and test data<br>\n",
    "    b. Calculate sparsity of a matrix for train and test data\n",
    "10. finding Basic Stats (point number-5) for train data\n",
    "11. PDF and CDF of average rating if users and movies (in train data)\n",
    "12. Cold start problem with users and movies\n",
    "13. Computing Similarity matrix\n",
    "    a. Computing user-user similarity using cisine similarity<br>\n",
    "    b. using dimension reduction (truncated SVD) for user vector and plot and observation on \"gain of variance explained and latent factor)<br>\n",
    "    c. compute user-user similarity from truncated SVD train data<br>\n",
    "    d. compute movie-movie similarity\n",
    "14. Storing movie's id and finding their top similar movie for each movie id's\n",
    "15. From total train and test data, build sample data of 25K users and 3K movies\n",
    "16. Finding Basic Stats (point number-5) from sampled train\n",
    "17. Featurize sampled train and test data independently\n",
    "18. Applying ML models (With plotting importance features also)"
   ]
  },
  {
   "cell_type": "code",
   "execution_count": 1,
   "metadata": {},
   "outputs": [],
   "source": [
    "from prettytable import PrettyTable"
   ]
  },
  {
   "cell_type": "code",
   "execution_count": 3,
   "metadata": {},
   "outputs": [
    {
     "name": "stdout",
     "output_type": "stream",
     "text": [
      "+-----------------------+------------------------------------------------------------------------+-----------+-----------+\n",
      "|         Model         |                                Feature                                 | Test RMSE | Test MAPE |\n",
      "+-----------------------+------------------------------------------------------------------------+-----------+-----------+\n",
      "|        XGBoost        |                              13 features                               |   1.254   |   31.854  |\n",
      "| Surprise BaselineOnly |                              13 features                               |   1.087   |   34.394  |\n",
      "|        XGBoost        |                    13 features + Baseline Predictor                    |   1.254   |   31.854  |\n",
      "|  Surprise KNNBaseline |            13 features + Baseline Predictor [user sim only]            |   1.082   |   34.03   |\n",
      "|  Surprise KNNBaseline |           13 features + Baseline Predictor [movie sim only]            |    1.82   |   34.033  |\n",
      "|        XGBoost        |        13 features + Baseline Predictor + KNNBaseline Predictor        |   1.205   |   32.282  |\n",
      "|          SVD          |        13 features + Baseline Predictor + KNNBaseline Predictor        |   1.082   |   33.997  |\n",
      "|         SVDpp         |        13 features + Baseline Predictor + KNNBaseline Predictor        |   1.083   |   33.958  |\n",
      "|        XGBoost        | 13 features + Baseline Predictor + KNNBaseline Predictor + SVD + SVDpp |   1.228   |   32.08   |\n",
      "|        XGBoost        |        Surprise Baseline Predictor + KNNBasline Predictor + MF         |   1.179   |   32.765  |\n",
      "+-----------------------+------------------------------------------------------------------------+-----------+-----------+\n"
     ]
    }
   ],
   "source": [
    "x = PrettyTable()\n",
    "x.field_names = [\"Model\", \"Feature\", \"Test RMSE\", \"Test MAPE\"]\n",
    "x.add_row(['XGBoost','13 features',1.254,31.854])\n",
    "x.add_row(['Surprise BaselineOnly','13 features',1.087,34.394])\n",
    "x.add_row(['XGBoost','13 features + Baseline Predictor',1.254,31.854])\n",
    "x.add_row(['Surprise KNNBaseline','13 features + Baseline Predictor [user sim only]',1.082,34.030])\n",
    "x.add_row(['Surprise KNNBaseline','13 features + Baseline Predictor [movie sim only]',1.82,34.033])\n",
    "x.add_row(['XGBoost','13 features + Baseline Predictor + KNNBaseline Predictor',1.205,32.282])\n",
    "x.add_row(['SVD','13 features + Baseline Predictor + KNNBaseline Predictor',1.082,33.997])\n",
    "x.add_row(['SVDpp','13 features + Baseline Predictor + KNNBaseline Predictor',1.083,33.958])\n",
    "x.add_row(['XGBoost','13 features + Baseline Predictor + KNNBaseline Predictor + SVD + SVDpp',1.228,32.08])\n",
    "x.add_row(['XGBoost','Surprise Baseline Predictor + KNNBasline Predictor + MF',1.179,32.765])\n",
    "print(x)"
   ]
  },
  {
   "cell_type": "code",
   "execution_count": null,
   "metadata": {},
   "outputs": [],
   "source": []
  }
 ],
 "metadata": {
  "colab": {
   "authorship_tag": "ABX9TyOQc4BX5puRAlE0QeMLSoMJ",
   "collapsed_sections": [],
   "machine_shape": "hm",
   "name": "NetFlix Prize.ipynb",
   "provenance": []
  },
  "kernelspec": {
   "display_name": "Python 3",
   "language": "python",
   "name": "python3"
  },
  "language_info": {
   "codemirror_mode": {
    "name": "ipython",
    "version": 3
   },
   "file_extension": ".py",
   "mimetype": "text/x-python",
   "name": "python",
   "nbconvert_exporter": "python",
   "pygments_lexer": "ipython3",
   "version": "3.6.8"
  }
 },
 "nbformat": 4,
 "nbformat_minor": 1
}
