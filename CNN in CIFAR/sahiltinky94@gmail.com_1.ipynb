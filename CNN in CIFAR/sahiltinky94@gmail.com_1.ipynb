{
 "cells": [
  {
   "cell_type": "markdown",
   "metadata": {
    "colab_type": "text",
    "id": "F29l3YiQdujY"
   },
   "source": [
    "# CNN on CIFAR Assignment\n",
    "<ol>\n",
    "<li>Please visit this link to access the state-of-art DenseNet code for reference - DenseNet - cifar10 notebook link\n",
    "<li>You need to create a copy of this and \"retrain\" this model to achieve 90+ test accuracy.\n",
    "<li>You cannot use Dense Layers (also called fully connected layers), or DropOut.\n",
    "<li>You MUST use Image Augmentation Techniques.\n",
    "<li>You cannot use an already trained model as a beginning points, you have to initilize as your own\n",
    "<li>You cannot run the program for more than 300 Epochs, and it should be clear from your log, that you have only used 300 Epochs\n",
    "<li>You cannot use test images for training the model.\n",
    "<li>You cannot change the general architecture of DenseNet (which means you must use Dense Block, Transition and Output blocks as mentioned in the code)\n",
    "<li>You are free to change Convolution types (e.g. from 3x3 normal convolution to Depthwise Separable, etc)\n",
    "<li>You cannot have more than 1 Million parameters in total\n",
    "<li>You are free to move the code from Keras to Tensorflow, Pytorch, MXNET etc.\n",
    "<li>You can use any optimization algorithm you need.\n",
    "<li>You can checkpoint your model and retrain the model from that checkpoint so that no need of training the model from first if you lost at any epoch while training. You can directly load that model and Train from that epoch.\n",
    "</ol>"
   ]
  },
  {
   "cell_type": "code",
   "execution_count": 1,
   "metadata": {
    "colab": {
     "base_uri": "https://localhost:8080/",
     "height": 79
    },
    "colab_type": "code",
    "executionInfo": {
     "elapsed": 2137,
     "status": "ok",
     "timestamp": 1584215848391,
     "user": {
      "displayName": "Sahil -",
      "photoUrl": "",
      "userId": "14051148522636395588"
     },
     "user_tz": -330
    },
    "id": "BwjmniKcds1t",
    "outputId": "e63c7a3c-28f5-4d63-ea9d-abbc31483f2e"
   },
   "outputs": [
    {
     "name": "stderr",
     "output_type": "stream",
     "text": [
      "Using TensorFlow backend.\n"
     ]
    },
    {
     "name": "stdout",
     "output_type": "stream",
     "text": [
      "[name: \"/device:CPU:0\"\n",
      "device_type: \"CPU\"\n",
      "memory_limit: 268435456\n",
      "locality {\n",
      "}\n",
      "incarnation: 11382562692963312915\n",
      ", name: \"/device:GPU:0\"\n",
      "device_type: \"GPU\"\n",
      "memory_limit: 3135687884\n",
      "locality {\n",
      "  bus_id: 1\n",
      "  links {\n",
      "  }\n",
      "}\n",
      "incarnation: 10717626493672370588\n",
      "physical_device_desc: \"device: 0, name: GeForce GTX 1050 Ti, pci bus id: 0000:01:00.0, compute capability: 6.1\"\n",
      "]\n"
     ]
    },
    {
     "data": {
      "text/plain": [
       "[PhysicalDevice(name='/physical_device:GPU:0', device_type='GPU')]"
      ]
     },
     "execution_count": 1,
     "metadata": {},
     "output_type": "execute_result"
    }
   ],
   "source": [
    "# import keras\n",
    "# from keras.datasets import cifar10\n",
    "# from keras.models import Model, Sequential\n",
    "# from keras.layers import Dense, Dropout, Flatten, Input, AveragePooling2D, merge, Activation\n",
    "# from keras.layers import Conv2D, MaxPooling2D, BatchNormalization\n",
    "# from keras.layers import Concatenate\n",
    "# from keras.optimizers import Adam\n",
    "import numpy as np\n",
    "np.random.seed(42)\n",
    "from tensorflow.keras import models, layers\n",
    "from tensorflow.keras.models import Model\n",
    "from tensorflow.keras.layers import BatchNormalization, Activation, Flatten\n",
    "from tensorflow.keras.optimizers import Adam, SGD\n",
    "from tensorflow.keras.regularizers import l1\n",
    "from keras.preprocessing.image import ImageDataGenerator\n",
    "from tensorflow.keras.callbacks import ModelCheckpoint, CSVLogger\n",
    "# this part will prevent tensorflow to allocate all the avaliable GPU Memory\n",
    "# backend\n",
    "import tensorflow as tf\n",
    "from tensorflow import keras\n",
    "from tensorflow.python.client import device_lib\n",
    "print(device_lib.list_local_devices())\n",
    "tf.config.list_physical_devices('GPU')"
   ]
  },
  {
   "cell_type": "code",
   "execution_count": 2,
   "metadata": {
    "colab": {},
    "colab_type": "code",
    "id": "_9pVa7D3eI4c"
   },
   "outputs": [],
   "source": [
    "# Hyperparameters\n",
    "num_classes = 10\n",
    "l = 12\n",
    "num_filter = 12\n",
    "compression = 0.5"
   ]
  },
  {
   "cell_type": "code",
   "execution_count": 3,
   "metadata": {
    "colab": {},
    "colab_type": "code",
    "id": "PtMS6fEGeI7T"
   },
   "outputs": [],
   "source": [
    "# Load CIFAR10 Data\n",
    "(X_train, y_train), (X_test, y_test) = tf.keras.datasets.cifar10.load_data()\n",
    "img_height, img_width, channel = X_train.shape[1],X_train.shape[2],X_train.shape[3]\n",
    "\n",
    "# convert to one hot encoing \n",
    "y_train = tf.keras.utils.to_categorical(y_train, num_classes)\n",
    "y_test = tf.keras.utils.to_categorical(y_test, num_classes) "
   ]
  },
  {
   "cell_type": "code",
   "execution_count": 4,
   "metadata": {
    "colab": {
     "base_uri": "https://localhost:8080/",
     "height": 34
    },
    "colab_type": "code",
    "executionInfo": {
     "elapsed": 1061,
     "status": "ok",
     "timestamp": 1584215857682,
     "user": {
      "displayName": "Sahil -",
      "photoUrl": "",
      "userId": "14051148522636395588"
     },
     "user_tz": -330
    },
    "id": "OgOsaueceI9Y",
    "outputId": "df8cc7e5-6936-4f1a-c5ec-c9413aa98b45"
   },
   "outputs": [
    {
     "data": {
      "text/plain": [
       "(50000, 32, 32, 3)"
      ]
     },
     "execution_count": 4,
     "metadata": {},
     "output_type": "execute_result"
    }
   ],
   "source": [
    "X_train.shape"
   ]
  },
  {
   "cell_type": "code",
   "execution_count": 5,
   "metadata": {
    "colab": {
     "base_uri": "https://localhost:8080/",
     "height": 34
    },
    "colab_type": "code",
    "executionInfo": {
     "elapsed": 1187,
     "status": "ok",
     "timestamp": 1584215858043,
     "user": {
      "displayName": "Sahil -",
      "photoUrl": "",
      "userId": "14051148522636395588"
     },
     "user_tz": -330
    },
    "id": "d2OlMqupeI_v",
    "outputId": "2172f839-7403-4730-eec3-483124c8029e"
   },
   "outputs": [
    {
     "data": {
      "text/plain": [
       "(10000, 32, 32, 3)"
      ]
     },
     "execution_count": 5,
     "metadata": {},
     "output_type": "execute_result"
    }
   ],
   "source": [
    "X_test.shape"
   ]
  },
  {
   "cell_type": "code",
   "execution_count": 6,
   "metadata": {
    "colab": {},
    "colab_type": "code",
    "id": "7vnUHR0SgpuQ"
   },
   "outputs": [],
   "source": [
    "# Refer: https://blog.keras.io/building-powerful-image-classification-models-using-very-little-data.html\n",
    "train_datagen = ImageDataGenerator(\n",
    "        rotation_range=40,\n",
    "        width_shift_range=0.2,\n",
    "        height_shift_range=0.2,\n",
    "        rescale=1./255,\n",
    "        shear_range=0.2,\n",
    "        zoom_range=0.2,\n",
    "        horizontal_flip=True)\n",
    "\n",
    "test_datagen = ImageDataGenerator(\n",
    "    rescale = 1./255)\n",
    "\n",
    "train_datagen.fit(X_train)\n",
    "test_datagen.fit(X_test)"
   ]
  },
  {
   "cell_type": "code",
   "execution_count": 7,
   "metadata": {
    "colab": {},
    "colab_type": "code",
    "id": "9_p7gQ0ReJCB"
   },
   "outputs": [],
   "source": [
    "# Dense Block\n",
    "def denseblock(input, num_filter = 12):\n",
    "    global compression\n",
    "    temp = input\n",
    "    for _ in range(l): \n",
    "        BatchNorm = layers.BatchNormalization()(temp)\n",
    "        relu = layers.Activation('relu')(BatchNorm)\n",
    "        Conv2D_3_3 = layers.Conv2D(int(num_filter*compression), (3,3), use_bias=False ,padding='same', kernel_initializer=\\\n",
    "                                  keras.initializers.glorot_normal(seed=42))(relu)\n",
    "        concat = layers.Concatenate(axis=-1)([temp,Conv2D_3_3])\n",
    "        temp = concat\n",
    "        \n",
    "    return temp\n",
    "\n",
    "## transition Block\n",
    "def transition(input, num_filter = 12):\n",
    "    global compression\n",
    "    BatchNorm = layers.BatchNormalization()(input)\n",
    "    relu = layers.Activation('relu')(BatchNorm)\n",
    "    Conv2D_BottleNeck = layers.Conv2D(int(num_filter*compression), (1,1), use_bias=False ,padding='same', \\\n",
    "                                      kernel_initializer= keras.initializers.glorot_normal(seed=42))(relu)\n",
    "    avg = layers.AveragePooling2D(pool_size=(2,2))(Conv2D_BottleNeck)\n",
    "    return avg\n",
    "\n",
    "#output layer\n",
    "def output_layer(input):\n",
    "    global compression\n",
    "    BatchNorm = layers.BatchNormalization()(input)\n",
    "    relu = layers.Activation('relu')(BatchNorm)\n",
    "    AvgPooling = layers.AveragePooling2D(pool_size=(2,2))(relu)\n",
    "    output_1 = layers.Conv2D(num_classes, (2,2), kernel_initializer=keras.initializers.glorot_normal(seed=42))(AvgPooling)\n",
    "    out_1 = Activation('softmax')(output_1)\n",
    "    flat = layers.Flatten()(out_1)\n",
    "    return flat"
   ]
  },
  {
   "cell_type": "code",
   "execution_count": 8,
   "metadata": {
    "colab": {
     "base_uri": "https://localhost:8080/",
     "height": 87
    },
    "colab_type": "code",
    "executionInfo": {
     "elapsed": 4562,
     "status": "ok",
     "timestamp": 1584215866067,
     "user": {
      "displayName": "Sahil -",
      "photoUrl": "",
      "userId": "14051148522636395588"
     },
     "user_tz": -330
    },
    "id": "sboJ3v8veJET",
    "outputId": "68a5b76a-40bd-4f39-b530-dee99ff4004a"
   },
   "outputs": [],
   "source": [
    "num_filter = 37\n",
    "\n",
    "input = layers.Input(shape=(img_height, img_width, channel))\n",
    "First_Conv2D = layers.Conv2D(num_filter, (3,3), use_bias=False ,padding='same')(input)\n",
    "\n",
    "First_Block = denseblock(First_Conv2D, num_filter)\n",
    "First_Transition = transition(First_Block, num_filter)\n",
    "\n",
    "Second_Block = denseblock(First_Transition, num_filter)\n",
    "Second_Transition = transition(Second_Block, num_filter)\n",
    "\n",
    "Third_Block = denseblock(Second_Transition, num_filter)\n",
    "Third_Transition = transition(Third_Block, num_filter)\n",
    "\n",
    "Last_Block = denseblock(Third_Transition,  num_filter)\n",
    "output = output_layer(Last_Block)"
   ]
  },
  {
   "cell_type": "code",
   "execution_count": 9,
   "metadata": {
    "colab": {
     "base_uri": "https://localhost:8080/",
     "height": 321
    },
    "colab_type": "code",
    "executionInfo": {
     "elapsed": 995,
     "status": "ok",
     "timestamp": 1584215134068,
     "user": {
      "displayName": "Sahil -",
      "photoUrl": "",
      "userId": "14051148522636395588"
     },
     "user_tz": -330
    },
    "id": "6flXltgfeJGX",
    "outputId": "5e7585cd-0ac9-4b9f-985e-d19eb67be3f2"
   },
   "outputs": [],
   "source": [
    "#https://arxiv.org/pdf/1608.06993.pdf\n",
    "# from IPython.display import IFrame, YouTubeVideo\n",
    "# YouTubeVideo(id='-W6y8xnd--U', width=600)"
   ]
  },
  {
   "cell_type": "code",
   "execution_count": 10,
   "metadata": {
    "colab": {
     "base_uri": "https://localhost:8080/",
     "height": 1000
    },
    "colab_type": "code",
    "executionInfo": {
     "elapsed": 1283,
     "status": "ok",
     "timestamp": 1584215866069,
     "user": {
      "displayName": "Sahil -",
      "photoUrl": "",
      "userId": "14051148522636395588"
     },
     "user_tz": -330
    },
    "id": "9WPSmpXDeJId",
    "outputId": "4517253e-e0de-4bdd-fbbb-15c836b4f014",
    "scrolled": true
   },
   "outputs": [
    {
     "name": "stdout",
     "output_type": "stream",
     "text": [
      "Model: \"model\"\n",
      "__________________________________________________________________________________________________\n",
      "Layer (type)                    Output Shape         Param #     Connected to                     \n",
      "==================================================================================================\n",
      "input_1 (InputLayer)            [(None, 32, 32, 3)]  0                                            \n",
      "__________________________________________________________________________________________________\n",
      "conv2d (Conv2D)                 (None, 32, 32, 37)   999         input_1[0][0]                    \n",
      "__________________________________________________________________________________________________\n",
      "batch_normalization (BatchNorma (None, 32, 32, 37)   148         conv2d[0][0]                     \n",
      "__________________________________________________________________________________________________\n",
      "activation (Activation)         (None, 32, 32, 37)   0           batch_normalization[0][0]        \n",
      "__________________________________________________________________________________________________\n",
      "conv2d_1 (Conv2D)               (None, 32, 32, 18)   5994        activation[0][0]                 \n",
      "__________________________________________________________________________________________________\n",
      "concatenate (Concatenate)       (None, 32, 32, 55)   0           conv2d[0][0]                     \n",
      "                                                                 conv2d_1[0][0]                   \n",
      "__________________________________________________________________________________________________\n",
      "batch_normalization_1 (BatchNor (None, 32, 32, 55)   220         concatenate[0][0]                \n",
      "__________________________________________________________________________________________________\n",
      "activation_1 (Activation)       (None, 32, 32, 55)   0           batch_normalization_1[0][0]      \n",
      "__________________________________________________________________________________________________\n",
      "conv2d_2 (Conv2D)               (None, 32, 32, 18)   8910        activation_1[0][0]               \n",
      "__________________________________________________________________________________________________\n",
      "concatenate_1 (Concatenate)     (None, 32, 32, 73)   0           concatenate[0][0]                \n",
      "                                                                 conv2d_2[0][0]                   \n",
      "__________________________________________________________________________________________________\n",
      "batch_normalization_2 (BatchNor (None, 32, 32, 73)   292         concatenate_1[0][0]              \n",
      "__________________________________________________________________________________________________\n",
      "activation_2 (Activation)       (None, 32, 32, 73)   0           batch_normalization_2[0][0]      \n",
      "__________________________________________________________________________________________________\n",
      "conv2d_3 (Conv2D)               (None, 32, 32, 18)   11826       activation_2[0][0]               \n",
      "__________________________________________________________________________________________________\n",
      "concatenate_2 (Concatenate)     (None, 32, 32, 91)   0           concatenate_1[0][0]              \n",
      "                                                                 conv2d_3[0][0]                   \n",
      "__________________________________________________________________________________________________\n",
      "batch_normalization_3 (BatchNor (None, 32, 32, 91)   364         concatenate_2[0][0]              \n",
      "__________________________________________________________________________________________________\n",
      "activation_3 (Activation)       (None, 32, 32, 91)   0           batch_normalization_3[0][0]      \n",
      "__________________________________________________________________________________________________\n",
      "conv2d_4 (Conv2D)               (None, 32, 32, 18)   14742       activation_3[0][0]               \n",
      "__________________________________________________________________________________________________\n",
      "concatenate_3 (Concatenate)     (None, 32, 32, 109)  0           concatenate_2[0][0]              \n",
      "                                                                 conv2d_4[0][0]                   \n",
      "__________________________________________________________________________________________________\n",
      "batch_normalization_4 (BatchNor (None, 32, 32, 109)  436         concatenate_3[0][0]              \n",
      "__________________________________________________________________________________________________\n",
      "activation_4 (Activation)       (None, 32, 32, 109)  0           batch_normalization_4[0][0]      \n",
      "__________________________________________________________________________________________________\n",
      "conv2d_5 (Conv2D)               (None, 32, 32, 18)   17658       activation_4[0][0]               \n",
      "__________________________________________________________________________________________________\n",
      "concatenate_4 (Concatenate)     (None, 32, 32, 127)  0           concatenate_3[0][0]              \n",
      "                                                                 conv2d_5[0][0]                   \n",
      "__________________________________________________________________________________________________\n",
      "batch_normalization_5 (BatchNor (None, 32, 32, 127)  508         concatenate_4[0][0]              \n",
      "__________________________________________________________________________________________________\n",
      "activation_5 (Activation)       (None, 32, 32, 127)  0           batch_normalization_5[0][0]      \n",
      "__________________________________________________________________________________________________\n",
      "conv2d_6 (Conv2D)               (None, 32, 32, 18)   20574       activation_5[0][0]               \n",
      "__________________________________________________________________________________________________\n",
      "concatenate_5 (Concatenate)     (None, 32, 32, 145)  0           concatenate_4[0][0]              \n",
      "                                                                 conv2d_6[0][0]                   \n",
      "__________________________________________________________________________________________________\n",
      "batch_normalization_6 (BatchNor (None, 32, 32, 145)  580         concatenate_5[0][0]              \n",
      "__________________________________________________________________________________________________\n",
      "activation_6 (Activation)       (None, 32, 32, 145)  0           batch_normalization_6[0][0]      \n",
      "__________________________________________________________________________________________________\n",
      "conv2d_7 (Conv2D)               (None, 32, 32, 18)   23490       activation_6[0][0]               \n",
      "__________________________________________________________________________________________________\n",
      "concatenate_6 (Concatenate)     (None, 32, 32, 163)  0           concatenate_5[0][0]              \n",
      "                                                                 conv2d_7[0][0]                   \n",
      "__________________________________________________________________________________________________\n",
      "batch_normalization_7 (BatchNor (None, 32, 32, 163)  652         concatenate_6[0][0]              \n",
      "__________________________________________________________________________________________________\n",
      "activation_7 (Activation)       (None, 32, 32, 163)  0           batch_normalization_7[0][0]      \n",
      "__________________________________________________________________________________________________\n",
      "conv2d_8 (Conv2D)               (None, 32, 32, 18)   26406       activation_7[0][0]               \n",
      "__________________________________________________________________________________________________\n",
      "concatenate_7 (Concatenate)     (None, 32, 32, 181)  0           concatenate_6[0][0]              \n",
      "                                                                 conv2d_8[0][0]                   \n",
      "__________________________________________________________________________________________________\n",
      "batch_normalization_8 (BatchNor (None, 32, 32, 181)  724         concatenate_7[0][0]              \n",
      "__________________________________________________________________________________________________\n",
      "activation_8 (Activation)       (None, 32, 32, 181)  0           batch_normalization_8[0][0]      \n",
      "__________________________________________________________________________________________________\n",
      "conv2d_9 (Conv2D)               (None, 32, 32, 18)   29322       activation_8[0][0]               \n",
      "__________________________________________________________________________________________________\n",
      "concatenate_8 (Concatenate)     (None, 32, 32, 199)  0           concatenate_7[0][0]              \n",
      "                                                                 conv2d_9[0][0]                   \n",
      "__________________________________________________________________________________________________\n",
      "batch_normalization_9 (BatchNor (None, 32, 32, 199)  796         concatenate_8[0][0]              \n",
      "__________________________________________________________________________________________________\n",
      "activation_9 (Activation)       (None, 32, 32, 199)  0           batch_normalization_9[0][0]      \n",
      "__________________________________________________________________________________________________\n",
      "conv2d_10 (Conv2D)              (None, 32, 32, 18)   32238       activation_9[0][0]               \n",
      "__________________________________________________________________________________________________\n",
      "concatenate_9 (Concatenate)     (None, 32, 32, 217)  0           concatenate_8[0][0]              \n",
      "                                                                 conv2d_10[0][0]                  \n",
      "__________________________________________________________________________________________________\n",
      "batch_normalization_10 (BatchNo (None, 32, 32, 217)  868         concatenate_9[0][0]              \n",
      "__________________________________________________________________________________________________\n",
      "activation_10 (Activation)      (None, 32, 32, 217)  0           batch_normalization_10[0][0]     \n",
      "__________________________________________________________________________________________________\n",
      "conv2d_11 (Conv2D)              (None, 32, 32, 18)   35154       activation_10[0][0]              \n",
      "__________________________________________________________________________________________________\n",
      "concatenate_10 (Concatenate)    (None, 32, 32, 235)  0           concatenate_9[0][0]              \n",
      "                                                                 conv2d_11[0][0]                  \n",
      "__________________________________________________________________________________________________\n",
      "batch_normalization_11 (BatchNo (None, 32, 32, 235)  940         concatenate_10[0][0]             \n",
      "__________________________________________________________________________________________________\n",
      "activation_11 (Activation)      (None, 32, 32, 235)  0           batch_normalization_11[0][0]     \n",
      "__________________________________________________________________________________________________\n",
      "conv2d_12 (Conv2D)              (None, 32, 32, 18)   38070       activation_11[0][0]              \n",
      "__________________________________________________________________________________________________\n",
      "concatenate_11 (Concatenate)    (None, 32, 32, 253)  0           concatenate_10[0][0]             \n",
      "                                                                 conv2d_12[0][0]                  \n",
      "__________________________________________________________________________________________________\n",
      "batch_normalization_12 (BatchNo (None, 32, 32, 253)  1012        concatenate_11[0][0]             \n",
      "__________________________________________________________________________________________________\n",
      "activation_12 (Activation)      (None, 32, 32, 253)  0           batch_normalization_12[0][0]     \n",
      "__________________________________________________________________________________________________\n",
      "conv2d_13 (Conv2D)              (None, 32, 32, 18)   4554        activation_12[0][0]              \n",
      "__________________________________________________________________________________________________\n",
      "average_pooling2d (AveragePooli (None, 16, 16, 18)   0           conv2d_13[0][0]                  \n",
      "__________________________________________________________________________________________________\n",
      "batch_normalization_13 (BatchNo (None, 16, 16, 18)   72          average_pooling2d[0][0]          \n",
      "__________________________________________________________________________________________________\n",
      "activation_13 (Activation)      (None, 16, 16, 18)   0           batch_normalization_13[0][0]     \n",
      "__________________________________________________________________________________________________\n",
      "conv2d_14 (Conv2D)              (None, 16, 16, 18)   2916        activation_13[0][0]              \n",
      "__________________________________________________________________________________________________\n",
      "concatenate_12 (Concatenate)    (None, 16, 16, 36)   0           average_pooling2d[0][0]          \n",
      "                                                                 conv2d_14[0][0]                  \n",
      "__________________________________________________________________________________________________\n",
      "batch_normalization_14 (BatchNo (None, 16, 16, 36)   144         concatenate_12[0][0]             \n",
      "__________________________________________________________________________________________________\n",
      "activation_14 (Activation)      (None, 16, 16, 36)   0           batch_normalization_14[0][0]     \n",
      "__________________________________________________________________________________________________\n",
      "conv2d_15 (Conv2D)              (None, 16, 16, 18)   5832        activation_14[0][0]              \n",
      "__________________________________________________________________________________________________\n",
      "concatenate_13 (Concatenate)    (None, 16, 16, 54)   0           concatenate_12[0][0]             \n",
      "                                                                 conv2d_15[0][0]                  \n",
      "__________________________________________________________________________________________________\n",
      "batch_normalization_15 (BatchNo (None, 16, 16, 54)   216         concatenate_13[0][0]             \n",
      "__________________________________________________________________________________________________\n",
      "activation_15 (Activation)      (None, 16, 16, 54)   0           batch_normalization_15[0][0]     \n",
      "__________________________________________________________________________________________________\n",
      "conv2d_16 (Conv2D)              (None, 16, 16, 18)   8748        activation_15[0][0]              \n",
      "__________________________________________________________________________________________________\n",
      "concatenate_14 (Concatenate)    (None, 16, 16, 72)   0           concatenate_13[0][0]             \n",
      "                                                                 conv2d_16[0][0]                  \n",
      "__________________________________________________________________________________________________\n",
      "batch_normalization_16 (BatchNo (None, 16, 16, 72)   288         concatenate_14[0][0]             \n",
      "__________________________________________________________________________________________________\n",
      "activation_16 (Activation)      (None, 16, 16, 72)   0           batch_normalization_16[0][0]     \n",
      "__________________________________________________________________________________________________\n",
      "conv2d_17 (Conv2D)              (None, 16, 16, 18)   11664       activation_16[0][0]              \n",
      "__________________________________________________________________________________________________\n",
      "concatenate_15 (Concatenate)    (None, 16, 16, 90)   0           concatenate_14[0][0]             \n",
      "                                                                 conv2d_17[0][0]                  \n",
      "__________________________________________________________________________________________________\n",
      "batch_normalization_17 (BatchNo (None, 16, 16, 90)   360         concatenate_15[0][0]             \n",
      "__________________________________________________________________________________________________\n",
      "activation_17 (Activation)      (None, 16, 16, 90)   0           batch_normalization_17[0][0]     \n",
      "__________________________________________________________________________________________________\n",
      "conv2d_18 (Conv2D)              (None, 16, 16, 18)   14580       activation_17[0][0]              \n",
      "__________________________________________________________________________________________________\n",
      "concatenate_16 (Concatenate)    (None, 16, 16, 108)  0           concatenate_15[0][0]             \n",
      "                                                                 conv2d_18[0][0]                  \n",
      "__________________________________________________________________________________________________\n",
      "batch_normalization_18 (BatchNo (None, 16, 16, 108)  432         concatenate_16[0][0]             \n",
      "__________________________________________________________________________________________________\n",
      "activation_18 (Activation)      (None, 16, 16, 108)  0           batch_normalization_18[0][0]     \n",
      "__________________________________________________________________________________________________\n",
      "conv2d_19 (Conv2D)              (None, 16, 16, 18)   17496       activation_18[0][0]              \n",
      "__________________________________________________________________________________________________\n",
      "concatenate_17 (Concatenate)    (None, 16, 16, 126)  0           concatenate_16[0][0]             \n",
      "                                                                 conv2d_19[0][0]                  \n",
      "__________________________________________________________________________________________________\n",
      "batch_normalization_19 (BatchNo (None, 16, 16, 126)  504         concatenate_17[0][0]             \n",
      "__________________________________________________________________________________________________\n",
      "activation_19 (Activation)      (None, 16, 16, 126)  0           batch_normalization_19[0][0]     \n",
      "__________________________________________________________________________________________________\n",
      "conv2d_20 (Conv2D)              (None, 16, 16, 18)   20412       activation_19[0][0]              \n",
      "__________________________________________________________________________________________________\n",
      "concatenate_18 (Concatenate)    (None, 16, 16, 144)  0           concatenate_17[0][0]             \n",
      "                                                                 conv2d_20[0][0]                  \n",
      "__________________________________________________________________________________________________\n",
      "batch_normalization_20 (BatchNo (None, 16, 16, 144)  576         concatenate_18[0][0]             \n",
      "__________________________________________________________________________________________________\n",
      "activation_20 (Activation)      (None, 16, 16, 144)  0           batch_normalization_20[0][0]     \n",
      "__________________________________________________________________________________________________\n",
      "conv2d_21 (Conv2D)              (None, 16, 16, 18)   23328       activation_20[0][0]              \n",
      "__________________________________________________________________________________________________\n",
      "concatenate_19 (Concatenate)    (None, 16, 16, 162)  0           concatenate_18[0][0]             \n",
      "                                                                 conv2d_21[0][0]                  \n",
      "__________________________________________________________________________________________________\n",
      "batch_normalization_21 (BatchNo (None, 16, 16, 162)  648         concatenate_19[0][0]             \n",
      "__________________________________________________________________________________________________\n",
      "activation_21 (Activation)      (None, 16, 16, 162)  0           batch_normalization_21[0][0]     \n",
      "__________________________________________________________________________________________________\n",
      "conv2d_22 (Conv2D)              (None, 16, 16, 18)   26244       activation_21[0][0]              \n",
      "__________________________________________________________________________________________________\n",
      "concatenate_20 (Concatenate)    (None, 16, 16, 180)  0           concatenate_19[0][0]             \n",
      "                                                                 conv2d_22[0][0]                  \n",
      "__________________________________________________________________________________________________\n",
      "batch_normalization_22 (BatchNo (None, 16, 16, 180)  720         concatenate_20[0][0]             \n",
      "__________________________________________________________________________________________________\n",
      "activation_22 (Activation)      (None, 16, 16, 180)  0           batch_normalization_22[0][0]     \n",
      "__________________________________________________________________________________________________\n",
      "conv2d_23 (Conv2D)              (None, 16, 16, 18)   29160       activation_22[0][0]              \n",
      "__________________________________________________________________________________________________\n",
      "concatenate_21 (Concatenate)    (None, 16, 16, 198)  0           concatenate_20[0][0]             \n",
      "                                                                 conv2d_23[0][0]                  \n",
      "__________________________________________________________________________________________________\n",
      "batch_normalization_23 (BatchNo (None, 16, 16, 198)  792         concatenate_21[0][0]             \n",
      "__________________________________________________________________________________________________\n",
      "activation_23 (Activation)      (None, 16, 16, 198)  0           batch_normalization_23[0][0]     \n",
      "__________________________________________________________________________________________________\n",
      "conv2d_24 (Conv2D)              (None, 16, 16, 18)   32076       activation_23[0][0]              \n",
      "__________________________________________________________________________________________________\n",
      "concatenate_22 (Concatenate)    (None, 16, 16, 216)  0           concatenate_21[0][0]             \n",
      "                                                                 conv2d_24[0][0]                  \n",
      "__________________________________________________________________________________________________\n",
      "batch_normalization_24 (BatchNo (None, 16, 16, 216)  864         concatenate_22[0][0]             \n",
      "__________________________________________________________________________________________________\n",
      "activation_24 (Activation)      (None, 16, 16, 216)  0           batch_normalization_24[0][0]     \n",
      "__________________________________________________________________________________________________\n",
      "conv2d_25 (Conv2D)              (None, 16, 16, 18)   34992       activation_24[0][0]              \n",
      "__________________________________________________________________________________________________\n",
      "concatenate_23 (Concatenate)    (None, 16, 16, 234)  0           concatenate_22[0][0]             \n",
      "                                                                 conv2d_25[0][0]                  \n",
      "__________________________________________________________________________________________________\n",
      "batch_normalization_25 (BatchNo (None, 16, 16, 234)  936         concatenate_23[0][0]             \n",
      "__________________________________________________________________________________________________\n",
      "activation_25 (Activation)      (None, 16, 16, 234)  0           batch_normalization_25[0][0]     \n",
      "__________________________________________________________________________________________________\n",
      "conv2d_26 (Conv2D)              (None, 16, 16, 18)   4212        activation_25[0][0]              \n",
      "__________________________________________________________________________________________________\n",
      "average_pooling2d_1 (AveragePoo (None, 8, 8, 18)     0           conv2d_26[0][0]                  \n",
      "__________________________________________________________________________________________________\n",
      "batch_normalization_26 (BatchNo (None, 8, 8, 18)     72          average_pooling2d_1[0][0]        \n",
      "__________________________________________________________________________________________________\n",
      "activation_26 (Activation)      (None, 8, 8, 18)     0           batch_normalization_26[0][0]     \n",
      "__________________________________________________________________________________________________\n",
      "conv2d_27 (Conv2D)              (None, 8, 8, 18)     2916        activation_26[0][0]              \n",
      "__________________________________________________________________________________________________\n",
      "concatenate_24 (Concatenate)    (None, 8, 8, 36)     0           average_pooling2d_1[0][0]        \n",
      "                                                                 conv2d_27[0][0]                  \n",
      "__________________________________________________________________________________________________\n",
      "batch_normalization_27 (BatchNo (None, 8, 8, 36)     144         concatenate_24[0][0]             \n",
      "__________________________________________________________________________________________________\n",
      "activation_27 (Activation)      (None, 8, 8, 36)     0           batch_normalization_27[0][0]     \n",
      "__________________________________________________________________________________________________\n",
      "conv2d_28 (Conv2D)              (None, 8, 8, 18)     5832        activation_27[0][0]              \n",
      "__________________________________________________________________________________________________\n",
      "concatenate_25 (Concatenate)    (None, 8, 8, 54)     0           concatenate_24[0][0]             \n",
      "                                                                 conv2d_28[0][0]                  \n",
      "__________________________________________________________________________________________________\n",
      "batch_normalization_28 (BatchNo (None, 8, 8, 54)     216         concatenate_25[0][0]             \n",
      "__________________________________________________________________________________________________\n",
      "activation_28 (Activation)      (None, 8, 8, 54)     0           batch_normalization_28[0][0]     \n",
      "__________________________________________________________________________________________________\n",
      "conv2d_29 (Conv2D)              (None, 8, 8, 18)     8748        activation_28[0][0]              \n",
      "__________________________________________________________________________________________________\n",
      "concatenate_26 (Concatenate)    (None, 8, 8, 72)     0           concatenate_25[0][0]             \n",
      "                                                                 conv2d_29[0][0]                  \n",
      "__________________________________________________________________________________________________\n",
      "batch_normalization_29 (BatchNo (None, 8, 8, 72)     288         concatenate_26[0][0]             \n",
      "__________________________________________________________________________________________________\n",
      "activation_29 (Activation)      (None, 8, 8, 72)     0           batch_normalization_29[0][0]     \n",
      "__________________________________________________________________________________________________\n",
      "conv2d_30 (Conv2D)              (None, 8, 8, 18)     11664       activation_29[0][0]              \n",
      "__________________________________________________________________________________________________\n",
      "concatenate_27 (Concatenate)    (None, 8, 8, 90)     0           concatenate_26[0][0]             \n",
      "                                                                 conv2d_30[0][0]                  \n",
      "__________________________________________________________________________________________________\n",
      "batch_normalization_30 (BatchNo (None, 8, 8, 90)     360         concatenate_27[0][0]             \n",
      "__________________________________________________________________________________________________\n",
      "activation_30 (Activation)      (None, 8, 8, 90)     0           batch_normalization_30[0][0]     \n",
      "__________________________________________________________________________________________________\n",
      "conv2d_31 (Conv2D)              (None, 8, 8, 18)     14580       activation_30[0][0]              \n",
      "__________________________________________________________________________________________________\n",
      "concatenate_28 (Concatenate)    (None, 8, 8, 108)    0           concatenate_27[0][0]             \n",
      "                                                                 conv2d_31[0][0]                  \n",
      "__________________________________________________________________________________________________\n",
      "batch_normalization_31 (BatchNo (None, 8, 8, 108)    432         concatenate_28[0][0]             \n",
      "__________________________________________________________________________________________________\n",
      "activation_31 (Activation)      (None, 8, 8, 108)    0           batch_normalization_31[0][0]     \n",
      "__________________________________________________________________________________________________\n",
      "conv2d_32 (Conv2D)              (None, 8, 8, 18)     17496       activation_31[0][0]              \n",
      "__________________________________________________________________________________________________\n",
      "concatenate_29 (Concatenate)    (None, 8, 8, 126)    0           concatenate_28[0][0]             \n",
      "                                                                 conv2d_32[0][0]                  \n",
      "__________________________________________________________________________________________________\n",
      "batch_normalization_32 (BatchNo (None, 8, 8, 126)    504         concatenate_29[0][0]             \n",
      "__________________________________________________________________________________________________\n",
      "activation_32 (Activation)      (None, 8, 8, 126)    0           batch_normalization_32[0][0]     \n",
      "__________________________________________________________________________________________________\n",
      "conv2d_33 (Conv2D)              (None, 8, 8, 18)     20412       activation_32[0][0]              \n",
      "__________________________________________________________________________________________________\n",
      "concatenate_30 (Concatenate)    (None, 8, 8, 144)    0           concatenate_29[0][0]             \n",
      "                                                                 conv2d_33[0][0]                  \n",
      "__________________________________________________________________________________________________\n",
      "batch_normalization_33 (BatchNo (None, 8, 8, 144)    576         concatenate_30[0][0]             \n",
      "__________________________________________________________________________________________________\n",
      "activation_33 (Activation)      (None, 8, 8, 144)    0           batch_normalization_33[0][0]     \n",
      "__________________________________________________________________________________________________\n",
      "conv2d_34 (Conv2D)              (None, 8, 8, 18)     23328       activation_33[0][0]              \n",
      "__________________________________________________________________________________________________\n",
      "concatenate_31 (Concatenate)    (None, 8, 8, 162)    0           concatenate_30[0][0]             \n",
      "                                                                 conv2d_34[0][0]                  \n",
      "__________________________________________________________________________________________________\n",
      "batch_normalization_34 (BatchNo (None, 8, 8, 162)    648         concatenate_31[0][0]             \n",
      "__________________________________________________________________________________________________\n",
      "activation_34 (Activation)      (None, 8, 8, 162)    0           batch_normalization_34[0][0]     \n",
      "__________________________________________________________________________________________________\n",
      "conv2d_35 (Conv2D)              (None, 8, 8, 18)     26244       activation_34[0][0]              \n",
      "__________________________________________________________________________________________________\n",
      "concatenate_32 (Concatenate)    (None, 8, 8, 180)    0           concatenate_31[0][0]             \n",
      "                                                                 conv2d_35[0][0]                  \n",
      "__________________________________________________________________________________________________\n",
      "batch_normalization_35 (BatchNo (None, 8, 8, 180)    720         concatenate_32[0][0]             \n",
      "__________________________________________________________________________________________________\n",
      "activation_35 (Activation)      (None, 8, 8, 180)    0           batch_normalization_35[0][0]     \n",
      "__________________________________________________________________________________________________\n",
      "conv2d_36 (Conv2D)              (None, 8, 8, 18)     29160       activation_35[0][0]              \n",
      "__________________________________________________________________________________________________\n",
      "concatenate_33 (Concatenate)    (None, 8, 8, 198)    0           concatenate_32[0][0]             \n",
      "                                                                 conv2d_36[0][0]                  \n",
      "__________________________________________________________________________________________________\n",
      "batch_normalization_36 (BatchNo (None, 8, 8, 198)    792         concatenate_33[0][0]             \n",
      "__________________________________________________________________________________________________\n",
      "activation_36 (Activation)      (None, 8, 8, 198)    0           batch_normalization_36[0][0]     \n",
      "__________________________________________________________________________________________________\n",
      "conv2d_37 (Conv2D)              (None, 8, 8, 18)     32076       activation_36[0][0]              \n",
      "__________________________________________________________________________________________________\n",
      "concatenate_34 (Concatenate)    (None, 8, 8, 216)    0           concatenate_33[0][0]             \n",
      "                                                                 conv2d_37[0][0]                  \n",
      "__________________________________________________________________________________________________\n",
      "batch_normalization_37 (BatchNo (None, 8, 8, 216)    864         concatenate_34[0][0]             \n",
      "__________________________________________________________________________________________________\n",
      "activation_37 (Activation)      (None, 8, 8, 216)    0           batch_normalization_37[0][0]     \n",
      "__________________________________________________________________________________________________\n",
      "conv2d_38 (Conv2D)              (None, 8, 8, 18)     34992       activation_37[0][0]              \n",
      "__________________________________________________________________________________________________\n",
      "concatenate_35 (Concatenate)    (None, 8, 8, 234)    0           concatenate_34[0][0]             \n",
      "                                                                 conv2d_38[0][0]                  \n",
      "__________________________________________________________________________________________________\n",
      "batch_normalization_38 (BatchNo (None, 8, 8, 234)    936         concatenate_35[0][0]             \n",
      "__________________________________________________________________________________________________\n",
      "activation_38 (Activation)      (None, 8, 8, 234)    0           batch_normalization_38[0][0]     \n",
      "__________________________________________________________________________________________________\n",
      "conv2d_39 (Conv2D)              (None, 8, 8, 18)     4212        activation_38[0][0]              \n",
      "__________________________________________________________________________________________________\n",
      "average_pooling2d_2 (AveragePoo (None, 4, 4, 18)     0           conv2d_39[0][0]                  \n",
      "__________________________________________________________________________________________________\n",
      "batch_normalization_39 (BatchNo (None, 4, 4, 18)     72          average_pooling2d_2[0][0]        \n",
      "__________________________________________________________________________________________________\n",
      "activation_39 (Activation)      (None, 4, 4, 18)     0           batch_normalization_39[0][0]     \n",
      "__________________________________________________________________________________________________\n",
      "conv2d_40 (Conv2D)              (None, 4, 4, 18)     2916        activation_39[0][0]              \n",
      "__________________________________________________________________________________________________\n",
      "concatenate_36 (Concatenate)    (None, 4, 4, 36)     0           average_pooling2d_2[0][0]        \n",
      "                                                                 conv2d_40[0][0]                  \n",
      "__________________________________________________________________________________________________\n",
      "batch_normalization_40 (BatchNo (None, 4, 4, 36)     144         concatenate_36[0][0]             \n",
      "__________________________________________________________________________________________________\n",
      "activation_40 (Activation)      (None, 4, 4, 36)     0           batch_normalization_40[0][0]     \n",
      "__________________________________________________________________________________________________\n",
      "conv2d_41 (Conv2D)              (None, 4, 4, 18)     5832        activation_40[0][0]              \n",
      "__________________________________________________________________________________________________\n",
      "concatenate_37 (Concatenate)    (None, 4, 4, 54)     0           concatenate_36[0][0]             \n",
      "                                                                 conv2d_41[0][0]                  \n",
      "__________________________________________________________________________________________________\n",
      "batch_normalization_41 (BatchNo (None, 4, 4, 54)     216         concatenate_37[0][0]             \n",
      "__________________________________________________________________________________________________\n",
      "activation_41 (Activation)      (None, 4, 4, 54)     0           batch_normalization_41[0][0]     \n",
      "__________________________________________________________________________________________________\n",
      "conv2d_42 (Conv2D)              (None, 4, 4, 18)     8748        activation_41[0][0]              \n",
      "__________________________________________________________________________________________________\n",
      "concatenate_38 (Concatenate)    (None, 4, 4, 72)     0           concatenate_37[0][0]             \n",
      "                                                                 conv2d_42[0][0]                  \n",
      "__________________________________________________________________________________________________\n",
      "batch_normalization_42 (BatchNo (None, 4, 4, 72)     288         concatenate_38[0][0]             \n",
      "__________________________________________________________________________________________________\n",
      "activation_42 (Activation)      (None, 4, 4, 72)     0           batch_normalization_42[0][0]     \n",
      "__________________________________________________________________________________________________\n",
      "conv2d_43 (Conv2D)              (None, 4, 4, 18)     11664       activation_42[0][0]              \n",
      "__________________________________________________________________________________________________\n",
      "concatenate_39 (Concatenate)    (None, 4, 4, 90)     0           concatenate_38[0][0]             \n",
      "                                                                 conv2d_43[0][0]                  \n",
      "__________________________________________________________________________________________________\n",
      "batch_normalization_43 (BatchNo (None, 4, 4, 90)     360         concatenate_39[0][0]             \n",
      "__________________________________________________________________________________________________\n",
      "activation_43 (Activation)      (None, 4, 4, 90)     0           batch_normalization_43[0][0]     \n",
      "__________________________________________________________________________________________________\n",
      "conv2d_44 (Conv2D)              (None, 4, 4, 18)     14580       activation_43[0][0]              \n",
      "__________________________________________________________________________________________________\n",
      "concatenate_40 (Concatenate)    (None, 4, 4, 108)    0           concatenate_39[0][0]             \n",
      "                                                                 conv2d_44[0][0]                  \n",
      "__________________________________________________________________________________________________\n",
      "batch_normalization_44 (BatchNo (None, 4, 4, 108)    432         concatenate_40[0][0]             \n",
      "__________________________________________________________________________________________________\n",
      "activation_44 (Activation)      (None, 4, 4, 108)    0           batch_normalization_44[0][0]     \n",
      "__________________________________________________________________________________________________\n",
      "conv2d_45 (Conv2D)              (None, 4, 4, 18)     17496       activation_44[0][0]              \n",
      "__________________________________________________________________________________________________\n",
      "concatenate_41 (Concatenate)    (None, 4, 4, 126)    0           concatenate_40[0][0]             \n",
      "                                                                 conv2d_45[0][0]                  \n",
      "__________________________________________________________________________________________________\n",
      "batch_normalization_45 (BatchNo (None, 4, 4, 126)    504         concatenate_41[0][0]             \n",
      "__________________________________________________________________________________________________\n",
      "activation_45 (Activation)      (None, 4, 4, 126)    0           batch_normalization_45[0][0]     \n",
      "__________________________________________________________________________________________________\n",
      "conv2d_46 (Conv2D)              (None, 4, 4, 18)     20412       activation_45[0][0]              \n",
      "__________________________________________________________________________________________________\n",
      "concatenate_42 (Concatenate)    (None, 4, 4, 144)    0           concatenate_41[0][0]             \n",
      "                                                                 conv2d_46[0][0]                  \n",
      "__________________________________________________________________________________________________\n",
      "batch_normalization_46 (BatchNo (None, 4, 4, 144)    576         concatenate_42[0][0]             \n",
      "__________________________________________________________________________________________________\n",
      "activation_46 (Activation)      (None, 4, 4, 144)    0           batch_normalization_46[0][0]     \n",
      "__________________________________________________________________________________________________\n",
      "conv2d_47 (Conv2D)              (None, 4, 4, 18)     23328       activation_46[0][0]              \n",
      "__________________________________________________________________________________________________\n",
      "concatenate_43 (Concatenate)    (None, 4, 4, 162)    0           concatenate_42[0][0]             \n",
      "                                                                 conv2d_47[0][0]                  \n",
      "__________________________________________________________________________________________________\n",
      "batch_normalization_47 (BatchNo (None, 4, 4, 162)    648         concatenate_43[0][0]             \n",
      "__________________________________________________________________________________________________\n",
      "activation_47 (Activation)      (None, 4, 4, 162)    0           batch_normalization_47[0][0]     \n",
      "__________________________________________________________________________________________________\n",
      "conv2d_48 (Conv2D)              (None, 4, 4, 18)     26244       activation_47[0][0]              \n",
      "__________________________________________________________________________________________________\n",
      "concatenate_44 (Concatenate)    (None, 4, 4, 180)    0           concatenate_43[0][0]             \n",
      "                                                                 conv2d_48[0][0]                  \n",
      "__________________________________________________________________________________________________\n",
      "batch_normalization_48 (BatchNo (None, 4, 4, 180)    720         concatenate_44[0][0]             \n",
      "__________________________________________________________________________________________________\n",
      "activation_48 (Activation)      (None, 4, 4, 180)    0           batch_normalization_48[0][0]     \n",
      "__________________________________________________________________________________________________\n",
      "conv2d_49 (Conv2D)              (None, 4, 4, 18)     29160       activation_48[0][0]              \n",
      "__________________________________________________________________________________________________\n",
      "concatenate_45 (Concatenate)    (None, 4, 4, 198)    0           concatenate_44[0][0]             \n",
      "                                                                 conv2d_49[0][0]                  \n",
      "__________________________________________________________________________________________________\n",
      "batch_normalization_49 (BatchNo (None, 4, 4, 198)    792         concatenate_45[0][0]             \n",
      "__________________________________________________________________________________________________\n",
      "activation_49 (Activation)      (None, 4, 4, 198)    0           batch_normalization_49[0][0]     \n",
      "__________________________________________________________________________________________________\n",
      "conv2d_50 (Conv2D)              (None, 4, 4, 18)     32076       activation_49[0][0]              \n",
      "__________________________________________________________________________________________________\n",
      "concatenate_46 (Concatenate)    (None, 4, 4, 216)    0           concatenate_45[0][0]             \n",
      "                                                                 conv2d_50[0][0]                  \n",
      "__________________________________________________________________________________________________\n",
      "batch_normalization_50 (BatchNo (None, 4, 4, 216)    864         concatenate_46[0][0]             \n",
      "__________________________________________________________________________________________________\n",
      "activation_50 (Activation)      (None, 4, 4, 216)    0           batch_normalization_50[0][0]     \n",
      "__________________________________________________________________________________________________\n",
      "conv2d_51 (Conv2D)              (None, 4, 4, 18)     34992       activation_50[0][0]              \n",
      "__________________________________________________________________________________________________\n",
      "concatenate_47 (Concatenate)    (None, 4, 4, 234)    0           concatenate_46[0][0]             \n",
      "                                                                 conv2d_51[0][0]                  \n",
      "__________________________________________________________________________________________________\n",
      "batch_normalization_51 (BatchNo (None, 4, 4, 234)    936         concatenate_47[0][0]             \n",
      "__________________________________________________________________________________________________\n",
      "activation_51 (Activation)      (None, 4, 4, 234)    0           batch_normalization_51[0][0]     \n",
      "__________________________________________________________________________________________________\n",
      "average_pooling2d_3 (AveragePoo (None, 2, 2, 234)    0           activation_51[0][0]              \n",
      "__________________________________________________________________________________________________\n",
      "conv2d_52 (Conv2D)              (None, 1, 1, 10)     9370        average_pooling2d_3[0][0]        \n",
      "__________________________________________________________________________________________________\n",
      "activation_52 (Activation)      (None, 1, 1, 10)     0           conv2d_52[0][0]                  \n",
      "__________________________________________________________________________________________________\n",
      "flatten (Flatten)               (None, 10)           0           activation_52[0][0]              \n",
      "==================================================================================================\n",
      "Total params: 997,271\n",
      "Trainable params: 983,673\n",
      "Non-trainable params: 13,598\n",
      "__________________________________________________________________________________________________\n"
     ]
    }
   ],
   "source": [
    "model = Model(inputs=[input], outputs=[output])\n",
    "model.summary()"
   ]
  },
  {
   "cell_type": "code",
   "execution_count": 11,
   "metadata": {
    "colab": {},
    "colab_type": "code",
    "id": "XTk4uiOUeJKe"
   },
   "outputs": [],
   "source": [
    "# determine Loss function and Optimizer\n",
    "sgd = SGD(learning_rate=0.1, momentum=0.9)\n",
    "model.compile(loss='categorical_crossentropy',\n",
    "              optimizer=sgd,\n",
    "              metrics=['accuracy'])"
   ]
  },
  {
   "cell_type": "code",
   "execution_count": 24,
   "metadata": {},
   "outputs": [],
   "source": [
    "csv_logger = CSVLogger('training6.csv', append=True)"
   ]
  },
  {
   "cell_type": "code",
   "execution_count": 25,
   "metadata": {},
   "outputs": [],
   "source": [
    "early_stop = tf.keras.callbacks.EarlyStopping(\n",
    "    monitor='val_accuracy', patience=3, verbose=0, mode='auto', restore_best_weights=False\n",
    ")"
   ]
  },
  {
   "cell_type": "code",
   "execution_count": 26,
   "metadata": {
    "colab": {
     "base_uri": "https://localhost:8080/",
     "height": 774
    },
    "colab_type": "code",
    "executionInfo": {
     "elapsed": 20486777,
     "status": "error",
     "timestamp": 1584236359202,
     "user": {
      "displayName": "Sahil -",
      "photoUrl": "",
      "userId": "14051148522636395588"
     },
     "user_tz": -330
    },
    "id": "AEf9Jar9ekeE",
    "outputId": "fa743cb2-0bc7-4b2f-b18c-7b25269ad3d9",
    "scrolled": false
   },
   "outputs": [
    {
     "name": "stderr",
     "output_type": "stream",
     "text": [
      "W0321 13:13:39.592768  9596 data_adapter.py:1091] sample_weight modes were coerced from\n",
      "  ...\n",
      "    to  \n",
      "  ['...']\n",
      "W0321 13:13:39.609715  9596 data_adapter.py:1091] sample_weight modes were coerced from\n",
      "  ...\n",
      "    to  \n",
      "  ['...']\n"
     ]
    },
    {
     "name": "stdout",
     "output_type": "stream",
     "text": [
      "Train for 1562.5 steps, validate for 313 steps\n",
      "Epoch 1/50\n",
      "1563/1562 [==============================] - 223s 142ms/step - loss: 1.2339 - accuracy: 0.5585 - val_loss: 1.3928 - val_accuracy: 0.5294\n",
      "Epoch 2/50\n",
      "1563/1562 [==============================] - 223s 143ms/step - loss: 1.1902 - accuracy: 0.5762 - val_loss: 1.0998 - val_accuracy: 0.6190\n",
      "Epoch 3/50\n",
      "1563/1562 [==============================] - 223s 143ms/step - loss: 1.1482 - accuracy: 0.5916 - val_loss: 1.0794 - val_accuracy: 0.6226\n",
      "Epoch 4/50\n",
      "1563/1562 [==============================] - 224s 143ms/step - loss: 1.1028 - accuracy: 0.6080 - val_loss: 1.1026 - val_accuracy: 0.6247\n",
      "Epoch 5/50\n",
      "1563/1562 [==============================] - 221s 142ms/step - loss: 1.0636 - accuracy: 0.6242 - val_loss: 1.0651 - val_accuracy: 0.6269\n",
      "Epoch 6/50\n",
      "1563/1562 [==============================] - 221s 142ms/step - loss: 1.0279 - accuracy: 0.6339 - val_loss: 1.0576 - val_accuracy: 0.6418\n",
      "Epoch 7/50\n",
      "1563/1562 [==============================] - 221s 142ms/step - loss: 1.0009 - accuracy: 0.6462 - val_loss: 0.9596 - val_accuracy: 0.6705\n",
      "Epoch 8/50\n",
      "1563/1562 [==============================] - 221s 142ms/step - loss: 0.9659 - accuracy: 0.6592 - val_loss: 0.9075 - val_accuracy: 0.6842\n",
      "Epoch 9/50\n",
      "1563/1562 [==============================] - 221s 142ms/step - loss: 0.9342 - accuracy: 0.6714 - val_loss: 0.9834 - val_accuracy: 0.6693\n",
      "Epoch 10/50\n",
      "1563/1562 [==============================] - 222s 142ms/step - loss: 0.9095 - accuracy: 0.6818 - val_loss: 1.1130 - val_accuracy: 0.6370\n",
      "Epoch 11/50\n",
      "1563/1562 [==============================] - 223s 143ms/step - loss: 0.8812 - accuracy: 0.6890 - val_loss: 0.9751 - val_accuracy: 0.6926\n",
      "Epoch 12/50\n",
      "1563/1562 [==============================] - 222s 142ms/step - loss: 0.8577 - accuracy: 0.7004 - val_loss: 0.9365 - val_accuracy: 0.6848\n",
      "Epoch 13/50\n",
      "1563/1562 [==============================] - 222s 142ms/step - loss: 0.8390 - accuracy: 0.7076 - val_loss: 0.8133 - val_accuracy: 0.7308\n",
      "Epoch 14/50\n",
      "1563/1562 [==============================] - 222s 142ms/step - loss: 0.8104 - accuracy: 0.7178 - val_loss: 0.7772 - val_accuracy: 0.7426\n",
      "Epoch 15/50\n",
      "1563/1562 [==============================] - 222s 142ms/step - loss: 0.7859 - accuracy: 0.7281 - val_loss: 0.8761 - val_accuracy: 0.7176\n",
      "Epoch 16/50\n",
      "1563/1562 [==============================] - 222s 142ms/step - loss: 0.7695 - accuracy: 0.7333 - val_loss: 0.7139 - val_accuracy: 0.7589\n",
      "Epoch 17/50\n",
      "1563/1562 [==============================] - 222s 142ms/step - loss: 0.7505 - accuracy: 0.7392 - val_loss: 0.7250 - val_accuracy: 0.7568\n",
      "Epoch 18/50\n",
      "1563/1562 [==============================] - 222s 142ms/step - loss: 0.7388 - accuracy: 0.7457 - val_loss: 0.7973 - val_accuracy: 0.7427\n",
      "Epoch 19/50\n",
      "1563/1562 [==============================] - 222s 142ms/step - loss: 0.7169 - accuracy: 0.7508 - val_loss: 0.7122 - val_accuracy: 0.7549\n",
      "Epoch 20/50\n",
      "1563/1562 [==============================] - 222s 142ms/step - loss: 0.7081 - accuracy: 0.7551 - val_loss: 0.8314 - val_accuracy: 0.7446\n",
      "Epoch 21/50\n",
      "1563/1562 [==============================] - 222s 142ms/step - loss: 0.6883 - accuracy: 0.7622 - val_loss: 0.6679 - val_accuracy: 0.7758\n",
      "Epoch 22/50\n",
      "1563/1562 [==============================] - 223s 142ms/step - loss: 0.6769 - accuracy: 0.7668 - val_loss: 0.7407 - val_accuracy: 0.7593\n",
      "Epoch 23/50\n",
      "1563/1562 [==============================] - 222s 142ms/step - loss: 0.6631 - accuracy: 0.7706 - val_loss: 0.7185 - val_accuracy: 0.7643\n",
      "Epoch 24/50\n",
      "1563/1562 [==============================] - 222s 142ms/step - loss: 0.6561 - accuracy: 0.7734 - val_loss: 0.7943 - val_accuracy: 0.7447\n",
      "Epoch 25/50\n",
      "1563/1562 [==============================] - 222s 142ms/step - loss: 0.6312 - accuracy: 0.7821 - val_loss: 0.7531 - val_accuracy: 0.7533\n",
      "Epoch 26/50\n",
      "1563/1562 [==============================] - 222s 142ms/step - loss: 0.6273 - accuracy: 0.7841 - val_loss: 0.6028 - val_accuracy: 0.7945\n",
      "Epoch 27/50\n",
      "1563/1562 [==============================] - 222s 142ms/step - loss: 0.6140 - accuracy: 0.7868 - val_loss: 0.7844 - val_accuracy: 0.7593\n",
      "Epoch 28/50\n",
      "1563/1562 [==============================] - 222s 142ms/step - loss: 0.5999 - accuracy: 0.7914 - val_loss: 0.7311 - val_accuracy: 0.7705\n",
      "Epoch 29/50\n",
      "1563/1562 [==============================] - 222s 142ms/step - loss: 0.5935 - accuracy: 0.7942 - val_loss: 0.5647 - val_accuracy: 0.8081\n",
      "Epoch 30/50\n",
      "1563/1562 [==============================] - 222s 142ms/step - loss: 0.5832 - accuracy: 0.7987 - val_loss: 0.9300 - val_accuracy: 0.7285\n",
      "Epoch 31/50\n",
      "1563/1562 [==============================] - 223s 142ms/step - loss: 0.5696 - accuracy: 0.8012 - val_loss: 0.5801 - val_accuracy: 0.8047\n",
      "Epoch 32/50\n",
      "1563/1562 [==============================] - 222s 142ms/step - loss: 0.5581 - accuracy: 0.8074 - val_loss: 0.7149 - val_accuracy: 0.7788\n",
      "Epoch 33/50\n",
      "1563/1562 [==============================] - 223s 142ms/step - loss: 0.5520 - accuracy: 0.8084 - val_loss: 0.5928 - val_accuracy: 0.8071\n",
      "Epoch 34/50\n",
      "1563/1562 [==============================] - 223s 143ms/step - loss: 0.5424 - accuracy: 0.8128 - val_loss: 0.6979 - val_accuracy: 0.7879\n",
      "Epoch 35/50\n",
      "1563/1562 [==============================] - 224s 143ms/step - loss: 0.5411 - accuracy: 0.8122 - val_loss: 0.5513 - val_accuracy: 0.8158\n",
      "Epoch 36/50\n",
      "1563/1562 [==============================] - 223s 143ms/step - loss: 0.5250 - accuracy: 0.8183 - val_loss: 0.5941 - val_accuracy: 0.8064\n",
      "Epoch 37/50\n",
      "1563/1562 [==============================] - 222s 142ms/step - loss: 0.5167 - accuracy: 0.8216 - val_loss: 0.7703 - val_accuracy: 0.7635\n",
      "Epoch 38/50\n",
      "1563/1562 [==============================] - 223s 143ms/step - loss: 0.5151 - accuracy: 0.8215 - val_loss: 0.5298 - val_accuracy: 0.8195\n",
      "Epoch 39/50\n",
      "1563/1562 [==============================] - 223s 142ms/step - loss: 0.5072 - accuracy: 0.8253 - val_loss: 0.6229 - val_accuracy: 0.7958\n",
      "Epoch 40/50\n",
      "1563/1562 [==============================] - 222s 142ms/step - loss: 0.5005 - accuracy: 0.8263 - val_loss: 0.5387 - val_accuracy: 0.8229\n",
      "Epoch 41/50\n",
      "1563/1562 [==============================] - 222s 142ms/step - loss: 0.4938 - accuracy: 0.8285 - val_loss: 0.4456 - val_accuracy: 0.8493\n",
      "Epoch 42/50\n",
      "1563/1562 [==============================] - 222s 142ms/step - loss: 0.4848 - accuracy: 0.8328 - val_loss: 0.4997 - val_accuracy: 0.8373\n",
      "Epoch 43/50\n",
      "1563/1562 [==============================] - 223s 143ms/step - loss: 0.4817 - accuracy: 0.8322 - val_loss: 0.6552 - val_accuracy: 0.7951\n",
      "Epoch 44/50\n",
      "1563/1562 [==============================] - 222s 142ms/step - loss: 0.4672 - accuracy: 0.8378 - val_loss: 0.4859 - val_accuracy: 0.8408\n",
      "Epoch 45/50\n",
      "1563/1562 [==============================] - 223s 143ms/step - loss: 0.4649 - accuracy: 0.8392 - val_loss: 0.5344 - val_accuracy: 0.8315\n",
      "Epoch 46/50\n",
      "1563/1562 [==============================] - 223s 143ms/step - loss: 0.4561 - accuracy: 0.8418 - val_loss: 0.5993 - val_accuracy: 0.8064\n",
      "Epoch 47/50\n",
      "1563/1562 [==============================] - 223s 142ms/step - loss: 0.4516 - accuracy: 0.8438 - val_loss: 0.5377 - val_accuracy: 0.8313\n",
      "Epoch 48/50\n",
      "1563/1562 [==============================] - 222s 142ms/step - loss: 0.4480 - accuracy: 0.8450 - val_loss: 0.5339 - val_accuracy: 0.8337\n",
      "Epoch 49/50\n",
      "1563/1562 [==============================] - 223s 143ms/step - loss: 0.4409 - accuracy: 0.8468 - val_loss: 0.5507 - val_accuracy: 0.8249\n",
      "Epoch 50/50\n",
      "1563/1562 [==============================] - 222s 142ms/step - loss: 0.4415 - accuracy: 0.8463 - val_loss: 0.5689 - val_accuracy: 0.8188\n"
     ]
    },
    {
     "data": {
      "text/plain": [
       "<tensorflow.python.keras.callbacks.History at 0x18181c99160>"
      ]
     },
     "execution_count": 26,
     "metadata": {},
     "output_type": "execute_result"
    }
   ],
   "source": [
    "model.fit_generator(train_datagen.flow(X_train, y_train, batch_size=32),\n",
    "                    epochs=50,\n",
    "                    steps_per_epoch = X_train.shape[0]/32,\n",
    "                    verbose=1, \n",
    "                    validation_data=test_datagen.flow(X_test, y_test, batch_size=32),\n",
    "                   callbacks=[csv_logger])"
   ]
  },
  {
   "cell_type": "markdown",
   "metadata": {},
   "source": [
    "**Epoch: 50 done**"
   ]
  },
  {
   "cell_type": "code",
   "execution_count": 27,
   "metadata": {
    "scrolled": false
   },
   "outputs": [
    {
     "name": "stderr",
     "output_type": "stream",
     "text": [
      "W0321 16:23:05.149328  9596 data_adapter.py:1091] sample_weight modes were coerced from\n",
      "  ...\n",
      "    to  \n",
      "  ['...']\n",
      "W0321 16:23:05.166312  9596 data_adapter.py:1091] sample_weight modes were coerced from\n",
      "  ...\n",
      "    to  \n",
      "  ['...']\n"
     ]
    },
    {
     "name": "stdout",
     "output_type": "stream",
     "text": [
      "Train for 1562.5 steps, validate for 313 steps\n",
      "Epoch 1/50\n",
      "1563/1562 [==============================] - 222s 142ms/step - loss: 0.4463 - accuracy: 0.8456 - val_loss: 0.5936 - val_accuracy: 0.8172\n",
      "Epoch 2/50\n",
      "1563/1562 [==============================] - 222s 142ms/step - loss: 0.4429 - accuracy: 0.8458 - val_loss: 0.4653 - val_accuracy: 0.8468\n",
      "Epoch 3/50\n",
      "1563/1562 [==============================] - 223s 143ms/step - loss: 0.4376 - accuracy: 0.8502 - val_loss: 0.5645 - val_accuracy: 0.8268\n",
      "Epoch 4/50\n",
      "1563/1562 [==============================] - 224s 143ms/step - loss: 0.4248 - accuracy: 0.8526 - val_loss: 0.4453 - val_accuracy: 0.8550\n",
      "Epoch 5/50\n",
      "1563/1562 [==============================] - 223s 143ms/step - loss: 0.4256 - accuracy: 0.8530 - val_loss: 0.5586 - val_accuracy: 0.8282\n",
      "Epoch 6/50\n",
      "1563/1562 [==============================] - 223s 143ms/step - loss: 0.4216 - accuracy: 0.8544 - val_loss: 0.4700 - val_accuracy: 0.8488\n",
      "Epoch 7/50\n",
      "1563/1562 [==============================] - 223s 143ms/step - loss: 0.4130 - accuracy: 0.8577 - val_loss: 0.5473 - val_accuracy: 0.8234\n",
      "Epoch 8/50\n",
      "1563/1562 [==============================] - 223s 143ms/step - loss: 0.4074 - accuracy: 0.8586 - val_loss: 0.8300 - val_accuracy: 0.7817\n",
      "Epoch 9/50\n",
      "1563/1562 [==============================] - 223s 143ms/step - loss: 0.4042 - accuracy: 0.8607 - val_loss: 0.4540 - val_accuracy: 0.8574\n",
      "Epoch 10/50\n",
      "1563/1562 [==============================] - 224s 143ms/step - loss: 0.3978 - accuracy: 0.8646 - val_loss: 0.4242 - val_accuracy: 0.8652\n",
      "Epoch 11/50\n",
      "1563/1562 [==============================] - 224s 143ms/step - loss: 0.3933 - accuracy: 0.8653 - val_loss: 0.5467 - val_accuracy: 0.8394\n",
      "Epoch 12/50\n",
      "1563/1562 [==============================] - 224s 143ms/step - loss: 0.3899 - accuracy: 0.8647 - val_loss: 0.5973 - val_accuracy: 0.8250\n",
      "Epoch 13/50\n",
      "1563/1562 [==============================] - 223s 143ms/step - loss: 0.3871 - accuracy: 0.8639 - val_loss: 0.4817 - val_accuracy: 0.8457\n",
      "Epoch 14/50\n",
      "1563/1562 [==============================] - 223s 143ms/step - loss: 0.3842 - accuracy: 0.8672 - val_loss: 0.4311 - val_accuracy: 0.8619\n",
      "Epoch 15/50\n",
      "1563/1562 [==============================] - 224s 143ms/step - loss: 0.3787 - accuracy: 0.8703 - val_loss: 0.4190 - val_accuracy: 0.8667\n",
      "Epoch 16/50\n",
      "1563/1562 [==============================] - 223s 143ms/step - loss: 0.3755 - accuracy: 0.8713 - val_loss: 0.6326 - val_accuracy: 0.8199\n",
      "Epoch 17/50\n",
      "1563/1562 [==============================] - 223s 143ms/step - loss: 0.3729 - accuracy: 0.8706 - val_loss: 0.4052 - val_accuracy: 0.8658\n",
      "Epoch 18/50\n",
      "1563/1562 [==============================] - 224s 143ms/step - loss: 0.3646 - accuracy: 0.8748 - val_loss: 0.5043 - val_accuracy: 0.8438\n",
      "Epoch 19/50\n",
      "1563/1562 [==============================] - 223s 143ms/step - loss: 0.3678 - accuracy: 0.8727 - val_loss: 0.5111 - val_accuracy: 0.8492\n",
      "Epoch 20/50\n",
      "1563/1562 [==============================] - 222s 142ms/step - loss: 0.3594 - accuracy: 0.8759 - val_loss: 0.4370 - val_accuracy: 0.8651\n",
      "Epoch 21/50\n",
      "1563/1562 [==============================] - 222s 142ms/step - loss: 0.3590 - accuracy: 0.8757 - val_loss: 0.4262 - val_accuracy: 0.8652\n",
      "Epoch 22/50\n",
      "1563/1562 [==============================] - 222s 142ms/step - loss: 0.3516 - accuracy: 0.8774 - val_loss: 0.4380 - val_accuracy: 0.8680\n",
      "Epoch 23/50\n",
      "1563/1562 [==============================] - 222s 142ms/step - loss: 0.3508 - accuracy: 0.8792 - val_loss: 0.4342 - val_accuracy: 0.8665\n",
      "Epoch 24/50\n",
      "1563/1562 [==============================] - 222s 142ms/step - loss: 0.3487 - accuracy: 0.8794 - val_loss: 0.4061 - val_accuracy: 0.8707\n",
      "Epoch 25/50\n",
      "1563/1562 [==============================] - 222s 142ms/step - loss: 0.3459 - accuracy: 0.8805 - val_loss: 0.4344 - val_accuracy: 0.8708\n",
      "Epoch 26/50\n",
      "1563/1562 [==============================] - 222s 142ms/step - loss: 0.3431 - accuracy: 0.8802 - val_loss: 0.3738 - val_accuracy: 0.8767\n",
      "Epoch 27/50\n",
      "1563/1562 [==============================] - 222s 142ms/step - loss: 0.3339 - accuracy: 0.8836 - val_loss: 0.4750 - val_accuracy: 0.8541\n",
      "Epoch 28/50\n",
      "1563/1562 [==============================] - 222s 142ms/step - loss: 0.3387 - accuracy: 0.8820 - val_loss: 0.4335 - val_accuracy: 0.8626\n",
      "Epoch 29/50\n",
      "1563/1562 [==============================] - 222s 142ms/step - loss: 0.3289 - accuracy: 0.8863 - val_loss: 0.5189 - val_accuracy: 0.8440\n",
      "Epoch 30/50\n",
      "1563/1562 [==============================] - 222s 142ms/step - loss: 0.3284 - accuracy: 0.8867 - val_loss: 0.4083 - val_accuracy: 0.8726\n",
      "Epoch 31/50\n",
      "1563/1562 [==============================] - 222s 142ms/step - loss: 0.3252 - accuracy: 0.8862 - val_loss: 0.4942 - val_accuracy: 0.8559\n",
      "Epoch 32/50\n",
      "1563/1562 [==============================] - 222s 142ms/step - loss: 0.3224 - accuracy: 0.8880 - val_loss: 0.4219 - val_accuracy: 0.8714\n",
      "Epoch 33/50\n",
      "1563/1562 [==============================] - 222s 142ms/step - loss: 0.3205 - accuracy: 0.8903 - val_loss: 0.4560 - val_accuracy: 0.8683\n",
      "Epoch 34/50\n",
      "1563/1562 [==============================] - 222s 142ms/step - loss: 0.3165 - accuracy: 0.8908 - val_loss: 0.5106 - val_accuracy: 0.8424\n",
      "Epoch 35/50\n",
      "1563/1562 [==============================] - 222s 142ms/step - loss: 0.3238 - accuracy: 0.8886 - val_loss: 0.4943 - val_accuracy: 0.8617\n",
      "Epoch 36/50\n",
      "1563/1562 [==============================] - 222s 142ms/step - loss: 0.3153 - accuracy: 0.8911 - val_loss: 0.4072 - val_accuracy: 0.8748\n",
      "Epoch 37/50\n",
      "1563/1562 [==============================] - 222s 142ms/step - loss: 0.3155 - accuracy: 0.8896 - val_loss: 0.3964 - val_accuracy: 0.8721\n",
      "Epoch 38/50\n",
      "1563/1562 [==============================] - 222s 142ms/step - loss: 0.3138 - accuracy: 0.8922 - val_loss: 0.4638 - val_accuracy: 0.8659\n",
      "Epoch 39/50\n",
      "1563/1562 [==============================] - 222s 142ms/step - loss: 0.3103 - accuracy: 0.8933 - val_loss: 0.3942 - val_accuracy: 0.8738\n",
      "Epoch 40/50\n",
      "1563/1562 [==============================] - 222s 142ms/step - loss: 0.3084 - accuracy: 0.8924 - val_loss: 0.4204 - val_accuracy: 0.8745\n",
      "Epoch 41/50\n",
      "1563/1562 [==============================] - 222s 142ms/step - loss: 0.3022 - accuracy: 0.8958 - val_loss: 0.4075 - val_accuracy: 0.8733\n",
      "Epoch 42/50\n",
      "1563/1562 [==============================] - 222s 142ms/step - loss: 0.3023 - accuracy: 0.8965 - val_loss: 0.3931 - val_accuracy: 0.8693\n",
      "Epoch 43/50\n",
      "1563/1562 [==============================] - 222s 142ms/step - loss: 0.2950 - accuracy: 0.8971 - val_loss: 0.5113 - val_accuracy: 0.8585\n",
      "Epoch 44/50\n",
      "1563/1562 [==============================] - 222s 142ms/step - loss: 0.3038 - accuracy: 0.8936 - val_loss: 0.4713 - val_accuracy: 0.8678\n",
      "Epoch 45/50\n",
      "1563/1562 [==============================] - 222s 142ms/step - loss: 0.2916 - accuracy: 0.8974 - val_loss: 0.3931 - val_accuracy: 0.8784\n",
      "Epoch 46/50\n",
      "1563/1562 [==============================] - 222s 142ms/step - loss: 0.2923 - accuracy: 0.8990 - val_loss: 0.3997 - val_accuracy: 0.8799\n",
      "Epoch 47/50\n",
      "1563/1562 [==============================] - 222s 142ms/step - loss: 0.2885 - accuracy: 0.8999 - val_loss: 0.3992 - val_accuracy: 0.8768\n",
      "Epoch 48/50\n",
      "1563/1562 [==============================] - 222s 142ms/step - loss: 0.2906 - accuracy: 0.8989 - val_loss: 0.3701 - val_accuracy: 0.8855\n",
      "Epoch 49/50\n",
      "1563/1562 [==============================] - 222s 142ms/step - loss: 0.2889 - accuracy: 0.8988 - val_loss: 0.3935 - val_accuracy: 0.8857\n",
      "Epoch 50/50\n",
      "1563/1562 [==============================] - 222s 142ms/step - loss: 0.2843 - accuracy: 0.9010 - val_loss: 0.4761 - val_accuracy: 0.8691\n"
     ]
    },
    {
     "data": {
      "text/plain": [
       "<tensorflow.python.keras.callbacks.History at 0x18181cd5160>"
      ]
     },
     "execution_count": 27,
     "metadata": {},
     "output_type": "execute_result"
    }
   ],
   "source": [
    "model.fit_generator(train_datagen.flow(X_train, y_train, batch_size=32),\n",
    "                    epochs=50,\n",
    "                    steps_per_epoch = X_train.shape[0]/32,\n",
    "                    verbose=1, \n",
    "                    validation_data=test_datagen.flow(X_test, y_test, batch_size=32),\n",
    "                   callbacks=[csv_logger])"
   ]
  },
  {
   "cell_type": "markdown",
   "metadata": {},
   "source": [
    "**Epoch: 100 done**"
   ]
  },
  {
   "cell_type": "code",
   "execution_count": 28,
   "metadata": {},
   "outputs": [],
   "source": [
    "model.save_weights('Denset_Checkpt1.h5')"
   ]
  },
  {
   "cell_type": "code",
   "execution_count": 29,
   "metadata": {
    "scrolled": false
   },
   "outputs": [
    {
     "name": "stderr",
     "output_type": "stream",
     "text": [
      "W0321 19:28:33.631057  9596 data_adapter.py:1091] sample_weight modes were coerced from\n",
      "  ...\n",
      "    to  \n",
      "  ['...']\n",
      "W0321 19:28:33.649005  9596 data_adapter.py:1091] sample_weight modes were coerced from\n",
      "  ...\n",
      "    to  \n",
      "  ['...']\n"
     ]
    },
    {
     "name": "stdout",
     "output_type": "stream",
     "text": [
      "Train for 1562.5 steps, validate for 313 steps\n",
      "Epoch 1/50\n",
      "1563/1562 [==============================] - 222s 142ms/step - loss: 0.2992 - accuracy: 0.8974 - val_loss: 0.3389 - val_accuracy: 0.8907\n",
      "Epoch 2/50\n",
      "1563/1562 [==============================] - 222s 142ms/step - loss: 0.2966 - accuracy: 0.8983 - val_loss: 0.4106 - val_accuracy: 0.8785\n",
      "Epoch 3/50\n",
      "1563/1562 [==============================] - 223s 142ms/step - loss: 0.2931 - accuracy: 0.8985 - val_loss: 0.3354 - val_accuracy: 0.8920\n",
      "Epoch 4/50\n",
      "1563/1562 [==============================] - 222s 142ms/step - loss: 0.2946 - accuracy: 0.8981 - val_loss: 0.4036 - val_accuracy: 0.8782\n",
      "Epoch 5/50\n",
      "1563/1562 [==============================] - 222s 142ms/step - loss: 0.2886 - accuracy: 0.9002 - val_loss: 0.3798 - val_accuracy: 0.8878\n",
      "Epoch 6/50\n",
      "1563/1562 [==============================] - 222s 142ms/step - loss: 0.2875 - accuracy: 0.9010 - val_loss: 0.3944 - val_accuracy: 0.8784\n",
      "Epoch 7/50\n",
      "1563/1562 [==============================] - 222s 142ms/step - loss: 0.2782 - accuracy: 0.9032 - val_loss: 0.3948 - val_accuracy: 0.8856\n",
      "Epoch 8/50\n",
      "1563/1562 [==============================] - 222s 142ms/step - loss: 0.2779 - accuracy: 0.9030 - val_loss: 0.3621 - val_accuracy: 0.8852\n",
      "Epoch 9/50\n",
      "1563/1562 [==============================] - 222s 142ms/step - loss: 0.2782 - accuracy: 0.9035 - val_loss: 0.3893 - val_accuracy: 0.8803\n",
      "Epoch 10/50\n",
      "1563/1562 [==============================] - 222s 142ms/step - loss: 0.2739 - accuracy: 0.9040 - val_loss: 0.3843 - val_accuracy: 0.8840\n",
      "Epoch 11/50\n",
      "1563/1562 [==============================] - 222s 142ms/step - loss: 0.2745 - accuracy: 0.9039 - val_loss: 0.3379 - val_accuracy: 0.8967\n",
      "Epoch 12/50\n",
      "1563/1562 [==============================] - 222s 142ms/step - loss: 0.2664 - accuracy: 0.9083 - val_loss: 0.3664 - val_accuracy: 0.8827\n",
      "Epoch 13/50\n",
      "1563/1562 [==============================] - 222s 142ms/step - loss: 0.2722 - accuracy: 0.9058 - val_loss: 0.3468 - val_accuracy: 0.8927\n",
      "Epoch 14/50\n",
      "1563/1562 [==============================] - 222s 142ms/step - loss: 0.2631 - accuracy: 0.9098 - val_loss: 0.4081 - val_accuracy: 0.8746\n",
      "Epoch 15/50\n",
      "1563/1562 [==============================] - 222s 142ms/step - loss: 0.2653 - accuracy: 0.9075 - val_loss: 0.3440 - val_accuracy: 0.8878\n",
      "Epoch 16/50\n",
      "1563/1562 [==============================] - 222s 142ms/step - loss: 0.2663 - accuracy: 0.9074 - val_loss: 0.3715 - val_accuracy: 0.8897\n",
      "Epoch 17/50\n",
      "1563/1562 [==============================] - 222s 142ms/step - loss: 0.2635 - accuracy: 0.9088 - val_loss: 0.3515 - val_accuracy: 0.8916\n",
      "Epoch 18/50\n",
      "1563/1562 [==============================] - 224s 143ms/step - loss: 0.2638 - accuracy: 0.9088 - val_loss: 0.4148 - val_accuracy: 0.8711\n",
      "Epoch 19/50\n",
      "1563/1562 [==============================] - 222s 142ms/step - loss: 0.2603 - accuracy: 0.9094 - val_loss: 0.4037 - val_accuracy: 0.8812\n",
      "Epoch 20/50\n",
      "1563/1562 [==============================] - 222s 142ms/step - loss: 0.2570 - accuracy: 0.9097 - val_loss: 0.3574 - val_accuracy: 0.8919\n",
      "Epoch 21/50\n",
      "1563/1562 [==============================] - 222s 142ms/step - loss: 0.2590 - accuracy: 0.9097 - val_loss: 0.3898 - val_accuracy: 0.8819\n",
      "Epoch 22/50\n",
      "1563/1562 [==============================] - 222s 142ms/step - loss: 0.2578 - accuracy: 0.9106 - val_loss: 0.4071 - val_accuracy: 0.8868\n",
      "Epoch 23/50\n",
      "1563/1562 [==============================] - 222s 142ms/step - loss: 0.2487 - accuracy: 0.9124 - val_loss: 0.3912 - val_accuracy: 0.8819\n",
      "Epoch 24/50\n",
      "1563/1562 [==============================] - 222s 142ms/step - loss: 0.2496 - accuracy: 0.9133 - val_loss: 0.4227 - val_accuracy: 0.8750\n",
      "Epoch 25/50\n",
      "1563/1562 [==============================] - 222s 142ms/step - loss: 0.2508 - accuracy: 0.9127 - val_loss: 0.3445 - val_accuracy: 0.8932\n",
      "Epoch 26/50\n",
      "1563/1562 [==============================] - 222s 142ms/step - loss: 0.2495 - accuracy: 0.9123 - val_loss: 0.4402 - val_accuracy: 0.8742\n",
      "Epoch 27/50\n",
      "1563/1562 [==============================] - 222s 142ms/step - loss: 0.2480 - accuracy: 0.9132 - val_loss: 0.4640 - val_accuracy: 0.8731\n",
      "Epoch 28/50\n",
      "1563/1562 [==============================] - 222s 142ms/step - loss: 0.2448 - accuracy: 0.9141 - val_loss: 0.4153 - val_accuracy: 0.8811\n",
      "Epoch 29/50\n",
      "1563/1562 [==============================] - 222s 142ms/step - loss: 0.2493 - accuracy: 0.9118 - val_loss: 0.3398 - val_accuracy: 0.8981\n",
      "Epoch 30/50\n",
      "1563/1562 [==============================] - 222s 142ms/step - loss: 0.2442 - accuracy: 0.9133 - val_loss: 0.3875 - val_accuracy: 0.8858\n",
      "Epoch 31/50\n",
      "1563/1562 [==============================] - 222s 142ms/step - loss: 0.2426 - accuracy: 0.9152 - val_loss: 0.3650 - val_accuracy: 0.8931\n",
      "Epoch 32/50\n",
      "1563/1562 [==============================] - 222s 142ms/step - loss: 0.2389 - accuracy: 0.9178 - val_loss: 0.3438 - val_accuracy: 0.8968\n",
      "Epoch 33/50\n",
      "1563/1562 [==============================] - 222s 142ms/step - loss: 0.2386 - accuracy: 0.9179 - val_loss: 0.3871 - val_accuracy: 0.8890\n",
      "Epoch 34/50\n",
      "1563/1562 [==============================] - 222s 142ms/step - loss: 0.2398 - accuracy: 0.9163 - val_loss: 0.3298 - val_accuracy: 0.8950\n",
      "Epoch 35/50\n",
      "1563/1562 [==============================] - 221s 141ms/step - loss: 0.2409 - accuracy: 0.9170 - val_loss: 0.3384 - val_accuracy: 0.9005\n",
      "Epoch 36/50\n",
      "1563/1562 [==============================] - 221s 142ms/step - loss: 0.2410 - accuracy: 0.9159 - val_loss: 0.3076 - val_accuracy: 0.9045\n",
      "Epoch 37/50\n",
      "1563/1562 [==============================] - 221s 142ms/step - loss: 0.2302 - accuracy: 0.9204 - val_loss: 0.5778 - val_accuracy: 0.8503\n",
      "Epoch 38/50\n",
      "1563/1562 [==============================] - 221s 141ms/step - loss: 0.2288 - accuracy: 0.9201 - val_loss: 0.4000 - val_accuracy: 0.8858\n",
      "Epoch 39/50\n",
      "1563/1562 [==============================] - 221s 142ms/step - loss: 0.2318 - accuracy: 0.9201 - val_loss: 0.3146 - val_accuracy: 0.9014\n",
      "Epoch 40/50\n",
      "1563/1562 [==============================] - 221s 142ms/step - loss: 0.2277 - accuracy: 0.9213 - val_loss: 0.3881 - val_accuracy: 0.8876\n",
      "Epoch 41/50\n",
      "1563/1562 [==============================] - 222s 142ms/step - loss: 0.2315 - accuracy: 0.9188 - val_loss: 0.3346 - val_accuracy: 0.9024\n",
      "Epoch 42/50\n",
      "1563/1562 [==============================] - 222s 142ms/step - loss: 0.2305 - accuracy: 0.9190 - val_loss: 0.3295 - val_accuracy: 0.9002\n",
      "Epoch 43/50\n",
      "1563/1562 [==============================] - 222s 142ms/step - loss: 0.2267 - accuracy: 0.9212 - val_loss: 0.3730 - val_accuracy: 0.8894\n",
      "Epoch 44/50\n",
      "1563/1562 [==============================] - 222s 142ms/step - loss: 0.2300 - accuracy: 0.9199 - val_loss: 0.3888 - val_accuracy: 0.8871\n",
      "Epoch 45/50\n",
      "1563/1562 [==============================] - 222s 142ms/step - loss: 0.2263 - accuracy: 0.9205 - val_loss: 0.3949 - val_accuracy: 0.8831\n",
      "Epoch 46/50\n",
      "1563/1562 [==============================] - 222s 142ms/step - loss: 0.2247 - accuracy: 0.9214 - val_loss: 0.3954 - val_accuracy: 0.8842\n",
      "Epoch 47/50\n",
      "1563/1562 [==============================] - 222s 142ms/step - loss: 0.2242 - accuracy: 0.9217 - val_loss: 0.3367 - val_accuracy: 0.8984\n",
      "Epoch 48/50\n",
      "1563/1562 [==============================] - 222s 142ms/step - loss: 0.2192 - accuracy: 0.9215 - val_loss: 0.3432 - val_accuracy: 0.8938\n",
      "Epoch 49/50\n",
      "1563/1562 [==============================] - 222s 142ms/step - loss: 0.2170 - accuracy: 0.9231 - val_loss: 0.3952 - val_accuracy: 0.8843\n",
      "Epoch 50/50\n",
      "1563/1562 [==============================] - 223s 142ms/step - loss: 0.2180 - accuracy: 0.9247 - val_loss: 0.3744 - val_accuracy: 0.8871\n"
     ]
    },
    {
     "data": {
      "text/plain": [
       "<tensorflow.python.keras.callbacks.History at 0x18181d19390>"
      ]
     },
     "execution_count": 29,
     "metadata": {},
     "output_type": "execute_result"
    }
   ],
   "source": [
    "model.fit_generator(train_datagen.flow(X_train, y_train, batch_size=32),\n",
    "                    epochs=50,\n",
    "                    steps_per_epoch = X_train.shape[0]/32,\n",
    "                    verbose=1, \n",
    "                    validation_data=test_datagen.flow(X_test, y_test, batch_size=32),\n",
    "                   callbacks=[csv_logger])"
   ]
  },
  {
   "cell_type": "markdown",
   "metadata": {},
   "source": [
    "**Epoch: 150 done**"
   ]
  },
  {
   "cell_type": "code",
   "execution_count": 30,
   "metadata": {},
   "outputs": [],
   "source": [
    "tf.keras.backend.set_value(model.optimizer.lr, 0.01)"
   ]
  },
  {
   "cell_type": "code",
   "execution_count": 31,
   "metadata": {
    "scrolled": false
   },
   "outputs": [
    {
     "name": "stderr",
     "output_type": "stream",
     "text": [
      "W0321 22:33:33.005362  9596 data_adapter.py:1091] sample_weight modes were coerced from\n",
      "  ...\n",
      "    to  \n",
      "  ['...']\n",
      "W0321 22:33:33.024336  9596 data_adapter.py:1091] sample_weight modes were coerced from\n",
      "  ...\n",
      "    to  \n",
      "  ['...']\n"
     ]
    },
    {
     "name": "stdout",
     "output_type": "stream",
     "text": [
      "Train for 1562.5 steps, validate for 313 steps\n",
      "Epoch 1/5\n",
      "1563/1562 [==============================] - 225s 144ms/step - loss: 0.1958 - accuracy: 0.9319 - val_loss: 0.2911 - val_accuracy: 0.9109\n",
      "Epoch 2/5\n",
      "1563/1562 [==============================] - 226s 144ms/step - loss: 0.1761 - accuracy: 0.9385 - val_loss: 0.2952 - val_accuracy: 0.9091\n",
      "Epoch 3/5\n",
      "1563/1562 [==============================] - 225s 144ms/step - loss: 0.1699 - accuracy: 0.9409 - val_loss: 0.2909 - val_accuracy: 0.9120\n",
      "Epoch 4/5\n",
      "1563/1562 [==============================] - 222s 142ms/step - loss: 0.1695 - accuracy: 0.9408 - val_loss: 0.2977 - val_accuracy: 0.9114\n",
      "Epoch 5/5\n",
      "1563/1562 [==============================] - 222s 142ms/step - loss: 0.1654 - accuracy: 0.9423 - val_loss: 0.2951 - val_accuracy: 0.9124\n"
     ]
    },
    {
     "data": {
      "text/plain": [
       "<tensorflow.python.keras.callbacks.History at 0x18185e980f0>"
      ]
     },
     "execution_count": 31,
     "metadata": {},
     "output_type": "execute_result"
    }
   ],
   "source": [
    "model.fit_generator(train_datagen.flow(X_train, y_train, batch_size=32),\n",
    "                    epochs=5,\n",
    "                    steps_per_epoch = X_train.shape[0]/32,\n",
    "                    verbose=1, \n",
    "                    validation_data=test_datagen.flow(X_test, y_test, batch_size=32),\n",
    "                   callbacks=[csv_logger])"
   ]
  },
  {
   "cell_type": "markdown",
   "metadata": {},
   "source": [
    "**Epoch: 155 done**"
   ]
  },
  {
   "cell_type": "markdown",
   "metadata": {},
   "source": [
    "__Stopped trained epoch here to avoid overfitting__ <br>\n",
    "__Achieved above 90% test accuracy as per assignment task__"
   ]
  },
  {
   "cell_type": "code",
   "execution_count": 32,
   "metadata": {},
   "outputs": [],
   "source": [
    "model.save_weights('Denset_Checkpt2.h5')"
   ]
  },
  {
   "cell_type": "code",
   "execution_count": null,
   "metadata": {},
   "outputs": [],
   "source": []
  },
  {
   "cell_type": "code",
   "execution_count": 33,
   "metadata": {},
   "outputs": [
    {
     "name": "stdout",
     "output_type": "stream",
     "text": [
      "10000/10000 [==============================] - 11s 1ms/sample - loss: 0.2955 - accuracy: 0.9124 19s - loss: 0.2592 - accuracy: 0. - ETA: 16s - loss: 0.2564 - accuracy - ETA - ETA: 8s - loss: 0.3054 - accuracy: 0. - ETA: 8s - loss: 0.3025 - accura - ETA: 7s - loss: 0.3097 - accuracy: 0. - ETA: 7s - loss: 0.3051 -  - ETA: 6s - - ETA: 5s - loss: - ETA: 4s - - ETA: 2s - los - ETA: 1s - - ETA: 0s - loss: 0.2999 - accu - ETA: 0s - loss: 0.2976 - accuracy:  - ETA: 0s - loss: 0.2959 - accuracy: 0.\n"
     ]
    }
   ],
   "source": [
    "# Test the model\n",
    "score = model.evaluate(X_test/255, y_test, verbose=1)"
   ]
  },
  {
   "cell_type": "code",
   "execution_count": 34,
   "metadata": {},
   "outputs": [
    {
     "name": "stdout",
     "output_type": "stream",
     "text": [
      "Test loss: 0.29551431020498276\n",
      "Test accuracy: 0.9124\n"
     ]
    }
   ],
   "source": [
    "print('Test loss:', score[0])\n",
    "print('Test accuracy:', score[1])"
   ]
  },
  {
   "cell_type": "code",
   "execution_count": null,
   "metadata": {},
   "outputs": [],
   "source": []
  }
 ],
 "metadata": {
  "colab": {
   "authorship_tag": "ABX9TyNaIt56zsGmLt/2WHiy+FbC",
   "collapsed_sections": [],
   "name": "Untitled0.ipynb",
   "provenance": []
  },
  "kernelspec": {
   "display_name": "Python 3",
   "language": "python",
   "name": "python3"
  },
  "language_info": {
   "codemirror_mode": {
    "name": "ipython",
    "version": 3
   },
   "file_extension": ".py",
   "mimetype": "text/x-python",
   "name": "python",
   "nbconvert_exporter": "python",
   "pygments_lexer": "ipython3",
   "version": "3.6.8"
  }
 },
 "nbformat": 4,
 "nbformat_minor": 1
}
